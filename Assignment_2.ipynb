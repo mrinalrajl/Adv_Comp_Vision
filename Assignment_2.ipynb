{
  "cells": [
    {
      "cell_type": "markdown",
      "metadata": {
        "id": "view-in-github",
        "colab_type": "text"
      },
      "source": [
        "<a href=\"https://colab.research.google.com/github/mrinalrajl/Adv_Comp_Vision/blob/main/Assignment_2.ipynb\" target=\"_parent\"><img src=\"https://colab.research.google.com/assets/colab-badge.svg\" alt=\"Open In Colab\"/></a>"
      ]
    },
    {
      "cell_type": "markdown",
      "source": [
        "# Import Necceesary Packages"
      ],
      "metadata": {
        "id": "vTlF-2X5sqkG"
      }
    },
    {
      "cell_type": "code",
      "execution_count": 1,
      "metadata": {
        "id": "BtZgSLJk2ujv"
      },
      "outputs": [],
      "source": [
        "import cv2\n",
        "import numpy as np\n",
        "import matplotlib.pyplot as plt\n",
        "import glob\n",
        "import random\n",
        "import time\n",
        "\n",
        "import torch\n",
        "import torchvision\n",
        "import torchvision.transforms as transforms\n",
        "import torchvision.models as models\n",
        "from torch.utils.data import DataLoader, SubsetRandomSampler\n",
        "from torchvision.datasets import ImageFolder\n",
        "from tqdm import tqdm\n",
        "\n",
        "from torch.autograd import Variable\n",
        "import torch.nn as nn\n",
        "import torch.nn.functional as F"
      ]
    },
    {
      "cell_type": "code",
      "execution_count": 2,
      "metadata": {
        "colab": {
          "base_uri": "https://localhost:8080/"
        },
        "id": "HjXAy3tzBvUw",
        "outputId": "9a92b77c-0d67-4a1e-9eee-d2fc37d560ce"
      },
      "outputs": [
        {
          "output_type": "stream",
          "name": "stdout",
          "text": [
            "Mounted at /content/gdrive\n"
          ]
        }
      ],
      "source": [
        "from google.colab import drive\n",
        "drive.mount('/content/gdrive')"
      ]
    },
    {
      "cell_type": "code",
      "execution_count": 3,
      "metadata": {
        "colab": {
          "base_uri": "https://localhost:8080/"
        },
        "id": "2WHgPvmtB4BV",
        "outputId": "35f01a50-7db1-4630-f424-1913cd6ccc1a"
      },
      "outputs": [
        {
          "output_type": "stream",
          "name": "stdout",
          "text": [
            "/content/gdrive/My Drive/ITCS_6010\n"
          ]
        }
      ],
      "source": [
        "# Replace '------' with the path such that \"ITCS_6010_8010_assignment1\" is your working directory\n",
        "%cd '/content/gdrive/My Drive/ITCS_6010/'"
      ]
    },
    {
      "cell_type": "markdown",
      "source": [
        "Given Sample Code for Labels in the given data"
      ],
      "metadata": {
        "id": "VIr4iWYttRqL"
      }
    },
    {
      "cell_type": "code",
      "execution_count": 4,
      "metadata": {
        "colab": {
          "base_uri": "https://localhost:8080/"
        },
        "id": "lrfzx8xd4FaK",
        "outputId": "077edbba-d86a-430b-cf8c-6e2cc84166a6"
      },
      "outputs": [
        {
          "output_type": "stream",
          "name": "stderr",
          "text": [
            "/usr/local/lib/python3.10/dist-packages/albumentations/__init__.py:13: UserWarning: A new version of Albumentations is available: 1.4.18 (you have 1.4.15). Upgrade using: pip install -U albumentations. To disable automatic update checks, set the environment variable NO_ALBUMENTATIONS_UPDATE to 1.\n",
            "  check_for_updates()\n"
          ]
        },
        {
          "output_type": "stream",
          "name": "stdout",
          "text": [
            "class_names: {0: 'Bedroom', 1: 'Coast', 2: 'Flower', 3: 'Forest', 4: 'Highway', 5: 'Industrial', 6: 'InsideCity', 7: 'Kitchen', 8: 'LivingRoom', 9: 'Mountain', 10: 'Office', 11: 'OpenCountry', 12: 'Store', 13: 'Street', 14: 'Suburb', 15: 'TallBuilding'} \n"
          ]
        }
      ],
      "source": [
        "import albumentations\n",
        "\n",
        "def set_random_seed(seed):\n",
        "    torch.manual_seed(seed)\n",
        "    torch.cuda.manual_seed_all(seed)\n",
        "    np.random.seed(seed)\n",
        "    random.seed(seed)\n",
        "    torch.backends.cudnn.deterministic = True\n",
        "\n",
        "set_random_seed(0)\n",
        "\n",
        "# Define the base path for the training data and sort the class directories\n",
        "base_path = './train/'\n",
        "directory_paths = sorted(glob.glob(base_path + '*'))\n",
        "class_names = {i: path.split('/')[-1] for i, path in enumerate(directory_paths)}\n",
        "print(\"class_names: %s \" % class_names)\n",
        "\n",
        "def load_dataset(path, img_size, num_per_class=-1, batch_size=16, shuffle=False,\n",
        "                 augment=False, is_color=False, zero_centered=False, mirror=False,\n",
        "                 rotate=False, together=False):\n",
        "    set_random_seed(0)\n",
        "    data = []\n",
        "    labels = []\n",
        "    channel_num = 3 if is_color else 1\n",
        "\n",
        "    # Load and process images\n",
        "    for id, class_name in class_names.items():\n",
        "        print(\"Loading images from class: %s\" % class_name)\n",
        "        img_path_class = glob.glob(path + class_name + '/*.jpg')\n",
        "        if num_per_class > 0:\n",
        "            img_path_class = img_path_class[:num_per_class]\n",
        "        labels.extend([id] * len(img_path_class))\n",
        "        for filename in img_path_class:\n",
        "            img = cv2.imread(filename, cv2.IMREAD_COLOR if is_color else cv2.IMREAD_GRAYSCALE)\n",
        "            img = cv2.resize(img, (img_size[1], img_size[0]), interpolation=cv2.INTER_LINEAR)\n",
        "            if is_color:\n",
        "                img = np.transpose(img, (2, 0, 1))\n",
        "            img = img.astype(np.float32) / 255.0 * 2 - 1\n",
        "            data.append(img)\n",
        "\n",
        "    # Apply data augmentation\n",
        "    if augment:\n",
        "        augments = {\n",
        "            'mirror': albumentations.HorizontalFlip(p=1),\n",
        "            'rotate': albumentations.Rotate(limit=30, p=1, border_mode=0)\n",
        "        }\n",
        "\n",
        "        augmented_data = []\n",
        "        for img in data:\n",
        "            img_aug = img\n",
        "            if mirror:\n",
        "                img_aug = augments['mirror'](image=img_aug)['image']\n",
        "            if rotate:\n",
        "                img_aug = augments['rotate'](image=img_aug)['image']\n",
        "            if together:\n",
        "                img_aug = augments['mirror'](image=img_aug)['image']\n",
        "                img_aug = augments['rotate'](image=img_aug)['image']\n",
        "            augmented_data.append(img_aug)\n",
        "        data.extend(augmented_data)\n",
        "        labels.extend(labels[:len(augmented_data)])\n",
        "\n",
        "    # Normalize the data\n",
        "    if zero_centered:\n",
        "        mean_color = [0.485, 0.456, 0.406] if is_color else 0.5\n",
        "        std_color = [0.229, 0.224, 0.225] if is_color else 0.5\n",
        "        for i, img in enumerate(data):\n",
        "            if is_color:\n",
        "                for c in range(3):\n",
        "                    data[i][c] = (img[c] - mean_color[c]) / std_color[c]\n",
        "            else:\n",
        "                data[i] = (img - mean_color) / std_color\n",
        "\n",
        "    # Shuffle the data\n",
        "    if shuffle:\n",
        "        combined = list(zip(data, labels))\n",
        "        random.shuffle(combined)\n",
        "        data, labels = zip(*combined)\n",
        "\n",
        "    # Batch the data\n",
        "    batch_data = []\n",
        "    batch_labels = []\n",
        "    for i in range(0, len(data), batch_size):\n",
        "        batch_data.append(torch.tensor(data[i:i+batch_size]))\n",
        "        batch_labels.append(torch.tensor(labels[i:i+batch_size], dtype=torch.int64))\n",
        "\n",
        "    return zip(batch_data, batch_labels)\n"
      ]
    },
    {
      "cell_type": "markdown",
      "source": [
        "Given bash"
      ],
      "metadata": {
        "id": "_b1JLnD9tisS"
      }
    },
    {
      "cell_type": "code",
      "execution_count": 5,
      "metadata": {
        "colab": {
          "base_uri": "https://localhost:8080/"
        },
        "id": "5ZoliRUZ5jAp",
        "outputId": "e841a2ee-6942-48f7-ccf3-099748909997"
      },
      "outputs": [
        {
          "output_type": "stream",
          "name": "stdout",
          "text": [
            "Loading images from class: Bedroom\n",
            "Loading images from class: Coast\n",
            "Loading images from class: Flower\n",
            "Loading images from class: Forest\n",
            "Loading images from class: Highway\n",
            "Loading images from class: Industrial\n",
            "Loading images from class: InsideCity\n",
            "Loading images from class: Kitchen\n",
            "Loading images from class: LivingRoom\n",
            "Loading images from class: Mountain\n",
            "Loading images from class: Office\n",
            "Loading images from class: OpenCountry\n",
            "Loading images from class: Store\n",
            "Loading images from class: Street\n",
            "Loading images from class: Suburb\n",
            "Loading images from class: TallBuilding\n"
          ]
        },
        {
          "output_type": "stream",
          "name": "stderr",
          "text": [
            "<ipython-input-4-45417c440e0d>:83: UserWarning: Creating a tensor from a list of numpy.ndarrays is extremely slow. Please consider converting the list to a single numpy.ndarray with numpy.array() before converting to a tensor. (Triggered internally at ../torch/csrc/utils/tensor_new.cpp:278.)\n",
            "  batch_data.append(torch.tensor(data[i:i+batch_size]))\n"
          ]
        },
        {
          "output_type": "stream",
          "name": "stdout",
          "text": [
            "Finish loading 38 minibatches (batch_size=64) of training samples.\n",
            "Loading images from class: Bedroom\n",
            "Loading images from class: Coast\n",
            "Loading images from class: Flower\n",
            "Loading images from class: Forest\n",
            "Loading images from class: Highway\n",
            "Loading images from class: Industrial\n",
            "Loading images from class: InsideCity\n",
            "Loading images from class: Kitchen\n",
            "Loading images from class: LivingRoom\n",
            "Loading images from class: Mountain\n",
            "Loading images from class: Office\n",
            "Loading images from class: OpenCountry\n",
            "Loading images from class: Store\n",
            "Loading images from class: Street\n",
            "Loading images from class: Suburb\n",
            "Loading images from class: TallBuilding\n",
            "Finish loading 7 minibatches (batch_size=64) of testing samples.\n"
          ]
        }
      ],
      "source": [
        "# load data into size (64, 64)\n",
        "img_size = (64, 64)\n",
        "batch_size = 64 # training sample number per batch\n",
        "\n",
        "# load training dataset\n",
        "trainloader_small = list(load_dataset('./train/', img_size, batch_size=batch_size, shuffle=True))\n",
        "train_num = len(trainloader_small)\n",
        "print(\"Finish loading %d minibatches (batch_size=%d) of training samples.\" % (train_num, batch_size))\n",
        "\n",
        "# load testing dataset\n",
        "testloader_small = list(load_dataset('./test/', img_size, num_per_class=50, batch_size=batch_size))\n",
        "test_num = len(testloader_small)\n",
        "print(\"Finish loading %d minibatches (batch_size=%d) of testing samples.\" % (test_num, batch_size))"
      ]
    },
    {
      "cell_type": "code",
      "execution_count": 6,
      "metadata": {
        "id": "e2Ap6w8D9JEk",
        "colab": {
          "base_uri": "https://localhost:8080/",
          "height": 449
        },
        "outputId": "0c604fbb-c53e-4919-9de0-4943355afde7"
      },
      "outputs": [
        {
          "output_type": "stream",
          "name": "stdout",
          "text": [
            "TallBuilding\n"
          ]
        },
        {
          "output_type": "display_data",
          "data": {
            "text/plain": [
              "<Figure size 640x480 with 1 Axes>"
            ],
            "image/png": "[encoded data removed]"
          },
          "metadata": {}
        }
      ],
      "source": [
        "import matplotlib.pyplot as plt\n",
        "\n",
        "def imshow(img):\n",
        "    img = img / 2 + 0.5  # Unnormalize\n",
        "    npimg = img.numpy()\n",
        "    if len(npimg.shape) == 3 and npimg.shape[0] == 3:  # Check if it's a color image in CxHxW format\n",
        "        npimg = np.transpose(npimg, (1, 2, 0))  # Convert to HxWxC format for matplotlib\n",
        "    plt.figure()\n",
        "    if npimg.shape[-1] == 1 or len(npimg.shape) == 2:  # If it's a grayscale image\n",
        "        plt.imshow(npimg.squeeze(), cmap='gray')  # Use 'squeeze' to remove single-dimensional entries from the shape\n",
        "    else:\n",
        "        plt.imshow(npimg)\n",
        "    plt.show()\n",
        "\n",
        "# Assuming trainloader_small is properly structured and contains PyTorch tensors\n",
        "img, label = trainloader_small[0][0][11], trainloader_small[0][1][11]  # Adjusted indexing\n",
        "label = int(np.array(label))\n",
        "print(class_names[label])\n",
        "imshow(img)\n"
      ]
    },
    {
      "cell_type": "markdown",
      "source": [
        "## Simple Neural Network"
      ],
      "metadata": {
        "id": "Hd70E96JsXjm"
      }
    },
    {
      "cell_type": "code",
      "source": [
        "import torch\n",
        "import torch.nn as nn\n",
        "import torch.optim as optim\n",
        "from torch.utils.data import DataLoader\n",
        "from torchvision import datasets, transforms\n",
        "import time\n",
        "\n",
        "\n",
        "class TNet(nn.Module):\n",
        "    def __init__(self):\n",
        "        super(TNet, self).__init__()\n",
        "        # Initialize the layers\n",
        "        self.features = nn.Sequential(\n",
        "            nn.Conv2d(1, 16, 3, padding=1),  # Use 3 instead of 1 if you're dealing with RGB images\n",
        "            nn.ReLU(),\n",
        "            nn.MaxPool2d(4, stride=4),\n",
        "        )\n",
        "        # Calculate the number of features after the last pooling layer\n",
        "        self.classifier = nn.Sequential(\n",
        "            nn.Linear(4096, 16),  # Assuming the flattened features are 4096; adjust accordingly\n",
        "        )\n",
        "\n",
        "    def forward(self, x):\n",
        "        # Define the forward pass\n",
        "        x = self.features(x)\n",
        "        x = torch.flatten(x, start_dim=1)\n",
        "        x = self.classifier(x)\n",
        "        return x\n",
        "\n",
        "\n",
        "def trainModel(net, trainloader, train_option, testloader=None):\n",
        "    device = torch.device('cuda' if train_option['device'] == 'gpu' and torch.cuda.is_available() else 'cpu')\n",
        "    net.to(device)\n",
        "    optimizer = optim.Adam(net.parameters(), lr=train_option['lr'])\n",
        "    loss_func = nn.CrossEntropyLoss()\n",
        "\n",
        "    total_iters = 0  # Total iterations for average loss calculation\n",
        "\n",
        "    for epoch in range(train_option['epoch']):\n",
        "        net.train()\n",
        "        for iter, (x, y) in enumerate(trainloader):\n",
        "            start_time = time.time()\n",
        "            x, y = x.to(device), y.to(device)\n",
        "            optimizer.zero_grad()\n",
        "            outputs = net(x)\n",
        "            loss = loss_func(outputs, y)\n",
        "            loss.backward()\n",
        "            optimizer.step()\n",
        "\n",
        "            total_iters += 1\n",
        "            elapsed_time = int(time.time() - start_time)\n",
        "            formatted_time = time.strftime(\"%H:%M:%S\", time.gmtime(elapsed_time))\n",
        "\n",
        "            if iter % 20 == 0 or iter == 0:  # Adjust logging frequency as needed\n",
        "                print(f'Epoch: {epoch + 1} | Iter: {iter:5} | Time: {formatted_time} | Train Loss: {loss.item():.4f} | Average Loss: {(loss.item() / total_iters):.4f}')\n",
        "\n",
        "        if testloader:\n",
        "            evalModel(net, testloader)\n",
        "\n",
        "def evalModel(net, testloader):\n",
        "    device = torch.device('cuda' if next(net.parameters()).is_cuda else 'cpu')\n",
        "    net.to(device)\n",
        "    net.eval()\n",
        "    correct = 0\n",
        "    total = 0\n",
        "\n",
        "    start_time = time.time()\n",
        "\n",
        "    with torch.no_grad():\n",
        "        for x, y in testloader:\n",
        "            x, y = x.to(device), y.to(device)\n",
        "            outputs = net(x)\n",
        "            _, predicted = torch.max(outputs.data, 1)\n",
        "            total += y.size(0)\n",
        "            correct += (predicted == y).sum().item()\n",
        "\n",
        "    elapsed_time = int(time.time() - start_time)\n",
        "    formatted_time = time.strftime(\"%H:%M:%S\", time.gmtime(elapsed_time))\n",
        "    accuracy = correct / total\n",
        "\n",
        "    print(f'Accuracy: {accuracy:.6f} | Time: {formatted_time}')\n",
        "    # Data transformations and loading\n",
        "transform = transforms.Compose([\n",
        "    transforms.Resize((64, 64)),\n",
        "    transforms.Grayscale(),  # Remove this line if working with RGB\n",
        "    transforms.ToTensor()\n",
        "])\n",
        "\n",
        "train_dataset = datasets.ImageFolder('./train', transform=transform)\n",
        "trainloader_small = DataLoader(train_dataset, batch_size=32, shuffle=True)\n",
        "\n",
        "test_dataset = datasets.ImageFolder('./test', transform=transform)\n",
        "testloader_small = DataLoader(test_dataset, batch_size=32, shuffle=False)\n",
        "\n",
        "# Setup and train the model\n",
        "net = TNet()\n",
        "train_option = {\n",
        "    'lr': 0.002,\n",
        "    'epoch': 20,\n",
        "    'device': 'gpu'\n",
        "}\n",
        "\n",
        "trainModel(net, trainloader_small, train_option, testloader_small)\n"
      ],
      "metadata": {
        "colab": {
          "base_uri": "https://localhost:8080/"
        },
        "id": "u0D4WtcHm2sw",
        "outputId": "d19c31fa-edcc-45f4-a23d-b0db97fe9bea"
      },
      "execution_count": 7,
      "outputs": [
        {
          "output_type": "stream",
          "name": "stdout",
          "text": [
            "Epoch: 1 | Iter:     0 | Time: 00:00:01 | Train Loss: 2.8239 | Average Loss: 2.8239\n",
            "Epoch: 1 | Iter:    20 | Time: 00:00:00 | Train Loss: 2.7019 | Average Loss: 0.1287\n",
            "Epoch: 1 | Iter:    40 | Time: 00:00:00 | Train Loss: 2.7796 | Average Loss: 0.0678\n",
            "Epoch: 1 | Iter:    60 | Time: 00:00:00 | Train Loss: 2.5315 | Average Loss: 0.0415\n",
            "Accuracy: 0.305000 | Time: 00:00:01\n",
            "Epoch: 2 | Iter:     0 | Time: 00:00:00 | Train Loss: 2.2802 | Average Loss: 0.0300\n",
            "Epoch: 2 | Iter:    20 | Time: 00:00:00 | Train Loss: 2.3970 | Average Loss: 0.0250\n",
            "Epoch: 2 | Iter:    40 | Time: 00:00:00 | Train Loss: 1.9456 | Average Loss: 0.0168\n",
            "Epoch: 2 | Iter:    60 | Time: 00:00:00 | Train Loss: 1.8020 | Average Loss: 0.0133\n",
            "Accuracy: 0.362500 | Time: 00:00:01\n",
            "Epoch: 3 | Iter:     0 | Time: 00:00:00 | Train Loss: 1.7573 | Average Loss: 0.0116\n",
            "Epoch: 3 | Iter:    20 | Time: 00:00:00 | Train Loss: 1.8272 | Average Loss: 0.0107\n",
            "Epoch: 3 | Iter:    40 | Time: 00:00:00 | Train Loss: 1.5788 | Average Loss: 0.0083\n",
            "Epoch: 3 | Iter:    60 | Time: 00:00:00 | Train Loss: 1.9374 | Average Loss: 0.0092\n",
            "Accuracy: 0.365000 | Time: 00:00:01\n",
            "Epoch: 4 | Iter:     0 | Time: 00:00:00 | Train Loss: 1.8659 | Average Loss: 0.0083\n",
            "Epoch: 4 | Iter:    20 | Time: 00:00:00 | Train Loss: 1.6582 | Average Loss: 0.0067\n",
            "Epoch: 4 | Iter:    40 | Time: 00:00:00 | Train Loss: 1.5775 | Average Loss: 0.0059\n",
            "Epoch: 4 | Iter:    60 | Time: 00:00:00 | Train Loss: 1.4747 | Average Loss: 0.0052\n",
            "Accuracy: 0.377500 | Time: 00:00:01\n",
            "Epoch: 5 | Iter:     0 | Time: 00:00:00 | Train Loss: 1.6239 | Average Loss: 0.0054\n",
            "Epoch: 5 | Iter:    20 | Time: 00:00:00 | Train Loss: 1.1739 | Average Loss: 0.0037\n",
            "Epoch: 5 | Iter:    40 | Time: 00:00:00 | Train Loss: 1.7508 | Average Loss: 0.0051\n",
            "Epoch: 5 | Iter:    60 | Time: 00:00:00 | Train Loss: 1.4835 | Average Loss: 0.0041\n",
            "Accuracy: 0.440000 | Time: 00:00:01\n",
            "Epoch: 6 | Iter:     0 | Time: 00:00:00 | Train Loss: 1.2963 | Average Loss: 0.0034\n",
            "Epoch: 6 | Iter:    20 | Time: 00:00:00 | Train Loss: 1.1974 | Average Loss: 0.0030\n",
            "Epoch: 6 | Iter:    40 | Time: 00:00:00 | Train Loss: 1.1565 | Average Loss: 0.0028\n",
            "Epoch: 6 | Iter:    60 | Time: 00:00:00 | Train Loss: 1.1069 | Average Loss: 0.0025\n",
            "Accuracy: 0.397500 | Time: 00:00:01\n",
            "Epoch: 7 | Iter:     0 | Time: 00:00:00 | Train Loss: 1.1537 | Average Loss: 0.0026\n",
            "Epoch: 7 | Iter:    20 | Time: 00:00:00 | Train Loss: 0.8569 | Average Loss: 0.0018\n",
            "Epoch: 7 | Iter:    40 | Time: 00:00:00 | Train Loss: 0.9644 | Average Loss: 0.0020\n",
            "Epoch: 7 | Iter:    60 | Time: 00:00:00 | Train Loss: 0.9085 | Average Loss: 0.0018\n",
            "Accuracy: 0.425000 | Time: 00:00:01\n",
            "Epoch: 8 | Iter:     0 | Time: 00:00:00 | Train Loss: 1.0825 | Average Loss: 0.0021\n",
            "Epoch: 8 | Iter:    20 | Time: 00:00:00 | Train Loss: 1.0453 | Average Loss: 0.0019\n",
            "Epoch: 8 | Iter:    40 | Time: 00:00:00 | Train Loss: 1.0121 | Average Loss: 0.0018\n",
            "Epoch: 8 | Iter:    60 | Time: 00:00:00 | Train Loss: 0.8269 | Average Loss: 0.0014\n",
            "Accuracy: 0.435000 | Time: 00:00:01\n",
            "Epoch: 9 | Iter:     0 | Time: 00:00:00 | Train Loss: 1.0957 | Average Loss: 0.0018\n",
            "Epoch: 9 | Iter:    20 | Time: 00:00:00 | Train Loss: 0.7969 | Average Loss: 0.0013\n",
            "Epoch: 9 | Iter:    40 | Time: 00:00:00 | Train Loss: 0.9890 | Average Loss: 0.0015\n",
            "Epoch: 9 | Iter:    60 | Time: 00:00:00 | Train Loss: 1.0764 | Average Loss: 0.0016\n",
            "Accuracy: 0.465000 | Time: 00:00:01\n",
            "Epoch: 10 | Iter:     0 | Time: 00:00:00 | Train Loss: 0.6929 | Average Loss: 0.0010\n",
            "Epoch: 10 | Iter:    20 | Time: 00:00:00 | Train Loss: 0.8182 | Average Loss: 0.0012\n",
            "Epoch: 10 | Iter:    40 | Time: 00:00:00 | Train Loss: 0.6521 | Average Loss: 0.0009\n",
            "Epoch: 10 | Iter:    60 | Time: 00:00:00 | Train Loss: 0.6890 | Average Loss: 0.0009\n",
            "Accuracy: 0.485000 | Time: 00:00:01\n",
            "Epoch: 11 | Iter:     0 | Time: 00:00:00 | Train Loss: 0.6824 | Average Loss: 0.0009\n",
            "Epoch: 11 | Iter:    20 | Time: 00:00:00 | Train Loss: 1.1256 | Average Loss: 0.0015\n",
            "Epoch: 11 | Iter:    40 | Time: 00:00:00 | Train Loss: 0.5983 | Average Loss: 0.0008\n",
            "Epoch: 11 | Iter:    60 | Time: 00:00:00 | Train Loss: 0.7339 | Average Loss: 0.0009\n",
            "Accuracy: 0.485000 | Time: 00:00:01\n",
            "Epoch: 12 | Iter:     0 | Time: 00:00:00 | Train Loss: 0.8061 | Average Loss: 0.0010\n",
            "Epoch: 12 | Iter:    20 | Time: 00:00:00 | Train Loss: 0.8214 | Average Loss: 0.0010\n",
            "Epoch: 12 | Iter:    40 | Time: 00:00:00 | Train Loss: 0.5228 | Average Loss: 0.0006\n",
            "Epoch: 12 | Iter:    60 | Time: 00:00:00 | Train Loss: 0.7652 | Average Loss: 0.0009\n",
            "Accuracy: 0.467500 | Time: 00:00:01\n",
            "Epoch: 13 | Iter:     0 | Time: 00:00:00 | Train Loss: 0.5634 | Average Loss: 0.0006\n",
            "Epoch: 13 | Iter:    20 | Time: 00:00:00 | Train Loss: 0.6545 | Average Loss: 0.0007\n",
            "Epoch: 13 | Iter:    40 | Time: 00:00:00 | Train Loss: 0.4795 | Average Loss: 0.0005\n",
            "Epoch: 13 | Iter:    60 | Time: 00:00:00 | Train Loss: 0.7302 | Average Loss: 0.0008\n",
            "Accuracy: 0.475000 | Time: 00:00:01\n",
            "Epoch: 14 | Iter:     0 | Time: 00:00:00 | Train Loss: 0.5378 | Average Loss: 0.0006\n",
            "Epoch: 14 | Iter:    20 | Time: 00:00:00 | Train Loss: 0.4984 | Average Loss: 0.0005\n",
            "Epoch: 14 | Iter:    40 | Time: 00:00:00 | Train Loss: 0.6628 | Average Loss: 0.0007\n",
            "Epoch: 14 | Iter:    60 | Time: 00:00:00 | Train Loss: 0.4151 | Average Loss: 0.0004\n",
            "Accuracy: 0.490000 | Time: 00:00:01\n",
            "Epoch: 15 | Iter:     0 | Time: 00:00:00 | Train Loss: 0.4296 | Average Loss: 0.0004\n",
            "Epoch: 15 | Iter:    20 | Time: 00:00:00 | Train Loss: 0.5009 | Average Loss: 0.0005\n",
            "Epoch: 15 | Iter:    40 | Time: 00:00:00 | Train Loss: 0.8088 | Average Loss: 0.0007\n",
            "Epoch: 15 | Iter:    60 | Time: 00:00:00 | Train Loss: 0.4266 | Average Loss: 0.0004\n",
            "Accuracy: 0.490000 | Time: 00:00:01\n",
            "Epoch: 16 | Iter:     0 | Time: 00:00:00 | Train Loss: 0.5782 | Average Loss: 0.0005\n",
            "Epoch: 16 | Iter:    20 | Time: 00:00:00 | Train Loss: 0.5851 | Average Loss: 0.0005\n",
            "Epoch: 16 | Iter:    40 | Time: 00:00:00 | Train Loss: 0.6604 | Average Loss: 0.0006\n",
            "Epoch: 16 | Iter:    60 | Time: 00:00:00 | Train Loss: 0.4136 | Average Loss: 0.0003\n",
            "Accuracy: 0.502500 | Time: 00:00:01\n",
            "Epoch: 17 | Iter:     0 | Time: 00:00:00 | Train Loss: 0.5394 | Average Loss: 0.0004\n",
            "Epoch: 17 | Iter:    20 | Time: 00:00:00 | Train Loss: 0.3290 | Average Loss: 0.0003\n",
            "Epoch: 17 | Iter:    40 | Time: 00:00:00 | Train Loss: 0.3529 | Average Loss: 0.0003\n",
            "Epoch: 17 | Iter:    60 | Time: 00:00:00 | Train Loss: 0.3882 | Average Loss: 0.0003\n",
            "Accuracy: 0.465000 | Time: 00:00:01\n",
            "Epoch: 18 | Iter:     0 | Time: 00:00:00 | Train Loss: 0.2560 | Average Loss: 0.0002\n",
            "Epoch: 18 | Iter:    20 | Time: 00:00:00 | Train Loss: 0.2830 | Average Loss: 0.0002\n",
            "Epoch: 18 | Iter:    40 | Time: 00:00:00 | Train Loss: 0.3629 | Average Loss: 0.0003\n",
            "Epoch: 18 | Iter:    60 | Time: 00:00:00 | Train Loss: 0.3711 | Average Loss: 0.0003\n",
            "Accuracy: 0.487500 | Time: 00:00:01\n",
            "Epoch: 19 | Iter:     0 | Time: 00:00:00 | Train Loss: 0.2964 | Average Loss: 0.0002\n",
            "Epoch: 19 | Iter:    20 | Time: 00:00:00 | Train Loss: 0.2865 | Average Loss: 0.0002\n",
            "Epoch: 19 | Iter:    40 | Time: 00:00:00 | Train Loss: 0.2384 | Average Loss: 0.0002\n",
            "Epoch: 19 | Iter:    60 | Time: 00:00:00 | Train Loss: 0.2807 | Average Loss: 0.0002\n",
            "Accuracy: 0.467500 | Time: 00:00:01\n",
            "Epoch: 20 | Iter:     0 | Time: 00:00:00 | Train Loss: 0.2599 | Average Loss: 0.0002\n",
            "Epoch: 20 | Iter:    20 | Time: 00:00:00 | Train Loss: 0.2906 | Average Loss: 0.0002\n",
            "Epoch: 20 | Iter:    40 | Time: 00:00:00 | Train Loss: 0.3670 | Average Loss: 0.0003\n",
            "Epoch: 20 | Iter:    60 | Time: 00:00:00 | Train Loss: 0.3479 | Average Loss: 0.0002\n",
            "Accuracy: 0.477500 | Time: 00:00:01\n"
          ]
        }
      ]
    },
    {
      "cell_type": "markdown",
      "source": [
        "# SSL"
      ],
      "metadata": {
        "id": "Ft2aw8iGIZpb"
      }
    },
    {
      "cell_type": "code",
      "source": [
        "# Define transformations\n",
        "ssl_transform = transforms.Compose([\n",
        "    transforms.RandomResizedCrop(224),\n",
        "    transforms.RandomHorizontalFlip(),\n",
        "    transforms.RandomRotation([-180, 180]),\n",
        "    transforms.ToTensor(),\n",
        "    transforms.Normalize(mean=[0.485, 0.456, 0.406], std=[0.229, 0.224, 0.225])\n",
        "])\n",
        "\n",
        "classification_transform = transforms.Compose([\n",
        "    transforms.Resize(256),\n",
        "    transforms.CenterCrop(224),\n",
        "    transforms.ToTensor(),\n",
        "    transforms.Normalize(mean=[0.485, 0.456, 0.406], std=[0.229, 0.224, 0.225])\n",
        "])\n",
        "\n",
        "# Load dataset\n",
        "train_dataset = datasets.ImageFolder('./train/', transform=ssl_transform)\n",
        "test_dataset = datasets.ImageFolder('./test/', transform=classification_transform)\n",
        "\n",
        "train_loader = DataLoader(train_dataset, batch_size=32, shuffle=True)\n",
        "test_loader = DataLoader(test_dataset, batch_size=32, shuffle=False)\n",
        "\n",
        "# Define model\n",
        "class SSLModel(nn.Module):\n",
        "    def __init__(self, num_classes=16):\n",
        "        super(SSLModel, self).__init__()\n",
        "        self.backbone = models.resnet18(pretrained=False)\n",
        "        self.backbone.fc = nn.Identity()\n",
        "        self.ssl_head = nn.Linear(512, 4)  # 4 rotation classes\n",
        "        self.cls_head = nn.Linear(512, num_classes)\n",
        "\n",
        "    def forward(self, x, mode='ssl'):\n",
        "        features = self.backbone(x)\n",
        "        if mode == 'ssl':\n",
        "            return self.ssl_head(features)\n",
        "        elif mode == 'cls':\n",
        "            return self.cls_head(features)\n",
        "\n",
        "model = SSLModel().cuda()\n",
        "\n",
        "# SSL training\n",
        "ssl_criterion = nn.CrossEntropyLoss()\n",
        "ssl_optimizer = optim.Adam(model.parameters(), lr=0.001)\n",
        "\n",
        "def rotate_batch(x):\n",
        "    rotations = [0, 90, 180, 270]\n",
        "    batch = []\n",
        "    labels = []\n",
        "    for img in x:\n",
        "        rot = np.random.choice(rotations)\n",
        "        batch.append(transforms.functional.rotate(img, int(rot)))\n",
        "        labels.append(rotations.index(rot))\n",
        "    return torch.stack(batch), torch.tensor(labels)\n",
        "\n",
        "print(\"Starting SSL training...\")\n",
        "for epoch in range(20):  # SSL epochs\n",
        "    model.train()\n",
        "    total_loss = 0\n",
        "    for batch_idx, (data, _) in enumerate(train_loader):\n",
        "        rotated_data, rot_labels = rotate_batch(data)\n",
        "        rotated_data, rot_labels = rotated_data.cuda(), rot_labels.cuda()\n",
        "\n",
        "        ssl_optimizer.zero_grad()\n",
        "        outputs = model(rotated_data, mode='ssl')\n",
        "        loss = ssl_criterion(outputs, rot_labels)\n",
        "        loss.backward()\n",
        "        ssl_optimizer.step()\n",
        "\n",
        "        total_loss += loss.item()\n",
        "\n",
        "    print(f\"SSL Epoch {epoch+1}, Loss: {total_loss / len(train_loader):.4f}\")\n",
        "\n",
        "# Classification fine-tuning\n",
        "cls_criterion = nn.CrossEntropyLoss()\n",
        "cls_optimizer = optim.Adam(model.parameters(), lr=0.0001)\n",
        "\n",
        "print(\"Starting classification fine-tuning...\")\n",
        "for epoch in range(20):  # Classification epochs\n",
        "    model.train()\n",
        "    total_loss = 0\n",
        "    correct = 0\n",
        "    total = 0\n",
        "\n",
        "    for batch_idx, (data, target) in enumerate(train_loader):\n",
        "        data, target = data.cuda(), target.cuda()\n",
        "\n",
        "        cls_optimizer.zero_grad()\n",
        "        outputs = model(data, mode='cls')\n",
        "        loss = cls_criterion(outputs, target)\n",
        "        loss.backward()\n",
        "        cls_optimizer.step()\n",
        "\n",
        "        total_loss += loss.item()\n",
        "        _, predicted = outputs.max(1)\n",
        "        total += target.size(0)\n",
        "        correct += predicted.eq(target).sum().item()\n",
        "\n",
        "    train_accuracy = 100. * correct / total\n",
        "    print(f\"Classification Epoch {epoch+1}, Loss: {total_loss / len(train_loader):.4f}, Accuracy: {train_accuracy:.2f}%\")\n",
        "\n",
        "    # Evaluation\n",
        "    model.eval()\n",
        "    correct = 0\n",
        "    total = 0\n",
        "    with torch.no_grad():\n",
        "        for data, target in test_loader:\n",
        "            data, target = data.cuda(), target.cuda()\n",
        "            outputs = model(data, mode='cls')\n",
        "            _, predicted = outputs.max(1)\n",
        "            total += target.size(0)\n",
        "            correct += predicted.eq(target).sum().item()\n",
        "\n",
        "    test_accuracy = 100. * correct / total\n",
        "    print(f\"Test Accuracy: {test_accuracy:.2f}%\")\n",
        "\n",
        "print(\"Training completed!\")"
      ],
      "metadata": {
        "colab": {
          "base_uri": "https://localhost:8080/"
        },
        "id": "SXiAwocgVCyB",
        "outputId": "0803c0fe-0067-4009-95b2-f7af8b126749"
      },
      "execution_count": 13,
      "outputs": [
        {
          "output_type": "stream",
          "name": "stderr",
          "text": [
            "/usr/local/lib/python3.10/dist-packages/torchvision/models/_utils.py:208: UserWarning: The parameter 'pretrained' is deprecated since 0.13 and may be removed in the future, please use 'weights' instead.\n",
            "  warnings.warn(\n",
            "/usr/local/lib/python3.10/dist-packages/torchvision/models/_utils.py:223: UserWarning: Arguments other than a weight enum or `None` for 'weights' are deprecated since 0.13 and may be removed in the future. The current behavior is equivalent to passing `weights=None`.\n",
            "  warnings.warn(msg)\n"
          ]
        },
        {
          "output_type": "stream",
          "name": "stdout",
          "text": [
            "Starting SSL training...\n",
            "SSL Epoch 1, Loss: 1.5203\n",
            "SSL Epoch 2, Loss: 1.4328\n",
            "SSL Epoch 3, Loss: 1.4150\n",
            "SSL Epoch 4, Loss: 1.4103\n",
            "SSL Epoch 5, Loss: 1.4124\n",
            "SSL Epoch 6, Loss: 1.4044\n",
            "SSL Epoch 7, Loss: 1.4026\n",
            "SSL Epoch 8, Loss: 1.4084\n",
            "SSL Epoch 9, Loss: 1.3998\n",
            "SSL Epoch 10, Loss: 1.4031\n",
            "SSL Epoch 11, Loss: 1.3961\n",
            "SSL Epoch 12, Loss: 1.3974\n",
            "SSL Epoch 13, Loss: 1.4033\n",
            "SSL Epoch 14, Loss: 1.4030\n",
            "SSL Epoch 15, Loss: 1.3978\n",
            "SSL Epoch 16, Loss: 1.4018\n",
            "SSL Epoch 17, Loss: 1.4074\n",
            "SSL Epoch 18, Loss: 1.3996\n",
            "SSL Epoch 19, Loss: 1.3995\n",
            "SSL Epoch 20, Loss: 1.3982\n",
            "Starting classification fine-tuning...\n",
            "Classification Epoch 1, Loss: 2.6038, Accuracy: 16.21%\n",
            "Test Accuracy: 24.75%\n",
            "Classification Epoch 2, Loss: 2.3014, Accuracy: 26.46%\n",
            "Test Accuracy: 33.50%\n",
            "Classification Epoch 3, Loss: 2.1403, Accuracy: 31.08%\n",
            "Test Accuracy: 37.00%\n",
            "Classification Epoch 4, Loss: 2.0721, Accuracy: 33.79%\n",
            "Test Accuracy: 36.50%\n",
            "Classification Epoch 5, Loss: 2.0246, Accuracy: 34.88%\n",
            "Test Accuracy: 38.75%\n",
            "Classification Epoch 6, Loss: 1.9569, Accuracy: 36.92%\n",
            "Test Accuracy: 36.50%\n",
            "Classification Epoch 7, Loss: 1.9408, Accuracy: 37.46%\n",
            "Test Accuracy: 38.75%\n",
            "Classification Epoch 8, Loss: 1.8965, Accuracy: 38.58%\n",
            "Test Accuracy: 40.50%\n",
            "Classification Epoch 9, Loss: 1.8701, Accuracy: 38.08%\n",
            "Test Accuracy: 43.25%\n",
            "Classification Epoch 10, Loss: 1.8675, Accuracy: 40.38%\n",
            "Test Accuracy: 42.75%\n",
            "Classification Epoch 11, Loss: 1.8370, Accuracy: 40.04%\n",
            "Test Accuracy: 41.25%\n",
            "Classification Epoch 12, Loss: 1.8116, Accuracy: 40.00%\n",
            "Test Accuracy: 44.75%\n",
            "Classification Epoch 13, Loss: 1.8023, Accuracy: 40.96%\n",
            "Test Accuracy: 42.25%\n",
            "Classification Epoch 14, Loss: 1.7843, Accuracy: 41.42%\n",
            "Test Accuracy: 48.50%\n",
            "Classification Epoch 15, Loss: 1.7518, Accuracy: 42.67%\n",
            "Test Accuracy: 47.50%\n",
            "Classification Epoch 16, Loss: 1.7514, Accuracy: 42.62%\n",
            "Test Accuracy: 47.50%\n",
            "Classification Epoch 17, Loss: 1.7235, Accuracy: 43.54%\n",
            "Test Accuracy: 48.50%\n",
            "Classification Epoch 18, Loss: 1.7234, Accuracy: 43.42%\n",
            "Test Accuracy: 51.00%\n",
            "Classification Epoch 19, Loss: 1.6939, Accuracy: 43.42%\n",
            "Test Accuracy: 47.00%\n",
            "Classification Epoch 20, Loss: 1.7103, Accuracy: 43.71%\n",
            "Test Accuracy: 51.00%\n",
            "Training completed!\n"
          ]
        }
      ]
    },
    {
      "cell_type": "markdown",
      "source": [
        "# DINO\n"
      ],
      "metadata": {
        "id": "Rr9S3n21YvFt"
      }
    },
    {
      "cell_type": "code",
      "source": [
        "\n",
        "from tqdm import tqdm\n",
        "\n",
        "# Check if CUDA is available\n",
        "device = torch.device(\"cuda\" if torch.cuda.is_available() else \"cpu\")\n",
        "print(f\"Using device: {device}\")\n",
        "\n",
        "\n",
        "# DINO model\n",
        "class DINO(nn.Module):\n",
        "    def __init__(self, backbone, dim=512, hidden_dim=512, output_dim=65536):\n",
        "        super(DINO, self).__init__()\n",
        "        self.backbone = backbone\n",
        "        self.projector = nn.Sequential(\n",
        "            nn.Linear(dim, hidden_dim),\n",
        "            nn.GELU(),\n",
        "            nn.Linear(hidden_dim, hidden_dim),\n",
        "            nn.GELU(),\n",
        "            nn.Linear(hidden_dim, output_dim)\n",
        "        )\n",
        "        self.teacher_temp = 0.04\n",
        "        self.student_temp = 0.1\n",
        "        self.center = nn.Parameter(torch.zeros(1, output_dim))\n",
        "\n",
        "    def forward(self, x):\n",
        "        features = self.backbone(x)\n",
        "        return self.projector(features)\n",
        "\n",
        "# Data augmentation\n",
        "transform = transforms.Compose([\n",
        "    transforms.RandomResizedCrop(224),\n",
        "    transforms.RandomHorizontalFlip(),\n",
        "    transforms.RandomApply([transforms.ColorJitter(0.4, 0.4, 0.4, 0.1)], p=0.8),\n",
        "    transforms.RandomGrayscale(p=0.2),\n",
        "    transforms.ToTensor(),\n",
        "    transforms.Normalize(mean=[0.485, 0.456, 0.406], std=[0.229, 0.224, 0.225])\n",
        "])\n",
        "\n",
        "# Load dataset\n",
        "train_dataset = ImageFolder('./train/', transform=transform)\n",
        "train_loader = DataLoader(train_dataset, batch_size=32, shuffle=True, num_workers=2, pin_memory=True)\n",
        "\n",
        "# Initialize model\n",
        "backbone = models.resnet18(pretrained=False)\n",
        "backbone.fc = nn.Identity()\n",
        "model = DINO(backbone).to(device)\n",
        "\n",
        "# Initialize teacher model\n",
        "teacher_model = DINO(backbone).to(device)\n",
        "teacher_model.load_state_dict(model.state_dict())\n",
        "\n",
        "# Optimizer\n",
        "optimizer = optim.AdamW(model.parameters(), lr=5e-4, weight_decay=0.05)\n",
        "\n",
        "# DINO loss\n",
        "def dino_loss(student_output, teacher_output, center):\n",
        "    student_out = student_output / model.student_temp\n",
        "    student_out = torch.softmax(student_out, dim=-1)\n",
        "    teacher_out = teacher_output / model.teacher_temp\n",
        "    teacher_out = torch.softmax(teacher_out, dim=-1)\n",
        "\n",
        "    loss = torch.sum(-teacher_out * torch.log(student_out), dim=-1).mean()\n",
        "\n",
        "    # Center loss\n",
        "    center_loss = torch.sum(student_out.mean(0) * torch.log(student_out.mean(0) + 1e-10))\n",
        "\n",
        "    return loss + 0.1 * center_loss\n",
        "\n",
        "# Training loop\n",
        "def train(epochs):\n",
        "    model.train()\n",
        "    total_loss = 0\n",
        "    for batch_idx, (data, _) in enumerate(train_loader):\n",
        "        im_q = data.to(device)\n",
        "\n",
        "        output = model(im_q)\n",
        "\n",
        "        with torch.no_grad():\n",
        "            teacher_model.eval()\n",
        "            target = teacher_model(im_q)\n",
        "            target = target.detach()\n",
        "\n",
        "        loss = nn.CrossEntropyLoss()(output, target)\n",
        "\n",
        "        optimizer.zero_grad()\n",
        "        loss.backward()\n",
        "        optimizer.step()\n",
        "\n",
        "        total_loss += loss.item()\n",
        "\n",
        "        if batch_idx % 10 == 0:\n",
        "            print(f'Epoch: {epoch}, Batch: {batch_idx}, Loss: {loss.item():.4f}')\n",
        "\n",
        "    return total_loss / len(train_loader)\n",
        "\n",
        "# Train the model\n",
        "train(epochs=20)\n",
        "\n",
        "# Save the model\n",
        "torch.save(model.state_dict(), 'dino_model.pth')\n",
        "\n",
        "# Classification model\n",
        "class ClassificationModel(nn.Module):\n",
        "    def __init__(self, dino_model, num_classes=16):\n",
        "        super(ClassificationModel, self).__init__()\n",
        "        self.backbone = dino_model.backbone\n",
        "        # Change input features to 512 to match backbone output\n",
        "        self.fc = nn.Linear(512, num_classes)\n",
        "\n",
        "    def forward(self, x):\n",
        "        features = self.backbone(x)\n",
        "        return self.fc(features)\n",
        "\n",
        "# Initialize classification model\n",
        "classification_model = ClassificationModel(model, num_classes=16).to(device)\n",
        "classification_optimizer = optim.Adam(classification_model.parameters(), lr=0.001)\n",
        "criterion = nn.CrossEntropyLoss()\n",
        "\n",
        "# Fine-tuning loop\n",
        "def fine_tune(epochs):\n",
        "    for epoch in range(epochs):\n",
        "        classification_model.train()\n",
        "        total_loss = 0\n",
        "        correct = 0\n",
        "        total = 0\n",
        "        for data, target in tqdm(train_loader):\n",
        "            data, target = data.to(device), target.to(device)\n",
        "\n",
        "            output = classification_model(data)\n",
        "            loss = criterion(output, target)\n",
        "\n",
        "            classification_optimizer.zero_grad()\n",
        "            loss.backward()\n",
        "            classification_optimizer.step()\n",
        "\n",
        "            total_loss += loss.item()\n",
        "            _, predicted = output.max(1)\n",
        "            total += target.size(0)\n",
        "            correct += predicted.eq(target).sum().item()\n",
        "\n",
        "        accuracy = 100. * correct / total\n",
        "        print(f'Fine-tuning Epoch: {epoch+1}, Loss: {total_loss/len(train_loader):.4f}, Accuracy: {accuracy:.2f}%')\n",
        "\n",
        "# Fine-tune the model\n",
        "fine_tune(epochs=20)\n",
        "\n",
        "# Save the fine-tuned model\n",
        "torch.save(classification_model.state_dict(), 'dino_finetuned_model.pth')\n",
        "\n",
        "# Evaluation function\n",
        "def evaluate(model, data_loader):\n",
        "    model.eval()\n",
        "    correct = 0\n",
        "    total = 0\n",
        "    with torch.no_grad():\n",
        "        for data, target in tqdm(data_loader):\n",
        "            data, target = data.to(device), target.to(device)\n",
        "            output = model(data)\n",
        "            _, predicted = output.max(1)\n",
        "            total += target.size(0)\n",
        "            correct += predicted.eq(target).sum().item()\n",
        "    return 100. * correct / total\n",
        "\n",
        "# Evaluate on test set\n",
        "test_transform = transforms.Compose([\n",
        "    transforms.Resize(256),\n",
        "    transforms.CenterCrop(224),\n",
        "    transforms.ToTensor(),\n",
        "    transforms.Normalize(mean=[0.485, 0.456, 0.406], std=[0.229, 0.224, 0.225])\n",
        "])\n",
        "\n",
        "test_dataset = ImageFolder('./test/', transform=test_transform)\n",
        "test_loader = DataLoader(test_dataset, batch_size=32, shuffle=False, num_workers=2, pin_memory=True)\n",
        "\n",
        "test_accuracy = evaluate(classification_model, test_loader)\n",
        "print(f\"Test Accuracy: {test_accuracy:.2f}%\")"
      ],
      "metadata": {
        "colab": {
          "base_uri": "https://localhost:8080/"
        },
        "id": "_JFCa7Q7YtIr",
        "outputId": "268705de-8d81-44f1-b175-fdd9c128c5e6"
      },
      "execution_count": 14,
      "outputs": [
        {
          "output_type": "stream",
          "name": "stdout",
          "text": [
            "Using device: cuda\n",
            "Epoch: 19, Batch: 0, Loss: -407.0458\n",
            "Epoch: 19, Batch: 10, Loss: -1452486174383255060480.0000\n",
            "Epoch: 19, Batch: 20, Loss: -297899244263706009272320.0000\n",
            "Epoch: 19, Batch: 30, Loss: -489976435305567962005504.0000\n",
            "Epoch: 19, Batch: 40, Loss: -786425628575651728457728.0000\n",
            "Epoch: 19, Batch: 50, Loss: -829535237130346723016704.0000\n",
            "Epoch: 19, Batch: 60, Loss: -1046512686396752072278016.0000\n",
            "Epoch: 19, Batch: 70, Loss: -1303494782490758101336064.0000\n"
          ]
        },
        {
          "output_type": "stream",
          "name": "stderr",
          "text": [
            "100%|██████████| 75/75 [00:21<00:00,  3.46it/s]\n"
          ]
        },
        {
          "output_type": "stream",
          "name": "stdout",
          "text": [
            "Fine-tuning Epoch: 1, Loss: 2.7718, Accuracy: 10.67%\n"
          ]
        },
        {
          "output_type": "stream",
          "name": "stderr",
          "text": [
            "100%|██████████| 75/75 [00:21<00:00,  3.45it/s]\n"
          ]
        },
        {
          "output_type": "stream",
          "name": "stdout",
          "text": [
            "Fine-tuning Epoch: 2, Loss: 2.5531, Accuracy: 16.54%\n"
          ]
        },
        {
          "output_type": "stream",
          "name": "stderr",
          "text": [
            "100%|██████████| 75/75 [00:20<00:00,  3.66it/s]\n"
          ]
        },
        {
          "output_type": "stream",
          "name": "stdout",
          "text": [
            "Fine-tuning Epoch: 3, Loss: 2.4404, Accuracy: 19.58%\n"
          ]
        },
        {
          "output_type": "stream",
          "name": "stderr",
          "text": [
            "100%|██████████| 75/75 [00:22<00:00,  3.34it/s]\n"
          ]
        },
        {
          "output_type": "stream",
          "name": "stdout",
          "text": [
            "Fine-tuning Epoch: 4, Loss: 2.2435, Accuracy: 26.46%\n"
          ]
        },
        {
          "output_type": "stream",
          "name": "stderr",
          "text": [
            "100%|██████████| 75/75 [00:20<00:00,  3.69it/s]\n"
          ]
        },
        {
          "output_type": "stream",
          "name": "stdout",
          "text": [
            "Fine-tuning Epoch: 5, Loss: 2.0712, Accuracy: 30.29%\n"
          ]
        },
        {
          "output_type": "stream",
          "name": "stderr",
          "text": [
            "100%|██████████| 75/75 [00:21<00:00,  3.51it/s]\n"
          ]
        },
        {
          "output_type": "stream",
          "name": "stdout",
          "text": [
            "Fine-tuning Epoch: 6, Loss: 1.9726, Accuracy: 33.92%\n"
          ]
        },
        {
          "output_type": "stream",
          "name": "stderr",
          "text": [
            "100%|██████████| 75/75 [00:20<00:00,  3.60it/s]\n"
          ]
        },
        {
          "output_type": "stream",
          "name": "stdout",
          "text": [
            "Fine-tuning Epoch: 7, Loss: 1.8432, Accuracy: 36.29%\n"
          ]
        },
        {
          "output_type": "stream",
          "name": "stderr",
          "text": [
            "100%|██████████| 75/75 [00:20<00:00,  3.71it/s]\n"
          ]
        },
        {
          "output_type": "stream",
          "name": "stdout",
          "text": [
            "Fine-tuning Epoch: 8, Loss: 1.7624, Accuracy: 40.00%\n"
          ]
        },
        {
          "output_type": "stream",
          "name": "stderr",
          "text": [
            "100%|██████████| 75/75 [00:22<00:00,  3.38it/s]\n"
          ]
        },
        {
          "output_type": "stream",
          "name": "stdout",
          "text": [
            "Fine-tuning Epoch: 9, Loss: 1.6884, Accuracy: 43.08%\n"
          ]
        },
        {
          "output_type": "stream",
          "name": "stderr",
          "text": [
            "100%|██████████| 75/75 [00:20<00:00,  3.66it/s]\n"
          ]
        },
        {
          "output_type": "stream",
          "name": "stdout",
          "text": [
            "Fine-tuning Epoch: 10, Loss: 1.5979, Accuracy: 47.46%\n"
          ]
        },
        {
          "output_type": "stream",
          "name": "stderr",
          "text": [
            "100%|██████████| 75/75 [00:21<00:00,  3.44it/s]\n"
          ]
        },
        {
          "output_type": "stream",
          "name": "stdout",
          "text": [
            "Fine-tuning Epoch: 11, Loss: 1.5786, Accuracy: 47.54%\n"
          ]
        },
        {
          "output_type": "stream",
          "name": "stderr",
          "text": [
            "100%|██████████| 75/75 [00:20<00:00,  3.64it/s]\n"
          ]
        },
        {
          "output_type": "stream",
          "name": "stdout",
          "text": [
            "Fine-tuning Epoch: 12, Loss: 1.4745, Accuracy: 50.38%\n"
          ]
        },
        {
          "output_type": "stream",
          "name": "stderr",
          "text": [
            "100%|██████████| 75/75 [00:20<00:00,  3.74it/s]\n"
          ]
        },
        {
          "output_type": "stream",
          "name": "stdout",
          "text": [
            "Fine-tuning Epoch: 13, Loss: 1.4126, Accuracy: 52.92%\n"
          ]
        },
        {
          "output_type": "stream",
          "name": "stderr",
          "text": [
            "100%|██████████| 75/75 [00:22<00:00,  3.39it/s]\n"
          ]
        },
        {
          "output_type": "stream",
          "name": "stdout",
          "text": [
            "Fine-tuning Epoch: 14, Loss: 1.3745, Accuracy: 55.21%\n"
          ]
        },
        {
          "output_type": "stream",
          "name": "stderr",
          "text": [
            "100%|██████████| 75/75 [00:20<00:00,  3.70it/s]\n"
          ]
        },
        {
          "output_type": "stream",
          "name": "stdout",
          "text": [
            "Fine-tuning Epoch: 15, Loss: 1.3231, Accuracy: 55.29%\n"
          ]
        },
        {
          "output_type": "stream",
          "name": "stderr",
          "text": [
            "100%|██████████| 75/75 [00:21<00:00,  3.51it/s]\n"
          ]
        },
        {
          "output_type": "stream",
          "name": "stdout",
          "text": [
            "Fine-tuning Epoch: 16, Loss: 1.3221, Accuracy: 55.79%\n"
          ]
        },
        {
          "output_type": "stream",
          "name": "stderr",
          "text": [
            "100%|██████████| 75/75 [00:20<00:00,  3.74it/s]\n"
          ]
        },
        {
          "output_type": "stream",
          "name": "stdout",
          "text": [
            "Fine-tuning Epoch: 17, Loss: 1.2886, Accuracy: 56.88%\n"
          ]
        },
        {
          "output_type": "stream",
          "name": "stderr",
          "text": [
            "100%|██████████| 75/75 [00:20<00:00,  3.74it/s]\n"
          ]
        },
        {
          "output_type": "stream",
          "name": "stdout",
          "text": [
            "Fine-tuning Epoch: 18, Loss: 1.2412, Accuracy: 58.58%\n"
          ]
        },
        {
          "output_type": "stream",
          "name": "stderr",
          "text": [
            "100%|██████████| 75/75 [00:22<00:00,  3.40it/s]\n"
          ]
        },
        {
          "output_type": "stream",
          "name": "stdout",
          "text": [
            "Fine-tuning Epoch: 19, Loss: 1.1853, Accuracy: 60.12%\n"
          ]
        },
        {
          "output_type": "stream",
          "name": "stderr",
          "text": [
            "100%|██████████| 75/75 [00:20<00:00,  3.73it/s]\n"
          ]
        },
        {
          "output_type": "stream",
          "name": "stdout",
          "text": [
            "Fine-tuning Epoch: 20, Loss: 1.2197, Accuracy: 59.04%\n"
          ]
        },
        {
          "output_type": "stream",
          "name": "stderr",
          "text": [
            "100%|██████████| 13/13 [00:03<00:00,  4.19it/s]"
          ]
        },
        {
          "output_type": "stream",
          "name": "stdout",
          "text": [
            "Test Accuracy: 71.25%\n"
          ]
        },
        {
          "output_type": "stream",
          "name": "stderr",
          "text": [
            "\n"
          ]
        }
      ]
    },
    {
      "cell_type": "markdown",
      "source": [
        "# MOCO"
      ],
      "metadata": {
        "id": "hrOjcUyiYyIs"
      }
    },
    {
      "cell_type": "code",
      "source": [
        "\n",
        "\n",
        "# MoCo model\n",
        "class MoCo(nn.Module):\n",
        "    def __init__(self, dim=128, K=4096, m=0.999, T=0.07):\n",
        "        super(MoCo, self).__init__()\n",
        "        self.K = K\n",
        "        self.m = m\n",
        "        self.T = T\n",
        "\n",
        "        # Encoders\n",
        "        self.encoder_q = models.resnet18(num_classes=dim)\n",
        "        self.encoder_k = models.resnet18(num_classes=dim)\n",
        "\n",
        "        for param_q, param_k in zip(self.encoder_q.parameters(), self.encoder_k.parameters()):\n",
        "            param_k.data.copy_(param_q.data)\n",
        "            param_k.requires_grad = False\n",
        "\n",
        "        # Queue\n",
        "        self.register_buffer(\"queue\", torch.randn(dim, K))\n",
        "        self.queue = nn.functional.normalize(self.queue, dim=0)\n",
        "        self.register_buffer(\"queue_ptr\", torch.zeros(1, dtype=torch.long))\n",
        "\n",
        "    @torch.no_grad()\n",
        "    def _momentum_update_key_encoder(self):\n",
        "        for param_q, param_k in zip(self.encoder_q.parameters(), self.encoder_k.parameters()):\n",
        "            param_k.data = param_k.data * self.m + param_q.data * (1. - self.m)\n",
        "\n",
        "    @torch.no_grad()\n",
        "    def _dequeue_and_enqueue(self, keys):\n",
        "        batch_size = keys.shape[0]\n",
        "        ptr = int(self.queue_ptr)\n",
        "        self.queue[:, ptr:ptr + batch_size] = keys.T\n",
        "        ptr = (ptr + batch_size) % self.K\n",
        "        self.queue_ptr[0] = ptr\n",
        "\n",
        "    def forward(self, im_q, im_k):\n",
        "        q = self.encoder_q(im_q)\n",
        "        q = nn.functional.normalize(q, dim=1)\n",
        "\n",
        "        with torch.no_grad():\n",
        "            self._momentum_update_key_encoder()\n",
        "            k = self.encoder_k(im_k)\n",
        "            k = nn.functional.normalize(k, dim=1)\n",
        "\n",
        "        l_pos = torch.einsum('nc,nc->n', [q, k]).unsqueeze(-1)\n",
        "        l_neg = torch.einsum('nc,ck->nk', [q, self.queue.clone().detach()])\n",
        "\n",
        "        logits = torch.cat([l_pos, l_neg], dim=1)\n",
        "        logits /= self.T\n",
        "\n",
        "        labels = torch.zeros(logits.shape[0], dtype=torch.long).to(device)\n",
        "\n",
        "        self._dequeue_and_enqueue(k)\n",
        "\n",
        "        return logits, labels\n",
        "\n",
        "# Data augmentation\n",
        "transform = transforms.Compose([\n",
        "    transforms.RandomResizedCrop(224),\n",
        "    transforms.RandomHorizontalFlip(),\n",
        "    transforms.RandomApply([transforms.ColorJitter(0.4, 0.4, 0.4, 0.1)], p=0.8),\n",
        "    transforms.RandomGrayscale(p=0.2),\n",
        "    transforms.ToTensor(),\n",
        "    transforms.Normalize(mean=[0.485, 0.456, 0.406], std=[0.229, 0.224, 0.225])\n",
        "])\n",
        "\n",
        "# Load dataset\n",
        "train_dataset = ImageFolder('./train/', transform=transform)\n",
        "train_loader = DataLoader(train_dataset, batch_size=32, shuffle=True, num_workers=2, pin_memory=True)\n",
        "\n",
        "# Initialize model\n",
        "model = MoCo().to(device)\n",
        "optimizer = torch.optim.SGD(model.parameters(), lr=0.03, momentum=0.9, weight_decay=1e-4)\n",
        "\n",
        "# Training loop\n",
        "def train(epochs):\n",
        "    for epoch in range(epochs):\n",
        "        model.train()\n",
        "        total_loss = 0\n",
        "        for images, _ in tqdm(train_loader):\n",
        "            img_q = images.to(device)\n",
        "            img_k = images.to(device)\n",
        "\n",
        "            output, target = model(img_q, img_k)\n",
        "            loss = nn.CrossEntropyLoss()(output, target)\n",
        "\n",
        "            optimizer.zero_grad()\n",
        "            loss.backward()\n",
        "            optimizer.step()\n",
        "\n",
        "            total_loss += loss.item()\n",
        "\n",
        "        print(f\"Epoch {epoch+1}, Loss: {total_loss/len(train_loader):.4f}\")\n",
        "\n",
        "# Train the model\n",
        "train(epochs=20)\n",
        "\n",
        "# Save the model\n",
        "torch.save(model.state_dict(), 'moco_model.pth')\n",
        "\n",
        "# Classification model\n",
        "class ClassificationModel(nn.Module):\n",
        "    def __init__(self, moco_model, num_classes=16):\n",
        "        super(ClassificationModel, self).__init__()\n",
        "        self.features = moco_model.encoder_q\n",
        "        self.fc = nn.Linear(128, num_classes)\n",
        "\n",
        "    def forward(self, x):\n",
        "        x = self.features(x)\n",
        "        return self.fc(x)\n",
        "\n",
        "# Initialize classification model\n",
        "classification_model = ClassificationModel(model, num_classes=16).to(device)\n",
        "classification_optimizer = torch.optim.Adam(classification_model.parameters(), lr=0.001)\n",
        "criterion = nn.CrossEntropyLoss()\n",
        "\n",
        "# Fine-tuning loop\n",
        "def fine_tune(epochs):\n",
        "    for epoch in range(epochs):\n",
        "        classification_model.train()\n",
        "        total_loss = 0\n",
        "        correct = 0\n",
        "        total = 0\n",
        "        for data, target in tqdm(train_loader):\n",
        "            data, target = data.to(device), target.to(device)\n",
        "\n",
        "            output = classification_model(data)\n",
        "            loss = criterion(output, target)\n",
        "\n",
        "            classification_optimizer.zero_grad()\n",
        "            loss.backward()\n",
        "            classification_optimizer.step()\n",
        "\n",
        "            total_loss += loss.item()\n",
        "            _, predicted = output.max(1)\n",
        "            total += target.size(0)\n",
        "            correct += predicted.eq(target).sum().item()\n",
        "\n",
        "        accuracy = 100. * correct / total\n",
        "        print(f'Fine-tuning Epoch: {epoch+1}, Loss: {total_loss/len(train_loader):.4f}, Accuracy: {accuracy:.2f}%')\n",
        "\n",
        "# Fine-tune the model\n",
        "fine_tune(epochs=50)\n",
        "\n",
        "# Save the fine-tuned model\n",
        "torch.save(classification_model.state_dict(), 'moco_finetuned_model.pth')\n",
        "\n",
        "# Evaluation function\n",
        "def evaluate(model, data_loader):\n",
        "    model.eval()\n",
        "    correct = 0\n",
        "    total = 0\n",
        "    with torch.no_grad():\n",
        "        for data, target in tqdm(data_loader):\n",
        "            data, target = data.to(device), target.to(device)\n",
        "            output = model(data)\n",
        "            _, predicted = output.max(1)\n",
        "            total += target.size(0)\n",
        "            correct += predicted.eq(target).sum().item()\n",
        "    return 100. * correct / total\n",
        "\n",
        "# Evaluate on test set\n",
        "test_transform = transforms.Compose([\n",
        "    transforms.Resize(256),\n",
        "    transforms.CenterCrop(224),\n",
        "    transforms.ToTensor(),\n",
        "    transforms.Normalize(mean=[0.485, 0.456, 0.406], std=[0.229, 0.224, 0.225])\n",
        "])\n",
        "\n",
        "test_dataset = ImageFolder('./test/', transform=test_transform)\n",
        "test_loader = DataLoader(test_dataset, batch_size=32, shuffle=False, num_workers=2, pin_memory=True)\n",
        "\n",
        "test_accuracy = evaluate(classification_model, test_loader)\n",
        "print(f\"Test Accuracy: {test_accuracy:.2f}%\")"
      ],
      "metadata": {
        "colab": {
          "base_uri": "https://localhost:8080/"
        },
        "id": "_wPkbfhNYzRO",
        "outputId": "6e102c4a-63e2-43e0-c0b6-863508a83188"
      },
      "execution_count": 15,
      "outputs": [
        {
          "output_type": "stream",
          "name": "stderr",
          "text": [
            "100%|██████████| 75/75 [00:22<00:00,  3.36it/s]\n"
          ]
        },
        {
          "output_type": "stream",
          "name": "stdout",
          "text": [
            "Epoch 1, Loss: 5.0248\n"
          ]
        },
        {
          "output_type": "stream",
          "name": "stderr",
          "text": [
            "100%|██████████| 75/75 [00:23<00:00,  3.25it/s]\n"
          ]
        },
        {
          "output_type": "stream",
          "name": "stdout",
          "text": [
            "Epoch 2, Loss: 5.2380\n"
          ]
        },
        {
          "output_type": "stream",
          "name": "stderr",
          "text": [
            "100%|██████████| 75/75 [00:20<00:00,  3.62it/s]\n"
          ]
        },
        {
          "output_type": "stream",
          "name": "stdout",
          "text": [
            "Epoch 3, Loss: 4.6441\n"
          ]
        },
        {
          "output_type": "stream",
          "name": "stderr",
          "text": [
            "100%|██████████| 75/75 [00:21<00:00,  3.49it/s]\n"
          ]
        },
        {
          "output_type": "stream",
          "name": "stdout",
          "text": [
            "Epoch 4, Loss: 4.1178\n"
          ]
        },
        {
          "output_type": "stream",
          "name": "stderr",
          "text": [
            "100%|██████████| 75/75 [00:21<00:00,  3.44it/s]\n"
          ]
        },
        {
          "output_type": "stream",
          "name": "stdout",
          "text": [
            "Epoch 5, Loss: 3.6228\n"
          ]
        },
        {
          "output_type": "stream",
          "name": "stderr",
          "text": [
            "100%|██████████| 75/75 [00:21<00:00,  3.57it/s]\n"
          ]
        },
        {
          "output_type": "stream",
          "name": "stdout",
          "text": [
            "Epoch 6, Loss: 3.1469\n"
          ]
        },
        {
          "output_type": "stream",
          "name": "stderr",
          "text": [
            "100%|██████████| 75/75 [00:22<00:00,  3.33it/s]\n"
          ]
        },
        {
          "output_type": "stream",
          "name": "stdout",
          "text": [
            "Epoch 7, Loss: 2.6949\n"
          ]
        },
        {
          "output_type": "stream",
          "name": "stderr",
          "text": [
            "100%|██████████| 75/75 [00:21<00:00,  3.54it/s]\n"
          ]
        },
        {
          "output_type": "stream",
          "name": "stdout",
          "text": [
            "Epoch 8, Loss: 2.2646\n"
          ]
        },
        {
          "output_type": "stream",
          "name": "stderr",
          "text": [
            "100%|██████████| 75/75 [00:23<00:00,  3.20it/s]\n"
          ]
        },
        {
          "output_type": "stream",
          "name": "stdout",
          "text": [
            "Epoch 9, Loss: 1.9760\n"
          ]
        },
        {
          "output_type": "stream",
          "name": "stderr",
          "text": [
            "100%|██████████| 75/75 [00:21<00:00,  3.46it/s]\n"
          ]
        },
        {
          "output_type": "stream",
          "name": "stdout",
          "text": [
            "Epoch 10, Loss: 1.6843\n"
          ]
        },
        {
          "output_type": "stream",
          "name": "stderr",
          "text": [
            "100%|██████████| 75/75 [00:24<00:00,  3.12it/s]\n"
          ]
        },
        {
          "output_type": "stream",
          "name": "stdout",
          "text": [
            "Epoch 11, Loss: 1.4054\n"
          ]
        },
        {
          "output_type": "stream",
          "name": "stderr",
          "text": [
            "100%|██████████| 75/75 [00:21<00:00,  3.43it/s]\n"
          ]
        },
        {
          "output_type": "stream",
          "name": "stdout",
          "text": [
            "Epoch 12, Loss: 1.1669\n"
          ]
        },
        {
          "output_type": "stream",
          "name": "stderr",
          "text": [
            "100%|██████████| 75/75 [00:23<00:00,  3.18it/s]\n"
          ]
        },
        {
          "output_type": "stream",
          "name": "stdout",
          "text": [
            "Epoch 13, Loss: 1.0056\n"
          ]
        },
        {
          "output_type": "stream",
          "name": "stderr",
          "text": [
            "100%|██████████| 75/75 [00:21<00:00,  3.51it/s]\n"
          ]
        },
        {
          "output_type": "stream",
          "name": "stdout",
          "text": [
            "Epoch 14, Loss: 0.8638\n"
          ]
        },
        {
          "output_type": "stream",
          "name": "stderr",
          "text": [
            "100%|██████████| 75/75 [00:23<00:00,  3.23it/s]\n"
          ]
        },
        {
          "output_type": "stream",
          "name": "stdout",
          "text": [
            "Epoch 15, Loss: 0.7342\n"
          ]
        },
        {
          "output_type": "stream",
          "name": "stderr",
          "text": [
            "100%|██████████| 75/75 [00:21<00:00,  3.56it/s]\n"
          ]
        },
        {
          "output_type": "stream",
          "name": "stdout",
          "text": [
            "Epoch 16, Loss: 0.6306\n"
          ]
        },
        {
          "output_type": "stream",
          "name": "stderr",
          "text": [
            "100%|██████████| 75/75 [00:22<00:00,  3.26it/s]\n"
          ]
        },
        {
          "output_type": "stream",
          "name": "stdout",
          "text": [
            "Epoch 17, Loss: 0.5319\n"
          ]
        },
        {
          "output_type": "stream",
          "name": "stderr",
          "text": [
            "100%|██████████| 75/75 [00:21<00:00,  3.52it/s]\n"
          ]
        },
        {
          "output_type": "stream",
          "name": "stdout",
          "text": [
            "Epoch 18, Loss: 0.4569\n"
          ]
        },
        {
          "output_type": "stream",
          "name": "stderr",
          "text": [
            "100%|██████████| 75/75 [00:23<00:00,  3.22it/s]\n"
          ]
        },
        {
          "output_type": "stream",
          "name": "stdout",
          "text": [
            "Epoch 19, Loss: 0.3816\n"
          ]
        },
        {
          "output_type": "stream",
          "name": "stderr",
          "text": [
            "100%|██████████| 75/75 [00:21<00:00,  3.54it/s]\n"
          ]
        },
        {
          "output_type": "stream",
          "name": "stdout",
          "text": [
            "Epoch 20, Loss: 0.3360\n"
          ]
        },
        {
          "output_type": "stream",
          "name": "stderr",
          "text": [
            "100%|██████████| 75/75 [00:21<00:00,  3.45it/s]\n"
          ]
        },
        {
          "output_type": "stream",
          "name": "stdout",
          "text": [
            "Fine-tuning Epoch: 1, Loss: 2.4096, Accuracy: 22.46%\n"
          ]
        },
        {
          "output_type": "stream",
          "name": "stderr",
          "text": [
            "100%|██████████| 75/75 [00:20<00:00,  3.68it/s]\n"
          ]
        },
        {
          "output_type": "stream",
          "name": "stdout",
          "text": [
            "Fine-tuning Epoch: 2, Loss: 1.9934, Accuracy: 33.21%\n"
          ]
        },
        {
          "output_type": "stream",
          "name": "stderr",
          "text": [
            "100%|██████████| 75/75 [00:22<00:00,  3.38it/s]\n"
          ]
        },
        {
          "output_type": "stream",
          "name": "stdout",
          "text": [
            "Fine-tuning Epoch: 3, Loss: 1.8546, Accuracy: 36.96%\n"
          ]
        },
        {
          "output_type": "stream",
          "name": "stderr",
          "text": [
            "100%|██████████| 75/75 [00:20<00:00,  3.72it/s]\n"
          ]
        },
        {
          "output_type": "stream",
          "name": "stdout",
          "text": [
            "Fine-tuning Epoch: 4, Loss: 1.6998, Accuracy: 43.29%\n"
          ]
        },
        {
          "output_type": "stream",
          "name": "stderr",
          "text": [
            "100%|██████████| 75/75 [00:21<00:00,  3.46it/s]\n"
          ]
        },
        {
          "output_type": "stream",
          "name": "stdout",
          "text": [
            "Fine-tuning Epoch: 5, Loss: 1.5840, Accuracy: 46.00%\n"
          ]
        },
        {
          "output_type": "stream",
          "name": "stderr",
          "text": [
            "100%|██████████| 75/75 [00:20<00:00,  3.70it/s]\n"
          ]
        },
        {
          "output_type": "stream",
          "name": "stdout",
          "text": [
            "Fine-tuning Epoch: 6, Loss: 1.4969, Accuracy: 49.67%\n"
          ]
        },
        {
          "output_type": "stream",
          "name": "stderr",
          "text": [
            "100%|██████████| 75/75 [00:20<00:00,  3.63it/s]\n"
          ]
        },
        {
          "output_type": "stream",
          "name": "stdout",
          "text": [
            "Fine-tuning Epoch: 7, Loss: 1.4560, Accuracy: 50.54%\n"
          ]
        },
        {
          "output_type": "stream",
          "name": "stderr",
          "text": [
            "100%|██████████| 75/75 [00:21<00:00,  3.44it/s]\n"
          ]
        },
        {
          "output_type": "stream",
          "name": "stdout",
          "text": [
            "Fine-tuning Epoch: 8, Loss: 1.4038, Accuracy: 53.00%\n"
          ]
        },
        {
          "output_type": "stream",
          "name": "stderr",
          "text": [
            "100%|██████████| 75/75 [00:20<00:00,  3.71it/s]\n"
          ]
        },
        {
          "output_type": "stream",
          "name": "stdout",
          "text": [
            "Fine-tuning Epoch: 9, Loss: 1.3689, Accuracy: 55.04%\n"
          ]
        },
        {
          "output_type": "stream",
          "name": "stderr",
          "text": [
            "100%|██████████| 75/75 [00:22<00:00,  3.31it/s]\n"
          ]
        },
        {
          "output_type": "stream",
          "name": "stdout",
          "text": [
            "Fine-tuning Epoch: 10, Loss: 1.3260, Accuracy: 54.88%\n"
          ]
        },
        {
          "output_type": "stream",
          "name": "stderr",
          "text": [
            "100%|██████████| 75/75 [00:20<00:00,  3.67it/s]\n"
          ]
        },
        {
          "output_type": "stream",
          "name": "stdout",
          "text": [
            "Fine-tuning Epoch: 11, Loss: 1.2282, Accuracy: 59.38%\n"
          ]
        },
        {
          "output_type": "stream",
          "name": "stderr",
          "text": [
            "100%|██████████| 75/75 [00:21<00:00,  3.43it/s]\n"
          ]
        },
        {
          "output_type": "stream",
          "name": "stdout",
          "text": [
            "Fine-tuning Epoch: 12, Loss: 1.1984, Accuracy: 59.12%\n"
          ]
        },
        {
          "output_type": "stream",
          "name": "stderr",
          "text": [
            "100%|██████████| 75/75 [00:20<00:00,  3.75it/s]\n"
          ]
        },
        {
          "output_type": "stream",
          "name": "stdout",
          "text": [
            "Fine-tuning Epoch: 13, Loss: 1.1579, Accuracy: 61.67%\n"
          ]
        },
        {
          "output_type": "stream",
          "name": "stderr",
          "text": [
            "100%|██████████| 75/75 [00:19<00:00,  3.76it/s]\n"
          ]
        },
        {
          "output_type": "stream",
          "name": "stdout",
          "text": [
            "Fine-tuning Epoch: 14, Loss: 1.1805, Accuracy: 60.21%\n"
          ]
        },
        {
          "output_type": "stream",
          "name": "stderr",
          "text": [
            "100%|██████████| 75/75 [00:21<00:00,  3.46it/s]\n"
          ]
        },
        {
          "output_type": "stream",
          "name": "stdout",
          "text": [
            "Fine-tuning Epoch: 15, Loss: 1.1797, Accuracy: 60.67%\n"
          ]
        },
        {
          "output_type": "stream",
          "name": "stderr",
          "text": [
            "100%|██████████| 75/75 [00:19<00:00,  3.78it/s]\n"
          ]
        },
        {
          "output_type": "stream",
          "name": "stdout",
          "text": [
            "Fine-tuning Epoch: 16, Loss: 1.1083, Accuracy: 63.04%\n"
          ]
        },
        {
          "output_type": "stream",
          "name": "stderr",
          "text": [
            "100%|██████████| 75/75 [00:20<00:00,  3.58it/s]\n"
          ]
        },
        {
          "output_type": "stream",
          "name": "stdout",
          "text": [
            "Fine-tuning Epoch: 17, Loss: 1.0819, Accuracy: 62.67%\n"
          ]
        },
        {
          "output_type": "stream",
          "name": "stderr",
          "text": [
            "100%|██████████| 75/75 [00:20<00:00,  3.65it/s]\n"
          ]
        },
        {
          "output_type": "stream",
          "name": "stdout",
          "text": [
            "Fine-tuning Epoch: 18, Loss: 1.0537, Accuracy: 64.25%\n"
          ]
        },
        {
          "output_type": "stream",
          "name": "stderr",
          "text": [
            "100%|██████████| 75/75 [00:19<00:00,  3.81it/s]\n"
          ]
        },
        {
          "output_type": "stream",
          "name": "stdout",
          "text": [
            "Fine-tuning Epoch: 19, Loss: 1.0972, Accuracy: 64.42%\n"
          ]
        },
        {
          "output_type": "stream",
          "name": "stderr",
          "text": [
            "100%|██████████| 75/75 [00:21<00:00,  3.49it/s]\n"
          ]
        },
        {
          "output_type": "stream",
          "name": "stdout",
          "text": [
            "Fine-tuning Epoch: 20, Loss: 1.0312, Accuracy: 64.54%\n"
          ]
        },
        {
          "output_type": "stream",
          "name": "stderr",
          "text": [
            "100%|██████████| 13/13 [00:02<00:00,  6.27it/s]"
          ]
        },
        {
          "output_type": "stream",
          "name": "stdout",
          "text": [
            "Test Accuracy: 71.00%\n"
          ]
        },
        {
          "output_type": "stream",
          "name": "stderr",
          "text": [
            "\n"
          ]
        }
      ]
    },
    {
      "cell_type": "markdown",
      "source": [
        "# MAE\n"
      ],
      "metadata": {
        "id": "nyQgbfGBqwQ4"
      }
    },
    {
      "cell_type": "code",
      "source": [
        "device = torch.device(\"cuda\" if torch.cuda.is_available() else \"cpu\")\n",
        "# MAE model\n",
        "class MAE(nn.Module):\n",
        "    def __init__(self, encoder, decoder_dim=512, mask_ratio=0.75):\n",
        "        super().__init__()\n",
        "        self.encoder = encoder\n",
        "        # Get the number of features from the last convolutional layer\n",
        "        num_features = encoder.layer4[-1].conv2.out_channels\n",
        "        self.decoder = nn.Sequential(\n",
        "            nn.Linear(num_features, decoder_dim),\n",
        "            nn.GELU(),\n",
        "            nn.Linear(decoder_dim, 3 * 224 * 224)\n",
        "        )\n",
        "        self.mask_ratio = mask_ratio\n",
        "\n",
        "    def forward(self, x):\n",
        "        B, C, H, W = x.shape\n",
        "        x_patch = x.view(B, C, H // 16, 16, W // 16, 16).permute(0, 2, 4, 1, 3, 5).reshape(B, -1, 768)\n",
        "\n",
        "        # Masking\n",
        "        num_patches = x_patch.shape[1]\n",
        "        num_mask = int(self.mask_ratio * num_patches)\n",
        "        mask_idx = random.sample(range(num_patches), num_mask)\n",
        "        mask = torch.ones(B, num_patches).to(x.device)\n",
        "        mask[:, mask_idx] = 0\n",
        "\n",
        "        # Encoding\n",
        "        x_masked = x_patch * mask.unsqueeze(-1)\n",
        "        encoded = self.encoder(x_masked.permute(0, 2, 1).reshape(B, C, H, W))\n",
        "\n",
        "        # Decoding\n",
        "        decoded = self.decoder(encoded).view(B, 3, H, W)\n",
        "\n",
        "        return decoded, x\n",
        "\n",
        "# Data augmentation\n",
        "transform = transforms.Compose([\n",
        "    transforms.Resize((224, 224)),\n",
        "    transforms.RandomHorizontalFlip(),\n",
        "    transforms.ToTensor(),\n",
        "    transforms.Normalize(mean=[0.485, 0.456, 0.406], std=[0.229, 0.224, 0.225])\n",
        "])\n",
        "\n",
        "# Load dataset\n",
        "train_dataset = ImageFolder('./train/', transform=transform)\n",
        "train_loader = DataLoader(train_dataset, batch_size=32, shuffle=True, num_workers=2, pin_memory=True)\n",
        "\n",
        "# Initialize model\n",
        "encoder = models.resnet18(pretrained=False)\n",
        "num_features = encoder.fc.in_features\n",
        "encoder.fc = nn.Identity()\n",
        "model = MAE(encoder).to(device)\n",
        "optimizer = torch.optim.AdamW(model.parameters(), lr=1e-4, weight_decay=0.05)\n",
        "\n",
        "# Training loop\n",
        "def train_ssl(epochs):\n",
        "    criterion = nn.MSELoss()\n",
        "    for epoch in range(epochs):\n",
        "        model.train()\n",
        "        total_loss = 0\n",
        "        for images, _ in tqdm(train_loader):\n",
        "            images = images.to(device)\n",
        "\n",
        "            reconstructed, original = model(images)\n",
        "            loss = criterion(reconstructed, original)\n",
        "\n",
        "            optimizer.zero_grad()\n",
        "            loss.backward()\n",
        "            optimizer.step()\n",
        "\n",
        "            total_loss += loss.item()\n",
        "\n",
        "        print(f\"Epoch {epoch+1}, Loss: {total_loss/len(train_loader):.4f}\")\n",
        "\n",
        "# Train the model\n",
        "train_ssl(epochs=20)\n",
        "\n",
        "# Save the model\n",
        "torch.save(model.state_dict(), 'mae_model.pth')\n",
        "\n",
        "# Classification model\n",
        "class ClassificationModel(nn.Module):\n",
        "    def __init__(self, mae_model, num_classes=16):\n",
        "        super().__init__()\n",
        "        self.features = mae_model.encoder\n",
        "        self.fc = nn.Linear(num_features, num_classes)\n",
        "\n",
        "    def forward(self, x):\n",
        "        x = self.features(x)\n",
        "        return self.fc(x)\n",
        "\n",
        "# Initialize classification model\n",
        "classification_model = ClassificationModel(model, num_classes=16).to(device)\n",
        "classification_optimizer = torch.optim.Adam(classification_model.parameters(), lr=0.001)\n",
        "criterion = nn.CrossEntropyLoss()\n",
        "\n",
        "# Fine-tuning loop\n",
        "def fine_tune(epochs):\n",
        "    for epoch in range(epochs):\n",
        "        classification_model.train()\n",
        "        total_loss = 0\n",
        "        correct = 0\n",
        "        total = 0\n",
        "        for data, target in tqdm(train_loader):\n",
        "            data, target = data.to(device), target.to(device)\n",
        "\n",
        "            output = classification_model(data)\n",
        "            loss = criterion(output, target)\n",
        "\n",
        "            classification_optimizer.zero_grad()\n",
        "            loss.backward()\n",
        "            classification_optimizer.step()\n",
        "\n",
        "            total_loss += loss.item()\n",
        "            _, predicted = output.max(1)\n",
        "            total += target.size(0)\n",
        "            correct += predicted.eq(target).sum().item()\n",
        "\n",
        "        accuracy = 100. * correct / total\n",
        "        print(f'Fine-tuning Epoch: {epoch+1}, Loss: {total_loss/len(train_loader):.4f}, Accuracy: {accuracy:.2f}%')\n",
        "\n",
        "# Fine-tune the model\n",
        "fine_tune(epochs=50)\n",
        "\n",
        "# Save the fine-tuned model\n",
        "torch.save(classification_model.state_dict(), 'mae_finetuned_model.pth')\n",
        "\n",
        "# Evaluation function\n",
        "def evaluate(model, data_loader):\n",
        "    model.eval()\n",
        "    correct = 0\n",
        "    total = 0\n",
        "    with torch.no_grad():\n",
        "        for data, target in tqdm(data_loader):\n",
        "            data, target = data.to(device), target.to(device)\n",
        "            output = model(data)\n",
        "            _, predicted = output.max(1)\n",
        "            total += target.size(0)\n",
        "            correct += predicted.eq(target).sum().item()\n",
        "    return 100. * correct / total\n",
        "\n",
        "# Evaluate on test set\n",
        "test_transform = transforms.Compose([\n",
        "    transforms.Resize((224, 224)),\n",
        "    transforms.ToTensor(),\n",
        "    transforms.Normalize(mean=[0.485, 0.456, 0.406], std=[0.229, 0.224, 0.225])\n",
        "])\n",
        "\n",
        "test_dataset = ImageFolder('./test/', transform=test_transform)\n",
        "test_loader = DataLoader(test_dataset, batch_size=32, shuffle=False, num_workers=2, pin_memory=True)\n",
        "\n",
        "test_accuracy = evaluate(classification_model, test_loader)\n",
        "print(f\"Test Accuracy: {test_accuracy:.2f}%\")"
      ],
      "metadata": {
        "colab": {
          "base_uri": "https://localhost:8080/"
        },
        "id": "CEP23vbSqvzT",
        "outputId": "6576cdba-141a-437c-8c16-1aed6a18bd8e"
      },
      "execution_count": 16,
      "outputs": [
        {
          "output_type": "stream",
          "name": "stderr",
          "text": [
            "100%|██████████| 75/75 [00:16<00:00,  4.67it/s]\n"
          ]
        },
        {
          "output_type": "stream",
          "name": "stdout",
          "text": [
            "Epoch 1, Loss: 1.0490\n"
          ]
        },
        {
          "output_type": "stream",
          "name": "stderr",
          "text": [
            "100%|██████████| 75/75 [00:15<00:00,  4.76it/s]\n"
          ]
        },
        {
          "output_type": "stream",
          "name": "stdout",
          "text": [
            "Epoch 2, Loss: 0.9040\n"
          ]
        },
        {
          "output_type": "stream",
          "name": "stderr",
          "text": [
            "100%|██████████| 75/75 [00:15<00:00,  4.79it/s]\n"
          ]
        },
        {
          "output_type": "stream",
          "name": "stdout",
          "text": [
            "Epoch 3, Loss: 0.8988\n"
          ]
        },
        {
          "output_type": "stream",
          "name": "stderr",
          "text": [
            "100%|██████████| 75/75 [00:15<00:00,  4.81it/s]\n"
          ]
        },
        {
          "output_type": "stream",
          "name": "stdout",
          "text": [
            "Epoch 4, Loss: 0.8909\n"
          ]
        },
        {
          "output_type": "stream",
          "name": "stderr",
          "text": [
            "100%|██████████| 75/75 [00:15<00:00,  4.70it/s]\n"
          ]
        },
        {
          "output_type": "stream",
          "name": "stdout",
          "text": [
            "Epoch 5, Loss: 0.8836\n"
          ]
        },
        {
          "output_type": "stream",
          "name": "stderr",
          "text": [
            "100%|██████████| 75/75 [00:15<00:00,  4.80it/s]\n"
          ]
        },
        {
          "output_type": "stream",
          "name": "stdout",
          "text": [
            "Epoch 6, Loss: 0.8702\n"
          ]
        },
        {
          "output_type": "stream",
          "name": "stderr",
          "text": [
            "100%|██████████| 75/75 [00:16<00:00,  4.61it/s]\n"
          ]
        },
        {
          "output_type": "stream",
          "name": "stdout",
          "text": [
            "Epoch 7, Loss: 0.8215\n"
          ]
        },
        {
          "output_type": "stream",
          "name": "stderr",
          "text": [
            "100%|██████████| 75/75 [00:16<00:00,  4.63it/s]\n"
          ]
        },
        {
          "output_type": "stream",
          "name": "stdout",
          "text": [
            "Epoch 8, Loss: 0.8109\n"
          ]
        },
        {
          "output_type": "stream",
          "name": "stderr",
          "text": [
            "100%|██████████| 75/75 [00:16<00:00,  4.63it/s]\n"
          ]
        },
        {
          "output_type": "stream",
          "name": "stdout",
          "text": [
            "Epoch 9, Loss: 0.7978\n"
          ]
        },
        {
          "output_type": "stream",
          "name": "stderr",
          "text": [
            "100%|██████████| 75/75 [00:16<00:00,  4.68it/s]\n"
          ]
        },
        {
          "output_type": "stream",
          "name": "stdout",
          "text": [
            "Epoch 10, Loss: 0.7676\n"
          ]
        },
        {
          "output_type": "stream",
          "name": "stderr",
          "text": [
            "100%|██████████| 75/75 [00:15<00:00,  4.74it/s]\n"
          ]
        },
        {
          "output_type": "stream",
          "name": "stdout",
          "text": [
            "Epoch 11, Loss: 0.7552\n"
          ]
        },
        {
          "output_type": "stream",
          "name": "stderr",
          "text": [
            "100%|██████████| 75/75 [00:15<00:00,  4.72it/s]\n"
          ]
        },
        {
          "output_type": "stream",
          "name": "stdout",
          "text": [
            "Epoch 12, Loss: 0.7421\n"
          ]
        },
        {
          "output_type": "stream",
          "name": "stderr",
          "text": [
            "100%|██████████| 75/75 [00:15<00:00,  4.79it/s]\n"
          ]
        },
        {
          "output_type": "stream",
          "name": "stdout",
          "text": [
            "Epoch 13, Loss: 0.7150\n"
          ]
        },
        {
          "output_type": "stream",
          "name": "stderr",
          "text": [
            "100%|██████████| 75/75 [00:15<00:00,  4.72it/s]\n"
          ]
        },
        {
          "output_type": "stream",
          "name": "stdout",
          "text": [
            "Epoch 14, Loss: 0.6953\n"
          ]
        },
        {
          "output_type": "stream",
          "name": "stderr",
          "text": [
            "100%|██████████| 75/75 [00:16<00:00,  4.66it/s]\n"
          ]
        },
        {
          "output_type": "stream",
          "name": "stdout",
          "text": [
            "Epoch 15, Loss: 0.6863\n"
          ]
        },
        {
          "output_type": "stream",
          "name": "stderr",
          "text": [
            "100%|██████████| 75/75 [00:15<00:00,  4.74it/s]\n"
          ]
        },
        {
          "output_type": "stream",
          "name": "stdout",
          "text": [
            "Epoch 16, Loss: 0.6838\n"
          ]
        },
        {
          "output_type": "stream",
          "name": "stderr",
          "text": [
            "100%|██████████| 75/75 [00:15<00:00,  4.75it/s]\n"
          ]
        },
        {
          "output_type": "stream",
          "name": "stdout",
          "text": [
            "Epoch 17, Loss: 0.6821\n"
          ]
        },
        {
          "output_type": "stream",
          "name": "stderr",
          "text": [
            "100%|██████████| 75/75 [00:15<00:00,  4.72it/s]\n"
          ]
        },
        {
          "output_type": "stream",
          "name": "stdout",
          "text": [
            "Epoch 18, Loss: 0.6788\n"
          ]
        },
        {
          "output_type": "stream",
          "name": "stderr",
          "text": [
            "100%|██████████| 75/75 [00:15<00:00,  4.72it/s]\n"
          ]
        },
        {
          "output_type": "stream",
          "name": "stdout",
          "text": [
            "Epoch 19, Loss: 0.6745\n"
          ]
        },
        {
          "output_type": "stream",
          "name": "stderr",
          "text": [
            "100%|██████████| 75/75 [00:16<00:00,  4.68it/s]\n"
          ]
        },
        {
          "output_type": "stream",
          "name": "stdout",
          "text": [
            "Epoch 20, Loss: 0.6750\n"
          ]
        },
        {
          "output_type": "stream",
          "name": "stderr",
          "text": [
            "100%|██████████| 75/75 [00:17<00:00,  4.32it/s]\n"
          ]
        },
        {
          "output_type": "stream",
          "name": "stdout",
          "text": [
            "Fine-tuning Epoch: 1, Loss: 2.1334, Accuracy: 29.88%\n"
          ]
        },
        {
          "output_type": "stream",
          "name": "stderr",
          "text": [
            "100%|██████████| 75/75 [00:15<00:00,  4.88it/s]\n"
          ]
        },
        {
          "output_type": "stream",
          "name": "stdout",
          "text": [
            "Fine-tuning Epoch: 2, Loss: 1.5235, Accuracy: 48.58%\n"
          ]
        },
        {
          "output_type": "stream",
          "name": "stderr",
          "text": [
            "100%|██████████| 75/75 [00:15<00:00,  4.87it/s]\n"
          ]
        },
        {
          "output_type": "stream",
          "name": "stdout",
          "text": [
            "Fine-tuning Epoch: 3, Loss: 1.2741, Accuracy: 56.21%\n"
          ]
        },
        {
          "output_type": "stream",
          "name": "stderr",
          "text": [
            "100%|██████████| 75/75 [00:15<00:00,  4.93it/s]\n"
          ]
        },
        {
          "output_type": "stream",
          "name": "stdout",
          "text": [
            "Fine-tuning Epoch: 4, Loss: 1.0659, Accuracy: 63.75%\n"
          ]
        },
        {
          "output_type": "stream",
          "name": "stderr",
          "text": [
            "100%|██████████| 75/75 [00:15<00:00,  4.83it/s]\n"
          ]
        },
        {
          "output_type": "stream",
          "name": "stdout",
          "text": [
            "Fine-tuning Epoch: 5, Loss: 0.9220, Accuracy: 68.04%\n"
          ]
        },
        {
          "output_type": "stream",
          "name": "stderr",
          "text": [
            "100%|██████████| 75/75 [00:15<00:00,  4.90it/s]\n"
          ]
        },
        {
          "output_type": "stream",
          "name": "stdout",
          "text": [
            "Fine-tuning Epoch: 6, Loss: 0.8199, Accuracy: 72.42%\n"
          ]
        },
        {
          "output_type": "stream",
          "name": "stderr",
          "text": [
            "100%|██████████| 75/75 [00:15<00:00,  4.74it/s]\n"
          ]
        },
        {
          "output_type": "stream",
          "name": "stdout",
          "text": [
            "Fine-tuning Epoch: 7, Loss: 0.7247, Accuracy: 74.38%\n"
          ]
        },
        {
          "output_type": "stream",
          "name": "stderr",
          "text": [
            "100%|██████████| 75/75 [00:15<00:00,  4.85it/s]\n"
          ]
        },
        {
          "output_type": "stream",
          "name": "stdout",
          "text": [
            "Fine-tuning Epoch: 8, Loss: 0.6344, Accuracy: 78.42%\n"
          ]
        },
        {
          "output_type": "stream",
          "name": "stderr",
          "text": [
            "100%|██████████| 75/75 [00:15<00:00,  4.99it/s]\n"
          ]
        },
        {
          "output_type": "stream",
          "name": "stdout",
          "text": [
            "Fine-tuning Epoch: 9, Loss: 0.5603, Accuracy: 79.96%\n"
          ]
        },
        {
          "output_type": "stream",
          "name": "stderr",
          "text": [
            "100%|██████████| 75/75 [00:15<00:00,  4.94it/s]\n"
          ]
        },
        {
          "output_type": "stream",
          "name": "stdout",
          "text": [
            "Fine-tuning Epoch: 10, Loss: 0.5274, Accuracy: 81.21%\n"
          ]
        },
        {
          "output_type": "stream",
          "name": "stderr",
          "text": [
            "100%|██████████| 75/75 [00:15<00:00,  4.85it/s]\n"
          ]
        },
        {
          "output_type": "stream",
          "name": "stdout",
          "text": [
            "Fine-tuning Epoch: 11, Loss: 0.4247, Accuracy: 85.00%\n"
          ]
        },
        {
          "output_type": "stream",
          "name": "stderr",
          "text": [
            "100%|██████████| 75/75 [00:15<00:00,  4.83it/s]\n"
          ]
        },
        {
          "output_type": "stream",
          "name": "stdout",
          "text": [
            "Fine-tuning Epoch: 12, Loss: 0.4273, Accuracy: 84.67%\n"
          ]
        },
        {
          "output_type": "stream",
          "name": "stderr",
          "text": [
            "100%|██████████| 75/75 [00:15<00:00,  4.94it/s]\n"
          ]
        },
        {
          "output_type": "stream",
          "name": "stdout",
          "text": [
            "Fine-tuning Epoch: 13, Loss: 0.3958, Accuracy: 86.58%\n"
          ]
        },
        {
          "output_type": "stream",
          "name": "stderr",
          "text": [
            "100%|██████████| 75/75 [00:15<00:00,  4.87it/s]\n"
          ]
        },
        {
          "output_type": "stream",
          "name": "stdout",
          "text": [
            "Fine-tuning Epoch: 14, Loss: 0.3666, Accuracy: 86.96%\n"
          ]
        },
        {
          "output_type": "stream",
          "name": "stderr",
          "text": [
            "100%|██████████| 75/75 [00:15<00:00,  4.92it/s]\n"
          ]
        },
        {
          "output_type": "stream",
          "name": "stdout",
          "text": [
            "Fine-tuning Epoch: 15, Loss: 0.3212, Accuracy: 88.92%\n"
          ]
        },
        {
          "output_type": "stream",
          "name": "stderr",
          "text": [
            "100%|██████████| 75/75 [00:15<00:00,  4.86it/s]\n"
          ]
        },
        {
          "output_type": "stream",
          "name": "stdout",
          "text": [
            "Fine-tuning Epoch: 16, Loss: 0.2113, Accuracy: 92.88%\n"
          ]
        },
        {
          "output_type": "stream",
          "name": "stderr",
          "text": [
            "100%|██████████| 75/75 [00:15<00:00,  4.83it/s]\n"
          ]
        },
        {
          "output_type": "stream",
          "name": "stdout",
          "text": [
            "Fine-tuning Epoch: 17, Loss: 0.2643, Accuracy: 90.96%\n"
          ]
        },
        {
          "output_type": "stream",
          "name": "stderr",
          "text": [
            "100%|██████████| 75/75 [00:15<00:00,  4.97it/s]\n"
          ]
        },
        {
          "output_type": "stream",
          "name": "stdout",
          "text": [
            "Fine-tuning Epoch: 18, Loss: 0.1938, Accuracy: 94.00%\n"
          ]
        },
        {
          "output_type": "stream",
          "name": "stderr",
          "text": [
            "100%|██████████| 75/75 [00:15<00:00,  5.00it/s]\n"
          ]
        },
        {
          "output_type": "stream",
          "name": "stdout",
          "text": [
            "Fine-tuning Epoch: 19, Loss: 0.1327, Accuracy: 95.58%\n"
          ]
        },
        {
          "output_type": "stream",
          "name": "stderr",
          "text": [
            "100%|██████████| 75/75 [00:15<00:00,  4.94it/s]\n"
          ]
        },
        {
          "output_type": "stream",
          "name": "stdout",
          "text": [
            "Fine-tuning Epoch: 20, Loss: 0.1241, Accuracy: 96.00%\n"
          ]
        },
        {
          "output_type": "stream",
          "name": "stderr",
          "text": [
            "100%|██████████| 75/75 [00:15<00:00,  4.89it/s]\n"
          ]
        },
        {
          "output_type": "stream",
          "name": "stdout",
          "text": [
            "Fine-tuning Epoch: 21, Loss: 0.1672, Accuracy: 93.67%\n"
          ]
        },
        {
          "output_type": "stream",
          "name": "stderr",
          "text": [
            "100%|██████████| 75/75 [00:15<00:00,  4.94it/s]\n"
          ]
        },
        {
          "output_type": "stream",
          "name": "stdout",
          "text": [
            "Fine-tuning Epoch: 22, Loss: 0.1281, Accuracy: 95.67%\n"
          ]
        },
        {
          "output_type": "stream",
          "name": "stderr",
          "text": [
            "100%|██████████| 75/75 [00:15<00:00,  4.91it/s]\n"
          ]
        },
        {
          "output_type": "stream",
          "name": "stdout",
          "text": [
            "Fine-tuning Epoch: 23, Loss: 0.1303, Accuracy: 95.83%\n"
          ]
        },
        {
          "output_type": "stream",
          "name": "stderr",
          "text": [
            "100%|██████████| 75/75 [00:15<00:00,  4.93it/s]\n"
          ]
        },
        {
          "output_type": "stream",
          "name": "stdout",
          "text": [
            "Fine-tuning Epoch: 24, Loss: 0.0970, Accuracy: 97.08%\n"
          ]
        },
        {
          "output_type": "stream",
          "name": "stderr",
          "text": [
            "100%|██████████| 75/75 [00:15<00:00,  4.86it/s]\n"
          ]
        },
        {
          "output_type": "stream",
          "name": "stdout",
          "text": [
            "Fine-tuning Epoch: 25, Loss: 0.0993, Accuracy: 96.92%\n"
          ]
        },
        {
          "output_type": "stream",
          "name": "stderr",
          "text": [
            "100%|██████████| 75/75 [00:15<00:00,  4.94it/s]\n"
          ]
        },
        {
          "output_type": "stream",
          "name": "stdout",
          "text": [
            "Fine-tuning Epoch: 26, Loss: 0.0721, Accuracy: 97.79%\n"
          ]
        },
        {
          "output_type": "stream",
          "name": "stderr",
          "text": [
            "100%|██████████| 75/75 [00:15<00:00,  4.93it/s]\n"
          ]
        },
        {
          "output_type": "stream",
          "name": "stdout",
          "text": [
            "Fine-tuning Epoch: 27, Loss: 0.0943, Accuracy: 96.67%\n"
          ]
        },
        {
          "output_type": "stream",
          "name": "stderr",
          "text": [
            "100%|██████████| 75/75 [00:15<00:00,  4.97it/s]\n"
          ]
        },
        {
          "output_type": "stream",
          "name": "stdout",
          "text": [
            "Fine-tuning Epoch: 28, Loss: 0.1108, Accuracy: 96.00%\n"
          ]
        },
        {
          "output_type": "stream",
          "name": "stderr",
          "text": [
            "100%|██████████| 75/75 [00:15<00:00,  4.92it/s]\n"
          ]
        },
        {
          "output_type": "stream",
          "name": "stdout",
          "text": [
            "Fine-tuning Epoch: 29, Loss: 0.0875, Accuracy: 97.33%\n"
          ]
        },
        {
          "output_type": "stream",
          "name": "stderr",
          "text": [
            "100%|██████████| 75/75 [00:15<00:00,  4.96it/s]\n"
          ]
        },
        {
          "output_type": "stream",
          "name": "stdout",
          "text": [
            "Fine-tuning Epoch: 30, Loss: 0.0463, Accuracy: 98.71%\n"
          ]
        },
        {
          "output_type": "stream",
          "name": "stderr",
          "text": [
            "100%|██████████| 75/75 [00:15<00:00,  4.91it/s]\n"
          ]
        },
        {
          "output_type": "stream",
          "name": "stdout",
          "text": [
            "Fine-tuning Epoch: 31, Loss: 0.0235, Accuracy: 99.46%\n"
          ]
        },
        {
          "output_type": "stream",
          "name": "stderr",
          "text": [
            "100%|██████████| 75/75 [00:15<00:00,  4.87it/s]\n"
          ]
        },
        {
          "output_type": "stream",
          "name": "stdout",
          "text": [
            "Fine-tuning Epoch: 32, Loss: 0.0471, Accuracy: 98.54%\n"
          ]
        },
        {
          "output_type": "stream",
          "name": "stderr",
          "text": [
            "100%|██████████| 75/75 [00:15<00:00,  4.90it/s]\n"
          ]
        },
        {
          "output_type": "stream",
          "name": "stdout",
          "text": [
            "Fine-tuning Epoch: 33, Loss: 0.0767, Accuracy: 97.62%\n"
          ]
        },
        {
          "output_type": "stream",
          "name": "stderr",
          "text": [
            "100%|██████████| 75/75 [00:15<00:00,  4.91it/s]\n"
          ]
        },
        {
          "output_type": "stream",
          "name": "stdout",
          "text": [
            "Fine-tuning Epoch: 34, Loss: 0.1752, Accuracy: 94.38%\n"
          ]
        },
        {
          "output_type": "stream",
          "name": "stderr",
          "text": [
            "100%|██████████| 75/75 [00:15<00:00,  4.91it/s]\n"
          ]
        },
        {
          "output_type": "stream",
          "name": "stdout",
          "text": [
            "Fine-tuning Epoch: 35, Loss: 0.1192, Accuracy: 95.96%\n"
          ]
        },
        {
          "output_type": "stream",
          "name": "stderr",
          "text": [
            "100%|██████████| 75/75 [00:15<00:00,  4.90it/s]\n"
          ]
        },
        {
          "output_type": "stream",
          "name": "stdout",
          "text": [
            "Fine-tuning Epoch: 36, Loss: 0.0943, Accuracy: 96.79%\n"
          ]
        },
        {
          "output_type": "stream",
          "name": "stderr",
          "text": [
            "100%|██████████| 75/75 [00:15<00:00,  4.69it/s]\n"
          ]
        },
        {
          "output_type": "stream",
          "name": "stdout",
          "text": [
            "Fine-tuning Epoch: 37, Loss: 0.0360, Accuracy: 98.96%\n"
          ]
        },
        {
          "output_type": "stream",
          "name": "stderr",
          "text": [
            "100%|██████████| 75/75 [00:15<00:00,  4.81it/s]\n"
          ]
        },
        {
          "output_type": "stream",
          "name": "stdout",
          "text": [
            "Fine-tuning Epoch: 38, Loss: 0.0403, Accuracy: 98.71%\n"
          ]
        },
        {
          "output_type": "stream",
          "name": "stderr",
          "text": [
            "100%|██████████| 75/75 [00:15<00:00,  4.77it/s]\n"
          ]
        },
        {
          "output_type": "stream",
          "name": "stdout",
          "text": [
            "Fine-tuning Epoch: 39, Loss: 0.0556, Accuracy: 98.21%\n"
          ]
        },
        {
          "output_type": "stream",
          "name": "stderr",
          "text": [
            "100%|██████████| 75/75 [00:15<00:00,  4.88it/s]\n"
          ]
        },
        {
          "output_type": "stream",
          "name": "stdout",
          "text": [
            "Fine-tuning Epoch: 40, Loss: 0.0274, Accuracy: 99.25%\n"
          ]
        },
        {
          "output_type": "stream",
          "name": "stderr",
          "text": [
            "100%|██████████| 75/75 [00:15<00:00,  4.79it/s]\n"
          ]
        },
        {
          "output_type": "stream",
          "name": "stdout",
          "text": [
            "Fine-tuning Epoch: 41, Loss: 0.0273, Accuracy: 99.25%\n"
          ]
        },
        {
          "output_type": "stream",
          "name": "stderr",
          "text": [
            "100%|██████████| 75/75 [00:15<00:00,  4.87it/s]\n"
          ]
        },
        {
          "output_type": "stream",
          "name": "stdout",
          "text": [
            "Fine-tuning Epoch: 42, Loss: 0.0355, Accuracy: 98.83%\n"
          ]
        },
        {
          "output_type": "stream",
          "name": "stderr",
          "text": [
            "100%|██████████| 75/75 [00:15<00:00,  4.87it/s]\n"
          ]
        },
        {
          "output_type": "stream",
          "name": "stdout",
          "text": [
            "Fine-tuning Epoch: 43, Loss: 0.0566, Accuracy: 98.04%\n"
          ]
        },
        {
          "output_type": "stream",
          "name": "stderr",
          "text": [
            "100%|██████████| 75/75 [00:15<00:00,  4.97it/s]\n"
          ]
        },
        {
          "output_type": "stream",
          "name": "stdout",
          "text": [
            "Fine-tuning Epoch: 44, Loss: 0.0568, Accuracy: 98.08%\n"
          ]
        },
        {
          "output_type": "stream",
          "name": "stderr",
          "text": [
            "100%|██████████| 75/75 [00:15<00:00,  4.95it/s]\n"
          ]
        },
        {
          "output_type": "stream",
          "name": "stdout",
          "text": [
            "Fine-tuning Epoch: 45, Loss: 0.0216, Accuracy: 99.42%\n"
          ]
        },
        {
          "output_type": "stream",
          "name": "stderr",
          "text": [
            "100%|██████████| 75/75 [00:14<00:00,  5.01it/s]\n"
          ]
        },
        {
          "output_type": "stream",
          "name": "stdout",
          "text": [
            "Fine-tuning Epoch: 46, Loss: 0.0274, Accuracy: 99.08%\n"
          ]
        },
        {
          "output_type": "stream",
          "name": "stderr",
          "text": [
            "100%|██████████| 75/75 [00:15<00:00,  4.90it/s]\n"
          ]
        },
        {
          "output_type": "stream",
          "name": "stdout",
          "text": [
            "Fine-tuning Epoch: 47, Loss: 0.0416, Accuracy: 98.46%\n"
          ]
        },
        {
          "output_type": "stream",
          "name": "stderr",
          "text": [
            "100%|██████████| 75/75 [00:15<00:00,  4.96it/s]\n"
          ]
        },
        {
          "output_type": "stream",
          "name": "stdout",
          "text": [
            "Fine-tuning Epoch: 48, Loss: 0.0594, Accuracy: 98.12%\n"
          ]
        },
        {
          "output_type": "stream",
          "name": "stderr",
          "text": [
            "100%|██████████| 75/75 [00:15<00:00,  4.94it/s]\n"
          ]
        },
        {
          "output_type": "stream",
          "name": "stdout",
          "text": [
            "Fine-tuning Epoch: 49, Loss: 0.0745, Accuracy: 97.67%\n"
          ]
        },
        {
          "output_type": "stream",
          "name": "stderr",
          "text": [
            "100%|██████████| 75/75 [00:15<00:00,  4.99it/s]\n"
          ]
        },
        {
          "output_type": "stream",
          "name": "stdout",
          "text": [
            "Fine-tuning Epoch: 50, Loss: 0.0950, Accuracy: 97.17%\n"
          ]
        },
        {
          "output_type": "stream",
          "name": "stderr",
          "text": [
            "100%|██████████| 13/13 [00:02<00:00,  6.19it/s]"
          ]
        },
        {
          "output_type": "stream",
          "name": "stdout",
          "text": [
            "Test Accuracy: 73.75%\n"
          ]
        },
        {
          "output_type": "stream",
          "name": "stderr",
          "text": [
            "\n"
          ]
        }
      ]
    },
    {
      "cell_type": "markdown",
      "source": [
        "# aug data"
      ],
      "metadata": {
        "id": "bnFCwtLGKKgu"
      }
    },
    {
      "cell_type": "code",
      "source": [
        "\n",
        "from torch.utils.data import SubsetRandomSampler\n",
        "from tqdm import tqdm\n",
        "\n",
        "# Set device\n",
        "device = torch.device(\"cuda\" if torch.cuda.is_available() else \"cpu\")\n",
        "print(f\"Using device: {device}\")\n",
        "\n",
        "# Data augmentation\n",
        "transform = transforms.Compose([\n",
        "    transforms.RandomResizedCrop(224),\n",
        "    transforms.RandomHorizontalFlip(),\n",
        "    transforms.RandomRotation(15),\n",
        "    transforms.ColorJitter(brightness=0.4, contrast=0.4, saturation=0.4, hue=0.1),\n",
        "    transforms.RandomGrayscale(p=0.2),\n",
        "    transforms.ToTensor(),\n",
        "    transforms.Normalize(mean=[0.485, 0.456, 0.406], std=[0.229, 0.224, 0.225])\n",
        "])\n",
        "\n",
        "\n",
        "full_dataset = ImageFolder('./train/', transform=transform)\n",
        "\n",
        "# Number of samples per class\n",
        "samples_per_class = 120\n",
        "class_indices = {cls: [] for cls in range(len(full_dataset.classes))}\n",
        "for idx, (_, label) in enumerate(full_dataset.samples):\n",
        "    class_indices[label].append(idx)\n",
        "\n",
        "reduced_indices = []\n",
        "for cls in class_indices:\n",
        "    reduced_indices.extend(random.sample(class_indices[cls], min(samples_per_class, len(class_indices[cls]))))\n",
        "\n",
        "sampler = SubsetRandomSampler(reduced_indices)\n",
        "train_loader = DataLoader(full_dataset, batch_size=32, sampler=sampler, num_workers=2, pin_memory=True)\n",
        "\n",
        "# MAE model\n",
        "class MAE(nn.Module):\n",
        "    def __init__(self, encoder, num_features, decoder_dim=512, mask_ratio=0.75):\n",
        "        super().__init__()\n",
        "        self.encoder = encoder\n",
        "        self.decoder = nn.Sequential(\n",
        "            nn.Linear(num_features, decoder_dim),\n",
        "            nn.GELU(),\n",
        "            nn.Linear(decoder_dim, 3 * 224 * 224)\n",
        "        )\n",
        "        self.mask_ratio = mask_ratio\n",
        "\n",
        "    def forward(self, x):\n",
        "        B, C, H, W = x.shape\n",
        "\n",
        "        # Reshape and permute\n",
        "        x_patch = x.view(B, C, H // 16, 16, W // 16, 16).permute(0, 2, 4, 1, 3, 5).reshape(B, -1, 16*16*C)\n",
        "\n",
        "        # Masking\n",
        "        num_patches = x_patch.shape[1]\n",
        "        num_mask = int(self.mask_ratio * num_patches)\n",
        "        mask_idx = random.sample(range(num_patches), num_mask)\n",
        "        mask = torch.ones(B, num_patches, 1).to(x.device)\n",
        "        mask[:, mask_idx] = 0\n",
        "\n",
        "        # Apply mask\n",
        "        x_masked = x_patch * mask\n",
        "\n",
        "        # Encoding\n",
        "        encoded = self.encoder(x_masked.view(B, C, H, W))\n",
        "\n",
        "        # Decoding\n",
        "        decoded = self.decoder(encoded)\n",
        "\n",
        "        return decoded, x\n",
        "\n",
        "# Initialize model\n",
        "encoder = models.resnet18(weights=None)\n",
        "num_features = encoder.fc.in_features\n",
        "encoder.fc = nn.Identity()\n",
        "model = MAE(encoder=encoder, num_features=num_features).to(device)\n",
        "optimizer = torch.optim.AdamW(model.parameters(), lr=1e-4, weight_decay=0.05)\n",
        "\n",
        "# Training loop\n",
        "def train_ssl(epochs):\n",
        "    criterion = nn.MSELoss()\n",
        "    for epoch in range(epochs):\n",
        "        model.train()\n",
        "        total_loss = 0\n",
        "        for images, _ in tqdm(train_loader):\n",
        "            images = images.to(device)\n",
        "\n",
        "            reconstructed, original = model(images)\n",
        "            loss = criterion(reconstructed, original.view(original.size(0), -1))\n",
        "\n",
        "            optimizer.zero_grad()\n",
        "            loss.backward()\n",
        "            optimizer.step()\n",
        "\n",
        "            total_loss += loss.item()\n",
        "\n",
        "        print(f\"Epoch {epoch+1}, Loss: {total_loss/len(train_loader):.4f}\")\n",
        "\n",
        "# Train the model\n",
        "train_ssl(epochs=20)\n",
        "\n",
        "# Save the model after SSL training\n",
        "torch.save(model.state_dict(), 'mae_model.pth')\n",
        "\n",
        "# Classification model for fine-tuning\n",
        "class ClassificationModel(nn.Module):\n",
        "    def __init__(self, mae_model,num_features ,num_classes=16):\n",
        "        super().__init__()\n",
        "        self.features = mae_model.encoder\n",
        "        self.fc = nn.Linear(num_features , num_classes)\n",
        "\n",
        "    def forward(self,x):\n",
        "      x=self.features(x)\n",
        "      return self.fc(x)\n",
        "\n",
        "# Initialize classification model for fine-tuning\n",
        "classification_model = ClassificationModel(mae_model=model,num_features=num_features,num_classes=16).to(device)\n",
        "classification_optimizer = torch.optim.Adam(classification_model.parameters(), lr=0.001)\n",
        "criterion_cls = nn.CrossEntropyLoss()\n",
        "\n",
        "# Fine-tuning loop for classification task\n",
        "def fine_tune(epochs):\n",
        "    for epoch in range(epochs):\n",
        "        classification_model.train()\n",
        "        total_loss = 0\n",
        "        correct = 0\n",
        "        total = 0\n",
        "        for data,target in tqdm(train_loader):\n",
        "          data,target=data.to(device),target.to(device)\n",
        "\n",
        "          output=classification_model(data)\n",
        "          loss=criterion_cls(output,target)\n",
        "\n",
        "          classification_optimizer.zero_grad()\n",
        "          loss.backward()\n",
        "          classification_optimizer.step()\n",
        "\n",
        "          total_loss+=loss.item()\n",
        "          _,predicted=output.max(1)\n",
        "          total+=target.size(0)\n",
        "          correct+=predicted.eq(target).sum().item()\n",
        "\n",
        "          accuracy=100.*correct/total\n",
        "\n",
        "          print(f'Fine-tuning Epoch: {epoch+1}, Loss: {total_loss/len(train_loader):.4f}, Accuracy: {accuracy:.2f}%')\n",
        "\n",
        "# Fine-tune the model on classification task\n",
        "fine_tune(epochs=50)\n",
        "\n",
        "# Save the fine-tuned model after classification task\n",
        "torch.save(classification_model.state_dict(), 'mae_finetuned_model.pth')\n",
        "\n",
        "# Evaluation function to test performance on test set\n",
        "def evaluate(model,data_loader):\n",
        "   model.eval()\n",
        "   correct,total=0.,0.\n",
        "   with torch.no_grad():\n",
        "     for data,target in tqdm(data_loader):\n",
        "       data,target=data.to(device),target.to(device)\n",
        "       output=model(data)\n",
        "\n",
        "       _,predicted=output.max(1)\n",
        "       total+=target.size(0)\n",
        "       correct+=predicted.eq(target).sum().item()\n",
        "\n",
        "   return (100.*correct/total)\n",
        "\n",
        "\n",
        "# Evaluate on test set\n",
        "# Evaluate on test set\n",
        "test_transform = transforms.Compose([\n",
        "    transforms.Resize((224, 224)),\n",
        "    transforms.ToTensor(),\n",
        "    transforms.Normalize(mean=[0.485, 0.456, 0.406], std=[0.229, 0.224, 0.225])\n",
        "])\n",
        "\n",
        "test_dataset = ImageFolder('./test/', transform=test_transform)\n",
        "test_loader = DataLoader(test_dataset, batch_size=32, shuffle=False, num_workers=2, pin_memory=True)\n",
        "\n",
        "test_accuracy = evaluate(classification_model, test_loader)\n",
        "print(f\"Test Accuracy: {test_accuracy:.2f}%\")"
      ],
      "metadata": {
        "colab": {
          "base_uri": "https://localhost:8080/"
        },
        "id": "dw2VfK4RKM-Q",
        "outputId": "0c351a07-16ec-4fd7-8403-e011338b6da8"
      },
      "execution_count": 19,
      "outputs": [
        {
          "output_type": "stream",
          "name": "stdout",
          "text": [
            "Using device: cuda\n"
          ]
        },
        {
          "output_type": "stream",
          "name": "stderr",
          "text": [
            "100%|██████████| 60/60 [00:21<00:00,  2.83it/s]\n"
          ]
        },
        {
          "output_type": "stream",
          "name": "stdout",
          "text": [
            "Epoch 1, Loss: 1.1433\n"
          ]
        },
        {
          "output_type": "stream",
          "name": "stderr",
          "text": [
            "100%|██████████| 60/60 [00:18<00:00,  3.31it/s]\n"
          ]
        },
        {
          "output_type": "stream",
          "name": "stdout",
          "text": [
            "Epoch 2, Loss: 0.8440\n"
          ]
        },
        {
          "output_type": "stream",
          "name": "stderr",
          "text": [
            "100%|██████████| 60/60 [00:18<00:00,  3.32it/s]\n"
          ]
        },
        {
          "output_type": "stream",
          "name": "stdout",
          "text": [
            "Epoch 3, Loss: 0.8230\n"
          ]
        },
        {
          "output_type": "stream",
          "name": "stderr",
          "text": [
            "100%|██████████| 60/60 [00:21<00:00,  2.83it/s]\n"
          ]
        },
        {
          "output_type": "stream",
          "name": "stdout",
          "text": [
            "Epoch 4, Loss: 0.7981\n"
          ]
        },
        {
          "output_type": "stream",
          "name": "stderr",
          "text": [
            "100%|██████████| 60/60 [00:18<00:00,  3.23it/s]\n"
          ]
        },
        {
          "output_type": "stream",
          "name": "stdout",
          "text": [
            "Epoch 5, Loss: 0.8245\n"
          ]
        },
        {
          "output_type": "stream",
          "name": "stderr",
          "text": [
            "100%|██████████| 60/60 [00:18<00:00,  3.26it/s]\n"
          ]
        },
        {
          "output_type": "stream",
          "name": "stdout",
          "text": [
            "Epoch 6, Loss: 0.7878\n"
          ]
        },
        {
          "output_type": "stream",
          "name": "stderr",
          "text": [
            "100%|██████████| 60/60 [00:19<00:00,  3.10it/s]\n"
          ]
        },
        {
          "output_type": "stream",
          "name": "stdout",
          "text": [
            "Epoch 7, Loss: 0.7812\n"
          ]
        },
        {
          "output_type": "stream",
          "name": "stderr",
          "text": [
            "100%|██████████| 60/60 [00:19<00:00,  3.05it/s]\n"
          ]
        },
        {
          "output_type": "stream",
          "name": "stdout",
          "text": [
            "Epoch 8, Loss: 0.7550\n"
          ]
        },
        {
          "output_type": "stream",
          "name": "stderr",
          "text": [
            "100%|██████████| 60/60 [00:18<00:00,  3.32it/s]\n"
          ]
        },
        {
          "output_type": "stream",
          "name": "stdout",
          "text": [
            "Epoch 9, Loss: 0.7724\n"
          ]
        },
        {
          "output_type": "stream",
          "name": "stderr",
          "text": [
            "100%|██████████| 60/60 [00:18<00:00,  3.21it/s]\n"
          ]
        },
        {
          "output_type": "stream",
          "name": "stdout",
          "text": [
            "Epoch 10, Loss: 0.7439\n"
          ]
        },
        {
          "output_type": "stream",
          "name": "stderr",
          "text": [
            "100%|██████████| 60/60 [00:20<00:00,  2.98it/s]\n"
          ]
        },
        {
          "output_type": "stream",
          "name": "stdout",
          "text": [
            "Epoch 11, Loss: 0.7473\n"
          ]
        },
        {
          "output_type": "stream",
          "name": "stderr",
          "text": [
            "100%|██████████| 60/60 [00:18<00:00,  3.30it/s]\n"
          ]
        },
        {
          "output_type": "stream",
          "name": "stdout",
          "text": [
            "Epoch 12, Loss: 0.7735\n"
          ]
        },
        {
          "output_type": "stream",
          "name": "stderr",
          "text": [
            "100%|██████████| 60/60 [00:18<00:00,  3.27it/s]\n"
          ]
        },
        {
          "output_type": "stream",
          "name": "stdout",
          "text": [
            "Epoch 13, Loss: 0.7365\n"
          ]
        },
        {
          "output_type": "stream",
          "name": "stderr",
          "text": [
            "100%|██████████| 60/60 [00:18<00:00,  3.26it/s]\n"
          ]
        },
        {
          "output_type": "stream",
          "name": "stdout",
          "text": [
            "Epoch 14, Loss: 0.7574\n"
          ]
        },
        {
          "output_type": "stream",
          "name": "stderr",
          "text": [
            "100%|██████████| 60/60 [00:20<00:00,  2.96it/s]\n"
          ]
        },
        {
          "output_type": "stream",
          "name": "stdout",
          "text": [
            "Epoch 15, Loss: 0.7420\n"
          ]
        },
        {
          "output_type": "stream",
          "name": "stderr",
          "text": [
            "100%|██████████| 60/60 [00:18<00:00,  3.22it/s]\n"
          ]
        },
        {
          "output_type": "stream",
          "name": "stdout",
          "text": [
            "Epoch 16, Loss: 0.7316\n"
          ]
        },
        {
          "output_type": "stream",
          "name": "stderr",
          "text": [
            "100%|██████████| 60/60 [00:18<00:00,  3.20it/s]\n"
          ]
        },
        {
          "output_type": "stream",
          "name": "stdout",
          "text": [
            "Epoch 17, Loss: 0.7243\n"
          ]
        },
        {
          "output_type": "stream",
          "name": "stderr",
          "text": [
            "100%|██████████| 60/60 [00:19<00:00,  3.15it/s]\n"
          ]
        },
        {
          "output_type": "stream",
          "name": "stdout",
          "text": [
            "Epoch 18, Loss: 0.6811\n"
          ]
        },
        {
          "output_type": "stream",
          "name": "stderr",
          "text": [
            "100%|██████████| 60/60 [00:19<00:00,  3.07it/s]\n"
          ]
        },
        {
          "output_type": "stream",
          "name": "stdout",
          "text": [
            "Epoch 19, Loss: 0.7088\n"
          ]
        },
        {
          "output_type": "stream",
          "name": "stderr",
          "text": [
            "100%|██████████| 60/60 [00:18<00:00,  3.29it/s]\n"
          ]
        },
        {
          "output_type": "stream",
          "name": "stdout",
          "text": [
            "Epoch 20, Loss: 0.6969\n"
          ]
        },
        {
          "output_type": "stream",
          "name": "stderr",
          "text": [
            "100%|██████████| 60/60 [00:18<00:00,  3.25it/s]\n"
          ]
        },
        {
          "output_type": "stream",
          "name": "stdout",
          "text": [
            "Epoch 21, Loss: 0.6882\n"
          ]
        },
        {
          "output_type": "stream",
          "name": "stderr",
          "text": [
            "100%|██████████| 60/60 [00:18<00:00,  3.20it/s]\n"
          ]
        },
        {
          "output_type": "stream",
          "name": "stdout",
          "text": [
            "Epoch 22, Loss: 0.6935\n"
          ]
        },
        {
          "output_type": "stream",
          "name": "stderr",
          "text": [
            "100%|██████████| 60/60 [00:20<00:00,  2.99it/s]\n"
          ]
        },
        {
          "output_type": "stream",
          "name": "stdout",
          "text": [
            "Epoch 23, Loss: 0.6934\n"
          ]
        },
        {
          "output_type": "stream",
          "name": "stderr",
          "text": [
            "100%|██████████| 60/60 [00:18<00:00,  3.27it/s]\n"
          ]
        },
        {
          "output_type": "stream",
          "name": "stdout",
          "text": [
            "Epoch 24, Loss: 0.6819\n"
          ]
        },
        {
          "output_type": "stream",
          "name": "stderr",
          "text": [
            "100%|██████████| 60/60 [00:18<00:00,  3.22it/s]\n"
          ]
        },
        {
          "output_type": "stream",
          "name": "stdout",
          "text": [
            "Epoch 25, Loss: 0.6500\n"
          ]
        },
        {
          "output_type": "stream",
          "name": "stderr",
          "text": [
            "100%|██████████| 60/60 [00:18<00:00,  3.19it/s]\n"
          ]
        },
        {
          "output_type": "stream",
          "name": "stdout",
          "text": [
            "Epoch 26, Loss: 0.6622\n"
          ]
        },
        {
          "output_type": "stream",
          "name": "stderr",
          "text": [
            "100%|██████████| 60/60 [00:20<00:00,  2.95it/s]\n"
          ]
        },
        {
          "output_type": "stream",
          "name": "stdout",
          "text": [
            "Epoch 27, Loss: 0.6491\n"
          ]
        },
        {
          "output_type": "stream",
          "name": "stderr",
          "text": [
            "100%|██████████| 60/60 [00:18<00:00,  3.22it/s]\n"
          ]
        },
        {
          "output_type": "stream",
          "name": "stdout",
          "text": [
            "Epoch 28, Loss: 0.6487\n"
          ]
        },
        {
          "output_type": "stream",
          "name": "stderr",
          "text": [
            "100%|██████████| 60/60 [00:19<00:00,  3.13it/s]\n"
          ]
        },
        {
          "output_type": "stream",
          "name": "stdout",
          "text": [
            "Epoch 29, Loss: 0.6126\n"
          ]
        },
        {
          "output_type": "stream",
          "name": "stderr",
          "text": [
            "100%|██████████| 60/60 [00:20<00:00,  2.92it/s]\n"
          ]
        },
        {
          "output_type": "stream",
          "name": "stdout",
          "text": [
            "Epoch 30, Loss: 0.6283\n"
          ]
        },
        {
          "output_type": "stream",
          "name": "stderr",
          "text": [
            "100%|██████████| 60/60 [00:18<00:00,  3.18it/s]\n"
          ]
        },
        {
          "output_type": "stream",
          "name": "stdout",
          "text": [
            "Epoch 31, Loss: 0.6303\n"
          ]
        },
        {
          "output_type": "stream",
          "name": "stderr",
          "text": [
            "100%|██████████| 60/60 [00:22<00:00,  2.64it/s]\n"
          ]
        },
        {
          "output_type": "stream",
          "name": "stdout",
          "text": [
            "Epoch 32, Loss: 0.6214\n"
          ]
        },
        {
          "output_type": "stream",
          "name": "stderr",
          "text": [
            "100%|██████████| 60/60 [00:20<00:00,  2.96it/s]\n"
          ]
        },
        {
          "output_type": "stream",
          "name": "stdout",
          "text": [
            "Epoch 33, Loss: 0.6258\n"
          ]
        },
        {
          "output_type": "stream",
          "name": "stderr",
          "text": [
            "100%|██████████| 60/60 [00:18<00:00,  3.19it/s]\n"
          ]
        },
        {
          "output_type": "stream",
          "name": "stdout",
          "text": [
            "Epoch 34, Loss: 0.6108\n"
          ]
        },
        {
          "output_type": "stream",
          "name": "stderr",
          "text": [
            "100%|██████████| 60/60 [00:18<00:00,  3.18it/s]\n"
          ]
        },
        {
          "output_type": "stream",
          "name": "stdout",
          "text": [
            "Epoch 35, Loss: 0.6209\n"
          ]
        },
        {
          "output_type": "stream",
          "name": "stderr",
          "text": [
            "100%|██████████| 60/60 [00:19<00:00,  3.08it/s]\n"
          ]
        },
        {
          "output_type": "stream",
          "name": "stdout",
          "text": [
            "Epoch 36, Loss: 0.5931\n"
          ]
        },
        {
          "output_type": "stream",
          "name": "stderr",
          "text": [
            "100%|██████████| 60/60 [00:19<00:00,  3.08it/s]\n"
          ]
        },
        {
          "output_type": "stream",
          "name": "stdout",
          "text": [
            "Epoch 37, Loss: 0.6081\n"
          ]
        },
        {
          "output_type": "stream",
          "name": "stderr",
          "text": [
            "100%|██████████| 60/60 [00:18<00:00,  3.19it/s]\n"
          ]
        },
        {
          "output_type": "stream",
          "name": "stdout",
          "text": [
            "Epoch 38, Loss: 0.6058\n"
          ]
        },
        {
          "output_type": "stream",
          "name": "stderr",
          "text": [
            "100%|██████████| 60/60 [00:19<00:00,  3.13it/s]\n"
          ]
        },
        {
          "output_type": "stream",
          "name": "stdout",
          "text": [
            "Epoch 39, Loss: 0.5948\n"
          ]
        },
        {
          "output_type": "stream",
          "name": "stderr",
          "text": [
            "100%|██████████| 60/60 [00:20<00:00,  2.90it/s]\n"
          ]
        },
        {
          "output_type": "stream",
          "name": "stdout",
          "text": [
            "Epoch 40, Loss: 0.6008\n"
          ]
        },
        {
          "output_type": "stream",
          "name": "stderr",
          "text": [
            "100%|██████████| 60/60 [00:18<00:00,  3.17it/s]\n"
          ]
        },
        {
          "output_type": "stream",
          "name": "stdout",
          "text": [
            "Epoch 41, Loss: 0.5962\n"
          ]
        },
        {
          "output_type": "stream",
          "name": "stderr",
          "text": [
            "100%|██████████| 60/60 [00:18<00:00,  3.21it/s]\n"
          ]
        },
        {
          "output_type": "stream",
          "name": "stdout",
          "text": [
            "Epoch 42, Loss: 0.6036\n"
          ]
        },
        {
          "output_type": "stream",
          "name": "stderr",
          "text": [
            "100%|██████████| 60/60 [00:19<00:00,  3.15it/s]\n"
          ]
        },
        {
          "output_type": "stream",
          "name": "stdout",
          "text": [
            "Epoch 43, Loss: 0.5788\n"
          ]
        },
        {
          "output_type": "stream",
          "name": "stderr",
          "text": [
            "100%|██████████| 60/60 [00:19<00:00,  3.09it/s]\n"
          ]
        },
        {
          "output_type": "stream",
          "name": "stdout",
          "text": [
            "Epoch 44, Loss: 0.5752\n"
          ]
        },
        {
          "output_type": "stream",
          "name": "stderr",
          "text": [
            "100%|██████████| 60/60 [00:18<00:00,  3.18it/s]\n"
          ]
        },
        {
          "output_type": "stream",
          "name": "stdout",
          "text": [
            "Epoch 45, Loss: 0.5985\n"
          ]
        },
        {
          "output_type": "stream",
          "name": "stderr",
          "text": [
            "100%|██████████| 60/60 [00:18<00:00,  3.23it/s]\n"
          ]
        },
        {
          "output_type": "stream",
          "name": "stdout",
          "text": [
            "Epoch 46, Loss: 0.5827\n"
          ]
        },
        {
          "output_type": "stream",
          "name": "stderr",
          "text": [
            "100%|██████████| 60/60 [00:21<00:00,  2.86it/s]\n"
          ]
        },
        {
          "output_type": "stream",
          "name": "stdout",
          "text": [
            "Epoch 47, Loss: 0.5854\n"
          ]
        },
        {
          "output_type": "stream",
          "name": "stderr",
          "text": [
            "100%|██████████| 60/60 [00:18<00:00,  3.27it/s]\n"
          ]
        },
        {
          "output_type": "stream",
          "name": "stdout",
          "text": [
            "Epoch 48, Loss: 0.5765\n"
          ]
        },
        {
          "output_type": "stream",
          "name": "stderr",
          "text": [
            "100%|██████████| 60/60 [00:18<00:00,  3.28it/s]\n"
          ]
        },
        {
          "output_type": "stream",
          "name": "stdout",
          "text": [
            "Epoch 49, Loss: 0.5844\n"
          ]
        },
        {
          "output_type": "stream",
          "name": "stderr",
          "text": [
            "100%|██████████| 60/60 [00:19<00:00,  3.11it/s]\n"
          ]
        },
        {
          "output_type": "stream",
          "name": "stdout",
          "text": [
            "Epoch 50, Loss: 0.5917\n"
          ]
        },
        {
          "output_type": "stream",
          "name": "stderr",
          "text": [
            "100%|██████████| 60/60 [00:19<00:00,  3.09it/s]\n"
          ]
        },
        {
          "output_type": "stream",
          "name": "stdout",
          "text": [
            "Epoch 51, Loss: 0.5766\n"
          ]
        },
        {
          "output_type": "stream",
          "name": "stderr",
          "text": [
            "100%|██████████| 60/60 [00:18<00:00,  3.23it/s]\n"
          ]
        },
        {
          "output_type": "stream",
          "name": "stdout",
          "text": [
            "Epoch 52, Loss: 0.5699\n"
          ]
        },
        {
          "output_type": "stream",
          "name": "stderr",
          "text": [
            "100%|██████████| 60/60 [00:20<00:00,  2.91it/s]\n"
          ]
        },
        {
          "output_type": "stream",
          "name": "stdout",
          "text": [
            "Epoch 53, Loss: 0.5671\n"
          ]
        },
        {
          "output_type": "stream",
          "name": "stderr",
          "text": [
            "100%|██████████| 60/60 [00:21<00:00,  2.74it/s]\n"
          ]
        },
        {
          "output_type": "stream",
          "name": "stdout",
          "text": [
            "Epoch 54, Loss: 0.5642\n"
          ]
        },
        {
          "output_type": "stream",
          "name": "stderr",
          "text": [
            "100%|██████████| 60/60 [00:19<00:00,  3.15it/s]\n"
          ]
        },
        {
          "output_type": "stream",
          "name": "stdout",
          "text": [
            "Epoch 55, Loss: 0.5629\n"
          ]
        },
        {
          "output_type": "stream",
          "name": "stderr",
          "text": [
            "100%|██████████| 60/60 [00:21<00:00,  2.82it/s]\n"
          ]
        },
        {
          "output_type": "stream",
          "name": "stdout",
          "text": [
            "Epoch 56, Loss: 0.5772\n"
          ]
        },
        {
          "output_type": "stream",
          "name": "stderr",
          "text": [
            "100%|██████████| 60/60 [00:18<00:00,  3.21it/s]\n"
          ]
        },
        {
          "output_type": "stream",
          "name": "stdout",
          "text": [
            "Epoch 57, Loss: 0.5614\n"
          ]
        },
        {
          "output_type": "stream",
          "name": "stderr",
          "text": [
            "100%|██████████| 60/60 [00:18<00:00,  3.24it/s]\n"
          ]
        },
        {
          "output_type": "stream",
          "name": "stdout",
          "text": [
            "Epoch 58, Loss: 0.5540\n"
          ]
        },
        {
          "output_type": "stream",
          "name": "stderr",
          "text": [
            "100%|██████████| 60/60 [00:21<00:00,  2.75it/s]\n"
          ]
        },
        {
          "output_type": "stream",
          "name": "stdout",
          "text": [
            "Epoch 59, Loss: 0.5738\n"
          ]
        },
        {
          "output_type": "stream",
          "name": "stderr",
          "text": [
            "100%|██████████| 60/60 [00:18<00:00,  3.16it/s]\n"
          ]
        },
        {
          "output_type": "stream",
          "name": "stdout",
          "text": [
            "Epoch 60, Loss: 0.5646\n"
          ]
        },
        {
          "output_type": "stream",
          "name": "stderr",
          "text": [
            "100%|██████████| 60/60 [00:18<00:00,  3.22it/s]\n"
          ]
        },
        {
          "output_type": "stream",
          "name": "stdout",
          "text": [
            "Epoch 61, Loss: 0.5528\n"
          ]
        },
        {
          "output_type": "stream",
          "name": "stderr",
          "text": [
            "100%|██████████| 60/60 [00:19<00:00,  3.07it/s]\n"
          ]
        },
        {
          "output_type": "stream",
          "name": "stdout",
          "text": [
            "Epoch 62, Loss: 0.5529\n"
          ]
        },
        {
          "output_type": "stream",
          "name": "stderr",
          "text": [
            "100%|██████████| 60/60 [00:19<00:00,  3.05it/s]\n"
          ]
        },
        {
          "output_type": "stream",
          "name": "stdout",
          "text": [
            "Epoch 63, Loss: 0.5575\n"
          ]
        },
        {
          "output_type": "stream",
          "name": "stderr",
          "text": [
            "100%|██████████| 60/60 [00:18<00:00,  3.21it/s]\n"
          ]
        },
        {
          "output_type": "stream",
          "name": "stdout",
          "text": [
            "Epoch 64, Loss: 0.5635\n"
          ]
        },
        {
          "output_type": "stream",
          "name": "stderr",
          "text": [
            "100%|██████████| 60/60 [00:19<00:00,  3.13it/s]\n"
          ]
        },
        {
          "output_type": "stream",
          "name": "stdout",
          "text": [
            "Epoch 65, Loss: 0.5473\n"
          ]
        },
        {
          "output_type": "stream",
          "name": "stderr",
          "text": [
            "100%|██████████| 60/60 [00:21<00:00,  2.83it/s]\n"
          ]
        },
        {
          "output_type": "stream",
          "name": "stdout",
          "text": [
            "Epoch 66, Loss: 0.5486\n"
          ]
        },
        {
          "output_type": "stream",
          "name": "stderr",
          "text": [
            "100%|██████████| 60/60 [00:18<00:00,  3.16it/s]\n"
          ]
        },
        {
          "output_type": "stream",
          "name": "stdout",
          "text": [
            "Epoch 67, Loss: 0.5437\n"
          ]
        },
        {
          "output_type": "stream",
          "name": "stderr",
          "text": [
            "100%|██████████| 60/60 [00:19<00:00,  3.14it/s]\n"
          ]
        },
        {
          "output_type": "stream",
          "name": "stdout",
          "text": [
            "Epoch 68, Loss: 0.5448\n"
          ]
        },
        {
          "output_type": "stream",
          "name": "stderr",
          "text": [
            "100%|██████████| 60/60 [00:19<00:00,  3.03it/s]\n"
          ]
        },
        {
          "output_type": "stream",
          "name": "stdout",
          "text": [
            "Epoch 69, Loss: 0.5557\n"
          ]
        },
        {
          "output_type": "stream",
          "name": "stderr",
          "text": [
            "100%|██████████| 60/60 [00:19<00:00,  3.09it/s]\n"
          ]
        },
        {
          "output_type": "stream",
          "name": "stdout",
          "text": [
            "Epoch 70, Loss: 0.5456\n"
          ]
        },
        {
          "output_type": "stream",
          "name": "stderr",
          "text": [
            "100%|██████████| 60/60 [00:18<00:00,  3.21it/s]\n"
          ]
        },
        {
          "output_type": "stream",
          "name": "stdout",
          "text": [
            "Epoch 71, Loss: 0.5460\n"
          ]
        },
        {
          "output_type": "stream",
          "name": "stderr",
          "text": [
            "100%|██████████| 60/60 [00:18<00:00,  3.18it/s]\n"
          ]
        },
        {
          "output_type": "stream",
          "name": "stdout",
          "text": [
            "Epoch 72, Loss: 0.5400\n"
          ]
        },
        {
          "output_type": "stream",
          "name": "stderr",
          "text": [
            "100%|██████████| 60/60 [00:20<00:00,  2.89it/s]\n"
          ]
        },
        {
          "output_type": "stream",
          "name": "stdout",
          "text": [
            "Epoch 73, Loss: 0.5478\n"
          ]
        },
        {
          "output_type": "stream",
          "name": "stderr",
          "text": [
            "100%|██████████| 60/60 [00:18<00:00,  3.23it/s]\n"
          ]
        },
        {
          "output_type": "stream",
          "name": "stdout",
          "text": [
            "Epoch 74, Loss: 0.5284\n"
          ]
        },
        {
          "output_type": "stream",
          "name": "stderr",
          "text": [
            "100%|██████████| 60/60 [00:18<00:00,  3.21it/s]\n"
          ]
        },
        {
          "output_type": "stream",
          "name": "stdout",
          "text": [
            "Epoch 75, Loss: 0.5288\n"
          ]
        },
        {
          "output_type": "stream",
          "name": "stderr",
          "text": [
            "100%|██████████| 60/60 [00:20<00:00,  2.98it/s]\n"
          ]
        },
        {
          "output_type": "stream",
          "name": "stdout",
          "text": [
            "Epoch 76, Loss: 0.5252\n"
          ]
        },
        {
          "output_type": "stream",
          "name": "stderr",
          "text": [
            "100%|██████████| 60/60 [00:19<00:00,  3.12it/s]\n"
          ]
        },
        {
          "output_type": "stream",
          "name": "stdout",
          "text": [
            "Epoch 77, Loss: 0.5390\n"
          ]
        },
        {
          "output_type": "stream",
          "name": "stderr",
          "text": [
            "100%|██████████| 60/60 [00:18<00:00,  3.24it/s]\n"
          ]
        },
        {
          "output_type": "stream",
          "name": "stdout",
          "text": [
            "Epoch 78, Loss: 0.5426\n"
          ]
        },
        {
          "output_type": "stream",
          "name": "stderr",
          "text": [
            "100%|██████████| 60/60 [00:18<00:00,  3.23it/s]\n"
          ]
        },
        {
          "output_type": "stream",
          "name": "stdout",
          "text": [
            "Epoch 79, Loss: 0.5196\n"
          ]
        },
        {
          "output_type": "stream",
          "name": "stderr",
          "text": [
            "100%|██████████| 60/60 [00:20<00:00,  2.98it/s]\n"
          ]
        },
        {
          "output_type": "stream",
          "name": "stdout",
          "text": [
            "Epoch 80, Loss: 0.5281\n"
          ]
        },
        {
          "output_type": "stream",
          "name": "stderr",
          "text": [
            "100%|██████████| 60/60 [00:18<00:00,  3.24it/s]\n"
          ]
        },
        {
          "output_type": "stream",
          "name": "stdout",
          "text": [
            "Epoch 81, Loss: 0.5361\n"
          ]
        },
        {
          "output_type": "stream",
          "name": "stderr",
          "text": [
            "100%|██████████| 60/60 [00:21<00:00,  2.77it/s]\n"
          ]
        },
        {
          "output_type": "stream",
          "name": "stdout",
          "text": [
            "Epoch 82, Loss: 0.5228\n"
          ]
        },
        {
          "output_type": "stream",
          "name": "stderr",
          "text": [
            "100%|██████████| 60/60 [00:22<00:00,  2.72it/s]\n"
          ]
        },
        {
          "output_type": "stream",
          "name": "stdout",
          "text": [
            "Epoch 83, Loss: 0.5404\n"
          ]
        },
        {
          "output_type": "stream",
          "name": "stderr",
          "text": [
            "100%|██████████| 60/60 [00:18<00:00,  3.24it/s]\n"
          ]
        },
        {
          "output_type": "stream",
          "name": "stdout",
          "text": [
            "Epoch 84, Loss: 0.5327\n"
          ]
        },
        {
          "output_type": "stream",
          "name": "stderr",
          "text": [
            "100%|██████████| 60/60 [00:19<00:00,  3.13it/s]\n"
          ]
        },
        {
          "output_type": "stream",
          "name": "stdout",
          "text": [
            "Epoch 85, Loss: 0.5398\n"
          ]
        },
        {
          "output_type": "stream",
          "name": "stderr",
          "text": [
            "100%|██████████| 60/60 [00:19<00:00,  3.04it/s]\n"
          ]
        },
        {
          "output_type": "stream",
          "name": "stdout",
          "text": [
            "Epoch 86, Loss: 0.5184\n"
          ]
        },
        {
          "output_type": "stream",
          "name": "stderr",
          "text": [
            "100%|██████████| 60/60 [00:19<00:00,  3.01it/s]\n"
          ]
        },
        {
          "output_type": "stream",
          "name": "stdout",
          "text": [
            "Epoch 87, Loss: 0.5189\n"
          ]
        },
        {
          "output_type": "stream",
          "name": "stderr",
          "text": [
            "100%|██████████| 60/60 [00:21<00:00,  2.85it/s]\n"
          ]
        },
        {
          "output_type": "stream",
          "name": "stdout",
          "text": [
            "Epoch 88, Loss: 0.5227\n"
          ]
        },
        {
          "output_type": "stream",
          "name": "stderr",
          "text": [
            "100%|██████████| 60/60 [00:20<00:00,  2.97it/s]\n"
          ]
        },
        {
          "output_type": "stream",
          "name": "stdout",
          "text": [
            "Epoch 89, Loss: 0.5203\n"
          ]
        },
        {
          "output_type": "stream",
          "name": "stderr",
          "text": [
            "100%|██████████| 60/60 [00:18<00:00,  3.24it/s]\n"
          ]
        },
        {
          "output_type": "stream",
          "name": "stdout",
          "text": [
            "Epoch 90, Loss: 0.5345\n"
          ]
        },
        {
          "output_type": "stream",
          "name": "stderr",
          "text": [
            "100%|██████████| 60/60 [00:21<00:00,  2.82it/s]\n"
          ]
        },
        {
          "output_type": "stream",
          "name": "stdout",
          "text": [
            "Epoch 91, Loss: 0.5276\n"
          ]
        },
        {
          "output_type": "stream",
          "name": "stderr",
          "text": [
            "100%|██████████| 60/60 [00:22<00:00,  2.63it/s]\n"
          ]
        },
        {
          "output_type": "stream",
          "name": "stdout",
          "text": [
            "Epoch 92, Loss: 0.5223\n"
          ]
        },
        {
          "output_type": "stream",
          "name": "stderr",
          "text": [
            "100%|██████████| 60/60 [00:18<00:00,  3.25it/s]\n"
          ]
        },
        {
          "output_type": "stream",
          "name": "stdout",
          "text": [
            "Epoch 93, Loss: 0.5183\n"
          ]
        },
        {
          "output_type": "stream",
          "name": "stderr",
          "text": [
            "100%|██████████| 60/60 [00:20<00:00,  2.96it/s]\n"
          ]
        },
        {
          "output_type": "stream",
          "name": "stdout",
          "text": [
            "Epoch 94, Loss: 0.5128\n"
          ]
        },
        {
          "output_type": "stream",
          "name": "stderr",
          "text": [
            "100%|██████████| 60/60 [00:20<00:00,  2.98it/s]\n"
          ]
        },
        {
          "output_type": "stream",
          "name": "stdout",
          "text": [
            "Epoch 95, Loss: 0.5221\n"
          ]
        },
        {
          "output_type": "stream",
          "name": "stderr",
          "text": [
            "100%|██████████| 60/60 [00:19<00:00,  3.12it/s]\n"
          ]
        },
        {
          "output_type": "stream",
          "name": "stdout",
          "text": [
            "Epoch 96, Loss: 0.5089\n"
          ]
        },
        {
          "output_type": "stream",
          "name": "stderr",
          "text": [
            "100%|██████████| 60/60 [00:19<00:00,  3.14it/s]\n"
          ]
        },
        {
          "output_type": "stream",
          "name": "stdout",
          "text": [
            "Epoch 97, Loss: 0.5167\n"
          ]
        },
        {
          "output_type": "stream",
          "name": "stderr",
          "text": [
            "100%|██████████| 60/60 [00:20<00:00,  2.92it/s]\n"
          ]
        },
        {
          "output_type": "stream",
          "name": "stdout",
          "text": [
            "Epoch 98, Loss: 0.5184\n"
          ]
        },
        {
          "output_type": "stream",
          "name": "stderr",
          "text": [
            "100%|██████████| 60/60 [00:18<00:00,  3.21it/s]\n"
          ]
        },
        {
          "output_type": "stream",
          "name": "stdout",
          "text": [
            "Epoch 99, Loss: 0.5177\n"
          ]
        },
        {
          "output_type": "stream",
          "name": "stderr",
          "text": [
            "100%|██████████| 60/60 [00:18<00:00,  3.22it/s]\n"
          ]
        },
        {
          "output_type": "stream",
          "name": "stdout",
          "text": [
            "Epoch 100, Loss: 0.5260\n"
          ]
        },
        {
          "output_type": "stream",
          "name": "stderr",
          "text": [
            "  3%|▎         | 2/60 [00:01<00:39,  1.48it/s]"
          ]
        },
        {
          "output_type": "stream",
          "name": "stdout",
          "text": [
            "Fine-tuning Epoch: 1, Loss: 0.0520, Accuracy: 3.12%\n",
            "Fine-tuning Epoch: 1, Loss: 0.1009, Accuracy: 6.25%\n"
          ]
        },
        {
          "output_type": "stream",
          "name": "stderr",
          "text": [
            "  7%|▋         | 4/60 [00:02<00:26,  2.09it/s]"
          ]
        },
        {
          "output_type": "stream",
          "name": "stdout",
          "text": [
            "Fine-tuning Epoch: 1, Loss: 0.1547, Accuracy: 4.17%\n",
            "Fine-tuning Epoch: 1, Loss: 0.1982, Accuracy: 8.59%\n"
          ]
        },
        {
          "output_type": "stream",
          "name": "stderr",
          "text": [
            " 10%|█         | 6/60 [00:03<00:22,  2.41it/s]"
          ]
        },
        {
          "output_type": "stream",
          "name": "stdout",
          "text": [
            "Fine-tuning Epoch: 1, Loss: 0.2480, Accuracy: 8.12%\n",
            "Fine-tuning Epoch: 1, Loss: 0.2944, Accuracy: 8.85%\n"
          ]
        },
        {
          "output_type": "stream",
          "name": "stderr",
          "text": [
            " 13%|█▎        | 8/60 [00:04<00:20,  2.54it/s]"
          ]
        },
        {
          "output_type": "stream",
          "name": "stdout",
          "text": [
            "Fine-tuning Epoch: 1, Loss: 0.3433, Accuracy: 8.93%\n",
            "Fine-tuning Epoch: 1, Loss: 0.3889, Accuracy: 8.59%\n"
          ]
        },
        {
          "output_type": "stream",
          "name": "stderr",
          "text": [
            " 17%|█▋        | 10/60 [00:05<00:19,  2.51it/s]"
          ]
        },
        {
          "output_type": "stream",
          "name": "stdout",
          "text": [
            "Fine-tuning Epoch: 1, Loss: 0.4344, Accuracy: 9.38%\n",
            "Fine-tuning Epoch: 1, Loss: 0.4848, Accuracy: 9.38%\n"
          ]
        },
        {
          "output_type": "stream",
          "name": "stderr",
          "text": [
            " 20%|██        | 12/60 [00:05<00:17,  2.68it/s]"
          ]
        },
        {
          "output_type": "stream",
          "name": "stdout",
          "text": [
            "Fine-tuning Epoch: 1, Loss: 0.5305, Accuracy: 9.66%\n",
            "Fine-tuning Epoch: 1, Loss: 0.5737, Accuracy: 10.42%\n"
          ]
        },
        {
          "output_type": "stream",
          "name": "stderr",
          "text": [
            " 23%|██▎       | 14/60 [00:06<00:14,  3.25it/s]"
          ]
        },
        {
          "output_type": "stream",
          "name": "stdout",
          "text": [
            "Fine-tuning Epoch: 1, Loss: 0.6213, Accuracy: 10.58%\n",
            "Fine-tuning Epoch: 1, Loss: 0.6642, Accuracy: 11.16%\n"
          ]
        },
        {
          "output_type": "stream",
          "name": "stderr",
          "text": [
            "\r 25%|██▌       | 15/60 [00:06<00:13,  3.34it/s]"
          ]
        },
        {
          "output_type": "stream",
          "name": "stdout",
          "text": [
            "Fine-tuning Epoch: 1, Loss: 0.7035, Accuracy: 11.88%\n"
          ]
        },
        {
          "output_type": "stream",
          "name": "stderr",
          "text": [
            "\r 27%|██▋       | 16/60 [00:06<00:12,  3.48it/s]"
          ]
        },
        {
          "output_type": "stream",
          "name": "stdout",
          "text": [
            "Fine-tuning Epoch: 1, Loss: 0.7478, Accuracy: 11.72%\n"
          ]
        },
        {
          "output_type": "stream",
          "name": "stderr",
          "text": [
            "\r 28%|██▊       | 17/60 [00:07<00:12,  3.46it/s]"
          ]
        },
        {
          "output_type": "stream",
          "name": "stdout",
          "text": [
            "Fine-tuning Epoch: 1, Loss: 0.7955, Accuracy: 11.03%\n"
          ]
        },
        {
          "output_type": "stream",
          "name": "stderr",
          "text": [
            "\r 30%|███       | 18/60 [00:07<00:11,  3.64it/s]"
          ]
        },
        {
          "output_type": "stream",
          "name": "stdout",
          "text": [
            "Fine-tuning Epoch: 1, Loss: 0.8372, Accuracy: 11.46%\n"
          ]
        },
        {
          "output_type": "stream",
          "name": "stderr",
          "text": [
            "\r 32%|███▏      | 19/60 [00:07<00:11,  3.63it/s]"
          ]
        },
        {
          "output_type": "stream",
          "name": "stdout",
          "text": [
            "Fine-tuning Epoch: 1, Loss: 0.8846, Accuracy: 11.02%\n"
          ]
        },
        {
          "output_type": "stream",
          "name": "stderr",
          "text": [
            "\r 33%|███▎      | 20/60 [00:07<00:11,  3.62it/s]"
          ]
        },
        {
          "output_type": "stream",
          "name": "stdout",
          "text": [
            "Fine-tuning Epoch: 1, Loss: 0.9319, Accuracy: 11.09%\n"
          ]
        },
        {
          "output_type": "stream",
          "name": "stderr",
          "text": [
            "\r 35%|███▌      | 21/60 [00:08<00:10,  3.82it/s]"
          ]
        },
        {
          "output_type": "stream",
          "name": "stdout",
          "text": [
            "Fine-tuning Epoch: 1, Loss: 0.9759, Accuracy: 11.01%\n"
          ]
        },
        {
          "output_type": "stream",
          "name": "stderr",
          "text": [
            "\r 37%|███▋      | 22/60 [00:08<00:10,  3.56it/s]"
          ]
        },
        {
          "output_type": "stream",
          "name": "stdout",
          "text": [
            "Fine-tuning Epoch: 1, Loss: 1.0199, Accuracy: 11.51%\n"
          ]
        },
        {
          "output_type": "stream",
          "name": "stderr",
          "text": [
            "\r 38%|███▊      | 23/60 [00:08<00:09,  3.88it/s]"
          ]
        },
        {
          "output_type": "stream",
          "name": "stdout",
          "text": [
            "Fine-tuning Epoch: 1, Loss: 1.0611, Accuracy: 11.82%\n"
          ]
        },
        {
          "output_type": "stream",
          "name": "stderr",
          "text": [
            "\r 40%|████      | 24/60 [00:09<00:10,  3.56it/s]"
          ]
        },
        {
          "output_type": "stream",
          "name": "stdout",
          "text": [
            "Fine-tuning Epoch: 1, Loss: 1.1012, Accuracy: 12.37%\n",
            "Fine-tuning Epoch: 1, Loss: 1.1426, Accuracy: 12.75%\n"
          ]
        },
        {
          "output_type": "stream",
          "name": "stderr",
          "text": [
            " 43%|████▎     | 26/60 [00:09<00:09,  3.69it/s]"
          ]
        },
        {
          "output_type": "stream",
          "name": "stdout",
          "text": [
            "Fine-tuning Epoch: 1, Loss: 1.1859, Accuracy: 12.74%\n"
          ]
        },
        {
          "output_type": "stream",
          "name": "stderr",
          "text": [
            "\r 45%|████▌     | 27/60 [00:10<00:10,  3.08it/s]"
          ]
        },
        {
          "output_type": "stream",
          "name": "stdout",
          "text": [
            "Fine-tuning Epoch: 1, Loss: 1.2274, Accuracy: 12.73%\n"
          ]
        },
        {
          "output_type": "stream",
          "name": "stderr",
          "text": [
            "\r 47%|████▋     | 28/60 [00:10<00:11,  2.88it/s]"
          ]
        },
        {
          "output_type": "stream",
          "name": "stdout",
          "text": [
            "Fine-tuning Epoch: 1, Loss: 1.2709, Accuracy: 12.50%\n"
          ]
        },
        {
          "output_type": "stream",
          "name": "stderr",
          "text": [
            "\r 48%|████▊     | 29/60 [00:10<00:12,  2.43it/s]"
          ]
        },
        {
          "output_type": "stream",
          "name": "stdout",
          "text": [
            "Fine-tuning Epoch: 1, Loss: 1.3099, Accuracy: 12.61%\n"
          ]
        },
        {
          "output_type": "stream",
          "name": "stderr",
          "text": [
            "\r 50%|█████     | 30/60 [00:11<00:11,  2.71it/s]"
          ]
        },
        {
          "output_type": "stream",
          "name": "stdout",
          "text": [
            "Fine-tuning Epoch: 1, Loss: 1.3494, Accuracy: 13.12%\n"
          ]
        },
        {
          "output_type": "stream",
          "name": "stderr",
          "text": [
            "\r 52%|█████▏    | 31/60 [00:11<00:12,  2.35it/s]"
          ]
        },
        {
          "output_type": "stream",
          "name": "stdout",
          "text": [
            "Fine-tuning Epoch: 1, Loss: 1.3888, Accuracy: 13.31%\n"
          ]
        },
        {
          "output_type": "stream",
          "name": "stderr",
          "text": [
            "\r 53%|█████▎    | 32/60 [00:12<00:10,  2.55it/s]"
          ]
        },
        {
          "output_type": "stream",
          "name": "stdout",
          "text": [
            "Fine-tuning Epoch: 1, Loss: 1.4318, Accuracy: 13.77%\n"
          ]
        },
        {
          "output_type": "stream",
          "name": "stderr",
          "text": [
            "\r 55%|█████▌    | 33/60 [00:12<00:10,  2.48it/s]"
          ]
        },
        {
          "output_type": "stream",
          "name": "stdout",
          "text": [
            "Fine-tuning Epoch: 1, Loss: 1.4739, Accuracy: 14.30%\n"
          ]
        },
        {
          "output_type": "stream",
          "name": "stderr",
          "text": [
            "\r 57%|█████▋    | 34/60 [00:12<00:10,  2.55it/s]"
          ]
        },
        {
          "output_type": "stream",
          "name": "stdout",
          "text": [
            "Fine-tuning Epoch: 1, Loss: 1.5164, Accuracy: 14.61%\n"
          ]
        },
        {
          "output_type": "stream",
          "name": "stderr",
          "text": [
            "\r 58%|█████▊    | 35/60 [00:13<00:08,  2.86it/s]"
          ]
        },
        {
          "output_type": "stream",
          "name": "stdout",
          "text": [
            "Fine-tuning Epoch: 1, Loss: 1.5604, Accuracy: 14.82%\n"
          ]
        },
        {
          "output_type": "stream",
          "name": "stderr",
          "text": [
            "\r 60%|██████    | 36/60 [00:13<00:07,  3.07it/s]"
          ]
        },
        {
          "output_type": "stream",
          "name": "stdout",
          "text": [
            "Fine-tuning Epoch: 1, Loss: 1.5986, Accuracy: 15.02%\n"
          ]
        },
        {
          "output_type": "stream",
          "name": "stderr",
          "text": [
            "\r 62%|██████▏   | 37/60 [00:13<00:07,  3.24it/s]"
          ]
        },
        {
          "output_type": "stream",
          "name": "stdout",
          "text": [
            "Fine-tuning Epoch: 1, Loss: 1.6346, Accuracy: 15.54%\n"
          ]
        },
        {
          "output_type": "stream",
          "name": "stderr",
          "text": [
            "\r 63%|██████▎   | 38/60 [00:14<00:06,  3.29it/s]"
          ]
        },
        {
          "output_type": "stream",
          "name": "stdout",
          "text": [
            "Fine-tuning Epoch: 1, Loss: 1.6762, Accuracy: 15.62%\n"
          ]
        },
        {
          "output_type": "stream",
          "name": "stderr",
          "text": [
            "\r 65%|██████▌   | 39/60 [00:14<00:05,  3.57it/s]"
          ]
        },
        {
          "output_type": "stream",
          "name": "stdout",
          "text": [
            "Fine-tuning Epoch: 1, Loss: 1.7159, Accuracy: 15.87%\n"
          ]
        },
        {
          "output_type": "stream",
          "name": "stderr",
          "text": [
            "\r 67%|██████▋   | 40/60 [00:14<00:05,  3.59it/s]"
          ]
        },
        {
          "output_type": "stream",
          "name": "stdout",
          "text": [
            "Fine-tuning Epoch: 1, Loss: 1.7542, Accuracy: 16.09%\n"
          ]
        },
        {
          "output_type": "stream",
          "name": "stderr",
          "text": [
            " 70%|███████   | 42/60 [00:14<00:04,  4.08it/s]"
          ]
        },
        {
          "output_type": "stream",
          "name": "stdout",
          "text": [
            "Fine-tuning Epoch: 1, Loss: 1.7902, Accuracy: 16.46%\n",
            "Fine-tuning Epoch: 1, Loss: 1.8280, Accuracy: 16.59%\n"
          ]
        },
        {
          "output_type": "stream",
          "name": "stderr",
          "text": [
            " 73%|███████▎  | 44/60 [00:15<00:04,  3.99it/s]"
          ]
        },
        {
          "output_type": "stream",
          "name": "stdout",
          "text": [
            "Fine-tuning Epoch: 1, Loss: 1.8637, Accuracy: 16.93%\n",
            "Fine-tuning Epoch: 1, Loss: 1.9074, Accuracy: 17.05%\n"
          ]
        },
        {
          "output_type": "stream",
          "name": "stderr",
          "text": [
            "\r 75%|███████▌  | 45/60 [00:16<00:05,  2.71it/s]"
          ]
        },
        {
          "output_type": "stream",
          "name": "stdout",
          "text": [
            "Fine-tuning Epoch: 1, Loss: 1.9509, Accuracy: 17.15%\n"
          ]
        },
        {
          "output_type": "stream",
          "name": "stderr",
          "text": [
            "\r 77%|███████▋  | 46/60 [00:16<00:04,  3.07it/s]"
          ]
        },
        {
          "output_type": "stream",
          "name": "stdout",
          "text": [
            "Fine-tuning Epoch: 1, Loss: 1.9950, Accuracy: 17.19%\n"
          ]
        },
        {
          "output_type": "stream",
          "name": "stderr",
          "text": [
            " 80%|████████  | 48/60 [00:17<00:04,  2.87it/s]"
          ]
        },
        {
          "output_type": "stream",
          "name": "stdout",
          "text": [
            "Fine-tuning Epoch: 1, Loss: 2.0361, Accuracy: 17.35%\n",
            "Fine-tuning Epoch: 1, Loss: 2.0779, Accuracy: 17.51%\n"
          ]
        },
        {
          "output_type": "stream",
          "name": "stderr",
          "text": [
            " 83%|████████▎ | 50/60 [00:18<00:03,  2.78it/s]"
          ]
        },
        {
          "output_type": "stream",
          "name": "stdout",
          "text": [
            "Fine-tuning Epoch: 1, Loss: 2.1146, Accuracy: 17.86%\n",
            "Fine-tuning Epoch: 1, Loss: 2.1540, Accuracy: 17.88%\n"
          ]
        },
        {
          "output_type": "stream",
          "name": "stderr",
          "text": [
            " 87%|████████▋ | 52/60 [00:18<00:02,  2.71it/s]"
          ]
        },
        {
          "output_type": "stream",
          "name": "stdout",
          "text": [
            "Fine-tuning Epoch: 1, Loss: 2.1887, Accuracy: 17.95%\n",
            "Fine-tuning Epoch: 1, Loss: 2.2285, Accuracy: 17.91%\n"
          ]
        },
        {
          "output_type": "stream",
          "name": "stderr",
          "text": [
            "\r 88%|████████▊ | 53/60 [00:19<00:03,  2.07it/s]"
          ]
        },
        {
          "output_type": "stream",
          "name": "stdout",
          "text": [
            "Fine-tuning Epoch: 1, Loss: 2.2681, Accuracy: 18.16%\n"
          ]
        },
        {
          "output_type": "stream",
          "name": "stderr",
          "text": [
            "\r 90%|█████████ | 54/60 [00:19<00:02,  2.42it/s]"
          ]
        },
        {
          "output_type": "stream",
          "name": "stdout",
          "text": [
            "Fine-tuning Epoch: 1, Loss: 2.3085, Accuracy: 18.29%\n"
          ]
        },
        {
          "output_type": "stream",
          "name": "stderr",
          "text": [
            " 93%|█████████▎| 56/60 [00:21<00:02,  1.89it/s]"
          ]
        },
        {
          "output_type": "stream",
          "name": "stdout",
          "text": [
            "Fine-tuning Epoch: 1, Loss: 2.3480, Accuracy: 18.41%\n",
            "Fine-tuning Epoch: 1, Loss: 2.3897, Accuracy: 18.42%\n"
          ]
        },
        {
          "output_type": "stream",
          "name": "stderr",
          "text": [
            " 97%|█████████▋| 58/60 [00:21<00:00,  2.69it/s]"
          ]
        },
        {
          "output_type": "stream",
          "name": "stdout",
          "text": [
            "Fine-tuning Epoch: 1, Loss: 2.4283, Accuracy: 18.53%\n",
            "Fine-tuning Epoch: 1, Loss: 2.4658, Accuracy: 18.97%\n"
          ]
        },
        {
          "output_type": "stream",
          "name": "stderr",
          "text": [
            "100%|██████████| 60/60 [00:22<00:00,  2.67it/s]\n"
          ]
        },
        {
          "output_type": "stream",
          "name": "stdout",
          "text": [
            "Fine-tuning Epoch: 1, Loss: 2.5010, Accuracy: 19.28%\n",
            "Fine-tuning Epoch: 1, Loss: 2.5412, Accuracy: 19.32%\n"
          ]
        },
        {
          "output_type": "stream",
          "name": "stderr",
          "text": [
            "  3%|▎         | 2/60 [00:00<00:19,  2.94it/s]"
          ]
        },
        {
          "output_type": "stream",
          "name": "stdout",
          "text": [
            "Fine-tuning Epoch: 2, Loss: 0.0496, Accuracy: 6.25%\n",
            "Fine-tuning Epoch: 2, Loss: 0.0942, Accuracy: 10.94%\n"
          ]
        },
        {
          "output_type": "stream",
          "name": "stderr",
          "text": [
            "  7%|▋         | 4/60 [00:01<00:14,  3.84it/s]"
          ]
        },
        {
          "output_type": "stream",
          "name": "stdout",
          "text": [
            "Fine-tuning Epoch: 2, Loss: 0.1308, Accuracy: 17.71%\n",
            "Fine-tuning Epoch: 2, Loss: 0.1745, Accuracy: 18.75%\n"
          ]
        },
        {
          "output_type": "stream",
          "name": "stderr",
          "text": [
            " 10%|█         | 6/60 [00:01<00:13,  4.05it/s]"
          ]
        },
        {
          "output_type": "stream",
          "name": "stdout",
          "text": [
            "Fine-tuning Epoch: 2, Loss: 0.2135, Accuracy: 20.62%\n",
            "Fine-tuning Epoch: 2, Loss: 0.2561, Accuracy: 18.23%\n"
          ]
        },
        {
          "output_type": "stream",
          "name": "stderr",
          "text": [
            " 13%|█▎        | 8/60 [00:02<00:12,  4.30it/s]"
          ]
        },
        {
          "output_type": "stream",
          "name": "stdout",
          "text": [
            "Fine-tuning Epoch: 2, Loss: 0.2991, Accuracy: 16.96%\n",
            "Fine-tuning Epoch: 2, Loss: 0.3382, Accuracy: 17.58%\n"
          ]
        },
        {
          "output_type": "stream",
          "name": "stderr",
          "text": [
            " 17%|█▋        | 10/60 [00:02<00:11,  4.24it/s]"
          ]
        },
        {
          "output_type": "stream",
          "name": "stdout",
          "text": [
            "Fine-tuning Epoch: 2, Loss: 0.3792, Accuracy: 17.71%\n",
            "Fine-tuning Epoch: 2, Loss: 0.4197, Accuracy: 18.44%\n"
          ]
        },
        {
          "output_type": "stream",
          "name": "stderr",
          "text": [
            " 20%|██        | 12/60 [00:03<00:11,  4.06it/s]"
          ]
        },
        {
          "output_type": "stream",
          "name": "stdout",
          "text": [
            "Fine-tuning Epoch: 2, Loss: 0.4625, Accuracy: 17.90%\n",
            "Fine-tuning Epoch: 2, Loss: 0.5046, Accuracy: 17.97%\n"
          ]
        },
        {
          "output_type": "stream",
          "name": "stderr",
          "text": [
            " 23%|██▎       | 14/60 [00:03<00:11,  4.08it/s]"
          ]
        },
        {
          "output_type": "stream",
          "name": "stdout",
          "text": [
            "Fine-tuning Epoch: 2, Loss: 0.5470, Accuracy: 18.03%\n",
            "Fine-tuning Epoch: 2, Loss: 0.5896, Accuracy: 18.08%\n"
          ]
        },
        {
          "output_type": "stream",
          "name": "stderr",
          "text": [
            " 27%|██▋       | 16/60 [00:04<00:10,  4.00it/s]"
          ]
        },
        {
          "output_type": "stream",
          "name": "stdout",
          "text": [
            "Fine-tuning Epoch: 2, Loss: 0.6295, Accuracy: 17.71%\n",
            "Fine-tuning Epoch: 2, Loss: 0.6683, Accuracy: 17.97%\n"
          ]
        },
        {
          "output_type": "stream",
          "name": "stderr",
          "text": [
            " 30%|███       | 18/60 [00:04<00:10,  4.07it/s]"
          ]
        },
        {
          "output_type": "stream",
          "name": "stdout",
          "text": [
            "Fine-tuning Epoch: 2, Loss: 0.7045, Accuracy: 18.20%\n",
            "Fine-tuning Epoch: 2, Loss: 0.7461, Accuracy: 18.40%\n"
          ]
        },
        {
          "output_type": "stream",
          "name": "stderr",
          "text": [
            " 33%|███▎      | 20/60 [00:05<00:09,  4.09it/s]"
          ]
        },
        {
          "output_type": "stream",
          "name": "stdout",
          "text": [
            "Fine-tuning Epoch: 2, Loss: 0.7823, Accuracy: 19.08%\n",
            "Fine-tuning Epoch: 2, Loss: 0.8203, Accuracy: 18.91%\n"
          ]
        },
        {
          "output_type": "stream",
          "name": "stderr",
          "text": [
            " 37%|███▋      | 22/60 [00:06<00:08,  4.25it/s]"
          ]
        },
        {
          "output_type": "stream",
          "name": "stdout",
          "text": [
            "Fine-tuning Epoch: 2, Loss: 0.8650, Accuracy: 18.15%\n",
            "Fine-tuning Epoch: 2, Loss: 0.9044, Accuracy: 18.32%\n"
          ]
        },
        {
          "output_type": "stream",
          "name": "stderr",
          "text": [
            " 40%|████      | 24/60 [00:06<00:08,  4.05it/s]"
          ]
        },
        {
          "output_type": "stream",
          "name": "stdout",
          "text": [
            "Fine-tuning Epoch: 2, Loss: 0.9440, Accuracy: 18.21%\n",
            "Fine-tuning Epoch: 2, Loss: 0.9823, Accuracy: 18.49%\n"
          ]
        },
        {
          "output_type": "stream",
          "name": "stderr",
          "text": [
            " 43%|████▎     | 26/60 [00:07<00:08,  4.04it/s]"
          ]
        },
        {
          "output_type": "stream",
          "name": "stdout",
          "text": [
            "Fine-tuning Epoch: 2, Loss: 1.0168, Accuracy: 18.75%\n",
            "Fine-tuning Epoch: 2, Loss: 1.0566, Accuracy: 18.87%\n"
          ]
        },
        {
          "output_type": "stream",
          "name": "stderr",
          "text": [
            " 47%|████▋     | 28/60 [00:07<00:07,  4.06it/s]"
          ]
        },
        {
          "output_type": "stream",
          "name": "stdout",
          "text": [
            "Fine-tuning Epoch: 2, Loss: 1.0946, Accuracy: 18.75%\n",
            "Fine-tuning Epoch: 2, Loss: 1.1327, Accuracy: 19.08%\n"
          ]
        },
        {
          "output_type": "stream",
          "name": "stderr",
          "text": [
            " 50%|█████     | 30/60 [00:08<00:07,  4.06it/s]"
          ]
        },
        {
          "output_type": "stream",
          "name": "stdout",
          "text": [
            "Fine-tuning Epoch: 2, Loss: 1.1695, Accuracy: 19.50%\n",
            "Fine-tuning Epoch: 2, Loss: 1.2091, Accuracy: 19.38%\n"
          ]
        },
        {
          "output_type": "stream",
          "name": "stderr",
          "text": [
            " 53%|█████▎    | 32/60 [00:09<00:08,  3.24it/s]"
          ]
        },
        {
          "output_type": "stream",
          "name": "stdout",
          "text": [
            "Fine-tuning Epoch: 2, Loss: 1.2441, Accuracy: 19.76%\n",
            "Fine-tuning Epoch: 2, Loss: 1.2769, Accuracy: 20.21%\n"
          ]
        },
        {
          "output_type": "stream",
          "name": "stderr",
          "text": [
            " 57%|█████▋    | 34/60 [00:09<00:08,  2.93it/s]"
          ]
        },
        {
          "output_type": "stream",
          "name": "stdout",
          "text": [
            "Fine-tuning Epoch: 2, Loss: 1.3133, Accuracy: 20.64%\n",
            "Fine-tuning Epoch: 2, Loss: 1.3453, Accuracy: 21.14%\n"
          ]
        },
        {
          "output_type": "stream",
          "name": "stderr",
          "text": [
            " 60%|██████    | 36/60 [00:10<00:08,  2.73it/s]"
          ]
        },
        {
          "output_type": "stream",
          "name": "stdout",
          "text": [
            "Fine-tuning Epoch: 2, Loss: 1.3844, Accuracy: 21.34%\n",
            "Fine-tuning Epoch: 2, Loss: 1.4187, Accuracy: 21.44%\n"
          ]
        },
        {
          "output_type": "stream",
          "name": "stderr",
          "text": [
            " 63%|██████▎   | 38/60 [00:11<00:08,  2.73it/s]"
          ]
        },
        {
          "output_type": "stream",
          "name": "stdout",
          "text": [
            "Fine-tuning Epoch: 2, Loss: 1.4576, Accuracy: 21.54%\n",
            "Fine-tuning Epoch: 2, Loss: 1.4933, Accuracy: 22.04%\n"
          ]
        },
        {
          "output_type": "stream",
          "name": "stderr",
          "text": [
            " 67%|██████▋   | 40/60 [00:12<00:07,  2.77it/s]"
          ]
        },
        {
          "output_type": "stream",
          "name": "stdout",
          "text": [
            "Fine-tuning Epoch: 2, Loss: 1.5279, Accuracy: 22.12%\n",
            "Fine-tuning Epoch: 2, Loss: 1.5669, Accuracy: 22.34%\n"
          ]
        },
        {
          "output_type": "stream",
          "name": "stderr",
          "text": [
            " 70%|███████   | 42/60 [00:13<00:06,  2.67it/s]"
          ]
        },
        {
          "output_type": "stream",
          "name": "stdout",
          "text": [
            "Fine-tuning Epoch: 2, Loss: 1.5980, Accuracy: 22.94%\n",
            "Fine-tuning Epoch: 2, Loss: 1.6303, Accuracy: 23.44%\n"
          ]
        },
        {
          "output_type": "stream",
          "name": "stderr",
          "text": [
            " 73%|███████▎  | 44/60 [00:13<00:05,  3.16it/s]"
          ]
        },
        {
          "output_type": "stream",
          "name": "stdout",
          "text": [
            "Fine-tuning Epoch: 2, Loss: 1.6610, Accuracy: 23.84%\n",
            "Fine-tuning Epoch: 2, Loss: 1.6926, Accuracy: 24.22%\n"
          ]
        },
        {
          "output_type": "stream",
          "name": "stderr",
          "text": [
            " 77%|███████▋  | 46/60 [00:14<00:03,  3.56it/s]"
          ]
        },
        {
          "output_type": "stream",
          "name": "stdout",
          "text": [
            "Fine-tuning Epoch: 2, Loss: 1.7310, Accuracy: 24.38%\n",
            "Fine-tuning Epoch: 2, Loss: 1.7648, Accuracy: 24.39%\n"
          ]
        },
        {
          "output_type": "stream",
          "name": "stderr",
          "text": [
            " 80%|████████  | 48/60 [00:15<00:03,  3.79it/s]"
          ]
        },
        {
          "output_type": "stream",
          "name": "stdout",
          "text": [
            "Fine-tuning Epoch: 2, Loss: 1.8012, Accuracy: 24.47%\n",
            "Fine-tuning Epoch: 2, Loss: 1.8363, Accuracy: 24.41%\n"
          ]
        },
        {
          "output_type": "stream",
          "name": "stderr",
          "text": [
            " 83%|████████▎ | 50/60 [00:15<00:02,  4.07it/s]"
          ]
        },
        {
          "output_type": "stream",
          "name": "stdout",
          "text": [
            "Fine-tuning Epoch: 2, Loss: 1.8708, Accuracy: 24.55%\n",
            "Fine-tuning Epoch: 2, Loss: 1.9053, Accuracy: 24.69%\n"
          ]
        },
        {
          "output_type": "stream",
          "name": "stderr",
          "text": [
            " 87%|████████▋ | 52/60 [00:16<00:01,  4.00it/s]"
          ]
        },
        {
          "output_type": "stream",
          "name": "stdout",
          "text": [
            "Fine-tuning Epoch: 2, Loss: 1.9431, Accuracy: 24.69%\n",
            "Fine-tuning Epoch: 2, Loss: 1.9813, Accuracy: 24.76%\n"
          ]
        },
        {
          "output_type": "stream",
          "name": "stderr",
          "text": [
            " 90%|█████████ | 54/60 [00:16<00:01,  4.16it/s]"
          ]
        },
        {
          "output_type": "stream",
          "name": "stdout",
          "text": [
            "Fine-tuning Epoch: 2, Loss: 2.0142, Accuracy: 25.18%\n",
            "Fine-tuning Epoch: 2, Loss: 2.0507, Accuracy: 25.23%\n"
          ]
        },
        {
          "output_type": "stream",
          "name": "stderr",
          "text": [
            " 93%|█████████▎| 56/60 [00:17<00:00,  4.10it/s]"
          ]
        },
        {
          "output_type": "stream",
          "name": "stdout",
          "text": [
            "Fine-tuning Epoch: 2, Loss: 2.0895, Accuracy: 25.34%\n",
            "Fine-tuning Epoch: 2, Loss: 2.1306, Accuracy: 25.17%\n"
          ]
        },
        {
          "output_type": "stream",
          "name": "stderr",
          "text": [
            " 97%|█████████▋| 58/60 [00:17<00:00,  4.11it/s]"
          ]
        },
        {
          "output_type": "stream",
          "name": "stdout",
          "text": [
            "Fine-tuning Epoch: 2, Loss: 2.1705, Accuracy: 25.05%\n",
            "Fine-tuning Epoch: 2, Loss: 2.2092, Accuracy: 25.05%\n"
          ]
        },
        {
          "output_type": "stream",
          "name": "stderr",
          "text": [
            "100%|██████████| 60/60 [00:18<00:00,  3.31it/s]\n"
          ]
        },
        {
          "output_type": "stream",
          "name": "stdout",
          "text": [
            "Fine-tuning Epoch: 2, Loss: 2.2490, Accuracy: 25.05%\n",
            "Fine-tuning Epoch: 2, Loss: 2.2873, Accuracy: 25.16%\n"
          ]
        },
        {
          "output_type": "stream",
          "name": "stderr",
          "text": [
            "  3%|▎         | 2/60 [00:00<00:23,  2.49it/s]"
          ]
        },
        {
          "output_type": "stream",
          "name": "stdout",
          "text": [
            "Fine-tuning Epoch: 3, Loss: 0.0407, Accuracy: 15.62%\n",
            "Fine-tuning Epoch: 3, Loss: 0.0728, Accuracy: 26.56%\n"
          ]
        },
        {
          "output_type": "stream",
          "name": "stderr",
          "text": [
            "  7%|▋         | 4/60 [00:01<00:16,  3.50it/s]"
          ]
        },
        {
          "output_type": "stream",
          "name": "stdout",
          "text": [
            "Fine-tuning Epoch: 3, Loss: 0.1069, Accuracy: 29.17%\n",
            "Fine-tuning Epoch: 3, Loss: 0.1431, Accuracy: 29.69%\n"
          ]
        },
        {
          "output_type": "stream",
          "name": "stderr",
          "text": [
            " 10%|█         | 6/60 [00:01<00:14,  3.79it/s]"
          ]
        },
        {
          "output_type": "stream",
          "name": "stdout",
          "text": [
            "Fine-tuning Epoch: 3, Loss: 0.1794, Accuracy: 30.00%\n",
            "Fine-tuning Epoch: 3, Loss: 0.2134, Accuracy: 29.17%\n"
          ]
        },
        {
          "output_type": "stream",
          "name": "stderr",
          "text": [
            " 13%|█▎        | 8/60 [00:02<00:13,  3.99it/s]"
          ]
        },
        {
          "output_type": "stream",
          "name": "stdout",
          "text": [
            "Fine-tuning Epoch: 3, Loss: 0.2475, Accuracy: 29.91%\n",
            "Fine-tuning Epoch: 3, Loss: 0.2807, Accuracy: 28.91%\n"
          ]
        },
        {
          "output_type": "stream",
          "name": "stderr",
          "text": [
            " 17%|█▋        | 10/60 [00:03<00:12,  4.04it/s]"
          ]
        },
        {
          "output_type": "stream",
          "name": "stdout",
          "text": [
            "Fine-tuning Epoch: 3, Loss: 0.3174, Accuracy: 29.51%\n",
            "Fine-tuning Epoch: 3, Loss: 0.3580, Accuracy: 28.75%\n"
          ]
        },
        {
          "output_type": "stream",
          "name": "stderr",
          "text": [
            " 20%|██        | 12/60 [00:03<00:11,  4.02it/s]"
          ]
        },
        {
          "output_type": "stream",
          "name": "stdout",
          "text": [
            "Fine-tuning Epoch: 3, Loss: 0.3938, Accuracy: 28.69%\n",
            "Fine-tuning Epoch: 3, Loss: 0.4325, Accuracy: 29.17%\n"
          ]
        },
        {
          "output_type": "stream",
          "name": "stderr",
          "text": [
            " 23%|██▎       | 14/60 [00:04<00:11,  4.06it/s]"
          ]
        },
        {
          "output_type": "stream",
          "name": "stdout",
          "text": [
            "Fine-tuning Epoch: 3, Loss: 0.4693, Accuracy: 29.09%\n",
            "Fine-tuning Epoch: 3, Loss: 0.5035, Accuracy: 29.02%\n"
          ]
        },
        {
          "output_type": "stream",
          "name": "stderr",
          "text": [
            " 27%|██▋       | 16/60 [00:04<00:10,  4.20it/s]"
          ]
        },
        {
          "output_type": "stream",
          "name": "stdout",
          "text": [
            "Fine-tuning Epoch: 3, Loss: 0.5340, Accuracy: 28.96%\n",
            "Fine-tuning Epoch: 3, Loss: 0.5705, Accuracy: 30.08%\n"
          ]
        },
        {
          "output_type": "stream",
          "name": "stderr",
          "text": [
            " 30%|███       | 18/60 [00:05<00:09,  4.34it/s]"
          ]
        },
        {
          "output_type": "stream",
          "name": "stdout",
          "text": [
            "Fine-tuning Epoch: 3, Loss: 0.6078, Accuracy: 29.78%\n",
            "Fine-tuning Epoch: 3, Loss: 0.6444, Accuracy: 29.86%\n"
          ]
        },
        {
          "output_type": "stream",
          "name": "stderr",
          "text": [
            " 33%|███▎      | 20/60 [00:05<00:11,  3.57it/s]"
          ]
        },
        {
          "output_type": "stream",
          "name": "stdout",
          "text": [
            "Fine-tuning Epoch: 3, Loss: 0.6764, Accuracy: 29.77%\n",
            "Fine-tuning Epoch: 3, Loss: 0.7067, Accuracy: 30.00%\n"
          ]
        },
        {
          "output_type": "stream",
          "name": "stderr",
          "text": [
            " 37%|███▋      | 22/60 [00:06<00:12,  2.96it/s]"
          ]
        },
        {
          "output_type": "stream",
          "name": "stdout",
          "text": [
            "Fine-tuning Epoch: 3, Loss: 0.7409, Accuracy: 29.91%\n",
            "Fine-tuning Epoch: 3, Loss: 0.7702, Accuracy: 30.54%\n"
          ]
        },
        {
          "output_type": "stream",
          "name": "stderr",
          "text": [
            " 40%|████      | 24/60 [00:07<00:13,  2.76it/s]"
          ]
        },
        {
          "output_type": "stream",
          "name": "stdout",
          "text": [
            "Fine-tuning Epoch: 3, Loss: 0.8053, Accuracy: 30.84%\n",
            "Fine-tuning Epoch: 3, Loss: 0.8435, Accuracy: 30.86%\n"
          ]
        },
        {
          "output_type": "stream",
          "name": "stderr",
          "text": [
            " 43%|████▎     | 26/60 [00:08<00:12,  2.80it/s]"
          ]
        },
        {
          "output_type": "stream",
          "name": "stdout",
          "text": [
            "Fine-tuning Epoch: 3, Loss: 0.8781, Accuracy: 31.12%\n",
            "Fine-tuning Epoch: 3, Loss: 0.9123, Accuracy: 31.13%\n"
          ]
        },
        {
          "output_type": "stream",
          "name": "stderr",
          "text": [
            " 47%|████▋     | 28/60 [00:09<00:11,  2.68it/s]"
          ]
        },
        {
          "output_type": "stream",
          "name": "stdout",
          "text": [
            "Fine-tuning Epoch: 3, Loss: 0.9437, Accuracy: 31.48%\n",
            "Fine-tuning Epoch: 3, Loss: 0.9747, Accuracy: 31.70%\n"
          ]
        },
        {
          "output_type": "stream",
          "name": "stderr",
          "text": [
            " 50%|█████     | 30/60 [00:10<00:11,  2.59it/s]"
          ]
        },
        {
          "output_type": "stream",
          "name": "stdout",
          "text": [
            "Fine-tuning Epoch: 3, Loss: 1.0133, Accuracy: 31.47%\n",
            "Fine-tuning Epoch: 3, Loss: 1.0460, Accuracy: 31.46%\n"
          ]
        },
        {
          "output_type": "stream",
          "name": "stderr",
          "text": [
            " 53%|█████▎    | 32/60 [00:10<00:09,  3.03it/s]"
          ]
        },
        {
          "output_type": "stream",
          "name": "stdout",
          "text": [
            "Fine-tuning Epoch: 3, Loss: 1.0834, Accuracy: 31.05%\n",
            "Fine-tuning Epoch: 3, Loss: 1.1227, Accuracy: 30.86%\n"
          ]
        },
        {
          "output_type": "stream",
          "name": "stderr",
          "text": [
            " 57%|█████▋    | 34/60 [00:11<00:07,  3.33it/s]"
          ]
        },
        {
          "output_type": "stream",
          "name": "stdout",
          "text": [
            "Fine-tuning Epoch: 3, Loss: 1.1532, Accuracy: 31.25%\n",
            "Fine-tuning Epoch: 3, Loss: 1.1894, Accuracy: 31.25%\n"
          ]
        },
        {
          "output_type": "stream",
          "name": "stderr",
          "text": [
            " 60%|██████    | 36/60 [00:11<00:06,  3.73it/s]"
          ]
        },
        {
          "output_type": "stream",
          "name": "stdout",
          "text": [
            "Fine-tuning Epoch: 3, Loss: 1.2216, Accuracy: 31.70%\n",
            "Fine-tuning Epoch: 3, Loss: 1.2523, Accuracy: 32.03%\n"
          ]
        },
        {
          "output_type": "stream",
          "name": "stderr",
          "text": [
            " 63%|██████▎   | 38/60 [00:12<00:05,  3.81it/s]"
          ]
        },
        {
          "output_type": "stream",
          "name": "stdout",
          "text": [
            "Fine-tuning Epoch: 3, Loss: 1.2891, Accuracy: 31.67%\n",
            "Fine-tuning Epoch: 3, Loss: 1.3224, Accuracy: 31.58%\n"
          ]
        },
        {
          "output_type": "stream",
          "name": "stderr",
          "text": [
            " 67%|██████▋   | 40/60 [00:13<00:04,  4.02it/s]"
          ]
        },
        {
          "output_type": "stream",
          "name": "stdout",
          "text": [
            "Fine-tuning Epoch: 3, Loss: 1.3536, Accuracy: 31.65%\n",
            "Fine-tuning Epoch: 3, Loss: 1.3822, Accuracy: 32.19%\n"
          ]
        },
        {
          "output_type": "stream",
          "name": "stderr",
          "text": [
            " 70%|███████   | 42/60 [00:13<00:04,  3.93it/s]"
          ]
        },
        {
          "output_type": "stream",
          "name": "stdout",
          "text": [
            "Fine-tuning Epoch: 3, Loss: 1.4141, Accuracy: 32.47%\n",
            "Fine-tuning Epoch: 3, Loss: 1.4440, Accuracy: 32.66%\n"
          ]
        },
        {
          "output_type": "stream",
          "name": "stderr",
          "text": [
            " 73%|███████▎  | 44/60 [00:14<00:03,  4.22it/s]"
          ]
        },
        {
          "output_type": "stream",
          "name": "stdout",
          "text": [
            "Fine-tuning Epoch: 3, Loss: 1.4850, Accuracy: 32.34%\n",
            "Fine-tuning Epoch: 3, Loss: 1.5138, Accuracy: 32.60%\n"
          ]
        },
        {
          "output_type": "stream",
          "name": "stderr",
          "text": [
            " 77%|███████▋  | 46/60 [00:14<00:03,  4.14it/s]"
          ]
        },
        {
          "output_type": "stream",
          "name": "stdout",
          "text": [
            "Fine-tuning Epoch: 3, Loss: 1.5452, Accuracy: 32.71%\n",
            "Fine-tuning Epoch: 3, Loss: 1.5765, Accuracy: 32.74%\n"
          ]
        },
        {
          "output_type": "stream",
          "name": "stderr",
          "text": [
            " 80%|████████  | 48/60 [00:15<00:02,  4.33it/s]"
          ]
        },
        {
          "output_type": "stream",
          "name": "stdout",
          "text": [
            "Fine-tuning Epoch: 3, Loss: 1.6065, Accuracy: 33.05%\n",
            "Fine-tuning Epoch: 3, Loss: 1.6377, Accuracy: 32.94%\n"
          ]
        },
        {
          "output_type": "stream",
          "name": "stderr",
          "text": [
            " 83%|████████▎ | 50/60 [00:15<00:02,  4.07it/s]"
          ]
        },
        {
          "output_type": "stream",
          "name": "stdout",
          "text": [
            "Fine-tuning Epoch: 3, Loss: 1.6754, Accuracy: 32.84%\n",
            "Fine-tuning Epoch: 3, Loss: 1.7102, Accuracy: 32.94%\n"
          ]
        },
        {
          "output_type": "stream",
          "name": "stderr",
          "text": [
            " 87%|████████▋ | 52/60 [00:16<00:01,  4.11it/s]"
          ]
        },
        {
          "output_type": "stream",
          "name": "stdout",
          "text": [
            "Fine-tuning Epoch: 3, Loss: 1.7425, Accuracy: 33.09%\n",
            "Fine-tuning Epoch: 3, Loss: 1.7712, Accuracy: 33.35%\n"
          ]
        },
        {
          "output_type": "stream",
          "name": "stderr",
          "text": [
            " 90%|█████████ | 54/60 [00:16<00:01,  3.97it/s]"
          ]
        },
        {
          "output_type": "stream",
          "name": "stdout",
          "text": [
            "Fine-tuning Epoch: 3, Loss: 1.8014, Accuracy: 33.37%\n",
            "Fine-tuning Epoch: 3, Loss: 1.8366, Accuracy: 33.39%\n"
          ]
        },
        {
          "output_type": "stream",
          "name": "stderr",
          "text": [
            " 93%|█████████▎| 56/60 [00:17<00:00,  4.08it/s]"
          ]
        },
        {
          "output_type": "stream",
          "name": "stdout",
          "text": [
            "Fine-tuning Epoch: 3, Loss: 1.8716, Accuracy: 33.41%\n",
            "Fine-tuning Epoch: 3, Loss: 1.9090, Accuracy: 33.26%\n"
          ]
        },
        {
          "output_type": "stream",
          "name": "stderr",
          "text": [
            " 97%|█████████▋| 58/60 [00:17<00:00,  4.15it/s]"
          ]
        },
        {
          "output_type": "stream",
          "name": "stdout",
          "text": [
            "Fine-tuning Epoch: 3, Loss: 1.9425, Accuracy: 33.33%\n",
            "Fine-tuning Epoch: 3, Loss: 1.9793, Accuracy: 33.08%\n"
          ]
        },
        {
          "output_type": "stream",
          "name": "stderr",
          "text": [
            "100%|██████████| 60/60 [00:18<00:00,  3.26it/s]\n"
          ]
        },
        {
          "output_type": "stream",
          "name": "stdout",
          "text": [
            "Fine-tuning Epoch: 3, Loss: 2.0150, Accuracy: 33.05%\n",
            "Fine-tuning Epoch: 3, Loss: 2.0470, Accuracy: 33.07%\n"
          ]
        },
        {
          "output_type": "stream",
          "name": "stderr",
          "text": [
            "  3%|▎         | 2/60 [00:00<00:20,  2.81it/s]"
          ]
        },
        {
          "output_type": "stream",
          "name": "stdout",
          "text": [
            "Fine-tuning Epoch: 4, Loss: 0.0370, Accuracy: 25.00%\n",
            "Fine-tuning Epoch: 4, Loss: 0.0817, Accuracy: 21.88%\n"
          ]
        },
        {
          "output_type": "stream",
          "name": "stderr",
          "text": [
            "  7%|▋         | 4/60 [00:01<00:16,  3.41it/s]"
          ]
        },
        {
          "output_type": "stream",
          "name": "stdout",
          "text": [
            "Fine-tuning Epoch: 4, Loss: 0.1110, Accuracy: 28.12%\n",
            "Fine-tuning Epoch: 4, Loss: 0.1431, Accuracy: 30.47%\n"
          ]
        },
        {
          "output_type": "stream",
          "name": "stderr",
          "text": [
            " 10%|█         | 6/60 [00:01<00:14,  3.75it/s]"
          ]
        },
        {
          "output_type": "stream",
          "name": "stdout",
          "text": [
            "Fine-tuning Epoch: 4, Loss: 0.1716, Accuracy: 33.12%\n",
            "Fine-tuning Epoch: 4, Loss: 0.1980, Accuracy: 35.42%\n"
          ]
        },
        {
          "output_type": "stream",
          "name": "stderr",
          "text": [
            " 13%|█▎        | 8/60 [00:03<00:19,  2.62it/s]"
          ]
        },
        {
          "output_type": "stream",
          "name": "stdout",
          "text": [
            "Fine-tuning Epoch: 4, Loss: 0.2350, Accuracy: 33.48%\n",
            "Fine-tuning Epoch: 4, Loss: 0.2619, Accuracy: 33.98%\n"
          ]
        },
        {
          "output_type": "stream",
          "name": "stderr",
          "text": [
            " 17%|█▋        | 10/60 [00:03<00:18,  2.64it/s]"
          ]
        },
        {
          "output_type": "stream",
          "name": "stdout",
          "text": [
            "Fine-tuning Epoch: 4, Loss: 0.2943, Accuracy: 34.38%\n",
            "Fine-tuning Epoch: 4, Loss: 0.3264, Accuracy: 34.06%\n"
          ]
        },
        {
          "output_type": "stream",
          "name": "stderr",
          "text": [
            " 20%|██        | 12/60 [00:04<00:17,  2.69it/s]"
          ]
        },
        {
          "output_type": "stream",
          "name": "stdout",
          "text": [
            "Fine-tuning Epoch: 4, Loss: 0.3597, Accuracy: 34.94%\n",
            "Fine-tuning Epoch: 4, Loss: 0.3898, Accuracy: 35.94%\n"
          ]
        },
        {
          "output_type": "stream",
          "name": "stderr",
          "text": [
            " 23%|██▎       | 14/60 [00:05<00:17,  2.60it/s]"
          ]
        },
        {
          "output_type": "stream",
          "name": "stdout",
          "text": [
            "Fine-tuning Epoch: 4, Loss: 0.4250, Accuracy: 34.86%\n",
            "Fine-tuning Epoch: 4, Loss: 0.4561, Accuracy: 34.60%\n"
          ]
        },
        {
          "output_type": "stream",
          "name": "stderr",
          "text": [
            " 27%|██▋       | 16/60 [00:06<00:17,  2.51it/s]"
          ]
        },
        {
          "output_type": "stream",
          "name": "stdout",
          "text": [
            "Fine-tuning Epoch: 4, Loss: 0.4914, Accuracy: 35.00%\n",
            "Fine-tuning Epoch: 4, Loss: 0.5376, Accuracy: 34.18%\n"
          ]
        },
        {
          "output_type": "stream",
          "name": "stderr",
          "text": [
            " 30%|███       | 18/60 [00:07<00:15,  2.72it/s]"
          ]
        },
        {
          "output_type": "stream",
          "name": "stdout",
          "text": [
            "Fine-tuning Epoch: 4, Loss: 0.5718, Accuracy: 34.56%\n",
            "Fine-tuning Epoch: 4, Loss: 0.6052, Accuracy: 35.07%\n"
          ]
        },
        {
          "output_type": "stream",
          "name": "stderr",
          "text": [
            " 33%|███▎      | 20/60 [00:07<00:12,  3.24it/s]"
          ]
        },
        {
          "output_type": "stream",
          "name": "stdout",
          "text": [
            "Fine-tuning Epoch: 4, Loss: 0.6423, Accuracy: 34.87%\n",
            "Fine-tuning Epoch: 4, Loss: 0.6796, Accuracy: 34.06%\n"
          ]
        },
        {
          "output_type": "stream",
          "name": "stderr",
          "text": [
            " 37%|███▋      | 22/60 [00:08<00:10,  3.50it/s]"
          ]
        },
        {
          "output_type": "stream",
          "name": "stdout",
          "text": [
            "Fine-tuning Epoch: 4, Loss: 0.7121, Accuracy: 34.38%\n",
            "Fine-tuning Epoch: 4, Loss: 0.7437, Accuracy: 34.09%\n"
          ]
        },
        {
          "output_type": "stream",
          "name": "stderr",
          "text": [
            " 40%|████      | 24/60 [00:09<00:09,  3.76it/s]"
          ]
        },
        {
          "output_type": "stream",
          "name": "stdout",
          "text": [
            "Fine-tuning Epoch: 4, Loss: 0.7762, Accuracy: 34.10%\n",
            "Fine-tuning Epoch: 4, Loss: 0.8154, Accuracy: 33.46%\n"
          ]
        },
        {
          "output_type": "stream",
          "name": "stderr",
          "text": [
            " 43%|████▎     | 26/60 [00:09<00:08,  3.91it/s]"
          ]
        },
        {
          "output_type": "stream",
          "name": "stdout",
          "text": [
            "Fine-tuning Epoch: 4, Loss: 0.8535, Accuracy: 33.50%\n",
            "Fine-tuning Epoch: 4, Loss: 0.8881, Accuracy: 33.65%\n"
          ]
        },
        {
          "output_type": "stream",
          "name": "stderr",
          "text": [
            " 47%|████▋     | 28/60 [00:10<00:08,  3.97it/s]"
          ]
        },
        {
          "output_type": "stream",
          "name": "stdout",
          "text": [
            "Fine-tuning Epoch: 4, Loss: 0.9178, Accuracy: 34.26%\n",
            "Fine-tuning Epoch: 4, Loss: 0.9503, Accuracy: 34.15%\n"
          ]
        },
        {
          "output_type": "stream",
          "name": "stderr",
          "text": [
            " 50%|█████     | 30/60 [00:10<00:07,  3.85it/s]"
          ]
        },
        {
          "output_type": "stream",
          "name": "stdout",
          "text": [
            "Fine-tuning Epoch: 4, Loss: 0.9800, Accuracy: 34.38%\n",
            "Fine-tuning Epoch: 4, Loss: 1.0157, Accuracy: 34.38%\n"
          ]
        },
        {
          "output_type": "stream",
          "name": "stderr",
          "text": [
            " 53%|█████▎    | 32/60 [00:11<00:06,  4.03it/s]"
          ]
        },
        {
          "output_type": "stream",
          "name": "stdout",
          "text": [
            "Fine-tuning Epoch: 4, Loss: 1.0458, Accuracy: 34.58%\n",
            "Fine-tuning Epoch: 4, Loss: 1.0831, Accuracy: 34.38%\n"
          ]
        },
        {
          "output_type": "stream",
          "name": "stderr",
          "text": [
            " 57%|█████▋    | 34/60 [00:11<00:06,  4.06it/s]"
          ]
        },
        {
          "output_type": "stream",
          "name": "stdout",
          "text": [
            "Fine-tuning Epoch: 4, Loss: 1.1149, Accuracy: 34.66%\n",
            "Fine-tuning Epoch: 4, Loss: 1.1436, Accuracy: 34.83%\n"
          ]
        },
        {
          "output_type": "stream",
          "name": "stderr",
          "text": [
            " 60%|██████    | 36/60 [00:12<00:05,  4.34it/s]"
          ]
        },
        {
          "output_type": "stream",
          "name": "stdout",
          "text": [
            "Fine-tuning Epoch: 4, Loss: 1.1725, Accuracy: 35.00%\n",
            "Fine-tuning Epoch: 4, Loss: 1.2085, Accuracy: 34.90%\n"
          ]
        },
        {
          "output_type": "stream",
          "name": "stderr",
          "text": [
            " 63%|██████▎   | 38/60 [00:12<00:05,  4.13it/s]"
          ]
        },
        {
          "output_type": "stream",
          "name": "stdout",
          "text": [
            "Fine-tuning Epoch: 4, Loss: 1.2388, Accuracy: 35.05%\n",
            "Fine-tuning Epoch: 4, Loss: 1.2682, Accuracy: 35.53%\n"
          ]
        },
        {
          "output_type": "stream",
          "name": "stderr",
          "text": [
            " 67%|██████▋   | 40/60 [00:13<00:04,  4.16it/s]"
          ]
        },
        {
          "output_type": "stream",
          "name": "stdout",
          "text": [
            "Fine-tuning Epoch: 4, Loss: 1.3038, Accuracy: 35.18%\n",
            "Fine-tuning Epoch: 4, Loss: 1.3362, Accuracy: 35.39%\n"
          ]
        },
        {
          "output_type": "stream",
          "name": "stderr",
          "text": [
            " 70%|███████   | 42/60 [00:13<00:04,  4.17it/s]"
          ]
        },
        {
          "output_type": "stream",
          "name": "stdout",
          "text": [
            "Fine-tuning Epoch: 4, Loss: 1.3734, Accuracy: 35.14%\n",
            "Fine-tuning Epoch: 4, Loss: 1.4070, Accuracy: 34.97%\n"
          ]
        },
        {
          "output_type": "stream",
          "name": "stderr",
          "text": [
            " 73%|███████▎  | 44/60 [00:14<00:03,  4.41it/s]"
          ]
        },
        {
          "output_type": "stream",
          "name": "stdout",
          "text": [
            "Fine-tuning Epoch: 4, Loss: 1.4376, Accuracy: 35.03%\n",
            "Fine-tuning Epoch: 4, Loss: 1.4666, Accuracy: 35.44%\n"
          ]
        },
        {
          "output_type": "stream",
          "name": "stderr",
          "text": [
            " 77%|███████▋  | 46/60 [00:14<00:03,  4.03it/s]"
          ]
        },
        {
          "output_type": "stream",
          "name": "stdout",
          "text": [
            "Fine-tuning Epoch: 4, Loss: 1.5010, Accuracy: 35.42%\n",
            "Fine-tuning Epoch: 4, Loss: 1.5294, Accuracy: 35.53%\n"
          ]
        },
        {
          "output_type": "stream",
          "name": "stderr",
          "text": [
            " 80%|████████  | 48/60 [00:15<00:02,  4.08it/s]"
          ]
        },
        {
          "output_type": "stream",
          "name": "stdout",
          "text": [
            "Fine-tuning Epoch: 4, Loss: 1.5618, Accuracy: 35.37%\n",
            "Fine-tuning Epoch: 4, Loss: 1.5994, Accuracy: 35.09%\n"
          ]
        },
        {
          "output_type": "stream",
          "name": "stderr",
          "text": [
            " 83%|████████▎ | 50/60 [00:16<00:02,  4.09it/s]"
          ]
        },
        {
          "output_type": "stream",
          "name": "stdout",
          "text": [
            "Fine-tuning Epoch: 4, Loss: 1.6323, Accuracy: 35.20%\n",
            "Fine-tuning Epoch: 4, Loss: 1.6627, Accuracy: 35.19%\n"
          ]
        },
        {
          "output_type": "stream",
          "name": "stderr",
          "text": [
            " 87%|████████▋ | 52/60 [00:16<00:01,  4.25it/s]"
          ]
        },
        {
          "output_type": "stream",
          "name": "stdout",
          "text": [
            "Fine-tuning Epoch: 4, Loss: 1.6914, Accuracy: 35.36%\n",
            "Fine-tuning Epoch: 4, Loss: 1.7209, Accuracy: 35.46%\n"
          ]
        },
        {
          "output_type": "stream",
          "name": "stderr",
          "text": [
            " 90%|█████████ | 54/60 [00:17<00:01,  4.26it/s]"
          ]
        },
        {
          "output_type": "stream",
          "name": "stdout",
          "text": [
            "Fine-tuning Epoch: 4, Loss: 1.7496, Accuracy: 35.38%\n",
            "Fine-tuning Epoch: 4, Loss: 1.7812, Accuracy: 35.30%\n"
          ]
        },
        {
          "output_type": "stream",
          "name": "stderr",
          "text": [
            " 93%|█████████▎| 56/60 [00:17<00:01,  3.53it/s]"
          ]
        },
        {
          "output_type": "stream",
          "name": "stdout",
          "text": [
            "Fine-tuning Epoch: 4, Loss: 1.8054, Accuracy: 35.74%\n",
            "Fine-tuning Epoch: 4, Loss: 1.8387, Accuracy: 35.77%\n"
          ]
        },
        {
          "output_type": "stream",
          "name": "stderr",
          "text": [
            " 97%|█████████▋| 58/60 [00:18<00:00,  2.89it/s]"
          ]
        },
        {
          "output_type": "stream",
          "name": "stdout",
          "text": [
            "Fine-tuning Epoch: 4, Loss: 1.8691, Accuracy: 35.69%\n",
            "Fine-tuning Epoch: 4, Loss: 1.9029, Accuracy: 35.61%\n"
          ]
        },
        {
          "output_type": "stream",
          "name": "stderr",
          "text": [
            "100%|██████████| 60/60 [00:19<00:00,  3.35it/s]"
          ]
        },
        {
          "output_type": "stream",
          "name": "stdout",
          "text": [
            "Fine-tuning Epoch: 4, Loss: 1.9335, Accuracy: 35.65%\n",
            "Fine-tuning Epoch: 4, Loss: 1.9696, Accuracy: 35.68%\n"
          ]
        },
        {
          "output_type": "stream",
          "name": "stderr",
          "text": [
            "100%|██████████| 60/60 [00:19<00:00,  3.09it/s]\n",
            "  3%|▎         | 2/60 [00:01<00:33,  1.76it/s]"
          ]
        },
        {
          "output_type": "stream",
          "name": "stdout",
          "text": [
            "Fine-tuning Epoch: 5, Loss: 0.0283, Accuracy: 37.50%\n",
            "Fine-tuning Epoch: 5, Loss: 0.0586, Accuracy: 40.62%\n"
          ]
        },
        {
          "output_type": "stream",
          "name": "stderr",
          "text": [
            "  7%|▋         | 4/60 [00:02<00:24,  2.26it/s]"
          ]
        },
        {
          "output_type": "stream",
          "name": "stdout",
          "text": [
            "Fine-tuning Epoch: 5, Loss: 0.0935, Accuracy: 36.46%\n",
            "Fine-tuning Epoch: 5, Loss: 0.1228, Accuracy: 36.72%\n"
          ]
        },
        {
          "output_type": "stream",
          "name": "stderr",
          "text": [
            " 10%|█         | 6/60 [00:03<00:21,  2.52it/s]"
          ]
        },
        {
          "output_type": "stream",
          "name": "stdout",
          "text": [
            "Fine-tuning Epoch: 5, Loss: 0.1526, Accuracy: 36.88%\n",
            "Fine-tuning Epoch: 5, Loss: 0.1844, Accuracy: 36.46%\n"
          ]
        },
        {
          "output_type": "stream",
          "name": "stderr",
          "text": [
            " 13%|█▎        | 8/60 [00:03<00:16,  3.23it/s]"
          ]
        },
        {
          "output_type": "stream",
          "name": "stdout",
          "text": [
            "Fine-tuning Epoch: 5, Loss: 0.2174, Accuracy: 35.27%\n",
            "Fine-tuning Epoch: 5, Loss: 0.2457, Accuracy: 35.55%\n"
          ]
        },
        {
          "output_type": "stream",
          "name": "stderr",
          "text": [
            " 17%|█▋        | 10/60 [00:04<00:13,  3.63it/s]"
          ]
        },
        {
          "output_type": "stream",
          "name": "stdout",
          "text": [
            "Fine-tuning Epoch: 5, Loss: 0.2763, Accuracy: 34.72%\n",
            "Fine-tuning Epoch: 5, Loss: 0.3097, Accuracy: 34.69%\n"
          ]
        },
        {
          "output_type": "stream",
          "name": "stderr",
          "text": [
            " 20%|██        | 12/60 [00:04<00:12,  3.94it/s]"
          ]
        },
        {
          "output_type": "stream",
          "name": "stdout",
          "text": [
            "Fine-tuning Epoch: 5, Loss: 0.3426, Accuracy: 35.23%\n",
            "Fine-tuning Epoch: 5, Loss: 0.3714, Accuracy: 35.68%\n"
          ]
        },
        {
          "output_type": "stream",
          "name": "stderr",
          "text": [
            " 23%|██▎       | 14/60 [00:05<00:11,  4.00it/s]"
          ]
        },
        {
          "output_type": "stream",
          "name": "stdout",
          "text": [
            "Fine-tuning Epoch: 5, Loss: 0.4017, Accuracy: 36.54%\n",
            "Fine-tuning Epoch: 5, Loss: 0.4330, Accuracy: 37.05%\n"
          ]
        },
        {
          "output_type": "stream",
          "name": "stderr",
          "text": [
            " 27%|██▋       | 16/60 [00:05<00:11,  3.96it/s]"
          ]
        },
        {
          "output_type": "stream",
          "name": "stdout",
          "text": [
            "Fine-tuning Epoch: 5, Loss: 0.4651, Accuracy: 37.08%\n",
            "Fine-tuning Epoch: 5, Loss: 0.4947, Accuracy: 37.11%\n"
          ]
        },
        {
          "output_type": "stream",
          "name": "stderr",
          "text": [
            " 30%|███       | 18/60 [00:06<00:10,  4.03it/s]"
          ]
        },
        {
          "output_type": "stream",
          "name": "stdout",
          "text": [
            "Fine-tuning Epoch: 5, Loss: 0.5251, Accuracy: 37.13%\n",
            "Fine-tuning Epoch: 5, Loss: 0.5564, Accuracy: 37.33%\n"
          ]
        },
        {
          "output_type": "stream",
          "name": "stderr",
          "text": [
            " 33%|███▎      | 20/60 [00:06<00:10,  3.96it/s]"
          ]
        },
        {
          "output_type": "stream",
          "name": "stdout",
          "text": [
            "Fine-tuning Epoch: 5, Loss: 0.5864, Accuracy: 37.34%\n",
            "Fine-tuning Epoch: 5, Loss: 0.6187, Accuracy: 36.72%\n"
          ]
        },
        {
          "output_type": "stream",
          "name": "stderr",
          "text": [
            " 37%|███▋      | 22/60 [00:07<00:09,  4.04it/s]"
          ]
        },
        {
          "output_type": "stream",
          "name": "stdout",
          "text": [
            "Fine-tuning Epoch: 5, Loss: 0.6595, Accuracy: 36.16%\n",
            "Fine-tuning Epoch: 5, Loss: 0.6916, Accuracy: 36.65%\n"
          ]
        },
        {
          "output_type": "stream",
          "name": "stderr",
          "text": [
            " 40%|████      | 24/60 [00:07<00:09,  3.94it/s]"
          ]
        },
        {
          "output_type": "stream",
          "name": "stdout",
          "text": [
            "Fine-tuning Epoch: 5, Loss: 0.7241, Accuracy: 36.28%\n",
            "Fine-tuning Epoch: 5, Loss: 0.7538, Accuracy: 36.20%\n"
          ]
        },
        {
          "output_type": "stream",
          "name": "stderr",
          "text": [
            " 43%|████▎     | 26/60 [00:08<00:08,  3.97it/s]"
          ]
        },
        {
          "output_type": "stream",
          "name": "stdout",
          "text": [
            "Fine-tuning Epoch: 5, Loss: 0.7847, Accuracy: 35.75%\n",
            "Fine-tuning Epoch: 5, Loss: 0.8141, Accuracy: 35.82%\n"
          ]
        },
        {
          "output_type": "stream",
          "name": "stderr",
          "text": [
            " 47%|████▋     | 28/60 [00:09<00:08,  3.89it/s]"
          ]
        },
        {
          "output_type": "stream",
          "name": "stdout",
          "text": [
            "Fine-tuning Epoch: 5, Loss: 0.8541, Accuracy: 35.19%\n",
            "Fine-tuning Epoch: 5, Loss: 0.8852, Accuracy: 35.38%\n"
          ]
        },
        {
          "output_type": "stream",
          "name": "stderr",
          "text": [
            " 50%|█████     | 30/60 [00:09<00:07,  4.03it/s]"
          ]
        },
        {
          "output_type": "stream",
          "name": "stdout",
          "text": [
            "Fine-tuning Epoch: 5, Loss: 0.9271, Accuracy: 35.24%\n",
            "Fine-tuning Epoch: 5, Loss: 0.9580, Accuracy: 35.42%\n"
          ]
        },
        {
          "output_type": "stream",
          "name": "stderr",
          "text": [
            " 53%|█████▎    | 32/60 [00:10<00:06,  4.01it/s]"
          ]
        },
        {
          "output_type": "stream",
          "name": "stdout",
          "text": [
            "Fine-tuning Epoch: 5, Loss: 0.9864, Accuracy: 35.99%\n",
            "Fine-tuning Epoch: 5, Loss: 1.0172, Accuracy: 36.23%\n"
          ]
        },
        {
          "output_type": "stream",
          "name": "stderr",
          "text": [
            " 57%|█████▋    | 34/60 [00:10<00:06,  3.97it/s]"
          ]
        },
        {
          "output_type": "stream",
          "name": "stdout",
          "text": [
            "Fine-tuning Epoch: 5, Loss: 1.0531, Accuracy: 36.08%\n",
            "Fine-tuning Epoch: 5, Loss: 1.0916, Accuracy: 35.75%\n"
          ]
        },
        {
          "output_type": "stream",
          "name": "stderr",
          "text": [
            " 60%|██████    | 36/60 [00:11<00:05,  4.02it/s]"
          ]
        },
        {
          "output_type": "stream",
          "name": "stdout",
          "text": [
            "Fine-tuning Epoch: 5, Loss: 1.1183, Accuracy: 36.16%\n",
            "Fine-tuning Epoch: 5, Loss: 1.1497, Accuracy: 36.28%\n"
          ]
        },
        {
          "output_type": "stream",
          "name": "stderr",
          "text": [
            " 63%|██████▎   | 38/60 [00:11<00:05,  4.10it/s]"
          ]
        },
        {
          "output_type": "stream",
          "name": "stdout",
          "text": [
            "Fine-tuning Epoch: 5, Loss: 1.1777, Accuracy: 36.49%\n",
            "Fine-tuning Epoch: 5, Loss: 1.2027, Accuracy: 36.84%\n"
          ]
        },
        {
          "output_type": "stream",
          "name": "stderr",
          "text": [
            " 67%|██████▋   | 40/60 [00:12<00:04,  4.22it/s]"
          ]
        },
        {
          "output_type": "stream",
          "name": "stdout",
          "text": [
            "Fine-tuning Epoch: 5, Loss: 1.2367, Accuracy: 36.62%\n",
            "Fine-tuning Epoch: 5, Loss: 1.2665, Accuracy: 36.72%\n"
          ]
        },
        {
          "output_type": "stream",
          "name": "stderr",
          "text": [
            " 70%|███████   | 42/60 [00:12<00:04,  3.93it/s]"
          ]
        },
        {
          "output_type": "stream",
          "name": "stdout",
          "text": [
            "Fine-tuning Epoch: 5, Loss: 1.2987, Accuracy: 36.81%\n",
            "Fine-tuning Epoch: 5, Loss: 1.3345, Accuracy: 36.68%\n"
          ]
        },
        {
          "output_type": "stream",
          "name": "stderr",
          "text": [
            " 73%|███████▎  | 44/60 [00:13<00:05,  3.10it/s]"
          ]
        },
        {
          "output_type": "stream",
          "name": "stdout",
          "text": [
            "Fine-tuning Epoch: 5, Loss: 1.3672, Accuracy: 36.56%\n",
            "Fine-tuning Epoch: 5, Loss: 1.4010, Accuracy: 36.51%\n"
          ]
        },
        {
          "output_type": "stream",
          "name": "stderr",
          "text": [
            " 77%|███████▋  | 46/60 [00:14<00:04,  2.82it/s]"
          ]
        },
        {
          "output_type": "stream",
          "name": "stdout",
          "text": [
            "Fine-tuning Epoch: 5, Loss: 1.4277, Accuracy: 36.67%\n",
            "Fine-tuning Epoch: 5, Loss: 1.4648, Accuracy: 36.62%\n"
          ]
        },
        {
          "output_type": "stream",
          "name": "stderr",
          "text": [
            " 80%|████████  | 48/60 [00:15<00:04,  2.85it/s]"
          ]
        },
        {
          "output_type": "stream",
          "name": "stdout",
          "text": [
            "Fine-tuning Epoch: 5, Loss: 1.4972, Accuracy: 36.37%\n",
            "Fine-tuning Epoch: 5, Loss: 1.5238, Accuracy: 36.65%\n"
          ]
        },
        {
          "output_type": "stream",
          "name": "stderr",
          "text": [
            " 83%|████████▎ | 50/60 [00:16<00:03,  2.93it/s]"
          ]
        },
        {
          "output_type": "stream",
          "name": "stdout",
          "text": [
            "Fine-tuning Epoch: 5, Loss: 1.5583, Accuracy: 36.67%\n",
            "Fine-tuning Epoch: 5, Loss: 1.5908, Accuracy: 36.69%\n"
          ]
        },
        {
          "output_type": "stream",
          "name": "stderr",
          "text": [
            " 87%|████████▋ | 52/60 [00:17<00:03,  2.66it/s]"
          ]
        },
        {
          "output_type": "stream",
          "name": "stdout",
          "text": [
            "Fine-tuning Epoch: 5, Loss: 1.6168, Accuracy: 36.95%\n",
            "Fine-tuning Epoch: 5, Loss: 1.6459, Accuracy: 37.08%\n"
          ]
        },
        {
          "output_type": "stream",
          "name": "stderr",
          "text": [
            " 90%|█████████ | 54/60 [00:17<00:02,  2.74it/s]"
          ]
        },
        {
          "output_type": "stream",
          "name": "stdout",
          "text": [
            "Fine-tuning Epoch: 5, Loss: 1.6707, Accuracy: 37.50%\n",
            "Fine-tuning Epoch: 5, Loss: 1.6976, Accuracy: 37.79%\n"
          ]
        },
        {
          "output_type": "stream",
          "name": "stderr",
          "text": [
            " 93%|█████████▎| 56/60 [00:18<00:01,  3.29it/s]"
          ]
        },
        {
          "output_type": "stream",
          "name": "stdout",
          "text": [
            "Fine-tuning Epoch: 5, Loss: 1.7221, Accuracy: 38.24%\n",
            "Fine-tuning Epoch: 5, Loss: 1.7494, Accuracy: 38.28%\n"
          ]
        },
        {
          "output_type": "stream",
          "name": "stderr",
          "text": [
            " 97%|█████████▋| 58/60 [00:19<00:00,  3.53it/s]"
          ]
        },
        {
          "output_type": "stream",
          "name": "stdout",
          "text": [
            "Fine-tuning Epoch: 5, Loss: 1.7769, Accuracy: 38.54%\n",
            "Fine-tuning Epoch: 5, Loss: 1.8074, Accuracy: 38.58%\n"
          ]
        },
        {
          "output_type": "stream",
          "name": "stderr",
          "text": [
            "100%|██████████| 60/60 [00:19<00:00,  3.06it/s]\n"
          ]
        },
        {
          "output_type": "stream",
          "name": "stdout",
          "text": [
            "Fine-tuning Epoch: 5, Loss: 1.8352, Accuracy: 38.51%\n",
            "Fine-tuning Epoch: 5, Loss: 1.8632, Accuracy: 38.70%\n"
          ]
        },
        {
          "output_type": "stream",
          "name": "stderr",
          "text": [
            "  3%|▎         | 2/60 [00:00<00:21,  2.73it/s]"
          ]
        },
        {
          "output_type": "stream",
          "name": "stdout",
          "text": [
            "Fine-tuning Epoch: 6, Loss: 0.0268, Accuracy: 50.00%\n",
            "Fine-tuning Epoch: 6, Loss: 0.0524, Accuracy: 45.31%\n"
          ]
        },
        {
          "output_type": "stream",
          "name": "stderr",
          "text": [
            "  7%|▋         | 4/60 [00:01<00:16,  3.48it/s]"
          ]
        },
        {
          "output_type": "stream",
          "name": "stdout",
          "text": [
            "Fine-tuning Epoch: 6, Loss: 0.0853, Accuracy: 42.71%\n",
            "Fine-tuning Epoch: 6, Loss: 0.1154, Accuracy: 40.62%\n"
          ]
        },
        {
          "output_type": "stream",
          "name": "stderr",
          "text": [
            " 10%|█         | 6/60 [00:01<00:14,  3.81it/s]"
          ]
        },
        {
          "output_type": "stream",
          "name": "stdout",
          "text": [
            "Fine-tuning Epoch: 6, Loss: 0.1462, Accuracy: 41.88%\n",
            "Fine-tuning Epoch: 6, Loss: 0.1720, Accuracy: 42.19%\n"
          ]
        },
        {
          "output_type": "stream",
          "name": "stderr",
          "text": [
            " 13%|█▎        | 8/60 [00:02<00:13,  3.85it/s]"
          ]
        },
        {
          "output_type": "stream",
          "name": "stdout",
          "text": [
            "Fine-tuning Epoch: 6, Loss: 0.2045, Accuracy: 41.07%\n",
            "Fine-tuning Epoch: 6, Loss: 0.2318, Accuracy: 41.80%\n"
          ]
        },
        {
          "output_type": "stream",
          "name": "stderr",
          "text": [
            " 17%|█▋        | 10/60 [00:03<00:12,  3.99it/s]"
          ]
        },
        {
          "output_type": "stream",
          "name": "stdout",
          "text": [
            "Fine-tuning Epoch: 6, Loss: 0.2652, Accuracy: 41.67%\n",
            "Fine-tuning Epoch: 6, Loss: 0.3003, Accuracy: 41.25%\n"
          ]
        },
        {
          "output_type": "stream",
          "name": "stderr",
          "text": [
            " 20%|██        | 12/60 [00:03<00:11,  4.02it/s]"
          ]
        },
        {
          "output_type": "stream",
          "name": "stdout",
          "text": [
            "Fine-tuning Epoch: 6, Loss: 0.3312, Accuracy: 41.48%\n",
            "Fine-tuning Epoch: 6, Loss: 0.3569, Accuracy: 42.19%\n"
          ]
        },
        {
          "output_type": "stream",
          "name": "stderr",
          "text": [
            " 23%|██▎       | 14/60 [00:04<00:11,  4.09it/s]"
          ]
        },
        {
          "output_type": "stream",
          "name": "stdout",
          "text": [
            "Fine-tuning Epoch: 6, Loss: 0.3821, Accuracy: 42.31%\n",
            "Fine-tuning Epoch: 6, Loss: 0.4116, Accuracy: 42.63%\n"
          ]
        },
        {
          "output_type": "stream",
          "name": "stderr",
          "text": [
            " 27%|██▋       | 16/60 [00:04<00:10,  4.16it/s]"
          ]
        },
        {
          "output_type": "stream",
          "name": "stdout",
          "text": [
            "Fine-tuning Epoch: 6, Loss: 0.4378, Accuracy: 42.92%\n",
            "Fine-tuning Epoch: 6, Loss: 0.4696, Accuracy: 43.16%\n"
          ]
        },
        {
          "output_type": "stream",
          "name": "stderr",
          "text": [
            " 30%|███       | 18/60 [00:05<00:10,  3.99it/s]"
          ]
        },
        {
          "output_type": "stream",
          "name": "stdout",
          "text": [
            "Fine-tuning Epoch: 6, Loss: 0.5045, Accuracy: 42.65%\n",
            "Fine-tuning Epoch: 6, Loss: 0.5312, Accuracy: 42.88%\n"
          ]
        },
        {
          "output_type": "stream",
          "name": "stderr",
          "text": [
            " 33%|███▎      | 20/60 [00:05<00:09,  4.08it/s]"
          ]
        },
        {
          "output_type": "stream",
          "name": "stdout",
          "text": [
            "Fine-tuning Epoch: 6, Loss: 0.5670, Accuracy: 42.27%\n",
            "Fine-tuning Epoch: 6, Loss: 0.5966, Accuracy: 41.72%\n"
          ]
        },
        {
          "output_type": "stream",
          "name": "stderr",
          "text": [
            " 37%|███▋      | 22/60 [00:06<00:09,  3.97it/s]"
          ]
        },
        {
          "output_type": "stream",
          "name": "stdout",
          "text": [
            "Fine-tuning Epoch: 6, Loss: 0.6265, Accuracy: 41.37%\n",
            "Fine-tuning Epoch: 6, Loss: 0.6518, Accuracy: 41.05%\n"
          ]
        },
        {
          "output_type": "stream",
          "name": "stderr",
          "text": [
            " 40%|████      | 24/60 [00:06<00:08,  4.16it/s]"
          ]
        },
        {
          "output_type": "stream",
          "name": "stdout",
          "text": [
            "Fine-tuning Epoch: 6, Loss: 0.6819, Accuracy: 41.17%\n",
            "Fine-tuning Epoch: 6, Loss: 0.7148, Accuracy: 41.28%\n"
          ]
        },
        {
          "output_type": "stream",
          "name": "stderr",
          "text": [
            " 43%|████▎     | 26/60 [00:07<00:08,  4.22it/s]"
          ]
        },
        {
          "output_type": "stream",
          "name": "stdout",
          "text": [
            "Fine-tuning Epoch: 6, Loss: 0.7458, Accuracy: 41.88%\n",
            "Fine-tuning Epoch: 6, Loss: 0.7728, Accuracy: 42.55%\n"
          ]
        },
        {
          "output_type": "stream",
          "name": "stderr",
          "text": [
            " 47%|████▋     | 28/60 [00:07<00:07,  4.37it/s]"
          ]
        },
        {
          "output_type": "stream",
          "name": "stdout",
          "text": [
            "Fine-tuning Epoch: 6, Loss: 0.7993, Accuracy: 42.94%\n",
            "Fine-tuning Epoch: 6, Loss: 0.8213, Accuracy: 43.53%\n"
          ]
        },
        {
          "output_type": "stream",
          "name": "stderr",
          "text": [
            " 50%|█████     | 30/60 [00:08<00:07,  3.95it/s]"
          ]
        },
        {
          "output_type": "stream",
          "name": "stdout",
          "text": [
            "Fine-tuning Epoch: 6, Loss: 0.8472, Accuracy: 43.97%\n",
            "Fine-tuning Epoch: 6, Loss: 0.8796, Accuracy: 43.75%\n"
          ]
        },
        {
          "output_type": "stream",
          "name": "stderr",
          "text": [
            " 53%|█████▎    | 32/60 [00:09<00:09,  3.01it/s]"
          ]
        },
        {
          "output_type": "stream",
          "name": "stdout",
          "text": [
            "Fine-tuning Epoch: 6, Loss: 0.9049, Accuracy: 43.95%\n",
            "Fine-tuning Epoch: 6, Loss: 0.9325, Accuracy: 43.95%\n"
          ]
        },
        {
          "output_type": "stream",
          "name": "stderr",
          "text": [
            " 57%|█████▋    | 34/60 [00:10<00:08,  2.89it/s]"
          ]
        },
        {
          "output_type": "stream",
          "name": "stdout",
          "text": [
            "Fine-tuning Epoch: 6, Loss: 0.9596, Accuracy: 44.13%\n",
            "Fine-tuning Epoch: 6, Loss: 0.9872, Accuracy: 43.93%\n"
          ]
        },
        {
          "output_type": "stream",
          "name": "stderr",
          "text": [
            "\r 58%|█████▊    | 35/60 [00:10<00:10,  2.35it/s]"
          ]
        },
        {
          "output_type": "stream",
          "name": "stdout",
          "text": [
            "Fine-tuning Epoch: 6, Loss: 1.0128, Accuracy: 44.11%\n"
          ]
        },
        {
          "output_type": "stream",
          "name": "stderr",
          "text": [
            "\r 60%|██████    | 36/60 [00:11<00:08,  2.75it/s]"
          ]
        },
        {
          "output_type": "stream",
          "name": "stdout",
          "text": [
            "Fine-tuning Epoch: 6, Loss: 1.0431, Accuracy: 43.75%\n"
          ]
        },
        {
          "output_type": "stream",
          "name": "stderr",
          "text": [
            " 63%|██████▎   | 38/60 [00:11<00:08,  2.67it/s]"
          ]
        },
        {
          "output_type": "stream",
          "name": "stdout",
          "text": [
            "Fine-tuning Epoch: 6, Loss: 1.0650, Accuracy: 44.26%\n",
            "Fine-tuning Epoch: 6, Loss: 1.1022, Accuracy: 44.16%\n"
          ]
        },
        {
          "output_type": "stream",
          "name": "stderr",
          "text": [
            " 67%|██████▋   | 40/60 [00:12<00:07,  2.61it/s]"
          ]
        },
        {
          "output_type": "stream",
          "name": "stdout",
          "text": [
            "Fine-tuning Epoch: 6, Loss: 1.1310, Accuracy: 44.31%\n",
            "Fine-tuning Epoch: 6, Loss: 1.1637, Accuracy: 44.22%\n"
          ]
        },
        {
          "output_type": "stream",
          "name": "stderr",
          "text": [
            " 70%|███████   | 42/60 [00:13<00:06,  2.70it/s]"
          ]
        },
        {
          "output_type": "stream",
          "name": "stdout",
          "text": [
            "Fine-tuning Epoch: 6, Loss: 1.1899, Accuracy: 44.28%\n",
            "Fine-tuning Epoch: 6, Loss: 1.2186, Accuracy: 44.27%\n"
          ]
        },
        {
          "output_type": "stream",
          "name": "stderr",
          "text": [
            " 73%|███████▎  | 44/60 [00:14<00:04,  3.26it/s]"
          ]
        },
        {
          "output_type": "stream",
          "name": "stdout",
          "text": [
            "Fine-tuning Epoch: 6, Loss: 1.2450, Accuracy: 44.40%\n",
            "Fine-tuning Epoch: 6, Loss: 1.2730, Accuracy: 44.25%\n"
          ]
        },
        {
          "output_type": "stream",
          "name": "stderr",
          "text": [
            " 77%|███████▋  | 46/60 [00:14<00:03,  3.52it/s]"
          ]
        },
        {
          "output_type": "stream",
          "name": "stdout",
          "text": [
            "Fine-tuning Epoch: 6, Loss: 1.3110, Accuracy: 43.75%\n",
            "Fine-tuning Epoch: 6, Loss: 1.3409, Accuracy: 43.75%\n"
          ]
        },
        {
          "output_type": "stream",
          "name": "stderr",
          "text": [
            " 80%|████████  | 48/60 [00:15<00:03,  3.71it/s]"
          ]
        },
        {
          "output_type": "stream",
          "name": "stdout",
          "text": [
            "Fine-tuning Epoch: 6, Loss: 1.3682, Accuracy: 43.75%\n",
            "Fine-tuning Epoch: 6, Loss: 1.3980, Accuracy: 43.62%\n"
          ]
        },
        {
          "output_type": "stream",
          "name": "stderr",
          "text": [
            " 83%|████████▎ | 50/60 [00:15<00:02,  3.88it/s]"
          ]
        },
        {
          "output_type": "stream",
          "name": "stdout",
          "text": [
            "Fine-tuning Epoch: 6, Loss: 1.4222, Accuracy: 44.07%\n",
            "Fine-tuning Epoch: 6, Loss: 1.4566, Accuracy: 43.75%\n"
          ]
        },
        {
          "output_type": "stream",
          "name": "stderr",
          "text": [
            " 87%|████████▋ | 52/60 [00:16<00:01,  4.13it/s]"
          ]
        },
        {
          "output_type": "stream",
          "name": "stdout",
          "text": [
            "Fine-tuning Epoch: 6, Loss: 1.4809, Accuracy: 44.00%\n",
            "Fine-tuning Epoch: 6, Loss: 1.5194, Accuracy: 43.51%\n"
          ]
        },
        {
          "output_type": "stream",
          "name": "stderr",
          "text": [
            " 90%|█████████ | 54/60 [00:16<00:01,  4.01it/s]"
          ]
        },
        {
          "output_type": "stream",
          "name": "stdout",
          "text": [
            "Fine-tuning Epoch: 6, Loss: 1.5478, Accuracy: 43.51%\n",
            "Fine-tuning Epoch: 6, Loss: 1.5727, Accuracy: 43.63%\n"
          ]
        },
        {
          "output_type": "stream",
          "name": "stderr",
          "text": [
            " 93%|█████████▎| 56/60 [00:17<00:00,  4.22it/s]"
          ]
        },
        {
          "output_type": "stream",
          "name": "stdout",
          "text": [
            "Fine-tuning Epoch: 6, Loss: 1.5980, Accuracy: 43.58%\n",
            "Fine-tuning Epoch: 6, Loss: 1.6308, Accuracy: 43.53%\n"
          ]
        },
        {
          "output_type": "stream",
          "name": "stderr",
          "text": [
            " 97%|█████████▋| 58/60 [00:18<00:00,  4.02it/s]"
          ]
        },
        {
          "output_type": "stream",
          "name": "stdout",
          "text": [
            "Fine-tuning Epoch: 6, Loss: 1.6616, Accuracy: 43.70%\n",
            "Fine-tuning Epoch: 6, Loss: 1.6875, Accuracy: 43.80%\n"
          ]
        },
        {
          "output_type": "stream",
          "name": "stderr",
          "text": [
            "100%|██████████| 60/60 [00:18<00:00,  3.23it/s]\n"
          ]
        },
        {
          "output_type": "stream",
          "name": "stdout",
          "text": [
            "Fine-tuning Epoch: 6, Loss: 1.7148, Accuracy: 43.80%\n",
            "Fine-tuning Epoch: 6, Loss: 1.7479, Accuracy: 43.70%\n"
          ]
        },
        {
          "output_type": "stream",
          "name": "stderr",
          "text": [
            "  3%|▎         | 2/60 [00:00<00:20,  2.83it/s]"
          ]
        },
        {
          "output_type": "stream",
          "name": "stdout",
          "text": [
            "Fine-tuning Epoch: 7, Loss: 0.0272, Accuracy: 46.88%\n",
            "Fine-tuning Epoch: 7, Loss: 0.0605, Accuracy: 37.50%\n"
          ]
        },
        {
          "output_type": "stream",
          "name": "stderr",
          "text": [
            "  7%|▋         | 4/60 [00:01<00:15,  3.64it/s]"
          ]
        },
        {
          "output_type": "stream",
          "name": "stdout",
          "text": [
            "Fine-tuning Epoch: 7, Loss: 0.0875, Accuracy: 42.71%\n",
            "Fine-tuning Epoch: 7, Loss: 0.1147, Accuracy: 42.97%\n"
          ]
        },
        {
          "output_type": "stream",
          "name": "stderr",
          "text": [
            " 10%|█         | 6/60 [00:01<00:13,  4.00it/s]"
          ]
        },
        {
          "output_type": "stream",
          "name": "stdout",
          "text": [
            "Fine-tuning Epoch: 7, Loss: 0.1381, Accuracy: 43.75%\n",
            "Fine-tuning Epoch: 7, Loss: 0.1634, Accuracy: 43.23%\n"
          ]
        },
        {
          "output_type": "stream",
          "name": "stderr",
          "text": [
            " 13%|█▎        | 8/60 [00:02<00:12,  4.04it/s]"
          ]
        },
        {
          "output_type": "stream",
          "name": "stdout",
          "text": [
            "Fine-tuning Epoch: 7, Loss: 0.1869, Accuracy: 43.75%\n",
            "Fine-tuning Epoch: 7, Loss: 0.2166, Accuracy: 42.58%\n"
          ]
        },
        {
          "output_type": "stream",
          "name": "stderr",
          "text": [
            " 17%|█▋        | 10/60 [00:02<00:12,  4.15it/s]"
          ]
        },
        {
          "output_type": "stream",
          "name": "stdout",
          "text": [
            "Fine-tuning Epoch: 7, Loss: 0.2462, Accuracy: 42.01%\n",
            "Fine-tuning Epoch: 7, Loss: 0.2789, Accuracy: 41.88%\n"
          ]
        },
        {
          "output_type": "stream",
          "name": "stderr",
          "text": [
            " 20%|██        | 12/60 [00:03<00:12,  3.97it/s]"
          ]
        },
        {
          "output_type": "stream",
          "name": "stdout",
          "text": [
            "Fine-tuning Epoch: 7, Loss: 0.3095, Accuracy: 40.91%\n",
            "Fine-tuning Epoch: 7, Loss: 0.3358, Accuracy: 41.15%\n"
          ]
        },
        {
          "output_type": "stream",
          "name": "stderr",
          "text": [
            " 23%|██▎       | 14/60 [00:04<00:11,  3.95it/s]"
          ]
        },
        {
          "output_type": "stream",
          "name": "stdout",
          "text": [
            "Fine-tuning Epoch: 7, Loss: 0.3631, Accuracy: 41.35%\n",
            "Fine-tuning Epoch: 7, Loss: 0.3854, Accuracy: 43.75%\n"
          ]
        },
        {
          "output_type": "stream",
          "name": "stderr",
          "text": [
            " 27%|██▋       | 16/60 [00:04<00:11,  3.99it/s]"
          ]
        },
        {
          "output_type": "stream",
          "name": "stdout",
          "text": [
            "Fine-tuning Epoch: 7, Loss: 0.4119, Accuracy: 43.96%\n",
            "Fine-tuning Epoch: 7, Loss: 0.4373, Accuracy: 44.73%\n"
          ]
        },
        {
          "output_type": "stream",
          "name": "stderr",
          "text": [
            " 30%|███       | 18/60 [00:05<00:10,  3.89it/s]"
          ]
        },
        {
          "output_type": "stream",
          "name": "stdout",
          "text": [
            "Fine-tuning Epoch: 7, Loss: 0.4644, Accuracy: 44.67%\n",
            "Fine-tuning Epoch: 7, Loss: 0.4925, Accuracy: 44.79%\n"
          ]
        },
        {
          "output_type": "stream",
          "name": "stderr",
          "text": [
            " 33%|███▎      | 20/60 [00:06<00:13,  3.04it/s]"
          ]
        },
        {
          "output_type": "stream",
          "name": "stdout",
          "text": [
            "Fine-tuning Epoch: 7, Loss: 0.5233, Accuracy: 44.41%\n",
            "Fine-tuning Epoch: 7, Loss: 0.5533, Accuracy: 44.38%\n"
          ]
        },
        {
          "output_type": "stream",
          "name": "stderr",
          "text": [
            " 37%|███▋      | 22/60 [00:06<00:13,  2.79it/s]"
          ]
        },
        {
          "output_type": "stream",
          "name": "stdout",
          "text": [
            "Fine-tuning Epoch: 7, Loss: 0.5819, Accuracy: 44.20%\n",
            "Fine-tuning Epoch: 7, Loss: 0.6033, Accuracy: 44.89%\n"
          ]
        },
        {
          "output_type": "stream",
          "name": "stderr",
          "text": [
            " 40%|████      | 24/60 [00:07<00:12,  2.78it/s]"
          ]
        },
        {
          "output_type": "stream",
          "name": "stdout",
          "text": [
            "Fine-tuning Epoch: 7, Loss: 0.6301, Accuracy: 44.43%\n",
            "Fine-tuning Epoch: 7, Loss: 0.6556, Accuracy: 44.66%\n"
          ]
        },
        {
          "output_type": "stream",
          "name": "stderr",
          "text": [
            " 43%|████▎     | 26/60 [00:08<00:12,  2.71it/s]"
          ]
        },
        {
          "output_type": "stream",
          "name": "stdout",
          "text": [
            "Fine-tuning Epoch: 7, Loss: 0.6808, Accuracy: 44.50%\n",
            "Fine-tuning Epoch: 7, Loss: 0.7148, Accuracy: 44.11%\n"
          ]
        },
        {
          "output_type": "stream",
          "name": "stderr",
          "text": [
            " 47%|████▋     | 28/60 [00:09<00:12,  2.56it/s]"
          ]
        },
        {
          "output_type": "stream",
          "name": "stdout",
          "text": [
            "Fine-tuning Epoch: 7, Loss: 0.7435, Accuracy: 44.10%\n",
            "Fine-tuning Epoch: 7, Loss: 0.7751, Accuracy: 43.53%\n"
          ]
        },
        {
          "output_type": "stream",
          "name": "stderr",
          "text": [
            " 50%|█████     | 30/60 [00:10<00:10,  2.86it/s]"
          ]
        },
        {
          "output_type": "stream",
          "name": "stdout",
          "text": [
            "Fine-tuning Epoch: 7, Loss: 0.8029, Accuracy: 43.75%\n",
            "Fine-tuning Epoch: 7, Loss: 0.8343, Accuracy: 43.23%\n"
          ]
        },
        {
          "output_type": "stream",
          "name": "stderr",
          "text": [
            " 53%|█████▎    | 32/60 [00:10<00:08,  3.40it/s]"
          ]
        },
        {
          "output_type": "stream",
          "name": "stdout",
          "text": [
            "Fine-tuning Epoch: 7, Loss: 0.8670, Accuracy: 43.04%\n",
            "Fine-tuning Epoch: 7, Loss: 0.8919, Accuracy: 43.55%\n"
          ]
        },
        {
          "output_type": "stream",
          "name": "stderr",
          "text": [
            " 57%|█████▋    | 34/60 [00:11<00:07,  3.64it/s]"
          ]
        },
        {
          "output_type": "stream",
          "name": "stdout",
          "text": [
            "Fine-tuning Epoch: 7, Loss: 0.9199, Accuracy: 43.47%\n",
            "Fine-tuning Epoch: 7, Loss: 0.9479, Accuracy: 43.47%\n"
          ]
        },
        {
          "output_type": "stream",
          "name": "stderr",
          "text": [
            " 60%|██████    | 36/60 [00:11<00:06,  3.82it/s]"
          ]
        },
        {
          "output_type": "stream",
          "name": "stdout",
          "text": [
            "Fine-tuning Epoch: 7, Loss: 0.9755, Accuracy: 43.93%\n",
            "Fine-tuning Epoch: 7, Loss: 1.0057, Accuracy: 44.10%\n"
          ]
        },
        {
          "output_type": "stream",
          "name": "stderr",
          "text": [
            " 63%|██████▎   | 38/60 [00:12<00:05,  4.07it/s]"
          ]
        },
        {
          "output_type": "stream",
          "name": "stdout",
          "text": [
            "Fine-tuning Epoch: 7, Loss: 1.0341, Accuracy: 44.17%\n",
            "Fine-tuning Epoch: 7, Loss: 1.0586, Accuracy: 44.57%\n"
          ]
        },
        {
          "output_type": "stream",
          "name": "stderr",
          "text": [
            " 67%|██████▋   | 40/60 [00:12<00:04,  4.01it/s]"
          ]
        },
        {
          "output_type": "stream",
          "name": "stdout",
          "text": [
            "Fine-tuning Epoch: 7, Loss: 1.0947, Accuracy: 44.39%\n",
            "Fine-tuning Epoch: 7, Loss: 1.1185, Accuracy: 44.69%\n"
          ]
        },
        {
          "output_type": "stream",
          "name": "stderr",
          "text": [
            " 70%|███████   | 42/60 [00:13<00:04,  4.09it/s]"
          ]
        },
        {
          "output_type": "stream",
          "name": "stdout",
          "text": [
            "Fine-tuning Epoch: 7, Loss: 1.1451, Accuracy: 44.59%\n",
            "Fine-tuning Epoch: 7, Loss: 1.1755, Accuracy: 44.35%\n"
          ]
        },
        {
          "output_type": "stream",
          "name": "stderr",
          "text": [
            " 73%|███████▎  | 44/60 [00:14<00:03,  4.15it/s]"
          ]
        },
        {
          "output_type": "stream",
          "name": "stdout",
          "text": [
            "Fine-tuning Epoch: 7, Loss: 1.2035, Accuracy: 44.33%\n",
            "Fine-tuning Epoch: 7, Loss: 1.2336, Accuracy: 44.46%\n"
          ]
        },
        {
          "output_type": "stream",
          "name": "stderr",
          "text": [
            " 77%|███████▋  | 46/60 [00:14<00:03,  4.17it/s]"
          ]
        },
        {
          "output_type": "stream",
          "name": "stdout",
          "text": [
            "Fine-tuning Epoch: 7, Loss: 1.2649, Accuracy: 44.38%\n",
            "Fine-tuning Epoch: 7, Loss: 1.2889, Accuracy: 44.63%\n"
          ]
        },
        {
          "output_type": "stream",
          "name": "stderr",
          "text": [
            " 80%|████████  | 48/60 [00:15<00:02,  4.07it/s]"
          ]
        },
        {
          "output_type": "stream",
          "name": "stdout",
          "text": [
            "Fine-tuning Epoch: 7, Loss: 1.3196, Accuracy: 44.68%\n",
            "Fine-tuning Epoch: 7, Loss: 1.3442, Accuracy: 44.86%\n"
          ]
        },
        {
          "output_type": "stream",
          "name": "stderr",
          "text": [
            " 83%|████████▎ | 50/60 [00:15<00:02,  3.94it/s]"
          ]
        },
        {
          "output_type": "stream",
          "name": "stdout",
          "text": [
            "Fine-tuning Epoch: 7, Loss: 1.3774, Accuracy: 44.64%\n",
            "Fine-tuning Epoch: 7, Loss: 1.4024, Accuracy: 44.75%\n"
          ]
        },
        {
          "output_type": "stream",
          "name": "stderr",
          "text": [
            " 87%|████████▋ | 52/60 [00:16<00:02,  3.94it/s]"
          ]
        },
        {
          "output_type": "stream",
          "name": "stdout",
          "text": [
            "Fine-tuning Epoch: 7, Loss: 1.4284, Accuracy: 44.91%\n",
            "Fine-tuning Epoch: 7, Loss: 1.4544, Accuracy: 45.01%\n"
          ]
        },
        {
          "output_type": "stream",
          "name": "stderr",
          "text": [
            " 90%|█████████ | 54/60 [00:16<00:01,  4.18it/s]"
          ]
        },
        {
          "output_type": "stream",
          "name": "stdout",
          "text": [
            "Fine-tuning Epoch: 7, Loss: 1.4796, Accuracy: 44.99%\n",
            "Fine-tuning Epoch: 7, Loss: 1.5000, Accuracy: 45.14%\n"
          ]
        },
        {
          "output_type": "stream",
          "name": "stderr",
          "text": [
            " 93%|█████████▎| 56/60 [00:17<00:00,  4.15it/s]"
          ]
        },
        {
          "output_type": "stream",
          "name": "stdout",
          "text": [
            "Fine-tuning Epoch: 7, Loss: 1.5308, Accuracy: 45.17%\n",
            "Fine-tuning Epoch: 7, Loss: 1.5631, Accuracy: 44.98%\n"
          ]
        },
        {
          "output_type": "stream",
          "name": "stderr",
          "text": [
            " 97%|█████████▋| 58/60 [00:17<00:00,  4.02it/s]"
          ]
        },
        {
          "output_type": "stream",
          "name": "stdout",
          "text": [
            "Fine-tuning Epoch: 7, Loss: 1.5916, Accuracy: 45.01%\n",
            "Fine-tuning Epoch: 7, Loss: 1.6225, Accuracy: 44.94%\n"
          ]
        },
        {
          "output_type": "stream",
          "name": "stderr",
          "text": [
            "100%|██████████| 60/60 [00:18<00:00,  3.27it/s]\n"
          ]
        },
        {
          "output_type": "stream",
          "name": "stdout",
          "text": [
            "Fine-tuning Epoch: 7, Loss: 1.6473, Accuracy: 45.18%\n",
            "Fine-tuning Epoch: 7, Loss: 1.6687, Accuracy: 45.42%\n"
          ]
        },
        {
          "output_type": "stream",
          "name": "stderr",
          "text": [
            "  3%|▎         | 2/60 [00:00<00:20,  2.90it/s]"
          ]
        },
        {
          "output_type": "stream",
          "name": "stdout",
          "text": [
            "Fine-tuning Epoch: 8, Loss: 0.0238, Accuracy: 50.00%\n",
            "Fine-tuning Epoch: 8, Loss: 0.0540, Accuracy: 50.00%\n"
          ]
        },
        {
          "output_type": "stream",
          "name": "stderr",
          "text": [
            "  7%|▋         | 4/60 [00:01<00:16,  3.45it/s]"
          ]
        },
        {
          "output_type": "stream",
          "name": "stdout",
          "text": [
            "Fine-tuning Epoch: 8, Loss: 0.0803, Accuracy: 50.00%\n",
            "Fine-tuning Epoch: 8, Loss: 0.1022, Accuracy: 50.78%\n"
          ]
        },
        {
          "output_type": "stream",
          "name": "stderr",
          "text": [
            " 10%|█         | 6/60 [00:02<00:16,  3.27it/s]"
          ]
        },
        {
          "output_type": "stream",
          "name": "stdout",
          "text": [
            "Fine-tuning Epoch: 8, Loss: 0.1291, Accuracy: 50.62%\n",
            "Fine-tuning Epoch: 8, Loss: 0.1583, Accuracy: 48.96%\n"
          ]
        },
        {
          "output_type": "stream",
          "name": "stderr",
          "text": [
            " 13%|█▎        | 8/60 [00:03<00:19,  2.70it/s]"
          ]
        },
        {
          "output_type": "stream",
          "name": "stdout",
          "text": [
            "Fine-tuning Epoch: 8, Loss: 0.1859, Accuracy: 49.11%\n",
            "Fine-tuning Epoch: 8, Loss: 0.2085, Accuracy: 50.00%\n"
          ]
        },
        {
          "output_type": "stream",
          "name": "stderr",
          "text": [
            " 17%|█▋        | 10/60 [00:04<00:19,  2.54it/s]"
          ]
        },
        {
          "output_type": "stream",
          "name": "stdout",
          "text": [
            "Fine-tuning Epoch: 8, Loss: 0.2344, Accuracy: 49.31%\n",
            "Fine-tuning Epoch: 8, Loss: 0.2659, Accuracy: 49.06%\n"
          ]
        },
        {
          "output_type": "stream",
          "name": "stderr",
          "text": [
            " 20%|██        | 12/60 [00:04<00:18,  2.59it/s]"
          ]
        },
        {
          "output_type": "stream",
          "name": "stdout",
          "text": [
            "Fine-tuning Epoch: 8, Loss: 0.2938, Accuracy: 48.58%\n",
            "Fine-tuning Epoch: 8, Loss: 0.3225, Accuracy: 47.92%\n"
          ]
        },
        {
          "output_type": "stream",
          "name": "stderr",
          "text": [
            " 23%|██▎       | 14/60 [00:05<00:16,  2.72it/s]"
          ]
        },
        {
          "output_type": "stream",
          "name": "stdout",
          "text": [
            "Fine-tuning Epoch: 8, Loss: 0.3526, Accuracy: 47.84%\n",
            "Fine-tuning Epoch: 8, Loss: 0.3758, Accuracy: 48.44%\n"
          ]
        },
        {
          "output_type": "stream",
          "name": "stderr",
          "text": [
            " 27%|██▋       | 16/60 [00:06<00:15,  2.83it/s]"
          ]
        },
        {
          "output_type": "stream",
          "name": "stdout",
          "text": [
            "Fine-tuning Epoch: 8, Loss: 0.4066, Accuracy: 47.71%\n",
            "Fine-tuning Epoch: 8, Loss: 0.4304, Accuracy: 48.05%\n"
          ]
        },
        {
          "output_type": "stream",
          "name": "stderr",
          "text": [
            " 30%|███       | 18/60 [00:07<00:14,  2.80it/s]"
          ]
        },
        {
          "output_type": "stream",
          "name": "stdout",
          "text": [
            "Fine-tuning Epoch: 8, Loss: 0.4579, Accuracy: 47.79%\n",
            "Fine-tuning Epoch: 8, Loss: 0.4937, Accuracy: 47.05%\n"
          ]
        },
        {
          "output_type": "stream",
          "name": "stderr",
          "text": [
            " 33%|███▎      | 20/60 [00:07<00:12,  3.23it/s]"
          ]
        },
        {
          "output_type": "stream",
          "name": "stdout",
          "text": [
            "Fine-tuning Epoch: 8, Loss: 0.5159, Accuracy: 47.70%\n",
            "Fine-tuning Epoch: 8, Loss: 0.5396, Accuracy: 47.97%\n"
          ]
        },
        {
          "output_type": "stream",
          "name": "stderr",
          "text": [
            " 37%|███▋      | 22/60 [00:08<00:10,  3.56it/s]"
          ]
        },
        {
          "output_type": "stream",
          "name": "stdout",
          "text": [
            "Fine-tuning Epoch: 8, Loss: 0.5617, Accuracy: 48.66%\n",
            "Fine-tuning Epoch: 8, Loss: 0.5902, Accuracy: 48.30%\n"
          ]
        },
        {
          "output_type": "stream",
          "name": "stderr",
          "text": [
            " 40%|████      | 24/60 [00:08<00:09,  3.84it/s]"
          ]
        },
        {
          "output_type": "stream",
          "name": "stdout",
          "text": [
            "Fine-tuning Epoch: 8, Loss: 0.6199, Accuracy: 47.69%\n",
            "Fine-tuning Epoch: 8, Loss: 0.6458, Accuracy: 47.66%\n"
          ]
        },
        {
          "output_type": "stream",
          "name": "stderr",
          "text": [
            " 43%|████▎     | 26/60 [00:09<00:08,  3.88it/s]"
          ]
        },
        {
          "output_type": "stream",
          "name": "stdout",
          "text": [
            "Fine-tuning Epoch: 8, Loss: 0.6770, Accuracy: 47.75%\n",
            "Fine-tuning Epoch: 8, Loss: 0.7018, Accuracy: 48.08%\n"
          ]
        },
        {
          "output_type": "stream",
          "name": "stderr",
          "text": [
            " 47%|████▋     | 28/60 [00:10<00:07,  4.06it/s]"
          ]
        },
        {
          "output_type": "stream",
          "name": "stdout",
          "text": [
            "Fine-tuning Epoch: 8, Loss: 0.7316, Accuracy: 47.80%\n",
            "Fine-tuning Epoch: 8, Loss: 0.7598, Accuracy: 47.32%\n"
          ]
        },
        {
          "output_type": "stream",
          "name": "stderr",
          "text": [
            " 50%|█████     | 30/60 [00:10<00:07,  4.09it/s]"
          ]
        },
        {
          "output_type": "stream",
          "name": "stdout",
          "text": [
            "Fine-tuning Epoch: 8, Loss: 0.7852, Accuracy: 47.63%\n",
            "Fine-tuning Epoch: 8, Loss: 0.8106, Accuracy: 47.50%\n"
          ]
        },
        {
          "output_type": "stream",
          "name": "stderr",
          "text": [
            " 53%|█████▎    | 32/60 [00:11<00:07,  3.92it/s]"
          ]
        },
        {
          "output_type": "stream",
          "name": "stdout",
          "text": [
            "Fine-tuning Epoch: 8, Loss: 0.8363, Accuracy: 47.48%\n",
            "Fine-tuning Epoch: 8, Loss: 0.8610, Accuracy: 47.85%\n"
          ]
        },
        {
          "output_type": "stream",
          "name": "stderr",
          "text": [
            " 57%|█████▋    | 34/60 [00:11<00:06,  4.03it/s]"
          ]
        },
        {
          "output_type": "stream",
          "name": "stdout",
          "text": [
            "Fine-tuning Epoch: 8, Loss: 0.8870, Accuracy: 47.92%\n",
            "Fine-tuning Epoch: 8, Loss: 0.9187, Accuracy: 47.89%\n"
          ]
        },
        {
          "output_type": "stream",
          "name": "stderr",
          "text": [
            " 60%|██████    | 36/60 [00:12<00:05,  4.25it/s]"
          ]
        },
        {
          "output_type": "stream",
          "name": "stdout",
          "text": [
            "Fine-tuning Epoch: 8, Loss: 0.9458, Accuracy: 47.77%\n",
            "Fine-tuning Epoch: 8, Loss: 0.9729, Accuracy: 47.74%\n"
          ]
        },
        {
          "output_type": "stream",
          "name": "stderr",
          "text": [
            " 63%|██████▎   | 38/60 [00:12<00:05,  4.10it/s]"
          ]
        },
        {
          "output_type": "stream",
          "name": "stdout",
          "text": [
            "Fine-tuning Epoch: 8, Loss: 0.9965, Accuracy: 47.64%\n",
            "Fine-tuning Epoch: 8, Loss: 1.0263, Accuracy: 47.45%\n"
          ]
        },
        {
          "output_type": "stream",
          "name": "stderr",
          "text": [
            " 67%|██████▋   | 40/60 [00:13<00:04,  4.13it/s]"
          ]
        },
        {
          "output_type": "stream",
          "name": "stdout",
          "text": [
            "Fine-tuning Epoch: 8, Loss: 1.0567, Accuracy: 47.36%\n",
            "Fine-tuning Epoch: 8, Loss: 1.0804, Accuracy: 47.50%\n"
          ]
        },
        {
          "output_type": "stream",
          "name": "stderr",
          "text": [
            " 70%|███████   | 42/60 [00:13<00:04,  4.00it/s]"
          ]
        },
        {
          "output_type": "stream",
          "name": "stdout",
          "text": [
            "Fine-tuning Epoch: 8, Loss: 1.1079, Accuracy: 47.33%\n",
            "Fine-tuning Epoch: 8, Loss: 1.1354, Accuracy: 47.54%\n"
          ]
        },
        {
          "output_type": "stream",
          "name": "stderr",
          "text": [
            " 73%|███████▎  | 44/60 [00:14<00:04,  3.99it/s]"
          ]
        },
        {
          "output_type": "stream",
          "name": "stdout",
          "text": [
            "Fine-tuning Epoch: 8, Loss: 1.1642, Accuracy: 47.31%\n",
            "Fine-tuning Epoch: 8, Loss: 1.1949, Accuracy: 47.09%\n"
          ]
        },
        {
          "output_type": "stream",
          "name": "stderr",
          "text": [
            " 77%|███████▋  | 46/60 [00:14<00:03,  4.03it/s]"
          ]
        },
        {
          "output_type": "stream",
          "name": "stdout",
          "text": [
            "Fine-tuning Epoch: 8, Loss: 1.2240, Accuracy: 47.01%\n",
            "Fine-tuning Epoch: 8, Loss: 1.2479, Accuracy: 46.88%\n"
          ]
        },
        {
          "output_type": "stream",
          "name": "stderr",
          "text": [
            " 80%|████████  | 48/60 [00:15<00:02,  4.05it/s]"
          ]
        },
        {
          "output_type": "stream",
          "name": "stdout",
          "text": [
            "Fine-tuning Epoch: 8, Loss: 1.2731, Accuracy: 47.07%\n",
            "Fine-tuning Epoch: 8, Loss: 1.3004, Accuracy: 47.07%\n"
          ]
        },
        {
          "output_type": "stream",
          "name": "stderr",
          "text": [
            " 83%|████████▎ | 50/60 [00:16<00:02,  3.93it/s]"
          ]
        },
        {
          "output_type": "stream",
          "name": "stdout",
          "text": [
            "Fine-tuning Epoch: 8, Loss: 1.3226, Accuracy: 47.26%\n",
            "Fine-tuning Epoch: 8, Loss: 1.3458, Accuracy: 47.31%\n"
          ]
        },
        {
          "output_type": "stream",
          "name": "stderr",
          "text": [
            " 87%|████████▋ | 52/60 [00:16<00:02,  3.94it/s]"
          ]
        },
        {
          "output_type": "stream",
          "name": "stdout",
          "text": [
            "Fine-tuning Epoch: 8, Loss: 1.3741, Accuracy: 47.24%\n",
            "Fine-tuning Epoch: 8, Loss: 1.4023, Accuracy: 47.00%\n"
          ]
        },
        {
          "output_type": "stream",
          "name": "stderr",
          "text": [
            " 90%|█████████ | 54/60 [00:17<00:01,  3.60it/s]"
          ]
        },
        {
          "output_type": "stream",
          "name": "stdout",
          "text": [
            "Fine-tuning Epoch: 8, Loss: 1.4323, Accuracy: 46.76%\n",
            "Fine-tuning Epoch: 8, Loss: 1.4611, Accuracy: 46.64%\n"
          ]
        },
        {
          "output_type": "stream",
          "name": "stderr",
          "text": [
            " 93%|█████████▎| 56/60 [00:18<00:01,  3.04it/s]"
          ]
        },
        {
          "output_type": "stream",
          "name": "stdout",
          "text": [
            "Fine-tuning Epoch: 8, Loss: 1.4930, Accuracy: 46.36%\n",
            "Fine-tuning Epoch: 8, Loss: 1.5219, Accuracy: 46.21%\n"
          ]
        },
        {
          "output_type": "stream",
          "name": "stderr",
          "text": [
            " 97%|█████████▋| 58/60 [00:19<00:00,  2.75it/s]"
          ]
        },
        {
          "output_type": "stream",
          "name": "stdout",
          "text": [
            "Fine-tuning Epoch: 8, Loss: 1.5478, Accuracy: 46.22%\n",
            "Fine-tuning Epoch: 8, Loss: 1.5735, Accuracy: 46.12%\n"
          ]
        },
        {
          "output_type": "stream",
          "name": "stderr",
          "text": [
            "100%|██████████| 60/60 [00:19<00:00,  3.50it/s]"
          ]
        },
        {
          "output_type": "stream",
          "name": "stdout",
          "text": [
            "Fine-tuning Epoch: 8, Loss: 1.6052, Accuracy: 45.97%\n",
            "Fine-tuning Epoch: 8, Loss: 1.6331, Accuracy: 46.04%\n"
          ]
        },
        {
          "output_type": "stream",
          "name": "stderr",
          "text": [
            "100%|██████████| 60/60 [00:19<00:00,  3.06it/s]\n",
            "  3%|▎         | 2/60 [00:01<00:31,  1.82it/s]"
          ]
        },
        {
          "output_type": "stream",
          "name": "stdout",
          "text": [
            "Fine-tuning Epoch: 9, Loss: 0.0357, Accuracy: 31.25%\n",
            "Fine-tuning Epoch: 9, Loss: 0.0632, Accuracy: 34.38%\n"
          ]
        },
        {
          "output_type": "stream",
          "name": "stderr",
          "text": [
            "  7%|▋         | 4/60 [00:02<00:23,  2.34it/s]"
          ]
        },
        {
          "output_type": "stream",
          "name": "stdout",
          "text": [
            "Fine-tuning Epoch: 9, Loss: 0.0871, Accuracy: 39.58%\n",
            "Fine-tuning Epoch: 9, Loss: 0.1110, Accuracy: 40.62%\n"
          ]
        },
        {
          "output_type": "stream",
          "name": "stderr",
          "text": [
            " 10%|█         | 6/60 [00:02<00:19,  2.80it/s]"
          ]
        },
        {
          "output_type": "stream",
          "name": "stdout",
          "text": [
            "Fine-tuning Epoch: 9, Loss: 0.1349, Accuracy: 43.75%\n",
            "Fine-tuning Epoch: 9, Loss: 0.1696, Accuracy: 44.79%\n"
          ]
        },
        {
          "output_type": "stream",
          "name": "stderr",
          "text": [
            " 13%|█▎        | 8/60 [00:03<00:15,  3.28it/s]"
          ]
        },
        {
          "output_type": "stream",
          "name": "stdout",
          "text": [
            "Fine-tuning Epoch: 9, Loss: 0.1965, Accuracy: 44.20%\n",
            "Fine-tuning Epoch: 9, Loss: 0.2185, Accuracy: 46.48%\n"
          ]
        },
        {
          "output_type": "stream",
          "name": "stderr",
          "text": [
            " 17%|█▋        | 10/60 [00:03<00:14,  3.57it/s]"
          ]
        },
        {
          "output_type": "stream",
          "name": "stdout",
          "text": [
            "Fine-tuning Epoch: 9, Loss: 0.2473, Accuracy: 46.88%\n",
            "Fine-tuning Epoch: 9, Loss: 0.2725, Accuracy: 46.88%\n"
          ]
        },
        {
          "output_type": "stream",
          "name": "stderr",
          "text": [
            " 20%|██        | 12/60 [00:04<00:12,  3.81it/s]"
          ]
        },
        {
          "output_type": "stream",
          "name": "stdout",
          "text": [
            "Fine-tuning Epoch: 9, Loss: 0.2955, Accuracy: 47.44%\n",
            "Fine-tuning Epoch: 9, Loss: 0.3230, Accuracy: 46.09%\n"
          ]
        },
        {
          "output_type": "stream",
          "name": "stderr",
          "text": [
            " 23%|██▎       | 14/60 [00:05<00:12,  3.76it/s]"
          ]
        },
        {
          "output_type": "stream",
          "name": "stdout",
          "text": [
            "Fine-tuning Epoch: 9, Loss: 0.3485, Accuracy: 47.36%\n",
            "Fine-tuning Epoch: 9, Loss: 0.3731, Accuracy: 47.10%\n"
          ]
        },
        {
          "output_type": "stream",
          "name": "stderr",
          "text": [
            " 27%|██▋       | 16/60 [00:05<00:11,  3.96it/s]"
          ]
        },
        {
          "output_type": "stream",
          "name": "stdout",
          "text": [
            "Fine-tuning Epoch: 9, Loss: 0.3936, Accuracy: 48.12%\n",
            "Fine-tuning Epoch: 9, Loss: 0.4181, Accuracy: 48.44%\n"
          ]
        },
        {
          "output_type": "stream",
          "name": "stderr",
          "text": [
            " 30%|███       | 18/60 [00:06<00:10,  4.12it/s]"
          ]
        },
        {
          "output_type": "stream",
          "name": "stdout",
          "text": [
            "Fine-tuning Epoch: 9, Loss: 0.4496, Accuracy: 47.43%\n",
            "Fine-tuning Epoch: 9, Loss: 0.4812, Accuracy: 47.05%\n"
          ]
        },
        {
          "output_type": "stream",
          "name": "stderr",
          "text": [
            " 33%|███▎      | 20/60 [00:06<00:09,  4.08it/s]"
          ]
        },
        {
          "output_type": "stream",
          "name": "stdout",
          "text": [
            "Fine-tuning Epoch: 9, Loss: 0.5081, Accuracy: 46.88%\n",
            "Fine-tuning Epoch: 9, Loss: 0.5378, Accuracy: 47.03%\n"
          ]
        },
        {
          "output_type": "stream",
          "name": "stderr",
          "text": [
            " 37%|███▋      | 22/60 [00:07<00:09,  4.03it/s]"
          ]
        },
        {
          "output_type": "stream",
          "name": "stdout",
          "text": [
            "Fine-tuning Epoch: 9, Loss: 0.5629, Accuracy: 47.02%\n",
            "Fine-tuning Epoch: 9, Loss: 0.5859, Accuracy: 47.16%\n"
          ]
        },
        {
          "output_type": "stream",
          "name": "stderr",
          "text": [
            " 40%|████      | 24/60 [00:07<00:08,  4.22it/s]"
          ]
        },
        {
          "output_type": "stream",
          "name": "stdout",
          "text": [
            "Fine-tuning Epoch: 9, Loss: 0.6067, Accuracy: 47.69%\n",
            "Fine-tuning Epoch: 9, Loss: 0.6301, Accuracy: 48.18%\n"
          ]
        },
        {
          "output_type": "stream",
          "name": "stderr",
          "text": [
            " 43%|████▎     | 26/60 [00:08<00:08,  4.25it/s]"
          ]
        },
        {
          "output_type": "stream",
          "name": "stdout",
          "text": [
            "Fine-tuning Epoch: 9, Loss: 0.6558, Accuracy: 48.12%\n",
            "Fine-tuning Epoch: 9, Loss: 0.6806, Accuracy: 48.20%\n"
          ]
        },
        {
          "output_type": "stream",
          "name": "stderr",
          "text": [
            " 47%|████▋     | 28/60 [00:08<00:07,  4.09it/s]"
          ]
        },
        {
          "output_type": "stream",
          "name": "stdout",
          "text": [
            "Fine-tuning Epoch: 9, Loss: 0.7110, Accuracy: 47.92%\n",
            "Fine-tuning Epoch: 9, Loss: 0.7412, Accuracy: 47.32%\n"
          ]
        },
        {
          "output_type": "stream",
          "name": "stderr",
          "text": [
            " 50%|█████     | 30/60 [00:09<00:07,  4.21it/s]"
          ]
        },
        {
          "output_type": "stream",
          "name": "stdout",
          "text": [
            "Fine-tuning Epoch: 9, Loss: 0.7668, Accuracy: 47.31%\n",
            "Fine-tuning Epoch: 9, Loss: 0.7924, Accuracy: 47.50%\n"
          ]
        },
        {
          "output_type": "stream",
          "name": "stderr",
          "text": [
            " 53%|█████▎    | 32/60 [00:09<00:06,  4.35it/s]"
          ]
        },
        {
          "output_type": "stream",
          "name": "stdout",
          "text": [
            "Fine-tuning Epoch: 9, Loss: 0.8211, Accuracy: 47.28%\n",
            "Fine-tuning Epoch: 9, Loss: 0.8459, Accuracy: 47.56%\n"
          ]
        },
        {
          "output_type": "stream",
          "name": "stderr",
          "text": [
            " 57%|█████▋    | 34/60 [00:10<00:06,  4.07it/s]"
          ]
        },
        {
          "output_type": "stream",
          "name": "stdout",
          "text": [
            "Fine-tuning Epoch: 9, Loss: 0.8750, Accuracy: 47.63%\n",
            "Fine-tuning Epoch: 9, Loss: 0.9051, Accuracy: 47.43%\n"
          ]
        },
        {
          "output_type": "stream",
          "name": "stderr",
          "text": [
            " 60%|██████    | 36/60 [00:10<00:05,  4.16it/s]"
          ]
        },
        {
          "output_type": "stream",
          "name": "stdout",
          "text": [
            "Fine-tuning Epoch: 9, Loss: 0.9328, Accuracy: 47.59%\n",
            "Fine-tuning Epoch: 9, Loss: 0.9566, Accuracy: 48.00%\n"
          ]
        },
        {
          "output_type": "stream",
          "name": "stderr",
          "text": [
            " 63%|██████▎   | 38/60 [00:11<00:05,  4.14it/s]"
          ]
        },
        {
          "output_type": "stream",
          "name": "stdout",
          "text": [
            "Fine-tuning Epoch: 9, Loss: 0.9859, Accuracy: 47.80%\n",
            "Fine-tuning Epoch: 9, Loss: 1.0101, Accuracy: 47.94%\n"
          ]
        },
        {
          "output_type": "stream",
          "name": "stderr",
          "text": [
            " 67%|██████▋   | 40/60 [00:12<00:04,  4.13it/s]"
          ]
        },
        {
          "output_type": "stream",
          "name": "stdout",
          "text": [
            "Fine-tuning Epoch: 9, Loss: 1.0363, Accuracy: 47.92%\n",
            "Fine-tuning Epoch: 9, Loss: 1.0664, Accuracy: 47.81%\n"
          ]
        },
        {
          "output_type": "stream",
          "name": "stderr",
          "text": [
            " 70%|███████   | 42/60 [00:12<00:04,  4.07it/s]"
          ]
        },
        {
          "output_type": "stream",
          "name": "stdout",
          "text": [
            "Fine-tuning Epoch: 9, Loss: 1.0965, Accuracy: 47.71%\n",
            "Fine-tuning Epoch: 9, Loss: 1.1269, Accuracy: 47.47%\n"
          ]
        },
        {
          "output_type": "stream",
          "name": "stderr",
          "text": [
            " 73%|███████▎  | 44/60 [00:13<00:05,  3.07it/s]"
          ]
        },
        {
          "output_type": "stream",
          "name": "stdout",
          "text": [
            "Fine-tuning Epoch: 9, Loss: 1.1483, Accuracy: 47.75%\n",
            "Fine-tuning Epoch: 9, Loss: 1.1773, Accuracy: 47.66%\n"
          ]
        },
        {
          "output_type": "stream",
          "name": "stderr",
          "text": [
            " 77%|███████▋  | 46/60 [00:14<00:04,  3.07it/s]"
          ]
        },
        {
          "output_type": "stream",
          "name": "stdout",
          "text": [
            "Fine-tuning Epoch: 9, Loss: 1.1976, Accuracy: 47.92%\n",
            "Fine-tuning Epoch: 9, Loss: 1.2223, Accuracy: 48.17%\n"
          ]
        },
        {
          "output_type": "stream",
          "name": "stderr",
          "text": [
            " 80%|████████  | 48/60 [00:15<00:04,  2.90it/s]"
          ]
        },
        {
          "output_type": "stream",
          "name": "stdout",
          "text": [
            "Fine-tuning Epoch: 9, Loss: 1.2476, Accuracy: 48.14%\n",
            "Fine-tuning Epoch: 9, Loss: 1.2788, Accuracy: 47.85%\n"
          ]
        },
        {
          "output_type": "stream",
          "name": "stderr",
          "text": [
            " 83%|████████▎ | 50/60 [00:15<00:03,  2.73it/s]"
          ]
        },
        {
          "output_type": "stream",
          "name": "stdout",
          "text": [
            "Fine-tuning Epoch: 9, Loss: 1.3007, Accuracy: 48.02%\n",
            "Fine-tuning Epoch: 9, Loss: 1.3231, Accuracy: 48.31%\n"
          ]
        },
        {
          "output_type": "stream",
          "name": "stderr",
          "text": [
            " 87%|████████▋ | 52/60 [00:16<00:02,  2.97it/s]"
          ]
        },
        {
          "output_type": "stream",
          "name": "stdout",
          "text": [
            "Fine-tuning Epoch: 9, Loss: 1.3462, Accuracy: 48.47%\n",
            "Fine-tuning Epoch: 9, Loss: 1.3700, Accuracy: 48.62%\n"
          ]
        },
        {
          "output_type": "stream",
          "name": "stderr",
          "text": [
            " 90%|█████████ | 54/60 [00:17<00:02,  2.71it/s]"
          ]
        },
        {
          "output_type": "stream",
          "name": "stdout",
          "text": [
            "Fine-tuning Epoch: 9, Loss: 1.3970, Accuracy: 48.53%\n",
            "Fine-tuning Epoch: 9, Loss: 1.4173, Accuracy: 48.67%\n"
          ]
        },
        {
          "output_type": "stream",
          "name": "stderr",
          "text": [
            " 93%|█████████▎| 56/60 [00:18<00:01,  3.02it/s]"
          ]
        },
        {
          "output_type": "stream",
          "name": "stdout",
          "text": [
            "Fine-tuning Epoch: 9, Loss: 1.4430, Accuracy: 48.69%\n",
            "Fine-tuning Epoch: 9, Loss: 1.4656, Accuracy: 48.83%\n"
          ]
        },
        {
          "output_type": "stream",
          "name": "stderr",
          "text": [
            " 97%|█████████▋| 58/60 [00:18<00:00,  3.56it/s]"
          ]
        },
        {
          "output_type": "stream",
          "name": "stdout",
          "text": [
            "Fine-tuning Epoch: 9, Loss: 1.4982, Accuracy: 48.68%\n",
            "Fine-tuning Epoch: 9, Loss: 1.5294, Accuracy: 48.44%\n"
          ]
        },
        {
          "output_type": "stream",
          "name": "stderr",
          "text": [
            "100%|██████████| 60/60 [00:19<00:00,  3.12it/s]\n"
          ]
        },
        {
          "output_type": "stream",
          "name": "stdout",
          "text": [
            "Fine-tuning Epoch: 9, Loss: 1.5579, Accuracy: 48.31%\n",
            "Fine-tuning Epoch: 9, Loss: 1.5866, Accuracy: 48.07%\n"
          ]
        },
        {
          "output_type": "stream",
          "name": "stderr",
          "text": [
            "  3%|▎         | 2/60 [00:00<00:21,  2.76it/s]"
          ]
        },
        {
          "output_type": "stream",
          "name": "stdout",
          "text": [
            "Fine-tuning Epoch: 10, Loss: 0.0264, Accuracy: 50.00%\n",
            "Fine-tuning Epoch: 10, Loss: 0.0503, Accuracy: 54.69%\n"
          ]
        },
        {
          "output_type": "stream",
          "name": "stderr",
          "text": [
            "  7%|▋         | 4/60 [00:01<00:16,  3.49it/s]"
          ]
        },
        {
          "output_type": "stream",
          "name": "stdout",
          "text": [
            "Fine-tuning Epoch: 10, Loss: 0.0759, Accuracy: 52.08%\n",
            "Fine-tuning Epoch: 10, Loss: 0.1059, Accuracy: 52.34%\n"
          ]
        },
        {
          "output_type": "stream",
          "name": "stderr",
          "text": [
            " 10%|█         | 6/60 [00:01<00:14,  3.85it/s]"
          ]
        },
        {
          "output_type": "stream",
          "name": "stdout",
          "text": [
            "Fine-tuning Epoch: 10, Loss: 0.1362, Accuracy: 51.88%\n",
            "Fine-tuning Epoch: 10, Loss: 0.1597, Accuracy: 51.04%\n"
          ]
        },
        {
          "output_type": "stream",
          "name": "stderr",
          "text": [
            " 13%|█▎        | 8/60 [00:02<00:13,  3.97it/s]"
          ]
        },
        {
          "output_type": "stream",
          "name": "stdout",
          "text": [
            "Fine-tuning Epoch: 10, Loss: 0.1880, Accuracy: 49.55%\n",
            "Fine-tuning Epoch: 10, Loss: 0.2202, Accuracy: 46.88%\n"
          ]
        },
        {
          "output_type": "stream",
          "name": "stderr",
          "text": [
            " 17%|█▋        | 10/60 [00:02<00:12,  4.05it/s]"
          ]
        },
        {
          "output_type": "stream",
          "name": "stdout",
          "text": [
            "Fine-tuning Epoch: 10, Loss: 0.2455, Accuracy: 47.57%\n",
            "Fine-tuning Epoch: 10, Loss: 0.2709, Accuracy: 46.56%\n"
          ]
        },
        {
          "output_type": "stream",
          "name": "stderr",
          "text": [
            " 20%|██        | 12/60 [00:03<00:12,  3.97it/s]"
          ]
        },
        {
          "output_type": "stream",
          "name": "stdout",
          "text": [
            "Fine-tuning Epoch: 10, Loss: 0.3024, Accuracy: 45.45%\n",
            "Fine-tuning Epoch: 10, Loss: 0.3359, Accuracy: 44.53%\n"
          ]
        },
        {
          "output_type": "stream",
          "name": "stderr",
          "text": [
            " 23%|██▎       | 14/60 [00:04<00:11,  3.91it/s]"
          ]
        },
        {
          "output_type": "stream",
          "name": "stdout",
          "text": [
            "Fine-tuning Epoch: 10, Loss: 0.3607, Accuracy: 44.95%\n",
            "Fine-tuning Epoch: 10, Loss: 0.3910, Accuracy: 45.09%\n"
          ]
        },
        {
          "output_type": "stream",
          "name": "stderr",
          "text": [
            " 27%|██▋       | 16/60 [00:04<00:12,  3.59it/s]"
          ]
        },
        {
          "output_type": "stream",
          "name": "stdout",
          "text": [
            "Fine-tuning Epoch: 10, Loss: 0.4151, Accuracy: 46.25%\n",
            "Fine-tuning Epoch: 10, Loss: 0.4351, Accuracy: 47.07%\n"
          ]
        },
        {
          "output_type": "stream",
          "name": "stderr",
          "text": [
            " 30%|███       | 18/60 [00:05<00:10,  3.91it/s]"
          ]
        },
        {
          "output_type": "stream",
          "name": "stdout",
          "text": [
            "Fine-tuning Epoch: 10, Loss: 0.4564, Accuracy: 47.79%\n",
            "Fine-tuning Epoch: 10, Loss: 0.4784, Accuracy: 47.40%\n"
          ]
        },
        {
          "output_type": "stream",
          "name": "stderr",
          "text": [
            " 33%|███▎      | 20/60 [00:05<00:10,  4.00it/s]"
          ]
        },
        {
          "output_type": "stream",
          "name": "stdout",
          "text": [
            "Fine-tuning Epoch: 10, Loss: 0.4999, Accuracy: 47.70%\n",
            "Fine-tuning Epoch: 10, Loss: 0.5250, Accuracy: 47.97%\n"
          ]
        },
        {
          "output_type": "stream",
          "name": "stderr",
          "text": [
            " 37%|███▋      | 22/60 [00:06<00:09,  4.05it/s]"
          ]
        },
        {
          "output_type": "stream",
          "name": "stdout",
          "text": [
            "Fine-tuning Epoch: 10, Loss: 0.5493, Accuracy: 48.07%\n",
            "Fine-tuning Epoch: 10, Loss: 0.5812, Accuracy: 47.73%\n"
          ]
        },
        {
          "output_type": "stream",
          "name": "stderr",
          "text": [
            " 40%|████      | 24/60 [00:06<00:09,  3.98it/s]"
          ]
        },
        {
          "output_type": "stream",
          "name": "stdout",
          "text": [
            "Fine-tuning Epoch: 10, Loss: 0.6028, Accuracy: 48.51%\n",
            "Fine-tuning Epoch: 10, Loss: 0.6303, Accuracy: 48.57%\n"
          ]
        },
        {
          "output_type": "stream",
          "name": "stderr",
          "text": [
            " 43%|████▎     | 26/60 [00:07<00:08,  3.88it/s]"
          ]
        },
        {
          "output_type": "stream",
          "name": "stdout",
          "text": [
            "Fine-tuning Epoch: 10, Loss: 0.6517, Accuracy: 48.75%\n",
            "Fine-tuning Epoch: 10, Loss: 0.6768, Accuracy: 48.68%\n"
          ]
        },
        {
          "output_type": "stream",
          "name": "stderr",
          "text": [
            " 47%|████▋     | 28/60 [00:08<00:07,  4.09it/s]"
          ]
        },
        {
          "output_type": "stream",
          "name": "stdout",
          "text": [
            "Fine-tuning Epoch: 10, Loss: 0.7034, Accuracy: 48.50%\n",
            "Fine-tuning Epoch: 10, Loss: 0.7257, Accuracy: 48.44%\n"
          ]
        },
        {
          "output_type": "stream",
          "name": "stderr",
          "text": [
            " 50%|█████     | 30/60 [00:08<00:07,  3.89it/s]"
          ]
        },
        {
          "output_type": "stream",
          "name": "stdout",
          "text": [
            "Fine-tuning Epoch: 10, Loss: 0.7520, Accuracy: 48.28%\n",
            "Fine-tuning Epoch: 10, Loss: 0.7721, Accuracy: 48.65%\n"
          ]
        },
        {
          "output_type": "stream",
          "name": "stderr",
          "text": [
            " 53%|█████▎    | 32/60 [00:09<00:08,  3.14it/s]"
          ]
        },
        {
          "output_type": "stream",
          "name": "stdout",
          "text": [
            "Fine-tuning Epoch: 10, Loss: 0.7976, Accuracy: 48.69%\n",
            "Fine-tuning Epoch: 10, Loss: 0.8261, Accuracy: 48.44%\n"
          ]
        },
        {
          "output_type": "stream",
          "name": "stderr",
          "text": [
            " 57%|█████▋    | 34/60 [00:10<00:09,  2.77it/s]"
          ]
        },
        {
          "output_type": "stream",
          "name": "stdout",
          "text": [
            "Fine-tuning Epoch: 10, Loss: 0.8525, Accuracy: 48.39%\n",
            "Fine-tuning Epoch: 10, Loss: 0.8748, Accuracy: 48.35%\n"
          ]
        },
        {
          "output_type": "stream",
          "name": "stderr",
          "text": [
            " 60%|██████    | 36/60 [00:11<00:08,  2.75it/s]"
          ]
        },
        {
          "output_type": "stream",
          "name": "stdout",
          "text": [
            "Fine-tuning Epoch: 10, Loss: 0.8966, Accuracy: 48.75%\n",
            "Fine-tuning Epoch: 10, Loss: 0.9218, Accuracy: 48.96%\n"
          ]
        },
        {
          "output_type": "stream",
          "name": "stderr",
          "text": [
            " 63%|██████▎   | 38/60 [00:12<00:08,  2.57it/s]"
          ]
        },
        {
          "output_type": "stream",
          "name": "stdout",
          "text": [
            "Fine-tuning Epoch: 10, Loss: 0.9450, Accuracy: 48.73%\n",
            "Fine-tuning Epoch: 10, Loss: 0.9800, Accuracy: 48.52%\n"
          ]
        },
        {
          "output_type": "stream",
          "name": "stderr",
          "text": [
            " 67%|██████▋   | 40/60 [00:13<00:07,  2.68it/s]"
          ]
        },
        {
          "output_type": "stream",
          "name": "stdout",
          "text": [
            "Fine-tuning Epoch: 10, Loss: 1.0017, Accuracy: 48.72%\n",
            "Fine-tuning Epoch: 10, Loss: 1.0297, Accuracy: 48.59%\n"
          ]
        },
        {
          "output_type": "stream",
          "name": "stderr",
          "text": [
            " 70%|███████   | 42/60 [00:13<00:06,  2.68it/s]"
          ]
        },
        {
          "output_type": "stream",
          "name": "stdout",
          "text": [
            "Fine-tuning Epoch: 10, Loss: 1.0520, Accuracy: 48.78%\n",
            "Fine-tuning Epoch: 10, Loss: 1.0739, Accuracy: 49.11%\n"
          ]
        },
        {
          "output_type": "stream",
          "name": "stderr",
          "text": [
            " 73%|███████▎  | 44/60 [00:14<00:04,  3.33it/s]"
          ]
        },
        {
          "output_type": "stream",
          "name": "stdout",
          "text": [
            "Fine-tuning Epoch: 10, Loss: 1.1014, Accuracy: 49.13%\n",
            "Fine-tuning Epoch: 10, Loss: 1.1279, Accuracy: 49.08%\n"
          ]
        },
        {
          "output_type": "stream",
          "name": "stderr",
          "text": [
            " 77%|███████▋  | 46/60 [00:14<00:03,  3.70it/s]"
          ]
        },
        {
          "output_type": "stream",
          "name": "stdout",
          "text": [
            "Fine-tuning Epoch: 10, Loss: 1.1576, Accuracy: 48.89%\n",
            "Fine-tuning Epoch: 10, Loss: 1.1829, Accuracy: 48.91%\n"
          ]
        },
        {
          "output_type": "stream",
          "name": "stderr",
          "text": [
            " 80%|████████  | 48/60 [00:15<00:03,  3.83it/s]"
          ]
        },
        {
          "output_type": "stream",
          "name": "stdout",
          "text": [
            "Fine-tuning Epoch: 10, Loss: 1.2046, Accuracy: 49.14%\n",
            "Fine-tuning Epoch: 10, Loss: 1.2241, Accuracy: 49.28%\n"
          ]
        },
        {
          "output_type": "stream",
          "name": "stderr",
          "text": [
            " 83%|████████▎ | 50/60 [00:16<00:02,  3.82it/s]"
          ]
        },
        {
          "output_type": "stream",
          "name": "stdout",
          "text": [
            "Fine-tuning Epoch: 10, Loss: 1.2497, Accuracy: 49.43%\n",
            "Fine-tuning Epoch: 10, Loss: 1.2766, Accuracy: 49.31%\n"
          ]
        },
        {
          "output_type": "stream",
          "name": "stderr",
          "text": [
            " 87%|████████▋ | 52/60 [00:16<00:01,  4.13it/s]"
          ]
        },
        {
          "output_type": "stream",
          "name": "stdout",
          "text": [
            "Fine-tuning Epoch: 10, Loss: 1.3054, Accuracy: 49.14%\n",
            "Fine-tuning Epoch: 10, Loss: 1.3301, Accuracy: 49.04%\n"
          ]
        },
        {
          "output_type": "stream",
          "name": "stderr",
          "text": [
            " 90%|█████████ | 54/60 [00:17<00:01,  4.13it/s]"
          ]
        },
        {
          "output_type": "stream",
          "name": "stdout",
          "text": [
            "Fine-tuning Epoch: 10, Loss: 1.3635, Accuracy: 48.76%\n",
            "Fine-tuning Epoch: 10, Loss: 1.3869, Accuracy: 48.90%\n"
          ]
        },
        {
          "output_type": "stream",
          "name": "stderr",
          "text": [
            " 93%|█████████▎| 56/60 [00:17<00:00,  4.10it/s]"
          ]
        },
        {
          "output_type": "stream",
          "name": "stdout",
          "text": [
            "Fine-tuning Epoch: 10, Loss: 1.4068, Accuracy: 49.20%\n",
            "Fine-tuning Epoch: 10, Loss: 1.4285, Accuracy: 49.33%\n"
          ]
        },
        {
          "output_type": "stream",
          "name": "stderr",
          "text": [
            " 97%|█████████▋| 58/60 [00:18<00:00,  4.32it/s]"
          ]
        },
        {
          "output_type": "stream",
          "name": "stdout",
          "text": [
            "Fine-tuning Epoch: 10, Loss: 1.4549, Accuracy: 49.23%\n",
            "Fine-tuning Epoch: 10, Loss: 1.4773, Accuracy: 49.52%\n"
          ]
        },
        {
          "output_type": "stream",
          "name": "stderr",
          "text": [
            "100%|██████████| 60/60 [00:18<00:00,  3.22it/s]\n"
          ]
        },
        {
          "output_type": "stream",
          "name": "stdout",
          "text": [
            "Fine-tuning Epoch: 10, Loss: 1.5001, Accuracy: 49.74%\n",
            "Fine-tuning Epoch: 10, Loss: 1.5285, Accuracy: 49.58%\n"
          ]
        },
        {
          "output_type": "stream",
          "name": "stderr",
          "text": [
            "  3%|▎         | 2/60 [00:00<00:20,  2.84it/s]"
          ]
        },
        {
          "output_type": "stream",
          "name": "stdout",
          "text": [
            "Fine-tuning Epoch: 11, Loss: 0.0320, Accuracy: 40.62%\n",
            "Fine-tuning Epoch: 11, Loss: 0.0455, Accuracy: 59.38%\n"
          ]
        },
        {
          "output_type": "stream",
          "name": "stderr",
          "text": [
            "  7%|▋         | 4/60 [00:01<00:16,  3.48it/s]"
          ]
        },
        {
          "output_type": "stream",
          "name": "stdout",
          "text": [
            "Fine-tuning Epoch: 11, Loss: 0.0721, Accuracy: 55.21%\n",
            "Fine-tuning Epoch: 11, Loss: 0.0954, Accuracy: 56.25%\n"
          ]
        },
        {
          "output_type": "stream",
          "name": "stderr",
          "text": [
            " 10%|█         | 6/60 [00:01<00:13,  3.88it/s]"
          ]
        },
        {
          "output_type": "stream",
          "name": "stdout",
          "text": [
            "Fine-tuning Epoch: 11, Loss: 0.1186, Accuracy: 57.50%\n",
            "Fine-tuning Epoch: 11, Loss: 0.1449, Accuracy: 57.29%\n"
          ]
        },
        {
          "output_type": "stream",
          "name": "stderr",
          "text": [
            " 13%|█▎        | 8/60 [00:02<00:12,  4.03it/s]"
          ]
        },
        {
          "output_type": "stream",
          "name": "stdout",
          "text": [
            "Fine-tuning Epoch: 11, Loss: 0.1704, Accuracy: 54.46%\n",
            "Fine-tuning Epoch: 11, Loss: 0.1992, Accuracy: 54.69%\n"
          ]
        },
        {
          "output_type": "stream",
          "name": "stderr",
          "text": [
            " 17%|█▋        | 10/60 [00:02<00:12,  3.97it/s]"
          ]
        },
        {
          "output_type": "stream",
          "name": "stdout",
          "text": [
            "Fine-tuning Epoch: 11, Loss: 0.2347, Accuracy: 52.78%\n",
            "Fine-tuning Epoch: 11, Loss: 0.2633, Accuracy: 52.50%\n"
          ]
        },
        {
          "output_type": "stream",
          "name": "stderr",
          "text": [
            " 20%|██        | 12/60 [00:03<00:12,  3.96it/s]"
          ]
        },
        {
          "output_type": "stream",
          "name": "stdout",
          "text": [
            "Fine-tuning Epoch: 11, Loss: 0.2900, Accuracy: 52.56%\n",
            "Fine-tuning Epoch: 11, Loss: 0.3099, Accuracy: 53.12%\n"
          ]
        },
        {
          "output_type": "stream",
          "name": "stderr",
          "text": [
            " 23%|██▎       | 14/60 [00:04<00:11,  4.02it/s]"
          ]
        },
        {
          "output_type": "stream",
          "name": "stdout",
          "text": [
            "Fine-tuning Epoch: 11, Loss: 0.3421, Accuracy: 51.44%\n",
            "Fine-tuning Epoch: 11, Loss: 0.3626, Accuracy: 51.79%\n"
          ]
        },
        {
          "output_type": "stream",
          "name": "stderr",
          "text": [
            " 27%|██▋       | 16/60 [00:04<00:11,  3.99it/s]"
          ]
        },
        {
          "output_type": "stream",
          "name": "stdout",
          "text": [
            "Fine-tuning Epoch: 11, Loss: 0.3912, Accuracy: 51.46%\n",
            "Fine-tuning Epoch: 11, Loss: 0.4183, Accuracy: 50.59%\n"
          ]
        },
        {
          "output_type": "stream",
          "name": "stderr",
          "text": [
            " 30%|███       | 18/60 [00:05<00:11,  3.82it/s]"
          ]
        },
        {
          "output_type": "stream",
          "name": "stdout",
          "text": [
            "Fine-tuning Epoch: 11, Loss: 0.4479, Accuracy: 49.82%\n",
            "Fine-tuning Epoch: 11, Loss: 0.4685, Accuracy: 50.69%\n"
          ]
        },
        {
          "output_type": "stream",
          "name": "stderr",
          "text": [
            " 33%|███▎      | 20/60 [00:06<00:14,  2.84it/s]"
          ]
        },
        {
          "output_type": "stream",
          "name": "stdout",
          "text": [
            "Fine-tuning Epoch: 11, Loss: 0.4934, Accuracy: 50.33%\n",
            "Fine-tuning Epoch: 11, Loss: 0.5216, Accuracy: 50.16%\n"
          ]
        },
        {
          "output_type": "stream",
          "name": "stderr",
          "text": [
            " 37%|███▋      | 22/60 [00:07<00:14,  2.70it/s]"
          ]
        },
        {
          "output_type": "stream",
          "name": "stdout",
          "text": [
            "Fine-tuning Epoch: 11, Loss: 0.5463, Accuracy: 50.00%\n",
            "Fine-tuning Epoch: 11, Loss: 0.5758, Accuracy: 49.86%\n"
          ]
        },
        {
          "output_type": "stream",
          "name": "stderr",
          "text": [
            " 40%|████      | 24/60 [00:08<00:13,  2.62it/s]"
          ]
        },
        {
          "output_type": "stream",
          "name": "stdout",
          "text": [
            "Fine-tuning Epoch: 11, Loss: 0.5992, Accuracy: 49.59%\n",
            "Fine-tuning Epoch: 11, Loss: 0.6226, Accuracy: 49.09%\n"
          ]
        },
        {
          "output_type": "stream",
          "name": "stderr",
          "text": [
            " 43%|████▎     | 26/60 [00:08<00:12,  2.63it/s]"
          ]
        },
        {
          "output_type": "stream",
          "name": "stdout",
          "text": [
            "Fine-tuning Epoch: 11, Loss: 0.6415, Accuracy: 49.88%\n",
            "Fine-tuning Epoch: 11, Loss: 0.6763, Accuracy: 49.52%\n"
          ]
        },
        {
          "output_type": "stream",
          "name": "stderr",
          "text": [
            " 47%|████▋     | 28/60 [00:09<00:12,  2.66it/s]"
          ]
        },
        {
          "output_type": "stream",
          "name": "stdout",
          "text": [
            "Fine-tuning Epoch: 11, Loss: 0.7090, Accuracy: 49.31%\n",
            "Fine-tuning Epoch: 11, Loss: 0.7351, Accuracy: 48.77%\n"
          ]
        },
        {
          "output_type": "stream",
          "name": "stderr",
          "text": [
            " 50%|█████     | 30/60 [00:10<00:10,  2.89it/s]"
          ]
        },
        {
          "output_type": "stream",
          "name": "stdout",
          "text": [
            "Fine-tuning Epoch: 11, Loss: 0.7574, Accuracy: 49.03%\n",
            "Fine-tuning Epoch: 11, Loss: 0.7835, Accuracy: 49.27%\n"
          ]
        },
        {
          "output_type": "stream",
          "name": "stderr",
          "text": [
            " 53%|█████▎    | 32/60 [00:10<00:08,  3.44it/s]"
          ]
        },
        {
          "output_type": "stream",
          "name": "stdout",
          "text": [
            "Fine-tuning Epoch: 11, Loss: 0.8075, Accuracy: 49.40%\n",
            "Fine-tuning Epoch: 11, Loss: 0.8343, Accuracy: 49.22%\n"
          ]
        },
        {
          "output_type": "stream",
          "name": "stderr",
          "text": [
            " 57%|█████▋    | 34/60 [00:11<00:06,  3.85it/s]"
          ]
        },
        {
          "output_type": "stream",
          "name": "stdout",
          "text": [
            "Fine-tuning Epoch: 11, Loss: 0.8603, Accuracy: 48.96%\n",
            "Fine-tuning Epoch: 11, Loss: 0.8859, Accuracy: 48.99%\n"
          ]
        },
        {
          "output_type": "stream",
          "name": "stderr",
          "text": [
            " 60%|██████    | 36/60 [00:12<00:05,  4.02it/s]"
          ]
        },
        {
          "output_type": "stream",
          "name": "stdout",
          "text": [
            "Fine-tuning Epoch: 11, Loss: 0.9160, Accuracy: 48.48%\n",
            "Fine-tuning Epoch: 11, Loss: 0.9385, Accuracy: 48.87%\n"
          ]
        },
        {
          "output_type": "stream",
          "name": "stderr",
          "text": [
            " 63%|██████▎   | 38/60 [00:12<00:05,  4.09it/s]"
          ]
        },
        {
          "output_type": "stream",
          "name": "stdout",
          "text": [
            "Fine-tuning Epoch: 11, Loss: 0.9659, Accuracy: 48.82%\n",
            "Fine-tuning Epoch: 11, Loss: 0.9894, Accuracy: 49.18%\n"
          ]
        },
        {
          "output_type": "stream",
          "name": "stderr",
          "text": [
            " 67%|██████▋   | 40/60 [00:13<00:04,  4.15it/s]"
          ]
        },
        {
          "output_type": "stream",
          "name": "stdout",
          "text": [
            "Fine-tuning Epoch: 11, Loss: 1.0141, Accuracy: 49.36%\n",
            "Fine-tuning Epoch: 11, Loss: 1.0363, Accuracy: 49.45%\n"
          ]
        },
        {
          "output_type": "stream",
          "name": "stderr",
          "text": [
            " 70%|███████   | 42/60 [00:13<00:04,  4.28it/s]"
          ]
        },
        {
          "output_type": "stream",
          "name": "stdout",
          "text": [
            "Fine-tuning Epoch: 11, Loss: 1.0564, Accuracy: 49.77%\n",
            "Fine-tuning Epoch: 11, Loss: 1.0795, Accuracy: 49.93%\n"
          ]
        },
        {
          "output_type": "stream",
          "name": "stderr",
          "text": [
            " 73%|███████▎  | 44/60 [00:14<00:03,  4.04it/s]"
          ]
        },
        {
          "output_type": "stream",
          "name": "stdout",
          "text": [
            "Fine-tuning Epoch: 11, Loss: 1.1048, Accuracy: 50.07%\n",
            "Fine-tuning Epoch: 11, Loss: 1.1352, Accuracy: 49.86%\n"
          ]
        },
        {
          "output_type": "stream",
          "name": "stderr",
          "text": [
            " 77%|███████▋  | 46/60 [00:14<00:03,  4.05it/s]"
          ]
        },
        {
          "output_type": "stream",
          "name": "stdout",
          "text": [
            "Fine-tuning Epoch: 11, Loss: 1.1581, Accuracy: 49.72%\n",
            "Fine-tuning Epoch: 11, Loss: 1.1808, Accuracy: 49.73%\n"
          ]
        },
        {
          "output_type": "stream",
          "name": "stderr",
          "text": [
            " 80%|████████  | 48/60 [00:15<00:02,  4.11it/s]"
          ]
        },
        {
          "output_type": "stream",
          "name": "stdout",
          "text": [
            "Fine-tuning Epoch: 11, Loss: 1.1988, Accuracy: 50.00%\n",
            "Fine-tuning Epoch: 11, Loss: 1.2223, Accuracy: 50.00%\n"
          ]
        },
        {
          "output_type": "stream",
          "name": "stderr",
          "text": [
            " 83%|████████▎ | 50/60 [00:15<00:02,  4.22it/s]"
          ]
        },
        {
          "output_type": "stream",
          "name": "stdout",
          "text": [
            "Fine-tuning Epoch: 11, Loss: 1.2461, Accuracy: 50.00%\n",
            "Fine-tuning Epoch: 11, Loss: 1.2729, Accuracy: 49.88%\n"
          ]
        },
        {
          "output_type": "stream",
          "name": "stderr",
          "text": [
            " 87%|████████▋ | 52/60 [00:16<00:02,  3.96it/s]"
          ]
        },
        {
          "output_type": "stream",
          "name": "stdout",
          "text": [
            "Fine-tuning Epoch: 11, Loss: 1.2980, Accuracy: 50.12%\n",
            "Fine-tuning Epoch: 11, Loss: 1.3193, Accuracy: 50.30%\n"
          ]
        },
        {
          "output_type": "stream",
          "name": "stderr",
          "text": [
            " 90%|█████████ | 54/60 [00:16<00:01,  4.05it/s]"
          ]
        },
        {
          "output_type": "stream",
          "name": "stdout",
          "text": [
            "Fine-tuning Epoch: 11, Loss: 1.3390, Accuracy: 50.41%\n",
            "Fine-tuning Epoch: 11, Loss: 1.3616, Accuracy: 50.46%\n"
          ]
        },
        {
          "output_type": "stream",
          "name": "stderr",
          "text": [
            " 93%|█████████▎| 56/60 [00:17<00:00,  4.22it/s]"
          ]
        },
        {
          "output_type": "stream",
          "name": "stdout",
          "text": [
            "Fine-tuning Epoch: 11, Loss: 1.3880, Accuracy: 50.45%\n",
            "Fine-tuning Epoch: 11, Loss: 1.4141, Accuracy: 50.56%\n"
          ]
        },
        {
          "output_type": "stream",
          "name": "stderr",
          "text": [
            " 97%|█████████▋| 58/60 [00:17<00:00,  3.98it/s]"
          ]
        },
        {
          "output_type": "stream",
          "name": "stdout",
          "text": [
            "Fine-tuning Epoch: 11, Loss: 1.4337, Accuracy: 50.71%\n",
            "Fine-tuning Epoch: 11, Loss: 1.4528, Accuracy: 50.75%\n"
          ]
        },
        {
          "output_type": "stream",
          "name": "stderr",
          "text": [
            "100%|██████████| 60/60 [00:18<00:00,  3.24it/s]\n"
          ]
        },
        {
          "output_type": "stream",
          "name": "stdout",
          "text": [
            "Fine-tuning Epoch: 11, Loss: 1.4797, Accuracy: 50.79%\n",
            "Fine-tuning Epoch: 11, Loss: 1.5078, Accuracy: 50.73%\n"
          ]
        },
        {
          "output_type": "stream",
          "name": "stderr",
          "text": [
            "  3%|▎         | 2/60 [00:00<00:20,  2.85it/s]"
          ]
        },
        {
          "output_type": "stream",
          "name": "stdout",
          "text": [
            "Fine-tuning Epoch: 12, Loss: 0.0232, Accuracy: 53.12%\n",
            "Fine-tuning Epoch: 12, Loss: 0.0427, Accuracy: 57.81%\n"
          ]
        },
        {
          "output_type": "stream",
          "name": "stderr",
          "text": [
            "  7%|▋         | 4/60 [00:01<00:16,  3.45it/s]"
          ]
        },
        {
          "output_type": "stream",
          "name": "stdout",
          "text": [
            "Fine-tuning Epoch: 12, Loss: 0.0666, Accuracy: 55.21%\n",
            "Fine-tuning Epoch: 12, Loss: 0.0905, Accuracy: 56.25%\n"
          ]
        },
        {
          "output_type": "stream",
          "name": "stderr",
          "text": [
            " 10%|█         | 6/60 [00:02<00:16,  3.36it/s]"
          ]
        },
        {
          "output_type": "stream",
          "name": "stdout",
          "text": [
            "Fine-tuning Epoch: 12, Loss: 0.1202, Accuracy: 53.12%\n",
            "Fine-tuning Epoch: 12, Loss: 0.1447, Accuracy: 52.60%\n"
          ]
        },
        {
          "output_type": "stream",
          "name": "stderr",
          "text": [
            " 13%|█▎        | 8/60 [00:03<00:19,  2.69it/s]"
          ]
        },
        {
          "output_type": "stream",
          "name": "stdout",
          "text": [
            "Fine-tuning Epoch: 12, Loss: 0.1718, Accuracy: 50.89%\n",
            "Fine-tuning Epoch: 12, Loss: 0.1933, Accuracy: 51.95%\n"
          ]
        },
        {
          "output_type": "stream",
          "name": "stderr",
          "text": [
            " 17%|█▋        | 10/60 [00:04<00:19,  2.54it/s]"
          ]
        },
        {
          "output_type": "stream",
          "name": "stdout",
          "text": [
            "Fine-tuning Epoch: 12, Loss: 0.2198, Accuracy: 50.69%\n",
            "Fine-tuning Epoch: 12, Loss: 0.2381, Accuracy: 52.19%\n"
          ]
        },
        {
          "output_type": "stream",
          "name": "stderr",
          "text": [
            " 20%|██        | 12/60 [00:04<00:18,  2.54it/s]"
          ]
        },
        {
          "output_type": "stream",
          "name": "stdout",
          "text": [
            "Fine-tuning Epoch: 12, Loss: 0.2602, Accuracy: 52.27%\n",
            "Fine-tuning Epoch: 12, Loss: 0.2850, Accuracy: 51.82%\n"
          ]
        },
        {
          "output_type": "stream",
          "name": "stderr",
          "text": [
            " 23%|██▎       | 14/60 [00:05<00:18,  2.49it/s]"
          ]
        },
        {
          "output_type": "stream",
          "name": "stdout",
          "text": [
            "Fine-tuning Epoch: 12, Loss: 0.3072, Accuracy: 51.92%\n",
            "Fine-tuning Epoch: 12, Loss: 0.3268, Accuracy: 52.46%\n"
          ]
        },
        {
          "output_type": "stream",
          "name": "stderr",
          "text": [
            " 27%|██▋       | 16/60 [00:06<00:16,  2.75it/s]"
          ]
        },
        {
          "output_type": "stream",
          "name": "stdout",
          "text": [
            "Fine-tuning Epoch: 12, Loss: 0.3470, Accuracy: 52.71%\n",
            "Fine-tuning Epoch: 12, Loss: 0.3728, Accuracy: 52.54%\n"
          ]
        },
        {
          "output_type": "stream",
          "name": "stderr",
          "text": [
            " 30%|███       | 18/60 [00:07<00:12,  3.29it/s]"
          ]
        },
        {
          "output_type": "stream",
          "name": "stdout",
          "text": [
            "Fine-tuning Epoch: 12, Loss: 0.3967, Accuracy: 52.94%\n",
            "Fine-tuning Epoch: 12, Loss: 0.4233, Accuracy: 53.12%\n"
          ]
        },
        {
          "output_type": "stream",
          "name": "stderr",
          "text": [
            " 33%|███▎      | 20/60 [00:07<00:11,  3.60it/s]"
          ]
        },
        {
          "output_type": "stream",
          "name": "stdout",
          "text": [
            "Fine-tuning Epoch: 12, Loss: 0.4456, Accuracy: 53.29%\n",
            "Fine-tuning Epoch: 12, Loss: 0.4715, Accuracy: 52.81%\n"
          ]
        },
        {
          "output_type": "stream",
          "name": "stderr",
          "text": [
            " 37%|███▋      | 22/60 [00:08<00:09,  3.92it/s]"
          ]
        },
        {
          "output_type": "stream",
          "name": "stdout",
          "text": [
            "Fine-tuning Epoch: 12, Loss: 0.4949, Accuracy: 52.98%\n",
            "Fine-tuning Epoch: 12, Loss: 0.5210, Accuracy: 52.84%\n"
          ]
        },
        {
          "output_type": "stream",
          "name": "stderr",
          "text": [
            " 40%|████      | 24/60 [00:08<00:08,  4.14it/s]"
          ]
        },
        {
          "output_type": "stream",
          "name": "stdout",
          "text": [
            "Fine-tuning Epoch: 12, Loss: 0.5485, Accuracy: 52.99%\n",
            "Fine-tuning Epoch: 12, Loss: 0.5714, Accuracy: 53.26%\n"
          ]
        },
        {
          "output_type": "stream",
          "name": "stderr",
          "text": [
            " 43%|████▎     | 26/60 [00:09<00:08,  4.13it/s]"
          ]
        },
        {
          "output_type": "stream",
          "name": "stdout",
          "text": [
            "Fine-tuning Epoch: 12, Loss: 0.6010, Accuracy: 52.88%\n",
            "Fine-tuning Epoch: 12, Loss: 0.6248, Accuracy: 52.76%\n"
          ]
        },
        {
          "output_type": "stream",
          "name": "stderr",
          "text": [
            " 47%|████▋     | 28/60 [00:09<00:07,  4.05it/s]"
          ]
        },
        {
          "output_type": "stream",
          "name": "stdout",
          "text": [
            "Fine-tuning Epoch: 12, Loss: 0.6522, Accuracy: 52.55%\n",
            "Fine-tuning Epoch: 12, Loss: 0.6794, Accuracy: 52.23%\n"
          ]
        },
        {
          "output_type": "stream",
          "name": "stderr",
          "text": [
            " 50%|█████     | 30/60 [00:10<00:07,  3.92it/s]"
          ]
        },
        {
          "output_type": "stream",
          "name": "stdout",
          "text": [
            "Fine-tuning Epoch: 12, Loss: 0.7043, Accuracy: 51.83%\n",
            "Fine-tuning Epoch: 12, Loss: 0.7238, Accuracy: 52.29%\n"
          ]
        },
        {
          "output_type": "stream",
          "name": "stderr",
          "text": [
            " 53%|█████▎    | 32/60 [00:10<00:06,  4.19it/s]"
          ]
        },
        {
          "output_type": "stream",
          "name": "stdout",
          "text": [
            "Fine-tuning Epoch: 12, Loss: 0.7401, Accuracy: 52.72%\n",
            "Fine-tuning Epoch: 12, Loss: 0.7717, Accuracy: 51.76%\n"
          ]
        },
        {
          "output_type": "stream",
          "name": "stderr",
          "text": [
            " 57%|█████▋    | 34/60 [00:11<00:06,  4.06it/s]"
          ]
        },
        {
          "output_type": "stream",
          "name": "stdout",
          "text": [
            "Fine-tuning Epoch: 12, Loss: 0.7947, Accuracy: 51.89%\n",
            "Fine-tuning Epoch: 12, Loss: 0.8200, Accuracy: 52.02%\n"
          ]
        },
        {
          "output_type": "stream",
          "name": "stderr",
          "text": [
            " 60%|██████    | 36/60 [00:11<00:05,  4.13it/s]"
          ]
        },
        {
          "output_type": "stream",
          "name": "stdout",
          "text": [
            "Fine-tuning Epoch: 12, Loss: 0.8399, Accuracy: 52.14%\n",
            "Fine-tuning Epoch: 12, Loss: 0.8593, Accuracy: 52.52%\n"
          ]
        },
        {
          "output_type": "stream",
          "name": "stderr",
          "text": [
            " 63%|██████▎   | 38/60 [00:12<00:05,  4.18it/s]"
          ]
        },
        {
          "output_type": "stream",
          "name": "stdout",
          "text": [
            "Fine-tuning Epoch: 12, Loss: 0.8781, Accuracy: 52.62%\n",
            "Fine-tuning Epoch: 12, Loss: 0.9069, Accuracy: 52.47%\n"
          ]
        },
        {
          "output_type": "stream",
          "name": "stderr",
          "text": [
            " 67%|██████▋   | 40/60 [00:13<00:04,  4.02it/s]"
          ]
        },
        {
          "output_type": "stream",
          "name": "stdout",
          "text": [
            "Fine-tuning Epoch: 12, Loss: 0.9289, Accuracy: 52.40%\n",
            "Fine-tuning Epoch: 12, Loss: 0.9503, Accuracy: 52.66%\n"
          ]
        },
        {
          "output_type": "stream",
          "name": "stderr",
          "text": [
            " 70%|███████   | 42/60 [00:13<00:04,  4.11it/s]"
          ]
        },
        {
          "output_type": "stream",
          "name": "stdout",
          "text": [
            "Fine-tuning Epoch: 12, Loss: 0.9671, Accuracy: 53.05%\n",
            "Fine-tuning Epoch: 12, Loss: 0.9874, Accuracy: 53.35%\n"
          ]
        },
        {
          "output_type": "stream",
          "name": "stderr",
          "text": [
            " 73%|███████▎  | 44/60 [00:14<00:03,  4.25it/s]"
          ]
        },
        {
          "output_type": "stream",
          "name": "stdout",
          "text": [
            "Fine-tuning Epoch: 12, Loss: 1.0139, Accuracy: 53.20%\n",
            "Fine-tuning Epoch: 12, Loss: 1.0432, Accuracy: 52.63%\n"
          ]
        },
        {
          "output_type": "stream",
          "name": "stderr",
          "text": [
            " 77%|███████▋  | 46/60 [00:14<00:03,  4.18it/s]"
          ]
        },
        {
          "output_type": "stream",
          "name": "stdout",
          "text": [
            "Fine-tuning Epoch: 12, Loss: 1.0678, Accuracy: 52.71%\n",
            "Fine-tuning Epoch: 12, Loss: 1.0885, Accuracy: 52.79%\n"
          ]
        },
        {
          "output_type": "stream",
          "name": "stderr",
          "text": [
            " 80%|████████  | 48/60 [00:15<00:02,  4.01it/s]"
          ]
        },
        {
          "output_type": "stream",
          "name": "stdout",
          "text": [
            "Fine-tuning Epoch: 12, Loss: 1.1076, Accuracy: 52.99%\n",
            "Fine-tuning Epoch: 12, Loss: 1.1349, Accuracy: 53.06%\n"
          ]
        },
        {
          "output_type": "stream",
          "name": "stderr",
          "text": [
            " 83%|████████▎ | 50/60 [00:15<00:02,  4.10it/s]"
          ]
        },
        {
          "output_type": "stream",
          "name": "stdout",
          "text": [
            "Fine-tuning Epoch: 12, Loss: 1.1633, Accuracy: 52.74%\n",
            "Fine-tuning Epoch: 12, Loss: 1.1834, Accuracy: 53.06%\n"
          ]
        },
        {
          "output_type": "stream",
          "name": "stderr",
          "text": [
            " 87%|████████▋ | 52/60 [00:16<00:02,  3.95it/s]"
          ]
        },
        {
          "output_type": "stream",
          "name": "stdout",
          "text": [
            "Fine-tuning Epoch: 12, Loss: 1.2081, Accuracy: 52.88%\n",
            "Fine-tuning Epoch: 12, Loss: 1.2303, Accuracy: 52.82%\n"
          ]
        },
        {
          "output_type": "stream",
          "name": "stderr",
          "text": [
            " 90%|█████████ | 54/60 [00:16<00:01,  3.63it/s]"
          ]
        },
        {
          "output_type": "stream",
          "name": "stdout",
          "text": [
            "Fine-tuning Epoch: 12, Loss: 1.2624, Accuracy: 52.59%\n",
            "Fine-tuning Epoch: 12, Loss: 1.2860, Accuracy: 52.66%\n"
          ]
        },
        {
          "output_type": "stream",
          "name": "stderr",
          "text": [
            " 93%|█████████▎| 56/60 [00:17<00:01,  3.31it/s]"
          ]
        },
        {
          "output_type": "stream",
          "name": "stdout",
          "text": [
            "Fine-tuning Epoch: 12, Loss: 1.3106, Accuracy: 52.78%\n",
            "Fine-tuning Epoch: 12, Loss: 1.3343, Accuracy: 52.73%\n"
          ]
        },
        {
          "output_type": "stream",
          "name": "stderr",
          "text": [
            " 97%|█████████▋| 58/60 [00:18<00:00,  2.82it/s]"
          ]
        },
        {
          "output_type": "stream",
          "name": "stdout",
          "text": [
            "Fine-tuning Epoch: 12, Loss: 1.3574, Accuracy: 52.58%\n",
            "Fine-tuning Epoch: 12, Loss: 1.3872, Accuracy: 52.37%\n"
          ]
        },
        {
          "output_type": "stream",
          "name": "stderr",
          "text": [
            "100%|██████████| 60/60 [00:19<00:00,  3.07it/s]"
          ]
        },
        {
          "output_type": "stream",
          "name": "stdout",
          "text": [
            "Fine-tuning Epoch: 12, Loss: 1.4071, Accuracy: 52.49%\n",
            "Fine-tuning Epoch: 12, Loss: 1.4334, Accuracy: 52.34%\n"
          ]
        },
        {
          "output_type": "stream",
          "name": "stderr",
          "text": [
            "\n",
            "  2%|▏         | 1/60 [00:01<01:01,  1.04s/it]"
          ]
        },
        {
          "output_type": "stream",
          "name": "stdout",
          "text": [
            "Fine-tuning Epoch: 13, Loss: 0.0283, Accuracy: 40.62%\n"
          ]
        },
        {
          "output_type": "stream",
          "name": "stderr",
          "text": [
            "\r  3%|▎         | 2/60 [00:01<00:32,  1.78it/s]"
          ]
        },
        {
          "output_type": "stream",
          "name": "stdout",
          "text": [
            "Fine-tuning Epoch: 13, Loss: 0.0509, Accuracy: 45.31%\n"
          ]
        },
        {
          "output_type": "stream",
          "name": "stderr",
          "text": [
            "  7%|▋         | 4/60 [00:02<00:24,  2.26it/s]"
          ]
        },
        {
          "output_type": "stream",
          "name": "stdout",
          "text": [
            "Fine-tuning Epoch: 13, Loss: 0.0747, Accuracy: 47.92%\n",
            "Fine-tuning Epoch: 13, Loss: 0.1009, Accuracy: 46.88%\n"
          ]
        },
        {
          "output_type": "stream",
          "name": "stderr",
          "text": [
            "\r  8%|▊         | 5/60 [00:02<00:22,  2.44it/s]"
          ]
        },
        {
          "output_type": "stream",
          "name": "stdout",
          "text": [
            "Fine-tuning Epoch: 13, Loss: 0.1264, Accuracy: 46.25%\n"
          ]
        },
        {
          "output_type": "stream",
          "name": "stderr",
          "text": [
            "\r 10%|█         | 6/60 [00:02<00:19,  2.80it/s]"
          ]
        },
        {
          "output_type": "stream",
          "name": "stdout",
          "text": [
            "Fine-tuning Epoch: 13, Loss: 0.1493, Accuracy: 45.31%\n"
          ]
        },
        {
          "output_type": "stream",
          "name": "stderr",
          "text": [
            "\r 12%|█▏        | 7/60 [00:03<00:17,  2.95it/s]"
          ]
        },
        {
          "output_type": "stream",
          "name": "stdout",
          "text": [
            "Fine-tuning Epoch: 13, Loss: 0.1860, Accuracy: 43.75%\n"
          ]
        },
        {
          "output_type": "stream",
          "name": "stderr",
          "text": [
            "\r 13%|█▎        | 8/60 [00:03<00:16,  3.18it/s]"
          ]
        },
        {
          "output_type": "stream",
          "name": "stdout",
          "text": [
            "Fine-tuning Epoch: 13, Loss: 0.2136, Accuracy: 44.53%\n"
          ]
        },
        {
          "output_type": "stream",
          "name": "stderr",
          "text": [
            "\r 15%|█▌        | 9/60 [00:03<00:14,  3.49it/s]"
          ]
        },
        {
          "output_type": "stream",
          "name": "stdout",
          "text": [
            "Fine-tuning Epoch: 13, Loss: 0.2380, Accuracy: 45.14%\n"
          ]
        },
        {
          "output_type": "stream",
          "name": "stderr",
          "text": [
            "\r 17%|█▋        | 10/60 [00:03<00:14,  3.38it/s]"
          ]
        },
        {
          "output_type": "stream",
          "name": "stdout",
          "text": [
            "Fine-tuning Epoch: 13, Loss: 0.2575, Accuracy: 47.81%\n"
          ]
        },
        {
          "output_type": "stream",
          "name": "stderr",
          "text": [
            "\r 18%|█▊        | 11/60 [00:04<00:13,  3.50it/s]"
          ]
        },
        {
          "output_type": "stream",
          "name": "stdout",
          "text": [
            "Fine-tuning Epoch: 13, Loss: 0.2840, Accuracy: 48.30%\n"
          ]
        },
        {
          "output_type": "stream",
          "name": "stderr",
          "text": [
            "\r 20%|██        | 12/60 [00:04<00:14,  3.36it/s]"
          ]
        },
        {
          "output_type": "stream",
          "name": "stdout",
          "text": [
            "Fine-tuning Epoch: 13, Loss: 0.2987, Accuracy: 50.26%\n"
          ]
        },
        {
          "output_type": "stream",
          "name": "stderr",
          "text": [
            "\r 22%|██▏       | 13/60 [00:04<00:12,  3.68it/s]"
          ]
        },
        {
          "output_type": "stream",
          "name": "stdout",
          "text": [
            "Fine-tuning Epoch: 13, Loss: 0.3197, Accuracy: 50.72%\n"
          ]
        },
        {
          "output_type": "stream",
          "name": "stderr",
          "text": [
            "\r 23%|██▎       | 14/60 [00:04<00:13,  3.37it/s]"
          ]
        },
        {
          "output_type": "stream",
          "name": "stdout",
          "text": [
            "Fine-tuning Epoch: 13, Loss: 0.3437, Accuracy: 50.67%\n"
          ]
        },
        {
          "output_type": "stream",
          "name": "stderr",
          "text": [
            "\r 25%|██▌       | 15/60 [00:05<00:12,  3.69it/s]"
          ]
        },
        {
          "output_type": "stream",
          "name": "stdout",
          "text": [
            "Fine-tuning Epoch: 13, Loss: 0.3704, Accuracy: 50.42%\n"
          ]
        },
        {
          "output_type": "stream",
          "name": "stderr",
          "text": [
            "\r 27%|██▋       | 16/60 [00:05<00:12,  3.41it/s]"
          ]
        },
        {
          "output_type": "stream",
          "name": "stdout",
          "text": [
            "Fine-tuning Epoch: 13, Loss: 0.3961, Accuracy: 50.39%\n"
          ]
        },
        {
          "output_type": "stream",
          "name": "stderr",
          "text": [
            "\r 28%|██▊       | 17/60 [00:05<00:11,  3.63it/s]"
          ]
        },
        {
          "output_type": "stream",
          "name": "stdout",
          "text": [
            "Fine-tuning Epoch: 13, Loss: 0.4200, Accuracy: 50.37%\n"
          ]
        },
        {
          "output_type": "stream",
          "name": "stderr",
          "text": [
            "\r 30%|███       | 18/60 [00:06<00:12,  3.41it/s]"
          ]
        },
        {
          "output_type": "stream",
          "name": "stdout",
          "text": [
            "Fine-tuning Epoch: 13, Loss: 0.4441, Accuracy: 50.17%\n"
          ]
        },
        {
          "output_type": "stream",
          "name": "stderr",
          "text": [
            "\r 32%|███▏      | 19/60 [00:06<00:11,  3.63it/s]"
          ]
        },
        {
          "output_type": "stream",
          "name": "stdout",
          "text": [
            "Fine-tuning Epoch: 13, Loss: 0.4719, Accuracy: 49.84%\n"
          ]
        },
        {
          "output_type": "stream",
          "name": "stderr",
          "text": [
            "\r 33%|███▎      | 20/60 [00:06<00:11,  3.53it/s]"
          ]
        },
        {
          "output_type": "stream",
          "name": "stdout",
          "text": [
            "Fine-tuning Epoch: 13, Loss: 0.5001, Accuracy: 49.38%\n"
          ]
        },
        {
          "output_type": "stream",
          "name": "stderr",
          "text": [
            "\r 35%|███▌      | 21/60 [00:06<00:10,  3.61it/s]"
          ]
        },
        {
          "output_type": "stream",
          "name": "stdout",
          "text": [
            "Fine-tuning Epoch: 13, Loss: 0.5197, Accuracy: 50.00%\n"
          ]
        },
        {
          "output_type": "stream",
          "name": "stderr",
          "text": [
            "\r 37%|███▋      | 22/60 [00:07<00:10,  3.52it/s]"
          ]
        },
        {
          "output_type": "stream",
          "name": "stdout",
          "text": [
            "Fine-tuning Epoch: 13, Loss: 0.5385, Accuracy: 50.71%\n"
          ]
        },
        {
          "output_type": "stream",
          "name": "stderr",
          "text": [
            "\r 38%|███▊      | 23/60 [00:07<00:09,  3.73it/s]"
          ]
        },
        {
          "output_type": "stream",
          "name": "stdout",
          "text": [
            "Fine-tuning Epoch: 13, Loss: 0.5607, Accuracy: 51.09%\n"
          ]
        },
        {
          "output_type": "stream",
          "name": "stderr",
          "text": [
            " 42%|████▏     | 25/60 [00:07<00:09,  3.88it/s]"
          ]
        },
        {
          "output_type": "stream",
          "name": "stdout",
          "text": [
            "Fine-tuning Epoch: 13, Loss: 0.5907, Accuracy: 50.78%\n",
            "Fine-tuning Epoch: 13, Loss: 0.6095, Accuracy: 51.50%\n"
          ]
        },
        {
          "output_type": "stream",
          "name": "stderr",
          "text": [
            " 45%|████▌     | 27/60 [00:08<00:08,  3.93it/s]"
          ]
        },
        {
          "output_type": "stream",
          "name": "stdout",
          "text": [
            "Fine-tuning Epoch: 13, Loss: 0.6370, Accuracy: 51.32%\n",
            "Fine-tuning Epoch: 13, Loss: 0.6642, Accuracy: 51.39%\n"
          ]
        },
        {
          "output_type": "stream",
          "name": "stderr",
          "text": [
            " 48%|████▊     | 29/60 [00:09<00:07,  3.88it/s]"
          ]
        },
        {
          "output_type": "stream",
          "name": "stdout",
          "text": [
            "Fine-tuning Epoch: 13, Loss: 0.6822, Accuracy: 52.12%\n",
            "Fine-tuning Epoch: 13, Loss: 0.7023, Accuracy: 52.37%\n"
          ]
        },
        {
          "output_type": "stream",
          "name": "stderr",
          "text": [
            " 52%|█████▏    | 31/60 [00:09<00:07,  3.82it/s]"
          ]
        },
        {
          "output_type": "stream",
          "name": "stdout",
          "text": [
            "Fine-tuning Epoch: 13, Loss: 0.7288, Accuracy: 52.50%\n",
            "Fine-tuning Epoch: 13, Loss: 0.7522, Accuracy: 52.32%\n"
          ]
        },
        {
          "output_type": "stream",
          "name": "stderr",
          "text": [
            "\r 53%|█████▎    | 32/60 [00:10<00:08,  3.43it/s]"
          ]
        },
        {
          "output_type": "stream",
          "name": "stdout",
          "text": [
            "Fine-tuning Epoch: 13, Loss: 0.7751, Accuracy: 52.54%\n"
          ]
        },
        {
          "output_type": "stream",
          "name": "stderr",
          "text": [
            "\r 55%|█████▌    | 33/60 [00:10<00:07,  3.67it/s]"
          ]
        },
        {
          "output_type": "stream",
          "name": "stdout",
          "text": [
            "Fine-tuning Epoch: 13, Loss: 0.7921, Accuracy: 52.94%\n"
          ]
        },
        {
          "output_type": "stream",
          "name": "stderr",
          "text": [
            "\r 57%|█████▋    | 34/60 [00:10<00:07,  3.46it/s]"
          ]
        },
        {
          "output_type": "stream",
          "name": "stdout",
          "text": [
            "Fine-tuning Epoch: 13, Loss: 0.8151, Accuracy: 53.03%\n"
          ]
        },
        {
          "output_type": "stream",
          "name": "stderr",
          "text": [
            "\r 58%|█████▊    | 35/60 [00:10<00:06,  3.78it/s]"
          ]
        },
        {
          "output_type": "stream",
          "name": "stdout",
          "text": [
            "Fine-tuning Epoch: 13, Loss: 0.8477, Accuracy: 52.50%\n"
          ]
        },
        {
          "output_type": "stream",
          "name": "stderr",
          "text": [
            " 62%|██████▏   | 37/60 [00:11<00:05,  3.85it/s]"
          ]
        },
        {
          "output_type": "stream",
          "name": "stdout",
          "text": [
            "Fine-tuning Epoch: 13, Loss: 0.8729, Accuracy: 52.43%\n",
            "Fine-tuning Epoch: 13, Loss: 0.8903, Accuracy: 52.87%\n"
          ]
        },
        {
          "output_type": "stream",
          "name": "stderr",
          "text": [
            " 65%|██████▌   | 39/60 [00:11<00:05,  3.94it/s]"
          ]
        },
        {
          "output_type": "stream",
          "name": "stdout",
          "text": [
            "Fine-tuning Epoch: 13, Loss: 0.9185, Accuracy: 52.47%\n",
            "Fine-tuning Epoch: 13, Loss: 0.9368, Accuracy: 52.72%\n"
          ]
        },
        {
          "output_type": "stream",
          "name": "stderr",
          "text": [
            "\r 67%|██████▋   | 40/60 [00:12<00:06,  3.15it/s]"
          ]
        },
        {
          "output_type": "stream",
          "name": "stdout",
          "text": [
            "Fine-tuning Epoch: 13, Loss: 0.9654, Accuracy: 52.19%\n"
          ]
        },
        {
          "output_type": "stream",
          "name": "stderr",
          "text": [
            "\r 68%|██████▊   | 41/60 [00:12<00:07,  2.59it/s]"
          ]
        },
        {
          "output_type": "stream",
          "name": "stdout",
          "text": [
            "Fine-tuning Epoch: 13, Loss: 0.9905, Accuracy: 52.13%\n"
          ]
        },
        {
          "output_type": "stream",
          "name": "stderr",
          "text": [
            "\r 70%|███████   | 42/60 [00:13<00:07,  2.40it/s]"
          ]
        },
        {
          "output_type": "stream",
          "name": "stdout",
          "text": [
            "Fine-tuning Epoch: 13, Loss: 1.0108, Accuracy: 52.23%\n"
          ]
        },
        {
          "output_type": "stream",
          "name": "stderr",
          "text": [
            "\r 72%|███████▏  | 43/60 [00:13<00:06,  2.50it/s]"
          ]
        },
        {
          "output_type": "stream",
          "name": "stdout",
          "text": [
            "Fine-tuning Epoch: 13, Loss: 1.0413, Accuracy: 51.96%\n"
          ]
        },
        {
          "output_type": "stream",
          "name": "stderr",
          "text": [
            "\r 73%|███████▎  | 44/60 [00:14<00:07,  2.18it/s]"
          ]
        },
        {
          "output_type": "stream",
          "name": "stdout",
          "text": [
            "Fine-tuning Epoch: 13, Loss: 1.0615, Accuracy: 51.85%\n"
          ]
        },
        {
          "output_type": "stream",
          "name": "stderr",
          "text": [
            "\r 75%|███████▌  | 45/60 [00:14<00:06,  2.43it/s]"
          ]
        },
        {
          "output_type": "stream",
          "name": "stdout",
          "text": [
            "Fine-tuning Epoch: 13, Loss: 1.0845, Accuracy: 51.81%\n"
          ]
        },
        {
          "output_type": "stream",
          "name": "stderr",
          "text": [
            "\r 77%|███████▋  | 46/60 [00:15<00:06,  2.15it/s]"
          ]
        },
        {
          "output_type": "stream",
          "name": "stdout",
          "text": [
            "Fine-tuning Epoch: 13, Loss: 1.1084, Accuracy: 51.77%\n"
          ]
        },
        {
          "output_type": "stream",
          "name": "stderr",
          "text": [
            "\r 78%|███████▊  | 47/60 [00:15<00:05,  2.46it/s]"
          ]
        },
        {
          "output_type": "stream",
          "name": "stdout",
          "text": [
            "Fine-tuning Epoch: 13, Loss: 1.1331, Accuracy: 51.80%\n"
          ]
        },
        {
          "output_type": "stream",
          "name": "stderr",
          "text": [
            " 82%|████████▏ | 49/60 [00:16<00:04,  2.62it/s]"
          ]
        },
        {
          "output_type": "stream",
          "name": "stdout",
          "text": [
            "Fine-tuning Epoch: 13, Loss: 1.1580, Accuracy: 51.69%\n",
            "Fine-tuning Epoch: 13, Loss: 1.1837, Accuracy: 51.53%\n"
          ]
        },
        {
          "output_type": "stream",
          "name": "stderr",
          "text": [
            " 85%|████████▌ | 51/60 [00:17<00:03,  2.58it/s]"
          ]
        },
        {
          "output_type": "stream",
          "name": "stdout",
          "text": [
            "Fine-tuning Epoch: 13, Loss: 1.2060, Accuracy: 51.81%\n",
            "Fine-tuning Epoch: 13, Loss: 1.2341, Accuracy: 51.59%\n"
          ]
        },
        {
          "output_type": "stream",
          "name": "stderr",
          "text": [
            " 88%|████████▊ | 53/60 [00:17<00:02,  3.28it/s]"
          ]
        },
        {
          "output_type": "stream",
          "name": "stdout",
          "text": [
            "Fine-tuning Epoch: 13, Loss: 1.2528, Accuracy: 51.98%\n",
            "Fine-tuning Epoch: 13, Loss: 1.2777, Accuracy: 52.00%\n"
          ]
        },
        {
          "output_type": "stream",
          "name": "stderr",
          "text": [
            " 92%|█████████▏| 55/60 [00:18<00:01,  3.58it/s]"
          ]
        },
        {
          "output_type": "stream",
          "name": "stdout",
          "text": [
            "Fine-tuning Epoch: 13, Loss: 1.3031, Accuracy: 51.79%\n",
            "Fine-tuning Epoch: 13, Loss: 1.3321, Accuracy: 51.65%\n"
          ]
        },
        {
          "output_type": "stream",
          "name": "stderr",
          "text": [
            " 95%|█████████▌| 57/60 [00:18<00:00,  3.75it/s]"
          ]
        },
        {
          "output_type": "stream",
          "name": "stdout",
          "text": [
            "Fine-tuning Epoch: 13, Loss: 1.3531, Accuracy: 51.79%\n",
            "Fine-tuning Epoch: 13, Loss: 1.3767, Accuracy: 51.86%\n"
          ]
        },
        {
          "output_type": "stream",
          "name": "stderr",
          "text": [
            " 98%|█████████▊| 59/60 [00:19<00:00,  3.98it/s]"
          ]
        },
        {
          "output_type": "stream",
          "name": "stdout",
          "text": [
            "Fine-tuning Epoch: 13, Loss: 1.4033, Accuracy: 51.67%\n",
            "Fine-tuning Epoch: 13, Loss: 1.4197, Accuracy: 52.17%\n"
          ]
        },
        {
          "output_type": "stream",
          "name": "stderr",
          "text": [
            "100%|██████████| 60/60 [00:19<00:00,  3.05it/s]\n"
          ]
        },
        {
          "output_type": "stream",
          "name": "stdout",
          "text": [
            "Fine-tuning Epoch: 13, Loss: 1.4459, Accuracy: 52.03%\n"
          ]
        },
        {
          "output_type": "stream",
          "name": "stderr",
          "text": [
            "  3%|▎         | 2/60 [00:00<00:20,  2.83it/s]"
          ]
        },
        {
          "output_type": "stream",
          "name": "stdout",
          "text": [
            "Fine-tuning Epoch: 14, Loss: 0.0216, Accuracy: 56.25%\n",
            "Fine-tuning Epoch: 14, Loss: 0.0432, Accuracy: 60.94%\n"
          ]
        },
        {
          "output_type": "stream",
          "name": "stderr",
          "text": [
            "  7%|▋         | 4/60 [00:01<00:15,  3.55it/s]"
          ]
        },
        {
          "output_type": "stream",
          "name": "stdout",
          "text": [
            "Fine-tuning Epoch: 14, Loss: 0.0603, Accuracy: 63.54%\n",
            "Fine-tuning Epoch: 14, Loss: 0.0905, Accuracy: 60.16%\n"
          ]
        },
        {
          "output_type": "stream",
          "name": "stderr",
          "text": [
            " 10%|█         | 6/60 [00:01<00:14,  3.85it/s]"
          ]
        },
        {
          "output_type": "stream",
          "name": "stdout",
          "text": [
            "Fine-tuning Epoch: 14, Loss: 0.1107, Accuracy: 59.38%\n",
            "Fine-tuning Epoch: 14, Loss: 0.1329, Accuracy: 57.29%\n"
          ]
        },
        {
          "output_type": "stream",
          "name": "stderr",
          "text": [
            " 13%|█▎        | 8/60 [00:02<00:13,  3.84it/s]"
          ]
        },
        {
          "output_type": "stream",
          "name": "stdout",
          "text": [
            "Fine-tuning Epoch: 14, Loss: 0.1526, Accuracy: 58.04%\n",
            "Fine-tuning Epoch: 14, Loss: 0.1768, Accuracy: 56.64%\n"
          ]
        },
        {
          "output_type": "stream",
          "name": "stderr",
          "text": [
            " 17%|█▋        | 10/60 [00:03<00:12,  3.96it/s]"
          ]
        },
        {
          "output_type": "stream",
          "name": "stdout",
          "text": [
            "Fine-tuning Epoch: 14, Loss: 0.2011, Accuracy: 55.56%\n",
            "Fine-tuning Epoch: 14, Loss: 0.2321, Accuracy: 53.12%\n"
          ]
        },
        {
          "output_type": "stream",
          "name": "stderr",
          "text": [
            " 20%|██        | 12/60 [00:03<00:12,  3.90it/s]"
          ]
        },
        {
          "output_type": "stream",
          "name": "stdout",
          "text": [
            "Fine-tuning Epoch: 14, Loss: 0.2594, Accuracy: 52.56%\n",
            "Fine-tuning Epoch: 14, Loss: 0.2875, Accuracy: 52.60%\n"
          ]
        },
        {
          "output_type": "stream",
          "name": "stderr",
          "text": [
            " 23%|██▎       | 14/60 [00:04<00:12,  3.79it/s]"
          ]
        },
        {
          "output_type": "stream",
          "name": "stdout",
          "text": [
            "Fine-tuning Epoch: 14, Loss: 0.3082, Accuracy: 52.64%\n",
            "Fine-tuning Epoch: 14, Loss: 0.3292, Accuracy: 53.35%\n"
          ]
        },
        {
          "output_type": "stream",
          "name": "stderr",
          "text": [
            " 27%|██▋       | 16/60 [00:04<00:11,  3.74it/s]"
          ]
        },
        {
          "output_type": "stream",
          "name": "stdout",
          "text": [
            "Fine-tuning Epoch: 14, Loss: 0.3526, Accuracy: 53.54%\n",
            "Fine-tuning Epoch: 14, Loss: 0.3775, Accuracy: 53.52%\n"
          ]
        },
        {
          "output_type": "stream",
          "name": "stderr",
          "text": [
            " 30%|███       | 18/60 [00:05<00:10,  3.88it/s]"
          ]
        },
        {
          "output_type": "stream",
          "name": "stdout",
          "text": [
            "Fine-tuning Epoch: 14, Loss: 0.3991, Accuracy: 53.68%\n",
            "Fine-tuning Epoch: 14, Loss: 0.4168, Accuracy: 53.99%\n"
          ]
        },
        {
          "output_type": "stream",
          "name": "stderr",
          "text": [
            " 33%|███▎      | 20/60 [00:05<00:10,  3.97it/s]"
          ]
        },
        {
          "output_type": "stream",
          "name": "stdout",
          "text": [
            "Fine-tuning Epoch: 14, Loss: 0.4379, Accuracy: 54.11%\n",
            "Fine-tuning Epoch: 14, Loss: 0.4569, Accuracy: 54.53%\n"
          ]
        },
        {
          "output_type": "stream",
          "name": "stderr",
          "text": [
            " 37%|███▋      | 22/60 [00:06<00:09,  3.88it/s]"
          ]
        },
        {
          "output_type": "stream",
          "name": "stdout",
          "text": [
            "Fine-tuning Epoch: 14, Loss: 0.4797, Accuracy: 54.32%\n",
            "Fine-tuning Epoch: 14, Loss: 0.4966, Accuracy: 55.11%\n"
          ]
        },
        {
          "output_type": "stream",
          "name": "stderr",
          "text": [
            " 40%|████      | 24/60 [00:07<00:09,  3.77it/s]"
          ]
        },
        {
          "output_type": "stream",
          "name": "stdout",
          "text": [
            "Fine-tuning Epoch: 14, Loss: 0.5140, Accuracy: 55.71%\n",
            "Fine-tuning Epoch: 14, Loss: 0.5354, Accuracy: 55.99%\n"
          ]
        },
        {
          "output_type": "stream",
          "name": "stderr",
          "text": [
            " 43%|████▎     | 26/60 [00:07<00:08,  3.94it/s]"
          ]
        },
        {
          "output_type": "stream",
          "name": "stdout",
          "text": [
            "Fine-tuning Epoch: 14, Loss: 0.5570, Accuracy: 56.00%\n",
            "Fine-tuning Epoch: 14, Loss: 0.5890, Accuracy: 55.17%\n"
          ]
        },
        {
          "output_type": "stream",
          "name": "stderr",
          "text": [
            " 47%|████▋     | 28/60 [00:08<00:10,  3.01it/s]"
          ]
        },
        {
          "output_type": "stream",
          "name": "stdout",
          "text": [
            "Fine-tuning Epoch: 14, Loss: 0.6152, Accuracy: 55.09%\n",
            "Fine-tuning Epoch: 14, Loss: 0.6362, Accuracy: 55.02%\n"
          ]
        },
        {
          "output_type": "stream",
          "name": "stderr",
          "text": [
            " 50%|█████     | 30/60 [00:09<00:10,  2.81it/s]"
          ]
        },
        {
          "output_type": "stream",
          "name": "stdout",
          "text": [
            "Fine-tuning Epoch: 14, Loss: 0.6546, Accuracy: 55.39%\n",
            "Fine-tuning Epoch: 14, Loss: 0.6779, Accuracy: 55.21%\n"
          ]
        },
        {
          "output_type": "stream",
          "name": "stderr",
          "text": [
            " 53%|█████▎    | 32/60 [00:10<00:10,  2.72it/s]"
          ]
        },
        {
          "output_type": "stream",
          "name": "stdout",
          "text": [
            "Fine-tuning Epoch: 14, Loss: 0.7012, Accuracy: 55.34%\n",
            "Fine-tuning Epoch: 14, Loss: 0.7214, Accuracy: 55.18%\n"
          ]
        },
        {
          "output_type": "stream",
          "name": "stderr",
          "text": [
            " 57%|█████▋    | 34/60 [00:11<00:09,  2.72it/s]"
          ]
        },
        {
          "output_type": "stream",
          "name": "stdout",
          "text": [
            "Fine-tuning Epoch: 14, Loss: 0.7419, Accuracy: 55.40%\n",
            "Fine-tuning Epoch: 14, Loss: 0.7638, Accuracy: 55.70%\n"
          ]
        },
        {
          "output_type": "stream",
          "name": "stderr",
          "text": [
            " 60%|██████    | 36/60 [00:11<00:08,  2.72it/s]"
          ]
        },
        {
          "output_type": "stream",
          "name": "stdout",
          "text": [
            "Fine-tuning Epoch: 14, Loss: 0.7791, Accuracy: 56.16%\n",
            "Fine-tuning Epoch: 14, Loss: 0.7982, Accuracy: 56.08%\n"
          ]
        },
        {
          "output_type": "stream",
          "name": "stderr",
          "text": [
            " 63%|██████▎   | 38/60 [00:12<00:07,  2.82it/s]"
          ]
        },
        {
          "output_type": "stream",
          "name": "stdout",
          "text": [
            "Fine-tuning Epoch: 14, Loss: 0.8196, Accuracy: 56.00%\n",
            "Fine-tuning Epoch: 14, Loss: 0.8432, Accuracy: 55.92%\n"
          ]
        },
        {
          "output_type": "stream",
          "name": "stderr",
          "text": [
            " 67%|██████▋   | 40/60 [00:13<00:06,  3.19it/s]"
          ]
        },
        {
          "output_type": "stream",
          "name": "stdout",
          "text": [
            "Fine-tuning Epoch: 14, Loss: 0.8685, Accuracy: 55.77%\n",
            "Fine-tuning Epoch: 14, Loss: 0.8868, Accuracy: 56.02%\n"
          ]
        },
        {
          "output_type": "stream",
          "name": "stderr",
          "text": [
            " 70%|███████   | 42/60 [00:13<00:05,  3.52it/s]"
          ]
        },
        {
          "output_type": "stream",
          "name": "stdout",
          "text": [
            "Fine-tuning Epoch: 14, Loss: 0.9155, Accuracy: 55.72%\n",
            "Fine-tuning Epoch: 14, Loss: 0.9483, Accuracy: 55.43%\n"
          ]
        },
        {
          "output_type": "stream",
          "name": "stderr",
          "text": [
            " 73%|███████▎  | 44/60 [00:14<00:04,  3.90it/s]"
          ]
        },
        {
          "output_type": "stream",
          "name": "stdout",
          "text": [
            "Fine-tuning Epoch: 14, Loss: 0.9660, Accuracy: 55.81%\n",
            "Fine-tuning Epoch: 14, Loss: 0.9887, Accuracy: 55.68%\n"
          ]
        },
        {
          "output_type": "stream",
          "name": "stderr",
          "text": [
            " 77%|███████▋  | 46/60 [00:14<00:03,  3.83it/s]"
          ]
        },
        {
          "output_type": "stream",
          "name": "stdout",
          "text": [
            "Fine-tuning Epoch: 14, Loss: 1.0103, Accuracy: 55.69%\n",
            "Fine-tuning Epoch: 14, Loss: 1.0342, Accuracy: 55.37%\n"
          ]
        },
        {
          "output_type": "stream",
          "name": "stderr",
          "text": [
            " 80%|████████  | 48/60 [00:15<00:02,  4.07it/s]"
          ]
        },
        {
          "output_type": "stream",
          "name": "stdout",
          "text": [
            "Fine-tuning Epoch: 14, Loss: 1.0605, Accuracy: 55.12%\n",
            "Fine-tuning Epoch: 14, Loss: 1.0811, Accuracy: 55.08%\n"
          ]
        },
        {
          "output_type": "stream",
          "name": "stderr",
          "text": [
            " 83%|████████▎ | 50/60 [00:16<00:02,  3.99it/s]"
          ]
        },
        {
          "output_type": "stream",
          "name": "stdout",
          "text": [
            "Fine-tuning Epoch: 14, Loss: 1.1081, Accuracy: 54.78%\n",
            "Fine-tuning Epoch: 14, Loss: 1.1315, Accuracy: 54.75%\n"
          ]
        },
        {
          "output_type": "stream",
          "name": "stderr",
          "text": [
            " 87%|████████▋ | 52/60 [00:16<00:02,  3.87it/s]"
          ]
        },
        {
          "output_type": "stream",
          "name": "stdout",
          "text": [
            "Fine-tuning Epoch: 14, Loss: 1.1535, Accuracy: 55.09%\n",
            "Fine-tuning Epoch: 14, Loss: 1.1707, Accuracy: 55.47%\n"
          ]
        },
        {
          "output_type": "stream",
          "name": "stderr",
          "text": [
            " 90%|█████████ | 54/60 [00:17<00:01,  3.92it/s]"
          ]
        },
        {
          "output_type": "stream",
          "name": "stdout",
          "text": [
            "Fine-tuning Epoch: 14, Loss: 1.1941, Accuracy: 55.42%\n",
            "Fine-tuning Epoch: 14, Loss: 1.2156, Accuracy: 55.44%\n"
          ]
        },
        {
          "output_type": "stream",
          "name": "stderr",
          "text": [
            " 93%|█████████▎| 56/60 [00:17<00:01,  3.79it/s]"
          ]
        },
        {
          "output_type": "stream",
          "name": "stdout",
          "text": [
            "Fine-tuning Epoch: 14, Loss: 1.2399, Accuracy: 55.45%\n",
            "Fine-tuning Epoch: 14, Loss: 1.2648, Accuracy: 55.30%\n"
          ]
        },
        {
          "output_type": "stream",
          "name": "stderr",
          "text": [
            " 97%|█████████▋| 58/60 [00:18<00:00,  4.15it/s]"
          ]
        },
        {
          "output_type": "stream",
          "name": "stdout",
          "text": [
            "Fine-tuning Epoch: 14, Loss: 1.2878, Accuracy: 55.04%\n",
            "Fine-tuning Epoch: 14, Loss: 1.3113, Accuracy: 54.85%\n"
          ]
        },
        {
          "output_type": "stream",
          "name": "stderr",
          "text": [
            "100%|██████████| 60/60 [00:18<00:00,  3.18it/s]\n"
          ]
        },
        {
          "output_type": "stream",
          "name": "stdout",
          "text": [
            "Fine-tuning Epoch: 14, Loss: 1.3380, Accuracy: 54.61%\n",
            "Fine-tuning Epoch: 14, Loss: 1.3620, Accuracy: 54.69%\n"
          ]
        },
        {
          "output_type": "stream",
          "name": "stderr",
          "text": [
            "  3%|▎         | 2/60 [00:00<00:21,  2.69it/s]"
          ]
        },
        {
          "output_type": "stream",
          "name": "stdout",
          "text": [
            "Fine-tuning Epoch: 15, Loss: 0.0221, Accuracy: 56.25%\n",
            "Fine-tuning Epoch: 15, Loss: 0.0442, Accuracy: 54.69%\n"
          ]
        },
        {
          "output_type": "stream",
          "name": "stderr",
          "text": [
            "  7%|▋         | 4/60 [00:01<00:16,  3.37it/s]"
          ]
        },
        {
          "output_type": "stream",
          "name": "stdout",
          "text": [
            "Fine-tuning Epoch: 15, Loss: 0.0628, Accuracy: 58.33%\n",
            "Fine-tuning Epoch: 15, Loss: 0.0854, Accuracy: 57.03%\n"
          ]
        },
        {
          "output_type": "stream",
          "name": "stderr",
          "text": [
            " 10%|█         | 6/60 [00:01<00:14,  3.74it/s]"
          ]
        },
        {
          "output_type": "stream",
          "name": "stdout",
          "text": [
            "Fine-tuning Epoch: 15, Loss: 0.1128, Accuracy: 54.38%\n",
            "Fine-tuning Epoch: 15, Loss: 0.1334, Accuracy: 53.65%\n"
          ]
        },
        {
          "output_type": "stream",
          "name": "stderr",
          "text": [
            " 13%|█▎        | 8/60 [00:02<00:13,  3.80it/s]"
          ]
        },
        {
          "output_type": "stream",
          "name": "stdout",
          "text": [
            "Fine-tuning Epoch: 15, Loss: 0.1495, Accuracy: 54.91%\n",
            "Fine-tuning Epoch: 15, Loss: 0.1710, Accuracy: 55.86%\n"
          ]
        },
        {
          "output_type": "stream",
          "name": "stderr",
          "text": [
            " 17%|█▋        | 10/60 [00:03<00:12,  3.96it/s]"
          ]
        },
        {
          "output_type": "stream",
          "name": "stdout",
          "text": [
            "Fine-tuning Epoch: 15, Loss: 0.1900, Accuracy: 55.21%\n",
            "Fine-tuning Epoch: 15, Loss: 0.2193, Accuracy: 54.06%\n"
          ]
        },
        {
          "output_type": "stream",
          "name": "stderr",
          "text": [
            " 20%|██        | 12/60 [00:03<00:12,  3.83it/s]"
          ]
        },
        {
          "output_type": "stream",
          "name": "stdout",
          "text": [
            "Fine-tuning Epoch: 15, Loss: 0.2428, Accuracy: 53.12%\n",
            "Fine-tuning Epoch: 15, Loss: 0.2709, Accuracy: 53.12%\n"
          ]
        },
        {
          "output_type": "stream",
          "name": "stderr",
          "text": [
            " 23%|██▎       | 14/60 [00:04<00:15,  3.05it/s]"
          ]
        },
        {
          "output_type": "stream",
          "name": "stdout",
          "text": [
            "Fine-tuning Epoch: 15, Loss: 0.2917, Accuracy: 54.09%\n",
            "Fine-tuning Epoch: 15, Loss: 0.3152, Accuracy: 54.24%\n"
          ]
        },
        {
          "output_type": "stream",
          "name": "stderr",
          "text": [
            " 27%|██▋       | 16/60 [00:05<00:16,  2.74it/s]"
          ]
        },
        {
          "output_type": "stream",
          "name": "stdout",
          "text": [
            "Fine-tuning Epoch: 15, Loss: 0.3453, Accuracy: 53.54%\n",
            "Fine-tuning Epoch: 15, Loss: 0.3625, Accuracy: 54.49%\n"
          ]
        },
        {
          "output_type": "stream",
          "name": "stderr",
          "text": [
            " 30%|███       | 18/60 [00:06<00:17,  2.46it/s]"
          ]
        },
        {
          "output_type": "stream",
          "name": "stdout",
          "text": [
            "Fine-tuning Epoch: 15, Loss: 0.3863, Accuracy: 54.41%\n",
            "Fine-tuning Epoch: 15, Loss: 0.4082, Accuracy: 54.51%\n"
          ]
        },
        {
          "output_type": "stream",
          "name": "stderr",
          "text": [
            " 33%|███▎      | 20/60 [00:07<00:16,  2.49it/s]"
          ]
        },
        {
          "output_type": "stream",
          "name": "stdout",
          "text": [
            "Fine-tuning Epoch: 15, Loss: 0.4379, Accuracy: 53.45%\n",
            "Fine-tuning Epoch: 15, Loss: 0.4550, Accuracy: 53.44%\n"
          ]
        },
        {
          "output_type": "stream",
          "name": "stderr",
          "text": [
            " 37%|███▋      | 22/60 [00:08<00:15,  2.47it/s]"
          ]
        },
        {
          "output_type": "stream",
          "name": "stdout",
          "text": [
            "Fine-tuning Epoch: 15, Loss: 0.4770, Accuracy: 53.72%\n",
            "Fine-tuning Epoch: 15, Loss: 0.4977, Accuracy: 53.41%\n"
          ]
        },
        {
          "output_type": "stream",
          "name": "stderr",
          "text": [
            " 40%|████      | 24/60 [00:09<00:12,  2.89it/s]"
          ]
        },
        {
          "output_type": "stream",
          "name": "stdout",
          "text": [
            "Fine-tuning Epoch: 15, Loss: 0.5179, Accuracy: 53.53%\n",
            "Fine-tuning Epoch: 15, Loss: 0.5421, Accuracy: 53.52%\n"
          ]
        },
        {
          "output_type": "stream",
          "name": "stderr",
          "text": [
            " 43%|████▎     | 26/60 [00:09<00:10,  3.38it/s]"
          ]
        },
        {
          "output_type": "stream",
          "name": "stdout",
          "text": [
            "Fine-tuning Epoch: 15, Loss: 0.5711, Accuracy: 52.75%\n",
            "Fine-tuning Epoch: 15, Loss: 0.5943, Accuracy: 52.76%\n"
          ]
        },
        {
          "output_type": "stream",
          "name": "stderr",
          "text": [
            " 47%|████▋     | 28/60 [00:10<00:08,  3.88it/s]"
          ]
        },
        {
          "output_type": "stream",
          "name": "stdout",
          "text": [
            "Fine-tuning Epoch: 15, Loss: 0.6255, Accuracy: 52.20%\n",
            "Fine-tuning Epoch: 15, Loss: 0.6429, Accuracy: 53.12%\n"
          ]
        },
        {
          "output_type": "stream",
          "name": "stderr",
          "text": [
            " 50%|█████     | 30/60 [00:10<00:07,  3.86it/s]"
          ]
        },
        {
          "output_type": "stream",
          "name": "stdout",
          "text": [
            "Fine-tuning Epoch: 15, Loss: 0.6635, Accuracy: 53.02%\n",
            "Fine-tuning Epoch: 15, Loss: 0.6918, Accuracy: 53.02%\n"
          ]
        },
        {
          "output_type": "stream",
          "name": "stderr",
          "text": [
            " 53%|█████▎    | 32/60 [00:11<00:07,  3.85it/s]"
          ]
        },
        {
          "output_type": "stream",
          "name": "stdout",
          "text": [
            "Fine-tuning Epoch: 15, Loss: 0.7125, Accuracy: 52.92%\n",
            "Fine-tuning Epoch: 15, Loss: 0.7307, Accuracy: 53.61%\n"
          ]
        },
        {
          "output_type": "stream",
          "name": "stderr",
          "text": [
            " 57%|█████▋    | 34/60 [00:11<00:06,  3.94it/s]"
          ]
        },
        {
          "output_type": "stream",
          "name": "stdout",
          "text": [
            "Fine-tuning Epoch: 15, Loss: 0.7537, Accuracy: 53.41%\n",
            "Fine-tuning Epoch: 15, Loss: 0.7727, Accuracy: 53.68%\n"
          ]
        },
        {
          "output_type": "stream",
          "name": "stderr",
          "text": [
            " 60%|██████    | 36/60 [00:12<00:06,  3.98it/s]"
          ]
        },
        {
          "output_type": "stream",
          "name": "stdout",
          "text": [
            "Fine-tuning Epoch: 15, Loss: 0.7939, Accuracy: 53.75%\n",
            "Fine-tuning Epoch: 15, Loss: 0.8169, Accuracy: 53.73%\n"
          ]
        },
        {
          "output_type": "stream",
          "name": "stderr",
          "text": [
            " 63%|██████▎   | 38/60 [00:12<00:05,  4.09it/s]"
          ]
        },
        {
          "output_type": "stream",
          "name": "stdout",
          "text": [
            "Fine-tuning Epoch: 15, Loss: 0.8395, Accuracy: 53.72%\n",
            "Fine-tuning Epoch: 15, Loss: 0.8617, Accuracy: 53.70%\n"
          ]
        },
        {
          "output_type": "stream",
          "name": "stderr",
          "text": [
            " 67%|██████▋   | 40/60 [00:13<00:05,  3.95it/s]"
          ]
        },
        {
          "output_type": "stream",
          "name": "stdout",
          "text": [
            "Fine-tuning Epoch: 15, Loss: 0.8772, Accuracy: 54.09%\n",
            "Fine-tuning Epoch: 15, Loss: 0.9008, Accuracy: 54.06%\n"
          ]
        },
        {
          "output_type": "stream",
          "name": "stderr",
          "text": [
            " 70%|███████   | 42/60 [00:13<00:04,  3.88it/s]"
          ]
        },
        {
          "output_type": "stream",
          "name": "stdout",
          "text": [
            "Fine-tuning Epoch: 15, Loss: 0.9247, Accuracy: 54.19%\n",
            "Fine-tuning Epoch: 15, Loss: 0.9410, Accuracy: 54.32%\n"
          ]
        },
        {
          "output_type": "stream",
          "name": "stderr",
          "text": [
            " 73%|███████▎  | 44/60 [00:14<00:04,  3.98it/s]"
          ]
        },
        {
          "output_type": "stream",
          "name": "stdout",
          "text": [
            "Fine-tuning Epoch: 15, Loss: 0.9646, Accuracy: 54.14%\n",
            "Fine-tuning Epoch: 15, Loss: 0.9800, Accuracy: 54.40%\n"
          ]
        },
        {
          "output_type": "stream",
          "name": "stderr",
          "text": [
            " 77%|███████▋  | 46/60 [00:15<00:03,  4.16it/s]"
          ]
        },
        {
          "output_type": "stream",
          "name": "stdout",
          "text": [
            "Fine-tuning Epoch: 15, Loss: 1.0026, Accuracy: 54.44%\n",
            "Fine-tuning Epoch: 15, Loss: 1.0231, Accuracy: 54.62%\n"
          ]
        },
        {
          "output_type": "stream",
          "name": "stderr",
          "text": [
            " 80%|████████  | 48/60 [00:15<00:02,  4.11it/s]"
          ]
        },
        {
          "output_type": "stream",
          "name": "stdout",
          "text": [
            "Fine-tuning Epoch: 15, Loss: 1.0498, Accuracy: 54.52%\n",
            "Fine-tuning Epoch: 15, Loss: 1.0694, Accuracy: 54.62%\n"
          ]
        },
        {
          "output_type": "stream",
          "name": "stderr",
          "text": [
            " 83%|████████▎ | 50/60 [00:16<00:02,  4.04it/s]"
          ]
        },
        {
          "output_type": "stream",
          "name": "stdout",
          "text": [
            "Fine-tuning Epoch: 15, Loss: 1.0864, Accuracy: 55.10%\n",
            "Fine-tuning Epoch: 15, Loss: 1.1145, Accuracy: 54.81%\n"
          ]
        },
        {
          "output_type": "stream",
          "name": "stderr",
          "text": [
            " 87%|████████▋ | 52/60 [00:16<00:01,  4.16it/s]"
          ]
        },
        {
          "output_type": "stream",
          "name": "stdout",
          "text": [
            "Fine-tuning Epoch: 15, Loss: 1.1313, Accuracy: 55.15%\n",
            "Fine-tuning Epoch: 15, Loss: 1.1576, Accuracy: 55.11%\n"
          ]
        },
        {
          "output_type": "stream",
          "name": "stderr",
          "text": [
            " 90%|█████████ | 54/60 [00:17<00:01,  4.30it/s]"
          ]
        },
        {
          "output_type": "stream",
          "name": "stdout",
          "text": [
            "Fine-tuning Epoch: 15, Loss: 1.1805, Accuracy: 55.13%\n",
            "Fine-tuning Epoch: 15, Loss: 1.2063, Accuracy: 55.15%\n"
          ]
        },
        {
          "output_type": "stream",
          "name": "stderr",
          "text": [
            " 93%|█████████▎| 56/60 [00:17<00:00,  4.14it/s]"
          ]
        },
        {
          "output_type": "stream",
          "name": "stdout",
          "text": [
            "Fine-tuning Epoch: 15, Loss: 1.2401, Accuracy: 55.11%\n",
            "Fine-tuning Epoch: 15, Loss: 1.2632, Accuracy: 55.19%\n"
          ]
        },
        {
          "output_type": "stream",
          "name": "stderr",
          "text": [
            " 97%|█████████▋| 58/60 [00:18<00:00,  4.18it/s]"
          ]
        },
        {
          "output_type": "stream",
          "name": "stdout",
          "text": [
            "Fine-tuning Epoch: 15, Loss: 1.2817, Accuracy: 55.26%\n",
            "Fine-tuning Epoch: 15, Loss: 1.3075, Accuracy: 55.12%\n"
          ]
        },
        {
          "output_type": "stream",
          "name": "stderr",
          "text": [
            "100%|██████████| 60/60 [00:18<00:00,  3.18it/s]"
          ]
        },
        {
          "output_type": "stream",
          "name": "stdout",
          "text": [
            "Fine-tuning Epoch: 15, Loss: 1.3331, Accuracy: 55.03%\n",
            "Fine-tuning Epoch: 15, Loss: 1.3577, Accuracy: 54.84%\n"
          ]
        },
        {
          "output_type": "stream",
          "name": "stderr",
          "text": [
            "\n",
            "  2%|▏         | 1/60 [00:01<00:59,  1.01s/it]"
          ]
        },
        {
          "output_type": "stream",
          "name": "stdout",
          "text": [
            "Fine-tuning Epoch: 16, Loss: 0.0201, Accuracy: 59.38%\n"
          ]
        },
        {
          "output_type": "stream",
          "name": "stderr",
          "text": [
            "\r  3%|▎         | 2/60 [00:01<00:36,  1.58it/s]"
          ]
        },
        {
          "output_type": "stream",
          "name": "stdout",
          "text": [
            "Fine-tuning Epoch: 16, Loss: 0.0400, Accuracy: 62.50%\n"
          ]
        },
        {
          "output_type": "stream",
          "name": "stderr",
          "text": [
            "\r  5%|▌         | 3/60 [00:01<00:29,  1.94it/s]"
          ]
        },
        {
          "output_type": "stream",
          "name": "stdout",
          "text": [
            "Fine-tuning Epoch: 16, Loss: 0.0680, Accuracy: 56.25%\n"
          ]
        },
        {
          "output_type": "stream",
          "name": "stderr",
          "text": [
            "\r  7%|▋         | 4/60 [00:02<00:28,  1.96it/s]"
          ]
        },
        {
          "output_type": "stream",
          "name": "stdout",
          "text": [
            "Fine-tuning Epoch: 16, Loss: 0.0954, Accuracy: 53.12%\n"
          ]
        },
        {
          "output_type": "stream",
          "name": "stderr",
          "text": [
            "\r  8%|▊         | 5/60 [00:02<00:25,  2.14it/s]"
          ]
        },
        {
          "output_type": "stream",
          "name": "stdout",
          "text": [
            "Fine-tuning Epoch: 16, Loss: 0.1159, Accuracy: 55.62%\n"
          ]
        },
        {
          "output_type": "stream",
          "name": "stderr",
          "text": [
            "\r 10%|█         | 6/60 [00:03<00:23,  2.29it/s]"
          ]
        },
        {
          "output_type": "stream",
          "name": "stdout",
          "text": [
            "Fine-tuning Epoch: 16, Loss: 0.1401, Accuracy: 55.21%\n"
          ]
        },
        {
          "output_type": "stream",
          "name": "stderr",
          "text": [
            "\r 12%|█▏        | 7/60 [00:03<00:23,  2.28it/s]"
          ]
        },
        {
          "output_type": "stream",
          "name": "stdout",
          "text": [
            "Fine-tuning Epoch: 16, Loss: 0.1614, Accuracy: 54.46%\n"
          ]
        },
        {
          "output_type": "stream",
          "name": "stderr",
          "text": [
            "\r 13%|█▎        | 8/60 [00:03<00:23,  2.26it/s]"
          ]
        },
        {
          "output_type": "stream",
          "name": "stdout",
          "text": [
            "Fine-tuning Epoch: 16, Loss: 0.1862, Accuracy: 55.08%\n"
          ]
        },
        {
          "output_type": "stream",
          "name": "stderr",
          "text": [
            "\r 15%|█▌        | 9/60 [00:04<00:23,  2.21it/s]"
          ]
        },
        {
          "output_type": "stream",
          "name": "stdout",
          "text": [
            "Fine-tuning Epoch: 16, Loss: 0.2068, Accuracy: 54.17%\n"
          ]
        },
        {
          "output_type": "stream",
          "name": "stderr",
          "text": [
            "\r 17%|█▋        | 10/60 [00:04<00:21,  2.29it/s]"
          ]
        },
        {
          "output_type": "stream",
          "name": "stdout",
          "text": [
            "Fine-tuning Epoch: 16, Loss: 0.2283, Accuracy: 54.69%\n"
          ]
        },
        {
          "output_type": "stream",
          "name": "stderr",
          "text": [
            "\r 18%|█▊        | 11/60 [00:05<00:18,  2.65it/s]"
          ]
        },
        {
          "output_type": "stream",
          "name": "stdout",
          "text": [
            "Fine-tuning Epoch: 16, Loss: 0.2490, Accuracy: 54.55%\n"
          ]
        },
        {
          "output_type": "stream",
          "name": "stderr",
          "text": [
            "\r 20%|██        | 12/60 [00:05<00:19,  2.52it/s]"
          ]
        },
        {
          "output_type": "stream",
          "name": "stdout",
          "text": [
            "Fine-tuning Epoch: 16, Loss: 0.2719, Accuracy: 53.65%\n"
          ]
        },
        {
          "output_type": "stream",
          "name": "stderr",
          "text": [
            "\r 22%|██▏       | 13/60 [00:05<00:15,  2.96it/s]"
          ]
        },
        {
          "output_type": "stream",
          "name": "stdout",
          "text": [
            "Fine-tuning Epoch: 16, Loss: 0.2881, Accuracy: 54.81%\n"
          ]
        },
        {
          "output_type": "stream",
          "name": "stderr",
          "text": [
            "\r 23%|██▎       | 14/60 [00:06<00:15,  2.96it/s]"
          ]
        },
        {
          "output_type": "stream",
          "name": "stdout",
          "text": [
            "Fine-tuning Epoch: 16, Loss: 0.3129, Accuracy: 54.46%\n"
          ]
        },
        {
          "output_type": "stream",
          "name": "stderr",
          "text": [
            "\r 25%|██▌       | 15/60 [00:06<00:13,  3.27it/s]"
          ]
        },
        {
          "output_type": "stream",
          "name": "stdout",
          "text": [
            "Fine-tuning Epoch: 16, Loss: 0.3355, Accuracy: 54.38%\n"
          ]
        },
        {
          "output_type": "stream",
          "name": "stderr",
          "text": [
            "\r 27%|██▋       | 16/60 [00:06<00:13,  3.26it/s]"
          ]
        },
        {
          "output_type": "stream",
          "name": "stdout",
          "text": [
            "Fine-tuning Epoch: 16, Loss: 0.3544, Accuracy: 54.88%\n"
          ]
        },
        {
          "output_type": "stream",
          "name": "stderr",
          "text": [
            "\r 28%|██▊       | 17/60 [00:06<00:12,  3.53it/s]"
          ]
        },
        {
          "output_type": "stream",
          "name": "stdout",
          "text": [
            "Fine-tuning Epoch: 16, Loss: 0.3790, Accuracy: 54.96%\n"
          ]
        },
        {
          "output_type": "stream",
          "name": "stderr",
          "text": [
            "\r 30%|███       | 18/60 [00:07<00:12,  3.25it/s]"
          ]
        },
        {
          "output_type": "stream",
          "name": "stdout",
          "text": [
            "Fine-tuning Epoch: 16, Loss: 0.4030, Accuracy: 55.38%\n"
          ]
        },
        {
          "output_type": "stream",
          "name": "stderr",
          "text": [
            "\r 32%|███▏      | 19/60 [00:07<00:11,  3.53it/s]"
          ]
        },
        {
          "output_type": "stream",
          "name": "stdout",
          "text": [
            "Fine-tuning Epoch: 16, Loss: 0.4235, Accuracy: 55.43%\n"
          ]
        },
        {
          "output_type": "stream",
          "name": "stderr",
          "text": [
            "\r 33%|███▎      | 20/60 [00:07<00:11,  3.45it/s]"
          ]
        },
        {
          "output_type": "stream",
          "name": "stdout",
          "text": [
            "Fine-tuning Epoch: 16, Loss: 0.4491, Accuracy: 55.31%\n"
          ]
        },
        {
          "output_type": "stream",
          "name": "stderr",
          "text": [
            "\r 35%|███▌      | 21/60 [00:07<00:10,  3.73it/s]"
          ]
        },
        {
          "output_type": "stream",
          "name": "stdout",
          "text": [
            "Fine-tuning Epoch: 16, Loss: 0.4701, Accuracy: 55.21%\n"
          ]
        },
        {
          "output_type": "stream",
          "name": "stderr",
          "text": [
            "\r 37%|███▋      | 22/60 [00:08<00:11,  3.38it/s]"
          ]
        },
        {
          "output_type": "stream",
          "name": "stdout",
          "text": [
            "Fine-tuning Epoch: 16, Loss: 0.4933, Accuracy: 54.83%\n"
          ]
        },
        {
          "output_type": "stream",
          "name": "stderr",
          "text": [
            "\r 38%|███▊      | 23/60 [00:08<00:10,  3.63it/s]"
          ]
        },
        {
          "output_type": "stream",
          "name": "stdout",
          "text": [
            "Fine-tuning Epoch: 16, Loss: 0.5134, Accuracy: 54.76%\n"
          ]
        },
        {
          "output_type": "stream",
          "name": "stderr",
          "text": [
            " 42%|████▏     | 25/60 [00:08<00:08,  3.92it/s]"
          ]
        },
        {
          "output_type": "stream",
          "name": "stdout",
          "text": [
            "Fine-tuning Epoch: 16, Loss: 0.5353, Accuracy: 54.82%\n",
            "Fine-tuning Epoch: 16, Loss: 0.5561, Accuracy: 55.00%\n"
          ]
        },
        {
          "output_type": "stream",
          "name": "stderr",
          "text": [
            " 45%|████▌     | 27/60 [00:09<00:08,  3.80it/s]"
          ]
        },
        {
          "output_type": "stream",
          "name": "stdout",
          "text": [
            "Fine-tuning Epoch: 16, Loss: 0.5779, Accuracy: 54.81%\n",
            "Fine-tuning Epoch: 16, Loss: 0.6010, Accuracy: 55.09%\n"
          ]
        },
        {
          "output_type": "stream",
          "name": "stderr",
          "text": [
            "\r 47%|████▋     | 28/60 [00:09<00:09,  3.35it/s]"
          ]
        },
        {
          "output_type": "stream",
          "name": "stdout",
          "text": [
            "Fine-tuning Epoch: 16, Loss: 0.6219, Accuracy: 55.02%\n"
          ]
        },
        {
          "output_type": "stream",
          "name": "stderr",
          "text": [
            "\r 48%|████▊     | 29/60 [00:10<00:08,  3.69it/s]"
          ]
        },
        {
          "output_type": "stream",
          "name": "stdout",
          "text": [
            "Fine-tuning Epoch: 16, Loss: 0.6428, Accuracy: 55.28%\n"
          ]
        },
        {
          "output_type": "stream",
          "name": "stderr",
          "text": [
            " 52%|█████▏    | 31/60 [00:10<00:07,  3.82it/s]"
          ]
        },
        {
          "output_type": "stream",
          "name": "stdout",
          "text": [
            "Fine-tuning Epoch: 16, Loss: 0.6651, Accuracy: 55.31%\n",
            "Fine-tuning Epoch: 16, Loss: 0.6869, Accuracy: 55.54%\n"
          ]
        },
        {
          "output_type": "stream",
          "name": "stderr",
          "text": [
            "\r 53%|█████▎    | 32/60 [00:11<00:08,  3.46it/s]"
          ]
        },
        {
          "output_type": "stream",
          "name": "stdout",
          "text": [
            "Fine-tuning Epoch: 16, Loss: 0.7071, Accuracy: 55.57%\n"
          ]
        },
        {
          "output_type": "stream",
          "name": "stderr",
          "text": [
            "\r 55%|█████▌    | 33/60 [00:11<00:07,  3.41it/s]"
          ]
        },
        {
          "output_type": "stream",
          "name": "stdout",
          "text": [
            "Fine-tuning Epoch: 16, Loss: 0.7296, Accuracy: 55.68%\n"
          ]
        },
        {
          "output_type": "stream",
          "name": "stderr",
          "text": [
            "\r 57%|█████▋    | 34/60 [00:11<00:08,  3.05it/s]"
          ]
        },
        {
          "output_type": "stream",
          "name": "stdout",
          "text": [
            "Fine-tuning Epoch: 16, Loss: 0.7500, Accuracy: 55.70%\n"
          ]
        },
        {
          "output_type": "stream",
          "name": "stderr",
          "text": [
            "\r 58%|█████▊    | 35/60 [00:11<00:07,  3.37it/s]"
          ]
        },
        {
          "output_type": "stream",
          "name": "stdout",
          "text": [
            "Fine-tuning Epoch: 16, Loss: 0.7697, Accuracy: 55.80%\n"
          ]
        },
        {
          "output_type": "stream",
          "name": "stderr",
          "text": [
            "\r 60%|██████    | 36/60 [00:12<00:07,  3.27it/s]"
          ]
        },
        {
          "output_type": "stream",
          "name": "stdout",
          "text": [
            "Fine-tuning Epoch: 16, Loss: 0.7958, Accuracy: 55.47%\n"
          ]
        },
        {
          "output_type": "stream",
          "name": "stderr",
          "text": [
            "\r 62%|██████▏   | 37/60 [00:12<00:06,  3.43it/s]"
          ]
        },
        {
          "output_type": "stream",
          "name": "stdout",
          "text": [
            "Fine-tuning Epoch: 16, Loss: 0.8129, Accuracy: 55.91%\n"
          ]
        },
        {
          "output_type": "stream",
          "name": "stderr",
          "text": [
            "\r 63%|██████▎   | 38/60 [00:12<00:06,  3.42it/s]"
          ]
        },
        {
          "output_type": "stream",
          "name": "stdout",
          "text": [
            "Fine-tuning Epoch: 16, Loss: 0.8331, Accuracy: 55.84%\n"
          ]
        },
        {
          "output_type": "stream",
          "name": "stderr",
          "text": [
            "\r 65%|██████▌   | 39/60 [00:13<00:06,  3.49it/s]"
          ]
        },
        {
          "output_type": "stream",
          "name": "stdout",
          "text": [
            "Fine-tuning Epoch: 16, Loss: 0.8511, Accuracy: 56.09%\n"
          ]
        },
        {
          "output_type": "stream",
          "name": "stderr",
          "text": [
            "\r 67%|██████▋   | 40/60 [00:13<00:05,  3.49it/s]"
          ]
        },
        {
          "output_type": "stream",
          "name": "stdout",
          "text": [
            "Fine-tuning Epoch: 16, Loss: 0.8711, Accuracy: 56.25%\n"
          ]
        },
        {
          "output_type": "stream",
          "name": "stderr",
          "text": [
            "\r 68%|██████▊   | 41/60 [00:13<00:05,  3.74it/s]"
          ]
        },
        {
          "output_type": "stream",
          "name": "stdout",
          "text": [
            "Fine-tuning Epoch: 16, Loss: 0.8964, Accuracy: 56.25%\n"
          ]
        },
        {
          "output_type": "stream",
          "name": "stderr",
          "text": [
            " 72%|███████▏  | 43/60 [00:14<00:04,  3.90it/s]"
          ]
        },
        {
          "output_type": "stream",
          "name": "stdout",
          "text": [
            "Fine-tuning Epoch: 16, Loss: 0.9164, Accuracy: 56.40%\n",
            "Fine-tuning Epoch: 16, Loss: 0.9411, Accuracy: 56.25%\n"
          ]
        },
        {
          "output_type": "stream",
          "name": "stderr",
          "text": [
            "\r 73%|███████▎  | 44/60 [00:14<00:04,  3.51it/s]"
          ]
        },
        {
          "output_type": "stream",
          "name": "stdout",
          "text": [
            "Fine-tuning Epoch: 16, Loss: 0.9628, Accuracy: 56.39%\n"
          ]
        },
        {
          "output_type": "stream",
          "name": "stderr",
          "text": [
            "\r 75%|███████▌  | 45/60 [00:14<00:03,  3.77it/s]"
          ]
        },
        {
          "output_type": "stream",
          "name": "stdout",
          "text": [
            "Fine-tuning Epoch: 16, Loss: 0.9803, Accuracy: 56.60%\n"
          ]
        },
        {
          "output_type": "stream",
          "name": "stderr",
          "text": [
            "\r 77%|███████▋  | 46/60 [00:15<00:05,  2.76it/s]"
          ]
        },
        {
          "output_type": "stream",
          "name": "stdout",
          "text": [
            "Fine-tuning Epoch: 16, Loss: 0.9960, Accuracy: 56.86%\n"
          ]
        },
        {
          "output_type": "stream",
          "name": "stderr",
          "text": [
            "\r 78%|███████▊  | 47/60 [00:15<00:04,  2.75it/s]"
          ]
        },
        {
          "output_type": "stream",
          "name": "stdout",
          "text": [
            "Fine-tuning Epoch: 16, Loss: 1.0181, Accuracy: 56.65%\n"
          ]
        },
        {
          "output_type": "stream",
          "name": "stderr",
          "text": [
            "\r 80%|████████  | 48/60 [00:16<00:04,  2.43it/s]"
          ]
        },
        {
          "output_type": "stream",
          "name": "stdout",
          "text": [
            "Fine-tuning Epoch: 16, Loss: 1.0391, Accuracy: 56.58%\n"
          ]
        },
        {
          "output_type": "stream",
          "name": "stderr",
          "text": [
            "\r 82%|████████▏ | 49/60 [00:16<00:04,  2.35it/s]"
          ]
        },
        {
          "output_type": "stream",
          "name": "stdout",
          "text": [
            "Fine-tuning Epoch: 16, Loss: 1.0573, Accuracy: 56.57%\n"
          ]
        },
        {
          "output_type": "stream",
          "name": "stderr",
          "text": [
            "\r 83%|████████▎ | 50/60 [00:17<00:04,  2.37it/s]"
          ]
        },
        {
          "output_type": "stream",
          "name": "stdout",
          "text": [
            "Fine-tuning Epoch: 16, Loss: 1.0719, Accuracy: 56.94%\n"
          ]
        },
        {
          "output_type": "stream",
          "name": "stderr",
          "text": [
            "\r 85%|████████▌ | 51/60 [00:17<00:03,  2.28it/s]"
          ]
        },
        {
          "output_type": "stream",
          "name": "stdout",
          "text": [
            "Fine-tuning Epoch: 16, Loss: 1.0963, Accuracy: 56.86%\n"
          ]
        },
        {
          "output_type": "stream",
          "name": "stderr",
          "text": [
            "\r 87%|████████▋ | 52/60 [00:17<00:03,  2.63it/s]"
          ]
        },
        {
          "output_type": "stream",
          "name": "stdout",
          "text": [
            "Fine-tuning Epoch: 16, Loss: 1.1170, Accuracy: 56.79%\n"
          ]
        },
        {
          "output_type": "stream",
          "name": "stderr",
          "text": [
            "\r 88%|████████▊ | 53/60 [00:18<00:03,  2.13it/s]"
          ]
        },
        {
          "output_type": "stream",
          "name": "stdout",
          "text": [
            "Fine-tuning Epoch: 16, Loss: 1.1385, Accuracy: 56.78%\n"
          ]
        },
        {
          "output_type": "stream",
          "name": "stderr",
          "text": [
            "\r 90%|█████████ | 54/60 [00:18<00:02,  2.39it/s]"
          ]
        },
        {
          "output_type": "stream",
          "name": "stdout",
          "text": [
            "Fine-tuning Epoch: 16, Loss: 1.1606, Accuracy: 56.83%\n"
          ]
        },
        {
          "output_type": "stream",
          "name": "stderr",
          "text": [
            "\r 92%|█████████▏| 55/60 [00:19<00:02,  2.09it/s]"
          ]
        },
        {
          "output_type": "stream",
          "name": "stdout",
          "text": [
            "Fine-tuning Epoch: 16, Loss: 1.1837, Accuracy: 56.76%\n"
          ]
        },
        {
          "output_type": "stream",
          "name": "stderr",
          "text": [
            "\r 93%|█████████▎| 56/60 [00:19<00:01,  2.45it/s]"
          ]
        },
        {
          "output_type": "stream",
          "name": "stdout",
          "text": [
            "Fine-tuning Epoch: 16, Loss: 1.2010, Accuracy: 57.03%\n"
          ]
        },
        {
          "output_type": "stream",
          "name": "stderr",
          "text": [
            " 97%|█████████▋| 58/60 [00:20<00:00,  2.85it/s]"
          ]
        },
        {
          "output_type": "stream",
          "name": "stdout",
          "text": [
            "Fine-tuning Epoch: 16, Loss: 1.2234, Accuracy: 57.07%\n",
            "Fine-tuning Epoch: 16, Loss: 1.2391, Accuracy: 57.22%\n"
          ]
        },
        {
          "output_type": "stream",
          "name": "stderr",
          "text": [
            "100%|██████████| 60/60 [00:20<00:00,  2.88it/s]\n"
          ]
        },
        {
          "output_type": "stream",
          "name": "stdout",
          "text": [
            "Fine-tuning Epoch: 16, Loss: 1.2591, Accuracy: 57.20%\n",
            "Fine-tuning Epoch: 16, Loss: 1.2908, Accuracy: 57.14%\n"
          ]
        },
        {
          "output_type": "stream",
          "name": "stderr",
          "text": [
            "  3%|▎         | 2/60 [00:00<00:20,  2.85it/s]"
          ]
        },
        {
          "output_type": "stream",
          "name": "stdout",
          "text": [
            "Fine-tuning Epoch: 17, Loss: 0.0159, Accuracy: 62.50%\n",
            "Fine-tuning Epoch: 17, Loss: 0.0346, Accuracy: 64.06%\n"
          ]
        },
        {
          "output_type": "stream",
          "name": "stderr",
          "text": [
            "  7%|▋         | 4/60 [00:01<00:15,  3.55it/s]"
          ]
        },
        {
          "output_type": "stream",
          "name": "stdout",
          "text": [
            "Fine-tuning Epoch: 17, Loss: 0.0539, Accuracy: 60.42%\n",
            "Fine-tuning Epoch: 17, Loss: 0.0734, Accuracy: 60.16%\n"
          ]
        },
        {
          "output_type": "stream",
          "name": "stderr",
          "text": [
            " 10%|█         | 6/60 [00:01<00:14,  3.77it/s]"
          ]
        },
        {
          "output_type": "stream",
          "name": "stdout",
          "text": [
            "Fine-tuning Epoch: 17, Loss: 0.0939, Accuracy: 60.62%\n",
            "Fine-tuning Epoch: 17, Loss: 0.1132, Accuracy: 60.94%\n"
          ]
        },
        {
          "output_type": "stream",
          "name": "stderr",
          "text": [
            " 13%|█▎        | 8/60 [00:02<00:13,  3.85it/s]"
          ]
        },
        {
          "output_type": "stream",
          "name": "stdout",
          "text": [
            "Fine-tuning Epoch: 17, Loss: 0.1331, Accuracy: 62.05%\n",
            "Fine-tuning Epoch: 17, Loss: 0.1546, Accuracy: 61.72%\n"
          ]
        },
        {
          "output_type": "stream",
          "name": "stderr",
          "text": [
            " 17%|█▋        | 10/60 [00:03<00:12,  3.95it/s]"
          ]
        },
        {
          "output_type": "stream",
          "name": "stdout",
          "text": [
            "Fine-tuning Epoch: 17, Loss: 0.1759, Accuracy: 61.11%\n",
            "Fine-tuning Epoch: 17, Loss: 0.1972, Accuracy: 60.00%\n"
          ]
        },
        {
          "output_type": "stream",
          "name": "stderr",
          "text": [
            " 20%|██        | 12/60 [00:03<00:11,  4.01it/s]"
          ]
        },
        {
          "output_type": "stream",
          "name": "stdout",
          "text": [
            "Fine-tuning Epoch: 17, Loss: 0.2194, Accuracy: 59.94%\n",
            "Fine-tuning Epoch: 17, Loss: 0.2432, Accuracy: 58.85%\n"
          ]
        },
        {
          "output_type": "stream",
          "name": "stderr",
          "text": [
            " 23%|██▎       | 14/60 [00:04<00:11,  4.05it/s]"
          ]
        },
        {
          "output_type": "stream",
          "name": "stdout",
          "text": [
            "Fine-tuning Epoch: 17, Loss: 0.2597, Accuracy: 59.86%\n",
            "Fine-tuning Epoch: 17, Loss: 0.2810, Accuracy: 59.15%\n"
          ]
        },
        {
          "output_type": "stream",
          "name": "stderr",
          "text": [
            " 27%|██▋       | 16/60 [00:04<00:10,  4.10it/s]"
          ]
        },
        {
          "output_type": "stream",
          "name": "stdout",
          "text": [
            "Fine-tuning Epoch: 17, Loss: 0.3016, Accuracy: 59.79%\n",
            "Fine-tuning Epoch: 17, Loss: 0.3278, Accuracy: 58.59%\n"
          ]
        },
        {
          "output_type": "stream",
          "name": "stderr",
          "text": [
            " 30%|███       | 18/60 [00:05<00:10,  4.04it/s]"
          ]
        },
        {
          "output_type": "stream",
          "name": "stdout",
          "text": [
            "Fine-tuning Epoch: 17, Loss: 0.3483, Accuracy: 58.46%\n",
            "Fine-tuning Epoch: 17, Loss: 0.3648, Accuracy: 59.20%\n"
          ]
        },
        {
          "output_type": "stream",
          "name": "stderr",
          "text": [
            " 33%|███▎      | 20/60 [00:05<00:09,  4.10it/s]"
          ]
        },
        {
          "output_type": "stream",
          "name": "stdout",
          "text": [
            "Fine-tuning Epoch: 17, Loss: 0.3853, Accuracy: 59.05%\n",
            "Fine-tuning Epoch: 17, Loss: 0.4054, Accuracy: 59.06%\n"
          ]
        },
        {
          "output_type": "stream",
          "name": "stderr",
          "text": [
            " 37%|███▋      | 22/60 [00:06<00:09,  4.03it/s]"
          ]
        },
        {
          "output_type": "stream",
          "name": "stdout",
          "text": [
            "Fine-tuning Epoch: 17, Loss: 0.4265, Accuracy: 59.38%\n",
            "Fine-tuning Epoch: 17, Loss: 0.4448, Accuracy: 59.66%\n"
          ]
        },
        {
          "output_type": "stream",
          "name": "stderr",
          "text": [
            " 40%|████      | 24/60 [00:06<00:09,  3.94it/s]"
          ]
        },
        {
          "output_type": "stream",
          "name": "stdout",
          "text": [
            "Fine-tuning Epoch: 17, Loss: 0.4676, Accuracy: 59.24%\n",
            "Fine-tuning Epoch: 17, Loss: 0.4872, Accuracy: 59.24%\n"
          ]
        },
        {
          "output_type": "stream",
          "name": "stderr",
          "text": [
            " 43%|████▎     | 26/60 [00:07<00:08,  4.05it/s]"
          ]
        },
        {
          "output_type": "stream",
          "name": "stdout",
          "text": [
            "Fine-tuning Epoch: 17, Loss: 0.5155, Accuracy: 58.75%\n",
            "Fine-tuning Epoch: 17, Loss: 0.5403, Accuracy: 58.53%\n"
          ]
        },
        {
          "output_type": "stream",
          "name": "stderr",
          "text": [
            " 47%|████▋     | 28/60 [00:07<00:07,  4.20it/s]"
          ]
        },
        {
          "output_type": "stream",
          "name": "stdout",
          "text": [
            "Fine-tuning Epoch: 17, Loss: 0.5567, Accuracy: 59.03%\n",
            "Fine-tuning Epoch: 17, Loss: 0.5775, Accuracy: 59.04%\n"
          ]
        },
        {
          "output_type": "stream",
          "name": "stderr",
          "text": [
            " 50%|█████     | 30/60 [00:08<00:07,  4.13it/s]"
          ]
        },
        {
          "output_type": "stream",
          "name": "stdout",
          "text": [
            "Fine-tuning Epoch: 17, Loss: 0.5964, Accuracy: 58.94%\n",
            "Fine-tuning Epoch: 17, Loss: 0.6121, Accuracy: 59.48%\n"
          ]
        },
        {
          "output_type": "stream",
          "name": "stderr",
          "text": [
            " 53%|█████▎    | 32/60 [00:09<00:06,  4.00it/s]"
          ]
        },
        {
          "output_type": "stream",
          "name": "stdout",
          "text": [
            "Fine-tuning Epoch: 17, Loss: 0.6414, Accuracy: 59.48%\n",
            "Fine-tuning Epoch: 17, Loss: 0.6642, Accuracy: 59.28%\n"
          ]
        },
        {
          "output_type": "stream",
          "name": "stderr",
          "text": [
            " 57%|█████▋    | 34/60 [00:09<00:07,  3.26it/s]"
          ]
        },
        {
          "output_type": "stream",
          "name": "stdout",
          "text": [
            "Fine-tuning Epoch: 17, Loss: 0.6849, Accuracy: 59.38%\n",
            "Fine-tuning Epoch: 17, Loss: 0.7007, Accuracy: 59.65%\n"
          ]
        },
        {
          "output_type": "stream",
          "name": "stderr",
          "text": [
            "\r 58%|█████▊    | 35/60 [00:10<00:10,  2.33it/s]"
          ]
        },
        {
          "output_type": "stream",
          "name": "stdout",
          "text": [
            "Fine-tuning Epoch: 17, Loss: 0.7215, Accuracy: 59.46%\n"
          ]
        },
        {
          "output_type": "stream",
          "name": "stderr",
          "text": [
            "\r 60%|██████    | 36/60 [00:10<00:08,  2.68it/s]"
          ]
        },
        {
          "output_type": "stream",
          "name": "stdout",
          "text": [
            "Fine-tuning Epoch: 17, Loss: 0.7350, Accuracy: 59.98%\n"
          ]
        },
        {
          "output_type": "stream",
          "name": "stderr",
          "text": [
            " 63%|██████▎   | 38/60 [00:11<00:08,  2.54it/s]"
          ]
        },
        {
          "output_type": "stream",
          "name": "stdout",
          "text": [
            "Fine-tuning Epoch: 17, Loss: 0.7589, Accuracy: 59.88%\n",
            "Fine-tuning Epoch: 17, Loss: 0.7798, Accuracy: 60.12%\n"
          ]
        },
        {
          "output_type": "stream",
          "name": "stderr",
          "text": [
            "\r 65%|██████▌   | 39/60 [00:12<00:09,  2.19it/s]"
          ]
        },
        {
          "output_type": "stream",
          "name": "stdout",
          "text": [
            "Fine-tuning Epoch: 17, Loss: 0.7983, Accuracy: 60.42%\n"
          ]
        },
        {
          "output_type": "stream",
          "name": "stderr",
          "text": [
            "\r 67%|██████▋   | 40/60 [00:12<00:07,  2.52it/s]"
          ]
        },
        {
          "output_type": "stream",
          "name": "stdout",
          "text": [
            "Fine-tuning Epoch: 17, Loss: 0.8179, Accuracy: 60.16%\n"
          ]
        },
        {
          "output_type": "stream",
          "name": "stderr",
          "text": [
            "\r 68%|██████▊   | 41/60 [00:13<00:08,  2.28it/s]"
          ]
        },
        {
          "output_type": "stream",
          "name": "stdout",
          "text": [
            "Fine-tuning Epoch: 17, Loss: 0.8388, Accuracy: 60.21%\n"
          ]
        },
        {
          "output_type": "stream",
          "name": "stderr",
          "text": [
            "\r 70%|███████   | 42/60 [00:13<00:08,  2.23it/s]"
          ]
        },
        {
          "output_type": "stream",
          "name": "stdout",
          "text": [
            "Fine-tuning Epoch: 17, Loss: 0.8585, Accuracy: 59.97%\n"
          ]
        },
        {
          "output_type": "stream",
          "name": "stderr",
          "text": [
            "\r 72%|███████▏  | 43/60 [00:14<00:07,  2.21it/s]"
          ]
        },
        {
          "output_type": "stream",
          "name": "stdout",
          "text": [
            "Fine-tuning Epoch: 17, Loss: 0.8776, Accuracy: 59.96%\n"
          ]
        },
        {
          "output_type": "stream",
          "name": "stderr",
          "text": [
            "\r 73%|███████▎  | 44/60 [00:14<00:06,  2.50it/s]"
          ]
        },
        {
          "output_type": "stream",
          "name": "stdout",
          "text": [
            "Fine-tuning Epoch: 17, Loss: 0.8928, Accuracy: 60.16%\n"
          ]
        },
        {
          "output_type": "stream",
          "name": "stderr",
          "text": [
            "\r 75%|███████▌  | 45/60 [00:14<00:05,  2.86it/s]"
          ]
        },
        {
          "output_type": "stream",
          "name": "stdout",
          "text": [
            "Fine-tuning Epoch: 17, Loss: 0.9140, Accuracy: 60.21%\n"
          ]
        },
        {
          "output_type": "stream",
          "name": "stderr",
          "text": [
            "\r 77%|███████▋  | 46/60 [00:14<00:04,  2.83it/s]"
          ]
        },
        {
          "output_type": "stream",
          "name": "stdout",
          "text": [
            "Fine-tuning Epoch: 17, Loss: 0.9312, Accuracy: 60.39%\n"
          ]
        },
        {
          "output_type": "stream",
          "name": "stderr",
          "text": [
            "\r 78%|███████▊  | 47/60 [00:15<00:04,  3.00it/s]"
          ]
        },
        {
          "output_type": "stream",
          "name": "stdout",
          "text": [
            "Fine-tuning Epoch: 17, Loss: 0.9602, Accuracy: 59.84%\n"
          ]
        },
        {
          "output_type": "stream",
          "name": "stderr",
          "text": [
            "\r 80%|████████  | 48/60 [00:15<00:03,  3.37it/s]"
          ]
        },
        {
          "output_type": "stream",
          "name": "stdout",
          "text": [
            "Fine-tuning Epoch: 17, Loss: 0.9793, Accuracy: 59.77%\n"
          ]
        },
        {
          "output_type": "stream",
          "name": "stderr",
          "text": [
            "\r 82%|████████▏ | 49/60 [00:15<00:03,  3.17it/s]"
          ]
        },
        {
          "output_type": "stream",
          "name": "stdout",
          "text": [
            "Fine-tuning Epoch: 17, Loss: 0.9984, Accuracy: 59.76%\n"
          ]
        },
        {
          "output_type": "stream",
          "name": "stderr",
          "text": [
            "\r 83%|████████▎ | 50/60 [00:15<00:02,  3.53it/s]"
          ]
        },
        {
          "output_type": "stream",
          "name": "stdout",
          "text": [
            "Fine-tuning Epoch: 17, Loss: 1.0177, Accuracy: 59.69%\n"
          ]
        },
        {
          "output_type": "stream",
          "name": "stderr",
          "text": [
            " 87%|████████▋ | 52/60 [00:16<00:02,  3.67it/s]"
          ]
        },
        {
          "output_type": "stream",
          "name": "stdout",
          "text": [
            "Fine-tuning Epoch: 17, Loss: 1.0429, Accuracy: 59.44%\n",
            "Fine-tuning Epoch: 17, Loss: 1.0657, Accuracy: 59.07%\n"
          ]
        },
        {
          "output_type": "stream",
          "name": "stderr",
          "text": [
            " 90%|█████████ | 54/60 [00:17<00:01,  3.78it/s]"
          ]
        },
        {
          "output_type": "stream",
          "name": "stdout",
          "text": [
            "Fine-tuning Epoch: 17, Loss: 1.0845, Accuracy: 59.02%\n",
            "Fine-tuning Epoch: 17, Loss: 1.1045, Accuracy: 59.26%\n"
          ]
        },
        {
          "output_type": "stream",
          "name": "stderr",
          "text": [
            " 93%|█████████▎| 56/60 [00:17<00:01,  3.74it/s]"
          ]
        },
        {
          "output_type": "stream",
          "name": "stdout",
          "text": [
            "Fine-tuning Epoch: 17, Loss: 1.1263, Accuracy: 59.15%\n",
            "Fine-tuning Epoch: 17, Loss: 1.1469, Accuracy: 59.15%\n"
          ]
        },
        {
          "output_type": "stream",
          "name": "stderr",
          "text": [
            "\r 95%|█████████▌| 57/60 [00:17<00:00,  3.53it/s]"
          ]
        },
        {
          "output_type": "stream",
          "name": "stdout",
          "text": [
            "Fine-tuning Epoch: 17, Loss: 1.1667, Accuracy: 59.10%\n"
          ]
        },
        {
          "output_type": "stream",
          "name": "stderr",
          "text": [
            "\r 97%|█████████▋| 58/60 [00:18<00:00,  3.56it/s]"
          ]
        },
        {
          "output_type": "stream",
          "name": "stdout",
          "text": [
            "Fine-tuning Epoch: 17, Loss: 1.1898, Accuracy: 59.00%\n"
          ]
        },
        {
          "output_type": "stream",
          "name": "stderr",
          "text": [
            "100%|██████████| 60/60 [00:18<00:00,  3.99it/s]"
          ]
        },
        {
          "output_type": "stream",
          "name": "stdout",
          "text": [
            "Fine-tuning Epoch: 17, Loss: 1.2088, Accuracy: 59.00%\n",
            "Fine-tuning Epoch: 17, Loss: 1.2305, Accuracy: 59.06%\n"
          ]
        },
        {
          "output_type": "stream",
          "name": "stderr",
          "text": [
            "100%|██████████| 60/60 [00:18<00:00,  3.20it/s]\n",
            "  3%|▎         | 2/60 [00:00<00:21,  2.72it/s]"
          ]
        },
        {
          "output_type": "stream",
          "name": "stdout",
          "text": [
            "Fine-tuning Epoch: 18, Loss: 0.0184, Accuracy: 59.38%\n",
            "Fine-tuning Epoch: 18, Loss: 0.0402, Accuracy: 59.38%\n"
          ]
        },
        {
          "output_type": "stream",
          "name": "stderr",
          "text": [
            "  7%|▋         | 4/60 [00:01<00:16,  3.42it/s]"
          ]
        },
        {
          "output_type": "stream",
          "name": "stdout",
          "text": [
            "Fine-tuning Epoch: 18, Loss: 0.0639, Accuracy: 56.25%\n",
            "Fine-tuning Epoch: 18, Loss: 0.0817, Accuracy: 60.94%\n"
          ]
        },
        {
          "output_type": "stream",
          "name": "stderr",
          "text": [
            " 10%|█         | 6/60 [00:01<00:14,  3.69it/s]"
          ]
        },
        {
          "output_type": "stream",
          "name": "stdout",
          "text": [
            "Fine-tuning Epoch: 18, Loss: 0.1009, Accuracy: 60.00%\n",
            "Fine-tuning Epoch: 18, Loss: 0.1246, Accuracy: 58.33%\n"
          ]
        },
        {
          "output_type": "stream",
          "name": "stderr",
          "text": [
            " 13%|█▎        | 8/60 [00:02<00:12,  4.02it/s]"
          ]
        },
        {
          "output_type": "stream",
          "name": "stdout",
          "text": [
            "Fine-tuning Epoch: 18, Loss: 0.1457, Accuracy: 58.48%\n",
            "Fine-tuning Epoch: 18, Loss: 0.1733, Accuracy: 57.42%\n"
          ]
        },
        {
          "output_type": "stream",
          "name": "stderr",
          "text": [
            " 17%|█▋        | 10/60 [00:03<00:12,  4.09it/s]"
          ]
        },
        {
          "output_type": "stream",
          "name": "stdout",
          "text": [
            "Fine-tuning Epoch: 18, Loss: 0.1894, Accuracy: 59.03%\n",
            "Fine-tuning Epoch: 18, Loss: 0.2155, Accuracy: 57.81%\n"
          ]
        },
        {
          "output_type": "stream",
          "name": "stderr",
          "text": [
            " 20%|██        | 12/60 [00:03<00:12,  3.95it/s]"
          ]
        },
        {
          "output_type": "stream",
          "name": "stdout",
          "text": [
            "Fine-tuning Epoch: 18, Loss: 0.2345, Accuracy: 58.24%\n",
            "Fine-tuning Epoch: 18, Loss: 0.2636, Accuracy: 57.03%\n"
          ]
        },
        {
          "output_type": "stream",
          "name": "stderr",
          "text": [
            " 23%|██▎       | 14/60 [00:04<00:11,  4.17it/s]"
          ]
        },
        {
          "output_type": "stream",
          "name": "stdout",
          "text": [
            "Fine-tuning Epoch: 18, Loss: 0.2901, Accuracy: 56.73%\n",
            "Fine-tuning Epoch: 18, Loss: 0.3114, Accuracy: 56.70%\n"
          ]
        },
        {
          "output_type": "stream",
          "name": "stderr",
          "text": [
            " 27%|██▋       | 16/60 [00:04<00:11,  3.97it/s]"
          ]
        },
        {
          "output_type": "stream",
          "name": "stdout",
          "text": [
            "Fine-tuning Epoch: 18, Loss: 0.3317, Accuracy: 57.08%\n",
            "Fine-tuning Epoch: 18, Loss: 0.3565, Accuracy: 56.25%\n"
          ]
        },
        {
          "output_type": "stream",
          "name": "stderr",
          "text": [
            " 30%|███       | 18/60 [00:05<00:10,  4.10it/s]"
          ]
        },
        {
          "output_type": "stream",
          "name": "stdout",
          "text": [
            "Fine-tuning Epoch: 18, Loss: 0.3780, Accuracy: 56.25%\n",
            "Fine-tuning Epoch: 18, Loss: 0.3980, Accuracy: 56.60%\n"
          ]
        },
        {
          "output_type": "stream",
          "name": "stderr",
          "text": [
            " 33%|███▎      | 20/60 [00:05<00:11,  3.50it/s]"
          ]
        },
        {
          "output_type": "stream",
          "name": "stdout",
          "text": [
            "Fine-tuning Epoch: 18, Loss: 0.4211, Accuracy: 56.74%\n",
            "Fine-tuning Epoch: 18, Loss: 0.4430, Accuracy: 56.41%\n"
          ]
        },
        {
          "output_type": "stream",
          "name": "stderr",
          "text": [
            " 37%|███▋      | 22/60 [00:06<00:13,  2.83it/s]"
          ]
        },
        {
          "output_type": "stream",
          "name": "stdout",
          "text": [
            "Fine-tuning Epoch: 18, Loss: 0.4633, Accuracy: 56.25%\n",
            "Fine-tuning Epoch: 18, Loss: 0.4857, Accuracy: 56.25%\n"
          ]
        },
        {
          "output_type": "stream",
          "name": "stderr",
          "text": [
            " 40%|████      | 24/60 [00:07<00:12,  2.78it/s]"
          ]
        },
        {
          "output_type": "stream",
          "name": "stdout",
          "text": [
            "Fine-tuning Epoch: 18, Loss: 0.5058, Accuracy: 56.39%\n",
            "Fine-tuning Epoch: 18, Loss: 0.5219, Accuracy: 56.90%\n"
          ]
        },
        {
          "output_type": "stream",
          "name": "stderr",
          "text": [
            " 43%|████▎     | 26/60 [00:08<00:12,  2.76it/s]"
          ]
        },
        {
          "output_type": "stream",
          "name": "stdout",
          "text": [
            "Fine-tuning Epoch: 18, Loss: 0.5421, Accuracy: 56.75%\n",
            "Fine-tuning Epoch: 18, Loss: 0.5633, Accuracy: 56.73%\n"
          ]
        },
        {
          "output_type": "stream",
          "name": "stderr",
          "text": [
            " 47%|████▋     | 28/60 [00:09<00:12,  2.54it/s]"
          ]
        },
        {
          "output_type": "stream",
          "name": "stdout",
          "text": [
            "Fine-tuning Epoch: 18, Loss: 0.5809, Accuracy: 57.29%\n",
            "Fine-tuning Epoch: 18, Loss: 0.5999, Accuracy: 57.25%\n"
          ]
        },
        {
          "output_type": "stream",
          "name": "stderr",
          "text": [
            " 50%|█████     | 30/60 [00:10<00:11,  2.67it/s]"
          ]
        },
        {
          "output_type": "stream",
          "name": "stdout",
          "text": [
            "Fine-tuning Epoch: 18, Loss: 0.6185, Accuracy: 57.33%\n",
            "Fine-tuning Epoch: 18, Loss: 0.6426, Accuracy: 56.98%\n"
          ]
        },
        {
          "output_type": "stream",
          "name": "stderr",
          "text": [
            " 53%|█████▎    | 32/60 [00:10<00:08,  3.42it/s]"
          ]
        },
        {
          "output_type": "stream",
          "name": "stdout",
          "text": [
            "Fine-tuning Epoch: 18, Loss: 0.6608, Accuracy: 56.96%\n",
            "Fine-tuning Epoch: 18, Loss: 0.6821, Accuracy: 57.32%\n"
          ]
        },
        {
          "output_type": "stream",
          "name": "stderr",
          "text": [
            " 57%|█████▋    | 34/60 [00:11<00:07,  3.65it/s]"
          ]
        },
        {
          "output_type": "stream",
          "name": "stdout",
          "text": [
            "Fine-tuning Epoch: 18, Loss: 0.7012, Accuracy: 57.48%\n",
            "Fine-tuning Epoch: 18, Loss: 0.7253, Accuracy: 57.08%\n"
          ]
        },
        {
          "output_type": "stream",
          "name": "stderr",
          "text": [
            " 60%|██████    | 36/60 [00:11<00:06,  3.82it/s]"
          ]
        },
        {
          "output_type": "stream",
          "name": "stdout",
          "text": [
            "Fine-tuning Epoch: 18, Loss: 0.7388, Accuracy: 57.86%\n",
            "Fine-tuning Epoch: 18, Loss: 0.7577, Accuracy: 57.90%\n"
          ]
        },
        {
          "output_type": "stream",
          "name": "stderr",
          "text": [
            " 63%|██████▎   | 38/60 [00:12<00:05,  3.76it/s]"
          ]
        },
        {
          "output_type": "stream",
          "name": "stdout",
          "text": [
            "Fine-tuning Epoch: 18, Loss: 0.7749, Accuracy: 58.11%\n",
            "Fine-tuning Epoch: 18, Loss: 0.8020, Accuracy: 57.89%\n"
          ]
        },
        {
          "output_type": "stream",
          "name": "stderr",
          "text": [
            " 67%|██████▋   | 40/60 [00:13<00:05,  3.87it/s]"
          ]
        },
        {
          "output_type": "stream",
          "name": "stdout",
          "text": [
            "Fine-tuning Epoch: 18, Loss: 0.8212, Accuracy: 57.77%\n",
            "Fine-tuning Epoch: 18, Loss: 0.8426, Accuracy: 57.73%\n"
          ]
        },
        {
          "output_type": "stream",
          "name": "stderr",
          "text": [
            " 70%|███████   | 42/60 [00:13<00:04,  3.94it/s]"
          ]
        },
        {
          "output_type": "stream",
          "name": "stdout",
          "text": [
            "Fine-tuning Epoch: 18, Loss: 0.8634, Accuracy: 57.70%\n",
            "Fine-tuning Epoch: 18, Loss: 0.8848, Accuracy: 57.74%\n"
          ]
        },
        {
          "output_type": "stream",
          "name": "stderr",
          "text": [
            " 73%|███████▎  | 44/60 [00:14<00:03,  4.12it/s]"
          ]
        },
        {
          "output_type": "stream",
          "name": "stdout",
          "text": [
            "Fine-tuning Epoch: 18, Loss: 0.9069, Accuracy: 57.63%\n",
            "Fine-tuning Epoch: 18, Loss: 0.9271, Accuracy: 57.53%\n"
          ]
        },
        {
          "output_type": "stream",
          "name": "stderr",
          "text": [
            " 77%|███████▋  | 46/60 [00:14<00:03,  4.13it/s]"
          ]
        },
        {
          "output_type": "stream",
          "name": "stdout",
          "text": [
            "Fine-tuning Epoch: 18, Loss: 0.9445, Accuracy: 57.78%\n",
            "Fine-tuning Epoch: 18, Loss: 0.9619, Accuracy: 58.08%\n"
          ]
        },
        {
          "output_type": "stream",
          "name": "stderr",
          "text": [
            " 80%|████████  | 48/60 [00:15<00:03,  3.88it/s]"
          ]
        },
        {
          "output_type": "stream",
          "name": "stdout",
          "text": [
            "Fine-tuning Epoch: 18, Loss: 0.9841, Accuracy: 58.05%\n",
            "Fine-tuning Epoch: 18, Loss: 1.0108, Accuracy: 57.94%\n"
          ]
        },
        {
          "output_type": "stream",
          "name": "stderr",
          "text": [
            " 83%|████████▎ | 50/60 [00:15<00:02,  4.28it/s]"
          ]
        },
        {
          "output_type": "stream",
          "name": "stdout",
          "text": [
            "Fine-tuning Epoch: 18, Loss: 1.0252, Accuracy: 58.16%\n",
            "Fine-tuning Epoch: 18, Loss: 1.0486, Accuracy: 58.19%\n"
          ]
        },
        {
          "output_type": "stream",
          "name": "stderr",
          "text": [
            " 87%|████████▋ | 52/60 [00:16<00:01,  4.05it/s]"
          ]
        },
        {
          "output_type": "stream",
          "name": "stdout",
          "text": [
            "Fine-tuning Epoch: 18, Loss: 1.0739, Accuracy: 58.09%\n",
            "Fine-tuning Epoch: 18, Loss: 1.0945, Accuracy: 58.11%\n"
          ]
        },
        {
          "output_type": "stream",
          "name": "stderr",
          "text": [
            " 90%|█████████ | 54/60 [00:16<00:01,  3.99it/s]"
          ]
        },
        {
          "output_type": "stream",
          "name": "stdout",
          "text": [
            "Fine-tuning Epoch: 18, Loss: 1.1119, Accuracy: 58.14%\n",
            "Fine-tuning Epoch: 18, Loss: 1.1339, Accuracy: 58.28%\n"
          ]
        },
        {
          "output_type": "stream",
          "name": "stderr",
          "text": [
            " 93%|█████████▎| 56/60 [00:17<00:01,  4.00it/s]"
          ]
        },
        {
          "output_type": "stream",
          "name": "stdout",
          "text": [
            "Fine-tuning Epoch: 18, Loss: 1.1476, Accuracy: 58.30%\n",
            "Fine-tuning Epoch: 18, Loss: 1.1668, Accuracy: 58.37%\n"
          ]
        },
        {
          "output_type": "stream",
          "name": "stderr",
          "text": [
            " 97%|█████████▋| 58/60 [00:17<00:00,  4.16it/s]"
          ]
        },
        {
          "output_type": "stream",
          "name": "stdout",
          "text": [
            "Fine-tuning Epoch: 18, Loss: 1.1868, Accuracy: 58.39%\n",
            "Fine-tuning Epoch: 18, Loss: 1.2096, Accuracy: 58.46%\n"
          ]
        },
        {
          "output_type": "stream",
          "name": "stderr",
          "text": [
            "100%|██████████| 60/60 [00:18<00:00,  3.23it/s]\n"
          ]
        },
        {
          "output_type": "stream",
          "name": "stdout",
          "text": [
            "Fine-tuning Epoch: 18, Loss: 1.2337, Accuracy: 58.37%\n",
            "Fine-tuning Epoch: 18, Loss: 1.2536, Accuracy: 58.49%\n"
          ]
        },
        {
          "output_type": "stream",
          "name": "stderr",
          "text": [
            "  3%|▎         | 2/60 [00:00<00:20,  2.87it/s]"
          ]
        },
        {
          "output_type": "stream",
          "name": "stdout",
          "text": [
            "Fine-tuning Epoch: 19, Loss: 0.0190, Accuracy: 59.38%\n",
            "Fine-tuning Epoch: 19, Loss: 0.0373, Accuracy: 62.50%\n"
          ]
        },
        {
          "output_type": "stream",
          "name": "stderr",
          "text": [
            "  7%|▋         | 4/60 [00:01<00:15,  3.54it/s]"
          ]
        },
        {
          "output_type": "stream",
          "name": "stdout",
          "text": [
            "Fine-tuning Epoch: 19, Loss: 0.0601, Accuracy: 61.46%\n",
            "Fine-tuning Epoch: 19, Loss: 0.0766, Accuracy: 62.50%\n"
          ]
        },
        {
          "output_type": "stream",
          "name": "stderr",
          "text": [
            " 10%|█         | 6/60 [00:02<00:15,  3.41it/s]"
          ]
        },
        {
          "output_type": "stream",
          "name": "stdout",
          "text": [
            "Fine-tuning Epoch: 19, Loss: 0.0956, Accuracy: 61.25%\n",
            "Fine-tuning Epoch: 19, Loss: 0.1164, Accuracy: 60.94%\n"
          ]
        },
        {
          "output_type": "stream",
          "name": "stderr",
          "text": [
            " 13%|█▎        | 8/60 [00:02<00:17,  3.00it/s]"
          ]
        },
        {
          "output_type": "stream",
          "name": "stdout",
          "text": [
            "Fine-tuning Epoch: 19, Loss: 0.1371, Accuracy: 61.61%\n",
            "Fine-tuning Epoch: 19, Loss: 0.1531, Accuracy: 62.11%\n"
          ]
        },
        {
          "output_type": "stream",
          "name": "stderr",
          "text": [
            " 17%|█▋        | 10/60 [00:03<00:17,  2.86it/s]"
          ]
        },
        {
          "output_type": "stream",
          "name": "stdout",
          "text": [
            "Fine-tuning Epoch: 19, Loss: 0.1729, Accuracy: 62.50%\n",
            "Fine-tuning Epoch: 19, Loss: 0.1870, Accuracy: 62.81%\n"
          ]
        },
        {
          "output_type": "stream",
          "name": "stderr",
          "text": [
            " 20%|██        | 12/60 [00:04<00:17,  2.80it/s]"
          ]
        },
        {
          "output_type": "stream",
          "name": "stdout",
          "text": [
            "Fine-tuning Epoch: 19, Loss: 0.2075, Accuracy: 61.93%\n",
            "Fine-tuning Epoch: 19, Loss: 0.2258, Accuracy: 60.94%\n"
          ]
        },
        {
          "output_type": "stream",
          "name": "stderr",
          "text": [
            " 23%|██▎       | 14/60 [00:05<00:17,  2.57it/s]"
          ]
        },
        {
          "output_type": "stream",
          "name": "stdout",
          "text": [
            "Fine-tuning Epoch: 19, Loss: 0.2437, Accuracy: 61.30%\n",
            "Fine-tuning Epoch: 19, Loss: 0.2686, Accuracy: 60.27%\n"
          ]
        },
        {
          "output_type": "stream",
          "name": "stderr",
          "text": [
            " 27%|██▋       | 16/60 [00:06<00:16,  2.60it/s]"
          ]
        },
        {
          "output_type": "stream",
          "name": "stdout",
          "text": [
            "Fine-tuning Epoch: 19, Loss: 0.2910, Accuracy: 59.58%\n",
            "Fine-tuning Epoch: 19, Loss: 0.3089, Accuracy: 59.57%\n"
          ]
        },
        {
          "output_type": "stream",
          "name": "stderr",
          "text": [
            " 30%|███       | 18/60 [00:07<00:15,  2.72it/s]"
          ]
        },
        {
          "output_type": "stream",
          "name": "stdout",
          "text": [
            "Fine-tuning Epoch: 19, Loss: 0.3322, Accuracy: 59.56%\n",
            "Fine-tuning Epoch: 19, Loss: 0.3490, Accuracy: 59.72%\n"
          ]
        },
        {
          "output_type": "stream",
          "name": "stderr",
          "text": [
            " 33%|███▎      | 20/60 [00:07<00:12,  3.30it/s]"
          ]
        },
        {
          "output_type": "stream",
          "name": "stdout",
          "text": [
            "Fine-tuning Epoch: 19, Loss: 0.3742, Accuracy: 58.88%\n",
            "Fine-tuning Epoch: 19, Loss: 0.3963, Accuracy: 58.91%\n"
          ]
        },
        {
          "output_type": "stream",
          "name": "stderr",
          "text": [
            " 37%|███▋      | 22/60 [00:08<00:11,  3.38it/s]"
          ]
        },
        {
          "output_type": "stream",
          "name": "stdout",
          "text": [
            "Fine-tuning Epoch: 19, Loss: 0.4226, Accuracy: 59.08%\n",
            "Fine-tuning Epoch: 19, Loss: 0.4464, Accuracy: 58.95%\n"
          ]
        },
        {
          "output_type": "stream",
          "name": "stderr",
          "text": [
            " 40%|████      | 24/60 [00:08<00:09,  3.70it/s]"
          ]
        },
        {
          "output_type": "stream",
          "name": "stdout",
          "text": [
            "Fine-tuning Epoch: 19, Loss: 0.4667, Accuracy: 58.97%\n",
            "Fine-tuning Epoch: 19, Loss: 0.4891, Accuracy: 58.46%\n"
          ]
        },
        {
          "output_type": "stream",
          "name": "stderr",
          "text": [
            " 43%|████▎     | 26/60 [00:09<00:08,  3.83it/s]"
          ]
        },
        {
          "output_type": "stream",
          "name": "stdout",
          "text": [
            "Fine-tuning Epoch: 19, Loss: 0.5100, Accuracy: 58.38%\n",
            "Fine-tuning Epoch: 19, Loss: 0.5319, Accuracy: 58.53%\n"
          ]
        },
        {
          "output_type": "stream",
          "name": "stderr",
          "text": [
            " 47%|████▋     | 28/60 [00:10<00:08,  3.81it/s]"
          ]
        },
        {
          "output_type": "stream",
          "name": "stdout",
          "text": [
            "Fine-tuning Epoch: 19, Loss: 0.5454, Accuracy: 59.14%\n",
            "Fine-tuning Epoch: 19, Loss: 0.5622, Accuracy: 59.38%\n"
          ]
        },
        {
          "output_type": "stream",
          "name": "stderr",
          "text": [
            " 50%|█████     | 30/60 [00:10<00:07,  3.90it/s]"
          ]
        },
        {
          "output_type": "stream",
          "name": "stdout",
          "text": [
            "Fine-tuning Epoch: 19, Loss: 0.5838, Accuracy: 59.16%\n",
            "Fine-tuning Epoch: 19, Loss: 0.6044, Accuracy: 59.17%\n"
          ]
        },
        {
          "output_type": "stream",
          "name": "stderr",
          "text": [
            " 53%|█████▎    | 32/60 [00:11<00:07,  3.81it/s]"
          ]
        },
        {
          "output_type": "stream",
          "name": "stdout",
          "text": [
            "Fine-tuning Epoch: 19, Loss: 0.6221, Accuracy: 59.17%\n",
            "Fine-tuning Epoch: 19, Loss: 0.6433, Accuracy: 59.28%\n"
          ]
        },
        {
          "output_type": "stream",
          "name": "stderr",
          "text": [
            " 57%|█████▋    | 34/60 [00:11<00:06,  3.88it/s]"
          ]
        },
        {
          "output_type": "stream",
          "name": "stdout",
          "text": [
            "Fine-tuning Epoch: 19, Loss: 0.6621, Accuracy: 59.66%\n",
            "Fine-tuning Epoch: 19, Loss: 0.6934, Accuracy: 59.28%\n"
          ]
        },
        {
          "output_type": "stream",
          "name": "stderr",
          "text": [
            " 60%|██████    | 36/60 [00:12<00:06,  3.78it/s]"
          ]
        },
        {
          "output_type": "stream",
          "name": "stdout",
          "text": [
            "Fine-tuning Epoch: 19, Loss: 0.7109, Accuracy: 59.55%\n",
            "Fine-tuning Epoch: 19, Loss: 0.7293, Accuracy: 59.64%\n"
          ]
        },
        {
          "output_type": "stream",
          "name": "stderr",
          "text": [
            " 63%|██████▎   | 38/60 [00:12<00:05,  3.82it/s]"
          ]
        },
        {
          "output_type": "stream",
          "name": "stdout",
          "text": [
            "Fine-tuning Epoch: 19, Loss: 0.7535, Accuracy: 59.46%\n",
            "Fine-tuning Epoch: 19, Loss: 0.7783, Accuracy: 59.29%\n"
          ]
        },
        {
          "output_type": "stream",
          "name": "stderr",
          "text": [
            " 67%|██████▋   | 40/60 [00:13<00:04,  4.14it/s]"
          ]
        },
        {
          "output_type": "stream",
          "name": "stdout",
          "text": [
            "Fine-tuning Epoch: 19, Loss: 0.7929, Accuracy: 59.62%\n",
            "Fine-tuning Epoch: 19, Loss: 0.8206, Accuracy: 59.38%\n"
          ]
        },
        {
          "output_type": "stream",
          "name": "stderr",
          "text": [
            " 70%|███████   | 42/60 [00:13<00:04,  3.97it/s]"
          ]
        },
        {
          "output_type": "stream",
          "name": "stdout",
          "text": [
            "Fine-tuning Epoch: 19, Loss: 0.8484, Accuracy: 58.84%\n",
            "Fine-tuning Epoch: 19, Loss: 0.8693, Accuracy: 58.93%\n"
          ]
        },
        {
          "output_type": "stream",
          "name": "stderr",
          "text": [
            " 73%|███████▎  | 44/60 [00:14<00:04,  3.99it/s]"
          ]
        },
        {
          "output_type": "stream",
          "name": "stdout",
          "text": [
            "Fine-tuning Epoch: 19, Loss: 0.8926, Accuracy: 58.94%\n",
            "Fine-tuning Epoch: 19, Loss: 0.9175, Accuracy: 58.88%\n"
          ]
        },
        {
          "output_type": "stream",
          "name": "stderr",
          "text": [
            " 77%|███████▋  | 46/60 [00:15<00:03,  3.99it/s]"
          ]
        },
        {
          "output_type": "stream",
          "name": "stdout",
          "text": [
            "Fine-tuning Epoch: 19, Loss: 0.9450, Accuracy: 58.61%\n",
            "Fine-tuning Epoch: 19, Loss: 0.9621, Accuracy: 58.63%\n"
          ]
        },
        {
          "output_type": "stream",
          "name": "stderr",
          "text": [
            " 80%|████████  | 48/60 [00:15<00:03,  3.97it/s]"
          ]
        },
        {
          "output_type": "stream",
          "name": "stdout",
          "text": [
            "Fine-tuning Epoch: 19, Loss: 0.9818, Accuracy: 58.58%\n",
            "Fine-tuning Epoch: 19, Loss: 1.0022, Accuracy: 58.46%\n"
          ]
        },
        {
          "output_type": "stream",
          "name": "stderr",
          "text": [
            " 83%|████████▎ | 50/60 [00:16<00:02,  3.92it/s]"
          ]
        },
        {
          "output_type": "stream",
          "name": "stdout",
          "text": [
            "Fine-tuning Epoch: 19, Loss: 1.0185, Accuracy: 58.61%\n",
            "Fine-tuning Epoch: 19, Loss: 1.0355, Accuracy: 58.69%\n"
          ]
        },
        {
          "output_type": "stream",
          "name": "stderr",
          "text": [
            " 87%|████████▋ | 52/60 [00:16<00:02,  3.92it/s]"
          ]
        },
        {
          "output_type": "stream",
          "name": "stdout",
          "text": [
            "Fine-tuning Epoch: 19, Loss: 1.0601, Accuracy: 58.70%\n",
            "Fine-tuning Epoch: 19, Loss: 1.0825, Accuracy: 58.53%\n"
          ]
        },
        {
          "output_type": "stream",
          "name": "stderr",
          "text": [
            " 90%|█████████ | 54/60 [00:17<00:01,  3.21it/s]"
          ]
        },
        {
          "output_type": "stream",
          "name": "stdout",
          "text": [
            "Fine-tuning Epoch: 19, Loss: 1.0987, Accuracy: 58.79%\n",
            "Fine-tuning Epoch: 19, Loss: 1.1178, Accuracy: 58.91%\n"
          ]
        },
        {
          "output_type": "stream",
          "name": "stderr",
          "text": [
            " 93%|█████████▎| 56/60 [00:18<00:01,  2.97it/s]"
          ]
        },
        {
          "output_type": "stream",
          "name": "stdout",
          "text": [
            "Fine-tuning Epoch: 19, Loss: 1.1365, Accuracy: 59.09%\n",
            "Fine-tuning Epoch: 19, Loss: 1.1583, Accuracy: 59.15%\n"
          ]
        },
        {
          "output_type": "stream",
          "name": "stderr",
          "text": [
            " 97%|█████████▋| 58/60 [00:19<00:00,  2.81it/s]"
          ]
        },
        {
          "output_type": "stream",
          "name": "stdout",
          "text": [
            "Fine-tuning Epoch: 19, Loss: 1.1748, Accuracy: 59.32%\n",
            "Fine-tuning Epoch: 19, Loss: 1.1942, Accuracy: 59.38%\n"
          ]
        },
        {
          "output_type": "stream",
          "name": "stderr",
          "text": [
            "100%|██████████| 60/60 [00:19<00:00,  3.23it/s]"
          ]
        },
        {
          "output_type": "stream",
          "name": "stdout",
          "text": [
            "Fine-tuning Epoch: 19, Loss: 1.2120, Accuracy: 59.48%\n",
            "Fine-tuning Epoch: 19, Loss: 1.2334, Accuracy: 59.58%\n"
          ]
        },
        {
          "output_type": "stream",
          "name": "stderr",
          "text": [
            "100%|██████████| 60/60 [00:19<00:00,  3.01it/s]\n",
            "  3%|▎         | 2/60 [00:01<00:32,  1.80it/s]"
          ]
        },
        {
          "output_type": "stream",
          "name": "stdout",
          "text": [
            "Fine-tuning Epoch: 20, Loss: 0.0186, Accuracy: 62.50%\n",
            "Fine-tuning Epoch: 20, Loss: 0.0400, Accuracy: 64.06%\n"
          ]
        },
        {
          "output_type": "stream",
          "name": "stderr",
          "text": [
            "  7%|▋         | 4/60 [00:02<00:24,  2.27it/s]"
          ]
        },
        {
          "output_type": "stream",
          "name": "stdout",
          "text": [
            "Fine-tuning Epoch: 20, Loss: 0.0547, Accuracy: 65.62%\n",
            "Fine-tuning Epoch: 20, Loss: 0.0754, Accuracy: 62.50%\n"
          ]
        },
        {
          "output_type": "stream",
          "name": "stderr",
          "text": [
            " 10%|█         | 6/60 [00:02<00:18,  3.00it/s]"
          ]
        },
        {
          "output_type": "stream",
          "name": "stdout",
          "text": [
            "Fine-tuning Epoch: 20, Loss: 0.1044, Accuracy: 57.50%\n",
            "Fine-tuning Epoch: 20, Loss: 0.1242, Accuracy: 58.33%\n"
          ]
        },
        {
          "output_type": "stream",
          "name": "stderr",
          "text": [
            " 13%|█▎        | 8/60 [00:03<00:15,  3.33it/s]"
          ]
        },
        {
          "output_type": "stream",
          "name": "stdout",
          "text": [
            "Fine-tuning Epoch: 20, Loss: 0.1467, Accuracy: 58.48%\n",
            "Fine-tuning Epoch: 20, Loss: 0.1690, Accuracy: 58.98%\n"
          ]
        },
        {
          "output_type": "stream",
          "name": "stderr",
          "text": [
            " 17%|█▋        | 10/60 [00:03<00:13,  3.59it/s]"
          ]
        },
        {
          "output_type": "stream",
          "name": "stdout",
          "text": [
            "Fine-tuning Epoch: 20, Loss: 0.1878, Accuracy: 59.03%\n",
            "Fine-tuning Epoch: 20, Loss: 0.2151, Accuracy: 57.19%\n"
          ]
        },
        {
          "output_type": "stream",
          "name": "stderr",
          "text": [
            " 20%|██        | 12/60 [00:04<00:12,  3.78it/s]"
          ]
        },
        {
          "output_type": "stream",
          "name": "stdout",
          "text": [
            "Fine-tuning Epoch: 20, Loss: 0.2393, Accuracy: 56.53%\n",
            "Fine-tuning Epoch: 20, Loss: 0.2612, Accuracy: 57.29%\n"
          ]
        },
        {
          "output_type": "stream",
          "name": "stderr",
          "text": [
            " 23%|██▎       | 14/60 [00:05<00:11,  3.93it/s]"
          ]
        },
        {
          "output_type": "stream",
          "name": "stdout",
          "text": [
            "Fine-tuning Epoch: 20, Loss: 0.2820, Accuracy: 56.97%\n",
            "Fine-tuning Epoch: 20, Loss: 0.3036, Accuracy: 56.92%\n"
          ]
        },
        {
          "output_type": "stream",
          "name": "stderr",
          "text": [
            " 27%|██▋       | 16/60 [00:05<00:10,  4.21it/s]"
          ]
        },
        {
          "output_type": "stream",
          "name": "stdout",
          "text": [
            "Fine-tuning Epoch: 20, Loss: 0.3234, Accuracy: 57.50%\n",
            "Fine-tuning Epoch: 20, Loss: 0.3441, Accuracy: 57.23%\n"
          ]
        },
        {
          "output_type": "stream",
          "name": "stderr",
          "text": [
            " 30%|███       | 18/60 [00:06<00:09,  4.28it/s]"
          ]
        },
        {
          "output_type": "stream",
          "name": "stdout",
          "text": [
            "Fine-tuning Epoch: 20, Loss: 0.3640, Accuracy: 56.80%\n",
            "Fine-tuning Epoch: 20, Loss: 0.3836, Accuracy: 56.94%\n"
          ]
        },
        {
          "output_type": "stream",
          "name": "stderr",
          "text": [
            " 33%|███▎      | 20/60 [00:06<00:09,  4.22it/s]"
          ]
        },
        {
          "output_type": "stream",
          "name": "stdout",
          "text": [
            "Fine-tuning Epoch: 20, Loss: 0.4050, Accuracy: 57.07%\n",
            "Fine-tuning Epoch: 20, Loss: 0.4269, Accuracy: 57.19%\n"
          ]
        },
        {
          "output_type": "stream",
          "name": "stderr",
          "text": [
            " 37%|███▋      | 22/60 [00:07<00:09,  4.17it/s]"
          ]
        },
        {
          "output_type": "stream",
          "name": "stdout",
          "text": [
            "Fine-tuning Epoch: 20, Loss: 0.4461, Accuracy: 57.29%\n",
            "Fine-tuning Epoch: 20, Loss: 0.4652, Accuracy: 57.39%\n"
          ]
        },
        {
          "output_type": "stream",
          "name": "stderr",
          "text": [
            " 40%|████      | 24/60 [00:07<00:09,  3.91it/s]"
          ]
        },
        {
          "output_type": "stream",
          "name": "stdout",
          "text": [
            "Fine-tuning Epoch: 20, Loss: 0.4903, Accuracy: 57.20%\n",
            "Fine-tuning Epoch: 20, Loss: 0.5148, Accuracy: 56.77%\n"
          ]
        },
        {
          "output_type": "stream",
          "name": "stderr",
          "text": [
            " 43%|████▎     | 26/60 [00:08<00:08,  3.85it/s]"
          ]
        },
        {
          "output_type": "stream",
          "name": "stdout",
          "text": [
            "Fine-tuning Epoch: 20, Loss: 0.5369, Accuracy: 56.62%\n",
            "Fine-tuning Epoch: 20, Loss: 0.5644, Accuracy: 56.25%\n"
          ]
        },
        {
          "output_type": "stream",
          "name": "stderr",
          "text": [
            " 47%|████▋     | 28/60 [00:08<00:07,  4.20it/s]"
          ]
        },
        {
          "output_type": "stream",
          "name": "stdout",
          "text": [
            "Fine-tuning Epoch: 20, Loss: 0.5800, Accuracy: 56.60%\n",
            "Fine-tuning Epoch: 20, Loss: 0.5994, Accuracy: 56.92%\n"
          ]
        },
        {
          "output_type": "stream",
          "name": "stderr",
          "text": [
            " 50%|█████     | 30/60 [00:09<00:07,  3.93it/s]"
          ]
        },
        {
          "output_type": "stream",
          "name": "stdout",
          "text": [
            "Fine-tuning Epoch: 20, Loss: 0.6213, Accuracy: 57.11%\n",
            "Fine-tuning Epoch: 20, Loss: 0.6421, Accuracy: 57.19%\n"
          ]
        },
        {
          "output_type": "stream",
          "name": "stderr",
          "text": [
            "\r 52%|█████▏    | 31/60 [00:09<00:07,  3.70it/s]"
          ]
        },
        {
          "output_type": "stream",
          "name": "stdout",
          "text": [
            "Fine-tuning Epoch: 20, Loss: 0.6595, Accuracy: 57.76%\n"
          ]
        },
        {
          "output_type": "stream",
          "name": "stderr",
          "text": [
            "\r 53%|█████▎    | 32/60 [00:09<00:07,  3.70it/s]"
          ]
        },
        {
          "output_type": "stream",
          "name": "stdout",
          "text": [
            "Fine-tuning Epoch: 20, Loss: 0.6788, Accuracy: 58.11%\n"
          ]
        },
        {
          "output_type": "stream",
          "name": "stderr",
          "text": [
            "\r 55%|█████▌    | 33/60 [00:10<00:07,  3.77it/s]"
          ]
        },
        {
          "output_type": "stream",
          "name": "stdout",
          "text": [
            "Fine-tuning Epoch: 20, Loss: 0.7015, Accuracy: 58.14%\n"
          ]
        },
        {
          "output_type": "stream",
          "name": "stderr",
          "text": [
            "\r 57%|█████▋    | 34/60 [00:10<00:07,  3.71it/s]"
          ]
        },
        {
          "output_type": "stream",
          "name": "stdout",
          "text": [
            "Fine-tuning Epoch: 20, Loss: 0.7169, Accuracy: 58.64%\n"
          ]
        },
        {
          "output_type": "stream",
          "name": "stderr",
          "text": [
            "\r 58%|█████▊    | 35/60 [00:10<00:07,  3.50it/s]"
          ]
        },
        {
          "output_type": "stream",
          "name": "stdout",
          "text": [
            "Fine-tuning Epoch: 20, Loss: 0.7375, Accuracy: 58.66%\n"
          ]
        },
        {
          "output_type": "stream",
          "name": "stderr",
          "text": [
            "\r 60%|██████    | 36/60 [00:11<00:06,  3.65it/s]"
          ]
        },
        {
          "output_type": "stream",
          "name": "stdout",
          "text": [
            "Fine-tuning Epoch: 20, Loss: 0.7595, Accuracy: 58.68%\n"
          ]
        },
        {
          "output_type": "stream",
          "name": "stderr",
          "text": [
            "\r 62%|██████▏   | 37/60 [00:11<00:06,  3.59it/s]"
          ]
        },
        {
          "output_type": "stream",
          "name": "stdout",
          "text": [
            "Fine-tuning Epoch: 20, Loss: 0.7790, Accuracy: 58.78%\n"
          ]
        },
        {
          "output_type": "stream",
          "name": "stderr",
          "text": [
            "\r 63%|██████▎   | 38/60 [00:11<00:05,  3.72it/s]"
          ]
        },
        {
          "output_type": "stream",
          "name": "stdout",
          "text": [
            "Fine-tuning Epoch: 20, Loss: 0.7996, Accuracy: 58.55%\n"
          ]
        },
        {
          "output_type": "stream",
          "name": "stderr",
          "text": [
            "\r 65%|██████▌   | 39/60 [00:11<00:06,  3.41it/s]"
          ]
        },
        {
          "output_type": "stream",
          "name": "stdout",
          "text": [
            "Fine-tuning Epoch: 20, Loss: 0.8122, Accuracy: 58.97%\n"
          ]
        },
        {
          "output_type": "stream",
          "name": "stderr",
          "text": [
            "\r 67%|██████▋   | 40/60 [00:12<00:05,  3.44it/s]"
          ]
        },
        {
          "output_type": "stream",
          "name": "stdout",
          "text": [
            "Fine-tuning Epoch: 20, Loss: 0.8377, Accuracy: 58.20%\n"
          ]
        },
        {
          "output_type": "stream",
          "name": "stderr",
          "text": [
            "\r 68%|██████▊   | 41/60 [00:12<00:07,  2.59it/s]"
          ]
        },
        {
          "output_type": "stream",
          "name": "stdout",
          "text": [
            "Fine-tuning Epoch: 20, Loss: 0.8605, Accuracy: 58.23%\n"
          ]
        },
        {
          "output_type": "stream",
          "name": "stderr",
          "text": [
            "\r 70%|███████   | 42/60 [00:13<00:06,  2.86it/s]"
          ]
        },
        {
          "output_type": "stream",
          "name": "stdout",
          "text": [
            "Fine-tuning Epoch: 20, Loss: 0.8861, Accuracy: 58.11%\n"
          ]
        },
        {
          "output_type": "stream",
          "name": "stderr",
          "text": [
            "\r 72%|███████▏  | 43/60 [00:13<00:07,  2.36it/s]"
          ]
        },
        {
          "output_type": "stream",
          "name": "stdout",
          "text": [
            "Fine-tuning Epoch: 20, Loss: 0.9056, Accuracy: 58.07%\n"
          ]
        },
        {
          "output_type": "stream",
          "name": "stderr",
          "text": [
            "\r 73%|███████▎  | 44/60 [00:14<00:06,  2.47it/s]"
          ]
        },
        {
          "output_type": "stream",
          "name": "stdout",
          "text": [
            "Fine-tuning Epoch: 20, Loss: 0.9225, Accuracy: 58.17%\n"
          ]
        },
        {
          "output_type": "stream",
          "name": "stderr",
          "text": [
            "\r 75%|███████▌  | 45/60 [00:14<00:06,  2.21it/s]"
          ]
        },
        {
          "output_type": "stream",
          "name": "stdout",
          "text": [
            "Fine-tuning Epoch: 20, Loss: 0.9403, Accuracy: 58.33%\n"
          ]
        },
        {
          "output_type": "stream",
          "name": "stderr",
          "text": [
            "\r 77%|███████▋  | 46/60 [00:14<00:05,  2.38it/s]"
          ]
        },
        {
          "output_type": "stream",
          "name": "stdout",
          "text": [
            "Fine-tuning Epoch: 20, Loss: 0.9560, Accuracy: 58.49%\n"
          ]
        },
        {
          "output_type": "stream",
          "name": "stderr",
          "text": [
            "\r 78%|███████▊  | 47/60 [00:15<00:05,  2.50it/s]"
          ]
        },
        {
          "output_type": "stream",
          "name": "stdout",
          "text": [
            "Fine-tuning Epoch: 20, Loss: 0.9744, Accuracy: 58.71%\n"
          ]
        },
        {
          "output_type": "stream",
          "name": "stderr",
          "text": [
            "\r 80%|████████  | 48/60 [00:15<00:05,  2.21it/s]"
          ]
        },
        {
          "output_type": "stream",
          "name": "stdout",
          "text": [
            "Fine-tuning Epoch: 20, Loss: 0.9914, Accuracy: 58.72%\n"
          ]
        },
        {
          "output_type": "stream",
          "name": "stderr",
          "text": [
            "\r 82%|████████▏ | 49/60 [00:16<00:04,  2.54it/s]"
          ]
        },
        {
          "output_type": "stream",
          "name": "stdout",
          "text": [
            "Fine-tuning Epoch: 20, Loss: 1.0093, Accuracy: 58.80%\n"
          ]
        },
        {
          "output_type": "stream",
          "name": "stderr",
          "text": [
            "\r 83%|████████▎ | 50/60 [00:16<00:04,  2.20it/s]"
          ]
        },
        {
          "output_type": "stream",
          "name": "stdout",
          "text": [
            "Fine-tuning Epoch: 20, Loss: 1.0282, Accuracy: 59.00%\n"
          ]
        },
        {
          "output_type": "stream",
          "name": "stderr",
          "text": [
            "\r 85%|████████▌ | 51/60 [00:17<00:03,  2.34it/s]"
          ]
        },
        {
          "output_type": "stream",
          "name": "stdout",
          "text": [
            "Fine-tuning Epoch: 20, Loss: 1.0489, Accuracy: 58.95%\n"
          ]
        },
        {
          "output_type": "stream",
          "name": "stderr",
          "text": [
            " 88%|████████▊ | 53/60 [00:17<00:02,  2.97it/s]"
          ]
        },
        {
          "output_type": "stream",
          "name": "stdout",
          "text": [
            "Fine-tuning Epoch: 20, Loss: 1.0653, Accuracy: 59.01%\n",
            "Fine-tuning Epoch: 20, Loss: 1.0986, Accuracy: 58.67%\n"
          ]
        },
        {
          "output_type": "stream",
          "name": "stderr",
          "text": [
            " 92%|█████████▏| 55/60 [00:18<00:01,  3.29it/s]"
          ]
        },
        {
          "output_type": "stream",
          "name": "stdout",
          "text": [
            "Fine-tuning Epoch: 20, Loss: 1.1177, Accuracy: 58.68%\n",
            "Fine-tuning Epoch: 20, Loss: 1.1426, Accuracy: 58.47%\n"
          ]
        },
        {
          "output_type": "stream",
          "name": "stderr",
          "text": [
            " 95%|█████████▌| 57/60 [00:18<00:00,  3.46it/s]"
          ]
        },
        {
          "output_type": "stream",
          "name": "stdout",
          "text": [
            "Fine-tuning Epoch: 20, Loss: 1.1688, Accuracy: 58.37%\n",
            "Fine-tuning Epoch: 20, Loss: 1.1931, Accuracy: 58.28%\n"
          ]
        },
        {
          "output_type": "stream",
          "name": "stderr",
          "text": [
            " 98%|█████████▊| 59/60 [00:19<00:00,  3.89it/s]"
          ]
        },
        {
          "output_type": "stream",
          "name": "stdout",
          "text": [
            "Fine-tuning Epoch: 20, Loss: 1.2145, Accuracy: 58.35%\n",
            "Fine-tuning Epoch: 20, Loss: 1.2268, Accuracy: 58.69%\n"
          ]
        },
        {
          "output_type": "stream",
          "name": "stderr",
          "text": [
            "100%|██████████| 60/60 [00:19<00:00,  3.05it/s]\n"
          ]
        },
        {
          "output_type": "stream",
          "name": "stdout",
          "text": [
            "Fine-tuning Epoch: 20, Loss: 1.2415, Accuracy: 58.96%\n"
          ]
        },
        {
          "output_type": "stream",
          "name": "stderr",
          "text": [
            "  3%|▎         | 2/60 [00:00<00:21,  2.73it/s]"
          ]
        },
        {
          "output_type": "stream",
          "name": "stdout",
          "text": [
            "Fine-tuning Epoch: 21, Loss: 0.0179, Accuracy: 65.62%\n",
            "Fine-tuning Epoch: 21, Loss: 0.0436, Accuracy: 59.38%\n"
          ]
        },
        {
          "output_type": "stream",
          "name": "stderr",
          "text": [
            "  7%|▋         | 4/60 [00:01<00:15,  3.55it/s]"
          ]
        },
        {
          "output_type": "stream",
          "name": "stdout",
          "text": [
            "Fine-tuning Epoch: 21, Loss: 0.0667, Accuracy: 61.46%\n",
            "Fine-tuning Epoch: 21, Loss: 0.0850, Accuracy: 62.50%\n"
          ]
        },
        {
          "output_type": "stream",
          "name": "stderr",
          "text": [
            " 10%|█         | 6/60 [00:01<00:14,  3.70it/s]"
          ]
        },
        {
          "output_type": "stream",
          "name": "stdout",
          "text": [
            "Fine-tuning Epoch: 21, Loss: 0.1056, Accuracy: 61.88%\n",
            "Fine-tuning Epoch: 21, Loss: 0.1245, Accuracy: 62.50%\n"
          ]
        },
        {
          "output_type": "stream",
          "name": "stderr",
          "text": [
            " 13%|█▎        | 8/60 [00:02<00:13,  3.76it/s]"
          ]
        },
        {
          "output_type": "stream",
          "name": "stdout",
          "text": [
            "Fine-tuning Epoch: 21, Loss: 0.1421, Accuracy: 61.61%\n",
            "Fine-tuning Epoch: 21, Loss: 0.1599, Accuracy: 62.89%\n"
          ]
        },
        {
          "output_type": "stream",
          "name": "stderr",
          "text": [
            " 17%|█▋        | 10/60 [00:03<00:12,  3.90it/s]"
          ]
        },
        {
          "output_type": "stream",
          "name": "stdout",
          "text": [
            "Fine-tuning Epoch: 21, Loss: 0.1746, Accuracy: 63.89%\n",
            "Fine-tuning Epoch: 21, Loss: 0.1945, Accuracy: 63.75%\n"
          ]
        },
        {
          "output_type": "stream",
          "name": "stderr",
          "text": [
            " 20%|██        | 12/60 [00:03<00:12,  3.92it/s]"
          ]
        },
        {
          "output_type": "stream",
          "name": "stdout",
          "text": [
            "Fine-tuning Epoch: 21, Loss: 0.2172, Accuracy: 63.35%\n",
            "Fine-tuning Epoch: 21, Loss: 0.2296, Accuracy: 64.06%\n"
          ]
        },
        {
          "output_type": "stream",
          "name": "stderr",
          "text": [
            " 23%|██▎       | 14/60 [00:04<00:12,  3.77it/s]"
          ]
        },
        {
          "output_type": "stream",
          "name": "stdout",
          "text": [
            "Fine-tuning Epoch: 21, Loss: 0.2466, Accuracy: 64.18%\n",
            "Fine-tuning Epoch: 21, Loss: 0.2634, Accuracy: 64.06%\n"
          ]
        },
        {
          "output_type": "stream",
          "name": "stderr",
          "text": [
            " 27%|██▋       | 16/60 [00:04<00:11,  3.88it/s]"
          ]
        },
        {
          "output_type": "stream",
          "name": "stdout",
          "text": [
            "Fine-tuning Epoch: 21, Loss: 0.2799, Accuracy: 64.17%\n",
            "Fine-tuning Epoch: 21, Loss: 0.3044, Accuracy: 63.48%\n"
          ]
        },
        {
          "output_type": "stream",
          "name": "stderr",
          "text": [
            " 30%|███       | 18/60 [00:05<00:10,  3.85it/s]"
          ]
        },
        {
          "output_type": "stream",
          "name": "stdout",
          "text": [
            "Fine-tuning Epoch: 21, Loss: 0.3250, Accuracy: 63.60%\n",
            "Fine-tuning Epoch: 21, Loss: 0.3419, Accuracy: 63.54%\n"
          ]
        },
        {
          "output_type": "stream",
          "name": "stderr",
          "text": [
            " 33%|███▎      | 20/60 [00:05<00:10,  3.95it/s]"
          ]
        },
        {
          "output_type": "stream",
          "name": "stdout",
          "text": [
            "Fine-tuning Epoch: 21, Loss: 0.3730, Accuracy: 62.34%\n",
            "Fine-tuning Epoch: 21, Loss: 0.3993, Accuracy: 61.41%\n"
          ]
        },
        {
          "output_type": "stream",
          "name": "stderr",
          "text": [
            " 37%|███▋      | 22/60 [00:06<00:09,  4.00it/s]"
          ]
        },
        {
          "output_type": "stream",
          "name": "stdout",
          "text": [
            "Fine-tuning Epoch: 21, Loss: 0.4216, Accuracy: 61.16%\n",
            "Fine-tuning Epoch: 21, Loss: 0.4381, Accuracy: 61.36%\n"
          ]
        },
        {
          "output_type": "stream",
          "name": "stderr",
          "text": [
            " 40%|████      | 24/60 [00:07<00:09,  3.91it/s]"
          ]
        },
        {
          "output_type": "stream",
          "name": "stdout",
          "text": [
            "Fine-tuning Epoch: 21, Loss: 0.4533, Accuracy: 61.82%\n",
            "Fine-tuning Epoch: 21, Loss: 0.4705, Accuracy: 61.98%\n"
          ]
        },
        {
          "output_type": "stream",
          "name": "stderr",
          "text": [
            " 43%|████▎     | 26/60 [00:07<00:08,  4.02it/s]"
          ]
        },
        {
          "output_type": "stream",
          "name": "stdout",
          "text": [
            "Fine-tuning Epoch: 21, Loss: 0.4840, Accuracy: 62.50%\n",
            "Fine-tuning Epoch: 21, Loss: 0.4964, Accuracy: 63.34%\n"
          ]
        },
        {
          "output_type": "stream",
          "name": "stderr",
          "text": [
            " 47%|████▋     | 28/60 [00:08<00:10,  3.06it/s]"
          ]
        },
        {
          "output_type": "stream",
          "name": "stdout",
          "text": [
            "Fine-tuning Epoch: 21, Loss: 0.5127, Accuracy: 63.19%\n",
            "Fine-tuning Epoch: 21, Loss: 0.5305, Accuracy: 63.06%\n"
          ]
        },
        {
          "output_type": "stream",
          "name": "stderr",
          "text": [
            " 50%|█████     | 30/60 [00:09<00:10,  2.80it/s]"
          ]
        },
        {
          "output_type": "stream",
          "name": "stdout",
          "text": [
            "Fine-tuning Epoch: 21, Loss: 0.5513, Accuracy: 63.36%\n",
            "Fine-tuning Epoch: 21, Loss: 0.5697, Accuracy: 63.33%\n"
          ]
        },
        {
          "output_type": "stream",
          "name": "stderr",
          "text": [
            " 53%|█████▎    | 32/60 [00:10<00:09,  2.85it/s]"
          ]
        },
        {
          "output_type": "stream",
          "name": "stdout",
          "text": [
            "Fine-tuning Epoch: 21, Loss: 0.5931, Accuracy: 62.70%\n",
            "Fine-tuning Epoch: 21, Loss: 0.6172, Accuracy: 62.50%\n"
          ]
        },
        {
          "output_type": "stream",
          "name": "stderr",
          "text": [
            " 57%|█████▋    | 34/60 [00:11<00:09,  2.72it/s]"
          ]
        },
        {
          "output_type": "stream",
          "name": "stdout",
          "text": [
            "Fine-tuning Epoch: 21, Loss: 0.6426, Accuracy: 62.50%\n",
            "Fine-tuning Epoch: 21, Loss: 0.6576, Accuracy: 62.78%\n"
          ]
        },
        {
          "output_type": "stream",
          "name": "stderr",
          "text": [
            " 60%|██████    | 36/60 [00:11<00:09,  2.62it/s]"
          ]
        },
        {
          "output_type": "stream",
          "name": "stdout",
          "text": [
            "Fine-tuning Epoch: 21, Loss: 0.6775, Accuracy: 62.77%\n",
            "Fine-tuning Epoch: 21, Loss: 0.7003, Accuracy: 62.41%\n"
          ]
        },
        {
          "output_type": "stream",
          "name": "stderr",
          "text": [
            " 63%|██████▎   | 38/60 [00:12<00:08,  2.70it/s]"
          ]
        },
        {
          "output_type": "stream",
          "name": "stdout",
          "text": [
            "Fine-tuning Epoch: 21, Loss: 0.7190, Accuracy: 62.50%\n",
            "Fine-tuning Epoch: 21, Loss: 0.7406, Accuracy: 62.42%\n"
          ]
        },
        {
          "output_type": "stream",
          "name": "stderr",
          "text": [
            " 67%|██████▋   | 40/60 [00:13<00:06,  3.22it/s]"
          ]
        },
        {
          "output_type": "stream",
          "name": "stdout",
          "text": [
            "Fine-tuning Epoch: 21, Loss: 0.7688, Accuracy: 61.86%\n",
            "Fine-tuning Epoch: 21, Loss: 0.7894, Accuracy: 62.03%\n"
          ]
        },
        {
          "output_type": "stream",
          "name": "stderr",
          "text": [
            " 70%|███████   | 42/60 [00:13<00:05,  3.55it/s]"
          ]
        },
        {
          "output_type": "stream",
          "name": "stdout",
          "text": [
            "Fine-tuning Epoch: 21, Loss: 0.8104, Accuracy: 62.20%\n",
            "Fine-tuning Epoch: 21, Loss: 0.8390, Accuracy: 61.68%\n"
          ]
        },
        {
          "output_type": "stream",
          "name": "stderr",
          "text": [
            " 73%|███████▎  | 44/60 [00:14<00:04,  3.59it/s]"
          ]
        },
        {
          "output_type": "stream",
          "name": "stdout",
          "text": [
            "Fine-tuning Epoch: 21, Loss: 0.8623, Accuracy: 61.41%\n",
            "Fine-tuning Epoch: 21, Loss: 0.8848, Accuracy: 61.15%\n"
          ]
        },
        {
          "output_type": "stream",
          "name": "stderr",
          "text": [
            " 77%|███████▋  | 46/60 [00:15<00:03,  3.89it/s]"
          ]
        },
        {
          "output_type": "stream",
          "name": "stdout",
          "text": [
            "Fine-tuning Epoch: 21, Loss: 0.9088, Accuracy: 60.83%\n",
            "Fine-tuning Epoch: 21, Loss: 0.9266, Accuracy: 60.94%\n"
          ]
        },
        {
          "output_type": "stream",
          "name": "stderr",
          "text": [
            " 80%|████████  | 48/60 [00:15<00:03,  3.97it/s]"
          ]
        },
        {
          "output_type": "stream",
          "name": "stdout",
          "text": [
            "Fine-tuning Epoch: 21, Loss: 0.9494, Accuracy: 60.70%\n",
            "Fine-tuning Epoch: 21, Loss: 0.9697, Accuracy: 60.87%\n"
          ]
        },
        {
          "output_type": "stream",
          "name": "stderr",
          "text": [
            " 83%|████████▎ | 50/60 [00:16<00:02,  4.02it/s]"
          ]
        },
        {
          "output_type": "stream",
          "name": "stdout",
          "text": [
            "Fine-tuning Epoch: 21, Loss: 0.9906, Accuracy: 60.78%\n",
            "Fine-tuning Epoch: 21, Loss: 1.0125, Accuracy: 60.81%\n"
          ]
        },
        {
          "output_type": "stream",
          "name": "stderr",
          "text": [
            " 87%|████████▋ | 52/60 [00:16<00:01,  4.14it/s]"
          ]
        },
        {
          "output_type": "stream",
          "name": "stdout",
          "text": [
            "Fine-tuning Epoch: 21, Loss: 1.0304, Accuracy: 60.85%\n",
            "Fine-tuning Epoch: 21, Loss: 1.0469, Accuracy: 61.00%\n"
          ]
        },
        {
          "output_type": "stream",
          "name": "stderr",
          "text": [
            " 90%|█████████ | 54/60 [00:17<00:01,  4.17it/s]"
          ]
        },
        {
          "output_type": "stream",
          "name": "stdout",
          "text": [
            "Fine-tuning Epoch: 21, Loss: 1.0691, Accuracy: 60.91%\n",
            "Fine-tuning Epoch: 21, Loss: 1.0853, Accuracy: 61.17%\n"
          ]
        },
        {
          "output_type": "stream",
          "name": "stderr",
          "text": [
            " 93%|█████████▎| 56/60 [00:17<00:00,  4.24it/s]"
          ]
        },
        {
          "output_type": "stream",
          "name": "stdout",
          "text": [
            "Fine-tuning Epoch: 21, Loss: 1.1027, Accuracy: 61.19%\n",
            "Fine-tuning Epoch: 21, Loss: 1.1193, Accuracy: 61.27%\n"
          ]
        },
        {
          "output_type": "stream",
          "name": "stderr",
          "text": [
            " 97%|█████████▋| 58/60 [00:18<00:00,  4.06it/s]"
          ]
        },
        {
          "output_type": "stream",
          "name": "stdout",
          "text": [
            "Fine-tuning Epoch: 21, Loss: 1.1375, Accuracy: 61.18%\n",
            "Fine-tuning Epoch: 21, Loss: 1.1521, Accuracy: 61.37%\n"
          ]
        },
        {
          "output_type": "stream",
          "name": "stderr",
          "text": [
            "100%|██████████| 60/60 [00:18<00:00,  3.18it/s]\n"
          ]
        },
        {
          "output_type": "stream",
          "name": "stdout",
          "text": [
            "Fine-tuning Epoch: 21, Loss: 1.1678, Accuracy: 61.49%\n",
            "Fine-tuning Epoch: 21, Loss: 1.1807, Accuracy: 61.82%\n"
          ]
        },
        {
          "output_type": "stream",
          "name": "stderr",
          "text": [
            "  3%|▎         | 2/60 [00:00<00:21,  2.76it/s]"
          ]
        },
        {
          "output_type": "stream",
          "name": "stdout",
          "text": [
            "Fine-tuning Epoch: 22, Loss: 0.0212, Accuracy: 53.12%\n",
            "Fine-tuning Epoch: 22, Loss: 0.0508, Accuracy: 45.31%\n"
          ]
        },
        {
          "output_type": "stream",
          "name": "stderr",
          "text": [
            "  7%|▋         | 4/60 [00:01<00:16,  3.46it/s]"
          ]
        },
        {
          "output_type": "stream",
          "name": "stdout",
          "text": [
            "Fine-tuning Epoch: 22, Loss: 0.0671, Accuracy: 52.08%\n",
            "Fine-tuning Epoch: 22, Loss: 0.0835, Accuracy: 55.47%\n"
          ]
        },
        {
          "output_type": "stream",
          "name": "stderr",
          "text": [
            " 10%|█         | 6/60 [00:01<00:14,  3.78it/s]"
          ]
        },
        {
          "output_type": "stream",
          "name": "stdout",
          "text": [
            "Fine-tuning Epoch: 22, Loss: 0.1056, Accuracy: 55.62%\n",
            "Fine-tuning Epoch: 22, Loss: 0.1226, Accuracy: 56.77%\n"
          ]
        },
        {
          "output_type": "stream",
          "name": "stderr",
          "text": [
            " 13%|█▎        | 8/60 [00:02<00:12,  4.01it/s]"
          ]
        },
        {
          "output_type": "stream",
          "name": "stdout",
          "text": [
            "Fine-tuning Epoch: 22, Loss: 0.1408, Accuracy: 58.93%\n",
            "Fine-tuning Epoch: 22, Loss: 0.1608, Accuracy: 59.38%\n"
          ]
        },
        {
          "output_type": "stream",
          "name": "stderr",
          "text": [
            " 17%|█▋        | 10/60 [00:03<00:12,  3.89it/s]"
          ]
        },
        {
          "output_type": "stream",
          "name": "stdout",
          "text": [
            "Fine-tuning Epoch: 22, Loss: 0.1739, Accuracy: 61.11%\n",
            "Fine-tuning Epoch: 22, Loss: 0.1929, Accuracy: 60.94%\n"
          ]
        },
        {
          "output_type": "stream",
          "name": "stderr",
          "text": [
            " 20%|██        | 12/60 [00:03<00:12,  3.77it/s]"
          ]
        },
        {
          "output_type": "stream",
          "name": "stdout",
          "text": [
            "Fine-tuning Epoch: 22, Loss: 0.2196, Accuracy: 59.94%\n",
            "Fine-tuning Epoch: 22, Loss: 0.2423, Accuracy: 59.90%\n"
          ]
        },
        {
          "output_type": "stream",
          "name": "stderr",
          "text": [
            " 23%|██▎       | 14/60 [00:04<00:13,  3.35it/s]"
          ]
        },
        {
          "output_type": "stream",
          "name": "stdout",
          "text": [
            "Fine-tuning Epoch: 22, Loss: 0.2677, Accuracy: 58.41%\n",
            "Fine-tuning Epoch: 22, Loss: 0.2866, Accuracy: 58.04%\n"
          ]
        },
        {
          "output_type": "stream",
          "name": "stderr",
          "text": [
            " 27%|██▋       | 16/60 [00:05<00:15,  2.89it/s]"
          ]
        },
        {
          "output_type": "stream",
          "name": "stdout",
          "text": [
            "Fine-tuning Epoch: 22, Loss: 0.3039, Accuracy: 58.12%\n",
            "Fine-tuning Epoch: 22, Loss: 0.3286, Accuracy: 57.81%\n"
          ]
        },
        {
          "output_type": "stream",
          "name": "stderr",
          "text": [
            " 30%|███       | 18/60 [00:06<00:14,  2.83it/s]"
          ]
        },
        {
          "output_type": "stream",
          "name": "stdout",
          "text": [
            "Fine-tuning Epoch: 22, Loss: 0.3471, Accuracy: 57.72%\n",
            "Fine-tuning Epoch: 22, Loss: 0.3692, Accuracy: 57.29%\n"
          ]
        },
        {
          "output_type": "stream",
          "name": "stderr",
          "text": [
            " 33%|███▎      | 20/60 [00:06<00:14,  2.72it/s]"
          ]
        },
        {
          "output_type": "stream",
          "name": "stdout",
          "text": [
            "Fine-tuning Epoch: 22, Loss: 0.3840, Accuracy: 58.39%\n",
            "Fine-tuning Epoch: 22, Loss: 0.4047, Accuracy: 58.12%\n"
          ]
        },
        {
          "output_type": "stream",
          "name": "stderr",
          "text": [
            " 37%|███▋      | 22/60 [00:07<00:14,  2.62it/s]"
          ]
        },
        {
          "output_type": "stream",
          "name": "stdout",
          "text": [
            "Fine-tuning Epoch: 22, Loss: 0.4256, Accuracy: 58.63%\n",
            "Fine-tuning Epoch: 22, Loss: 0.4473, Accuracy: 58.52%\n"
          ]
        },
        {
          "output_type": "stream",
          "name": "stderr",
          "text": [
            " 40%|████      | 24/60 [00:08<00:14,  2.55it/s]"
          ]
        },
        {
          "output_type": "stream",
          "name": "stdout",
          "text": [
            "Fine-tuning Epoch: 22, Loss: 0.4651, Accuracy: 58.56%\n",
            "Fine-tuning Epoch: 22, Loss: 0.4929, Accuracy: 57.94%\n"
          ]
        },
        {
          "output_type": "stream",
          "name": "stderr",
          "text": [
            " 43%|████▎     | 26/60 [00:09<00:11,  3.04it/s]"
          ]
        },
        {
          "output_type": "stream",
          "name": "stdout",
          "text": [
            "Fine-tuning Epoch: 22, Loss: 0.5125, Accuracy: 57.75%\n",
            "Fine-tuning Epoch: 22, Loss: 0.5311, Accuracy: 57.81%\n"
          ]
        },
        {
          "output_type": "stream",
          "name": "stderr",
          "text": [
            " 47%|████▋     | 28/60 [00:09<00:09,  3.50it/s]"
          ]
        },
        {
          "output_type": "stream",
          "name": "stdout",
          "text": [
            "Fine-tuning Epoch: 22, Loss: 0.5541, Accuracy: 57.75%\n",
            "Fine-tuning Epoch: 22, Loss: 0.5742, Accuracy: 57.59%\n"
          ]
        },
        {
          "output_type": "stream",
          "name": "stderr",
          "text": [
            " 50%|█████     | 30/60 [00:10<00:08,  3.47it/s]"
          ]
        },
        {
          "output_type": "stream",
          "name": "stdout",
          "text": [
            "Fine-tuning Epoch: 22, Loss: 0.5991, Accuracy: 57.76%\n",
            "Fine-tuning Epoch: 22, Loss: 0.6181, Accuracy: 57.81%\n"
          ]
        },
        {
          "output_type": "stream",
          "name": "stderr",
          "text": [
            " 53%|█████▎    | 32/60 [00:11<00:07,  3.76it/s]"
          ]
        },
        {
          "output_type": "stream",
          "name": "stdout",
          "text": [
            "Fine-tuning Epoch: 22, Loss: 0.6381, Accuracy: 57.96%\n",
            "Fine-tuning Epoch: 22, Loss: 0.6594, Accuracy: 58.01%\n"
          ]
        },
        {
          "output_type": "stream",
          "name": "stderr",
          "text": [
            " 57%|█████▋    | 34/60 [00:11<00:06,  3.86it/s]"
          ]
        },
        {
          "output_type": "stream",
          "name": "stdout",
          "text": [
            "Fine-tuning Epoch: 22, Loss: 0.6827, Accuracy: 57.95%\n",
            "Fine-tuning Epoch: 22, Loss: 0.7005, Accuracy: 58.18%\n"
          ]
        },
        {
          "output_type": "stream",
          "name": "stderr",
          "text": [
            " 60%|██████    | 36/60 [00:12<00:06,  3.83it/s]"
          ]
        },
        {
          "output_type": "stream",
          "name": "stdout",
          "text": [
            "Fine-tuning Epoch: 22, Loss: 0.7233, Accuracy: 57.77%\n",
            "Fine-tuning Epoch: 22, Loss: 0.7396, Accuracy: 57.90%\n"
          ]
        },
        {
          "output_type": "stream",
          "name": "stderr",
          "text": [
            " 63%|██████▎   | 38/60 [00:12<00:05,  4.22it/s]"
          ]
        },
        {
          "output_type": "stream",
          "name": "stdout",
          "text": [
            "Fine-tuning Epoch: 22, Loss: 0.7599, Accuracy: 57.85%\n",
            "Fine-tuning Epoch: 22, Loss: 0.7771, Accuracy: 58.14%\n"
          ]
        },
        {
          "output_type": "stream",
          "name": "stderr",
          "text": [
            " 67%|██████▋   | 40/60 [00:13<00:04,  4.14it/s]"
          ]
        },
        {
          "output_type": "stream",
          "name": "stdout",
          "text": [
            "Fine-tuning Epoch: 22, Loss: 0.7968, Accuracy: 57.93%\n",
            "Fine-tuning Epoch: 22, Loss: 0.8143, Accuracy: 58.20%\n"
          ]
        },
        {
          "output_type": "stream",
          "name": "stderr",
          "text": [
            " 70%|███████   | 42/60 [00:13<00:04,  4.09it/s]"
          ]
        },
        {
          "output_type": "stream",
          "name": "stdout",
          "text": [
            "Fine-tuning Epoch: 22, Loss: 0.8359, Accuracy: 58.08%\n",
            "Fine-tuning Epoch: 22, Loss: 0.8553, Accuracy: 58.26%\n"
          ]
        },
        {
          "output_type": "stream",
          "name": "stderr",
          "text": [
            " 73%|███████▎  | 44/60 [00:14<00:03,  4.07it/s]"
          ]
        },
        {
          "output_type": "stream",
          "name": "stdout",
          "text": [
            "Fine-tuning Epoch: 22, Loss: 0.8782, Accuracy: 58.28%\n",
            "Fine-tuning Epoch: 22, Loss: 0.8985, Accuracy: 58.38%\n"
          ]
        },
        {
          "output_type": "stream",
          "name": "stderr",
          "text": [
            " 77%|███████▋  | 46/60 [00:14<00:03,  4.24it/s]"
          ]
        },
        {
          "output_type": "stream",
          "name": "stdout",
          "text": [
            "Fine-tuning Epoch: 22, Loss: 0.9164, Accuracy: 58.40%\n",
            "Fine-tuning Epoch: 22, Loss: 0.9443, Accuracy: 58.15%\n"
          ]
        },
        {
          "output_type": "stream",
          "name": "stderr",
          "text": [
            " 80%|████████  | 48/60 [00:15<00:02,  4.09it/s]"
          ]
        },
        {
          "output_type": "stream",
          "name": "stdout",
          "text": [
            "Fine-tuning Epoch: 22, Loss: 0.9650, Accuracy: 58.18%\n",
            "Fine-tuning Epoch: 22, Loss: 0.9838, Accuracy: 58.14%\n"
          ]
        },
        {
          "output_type": "stream",
          "name": "stderr",
          "text": [
            " 83%|████████▎ | 50/60 [00:16<00:02,  3.58it/s]"
          ]
        },
        {
          "output_type": "stream",
          "name": "stdout",
          "text": [
            "Fine-tuning Epoch: 22, Loss: 1.0013, Accuracy: 58.29%\n",
            "Fine-tuning Epoch: 22, Loss: 1.0173, Accuracy: 58.44%\n"
          ]
        },
        {
          "output_type": "stream",
          "name": "stderr",
          "text": [
            " 87%|████████▋ | 52/60 [00:16<00:02,  3.77it/s]"
          ]
        },
        {
          "output_type": "stream",
          "name": "stdout",
          "text": [
            "Fine-tuning Epoch: 22, Loss: 1.0372, Accuracy: 58.64%\n",
            "Fine-tuning Epoch: 22, Loss: 1.0574, Accuracy: 58.65%\n"
          ]
        },
        {
          "output_type": "stream",
          "name": "stderr",
          "text": [
            " 90%|█████████ | 54/60 [00:17<00:01,  3.72it/s]"
          ]
        },
        {
          "output_type": "stream",
          "name": "stdout",
          "text": [
            "Fine-tuning Epoch: 22, Loss: 1.0801, Accuracy: 58.49%\n",
            "Fine-tuning Epoch: 22, Loss: 1.0958, Accuracy: 58.51%\n"
          ]
        },
        {
          "output_type": "stream",
          "name": "stderr",
          "text": [
            " 93%|█████████▎| 56/60 [00:17<00:01,  3.67it/s]"
          ]
        },
        {
          "output_type": "stream",
          "name": "stdout",
          "text": [
            "Fine-tuning Epoch: 22, Loss: 1.1183, Accuracy: 58.35%\n",
            "Fine-tuning Epoch: 22, Loss: 1.1355, Accuracy: 58.54%\n"
          ]
        },
        {
          "output_type": "stream",
          "name": "stderr",
          "text": [
            " 97%|█████████▋| 58/60 [00:18<00:00,  3.84it/s]"
          ]
        },
        {
          "output_type": "stream",
          "name": "stdout",
          "text": [
            "Fine-tuning Epoch: 22, Loss: 1.1550, Accuracy: 58.61%\n",
            "Fine-tuning Epoch: 22, Loss: 1.1695, Accuracy: 58.89%\n"
          ]
        },
        {
          "output_type": "stream",
          "name": "stderr",
          "text": [
            "100%|██████████| 60/60 [00:19<00:00,  3.15it/s]\n"
          ]
        },
        {
          "output_type": "stream",
          "name": "stdout",
          "text": [
            "Fine-tuning Epoch: 22, Loss: 1.1862, Accuracy: 59.11%\n",
            "Fine-tuning Epoch: 22, Loss: 1.2113, Accuracy: 59.06%\n"
          ]
        },
        {
          "output_type": "stream",
          "name": "stderr",
          "text": [
            "  2%|▏         | 1/60 [00:01<01:03,  1.08s/it]"
          ]
        },
        {
          "output_type": "stream",
          "name": "stdout",
          "text": [
            "Fine-tuning Epoch: 23, Loss: 0.0154, Accuracy: 68.75%\n"
          ]
        },
        {
          "output_type": "stream",
          "name": "stderr",
          "text": [
            "\r  3%|▎         | 2/60 [00:01<00:33,  1.75it/s]"
          ]
        },
        {
          "output_type": "stream",
          "name": "stdout",
          "text": [
            "Fine-tuning Epoch: 23, Loss: 0.0308, Accuracy: 70.31%\n"
          ]
        },
        {
          "output_type": "stream",
          "name": "stderr",
          "text": [
            "\r  5%|▌         | 3/60 [00:01<00:32,  1.78it/s]"
          ]
        },
        {
          "output_type": "stream",
          "name": "stdout",
          "text": [
            "Fine-tuning Epoch: 23, Loss: 0.0530, Accuracy: 61.46%\n"
          ]
        },
        {
          "output_type": "stream",
          "name": "stderr",
          "text": [
            "\r  7%|▋         | 4/60 [00:02<00:26,  2.09it/s]"
          ]
        },
        {
          "output_type": "stream",
          "name": "stdout",
          "text": [
            "Fine-tuning Epoch: 23, Loss: 0.0705, Accuracy: 59.38%\n"
          ]
        },
        {
          "output_type": "stream",
          "name": "stderr",
          "text": [
            "\r  8%|▊         | 5/60 [00:02<00:27,  1.98it/s]"
          ]
        },
        {
          "output_type": "stream",
          "name": "stdout",
          "text": [
            "Fine-tuning Epoch: 23, Loss: 0.0891, Accuracy: 58.75%\n"
          ]
        },
        {
          "output_type": "stream",
          "name": "stderr",
          "text": [
            "\r 10%|█         | 6/60 [00:03<00:24,  2.22it/s]"
          ]
        },
        {
          "output_type": "stream",
          "name": "stdout",
          "text": [
            "Fine-tuning Epoch: 23, Loss: 0.1161, Accuracy: 54.69%\n"
          ]
        },
        {
          "output_type": "stream",
          "name": "stderr",
          "text": [
            "\r 12%|█▏        | 7/60 [00:03<00:25,  2.08it/s]"
          ]
        },
        {
          "output_type": "stream",
          "name": "stdout",
          "text": [
            "Fine-tuning Epoch: 23, Loss: 0.1313, Accuracy: 57.59%\n"
          ]
        },
        {
          "output_type": "stream",
          "name": "stderr",
          "text": [
            "\r 13%|█▎        | 8/60 [00:03<00:22,  2.29it/s]"
          ]
        },
        {
          "output_type": "stream",
          "name": "stdout",
          "text": [
            "Fine-tuning Epoch: 23, Loss: 0.1491, Accuracy: 58.59%\n"
          ]
        },
        {
          "output_type": "stream",
          "name": "stderr",
          "text": [
            "\r 15%|█▌        | 9/60 [00:04<00:23,  2.15it/s]"
          ]
        },
        {
          "output_type": "stream",
          "name": "stdout",
          "text": [
            "Fine-tuning Epoch: 23, Loss: 0.1655, Accuracy: 59.38%\n"
          ]
        },
        {
          "output_type": "stream",
          "name": "stderr",
          "text": [
            "\r 17%|█▋        | 10/60 [00:04<00:21,  2.38it/s]"
          ]
        },
        {
          "output_type": "stream",
          "name": "stdout",
          "text": [
            "Fine-tuning Epoch: 23, Loss: 0.1806, Accuracy: 60.31%\n"
          ]
        },
        {
          "output_type": "stream",
          "name": "stderr",
          "text": [
            " 20%|██        | 12/60 [00:05<00:17,  2.82it/s]"
          ]
        },
        {
          "output_type": "stream",
          "name": "stdout",
          "text": [
            "Fine-tuning Epoch: 23, Loss: 0.2024, Accuracy: 60.51%\n",
            "Fine-tuning Epoch: 23, Loss: 0.2202, Accuracy: 60.68%\n"
          ]
        },
        {
          "output_type": "stream",
          "name": "stderr",
          "text": [
            "\r 22%|██▏       | 13/60 [00:05<00:16,  2.85it/s]"
          ]
        },
        {
          "output_type": "stream",
          "name": "stdout",
          "text": [
            "Fine-tuning Epoch: 23, Loss: 0.2439, Accuracy: 59.38%\n"
          ]
        },
        {
          "output_type": "stream",
          "name": "stderr",
          "text": [
            "\r 23%|██▎       | 14/60 [00:06<00:14,  3.21it/s]"
          ]
        },
        {
          "output_type": "stream",
          "name": "stdout",
          "text": [
            "Fine-tuning Epoch: 23, Loss: 0.2672, Accuracy: 58.71%\n"
          ]
        },
        {
          "output_type": "stream",
          "name": "stderr",
          "text": [
            " 27%|██▋       | 16/60 [00:06<00:11,  3.74it/s]"
          ]
        },
        {
          "output_type": "stream",
          "name": "stdout",
          "text": [
            "Fine-tuning Epoch: 23, Loss: 0.2856, Accuracy: 58.54%\n",
            "Fine-tuning Epoch: 23, Loss: 0.3051, Accuracy: 58.59%\n"
          ]
        },
        {
          "output_type": "stream",
          "name": "stderr",
          "text": [
            " 30%|███       | 18/60 [00:07<00:11,  3.61it/s]"
          ]
        },
        {
          "output_type": "stream",
          "name": "stdout",
          "text": [
            "Fine-tuning Epoch: 23, Loss: 0.3274, Accuracy: 58.82%\n",
            "Fine-tuning Epoch: 23, Loss: 0.3507, Accuracy: 57.64%\n"
          ]
        },
        {
          "output_type": "stream",
          "name": "stderr",
          "text": [
            " 33%|███▎      | 20/60 [00:07<00:10,  3.98it/s]"
          ]
        },
        {
          "output_type": "stream",
          "name": "stdout",
          "text": [
            "Fine-tuning Epoch: 23, Loss: 0.3711, Accuracy: 58.06%\n",
            "Fine-tuning Epoch: 23, Loss: 0.3901, Accuracy: 58.44%\n"
          ]
        },
        {
          "output_type": "stream",
          "name": "stderr",
          "text": [
            " 37%|███▋      | 22/60 [00:08<00:09,  4.00it/s]"
          ]
        },
        {
          "output_type": "stream",
          "name": "stdout",
          "text": [
            "Fine-tuning Epoch: 23, Loss: 0.4126, Accuracy: 58.04%\n",
            "Fine-tuning Epoch: 23, Loss: 0.4291, Accuracy: 58.24%\n"
          ]
        },
        {
          "output_type": "stream",
          "name": "stderr",
          "text": [
            " 40%|████      | 24/60 [00:08<00:09,  3.95it/s]"
          ]
        },
        {
          "output_type": "stream",
          "name": "stdout",
          "text": [
            "Fine-tuning Epoch: 23, Loss: 0.4482, Accuracy: 58.83%\n",
            "Fine-tuning Epoch: 23, Loss: 0.4657, Accuracy: 58.98%\n"
          ]
        },
        {
          "output_type": "stream",
          "name": "stderr",
          "text": [
            " 43%|████▎     | 26/60 [00:09<00:08,  4.16it/s]"
          ]
        },
        {
          "output_type": "stream",
          "name": "stdout",
          "text": [
            "Fine-tuning Epoch: 23, Loss: 0.4816, Accuracy: 59.50%\n",
            "Fine-tuning Epoch: 23, Loss: 0.5025, Accuracy: 59.50%\n"
          ]
        },
        {
          "output_type": "stream",
          "name": "stderr",
          "text": [
            "\r 45%|████▌     | 27/60 [00:09<00:08,  3.77it/s]"
          ]
        },
        {
          "output_type": "stream",
          "name": "stdout",
          "text": [
            "Fine-tuning Epoch: 23, Loss: 0.5239, Accuracy: 59.84%\n"
          ]
        },
        {
          "output_type": "stream",
          "name": "stderr",
          "text": [
            "\r 47%|████▋     | 28/60 [00:09<00:08,  3.96it/s]"
          ]
        },
        {
          "output_type": "stream",
          "name": "stdout",
          "text": [
            "Fine-tuning Epoch: 23, Loss: 0.5437, Accuracy: 59.82%\n"
          ]
        },
        {
          "output_type": "stream",
          "name": "stderr",
          "text": [
            "\r 48%|████▊     | 29/60 [00:10<00:08,  3.56it/s]"
          ]
        },
        {
          "output_type": "stream",
          "name": "stdout",
          "text": [
            "Fine-tuning Epoch: 23, Loss: 0.5632, Accuracy: 59.81%\n"
          ]
        },
        {
          "output_type": "stream",
          "name": "stderr",
          "text": [
            "\r 50%|█████     | 30/60 [00:10<00:08,  3.74it/s]"
          ]
        },
        {
          "output_type": "stream",
          "name": "stdout",
          "text": [
            "Fine-tuning Epoch: 23, Loss: 0.5804, Accuracy: 60.00%\n"
          ]
        },
        {
          "output_type": "stream",
          "name": "stderr",
          "text": [
            "\r 52%|█████▏    | 31/60 [00:10<00:08,  3.51it/s]"
          ]
        },
        {
          "output_type": "stream",
          "name": "stdout",
          "text": [
            "Fine-tuning Epoch: 23, Loss: 0.5992, Accuracy: 60.28%\n"
          ]
        },
        {
          "output_type": "stream",
          "name": "stderr",
          "text": [
            "\r 53%|█████▎    | 32/60 [00:10<00:07,  3.70it/s]"
          ]
        },
        {
          "output_type": "stream",
          "name": "stdout",
          "text": [
            "Fine-tuning Epoch: 23, Loss: 0.6138, Accuracy: 60.35%\n"
          ]
        },
        {
          "output_type": "stream",
          "name": "stderr",
          "text": [
            "\r 55%|█████▌    | 33/60 [00:11<00:07,  3.44it/s]"
          ]
        },
        {
          "output_type": "stream",
          "name": "stdout",
          "text": [
            "Fine-tuning Epoch: 23, Loss: 0.6283, Accuracy: 60.61%\n"
          ]
        },
        {
          "output_type": "stream",
          "name": "stderr",
          "text": [
            "\r 57%|█████▋    | 34/60 [00:11<00:07,  3.70it/s]"
          ]
        },
        {
          "output_type": "stream",
          "name": "stdout",
          "text": [
            "Fine-tuning Epoch: 23, Loss: 0.6435, Accuracy: 60.85%\n"
          ]
        },
        {
          "output_type": "stream",
          "name": "stderr",
          "text": [
            " 60%|██████    | 36/60 [00:12<00:06,  3.82it/s]"
          ]
        },
        {
          "output_type": "stream",
          "name": "stdout",
          "text": [
            "Fine-tuning Epoch: 23, Loss: 0.6654, Accuracy: 60.80%\n",
            "Fine-tuning Epoch: 23, Loss: 0.6859, Accuracy: 60.59%\n"
          ]
        },
        {
          "output_type": "stream",
          "name": "stderr",
          "text": [
            " 63%|██████▎   | 38/60 [00:12<00:05,  3.74it/s]"
          ]
        },
        {
          "output_type": "stream",
          "name": "stdout",
          "text": [
            "Fine-tuning Epoch: 23, Loss: 0.7030, Accuracy: 60.64%\n",
            "Fine-tuning Epoch: 23, Loss: 0.7200, Accuracy: 60.86%\n"
          ]
        },
        {
          "output_type": "stream",
          "name": "stderr",
          "text": [
            "\r 65%|██████▌   | 39/60 [00:12<00:05,  3.51it/s]"
          ]
        },
        {
          "output_type": "stream",
          "name": "stdout",
          "text": [
            "Fine-tuning Epoch: 23, Loss: 0.7434, Accuracy: 60.66%\n"
          ]
        },
        {
          "output_type": "stream",
          "name": "stderr",
          "text": [
            "\r 67%|██████▋   | 40/60 [00:13<00:05,  3.57it/s]"
          ]
        },
        {
          "output_type": "stream",
          "name": "stdout",
          "text": [
            "Fine-tuning Epoch: 23, Loss: 0.7638, Accuracy: 60.55%\n"
          ]
        },
        {
          "output_type": "stream",
          "name": "stderr",
          "text": [
            "\r 68%|██████▊   | 41/60 [00:13<00:05,  3.58it/s]"
          ]
        },
        {
          "output_type": "stream",
          "name": "stdout",
          "text": [
            "Fine-tuning Epoch: 23, Loss: 0.7765, Accuracy: 61.05%\n"
          ]
        },
        {
          "output_type": "stream",
          "name": "stderr",
          "text": [
            "\r 70%|███████   | 42/60 [00:13<00:04,  3.66it/s]"
          ]
        },
        {
          "output_type": "stream",
          "name": "stdout",
          "text": [
            "Fine-tuning Epoch: 23, Loss: 0.7957, Accuracy: 60.94%\n"
          ]
        },
        {
          "output_type": "stream",
          "name": "stderr",
          "text": [
            "\r 72%|███████▏  | 43/60 [00:14<00:04,  3.53it/s]"
          ]
        },
        {
          "output_type": "stream",
          "name": "stdout",
          "text": [
            "Fine-tuning Epoch: 23, Loss: 0.8139, Accuracy: 61.05%\n"
          ]
        },
        {
          "output_type": "stream",
          "name": "stderr",
          "text": [
            "\r 73%|███████▎  | 44/60 [00:14<00:04,  3.61it/s]"
          ]
        },
        {
          "output_type": "stream",
          "name": "stdout",
          "text": [
            "Fine-tuning Epoch: 23, Loss: 0.8352, Accuracy: 60.87%\n"
          ]
        },
        {
          "output_type": "stream",
          "name": "stderr",
          "text": [
            "\r 75%|███████▌  | 45/60 [00:14<00:04,  3.49it/s]"
          ]
        },
        {
          "output_type": "stream",
          "name": "stdout",
          "text": [
            "Fine-tuning Epoch: 23, Loss: 0.8498, Accuracy: 61.11%\n"
          ]
        },
        {
          "output_type": "stream",
          "name": "stderr",
          "text": [
            "\r 77%|███████▋  | 46/60 [00:14<00:03,  3.64it/s]"
          ]
        },
        {
          "output_type": "stream",
          "name": "stdout",
          "text": [
            "Fine-tuning Epoch: 23, Loss: 0.8682, Accuracy: 61.21%\n"
          ]
        },
        {
          "output_type": "stream",
          "name": "stderr",
          "text": [
            "\r 78%|███████▊  | 47/60 [00:15<00:04,  3.15it/s]"
          ]
        },
        {
          "output_type": "stream",
          "name": "stdout",
          "text": [
            "Fine-tuning Epoch: 23, Loss: 0.8834, Accuracy: 61.30%\n"
          ]
        },
        {
          "output_type": "stream",
          "name": "stderr",
          "text": [
            "\r 80%|████████  | 48/60 [00:15<00:04,  2.98it/s]"
          ]
        },
        {
          "output_type": "stream",
          "name": "stdout",
          "text": [
            "Fine-tuning Epoch: 23, Loss: 0.9094, Accuracy: 61.13%\n"
          ]
        },
        {
          "output_type": "stream",
          "name": "stderr",
          "text": [
            "\r 82%|████████▏ | 49/60 [00:16<00:04,  2.53it/s]"
          ]
        },
        {
          "output_type": "stream",
          "name": "stdout",
          "text": [
            "Fine-tuning Epoch: 23, Loss: 0.9319, Accuracy: 60.91%\n"
          ]
        },
        {
          "output_type": "stream",
          "name": "stderr",
          "text": [
            "\r 83%|████████▎ | 50/60 [00:16<00:03,  2.54it/s]"
          ]
        },
        {
          "output_type": "stream",
          "name": "stdout",
          "text": [
            "Fine-tuning Epoch: 23, Loss: 0.9485, Accuracy: 60.88%\n"
          ]
        },
        {
          "output_type": "stream",
          "name": "stderr",
          "text": [
            "\r 85%|████████▌ | 51/60 [00:17<00:03,  2.36it/s]"
          ]
        },
        {
          "output_type": "stream",
          "name": "stdout",
          "text": [
            "Fine-tuning Epoch: 23, Loss: 0.9686, Accuracy: 60.91%\n"
          ]
        },
        {
          "output_type": "stream",
          "name": "stderr",
          "text": [
            "\r 87%|████████▋ | 52/60 [00:17<00:03,  2.45it/s]"
          ]
        },
        {
          "output_type": "stream",
          "name": "stdout",
          "text": [
            "Fine-tuning Epoch: 23, Loss: 0.9845, Accuracy: 61.06%\n"
          ]
        },
        {
          "output_type": "stream",
          "name": "stderr",
          "text": [
            "\r 88%|████████▊ | 53/60 [00:18<00:03,  2.15it/s]"
          ]
        },
        {
          "output_type": "stream",
          "name": "stdout",
          "text": [
            "Fine-tuning Epoch: 23, Loss: 1.0041, Accuracy: 61.03%\n"
          ]
        },
        {
          "output_type": "stream",
          "name": "stderr",
          "text": [
            "\r 90%|█████████ | 54/60 [00:18<00:02,  2.39it/s]"
          ]
        },
        {
          "output_type": "stream",
          "name": "stdout",
          "text": [
            "Fine-tuning Epoch: 23, Loss: 1.0276, Accuracy: 60.65%\n"
          ]
        },
        {
          "output_type": "stream",
          "name": "stderr",
          "text": [
            "\r 92%|█████████▏| 55/60 [00:18<00:02,  2.17it/s]"
          ]
        },
        {
          "output_type": "stream",
          "name": "stdout",
          "text": [
            "Fine-tuning Epoch: 23, Loss: 1.0446, Accuracy: 60.62%\n"
          ]
        },
        {
          "output_type": "stream",
          "name": "stderr",
          "text": [
            "\r 93%|█████████▎| 56/60 [00:19<00:01,  2.45it/s]"
          ]
        },
        {
          "output_type": "stream",
          "name": "stdout",
          "text": [
            "Fine-tuning Epoch: 23, Loss: 1.0704, Accuracy: 60.21%\n"
          ]
        },
        {
          "output_type": "stream",
          "name": "stderr",
          "text": [
            "\r 95%|█████████▌| 57/60 [00:19<00:01,  2.13it/s]"
          ]
        },
        {
          "output_type": "stream",
          "name": "stdout",
          "text": [
            "Fine-tuning Epoch: 23, Loss: 1.0923, Accuracy: 60.03%\n"
          ]
        },
        {
          "output_type": "stream",
          "name": "stderr",
          "text": [
            "\r 97%|█████████▋| 58/60 [00:20<00:00,  2.51it/s]"
          ]
        },
        {
          "output_type": "stream",
          "name": "stdout",
          "text": [
            "Fine-tuning Epoch: 23, Loss: 1.1068, Accuracy: 60.24%\n"
          ]
        },
        {
          "output_type": "stream",
          "name": "stderr",
          "text": [
            "100%|██████████| 60/60 [00:20<00:00,  2.91it/s]\n"
          ]
        },
        {
          "output_type": "stream",
          "name": "stdout",
          "text": [
            "Fine-tuning Epoch: 23, Loss: 1.1201, Accuracy: 60.54%\n",
            "Fine-tuning Epoch: 23, Loss: 1.1402, Accuracy: 60.57%\n"
          ]
        },
        {
          "output_type": "stream",
          "name": "stderr",
          "text": [
            "  3%|▎         | 2/60 [00:00<00:23,  2.48it/s]"
          ]
        },
        {
          "output_type": "stream",
          "name": "stdout",
          "text": [
            "Fine-tuning Epoch: 24, Loss: 0.0281, Accuracy: 40.62%\n",
            "Fine-tuning Epoch: 24, Loss: 0.0481, Accuracy: 50.00%\n"
          ]
        },
        {
          "output_type": "stream",
          "name": "stderr",
          "text": [
            "  7%|▋         | 4/60 [00:01<00:16,  3.38it/s]"
          ]
        },
        {
          "output_type": "stream",
          "name": "stdout",
          "text": [
            "Fine-tuning Epoch: 24, Loss: 0.0691, Accuracy: 55.21%\n",
            "Fine-tuning Epoch: 24, Loss: 0.0849, Accuracy: 57.81%\n"
          ]
        },
        {
          "output_type": "stream",
          "name": "stderr",
          "text": [
            " 10%|█         | 6/60 [00:01<00:14,  3.80it/s]"
          ]
        },
        {
          "output_type": "stream",
          "name": "stdout",
          "text": [
            "Fine-tuning Epoch: 24, Loss: 0.1121, Accuracy: 55.00%\n",
            "Fine-tuning Epoch: 24, Loss: 0.1302, Accuracy: 56.77%\n"
          ]
        },
        {
          "output_type": "stream",
          "name": "stderr",
          "text": [
            " 13%|█▎        | 8/60 [00:02<00:12,  4.14it/s]"
          ]
        },
        {
          "output_type": "stream",
          "name": "stdout",
          "text": [
            "Fine-tuning Epoch: 24, Loss: 0.1483, Accuracy: 59.38%\n",
            "Fine-tuning Epoch: 24, Loss: 0.1698, Accuracy: 59.77%\n"
          ]
        },
        {
          "output_type": "stream",
          "name": "stderr",
          "text": [
            " 17%|█▋        | 10/60 [00:03<00:12,  4.05it/s]"
          ]
        },
        {
          "output_type": "stream",
          "name": "stdout",
          "text": [
            "Fine-tuning Epoch: 24, Loss: 0.1884, Accuracy: 59.38%\n",
            "Fine-tuning Epoch: 24, Loss: 0.1985, Accuracy: 61.25%\n"
          ]
        },
        {
          "output_type": "stream",
          "name": "stderr",
          "text": [
            " 20%|██        | 12/60 [00:03<00:11,  4.00it/s]"
          ]
        },
        {
          "output_type": "stream",
          "name": "stdout",
          "text": [
            "Fine-tuning Epoch: 24, Loss: 0.2161, Accuracy: 61.65%\n",
            "Fine-tuning Epoch: 24, Loss: 0.2332, Accuracy: 61.72%\n"
          ]
        },
        {
          "output_type": "stream",
          "name": "stderr",
          "text": [
            "\r 22%|██▏       | 13/60 [00:03<00:13,  3.59it/s]"
          ]
        },
        {
          "output_type": "stream",
          "name": "stdout",
          "text": [
            "Fine-tuning Epoch: 24, Loss: 0.2547, Accuracy: 61.30%\n"
          ]
        },
        {
          "output_type": "stream",
          "name": "stderr",
          "text": [
            "\r 23%|██▎       | 14/60 [00:04<00:12,  3.79it/s]"
          ]
        },
        {
          "output_type": "stream",
          "name": "stdout",
          "text": [
            "Fine-tuning Epoch: 24, Loss: 0.2741, Accuracy: 61.83%\n"
          ]
        },
        {
          "output_type": "stream",
          "name": "stderr",
          "text": [
            " 27%|██▋       | 16/60 [00:04<00:11,  3.98it/s]"
          ]
        },
        {
          "output_type": "stream",
          "name": "stdout",
          "text": [
            "Fine-tuning Epoch: 24, Loss: 0.2859, Accuracy: 62.71%\n",
            "Fine-tuning Epoch: 24, Loss: 0.3099, Accuracy: 62.30%\n"
          ]
        },
        {
          "output_type": "stream",
          "name": "stderr",
          "text": [
            " 30%|███       | 18/60 [00:05<00:11,  3.79it/s]"
          ]
        },
        {
          "output_type": "stream",
          "name": "stdout",
          "text": [
            "Fine-tuning Epoch: 24, Loss: 0.3283, Accuracy: 61.95%\n",
            "Fine-tuning Epoch: 24, Loss: 0.3455, Accuracy: 62.50%\n"
          ]
        },
        {
          "output_type": "stream",
          "name": "stderr",
          "text": [
            " 33%|███▎      | 20/60 [00:05<00:10,  3.96it/s]"
          ]
        },
        {
          "output_type": "stream",
          "name": "stdout",
          "text": [
            "Fine-tuning Epoch: 24, Loss: 0.3622, Accuracy: 62.50%\n",
            "Fine-tuning Epoch: 24, Loss: 0.3801, Accuracy: 62.50%\n"
          ]
        },
        {
          "output_type": "stream",
          "name": "stderr",
          "text": [
            " 37%|███▋      | 22/60 [00:06<00:09,  4.09it/s]"
          ]
        },
        {
          "output_type": "stream",
          "name": "stdout",
          "text": [
            "Fine-tuning Epoch: 24, Loss: 0.4010, Accuracy: 62.65%\n",
            "Fine-tuning Epoch: 24, Loss: 0.4227, Accuracy: 62.36%\n"
          ]
        },
        {
          "output_type": "stream",
          "name": "stderr",
          "text": [
            " 40%|████      | 24/60 [00:06<00:09,  4.00it/s]"
          ]
        },
        {
          "output_type": "stream",
          "name": "stdout",
          "text": [
            "Fine-tuning Epoch: 24, Loss: 0.4418, Accuracy: 62.36%\n",
            "Fine-tuning Epoch: 24, Loss: 0.4606, Accuracy: 62.37%\n"
          ]
        },
        {
          "output_type": "stream",
          "name": "stderr",
          "text": [
            " 43%|████▎     | 26/60 [00:07<00:08,  4.05it/s]"
          ]
        },
        {
          "output_type": "stream",
          "name": "stdout",
          "text": [
            "Fine-tuning Epoch: 24, Loss: 0.4859, Accuracy: 62.00%\n",
            "Fine-tuning Epoch: 24, Loss: 0.5086, Accuracy: 61.78%\n"
          ]
        },
        {
          "output_type": "stream",
          "name": "stderr",
          "text": [
            " 47%|████▋     | 28/60 [00:07<00:08,  3.94it/s]"
          ]
        },
        {
          "output_type": "stream",
          "name": "stdout",
          "text": [
            "Fine-tuning Epoch: 24, Loss: 0.5260, Accuracy: 61.69%\n",
            "Fine-tuning Epoch: 24, Loss: 0.5406, Accuracy: 61.94%\n"
          ]
        },
        {
          "output_type": "stream",
          "name": "stderr",
          "text": [
            " 50%|█████     | 30/60 [00:08<00:07,  4.10it/s]"
          ]
        },
        {
          "output_type": "stream",
          "name": "stdout",
          "text": [
            "Fine-tuning Epoch: 24, Loss: 0.5557, Accuracy: 62.18%\n",
            "Fine-tuning Epoch: 24, Loss: 0.5709, Accuracy: 62.19%\n"
          ]
        },
        {
          "output_type": "stream",
          "name": "stderr",
          "text": [
            " 53%|█████▎    | 32/60 [00:09<00:06,  4.11it/s]"
          ]
        },
        {
          "output_type": "stream",
          "name": "stdout",
          "text": [
            "Fine-tuning Epoch: 24, Loss: 0.5918, Accuracy: 61.79%\n",
            "Fine-tuning Epoch: 24, Loss: 0.6140, Accuracy: 61.72%\n"
          ]
        },
        {
          "output_type": "stream",
          "name": "stderr",
          "text": [
            "\r 55%|█████▌    | 33/60 [00:09<00:08,  3.34it/s]"
          ]
        },
        {
          "output_type": "stream",
          "name": "stdout",
          "text": [
            "Fine-tuning Epoch: 24, Loss: 0.6290, Accuracy: 61.93%\n"
          ]
        },
        {
          "output_type": "stream",
          "name": "stderr",
          "text": [
            "\r 57%|█████▋    | 34/60 [00:09<00:07,  3.51it/s]"
          ]
        },
        {
          "output_type": "stream",
          "name": "stdout",
          "text": [
            "Fine-tuning Epoch: 24, Loss: 0.6475, Accuracy: 61.76%\n"
          ]
        },
        {
          "output_type": "stream",
          "name": "stderr",
          "text": [
            "\r 58%|█████▊    | 35/60 [00:10<00:10,  2.47it/s]"
          ]
        },
        {
          "output_type": "stream",
          "name": "stdout",
          "text": [
            "Fine-tuning Epoch: 24, Loss: 0.6659, Accuracy: 61.88%\n"
          ]
        },
        {
          "output_type": "stream",
          "name": "stderr",
          "text": [
            "\r 60%|██████    | 36/60 [00:10<00:08,  2.77it/s]"
          ]
        },
        {
          "output_type": "stream",
          "name": "stdout",
          "text": [
            "Fine-tuning Epoch: 24, Loss: 0.6852, Accuracy: 61.63%\n"
          ]
        },
        {
          "output_type": "stream",
          "name": "stderr",
          "text": [
            "\r 62%|██████▏   | 37/60 [00:11<00:10,  2.21it/s]"
          ]
        },
        {
          "output_type": "stream",
          "name": "stdout",
          "text": [
            "Fine-tuning Epoch: 24, Loss: 0.7015, Accuracy: 61.66%\n"
          ]
        },
        {
          "output_type": "stream",
          "name": "stderr",
          "text": [
            "\r 63%|██████▎   | 38/60 [00:11<00:08,  2.62it/s]"
          ]
        },
        {
          "output_type": "stream",
          "name": "stdout",
          "text": [
            "Fine-tuning Epoch: 24, Loss: 0.7205, Accuracy: 61.51%\n"
          ]
        },
        {
          "output_type": "stream",
          "name": "stderr",
          "text": [
            " 67%|██████▋   | 40/60 [00:12<00:07,  2.64it/s]"
          ]
        },
        {
          "output_type": "stream",
          "name": "stdout",
          "text": [
            "Fine-tuning Epoch: 24, Loss: 0.7395, Accuracy: 61.70%\n",
            "Fine-tuning Epoch: 24, Loss: 0.7584, Accuracy: 61.72%\n"
          ]
        },
        {
          "output_type": "stream",
          "name": "stderr",
          "text": [
            "\r 68%|██████▊   | 41/60 [00:13<00:08,  2.13it/s]"
          ]
        },
        {
          "output_type": "stream",
          "name": "stdout",
          "text": [
            "Fine-tuning Epoch: 24, Loss: 0.7762, Accuracy: 61.74%\n"
          ]
        },
        {
          "output_type": "stream",
          "name": "stderr",
          "text": [
            "\r 70%|███████   | 42/60 [00:13<00:07,  2.48it/s]"
          ]
        },
        {
          "output_type": "stream",
          "name": "stdout",
          "text": [
            "Fine-tuning Epoch: 24, Loss: 0.8001, Accuracy: 61.24%\n"
          ]
        },
        {
          "output_type": "stream",
          "name": "stderr",
          "text": [
            "\r 72%|███████▏  | 43/60 [00:14<00:08,  2.04it/s]"
          ]
        },
        {
          "output_type": "stream",
          "name": "stdout",
          "text": [
            "Fine-tuning Epoch: 24, Loss: 0.8171, Accuracy: 61.26%\n"
          ]
        },
        {
          "output_type": "stream",
          "name": "stderr",
          "text": [
            "\r 73%|███████▎  | 44/60 [00:14<00:06,  2.44it/s]"
          ]
        },
        {
          "output_type": "stream",
          "name": "stdout",
          "text": [
            "Fine-tuning Epoch: 24, Loss: 0.8345, Accuracy: 61.58%\n"
          ]
        },
        {
          "output_type": "stream",
          "name": "stderr",
          "text": [
            " 77%|███████▋  | 46/60 [00:14<00:04,  2.91it/s]"
          ]
        },
        {
          "output_type": "stream",
          "name": "stdout",
          "text": [
            "Fine-tuning Epoch: 24, Loss: 0.8608, Accuracy: 61.46%\n",
            "Fine-tuning Epoch: 24, Loss: 0.8779, Accuracy: 61.48%\n"
          ]
        },
        {
          "output_type": "stream",
          "name": "stderr",
          "text": [
            " 80%|████████  | 48/60 [00:15<00:03,  3.36it/s]"
          ]
        },
        {
          "output_type": "stream",
          "name": "stdout",
          "text": [
            "Fine-tuning Epoch: 24, Loss: 0.8989, Accuracy: 61.24%\n",
            "Fine-tuning Epoch: 24, Loss: 0.9195, Accuracy: 61.07%\n"
          ]
        },
        {
          "output_type": "stream",
          "name": "stderr",
          "text": [
            " 83%|████████▎ | 50/60 [00:16<00:02,  3.51it/s]"
          ]
        },
        {
          "output_type": "stream",
          "name": "stdout",
          "text": [
            "Fine-tuning Epoch: 24, Loss: 0.9397, Accuracy: 61.22%\n",
            "Fine-tuning Epoch: 24, Loss: 0.9647, Accuracy: 61.00%\n"
          ]
        },
        {
          "output_type": "stream",
          "name": "stderr",
          "text": [
            " 87%|████████▋ | 52/60 [00:16<00:02,  3.74it/s]"
          ]
        },
        {
          "output_type": "stream",
          "name": "stdout",
          "text": [
            "Fine-tuning Epoch: 24, Loss: 0.9784, Accuracy: 61.09%\n",
            "Fine-tuning Epoch: 24, Loss: 0.9993, Accuracy: 61.00%\n"
          ]
        },
        {
          "output_type": "stream",
          "name": "stderr",
          "text": [
            "\r 88%|████████▊ | 53/60 [00:16<00:02,  3.37it/s]"
          ]
        },
        {
          "output_type": "stream",
          "name": "stdout",
          "text": [
            "Fine-tuning Epoch: 24, Loss: 1.0149, Accuracy: 61.14%\n"
          ]
        },
        {
          "output_type": "stream",
          "name": "stderr",
          "text": [
            "\r 90%|█████████ | 54/60 [00:17<00:01,  3.64it/s]"
          ]
        },
        {
          "output_type": "stream",
          "name": "stdout",
          "text": [
            "Fine-tuning Epoch: 24, Loss: 1.0321, Accuracy: 61.17%\n"
          ]
        },
        {
          "output_type": "stream",
          "name": "stderr",
          "text": [
            "\r 92%|█████████▏| 55/60 [00:17<00:01,  3.54it/s]"
          ]
        },
        {
          "output_type": "stream",
          "name": "stdout",
          "text": [
            "Fine-tuning Epoch: 24, Loss: 1.0475, Accuracy: 61.31%\n"
          ]
        },
        {
          "output_type": "stream",
          "name": "stderr",
          "text": [
            "\r 93%|█████████▎| 56/60 [00:17<00:01,  3.60it/s]"
          ]
        },
        {
          "output_type": "stream",
          "name": "stdout",
          "text": [
            "Fine-tuning Epoch: 24, Loss: 1.0715, Accuracy: 61.05%\n"
          ]
        },
        {
          "output_type": "stream",
          "name": "stderr",
          "text": [
            "\r 95%|█████████▌| 57/60 [00:17<00:00,  3.65it/s]"
          ]
        },
        {
          "output_type": "stream",
          "name": "stdout",
          "text": [
            "Fine-tuning Epoch: 24, Loss: 1.0929, Accuracy: 60.86%\n"
          ]
        },
        {
          "output_type": "stream",
          "name": "stderr",
          "text": [
            "\r 97%|█████████▋| 58/60 [00:18<00:00,  3.68it/s]"
          ]
        },
        {
          "output_type": "stream",
          "name": "stdout",
          "text": [
            "Fine-tuning Epoch: 24, Loss: 1.1112, Accuracy: 60.99%\n"
          ]
        },
        {
          "output_type": "stream",
          "name": "stderr",
          "text": [
            "100%|██████████| 60/60 [00:18<00:00,  4.03it/s]"
          ]
        },
        {
          "output_type": "stream",
          "name": "stdout",
          "text": [
            "Fine-tuning Epoch: 24, Loss: 1.1251, Accuracy: 61.12%\n",
            "Fine-tuning Epoch: 24, Loss: 1.1426, Accuracy: 61.15%\n"
          ]
        },
        {
          "output_type": "stream",
          "name": "stderr",
          "text": [
            "100%|██████████| 60/60 [00:18<00:00,  3.20it/s]\n",
            "  3%|▎         | 2/60 [00:00<00:21,  2.73it/s]"
          ]
        },
        {
          "output_type": "stream",
          "name": "stdout",
          "text": [
            "Fine-tuning Epoch: 25, Loss: 0.0165, Accuracy: 68.75%\n",
            "Fine-tuning Epoch: 25, Loss: 0.0354, Accuracy: 65.62%\n"
          ]
        },
        {
          "output_type": "stream",
          "name": "stderr",
          "text": [
            "  7%|▋         | 4/60 [00:01<00:15,  3.57it/s]"
          ]
        },
        {
          "output_type": "stream",
          "name": "stdout",
          "text": [
            "Fine-tuning Epoch: 25, Loss: 0.0464, Accuracy: 71.88%\n",
            "Fine-tuning Epoch: 25, Loss: 0.0637, Accuracy: 68.75%\n"
          ]
        },
        {
          "output_type": "stream",
          "name": "stderr",
          "text": [
            " 10%|█         | 6/60 [00:01<00:14,  3.83it/s]"
          ]
        },
        {
          "output_type": "stream",
          "name": "stdout",
          "text": [
            "Fine-tuning Epoch: 25, Loss: 0.0847, Accuracy: 67.50%\n",
            "Fine-tuning Epoch: 25, Loss: 0.1048, Accuracy: 67.19%\n"
          ]
        },
        {
          "output_type": "stream",
          "name": "stderr",
          "text": [
            " 13%|█▎        | 8/60 [00:02<00:12,  4.00it/s]"
          ]
        },
        {
          "output_type": "stream",
          "name": "stdout",
          "text": [
            "Fine-tuning Epoch: 25, Loss: 0.1236, Accuracy: 66.96%\n",
            "Fine-tuning Epoch: 25, Loss: 0.1404, Accuracy: 67.19%\n"
          ]
        },
        {
          "output_type": "stream",
          "name": "stderr",
          "text": [
            " 17%|█▋        | 10/60 [00:03<00:13,  3.74it/s]"
          ]
        },
        {
          "output_type": "stream",
          "name": "stdout",
          "text": [
            "Fine-tuning Epoch: 25, Loss: 0.1621, Accuracy: 66.32%\n",
            "Fine-tuning Epoch: 25, Loss: 0.1802, Accuracy: 66.25%\n"
          ]
        },
        {
          "output_type": "stream",
          "name": "stderr",
          "text": [
            " 20%|██        | 12/60 [00:03<00:11,  4.03it/s]"
          ]
        },
        {
          "output_type": "stream",
          "name": "stdout",
          "text": [
            "Fine-tuning Epoch: 25, Loss: 0.1983, Accuracy: 66.19%\n",
            "Fine-tuning Epoch: 25, Loss: 0.2153, Accuracy: 66.15%\n"
          ]
        },
        {
          "output_type": "stream",
          "name": "stderr",
          "text": [
            " 23%|██▎       | 14/60 [00:04<00:11,  3.98it/s]"
          ]
        },
        {
          "output_type": "stream",
          "name": "stdout",
          "text": [
            "Fine-tuning Epoch: 25, Loss: 0.2376, Accuracy: 65.62%\n",
            "Fine-tuning Epoch: 25, Loss: 0.2524, Accuracy: 65.40%\n"
          ]
        },
        {
          "output_type": "stream",
          "name": "stderr",
          "text": [
            " 27%|██▋       | 16/60 [00:04<00:11,  3.96it/s]"
          ]
        },
        {
          "output_type": "stream",
          "name": "stdout",
          "text": [
            "Fine-tuning Epoch: 25, Loss: 0.2781, Accuracy: 64.58%\n",
            "Fine-tuning Epoch: 25, Loss: 0.2921, Accuracy: 65.23%\n"
          ]
        },
        {
          "output_type": "stream",
          "name": "stderr",
          "text": [
            " 30%|███       | 18/60 [00:05<00:10,  3.92it/s]"
          ]
        },
        {
          "output_type": "stream",
          "name": "stdout",
          "text": [
            "Fine-tuning Epoch: 25, Loss: 0.3179, Accuracy: 64.89%\n",
            "Fine-tuning Epoch: 25, Loss: 0.3339, Accuracy: 65.28%\n"
          ]
        },
        {
          "output_type": "stream",
          "name": "stderr",
          "text": [
            " 33%|███▎      | 20/60 [00:05<00:10,  3.98it/s]"
          ]
        },
        {
          "output_type": "stream",
          "name": "stdout",
          "text": [
            "Fine-tuning Epoch: 25, Loss: 0.3537, Accuracy: 64.80%\n",
            "Fine-tuning Epoch: 25, Loss: 0.3712, Accuracy: 65.00%\n"
          ]
        },
        {
          "output_type": "stream",
          "name": "stderr",
          "text": [
            "\r 35%|███▌      | 21/60 [00:06<00:14,  2.77it/s]"
          ]
        },
        {
          "output_type": "stream",
          "name": "stdout",
          "text": [
            "Fine-tuning Epoch: 25, Loss: 0.3927, Accuracy: 64.58%\n"
          ]
        },
        {
          "output_type": "stream",
          "name": "stderr",
          "text": [
            "\r 37%|███▋      | 22/60 [00:06<00:12,  3.07it/s]"
          ]
        },
        {
          "output_type": "stream",
          "name": "stdout",
          "text": [
            "Fine-tuning Epoch: 25, Loss: 0.4141, Accuracy: 64.35%\n"
          ]
        },
        {
          "output_type": "stream",
          "name": "stderr",
          "text": [
            "\r 38%|███▊      | 23/60 [00:07<00:15,  2.37it/s]"
          ]
        },
        {
          "output_type": "stream",
          "name": "stdout",
          "text": [
            "Fine-tuning Epoch: 25, Loss: 0.4336, Accuracy: 63.99%\n"
          ]
        },
        {
          "output_type": "stream",
          "name": "stderr",
          "text": [
            "\r 40%|████      | 24/60 [00:07<00:13,  2.68it/s]"
          ]
        },
        {
          "output_type": "stream",
          "name": "stdout",
          "text": [
            "Fine-tuning Epoch: 25, Loss: 0.4512, Accuracy: 63.80%\n"
          ]
        },
        {
          "output_type": "stream",
          "name": "stderr",
          "text": [
            "\r 42%|████▏     | 25/60 [00:08<00:15,  2.29it/s]"
          ]
        },
        {
          "output_type": "stream",
          "name": "stdout",
          "text": [
            "Fine-tuning Epoch: 25, Loss: 0.4705, Accuracy: 63.75%\n"
          ]
        },
        {
          "output_type": "stream",
          "name": "stderr",
          "text": [
            "\r 43%|████▎     | 26/60 [00:08<00:13,  2.53it/s]"
          ]
        },
        {
          "output_type": "stream",
          "name": "stdout",
          "text": [
            "Fine-tuning Epoch: 25, Loss: 0.4871, Accuracy: 63.94%\n"
          ]
        },
        {
          "output_type": "stream",
          "name": "stderr",
          "text": [
            "\r 45%|████▌     | 27/60 [00:09<00:14,  2.23it/s]"
          ]
        },
        {
          "output_type": "stream",
          "name": "stdout",
          "text": [
            "Fine-tuning Epoch: 25, Loss: 0.5047, Accuracy: 64.12%\n"
          ]
        },
        {
          "output_type": "stream",
          "name": "stderr",
          "text": [
            "\r 47%|████▋     | 28/60 [00:09<00:12,  2.49it/s]"
          ]
        },
        {
          "output_type": "stream",
          "name": "stdout",
          "text": [
            "Fine-tuning Epoch: 25, Loss: 0.5177, Accuracy: 64.51%\n"
          ]
        },
        {
          "output_type": "stream",
          "name": "stderr",
          "text": [
            "\r 48%|████▊     | 29/60 [00:09<00:14,  2.14it/s]"
          ]
        },
        {
          "output_type": "stream",
          "name": "stdout",
          "text": [
            "Fine-tuning Epoch: 25, Loss: 0.5317, Accuracy: 64.76%\n"
          ]
        },
        {
          "output_type": "stream",
          "name": "stderr",
          "text": [
            "\r 50%|█████     | 30/60 [00:10<00:11,  2.55it/s]"
          ]
        },
        {
          "output_type": "stream",
          "name": "stdout",
          "text": [
            "Fine-tuning Epoch: 25, Loss: 0.5456, Accuracy: 64.90%\n"
          ]
        },
        {
          "output_type": "stream",
          "name": "stderr",
          "text": [
            " 53%|█████▎    | 32/60 [00:11<00:10,  2.65it/s]"
          ]
        },
        {
          "output_type": "stream",
          "name": "stdout",
          "text": [
            "Fine-tuning Epoch: 25, Loss: 0.5605, Accuracy: 65.02%\n",
            "Fine-tuning Epoch: 25, Loss: 0.5825, Accuracy: 64.65%\n"
          ]
        },
        {
          "output_type": "stream",
          "name": "stderr",
          "text": [
            " 57%|█████▋    | 34/60 [00:11<00:08,  3.08it/s]"
          ]
        },
        {
          "output_type": "stream",
          "name": "stdout",
          "text": [
            "Fine-tuning Epoch: 25, Loss: 0.6130, Accuracy: 63.92%\n",
            "Fine-tuning Epoch: 25, Loss: 0.6323, Accuracy: 63.60%\n"
          ]
        },
        {
          "output_type": "stream",
          "name": "stderr",
          "text": [
            " 60%|██████    | 36/60 [00:12<00:07,  3.27it/s]"
          ]
        },
        {
          "output_type": "stream",
          "name": "stdout",
          "text": [
            "Fine-tuning Epoch: 25, Loss: 0.6496, Accuracy: 63.66%\n",
            "Fine-tuning Epoch: 25, Loss: 0.6717, Accuracy: 63.54%\n"
          ]
        },
        {
          "output_type": "stream",
          "name": "stderr",
          "text": [
            " 63%|██████▎   | 38/60 [00:12<00:06,  3.57it/s]"
          ]
        },
        {
          "output_type": "stream",
          "name": "stdout",
          "text": [
            "Fine-tuning Epoch: 25, Loss: 0.6898, Accuracy: 63.60%\n",
            "Fine-tuning Epoch: 25, Loss: 0.7151, Accuracy: 63.40%\n"
          ]
        },
        {
          "output_type": "stream",
          "name": "stderr",
          "text": [
            " 67%|██████▋   | 40/60 [00:13<00:05,  3.65it/s]"
          ]
        },
        {
          "output_type": "stream",
          "name": "stdout",
          "text": [
            "Fine-tuning Epoch: 25, Loss: 0.7343, Accuracy: 63.62%\n",
            "Fine-tuning Epoch: 25, Loss: 0.7565, Accuracy: 63.20%\n"
          ]
        },
        {
          "output_type": "stream",
          "name": "stderr",
          "text": [
            " 70%|███████   | 42/60 [00:13<00:04,  3.92it/s]"
          ]
        },
        {
          "output_type": "stream",
          "name": "stdout",
          "text": [
            "Fine-tuning Epoch: 25, Loss: 0.7758, Accuracy: 63.19%\n",
            "Fine-tuning Epoch: 25, Loss: 0.7919, Accuracy: 63.47%\n"
          ]
        },
        {
          "output_type": "stream",
          "name": "stderr",
          "text": [
            " 73%|███████▎  | 44/60 [00:14<00:03,  4.16it/s]"
          ]
        },
        {
          "output_type": "stream",
          "name": "stdout",
          "text": [
            "Fine-tuning Epoch: 25, Loss: 0.8148, Accuracy: 63.23%\n",
            "Fine-tuning Epoch: 25, Loss: 0.8325, Accuracy: 63.35%\n"
          ]
        },
        {
          "output_type": "stream",
          "name": "stderr",
          "text": [
            " 77%|███████▋  | 46/60 [00:14<00:03,  4.13it/s]"
          ]
        },
        {
          "output_type": "stream",
          "name": "stdout",
          "text": [
            "Fine-tuning Epoch: 25, Loss: 0.8557, Accuracy: 63.12%\n",
            "Fine-tuning Epoch: 25, Loss: 0.8799, Accuracy: 63.04%\n"
          ]
        },
        {
          "output_type": "stream",
          "name": "stderr",
          "text": [
            " 80%|████████  | 48/60 [00:15<00:02,  4.02it/s]"
          ]
        },
        {
          "output_type": "stream",
          "name": "stdout",
          "text": [
            "Fine-tuning Epoch: 25, Loss: 0.9009, Accuracy: 62.97%\n",
            "Fine-tuning Epoch: 25, Loss: 0.9185, Accuracy: 63.09%\n"
          ]
        },
        {
          "output_type": "stream",
          "name": "stderr",
          "text": [
            " 83%|████████▎ | 50/60 [00:16<00:02,  3.97it/s]"
          ]
        },
        {
          "output_type": "stream",
          "name": "stdout",
          "text": [
            "Fine-tuning Epoch: 25, Loss: 0.9306, Accuracy: 63.14%\n",
            "Fine-tuning Epoch: 25, Loss: 0.9513, Accuracy: 62.94%\n"
          ]
        },
        {
          "output_type": "stream",
          "name": "stderr",
          "text": [
            " 87%|████████▋ | 52/60 [00:16<00:02,  3.94it/s]"
          ]
        },
        {
          "output_type": "stream",
          "name": "stdout",
          "text": [
            "Fine-tuning Epoch: 25, Loss: 0.9703, Accuracy: 62.93%\n",
            "Fine-tuning Epoch: 25, Loss: 0.9855, Accuracy: 63.04%\n"
          ]
        },
        {
          "output_type": "stream",
          "name": "stderr",
          "text": [
            " 90%|█████████ | 54/60 [00:17<00:01,  4.15it/s]"
          ]
        },
        {
          "output_type": "stream",
          "name": "stdout",
          "text": [
            "Fine-tuning Epoch: 25, Loss: 1.0085, Accuracy: 62.74%\n",
            "Fine-tuning Epoch: 25, Loss: 1.0278, Accuracy: 62.62%\n"
          ]
        },
        {
          "output_type": "stream",
          "name": "stderr",
          "text": [
            " 93%|█████████▎| 56/60 [00:17<00:00,  4.27it/s]"
          ]
        },
        {
          "output_type": "stream",
          "name": "stdout",
          "text": [
            "Fine-tuning Epoch: 25, Loss: 1.0442, Accuracy: 62.50%\n",
            "Fine-tuning Epoch: 25, Loss: 1.0613, Accuracy: 62.67%\n"
          ]
        },
        {
          "output_type": "stream",
          "name": "stderr",
          "text": [
            " 97%|█████████▋| 58/60 [00:18<00:00,  3.89it/s]"
          ]
        },
        {
          "output_type": "stream",
          "name": "stdout",
          "text": [
            "Fine-tuning Epoch: 25, Loss: 1.0813, Accuracy: 62.45%\n",
            "Fine-tuning Epoch: 25, Loss: 1.1014, Accuracy: 62.39%\n"
          ]
        },
        {
          "output_type": "stream",
          "name": "stderr",
          "text": [
            "100%|██████████| 60/60 [00:18<00:00,  3.18it/s]\n"
          ]
        },
        {
          "output_type": "stream",
          "name": "stdout",
          "text": [
            "Fine-tuning Epoch: 25, Loss: 1.1206, Accuracy: 62.39%\n",
            "Fine-tuning Epoch: 25, Loss: 1.1325, Accuracy: 62.81%\n"
          ]
        },
        {
          "output_type": "stream",
          "name": "stderr",
          "text": [
            "  3%|▎         | 2/60 [00:00<00:21,  2.70it/s]"
          ]
        },
        {
          "output_type": "stream",
          "name": "stdout",
          "text": [
            "Fine-tuning Epoch: 26, Loss: 0.0238, Accuracy: 46.88%\n",
            "Fine-tuning Epoch: 26, Loss: 0.0414, Accuracy: 51.56%\n"
          ]
        },
        {
          "output_type": "stream",
          "name": "stderr",
          "text": [
            "  7%|▋         | 4/60 [00:01<00:16,  3.45it/s]"
          ]
        },
        {
          "output_type": "stream",
          "name": "stdout",
          "text": [
            "Fine-tuning Epoch: 26, Loss: 0.0556, Accuracy: 57.29%\n",
            "Fine-tuning Epoch: 26, Loss: 0.0724, Accuracy: 59.38%\n"
          ]
        },
        {
          "output_type": "stream",
          "name": "stderr",
          "text": [
            " 10%|█         | 6/60 [00:01<00:14,  3.75it/s]"
          ]
        },
        {
          "output_type": "stream",
          "name": "stdout",
          "text": [
            "Fine-tuning Epoch: 26, Loss: 0.0878, Accuracy: 59.38%\n",
            "Fine-tuning Epoch: 26, Loss: 0.1141, Accuracy: 56.77%\n"
          ]
        },
        {
          "output_type": "stream",
          "name": "stderr",
          "text": [
            " 13%|█▎        | 8/60 [00:02<00:16,  3.25it/s]"
          ]
        },
        {
          "output_type": "stream",
          "name": "stdout",
          "text": [
            "Fine-tuning Epoch: 26, Loss: 0.1339, Accuracy: 58.48%\n",
            "Fine-tuning Epoch: 26, Loss: 0.1585, Accuracy: 57.03%\n"
          ]
        },
        {
          "output_type": "stream",
          "name": "stderr",
          "text": [
            "\r 15%|█▌        | 9/60 [00:03<00:20,  2.48it/s]"
          ]
        },
        {
          "output_type": "stream",
          "name": "stdout",
          "text": [
            "Fine-tuning Epoch: 26, Loss: 0.1766, Accuracy: 57.64%\n"
          ]
        },
        {
          "output_type": "stream",
          "name": "stderr",
          "text": [
            "\r 17%|█▋        | 10/60 [00:03<00:18,  2.74it/s]"
          ]
        },
        {
          "output_type": "stream",
          "name": "stdout",
          "text": [
            "Fine-tuning Epoch: 26, Loss: 0.2006, Accuracy: 57.81%\n"
          ]
        },
        {
          "output_type": "stream",
          "name": "stderr",
          "text": [
            "\r 18%|█▊        | 11/60 [00:04<00:21,  2.32it/s]"
          ]
        },
        {
          "output_type": "stream",
          "name": "stdout",
          "text": [
            "Fine-tuning Epoch: 26, Loss: 0.2159, Accuracy: 59.38%\n"
          ]
        },
        {
          "output_type": "stream",
          "name": "stderr",
          "text": [
            "\r 20%|██        | 12/60 [00:04<00:20,  2.36it/s]"
          ]
        },
        {
          "output_type": "stream",
          "name": "stdout",
          "text": [
            "Fine-tuning Epoch: 26, Loss: 0.2347, Accuracy: 59.90%\n"
          ]
        },
        {
          "output_type": "stream",
          "name": "stderr",
          "text": [
            "\r 22%|██▏       | 13/60 [00:04<00:18,  2.50it/s]"
          ]
        },
        {
          "output_type": "stream",
          "name": "stdout",
          "text": [
            "Fine-tuning Epoch: 26, Loss: 0.2551, Accuracy: 60.34%\n"
          ]
        },
        {
          "output_type": "stream",
          "name": "stderr",
          "text": [
            "\r 23%|██▎       | 14/60 [00:05<00:19,  2.31it/s]"
          ]
        },
        {
          "output_type": "stream",
          "name": "stdout",
          "text": [
            "Fine-tuning Epoch: 26, Loss: 0.2773, Accuracy: 59.60%\n"
          ]
        },
        {
          "output_type": "stream",
          "name": "stderr",
          "text": [
            "\r 25%|██▌       | 15/60 [00:05<00:19,  2.36it/s]"
          ]
        },
        {
          "output_type": "stream",
          "name": "stdout",
          "text": [
            "Fine-tuning Epoch: 26, Loss: 0.2994, Accuracy: 59.38%\n"
          ]
        },
        {
          "output_type": "stream",
          "name": "stderr",
          "text": [
            "\r 27%|██▋       | 16/60 [00:06<00:19,  2.24it/s]"
          ]
        },
        {
          "output_type": "stream",
          "name": "stdout",
          "text": [
            "Fine-tuning Epoch: 26, Loss: 0.3136, Accuracy: 60.16%\n"
          ]
        },
        {
          "output_type": "stream",
          "name": "stderr",
          "text": [
            "\r 28%|██▊       | 17/60 [00:06<00:19,  2.26it/s]"
          ]
        },
        {
          "output_type": "stream",
          "name": "stdout",
          "text": [
            "Fine-tuning Epoch: 26, Loss: 0.3333, Accuracy: 59.93%\n"
          ]
        },
        {
          "output_type": "stream",
          "name": "stderr",
          "text": [
            "\r 30%|███       | 18/60 [00:07<00:18,  2.22it/s]"
          ]
        },
        {
          "output_type": "stream",
          "name": "stdout",
          "text": [
            "Fine-tuning Epoch: 26, Loss: 0.3515, Accuracy: 60.24%\n"
          ]
        },
        {
          "output_type": "stream",
          "name": "stderr",
          "text": [
            "\r 32%|███▏      | 19/60 [00:07<00:17,  2.39it/s]"
          ]
        },
        {
          "output_type": "stream",
          "name": "stdout",
          "text": [
            "Fine-tuning Epoch: 26, Loss: 0.3700, Accuracy: 60.53%\n"
          ]
        },
        {
          "output_type": "stream",
          "name": "stderr",
          "text": [
            " 35%|███▌      | 21/60 [00:08<00:12,  3.09it/s]"
          ]
        },
        {
          "output_type": "stream",
          "name": "stdout",
          "text": [
            "Fine-tuning Epoch: 26, Loss: 0.3901, Accuracy: 60.94%\n",
            "Fine-tuning Epoch: 26, Loss: 0.4098, Accuracy: 60.57%\n"
          ]
        },
        {
          "output_type": "stream",
          "name": "stderr",
          "text": [
            " 38%|███▊      | 23/60 [00:08<00:10,  3.53it/s]"
          ]
        },
        {
          "output_type": "stream",
          "name": "stdout",
          "text": [
            "Fine-tuning Epoch: 26, Loss: 0.4279, Accuracy: 60.80%\n",
            "Fine-tuning Epoch: 26, Loss: 0.4503, Accuracy: 60.46%\n"
          ]
        },
        {
          "output_type": "stream",
          "name": "stderr",
          "text": [
            " 42%|████▏     | 25/60 [00:09<00:09,  3.75it/s]"
          ]
        },
        {
          "output_type": "stream",
          "name": "stdout",
          "text": [
            "Fine-tuning Epoch: 26, Loss: 0.4736, Accuracy: 60.42%\n",
            "Fine-tuning Epoch: 26, Loss: 0.4927, Accuracy: 60.50%\n"
          ]
        },
        {
          "output_type": "stream",
          "name": "stderr",
          "text": [
            " 45%|████▌     | 27/60 [00:09<00:08,  4.01it/s]"
          ]
        },
        {
          "output_type": "stream",
          "name": "stdout",
          "text": [
            "Fine-tuning Epoch: 26, Loss: 0.5101, Accuracy: 60.34%\n",
            "Fine-tuning Epoch: 26, Loss: 0.5225, Accuracy: 60.88%\n"
          ]
        },
        {
          "output_type": "stream",
          "name": "stderr",
          "text": [
            " 48%|████▊     | 29/60 [00:10<00:08,  3.81it/s]"
          ]
        },
        {
          "output_type": "stream",
          "name": "stdout",
          "text": [
            "Fine-tuning Epoch: 26, Loss: 0.5448, Accuracy: 60.83%\n",
            "Fine-tuning Epoch: 26, Loss: 0.5625, Accuracy: 61.21%\n"
          ]
        },
        {
          "output_type": "stream",
          "name": "stderr",
          "text": [
            " 52%|█████▏    | 31/60 [00:10<00:07,  3.86it/s]"
          ]
        },
        {
          "output_type": "stream",
          "name": "stdout",
          "text": [
            "Fine-tuning Epoch: 26, Loss: 0.5842, Accuracy: 61.04%\n",
            "Fine-tuning Epoch: 26, Loss: 0.6094, Accuracy: 60.69%\n"
          ]
        },
        {
          "output_type": "stream",
          "name": "stderr",
          "text": [
            " 55%|█████▌    | 33/60 [00:11<00:06,  3.93it/s]"
          ]
        },
        {
          "output_type": "stream",
          "name": "stdout",
          "text": [
            "Fine-tuning Epoch: 26, Loss: 0.6279, Accuracy: 60.55%\n",
            "Fine-tuning Epoch: 26, Loss: 0.6526, Accuracy: 60.23%\n"
          ]
        },
        {
          "output_type": "stream",
          "name": "stderr",
          "text": [
            " 58%|█████▊    | 35/60 [00:11<00:06,  4.05it/s]"
          ]
        },
        {
          "output_type": "stream",
          "name": "stdout",
          "text": [
            "Fine-tuning Epoch: 26, Loss: 0.6692, Accuracy: 60.57%\n",
            "Fine-tuning Epoch: 26, Loss: 0.6870, Accuracy: 60.80%\n"
          ]
        },
        {
          "output_type": "stream",
          "name": "stderr",
          "text": [
            " 62%|██████▏   | 37/60 [00:12<00:05,  4.03it/s]"
          ]
        },
        {
          "output_type": "stream",
          "name": "stdout",
          "text": [
            "Fine-tuning Epoch: 26, Loss: 0.7039, Accuracy: 60.85%\n",
            "Fine-tuning Epoch: 26, Loss: 0.7238, Accuracy: 60.73%\n"
          ]
        },
        {
          "output_type": "stream",
          "name": "stderr",
          "text": [
            " 65%|██████▌   | 39/60 [00:13<00:05,  4.03it/s]"
          ]
        },
        {
          "output_type": "stream",
          "name": "stdout",
          "text": [
            "Fine-tuning Epoch: 26, Loss: 0.7375, Accuracy: 61.02%\n",
            "Fine-tuning Epoch: 26, Loss: 0.7557, Accuracy: 60.98%\n"
          ]
        },
        {
          "output_type": "stream",
          "name": "stderr",
          "text": [
            " 68%|██████▊   | 41/60 [00:13<00:04,  4.01it/s]"
          ]
        },
        {
          "output_type": "stream",
          "name": "stdout",
          "text": [
            "Fine-tuning Epoch: 26, Loss: 0.7710, Accuracy: 61.09%\n",
            "Fine-tuning Epoch: 26, Loss: 0.7831, Accuracy: 61.59%\n"
          ]
        },
        {
          "output_type": "stream",
          "name": "stderr",
          "text": [
            " 72%|███████▏  | 43/60 [00:14<00:04,  3.90it/s]"
          ]
        },
        {
          "output_type": "stream",
          "name": "stdout",
          "text": [
            "Fine-tuning Epoch: 26, Loss: 0.7978, Accuracy: 61.90%\n",
            "Fine-tuning Epoch: 26, Loss: 0.8100, Accuracy: 62.28%\n"
          ]
        },
        {
          "output_type": "stream",
          "name": "stderr",
          "text": [
            " 75%|███████▌  | 45/60 [00:14<00:03,  4.12it/s]"
          ]
        },
        {
          "output_type": "stream",
          "name": "stdout",
          "text": [
            "Fine-tuning Epoch: 26, Loss: 0.8362, Accuracy: 62.07%\n",
            "Fine-tuning Epoch: 26, Loss: 0.8569, Accuracy: 62.08%\n"
          ]
        },
        {
          "output_type": "stream",
          "name": "stderr",
          "text": [
            " 78%|███████▊  | 47/60 [00:15<00:03,  4.13it/s]"
          ]
        },
        {
          "output_type": "stream",
          "name": "stdout",
          "text": [
            "Fine-tuning Epoch: 26, Loss: 0.8742, Accuracy: 62.30%\n",
            "Fine-tuning Epoch: 26, Loss: 0.8946, Accuracy: 62.23%\n"
          ]
        },
        {
          "output_type": "stream",
          "name": "stderr",
          "text": [
            " 82%|████████▏ | 49/60 [00:15<00:02,  3.95it/s]"
          ]
        },
        {
          "output_type": "stream",
          "name": "stdout",
          "text": [
            "Fine-tuning Epoch: 26, Loss: 0.9147, Accuracy: 62.17%\n",
            "Fine-tuning Epoch: 26, Loss: 0.9317, Accuracy: 62.18%\n"
          ]
        },
        {
          "output_type": "stream",
          "name": "stderr",
          "text": [
            " 85%|████████▌ | 51/60 [00:16<00:02,  3.79it/s]"
          ]
        },
        {
          "output_type": "stream",
          "name": "stdout",
          "text": [
            "Fine-tuning Epoch: 26, Loss: 0.9467, Accuracy: 62.31%\n",
            "Fine-tuning Epoch: 26, Loss: 0.9657, Accuracy: 62.32%\n"
          ]
        },
        {
          "output_type": "stream",
          "name": "stderr",
          "text": [
            " 88%|████████▊ | 53/60 [00:17<00:01,  3.82it/s]"
          ]
        },
        {
          "output_type": "stream",
          "name": "stdout",
          "text": [
            "Fine-tuning Epoch: 26, Loss: 0.9823, Accuracy: 62.26%\n",
            "Fine-tuning Epoch: 26, Loss: 1.0043, Accuracy: 62.15%\n"
          ]
        },
        {
          "output_type": "stream",
          "name": "stderr",
          "text": [
            " 92%|█████████▏| 55/60 [00:17<00:01,  3.80it/s]"
          ]
        },
        {
          "output_type": "stream",
          "name": "stdout",
          "text": [
            "Fine-tuning Epoch: 26, Loss: 1.0170, Accuracy: 62.38%\n",
            "Fine-tuning Epoch: 26, Loss: 1.0346, Accuracy: 62.33%\n"
          ]
        },
        {
          "output_type": "stream",
          "name": "stderr",
          "text": [
            " 95%|█████████▌| 57/60 [00:18<00:00,  3.15it/s]"
          ]
        },
        {
          "output_type": "stream",
          "name": "stdout",
          "text": [
            "Fine-tuning Epoch: 26, Loss: 1.0635, Accuracy: 62.11%\n",
            "Fine-tuning Epoch: 26, Loss: 1.0784, Accuracy: 62.23%\n"
          ]
        },
        {
          "output_type": "stream",
          "name": "stderr",
          "text": [
            " 98%|█████████▊| 59/60 [00:19<00:00,  2.96it/s]"
          ]
        },
        {
          "output_type": "stream",
          "name": "stdout",
          "text": [
            "Fine-tuning Epoch: 26, Loss: 1.0976, Accuracy: 62.34%\n",
            "Fine-tuning Epoch: 26, Loss: 1.1152, Accuracy: 62.50%\n"
          ]
        },
        {
          "output_type": "stream",
          "name": "stderr",
          "text": [
            "100%|██████████| 60/60 [00:19<00:00,  3.04it/s]\n"
          ]
        },
        {
          "output_type": "stream",
          "name": "stdout",
          "text": [
            "Fine-tuning Epoch: 26, Loss: 1.1275, Accuracy: 62.76%\n"
          ]
        },
        {
          "output_type": "stream",
          "name": "stderr",
          "text": [
            "  3%|▎         | 2/60 [00:01<00:30,  1.89it/s]"
          ]
        },
        {
          "output_type": "stream",
          "name": "stdout",
          "text": [
            "Fine-tuning Epoch: 27, Loss: 0.0199, Accuracy: 68.75%\n",
            "Fine-tuning Epoch: 27, Loss: 0.0486, Accuracy: 53.12%\n"
          ]
        },
        {
          "output_type": "stream",
          "name": "stderr",
          "text": [
            "  7%|▋         | 4/60 [00:02<00:25,  2.21it/s]"
          ]
        },
        {
          "output_type": "stream",
          "name": "stdout",
          "text": [
            "Fine-tuning Epoch: 27, Loss: 0.0639, Accuracy: 60.42%\n",
            "Fine-tuning Epoch: 27, Loss: 0.0784, Accuracy: 64.84%\n"
          ]
        },
        {
          "output_type": "stream",
          "name": "stderr",
          "text": [
            " 10%|█         | 6/60 [00:02<00:20,  2.61it/s]"
          ]
        },
        {
          "output_type": "stream",
          "name": "stdout",
          "text": [
            "Fine-tuning Epoch: 27, Loss: 0.0958, Accuracy: 62.50%\n",
            "Fine-tuning Epoch: 27, Loss: 0.1182, Accuracy: 63.54%\n"
          ]
        },
        {
          "output_type": "stream",
          "name": "stderr",
          "text": [
            " 13%|█▎        | 8/60 [00:03<00:16,  3.19it/s]"
          ]
        },
        {
          "output_type": "stream",
          "name": "stdout",
          "text": [
            "Fine-tuning Epoch: 27, Loss: 0.1330, Accuracy: 65.18%\n",
            "Fine-tuning Epoch: 27, Loss: 0.1545, Accuracy: 63.28%\n"
          ]
        },
        {
          "output_type": "stream",
          "name": "stderr",
          "text": [
            " 17%|█▋        | 10/60 [00:04<00:14,  3.47it/s]"
          ]
        },
        {
          "output_type": "stream",
          "name": "stdout",
          "text": [
            "Fine-tuning Epoch: 27, Loss: 0.1748, Accuracy: 62.50%\n",
            "Fine-tuning Epoch: 27, Loss: 0.1952, Accuracy: 61.88%\n"
          ]
        },
        {
          "output_type": "stream",
          "name": "stderr",
          "text": [
            " 20%|██        | 12/60 [00:04<00:12,  3.76it/s]"
          ]
        },
        {
          "output_type": "stream",
          "name": "stdout",
          "text": [
            "Fine-tuning Epoch: 27, Loss: 0.2194, Accuracy: 61.36%\n",
            "Fine-tuning Epoch: 27, Loss: 0.2351, Accuracy: 61.72%\n"
          ]
        },
        {
          "output_type": "stream",
          "name": "stderr",
          "text": [
            " 23%|██▎       | 14/60 [00:05<00:11,  3.93it/s]"
          ]
        },
        {
          "output_type": "stream",
          "name": "stdout",
          "text": [
            "Fine-tuning Epoch: 27, Loss: 0.2539, Accuracy: 61.78%\n",
            "Fine-tuning Epoch: 27, Loss: 0.2708, Accuracy: 62.05%\n"
          ]
        },
        {
          "output_type": "stream",
          "name": "stderr",
          "text": [
            " 27%|██▋       | 16/60 [00:05<00:11,  3.87it/s]"
          ]
        },
        {
          "output_type": "stream",
          "name": "stdout",
          "text": [
            "Fine-tuning Epoch: 27, Loss: 0.2912, Accuracy: 61.67%\n",
            "Fine-tuning Epoch: 27, Loss: 0.3083, Accuracy: 61.72%\n"
          ]
        },
        {
          "output_type": "stream",
          "name": "stderr",
          "text": [
            " 30%|███       | 18/60 [00:06<00:10,  3.96it/s]"
          ]
        },
        {
          "output_type": "stream",
          "name": "stdout",
          "text": [
            "Fine-tuning Epoch: 27, Loss: 0.3261, Accuracy: 61.58%\n",
            "Fine-tuning Epoch: 27, Loss: 0.3471, Accuracy: 61.28%\n"
          ]
        },
        {
          "output_type": "stream",
          "name": "stderr",
          "text": [
            " 33%|███▎      | 20/60 [00:06<00:10,  3.84it/s]"
          ]
        },
        {
          "output_type": "stream",
          "name": "stdout",
          "text": [
            "Fine-tuning Epoch: 27, Loss: 0.3675, Accuracy: 61.18%\n",
            "Fine-tuning Epoch: 27, Loss: 0.3861, Accuracy: 60.78%\n"
          ]
        },
        {
          "output_type": "stream",
          "name": "stderr",
          "text": [
            " 37%|███▋      | 22/60 [00:07<00:09,  3.80it/s]"
          ]
        },
        {
          "output_type": "stream",
          "name": "stdout",
          "text": [
            "Fine-tuning Epoch: 27, Loss: 0.4019, Accuracy: 60.86%\n",
            "Fine-tuning Epoch: 27, Loss: 0.4180, Accuracy: 61.36%\n"
          ]
        },
        {
          "output_type": "stream",
          "name": "stderr",
          "text": [
            " 40%|████      | 24/60 [00:08<00:09,  3.83it/s]"
          ]
        },
        {
          "output_type": "stream",
          "name": "stdout",
          "text": [
            "Fine-tuning Epoch: 27, Loss: 0.4432, Accuracy: 60.73%\n",
            "Fine-tuning Epoch: 27, Loss: 0.4577, Accuracy: 61.07%\n"
          ]
        },
        {
          "output_type": "stream",
          "name": "stderr",
          "text": [
            " 43%|████▎     | 26/60 [00:08<00:08,  3.86it/s]"
          ]
        },
        {
          "output_type": "stream",
          "name": "stdout",
          "text": [
            "Fine-tuning Epoch: 27, Loss: 0.4787, Accuracy: 60.88%\n",
            "Fine-tuning Epoch: 27, Loss: 0.4975, Accuracy: 61.06%\n"
          ]
        },
        {
          "output_type": "stream",
          "name": "stderr",
          "text": [
            " 47%|████▋     | 28/60 [00:09<00:08,  3.86it/s]"
          ]
        },
        {
          "output_type": "stream",
          "name": "stdout",
          "text": [
            "Fine-tuning Epoch: 27, Loss: 0.5147, Accuracy: 61.11%\n",
            "Fine-tuning Epoch: 27, Loss: 0.5334, Accuracy: 61.05%\n"
          ]
        },
        {
          "output_type": "stream",
          "name": "stderr",
          "text": [
            " 50%|█████     | 30/60 [00:09<00:07,  3.96it/s]"
          ]
        },
        {
          "output_type": "stream",
          "name": "stdout",
          "text": [
            "Fine-tuning Epoch: 27, Loss: 0.5515, Accuracy: 61.31%\n",
            "Fine-tuning Epoch: 27, Loss: 0.5746, Accuracy: 61.04%\n"
          ]
        },
        {
          "output_type": "stream",
          "name": "stderr",
          "text": [
            " 53%|█████▎    | 32/60 [00:10<00:07,  3.90it/s]"
          ]
        },
        {
          "output_type": "stream",
          "name": "stdout",
          "text": [
            "Fine-tuning Epoch: 27, Loss: 0.5915, Accuracy: 61.09%\n",
            "Fine-tuning Epoch: 27, Loss: 0.6139, Accuracy: 60.84%\n"
          ]
        },
        {
          "output_type": "stream",
          "name": "stderr",
          "text": [
            " 57%|█████▋    | 34/60 [00:10<00:06,  4.08it/s]"
          ]
        },
        {
          "output_type": "stream",
          "name": "stdout",
          "text": [
            "Fine-tuning Epoch: 27, Loss: 0.6241, Accuracy: 61.17%\n",
            "Fine-tuning Epoch: 27, Loss: 0.6425, Accuracy: 61.49%\n"
          ]
        },
        {
          "output_type": "stream",
          "name": "stderr",
          "text": [
            " 60%|██████    | 36/60 [00:11<00:05,  4.36it/s]"
          ]
        },
        {
          "output_type": "stream",
          "name": "stdout",
          "text": [
            "Fine-tuning Epoch: 27, Loss: 0.6590, Accuracy: 61.43%\n",
            "Fine-tuning Epoch: 27, Loss: 0.6813, Accuracy: 61.37%\n"
          ]
        },
        {
          "output_type": "stream",
          "name": "stderr",
          "text": [
            " 63%|██████▎   | 38/60 [00:11<00:05,  4.09it/s]"
          ]
        },
        {
          "output_type": "stream",
          "name": "stdout",
          "text": [
            "Fine-tuning Epoch: 27, Loss: 0.6961, Accuracy: 61.15%\n",
            "Fine-tuning Epoch: 27, Loss: 0.7160, Accuracy: 61.18%\n"
          ]
        },
        {
          "output_type": "stream",
          "name": "stderr",
          "text": [
            " 67%|██████▋   | 40/60 [00:12<00:04,  4.00it/s]"
          ]
        },
        {
          "output_type": "stream",
          "name": "stdout",
          "text": [
            "Fine-tuning Epoch: 27, Loss: 0.7300, Accuracy: 61.54%\n",
            "Fine-tuning Epoch: 27, Loss: 0.7499, Accuracy: 61.25%\n"
          ]
        },
        {
          "output_type": "stream",
          "name": "stderr",
          "text": [
            " 70%|███████   | 42/60 [00:13<00:05,  3.56it/s]"
          ]
        },
        {
          "output_type": "stream",
          "name": "stdout",
          "text": [
            "Fine-tuning Epoch: 27, Loss: 0.7729, Accuracy: 60.90%\n",
            "Fine-tuning Epoch: 27, Loss: 0.7957, Accuracy: 60.71%\n"
          ]
        },
        {
          "output_type": "stream",
          "name": "stderr",
          "text": [
            " 73%|███████▎  | 44/60 [00:14<00:05,  3.01it/s]"
          ]
        },
        {
          "output_type": "stream",
          "name": "stdout",
          "text": [
            "Fine-tuning Epoch: 27, Loss: 0.8131, Accuracy: 60.90%\n",
            "Fine-tuning Epoch: 27, Loss: 0.8328, Accuracy: 60.80%\n"
          ]
        },
        {
          "output_type": "stream",
          "name": "stderr",
          "text": [
            " 77%|███████▋  | 46/60 [00:14<00:05,  2.79it/s]"
          ]
        },
        {
          "output_type": "stream",
          "name": "stdout",
          "text": [
            "Fine-tuning Epoch: 27, Loss: 0.8546, Accuracy: 60.76%\n",
            "Fine-tuning Epoch: 27, Loss: 0.8725, Accuracy: 60.73%\n"
          ]
        },
        {
          "output_type": "stream",
          "name": "stderr",
          "text": [
            " 80%|████████  | 48/60 [00:15<00:04,  2.73it/s]"
          ]
        },
        {
          "output_type": "stream",
          "name": "stdout",
          "text": [
            "Fine-tuning Epoch: 27, Loss: 0.8880, Accuracy: 60.97%\n",
            "Fine-tuning Epoch: 27, Loss: 0.9019, Accuracy: 61.20%\n"
          ]
        },
        {
          "output_type": "stream",
          "name": "stderr",
          "text": [
            " 83%|████████▎ | 50/60 [00:16<00:03,  2.62it/s]"
          ]
        },
        {
          "output_type": "stream",
          "name": "stdout",
          "text": [
            "Fine-tuning Epoch: 27, Loss: 0.9169, Accuracy: 61.48%\n",
            "Fine-tuning Epoch: 27, Loss: 0.9355, Accuracy: 61.50%\n"
          ]
        },
        {
          "output_type": "stream",
          "name": "stderr",
          "text": [
            " 87%|████████▋ | 52/60 [00:17<00:03,  2.65it/s]"
          ]
        },
        {
          "output_type": "stream",
          "name": "stdout",
          "text": [
            "Fine-tuning Epoch: 27, Loss: 0.9480, Accuracy: 61.89%\n",
            "Fine-tuning Epoch: 27, Loss: 0.9654, Accuracy: 61.96%\n"
          ]
        },
        {
          "output_type": "stream",
          "name": "stderr",
          "text": [
            " 90%|█████████ | 54/60 [00:18<00:02,  2.94it/s]"
          ]
        },
        {
          "output_type": "stream",
          "name": "stdout",
          "text": [
            "Fine-tuning Epoch: 27, Loss: 0.9848, Accuracy: 61.85%\n",
            "Fine-tuning Epoch: 27, Loss: 1.0100, Accuracy: 61.46%\n"
          ]
        },
        {
          "output_type": "stream",
          "name": "stderr",
          "text": [
            " 93%|█████████▎| 56/60 [00:18<00:01,  3.32it/s]"
          ]
        },
        {
          "output_type": "stream",
          "name": "stdout",
          "text": [
            "Fine-tuning Epoch: 27, Loss: 1.0333, Accuracy: 61.42%\n",
            "Fine-tuning Epoch: 27, Loss: 1.0508, Accuracy: 61.61%\n"
          ]
        },
        {
          "output_type": "stream",
          "name": "stderr",
          "text": [
            " 97%|█████████▋| 58/60 [00:19<00:00,  3.82it/s]"
          ]
        },
        {
          "output_type": "stream",
          "name": "stdout",
          "text": [
            "Fine-tuning Epoch: 27, Loss: 1.0661, Accuracy: 61.79%\n",
            "Fine-tuning Epoch: 27, Loss: 1.0823, Accuracy: 61.75%\n"
          ]
        },
        {
          "output_type": "stream",
          "name": "stderr",
          "text": [
            "100%|██████████| 60/60 [00:19<00:00,  3.03it/s]\n"
          ]
        },
        {
          "output_type": "stream",
          "name": "stdout",
          "text": [
            "Fine-tuning Epoch: 27, Loss: 1.1040, Accuracy: 61.81%\n",
            "Fine-tuning Epoch: 27, Loss: 1.1200, Accuracy: 61.88%\n"
          ]
        },
        {
          "output_type": "stream",
          "name": "stderr",
          "text": [
            "  3%|▎         | 2/60 [00:00<00:20,  2.81it/s]"
          ]
        },
        {
          "output_type": "stream",
          "name": "stdout",
          "text": [
            "Fine-tuning Epoch: 28, Loss: 0.0208, Accuracy: 53.12%\n",
            "Fine-tuning Epoch: 28, Loss: 0.0372, Accuracy: 62.50%\n"
          ]
        },
        {
          "output_type": "stream",
          "name": "stderr",
          "text": [
            "  7%|▋         | 4/60 [00:01<00:16,  3.48it/s]"
          ]
        },
        {
          "output_type": "stream",
          "name": "stdout",
          "text": [
            "Fine-tuning Epoch: 28, Loss: 0.0542, Accuracy: 62.50%\n",
            "Fine-tuning Epoch: 28, Loss: 0.0783, Accuracy: 60.16%\n"
          ]
        },
        {
          "output_type": "stream",
          "name": "stderr",
          "text": [
            " 10%|█         | 6/60 [00:01<00:13,  3.91it/s]"
          ]
        },
        {
          "output_type": "stream",
          "name": "stdout",
          "text": [
            "Fine-tuning Epoch: 28, Loss: 0.0896, Accuracy: 65.62%\n",
            "Fine-tuning Epoch: 28, Loss: 0.1078, Accuracy: 66.15%\n"
          ]
        },
        {
          "output_type": "stream",
          "name": "stderr",
          "text": [
            " 13%|█▎        | 8/60 [00:02<00:12,  4.07it/s]"
          ]
        },
        {
          "output_type": "stream",
          "name": "stdout",
          "text": [
            "Fine-tuning Epoch: 28, Loss: 0.1224, Accuracy: 66.96%\n",
            "Fine-tuning Epoch: 28, Loss: 0.1410, Accuracy: 66.41%\n"
          ]
        },
        {
          "output_type": "stream",
          "name": "stderr",
          "text": [
            " 17%|█▋        | 10/60 [00:02<00:12,  3.96it/s]"
          ]
        },
        {
          "output_type": "stream",
          "name": "stdout",
          "text": [
            "Fine-tuning Epoch: 28, Loss: 0.1624, Accuracy: 65.97%\n",
            "Fine-tuning Epoch: 28, Loss: 0.1802, Accuracy: 65.62%\n"
          ]
        },
        {
          "output_type": "stream",
          "name": "stderr",
          "text": [
            " 20%|██        | 12/60 [00:03<00:12,  3.98it/s]"
          ]
        },
        {
          "output_type": "stream",
          "name": "stdout",
          "text": [
            "Fine-tuning Epoch: 28, Loss: 0.1943, Accuracy: 65.34%\n",
            "Fine-tuning Epoch: 28, Loss: 0.2127, Accuracy: 64.32%\n"
          ]
        },
        {
          "output_type": "stream",
          "name": "stderr",
          "text": [
            " 23%|██▎       | 14/60 [00:04<00:11,  4.12it/s]"
          ]
        },
        {
          "output_type": "stream",
          "name": "stdout",
          "text": [
            "Fine-tuning Epoch: 28, Loss: 0.2430, Accuracy: 62.50%\n",
            "Fine-tuning Epoch: 28, Loss: 0.2629, Accuracy: 62.50%\n"
          ]
        },
        {
          "output_type": "stream",
          "name": "stderr",
          "text": [
            " 27%|██▋       | 16/60 [00:04<00:11,  3.94it/s]"
          ]
        },
        {
          "output_type": "stream",
          "name": "stdout",
          "text": [
            "Fine-tuning Epoch: 28, Loss: 0.2860, Accuracy: 61.88%\n",
            "Fine-tuning Epoch: 28, Loss: 0.3012, Accuracy: 62.50%\n"
          ]
        },
        {
          "output_type": "stream",
          "name": "stderr",
          "text": [
            " 30%|███       | 18/60 [00:05<00:10,  4.01it/s]"
          ]
        },
        {
          "output_type": "stream",
          "name": "stdout",
          "text": [
            "Fine-tuning Epoch: 28, Loss: 0.3222, Accuracy: 62.68%\n",
            "Fine-tuning Epoch: 28, Loss: 0.3399, Accuracy: 63.02%\n"
          ]
        },
        {
          "output_type": "stream",
          "name": "stderr",
          "text": [
            " 33%|███▎      | 20/60 [00:05<00:10,  3.96it/s]"
          ]
        },
        {
          "output_type": "stream",
          "name": "stdout",
          "text": [
            "Fine-tuning Epoch: 28, Loss: 0.3552, Accuracy: 63.16%\n",
            "Fine-tuning Epoch: 28, Loss: 0.3804, Accuracy: 62.34%\n"
          ]
        },
        {
          "output_type": "stream",
          "name": "stderr",
          "text": [
            " 37%|███▋      | 22/60 [00:06<00:09,  3.92it/s]"
          ]
        },
        {
          "output_type": "stream",
          "name": "stdout",
          "text": [
            "Fine-tuning Epoch: 28, Loss: 0.3959, Accuracy: 62.50%\n",
            "Fine-tuning Epoch: 28, Loss: 0.4234, Accuracy: 62.07%\n"
          ]
        },
        {
          "output_type": "stream",
          "name": "stderr",
          "text": [
            " 40%|████      | 24/60 [00:06<00:08,  4.02it/s]"
          ]
        },
        {
          "output_type": "stream",
          "name": "stdout",
          "text": [
            "Fine-tuning Epoch: 28, Loss: 0.4386, Accuracy: 62.50%\n",
            "Fine-tuning Epoch: 28, Loss: 0.4665, Accuracy: 61.46%\n"
          ]
        },
        {
          "output_type": "stream",
          "name": "stderr",
          "text": [
            " 43%|████▎     | 26/60 [00:07<00:08,  3.96it/s]"
          ]
        },
        {
          "output_type": "stream",
          "name": "stdout",
          "text": [
            "Fine-tuning Epoch: 28, Loss: 0.4865, Accuracy: 61.00%\n",
            "Fine-tuning Epoch: 28, Loss: 0.5041, Accuracy: 61.30%\n"
          ]
        },
        {
          "output_type": "stream",
          "name": "stderr",
          "text": [
            " 47%|████▋     | 28/60 [00:07<00:07,  4.09it/s]"
          ]
        },
        {
          "output_type": "stream",
          "name": "stdout",
          "text": [
            "Fine-tuning Epoch: 28, Loss: 0.5222, Accuracy: 61.00%\n",
            "Fine-tuning Epoch: 28, Loss: 0.5378, Accuracy: 61.50%\n"
          ]
        },
        {
          "output_type": "stream",
          "name": "stderr",
          "text": [
            " 50%|█████     | 30/60 [00:08<00:09,  3.08it/s]"
          ]
        },
        {
          "output_type": "stream",
          "name": "stdout",
          "text": [
            "Fine-tuning Epoch: 28, Loss: 0.5558, Accuracy: 61.64%\n",
            "Fine-tuning Epoch: 28, Loss: 0.5771, Accuracy: 61.15%\n"
          ]
        },
        {
          "output_type": "stream",
          "name": "stderr",
          "text": [
            " 53%|█████▎    | 32/60 [00:09<00:10,  2.66it/s]"
          ]
        },
        {
          "output_type": "stream",
          "name": "stdout",
          "text": [
            "Fine-tuning Epoch: 28, Loss: 0.5952, Accuracy: 61.09%\n",
            "Fine-tuning Epoch: 28, Loss: 0.6150, Accuracy: 61.04%\n"
          ]
        },
        {
          "output_type": "stream",
          "name": "stderr",
          "text": [
            " 57%|█████▋    | 34/60 [00:10<00:09,  2.65it/s]"
          ]
        },
        {
          "output_type": "stream",
          "name": "stdout",
          "text": [
            "Fine-tuning Epoch: 28, Loss: 0.6321, Accuracy: 60.80%\n",
            "Fine-tuning Epoch: 28, Loss: 0.6484, Accuracy: 61.03%\n"
          ]
        },
        {
          "output_type": "stream",
          "name": "stderr",
          "text": [
            " 60%|██████    | 36/60 [00:11<00:08,  2.74it/s]"
          ]
        },
        {
          "output_type": "stream",
          "name": "stdout",
          "text": [
            "Fine-tuning Epoch: 28, Loss: 0.6655, Accuracy: 61.25%\n",
            "Fine-tuning Epoch: 28, Loss: 0.6826, Accuracy: 61.46%\n"
          ]
        },
        {
          "output_type": "stream",
          "name": "stderr",
          "text": [
            " 63%|██████▎   | 38/60 [00:12<00:08,  2.66it/s]"
          ]
        },
        {
          "output_type": "stream",
          "name": "stdout",
          "text": [
            "Fine-tuning Epoch: 28, Loss: 0.7039, Accuracy: 61.32%\n",
            "Fine-tuning Epoch: 28, Loss: 0.7213, Accuracy: 61.18%\n"
          ]
        },
        {
          "output_type": "stream",
          "name": "stderr",
          "text": [
            " 67%|██████▋   | 40/60 [00:13<00:07,  2.54it/s]"
          ]
        },
        {
          "output_type": "stream",
          "name": "stdout",
          "text": [
            "Fine-tuning Epoch: 28, Loss: 0.7401, Accuracy: 61.14%\n",
            "Fine-tuning Epoch: 28, Loss: 0.7618, Accuracy: 61.33%\n"
          ]
        },
        {
          "output_type": "stream",
          "name": "stderr",
          "text": [
            " 70%|███████   | 42/60 [00:13<00:05,  3.05it/s]"
          ]
        },
        {
          "output_type": "stream",
          "name": "stdout",
          "text": [
            "Fine-tuning Epoch: 28, Loss: 0.7841, Accuracy: 61.36%\n",
            "Fine-tuning Epoch: 28, Loss: 0.8056, Accuracy: 61.24%\n"
          ]
        },
        {
          "output_type": "stream",
          "name": "stderr",
          "text": [
            " 73%|███████▎  | 44/60 [00:14<00:04,  3.40it/s]"
          ]
        },
        {
          "output_type": "stream",
          "name": "stdout",
          "text": [
            "Fine-tuning Epoch: 28, Loss: 0.8269, Accuracy: 61.19%\n",
            "Fine-tuning Epoch: 28, Loss: 0.8428, Accuracy: 61.36%\n"
          ]
        },
        {
          "output_type": "stream",
          "name": "stderr",
          "text": [
            " 77%|███████▋  | 46/60 [00:15<00:03,  3.70it/s]"
          ]
        },
        {
          "output_type": "stream",
          "name": "stdout",
          "text": [
            "Fine-tuning Epoch: 28, Loss: 0.8649, Accuracy: 61.18%\n",
            "Fine-tuning Epoch: 28, Loss: 0.8815, Accuracy: 61.14%\n"
          ]
        },
        {
          "output_type": "stream",
          "name": "stderr",
          "text": [
            " 80%|████████  | 48/60 [00:15<00:03,  3.72it/s]"
          ]
        },
        {
          "output_type": "stream",
          "name": "stdout",
          "text": [
            "Fine-tuning Epoch: 28, Loss: 0.8937, Accuracy: 61.57%\n",
            "Fine-tuning Epoch: 28, Loss: 0.9140, Accuracy: 61.59%\n"
          ]
        },
        {
          "output_type": "stream",
          "name": "stderr",
          "text": [
            " 83%|████████▎ | 50/60 [00:16<00:02,  3.90it/s]"
          ]
        },
        {
          "output_type": "stream",
          "name": "stdout",
          "text": [
            "Fine-tuning Epoch: 28, Loss: 0.9277, Accuracy: 61.80%\n",
            "Fine-tuning Epoch: 28, Loss: 0.9482, Accuracy: 61.62%\n"
          ]
        },
        {
          "output_type": "stream",
          "name": "stderr",
          "text": [
            " 87%|████████▋ | 52/60 [00:16<00:02,  3.96it/s]"
          ]
        },
        {
          "output_type": "stream",
          "name": "stdout",
          "text": [
            "Fine-tuning Epoch: 28, Loss: 0.9635, Accuracy: 61.64%\n",
            "Fine-tuning Epoch: 28, Loss: 0.9783, Accuracy: 61.90%\n"
          ]
        },
        {
          "output_type": "stream",
          "name": "stderr",
          "text": [
            " 90%|█████████ | 54/60 [00:17<00:01,  3.99it/s]"
          ]
        },
        {
          "output_type": "stream",
          "name": "stdout",
          "text": [
            "Fine-tuning Epoch: 28, Loss: 0.9952, Accuracy: 61.85%\n",
            "Fine-tuning Epoch: 28, Loss: 1.0196, Accuracy: 61.63%\n"
          ]
        },
        {
          "output_type": "stream",
          "name": "stderr",
          "text": [
            " 93%|█████████▎| 56/60 [00:17<00:01,  3.84it/s]"
          ]
        },
        {
          "output_type": "stream",
          "name": "stdout",
          "text": [
            "Fine-tuning Epoch: 28, Loss: 1.0340, Accuracy: 61.88%\n",
            "Fine-tuning Epoch: 28, Loss: 1.0494, Accuracy: 61.89%\n"
          ]
        },
        {
          "output_type": "stream",
          "name": "stderr",
          "text": [
            " 97%|█████████▋| 58/60 [00:18<00:00,  3.87it/s]"
          ]
        },
        {
          "output_type": "stream",
          "name": "stdout",
          "text": [
            "Fine-tuning Epoch: 28, Loss: 1.0758, Accuracy: 61.62%\n",
            "Fine-tuning Epoch: 28, Loss: 1.0892, Accuracy: 61.91%\n"
          ]
        },
        {
          "output_type": "stream",
          "name": "stderr",
          "text": [
            "100%|██████████| 60/60 [00:18<00:00,  3.16it/s]\n"
          ]
        },
        {
          "output_type": "stream",
          "name": "stdout",
          "text": [
            "Fine-tuning Epoch: 28, Loss: 1.1045, Accuracy: 62.08%\n",
            "Fine-tuning Epoch: 28, Loss: 1.1175, Accuracy: 62.29%\n"
          ]
        },
        {
          "output_type": "stream",
          "name": "stderr",
          "text": [
            "  3%|▎         | 2/60 [00:00<00:24,  2.39it/s]"
          ]
        },
        {
          "output_type": "stream",
          "name": "stdout",
          "text": [
            "Fine-tuning Epoch: 29, Loss: 0.0109, Accuracy: 71.88%\n",
            "Fine-tuning Epoch: 29, Loss: 0.0302, Accuracy: 70.31%\n"
          ]
        },
        {
          "output_type": "stream",
          "name": "stderr",
          "text": [
            "  7%|▋         | 4/60 [00:01<00:17,  3.25it/s]"
          ]
        },
        {
          "output_type": "stream",
          "name": "stdout",
          "text": [
            "Fine-tuning Epoch: 29, Loss: 0.0497, Accuracy: 66.67%\n",
            "Fine-tuning Epoch: 29, Loss: 0.0664, Accuracy: 66.41%\n"
          ]
        },
        {
          "output_type": "stream",
          "name": "stderr",
          "text": [
            " 10%|█         | 6/60 [00:02<00:15,  3.51it/s]"
          ]
        },
        {
          "output_type": "stream",
          "name": "stdout",
          "text": [
            "Fine-tuning Epoch: 29, Loss: 0.0820, Accuracy: 66.88%\n",
            "Fine-tuning Epoch: 29, Loss: 0.0941, Accuracy: 68.75%\n"
          ]
        },
        {
          "output_type": "stream",
          "name": "stderr",
          "text": [
            " 13%|█▎        | 8/60 [00:02<00:14,  3.64it/s]"
          ]
        },
        {
          "output_type": "stream",
          "name": "stdout",
          "text": [
            "Fine-tuning Epoch: 29, Loss: 0.1132, Accuracy: 67.86%\n",
            "Fine-tuning Epoch: 29, Loss: 0.1324, Accuracy: 67.19%\n"
          ]
        },
        {
          "output_type": "stream",
          "name": "stderr",
          "text": [
            " 17%|█▋        | 10/60 [00:03<00:13,  3.79it/s]"
          ]
        },
        {
          "output_type": "stream",
          "name": "stdout",
          "text": [
            "Fine-tuning Epoch: 29, Loss: 0.1522, Accuracy: 66.32%\n",
            "Fine-tuning Epoch: 29, Loss: 0.1668, Accuracy: 66.56%\n"
          ]
        },
        {
          "output_type": "stream",
          "name": "stderr",
          "text": [
            " 20%|██        | 12/60 [00:03<00:12,  3.86it/s]"
          ]
        },
        {
          "output_type": "stream",
          "name": "stdout",
          "text": [
            "Fine-tuning Epoch: 29, Loss: 0.1785, Accuracy: 66.76%\n",
            "Fine-tuning Epoch: 29, Loss: 0.1933, Accuracy: 66.67%\n"
          ]
        },
        {
          "output_type": "stream",
          "name": "stderr",
          "text": [
            " 23%|██▎       | 14/60 [00:04<00:11,  4.04it/s]"
          ]
        },
        {
          "output_type": "stream",
          "name": "stdout",
          "text": [
            "Fine-tuning Epoch: 29, Loss: 0.2078, Accuracy: 67.07%\n",
            "Fine-tuning Epoch: 29, Loss: 0.2237, Accuracy: 67.41%\n"
          ]
        },
        {
          "output_type": "stream",
          "name": "stderr",
          "text": [
            " 27%|██▋       | 16/60 [00:05<00:13,  3.20it/s]"
          ]
        },
        {
          "output_type": "stream",
          "name": "stdout",
          "text": [
            "Fine-tuning Epoch: 29, Loss: 0.2404, Accuracy: 67.50%\n",
            "Fine-tuning Epoch: 29, Loss: 0.2598, Accuracy: 67.58%\n"
          ]
        },
        {
          "output_type": "stream",
          "name": "stderr",
          "text": [
            " 30%|███       | 18/60 [00:06<00:14,  2.81it/s]"
          ]
        },
        {
          "output_type": "stream",
          "name": "stdout",
          "text": [
            "Fine-tuning Epoch: 29, Loss: 0.2754, Accuracy: 67.10%\n",
            "Fine-tuning Epoch: 29, Loss: 0.2928, Accuracy: 65.97%\n"
          ]
        },
        {
          "output_type": "stream",
          "name": "stderr",
          "text": [
            " 33%|███▎      | 20/60 [00:06<00:14,  2.80it/s]"
          ]
        },
        {
          "output_type": "stream",
          "name": "stdout",
          "text": [
            "Fine-tuning Epoch: 29, Loss: 0.3058, Accuracy: 66.45%\n",
            "Fine-tuning Epoch: 29, Loss: 0.3205, Accuracy: 66.56%\n"
          ]
        },
        {
          "output_type": "stream",
          "name": "stderr",
          "text": [
            " 37%|███▋      | 22/60 [00:07<00:14,  2.69it/s]"
          ]
        },
        {
          "output_type": "stream",
          "name": "stdout",
          "text": [
            "Fine-tuning Epoch: 29, Loss: 0.3448, Accuracy: 65.77%\n",
            "Fine-tuning Epoch: 29, Loss: 0.3608, Accuracy: 66.05%\n"
          ]
        },
        {
          "output_type": "stream",
          "name": "stderr",
          "text": [
            " 40%|████      | 24/60 [00:08<00:13,  2.62it/s]"
          ]
        },
        {
          "output_type": "stream",
          "name": "stdout",
          "text": [
            "Fine-tuning Epoch: 29, Loss: 0.3719, Accuracy: 66.58%\n",
            "Fine-tuning Epoch: 29, Loss: 0.3938, Accuracy: 66.41%\n"
          ]
        },
        {
          "output_type": "stream",
          "name": "stderr",
          "text": [
            " 43%|████▎     | 26/60 [00:09<00:12,  2.71it/s]"
          ]
        },
        {
          "output_type": "stream",
          "name": "stdout",
          "text": [
            "Fine-tuning Epoch: 29, Loss: 0.4074, Accuracy: 67.00%\n",
            "Fine-tuning Epoch: 29, Loss: 0.4259, Accuracy: 66.95%\n"
          ]
        },
        {
          "output_type": "stream",
          "name": "stderr",
          "text": [
            " 47%|████▋     | 28/60 [00:10<00:09,  3.20it/s]"
          ]
        },
        {
          "output_type": "stream",
          "name": "stdout",
          "text": [
            "Fine-tuning Epoch: 29, Loss: 0.4478, Accuracy: 66.67%\n",
            "Fine-tuning Epoch: 29, Loss: 0.4698, Accuracy: 66.29%\n"
          ]
        },
        {
          "output_type": "stream",
          "name": "stderr",
          "text": [
            " 50%|█████     | 30/60 [00:10<00:08,  3.68it/s]"
          ]
        },
        {
          "output_type": "stream",
          "name": "stdout",
          "text": [
            "Fine-tuning Epoch: 29, Loss: 0.4840, Accuracy: 66.27%\n",
            "Fine-tuning Epoch: 29, Loss: 0.5065, Accuracy: 66.04%\n"
          ]
        },
        {
          "output_type": "stream",
          "name": "stderr",
          "text": [
            " 53%|█████▎    | 32/60 [00:11<00:07,  3.80it/s]"
          ]
        },
        {
          "output_type": "stream",
          "name": "stdout",
          "text": [
            "Fine-tuning Epoch: 29, Loss: 0.5243, Accuracy: 65.93%\n",
            "Fine-tuning Epoch: 29, Loss: 0.5460, Accuracy: 65.43%\n"
          ]
        },
        {
          "output_type": "stream",
          "name": "stderr",
          "text": [
            " 57%|█████▋    | 34/60 [00:11<00:06,  3.80it/s]"
          ]
        },
        {
          "output_type": "stream",
          "name": "stdout",
          "text": [
            "Fine-tuning Epoch: 29, Loss: 0.5610, Accuracy: 65.44%\n",
            "Fine-tuning Epoch: 29, Loss: 0.5850, Accuracy: 64.98%\n"
          ]
        },
        {
          "output_type": "stream",
          "name": "stderr",
          "text": [
            " 60%|██████    | 36/60 [00:12<00:06,  3.98it/s]"
          ]
        },
        {
          "output_type": "stream",
          "name": "stdout",
          "text": [
            "Fine-tuning Epoch: 29, Loss: 0.5993, Accuracy: 65.27%\n",
            "Fine-tuning Epoch: 29, Loss: 0.6172, Accuracy: 65.28%\n"
          ]
        },
        {
          "output_type": "stream",
          "name": "stderr",
          "text": [
            " 63%|██████▎   | 38/60 [00:12<00:05,  4.01it/s]"
          ]
        },
        {
          "output_type": "stream",
          "name": "stdout",
          "text": [
            "Fine-tuning Epoch: 29, Loss: 0.6341, Accuracy: 65.29%\n",
            "Fine-tuning Epoch: 29, Loss: 0.6549, Accuracy: 65.05%\n"
          ]
        },
        {
          "output_type": "stream",
          "name": "stderr",
          "text": [
            " 67%|██████▋   | 40/60 [00:13<00:05,  3.85it/s]"
          ]
        },
        {
          "output_type": "stream",
          "name": "stdout",
          "text": [
            "Fine-tuning Epoch: 29, Loss: 0.6734, Accuracy: 65.06%\n",
            "Fine-tuning Epoch: 29, Loss: 0.6855, Accuracy: 65.47%\n"
          ]
        },
        {
          "output_type": "stream",
          "name": "stderr",
          "text": [
            " 70%|███████   | 42/60 [00:13<00:04,  3.95it/s]"
          ]
        },
        {
          "output_type": "stream",
          "name": "stdout",
          "text": [
            "Fine-tuning Epoch: 29, Loss: 0.7023, Accuracy: 65.40%\n",
            "Fine-tuning Epoch: 29, Loss: 0.7174, Accuracy: 65.55%\n"
          ]
        },
        {
          "output_type": "stream",
          "name": "stderr",
          "text": [
            " 73%|███████▎  | 44/60 [00:14<00:04,  3.82it/s]"
          ]
        },
        {
          "output_type": "stream",
          "name": "stdout",
          "text": [
            "Fine-tuning Epoch: 29, Loss: 0.7326, Accuracy: 65.41%\n",
            "Fine-tuning Epoch: 29, Loss: 0.7414, Accuracy: 65.70%\n"
          ]
        },
        {
          "output_type": "stream",
          "name": "stderr",
          "text": [
            " 77%|███████▋  | 46/60 [00:15<00:03,  4.08it/s]"
          ]
        },
        {
          "output_type": "stream",
          "name": "stdout",
          "text": [
            "Fine-tuning Epoch: 29, Loss: 0.7605, Accuracy: 65.56%\n",
            "Fine-tuning Epoch: 29, Loss: 0.7769, Accuracy: 65.42%\n"
          ]
        },
        {
          "output_type": "stream",
          "name": "stderr",
          "text": [
            " 80%|████████  | 48/60 [00:15<00:03,  3.89it/s]"
          ]
        },
        {
          "output_type": "stream",
          "name": "stdout",
          "text": [
            "Fine-tuning Epoch: 29, Loss: 0.7944, Accuracy: 65.36%\n",
            "Fine-tuning Epoch: 29, Loss: 0.8110, Accuracy: 65.43%\n"
          ]
        },
        {
          "output_type": "stream",
          "name": "stderr",
          "text": [
            " 83%|████████▎ | 50/60 [00:16<00:02,  3.99it/s]"
          ]
        },
        {
          "output_type": "stream",
          "name": "stdout",
          "text": [
            "Fine-tuning Epoch: 29, Loss: 0.8293, Accuracy: 65.37%\n",
            "Fine-tuning Epoch: 29, Loss: 0.8510, Accuracy: 65.19%\n"
          ]
        },
        {
          "output_type": "stream",
          "name": "stderr",
          "text": [
            " 87%|████████▋ | 52/60 [00:16<00:02,  3.85it/s]"
          ]
        },
        {
          "output_type": "stream",
          "name": "stdout",
          "text": [
            "Fine-tuning Epoch: 29, Loss: 0.8648, Accuracy: 65.50%\n",
            "Fine-tuning Epoch: 29, Loss: 0.8799, Accuracy: 65.56%\n"
          ]
        },
        {
          "output_type": "stream",
          "name": "stderr",
          "text": [
            " 90%|█████████ | 54/60 [00:17<00:01,  3.98it/s]"
          ]
        },
        {
          "output_type": "stream",
          "name": "stdout",
          "text": [
            "Fine-tuning Epoch: 29, Loss: 0.9005, Accuracy: 65.39%\n",
            "Fine-tuning Epoch: 29, Loss: 0.9136, Accuracy: 65.57%\n"
          ]
        },
        {
          "output_type": "stream",
          "name": "stderr",
          "text": [
            " 93%|█████████▎| 56/60 [00:17<00:01,  3.75it/s]"
          ]
        },
        {
          "output_type": "stream",
          "name": "stdout",
          "text": [
            "Fine-tuning Epoch: 29, Loss: 0.9358, Accuracy: 65.51%\n",
            "Fine-tuning Epoch: 29, Loss: 0.9573, Accuracy: 65.40%\n"
          ]
        },
        {
          "output_type": "stream",
          "name": "stderr",
          "text": [
            " 97%|█████████▋| 58/60 [00:18<00:00,  3.71it/s]"
          ]
        },
        {
          "output_type": "stream",
          "name": "stdout",
          "text": [
            "Fine-tuning Epoch: 29, Loss: 0.9736, Accuracy: 65.52%\n",
            "Fine-tuning Epoch: 29, Loss: 0.9907, Accuracy: 65.52%\n"
          ]
        },
        {
          "output_type": "stream",
          "name": "stderr",
          "text": [
            "100%|██████████| 60/60 [00:19<00:00,  3.14it/s]\n"
          ]
        },
        {
          "output_type": "stream",
          "name": "stdout",
          "text": [
            "Fine-tuning Epoch: 29, Loss: 1.0078, Accuracy: 65.31%\n",
            "Fine-tuning Epoch: 29, Loss: 1.0339, Accuracy: 65.16%\n"
          ]
        },
        {
          "output_type": "stream",
          "name": "stderr",
          "text": [
            "  3%|▎         | 2/60 [00:01<00:32,  1.79it/s]"
          ]
        },
        {
          "output_type": "stream",
          "name": "stdout",
          "text": [
            "Fine-tuning Epoch: 30, Loss: 0.0140, Accuracy: 68.75%\n",
            "Fine-tuning Epoch: 30, Loss: 0.0279, Accuracy: 73.44%\n"
          ]
        },
        {
          "output_type": "stream",
          "name": "stderr",
          "text": [
            "\r  5%|▌         | 3/60 [00:02<00:36,  1.57it/s]"
          ]
        },
        {
          "output_type": "stream",
          "name": "stdout",
          "text": [
            "Fine-tuning Epoch: 30, Loss: 0.0427, Accuracy: 73.96%\n"
          ]
        },
        {
          "output_type": "stream",
          "name": "stderr",
          "text": [
            "\r  7%|▋         | 4/60 [00:02<00:27,  2.06it/s]"
          ]
        },
        {
          "output_type": "stream",
          "name": "stdout",
          "text": [
            "Fine-tuning Epoch: 30, Loss: 0.0527, Accuracy: 75.78%\n"
          ]
        },
        {
          "output_type": "stream",
          "name": "stderr",
          "text": [
            "\r  8%|▊         | 5/60 [00:02<00:28,  1.91it/s]"
          ]
        },
        {
          "output_type": "stream",
          "name": "stdout",
          "text": [
            "Fine-tuning Epoch: 30, Loss: 0.0690, Accuracy: 72.50%\n"
          ]
        },
        {
          "output_type": "stream",
          "name": "stderr",
          "text": [
            "\r 10%|█         | 6/60 [00:03<00:22,  2.37it/s]"
          ]
        },
        {
          "output_type": "stream",
          "name": "stdout",
          "text": [
            "Fine-tuning Epoch: 30, Loss: 0.0875, Accuracy: 70.83%\n"
          ]
        },
        {
          "output_type": "stream",
          "name": "stderr",
          "text": [
            "\r 12%|█▏        | 7/60 [00:03<00:25,  2.06it/s]"
          ]
        },
        {
          "output_type": "stream",
          "name": "stdout",
          "text": [
            "Fine-tuning Epoch: 30, Loss: 0.1085, Accuracy: 69.64%\n"
          ]
        },
        {
          "output_type": "stream",
          "name": "stderr",
          "text": [
            "\r 13%|█▎        | 8/60 [00:03<00:21,  2.46it/s]"
          ]
        },
        {
          "output_type": "stream",
          "name": "stdout",
          "text": [
            "Fine-tuning Epoch: 30, Loss: 0.1247, Accuracy: 68.75%\n"
          ]
        },
        {
          "output_type": "stream",
          "name": "stderr",
          "text": [
            "\r 15%|█▌        | 9/60 [00:04<00:24,  2.08it/s]"
          ]
        },
        {
          "output_type": "stream",
          "name": "stdout",
          "text": [
            "Fine-tuning Epoch: 30, Loss: 0.1438, Accuracy: 67.36%\n"
          ]
        },
        {
          "output_type": "stream",
          "name": "stderr",
          "text": [
            "\r 17%|█▋        | 10/60 [00:04<00:20,  2.43it/s]"
          ]
        },
        {
          "output_type": "stream",
          "name": "stdout",
          "text": [
            "Fine-tuning Epoch: 30, Loss: 0.1573, Accuracy: 68.12%\n"
          ]
        },
        {
          "output_type": "stream",
          "name": "stderr",
          "text": [
            " 20%|██        | 12/60 [00:05<00:18,  2.57it/s]"
          ]
        },
        {
          "output_type": "stream",
          "name": "stdout",
          "text": [
            "Fine-tuning Epoch: 30, Loss: 0.1723, Accuracy: 68.47%\n",
            "Fine-tuning Epoch: 30, Loss: 0.1909, Accuracy: 68.23%\n"
          ]
        },
        {
          "output_type": "stream",
          "name": "stderr",
          "text": [
            " 23%|██▎       | 14/60 [00:06<00:14,  3.14it/s]"
          ]
        },
        {
          "output_type": "stream",
          "name": "stdout",
          "text": [
            "Fine-tuning Epoch: 30, Loss: 0.2036, Accuracy: 68.99%\n",
            "Fine-tuning Epoch: 30, Loss: 0.2188, Accuracy: 69.20%\n"
          ]
        },
        {
          "output_type": "stream",
          "name": "stderr",
          "text": [
            " 27%|██▋       | 16/60 [00:06<00:12,  3.43it/s]"
          ]
        },
        {
          "output_type": "stream",
          "name": "stdout",
          "text": [
            "Fine-tuning Epoch: 30, Loss: 0.2355, Accuracy: 68.75%\n",
            "Fine-tuning Epoch: 30, Loss: 0.2556, Accuracy: 67.38%\n"
          ]
        },
        {
          "output_type": "stream",
          "name": "stderr",
          "text": [
            " 30%|███       | 18/60 [00:07<00:11,  3.65it/s]"
          ]
        },
        {
          "output_type": "stream",
          "name": "stdout",
          "text": [
            "Fine-tuning Epoch: 30, Loss: 0.2747, Accuracy: 67.10%\n",
            "Fine-tuning Epoch: 30, Loss: 0.2956, Accuracy: 66.49%\n"
          ]
        },
        {
          "output_type": "stream",
          "name": "stderr",
          "text": [
            " 33%|███▎      | 20/60 [00:07<00:10,  3.87it/s]"
          ]
        },
        {
          "output_type": "stream",
          "name": "stdout",
          "text": [
            "Fine-tuning Epoch: 30, Loss: 0.3142, Accuracy: 65.95%\n",
            "Fine-tuning Epoch: 30, Loss: 0.3346, Accuracy: 65.62%\n"
          ]
        },
        {
          "output_type": "stream",
          "name": "stderr",
          "text": [
            " 37%|███▋      | 22/60 [00:08<00:09,  3.99it/s]"
          ]
        },
        {
          "output_type": "stream",
          "name": "stdout",
          "text": [
            "Fine-tuning Epoch: 30, Loss: 0.3480, Accuracy: 65.92%\n",
            "Fine-tuning Epoch: 30, Loss: 0.3653, Accuracy: 65.62%\n"
          ]
        },
        {
          "output_type": "stream",
          "name": "stderr",
          "text": [
            " 40%|████      | 24/60 [00:09<00:09,  4.00it/s]"
          ]
        },
        {
          "output_type": "stream",
          "name": "stdout",
          "text": [
            "Fine-tuning Epoch: 30, Loss: 0.3779, Accuracy: 66.03%\n",
            "Fine-tuning Epoch: 30, Loss: 0.4056, Accuracy: 64.84%\n"
          ]
        },
        {
          "output_type": "stream",
          "name": "stderr",
          "text": [
            " 43%|████▎     | 26/60 [00:09<00:08,  3.95it/s]"
          ]
        },
        {
          "output_type": "stream",
          "name": "stdout",
          "text": [
            "Fine-tuning Epoch: 30, Loss: 0.4214, Accuracy: 65.38%\n",
            "Fine-tuning Epoch: 30, Loss: 0.4340, Accuracy: 65.75%\n"
          ]
        },
        {
          "output_type": "stream",
          "name": "stderr",
          "text": [
            " 47%|████▋     | 28/60 [00:10<00:08,  3.93it/s]"
          ]
        },
        {
          "output_type": "stream",
          "name": "stdout",
          "text": [
            "Fine-tuning Epoch: 30, Loss: 0.4535, Accuracy: 65.62%\n",
            "Fine-tuning Epoch: 30, Loss: 0.4680, Accuracy: 66.07%\n"
          ]
        },
        {
          "output_type": "stream",
          "name": "stderr",
          "text": [
            " 50%|█████     | 30/60 [00:10<00:07,  3.86it/s]"
          ]
        },
        {
          "output_type": "stream",
          "name": "stdout",
          "text": [
            "Fine-tuning Epoch: 30, Loss: 0.4827, Accuracy: 65.84%\n",
            "Fine-tuning Epoch: 30, Loss: 0.5006, Accuracy: 65.62%\n"
          ]
        },
        {
          "output_type": "stream",
          "name": "stderr",
          "text": [
            " 53%|█████▎    | 32/60 [00:11<00:07,  3.97it/s]"
          ]
        },
        {
          "output_type": "stream",
          "name": "stdout",
          "text": [
            "Fine-tuning Epoch: 30, Loss: 0.5178, Accuracy: 65.73%\n",
            "Fine-tuning Epoch: 30, Loss: 0.5362, Accuracy: 65.62%\n"
          ]
        },
        {
          "output_type": "stream",
          "name": "stderr",
          "text": [
            " 57%|█████▋    | 34/60 [00:11<00:06,  3.91it/s]"
          ]
        },
        {
          "output_type": "stream",
          "name": "stdout",
          "text": [
            "Fine-tuning Epoch: 30, Loss: 0.5553, Accuracy: 65.53%\n",
            "Fine-tuning Epoch: 30, Loss: 0.5759, Accuracy: 65.53%\n"
          ]
        },
        {
          "output_type": "stream",
          "name": "stderr",
          "text": [
            " 60%|██████    | 36/60 [00:12<00:05,  4.03it/s]"
          ]
        },
        {
          "output_type": "stream",
          "name": "stdout",
          "text": [
            "Fine-tuning Epoch: 30, Loss: 0.5954, Accuracy: 65.36%\n",
            "Fine-tuning Epoch: 30, Loss: 0.6146, Accuracy: 65.28%\n"
          ]
        },
        {
          "output_type": "stream",
          "name": "stderr",
          "text": [
            " 63%|██████▎   | 38/60 [00:12<00:05,  4.00it/s]"
          ]
        },
        {
          "output_type": "stream",
          "name": "stdout",
          "text": [
            "Fine-tuning Epoch: 30, Loss: 0.6338, Accuracy: 65.20%\n",
            "Fine-tuning Epoch: 30, Loss: 0.6469, Accuracy: 65.46%\n"
          ]
        },
        {
          "output_type": "stream",
          "name": "stderr",
          "text": [
            " 67%|██████▋   | 40/60 [00:13<00:05,  3.94it/s]"
          ]
        },
        {
          "output_type": "stream",
          "name": "stdout",
          "text": [
            "Fine-tuning Epoch: 30, Loss: 0.6664, Accuracy: 65.30%\n",
            "Fine-tuning Epoch: 30, Loss: 0.6834, Accuracy: 65.23%\n"
          ]
        },
        {
          "output_type": "stream",
          "name": "stderr",
          "text": [
            " 70%|███████   | 42/60 [00:14<00:04,  4.20it/s]"
          ]
        },
        {
          "output_type": "stream",
          "name": "stdout",
          "text": [
            "Fine-tuning Epoch: 30, Loss: 0.6976, Accuracy: 65.62%\n",
            "Fine-tuning Epoch: 30, Loss: 0.7135, Accuracy: 65.55%\n"
          ]
        },
        {
          "output_type": "stream",
          "name": "stderr",
          "text": [
            " 73%|███████▎  | 44/60 [00:14<00:03,  4.09it/s]"
          ]
        },
        {
          "output_type": "stream",
          "name": "stdout",
          "text": [
            "Fine-tuning Epoch: 30, Loss: 0.7290, Accuracy: 65.70%\n",
            "Fine-tuning Epoch: 30, Loss: 0.7501, Accuracy: 65.41%\n"
          ]
        },
        {
          "output_type": "stream",
          "name": "stderr",
          "text": [
            " 77%|███████▋  | 46/60 [00:15<00:03,  4.05it/s]"
          ]
        },
        {
          "output_type": "stream",
          "name": "stdout",
          "text": [
            "Fine-tuning Epoch: 30, Loss: 0.7683, Accuracy: 65.35%\n",
            "Fine-tuning Epoch: 30, Loss: 0.7936, Accuracy: 64.95%\n"
          ]
        },
        {
          "output_type": "stream",
          "name": "stderr",
          "text": [
            "\r 78%|███████▊  | 47/60 [00:15<00:03,  3.77it/s]"
          ]
        },
        {
          "output_type": "stream",
          "name": "stdout",
          "text": [
            "Fine-tuning Epoch: 30, Loss: 0.8128, Accuracy: 64.96%\n"
          ]
        },
        {
          "output_type": "stream",
          "name": "stderr",
          "text": [
            "\r 80%|████████  | 48/60 [00:15<00:03,  3.72it/s]"
          ]
        },
        {
          "output_type": "stream",
          "name": "stdout",
          "text": [
            "Fine-tuning Epoch: 30, Loss: 0.8323, Accuracy: 64.97%\n"
          ]
        },
        {
          "output_type": "stream",
          "name": "stderr",
          "text": [
            "\r 82%|████████▏ | 49/60 [00:16<00:03,  2.90it/s]"
          ]
        },
        {
          "output_type": "stream",
          "name": "stdout",
          "text": [
            "Fine-tuning Epoch: 30, Loss: 0.8462, Accuracy: 65.31%\n"
          ]
        },
        {
          "output_type": "stream",
          "name": "stderr",
          "text": [
            "\r 83%|████████▎ | 50/60 [00:16<00:03,  2.86it/s]"
          ]
        },
        {
          "output_type": "stream",
          "name": "stdout",
          "text": [
            "Fine-tuning Epoch: 30, Loss: 0.8619, Accuracy: 65.44%\n"
          ]
        },
        {
          "output_type": "stream",
          "name": "stderr",
          "text": [
            "\r 85%|████████▌ | 51/60 [00:17<00:03,  2.32it/s]"
          ]
        },
        {
          "output_type": "stream",
          "name": "stdout",
          "text": [
            "Fine-tuning Epoch: 30, Loss: 0.8743, Accuracy: 65.62%\n"
          ]
        },
        {
          "output_type": "stream",
          "name": "stderr",
          "text": [
            "\r 87%|████████▋ | 52/60 [00:17<00:02,  2.74it/s]"
          ]
        },
        {
          "output_type": "stream",
          "name": "stdout",
          "text": [
            "Fine-tuning Epoch: 30, Loss: 0.8889, Accuracy: 65.69%\n"
          ]
        },
        {
          "output_type": "stream",
          "name": "stderr",
          "text": [
            "\r 88%|████████▊ | 53/60 [00:17<00:03,  2.30it/s]"
          ]
        },
        {
          "output_type": "stream",
          "name": "stdout",
          "text": [
            "Fine-tuning Epoch: 30, Loss: 0.9047, Accuracy: 65.80%\n"
          ]
        },
        {
          "output_type": "stream",
          "name": "stderr",
          "text": [
            "\r 90%|█████████ | 54/60 [00:18<00:02,  2.63it/s]"
          ]
        },
        {
          "output_type": "stream",
          "name": "stdout",
          "text": [
            "Fine-tuning Epoch: 30, Loss: 0.9188, Accuracy: 65.91%\n"
          ]
        },
        {
          "output_type": "stream",
          "name": "stderr",
          "text": [
            "\r 92%|█████████▏| 55/60 [00:18<00:02,  2.33it/s]"
          ]
        },
        {
          "output_type": "stream",
          "name": "stdout",
          "text": [
            "Fine-tuning Epoch: 30, Loss: 0.9390, Accuracy: 65.80%\n"
          ]
        },
        {
          "output_type": "stream",
          "name": "stderr",
          "text": [
            "\r 93%|█████████▎| 56/60 [00:19<00:01,  2.54it/s]"
          ]
        },
        {
          "output_type": "stream",
          "name": "stdout",
          "text": [
            "Fine-tuning Epoch: 30, Loss: 0.9569, Accuracy: 65.85%\n"
          ]
        },
        {
          "output_type": "stream",
          "name": "stderr",
          "text": [
            "\r 95%|█████████▌| 57/60 [00:19<00:01,  2.19it/s]"
          ]
        },
        {
          "output_type": "stream",
          "name": "stdout",
          "text": [
            "Fine-tuning Epoch: 30, Loss: 0.9724, Accuracy: 65.79%\n"
          ]
        },
        {
          "output_type": "stream",
          "name": "stderr",
          "text": [
            "\r 97%|█████████▋| 58/60 [00:19<00:00,  2.54it/s]"
          ]
        },
        {
          "output_type": "stream",
          "name": "stdout",
          "text": [
            "Fine-tuning Epoch: 30, Loss: 0.9892, Accuracy: 65.89%\n"
          ]
        },
        {
          "output_type": "stream",
          "name": "stderr",
          "text": [
            "100%|██████████| 60/60 [00:20<00:00,  2.87it/s]\n"
          ]
        },
        {
          "output_type": "stream",
          "name": "stdout",
          "text": [
            "Fine-tuning Epoch: 30, Loss: 1.0063, Accuracy: 65.94%\n",
            "Fine-tuning Epoch: 30, Loss: 1.0246, Accuracy: 65.78%\n"
          ]
        },
        {
          "output_type": "stream",
          "name": "stderr",
          "text": [
            "  3%|▎         | 2/60 [00:00<00:21,  2.66it/s]"
          ]
        },
        {
          "output_type": "stream",
          "name": "stdout",
          "text": [
            "Fine-tuning Epoch: 31, Loss: 0.0151, Accuracy: 65.62%\n",
            "Fine-tuning Epoch: 31, Loss: 0.0315, Accuracy: 67.19%\n"
          ]
        },
        {
          "output_type": "stream",
          "name": "stderr",
          "text": [
            "  7%|▋         | 4/60 [00:01<00:17,  3.28it/s]"
          ]
        },
        {
          "output_type": "stream",
          "name": "stdout",
          "text": [
            "Fine-tuning Epoch: 31, Loss: 0.0442, Accuracy: 68.75%\n",
            "Fine-tuning Epoch: 31, Loss: 0.0596, Accuracy: 67.19%\n"
          ]
        },
        {
          "output_type": "stream",
          "name": "stderr",
          "text": [
            " 10%|█         | 6/60 [00:02<00:14,  3.68it/s]"
          ]
        },
        {
          "output_type": "stream",
          "name": "stdout",
          "text": [
            "Fine-tuning Epoch: 31, Loss: 0.0820, Accuracy: 63.12%\n",
            "Fine-tuning Epoch: 31, Loss: 0.1069, Accuracy: 59.38%\n"
          ]
        },
        {
          "output_type": "stream",
          "name": "stderr",
          "text": [
            " 13%|█▎        | 8/60 [00:02<00:13,  3.88it/s]"
          ]
        },
        {
          "output_type": "stream",
          "name": "stdout",
          "text": [
            "Fine-tuning Epoch: 31, Loss: 0.1205, Accuracy: 60.27%\n",
            "Fine-tuning Epoch: 31, Loss: 0.1410, Accuracy: 61.72%\n"
          ]
        },
        {
          "output_type": "stream",
          "name": "stderr",
          "text": [
            " 17%|█▋        | 10/60 [00:03<00:12,  3.87it/s]"
          ]
        },
        {
          "output_type": "stream",
          "name": "stdout",
          "text": [
            "Fine-tuning Epoch: 31, Loss: 0.1599, Accuracy: 61.81%\n",
            "Fine-tuning Epoch: 31, Loss: 0.1729, Accuracy: 63.44%\n"
          ]
        },
        {
          "output_type": "stream",
          "name": "stderr",
          "text": [
            " 20%|██        | 12/60 [00:03<00:11,  4.01it/s]"
          ]
        },
        {
          "output_type": "stream",
          "name": "stdout",
          "text": [
            "Fine-tuning Epoch: 31, Loss: 0.1891, Accuracy: 63.64%\n",
            "Fine-tuning Epoch: 31, Loss: 0.2093, Accuracy: 63.28%\n"
          ]
        },
        {
          "output_type": "stream",
          "name": "stderr",
          "text": [
            " 23%|██▎       | 14/60 [00:04<00:10,  4.18it/s]"
          ]
        },
        {
          "output_type": "stream",
          "name": "stdout",
          "text": [
            "Fine-tuning Epoch: 31, Loss: 0.2312, Accuracy: 63.22%\n",
            "Fine-tuning Epoch: 31, Loss: 0.2489, Accuracy: 63.39%\n"
          ]
        },
        {
          "output_type": "stream",
          "name": "stderr",
          "text": [
            " 27%|██▋       | 16/60 [00:04<00:10,  4.01it/s]"
          ]
        },
        {
          "output_type": "stream",
          "name": "stdout",
          "text": [
            "Fine-tuning Epoch: 31, Loss: 0.2589, Accuracy: 65.00%\n",
            "Fine-tuning Epoch: 31, Loss: 0.2787, Accuracy: 64.65%\n"
          ]
        },
        {
          "output_type": "stream",
          "name": "stderr",
          "text": [
            " 30%|███       | 18/60 [00:05<00:09,  4.27it/s]"
          ]
        },
        {
          "output_type": "stream",
          "name": "stdout",
          "text": [
            "Fine-tuning Epoch: 31, Loss: 0.2912, Accuracy: 65.44%\n",
            "Fine-tuning Epoch: 31, Loss: 0.3104, Accuracy: 64.58%\n"
          ]
        },
        {
          "output_type": "stream",
          "name": "stderr",
          "text": [
            " 33%|███▎      | 20/60 [00:05<00:09,  4.08it/s]"
          ]
        },
        {
          "output_type": "stream",
          "name": "stdout",
          "text": [
            "Fine-tuning Epoch: 31, Loss: 0.3289, Accuracy: 64.31%\n",
            "Fine-tuning Epoch: 31, Loss: 0.3470, Accuracy: 64.69%\n"
          ]
        },
        {
          "output_type": "stream",
          "name": "stderr",
          "text": [
            " 37%|███▋      | 22/60 [00:06<00:09,  4.05it/s]"
          ]
        },
        {
          "output_type": "stream",
          "name": "stdout",
          "text": [
            "Fine-tuning Epoch: 31, Loss: 0.3620, Accuracy: 65.03%\n",
            "Fine-tuning Epoch: 31, Loss: 0.3695, Accuracy: 66.05%\n"
          ]
        },
        {
          "output_type": "stream",
          "name": "stderr",
          "text": [
            " 40%|████      | 24/60 [00:06<00:09,  3.92it/s]"
          ]
        },
        {
          "output_type": "stream",
          "name": "stdout",
          "text": [
            "Fine-tuning Epoch: 31, Loss: 0.3890, Accuracy: 65.35%\n",
            "Fine-tuning Epoch: 31, Loss: 0.4027, Accuracy: 65.36%\n"
          ]
        },
        {
          "output_type": "stream",
          "name": "stderr",
          "text": [
            " 43%|████▎     | 26/60 [00:07<00:08,  4.12it/s]"
          ]
        },
        {
          "output_type": "stream",
          "name": "stdout",
          "text": [
            "Fine-tuning Epoch: 31, Loss: 0.4175, Accuracy: 65.88%\n",
            "Fine-tuning Epoch: 31, Loss: 0.4358, Accuracy: 66.23%\n"
          ]
        },
        {
          "output_type": "stream",
          "name": "stderr",
          "text": [
            " 47%|████▋     | 28/60 [00:07<00:07,  4.00it/s]"
          ]
        },
        {
          "output_type": "stream",
          "name": "stdout",
          "text": [
            "Fine-tuning Epoch: 31, Loss: 0.4484, Accuracy: 66.44%\n",
            "Fine-tuning Epoch: 31, Loss: 0.4608, Accuracy: 67.08%\n"
          ]
        },
        {
          "output_type": "stream",
          "name": "stderr",
          "text": [
            " 50%|█████     | 30/60 [00:08<00:07,  4.20it/s]"
          ]
        },
        {
          "output_type": "stream",
          "name": "stdout",
          "text": [
            "Fine-tuning Epoch: 31, Loss: 0.4753, Accuracy: 67.35%\n",
            "Fine-tuning Epoch: 31, Loss: 0.4936, Accuracy: 67.19%\n"
          ]
        },
        {
          "output_type": "stream",
          "name": "stderr",
          "text": [
            " 53%|█████▎    | 32/60 [00:09<00:06,  4.01it/s]"
          ]
        },
        {
          "output_type": "stream",
          "name": "stdout",
          "text": [
            "Fine-tuning Epoch: 31, Loss: 0.5174, Accuracy: 66.73%\n",
            "Fine-tuning Epoch: 31, Loss: 0.5376, Accuracy: 66.41%\n"
          ]
        },
        {
          "output_type": "stream",
          "name": "stderr",
          "text": [
            " 57%|█████▋    | 34/60 [00:09<00:06,  3.91it/s]"
          ]
        },
        {
          "output_type": "stream",
          "name": "stdout",
          "text": [
            "Fine-tuning Epoch: 31, Loss: 0.5587, Accuracy: 66.29%\n",
            "Fine-tuning Epoch: 31, Loss: 0.5765, Accuracy: 66.18%\n"
          ]
        },
        {
          "output_type": "stream",
          "name": "stderr",
          "text": [
            " 60%|██████    | 36/60 [00:10<00:07,  3.28it/s]"
          ]
        },
        {
          "output_type": "stream",
          "name": "stdout",
          "text": [
            "Fine-tuning Epoch: 31, Loss: 0.5906, Accuracy: 66.25%\n",
            "Fine-tuning Epoch: 31, Loss: 0.6059, Accuracy: 66.23%\n"
          ]
        },
        {
          "output_type": "stream",
          "name": "stderr",
          "text": [
            " 63%|██████▎   | 38/60 [00:11<00:07,  2.87it/s]"
          ]
        },
        {
          "output_type": "stream",
          "name": "stdout",
          "text": [
            "Fine-tuning Epoch: 31, Loss: 0.6201, Accuracy: 66.22%\n",
            "Fine-tuning Epoch: 31, Loss: 0.6333, Accuracy: 66.37%\n"
          ]
        },
        {
          "output_type": "stream",
          "name": "stderr",
          "text": [
            " 67%|██████▋   | 40/60 [00:12<00:07,  2.68it/s]"
          ]
        },
        {
          "output_type": "stream",
          "name": "stdout",
          "text": [
            "Fine-tuning Epoch: 31, Loss: 0.6460, Accuracy: 66.59%\n",
            "Fine-tuning Epoch: 31, Loss: 0.6621, Accuracy: 66.56%\n"
          ]
        },
        {
          "output_type": "stream",
          "name": "stderr",
          "text": [
            " 70%|███████   | 42/60 [00:13<00:07,  2.49it/s]"
          ]
        },
        {
          "output_type": "stream",
          "name": "stdout",
          "text": [
            "Fine-tuning Epoch: 31, Loss: 0.6777, Accuracy: 66.62%\n",
            "Fine-tuning Epoch: 31, Loss: 0.6949, Accuracy: 66.74%\n"
          ]
        },
        {
          "output_type": "stream",
          "name": "stderr",
          "text": [
            " 73%|███████▎  | 44/60 [00:14<00:06,  2.52it/s]"
          ]
        },
        {
          "output_type": "stream",
          "name": "stdout",
          "text": [
            "Fine-tuning Epoch: 31, Loss: 0.7179, Accuracy: 66.35%\n",
            "Fine-tuning Epoch: 31, Loss: 0.7320, Accuracy: 66.48%\n"
          ]
        },
        {
          "output_type": "stream",
          "name": "stderr",
          "text": [
            " 77%|███████▋  | 46/60 [00:15<00:05,  2.46it/s]"
          ]
        },
        {
          "output_type": "stream",
          "name": "stdout",
          "text": [
            "Fine-tuning Epoch: 31, Loss: 0.7485, Accuracy: 66.46%\n",
            "Fine-tuning Epoch: 31, Loss: 0.7643, Accuracy: 66.64%\n"
          ]
        },
        {
          "output_type": "stream",
          "name": "stderr",
          "text": [
            " 80%|████████  | 48/60 [00:15<00:03,  3.17it/s]"
          ]
        },
        {
          "output_type": "stream",
          "name": "stdout",
          "text": [
            "Fine-tuning Epoch: 31, Loss: 0.7836, Accuracy: 66.49%\n",
            "Fine-tuning Epoch: 31, Loss: 0.7997, Accuracy: 66.54%\n"
          ]
        },
        {
          "output_type": "stream",
          "name": "stderr",
          "text": [
            " 83%|████████▎ | 50/60 [00:16<00:02,  3.44it/s]"
          ]
        },
        {
          "output_type": "stream",
          "name": "stdout",
          "text": [
            "Fine-tuning Epoch: 31, Loss: 0.8211, Accuracy: 66.07%\n",
            "Fine-tuning Epoch: 31, Loss: 0.8351, Accuracy: 66.25%\n"
          ]
        },
        {
          "output_type": "stream",
          "name": "stderr",
          "text": [
            " 87%|████████▋ | 52/60 [00:16<00:02,  3.66it/s]"
          ]
        },
        {
          "output_type": "stream",
          "name": "stdout",
          "text": [
            "Fine-tuning Epoch: 31, Loss: 0.8558, Accuracy: 66.12%\n",
            "Fine-tuning Epoch: 31, Loss: 0.8696, Accuracy: 66.05%\n"
          ]
        },
        {
          "output_type": "stream",
          "name": "stderr",
          "text": [
            " 90%|█████████ | 54/60 [00:17<00:01,  3.72it/s]"
          ]
        },
        {
          "output_type": "stream",
          "name": "stdout",
          "text": [
            "Fine-tuning Epoch: 31, Loss: 0.8844, Accuracy: 66.16%\n",
            "Fine-tuning Epoch: 31, Loss: 0.9035, Accuracy: 66.09%\n"
          ]
        },
        {
          "output_type": "stream",
          "name": "stderr",
          "text": [
            " 93%|█████████▎| 56/60 [00:17<00:01,  3.99it/s]"
          ]
        },
        {
          "output_type": "stream",
          "name": "stdout",
          "text": [
            "Fine-tuning Epoch: 31, Loss: 0.9204, Accuracy: 65.97%\n",
            "Fine-tuning Epoch: 31, Loss: 0.9388, Accuracy: 65.90%\n"
          ]
        },
        {
          "output_type": "stream",
          "name": "stderr",
          "text": [
            " 97%|█████████▋| 58/60 [00:18<00:00,  3.89it/s]"
          ]
        },
        {
          "output_type": "stream",
          "name": "stdout",
          "text": [
            "Fine-tuning Epoch: 31, Loss: 0.9522, Accuracy: 66.06%\n",
            "Fine-tuning Epoch: 31, Loss: 0.9683, Accuracy: 66.06%\n"
          ]
        },
        {
          "output_type": "stream",
          "name": "stderr",
          "text": [
            "100%|██████████| 60/60 [00:19<00:00,  3.16it/s]\n"
          ]
        },
        {
          "output_type": "stream",
          "name": "stdout",
          "text": [
            "Fine-tuning Epoch: 31, Loss: 0.9823, Accuracy: 66.21%\n",
            "Fine-tuning Epoch: 31, Loss: 0.9979, Accuracy: 66.25%\n"
          ]
        },
        {
          "output_type": "stream",
          "name": "stderr",
          "text": [
            "  3%|▎         | 2/60 [00:00<00:22,  2.62it/s]"
          ]
        },
        {
          "output_type": "stream",
          "name": "stdout",
          "text": [
            "Fine-tuning Epoch: 32, Loss: 0.0133, Accuracy: 81.25%\n",
            "Fine-tuning Epoch: 32, Loss: 0.0230, Accuracy: 82.81%\n"
          ]
        },
        {
          "output_type": "stream",
          "name": "stderr",
          "text": [
            "  7%|▋         | 4/60 [00:01<00:16,  3.31it/s]"
          ]
        },
        {
          "output_type": "stream",
          "name": "stdout",
          "text": [
            "Fine-tuning Epoch: 32, Loss: 0.0412, Accuracy: 79.17%\n",
            "Fine-tuning Epoch: 32, Loss: 0.0556, Accuracy: 75.78%\n"
          ]
        },
        {
          "output_type": "stream",
          "name": "stderr",
          "text": [
            " 10%|█         | 6/60 [00:02<00:15,  3.47it/s]"
          ]
        },
        {
          "output_type": "stream",
          "name": "stdout",
          "text": [
            "Fine-tuning Epoch: 32, Loss: 0.0726, Accuracy: 73.75%\n",
            "Fine-tuning Epoch: 32, Loss: 0.0874, Accuracy: 73.96%\n"
          ]
        },
        {
          "output_type": "stream",
          "name": "stderr",
          "text": [
            " 13%|█▎        | 8/60 [00:02<00:14,  3.66it/s]"
          ]
        },
        {
          "output_type": "stream",
          "name": "stdout",
          "text": [
            "Fine-tuning Epoch: 32, Loss: 0.0981, Accuracy: 75.00%\n",
            "Fine-tuning Epoch: 32, Loss: 0.1076, Accuracy: 75.78%\n"
          ]
        },
        {
          "output_type": "stream",
          "name": "stderr",
          "text": [
            " 17%|█▋        | 10/60 [00:03<00:13,  3.82it/s]"
          ]
        },
        {
          "output_type": "stream",
          "name": "stdout",
          "text": [
            "Fine-tuning Epoch: 32, Loss: 0.1201, Accuracy: 75.35%\n",
            "Fine-tuning Epoch: 32, Loss: 0.1342, Accuracy: 75.00%\n"
          ]
        },
        {
          "output_type": "stream",
          "name": "stderr",
          "text": [
            " 20%|██        | 12/60 [00:03<00:11,  4.01it/s]"
          ]
        },
        {
          "output_type": "stream",
          "name": "stdout",
          "text": [
            "Fine-tuning Epoch: 32, Loss: 0.1512, Accuracy: 73.58%\n",
            "Fine-tuning Epoch: 32, Loss: 0.1695, Accuracy: 72.92%\n"
          ]
        },
        {
          "output_type": "stream",
          "name": "stderr",
          "text": [
            " 23%|██▎       | 14/60 [00:04<00:11,  3.87it/s]"
          ]
        },
        {
          "output_type": "stream",
          "name": "stdout",
          "text": [
            "Fine-tuning Epoch: 32, Loss: 0.1858, Accuracy: 72.36%\n",
            "Fine-tuning Epoch: 32, Loss: 0.1993, Accuracy: 72.77%\n"
          ]
        },
        {
          "output_type": "stream",
          "name": "stderr",
          "text": [
            " 27%|██▋       | 16/60 [00:04<00:10,  4.03it/s]"
          ]
        },
        {
          "output_type": "stream",
          "name": "stdout",
          "text": [
            "Fine-tuning Epoch: 32, Loss: 0.2197, Accuracy: 71.67%\n",
            "Fine-tuning Epoch: 32, Loss: 0.2280, Accuracy: 72.46%\n"
          ]
        },
        {
          "output_type": "stream",
          "name": "stderr",
          "text": [
            " 30%|███       | 18/60 [00:05<00:10,  3.97it/s]"
          ]
        },
        {
          "output_type": "stream",
          "name": "stdout",
          "text": [
            "Fine-tuning Epoch: 32, Loss: 0.2410, Accuracy: 72.43%\n",
            "Fine-tuning Epoch: 32, Loss: 0.2548, Accuracy: 72.22%\n"
          ]
        },
        {
          "output_type": "stream",
          "name": "stderr",
          "text": [
            " 33%|███▎      | 20/60 [00:05<00:10,  3.91it/s]"
          ]
        },
        {
          "output_type": "stream",
          "name": "stdout",
          "text": [
            "Fine-tuning Epoch: 32, Loss: 0.2750, Accuracy: 71.38%\n",
            "Fine-tuning Epoch: 32, Loss: 0.2931, Accuracy: 70.62%\n"
          ]
        },
        {
          "output_type": "stream",
          "name": "stderr",
          "text": [
            " 37%|███▋      | 22/60 [00:06<00:11,  3.45it/s]"
          ]
        },
        {
          "output_type": "stream",
          "name": "stdout",
          "text": [
            "Fine-tuning Epoch: 32, Loss: 0.3060, Accuracy: 70.98%\n",
            "Fine-tuning Epoch: 32, Loss: 0.3317, Accuracy: 70.03%\n"
          ]
        },
        {
          "output_type": "stream",
          "name": "stderr",
          "text": [
            " 40%|████      | 24/60 [00:07<00:13,  2.72it/s]"
          ]
        },
        {
          "output_type": "stream",
          "name": "stdout",
          "text": [
            "Fine-tuning Epoch: 32, Loss: 0.3594, Accuracy: 69.02%\n",
            "Fine-tuning Epoch: 32, Loss: 0.3793, Accuracy: 68.23%\n"
          ]
        },
        {
          "output_type": "stream",
          "name": "stderr",
          "text": [
            " 43%|████▎     | 26/60 [00:08<00:12,  2.65it/s]"
          ]
        },
        {
          "output_type": "stream",
          "name": "stdout",
          "text": [
            "Fine-tuning Epoch: 32, Loss: 0.3919, Accuracy: 68.62%\n",
            "Fine-tuning Epoch: 32, Loss: 0.4087, Accuracy: 68.39%\n"
          ]
        },
        {
          "output_type": "stream",
          "name": "stderr",
          "text": [
            " 47%|████▋     | 28/60 [00:09<00:12,  2.61it/s]"
          ]
        },
        {
          "output_type": "stream",
          "name": "stdout",
          "text": [
            "Fine-tuning Epoch: 32, Loss: 0.4212, Accuracy: 68.52%\n",
            "Fine-tuning Epoch: 32, Loss: 0.4406, Accuracy: 68.30%\n"
          ]
        },
        {
          "output_type": "stream",
          "name": "stderr",
          "text": [
            " 50%|█████     | 30/60 [00:10<00:11,  2.69it/s]"
          ]
        },
        {
          "output_type": "stream",
          "name": "stdout",
          "text": [
            "Fine-tuning Epoch: 32, Loss: 0.4574, Accuracy: 68.32%\n",
            "Fine-tuning Epoch: 32, Loss: 0.4749, Accuracy: 68.12%\n"
          ]
        },
        {
          "output_type": "stream",
          "name": "stderr",
          "text": [
            " 53%|█████▎    | 32/60 [00:11<00:10,  2.70it/s]"
          ]
        },
        {
          "output_type": "stream",
          "name": "stdout",
          "text": [
            "Fine-tuning Epoch: 32, Loss: 0.4896, Accuracy: 68.15%\n",
            "Fine-tuning Epoch: 32, Loss: 0.5065, Accuracy: 68.16%\n"
          ]
        },
        {
          "output_type": "stream",
          "name": "stderr",
          "text": [
            " 57%|█████▋    | 34/60 [00:11<00:08,  3.20it/s]"
          ]
        },
        {
          "output_type": "stream",
          "name": "stdout",
          "text": [
            "Fine-tuning Epoch: 32, Loss: 0.5238, Accuracy: 67.99%\n",
            "Fine-tuning Epoch: 32, Loss: 0.5373, Accuracy: 68.01%\n"
          ]
        },
        {
          "output_type": "stream",
          "name": "stderr",
          "text": [
            " 60%|██████    | 36/60 [00:12<00:07,  3.35it/s]"
          ]
        },
        {
          "output_type": "stream",
          "name": "stdout",
          "text": [
            "Fine-tuning Epoch: 32, Loss: 0.5628, Accuracy: 67.59%\n",
            "Fine-tuning Epoch: 32, Loss: 0.5841, Accuracy: 67.27%\n"
          ]
        },
        {
          "output_type": "stream",
          "name": "stderr",
          "text": [
            " 63%|██████▎   | 38/60 [00:12<00:06,  3.60it/s]"
          ]
        },
        {
          "output_type": "stream",
          "name": "stdout",
          "text": [
            "Fine-tuning Epoch: 32, Loss: 0.6040, Accuracy: 67.06%\n",
            "Fine-tuning Epoch: 32, Loss: 0.6200, Accuracy: 66.94%\n"
          ]
        },
        {
          "output_type": "stream",
          "name": "stderr",
          "text": [
            " 67%|██████▋   | 40/60 [00:13<00:05,  3.76it/s]"
          ]
        },
        {
          "output_type": "stream",
          "name": "stdout",
          "text": [
            "Fine-tuning Epoch: 32, Loss: 0.6365, Accuracy: 66.91%\n",
            "Fine-tuning Epoch: 32, Loss: 0.6550, Accuracy: 66.88%\n"
          ]
        },
        {
          "output_type": "stream",
          "name": "stderr",
          "text": [
            " 70%|███████   | 42/60 [00:14<00:04,  3.79it/s]"
          ]
        },
        {
          "output_type": "stream",
          "name": "stdout",
          "text": [
            "Fine-tuning Epoch: 32, Loss: 0.6737, Accuracy: 66.69%\n",
            "Fine-tuning Epoch: 32, Loss: 0.6961, Accuracy: 66.29%\n"
          ]
        },
        {
          "output_type": "stream",
          "name": "stderr",
          "text": [
            " 73%|███████▎  | 44/60 [00:14<00:04,  3.95it/s]"
          ]
        },
        {
          "output_type": "stream",
          "name": "stdout",
          "text": [
            "Fine-tuning Epoch: 32, Loss: 0.7127, Accuracy: 66.35%\n",
            "Fine-tuning Epoch: 32, Loss: 0.7307, Accuracy: 66.34%\n"
          ]
        },
        {
          "output_type": "stream",
          "name": "stderr",
          "text": [
            " 77%|███████▋  | 46/60 [00:15<00:03,  3.89it/s]"
          ]
        },
        {
          "output_type": "stream",
          "name": "stdout",
          "text": [
            "Fine-tuning Epoch: 32, Loss: 0.7483, Accuracy: 66.32%\n",
            "Fine-tuning Epoch: 32, Loss: 0.7661, Accuracy: 66.17%\n"
          ]
        },
        {
          "output_type": "stream",
          "name": "stderr",
          "text": [
            " 80%|████████  | 48/60 [00:15<00:03,  3.81it/s]"
          ]
        },
        {
          "output_type": "stream",
          "name": "stdout",
          "text": [
            "Fine-tuning Epoch: 32, Loss: 0.7813, Accuracy: 66.22%\n",
            "Fine-tuning Epoch: 32, Loss: 0.7949, Accuracy: 66.47%\n"
          ]
        },
        {
          "output_type": "stream",
          "name": "stderr",
          "text": [
            " 83%|████████▎ | 50/60 [00:16<00:02,  3.88it/s]"
          ]
        },
        {
          "output_type": "stream",
          "name": "stdout",
          "text": [
            "Fine-tuning Epoch: 32, Loss: 0.8148, Accuracy: 66.20%\n",
            "Fine-tuning Epoch: 32, Loss: 0.8326, Accuracy: 66.06%\n"
          ]
        },
        {
          "output_type": "stream",
          "name": "stderr",
          "text": [
            " 87%|████████▋ | 52/60 [00:16<00:01,  4.02it/s]"
          ]
        },
        {
          "output_type": "stream",
          "name": "stdout",
          "text": [
            "Fine-tuning Epoch: 32, Loss: 0.8468, Accuracy: 66.36%\n",
            "Fine-tuning Epoch: 32, Loss: 0.8618, Accuracy: 66.59%\n"
          ]
        },
        {
          "output_type": "stream",
          "name": "stderr",
          "text": [
            " 90%|█████████ | 54/60 [00:17<00:01,  4.17it/s]"
          ]
        },
        {
          "output_type": "stream",
          "name": "stdout",
          "text": [
            "Fine-tuning Epoch: 32, Loss: 0.8788, Accuracy: 66.69%\n",
            "Fine-tuning Epoch: 32, Loss: 0.8983, Accuracy: 66.55%\n"
          ]
        },
        {
          "output_type": "stream",
          "name": "stderr",
          "text": [
            " 93%|█████████▎| 56/60 [00:18<00:01,  3.92it/s]"
          ]
        },
        {
          "output_type": "stream",
          "name": "stdout",
          "text": [
            "Fine-tuning Epoch: 32, Loss: 0.9154, Accuracy: 66.48%\n",
            "Fine-tuning Epoch: 32, Loss: 0.9342, Accuracy: 66.41%\n"
          ]
        },
        {
          "output_type": "stream",
          "name": "stderr",
          "text": [
            " 97%|█████████▋| 58/60 [00:18<00:00,  3.70it/s]"
          ]
        },
        {
          "output_type": "stream",
          "name": "stdout",
          "text": [
            "Fine-tuning Epoch: 32, Loss: 0.9469, Accuracy: 66.61%\n",
            "Fine-tuning Epoch: 32, Loss: 0.9689, Accuracy: 66.49%\n"
          ]
        },
        {
          "output_type": "stream",
          "name": "stderr",
          "text": [
            "100%|██████████| 60/60 [00:19<00:00,  3.13it/s]\n"
          ]
        },
        {
          "output_type": "stream",
          "name": "stdout",
          "text": [
            "Fine-tuning Epoch: 32, Loss: 0.9852, Accuracy: 66.47%\n",
            "Fine-tuning Epoch: 32, Loss: 1.0050, Accuracy: 66.46%\n"
          ]
        },
        {
          "output_type": "stream",
          "name": "stderr",
          "text": [
            "  3%|▎         | 2/60 [00:00<00:21,  2.66it/s]"
          ]
        },
        {
          "output_type": "stream",
          "name": "stdout",
          "text": [
            "Fine-tuning Epoch: 33, Loss: 0.0113, Accuracy: 71.88%\n",
            "Fine-tuning Epoch: 33, Loss: 0.0227, Accuracy: 73.44%\n"
          ]
        },
        {
          "output_type": "stream",
          "name": "stderr",
          "text": [
            "  7%|▋         | 4/60 [00:01<00:15,  3.58it/s]"
          ]
        },
        {
          "output_type": "stream",
          "name": "stdout",
          "text": [
            "Fine-tuning Epoch: 33, Loss: 0.0394, Accuracy: 69.79%\n",
            "Fine-tuning Epoch: 33, Loss: 0.0512, Accuracy: 71.88%\n"
          ]
        },
        {
          "output_type": "stream",
          "name": "stderr",
          "text": [
            " 10%|█         | 6/60 [00:01<00:15,  3.59it/s]"
          ]
        },
        {
          "output_type": "stream",
          "name": "stdout",
          "text": [
            "Fine-tuning Epoch: 33, Loss: 0.0648, Accuracy: 71.88%\n",
            "Fine-tuning Epoch: 33, Loss: 0.0890, Accuracy: 68.23%\n"
          ]
        },
        {
          "output_type": "stream",
          "name": "stderr",
          "text": [
            " 13%|█▎        | 8/60 [00:02<00:17,  3.03it/s]"
          ]
        },
        {
          "output_type": "stream",
          "name": "stdout",
          "text": [
            "Fine-tuning Epoch: 33, Loss: 0.1072, Accuracy: 67.86%\n",
            "Fine-tuning Epoch: 33, Loss: 0.1241, Accuracy: 67.97%\n"
          ]
        },
        {
          "output_type": "stream",
          "name": "stderr",
          "text": [
            " 17%|█▋        | 10/60 [00:03<00:16,  3.02it/s]"
          ]
        },
        {
          "output_type": "stream",
          "name": "stdout",
          "text": [
            "Fine-tuning Epoch: 33, Loss: 0.1419, Accuracy: 68.75%\n",
            "Fine-tuning Epoch: 33, Loss: 0.1629, Accuracy: 68.12%\n"
          ]
        },
        {
          "output_type": "stream",
          "name": "stderr",
          "text": [
            "\r 18%|█▊        | 11/60 [00:04<00:20,  2.41it/s]"
          ]
        },
        {
          "output_type": "stream",
          "name": "stdout",
          "text": [
            "Fine-tuning Epoch: 33, Loss: 0.1763, Accuracy: 68.18%\n"
          ]
        },
        {
          "output_type": "stream",
          "name": "stderr",
          "text": [
            "\r 20%|██        | 12/60 [00:04<00:18,  2.60it/s]"
          ]
        },
        {
          "output_type": "stream",
          "name": "stdout",
          "text": [
            "Fine-tuning Epoch: 33, Loss: 0.1929, Accuracy: 67.97%\n"
          ]
        },
        {
          "output_type": "stream",
          "name": "stderr",
          "text": [
            "\r 22%|██▏       | 13/60 [00:05<00:20,  2.33it/s]"
          ]
        },
        {
          "output_type": "stream",
          "name": "stdout",
          "text": [
            "Fine-tuning Epoch: 33, Loss: 0.2071, Accuracy: 68.27%\n"
          ]
        },
        {
          "output_type": "stream",
          "name": "stderr",
          "text": [
            "\r 23%|██▎       | 14/60 [00:05<00:20,  2.29it/s]"
          ]
        },
        {
          "output_type": "stream",
          "name": "stdout",
          "text": [
            "Fine-tuning Epoch: 33, Loss: 0.2262, Accuracy: 68.08%\n"
          ]
        },
        {
          "output_type": "stream",
          "name": "stderr",
          "text": [
            "\r 25%|██▌       | 15/60 [00:05<00:19,  2.35it/s]"
          ]
        },
        {
          "output_type": "stream",
          "name": "stdout",
          "text": [
            "Fine-tuning Epoch: 33, Loss: 0.2437, Accuracy: 68.12%\n"
          ]
        },
        {
          "output_type": "stream",
          "name": "stderr",
          "text": [
            "\r 27%|██▋       | 16/60 [00:06<00:18,  2.32it/s]"
          ]
        },
        {
          "output_type": "stream",
          "name": "stdout",
          "text": [
            "Fine-tuning Epoch: 33, Loss: 0.2541, Accuracy: 68.95%\n"
          ]
        },
        {
          "output_type": "stream",
          "name": "stderr",
          "text": [
            "\r 28%|██▊       | 17/60 [00:06<00:20,  2.13it/s]"
          ]
        },
        {
          "output_type": "stream",
          "name": "stdout",
          "text": [
            "Fine-tuning Epoch: 33, Loss: 0.2767, Accuracy: 67.83%\n"
          ]
        },
        {
          "output_type": "stream",
          "name": "stderr",
          "text": [
            "\r 30%|███       | 18/60 [00:07<00:17,  2.35it/s]"
          ]
        },
        {
          "output_type": "stream",
          "name": "stdout",
          "text": [
            "Fine-tuning Epoch: 33, Loss: 0.2913, Accuracy: 67.71%\n"
          ]
        },
        {
          "output_type": "stream",
          "name": "stderr",
          "text": [
            "\r 32%|███▏      | 19/60 [00:07<00:17,  2.37it/s]"
          ]
        },
        {
          "output_type": "stream",
          "name": "stdout",
          "text": [
            "Fine-tuning Epoch: 33, Loss: 0.3067, Accuracy: 68.09%\n"
          ]
        },
        {
          "output_type": "stream",
          "name": "stderr",
          "text": [
            "\r 33%|███▎      | 20/60 [00:07<00:15,  2.64it/s]"
          ]
        },
        {
          "output_type": "stream",
          "name": "stdout",
          "text": [
            "Fine-tuning Epoch: 33, Loss: 0.3169, Accuracy: 68.91%\n"
          ]
        },
        {
          "output_type": "stream",
          "name": "stderr",
          "text": [
            "\r 35%|███▌      | 21/60 [00:08<00:14,  2.72it/s]"
          ]
        },
        {
          "output_type": "stream",
          "name": "stdout",
          "text": [
            "Fine-tuning Epoch: 33, Loss: 0.3348, Accuracy: 68.45%\n"
          ]
        },
        {
          "output_type": "stream",
          "name": "stderr",
          "text": [
            "\r 37%|███▋      | 22/60 [00:08<00:12,  3.01it/s]"
          ]
        },
        {
          "output_type": "stream",
          "name": "stdout",
          "text": [
            "Fine-tuning Epoch: 33, Loss: 0.3451, Accuracy: 68.61%\n"
          ]
        },
        {
          "output_type": "stream",
          "name": "stderr",
          "text": [
            " 40%|████      | 24/60 [00:08<00:10,  3.60it/s]"
          ]
        },
        {
          "output_type": "stream",
          "name": "stdout",
          "text": [
            "Fine-tuning Epoch: 33, Loss: 0.3600, Accuracy: 69.16%\n",
            "Fine-tuning Epoch: 33, Loss: 0.3767, Accuracy: 69.01%\n"
          ]
        },
        {
          "output_type": "stream",
          "name": "stderr",
          "text": [
            " 43%|████▎     | 26/60 [00:09<00:09,  3.68it/s]"
          ]
        },
        {
          "output_type": "stream",
          "name": "stdout",
          "text": [
            "Fine-tuning Epoch: 33, Loss: 0.3884, Accuracy: 69.25%\n",
            "Fine-tuning Epoch: 33, Loss: 0.4050, Accuracy: 68.75%\n"
          ]
        },
        {
          "output_type": "stream",
          "name": "stderr",
          "text": [
            " 47%|████▋     | 28/60 [00:10<00:08,  3.82it/s]"
          ]
        },
        {
          "output_type": "stream",
          "name": "stdout",
          "text": [
            "Fine-tuning Epoch: 33, Loss: 0.4136, Accuracy: 69.10%\n",
            "Fine-tuning Epoch: 33, Loss: 0.4328, Accuracy: 68.53%\n"
          ]
        },
        {
          "output_type": "stream",
          "name": "stderr",
          "text": [
            " 50%|█████     | 30/60 [00:10<00:07,  3.83it/s]"
          ]
        },
        {
          "output_type": "stream",
          "name": "stdout",
          "text": [
            "Fine-tuning Epoch: 33, Loss: 0.4446, Accuracy: 68.64%\n",
            "Fine-tuning Epoch: 33, Loss: 0.4644, Accuracy: 68.85%\n"
          ]
        },
        {
          "output_type": "stream",
          "name": "stderr",
          "text": [
            " 53%|█████▎    | 32/60 [00:11<00:07,  3.76it/s]"
          ]
        },
        {
          "output_type": "stream",
          "name": "stdout",
          "text": [
            "Fine-tuning Epoch: 33, Loss: 0.4814, Accuracy: 68.45%\n",
            "Fine-tuning Epoch: 33, Loss: 0.4945, Accuracy: 68.55%\n"
          ]
        },
        {
          "output_type": "stream",
          "name": "stderr",
          "text": [
            " 57%|█████▋    | 34/60 [00:11<00:07,  3.69it/s]"
          ]
        },
        {
          "output_type": "stream",
          "name": "stdout",
          "text": [
            "Fine-tuning Epoch: 33, Loss: 0.5086, Accuracy: 68.66%\n",
            "Fine-tuning Epoch: 33, Loss: 0.5312, Accuracy: 68.20%\n"
          ]
        },
        {
          "output_type": "stream",
          "name": "stderr",
          "text": [
            " 60%|██████    | 36/60 [00:12<00:06,  3.85it/s]"
          ]
        },
        {
          "output_type": "stream",
          "name": "stdout",
          "text": [
            "Fine-tuning Epoch: 33, Loss: 0.5512, Accuracy: 67.77%\n",
            "Fine-tuning Epoch: 33, Loss: 0.5640, Accuracy: 67.80%\n"
          ]
        },
        {
          "output_type": "stream",
          "name": "stderr",
          "text": [
            " 63%|██████▎   | 38/60 [00:13<00:05,  3.81it/s]"
          ]
        },
        {
          "output_type": "stream",
          "name": "stdout",
          "text": [
            "Fine-tuning Epoch: 33, Loss: 0.5826, Accuracy: 67.40%\n",
            "Fine-tuning Epoch: 33, Loss: 0.5945, Accuracy: 67.76%\n"
          ]
        },
        {
          "output_type": "stream",
          "name": "stderr",
          "text": [
            " 67%|██████▋   | 40/60 [00:13<00:05,  3.70it/s]"
          ]
        },
        {
          "output_type": "stream",
          "name": "stdout",
          "text": [
            "Fine-tuning Epoch: 33, Loss: 0.6119, Accuracy: 67.63%\n",
            "Fine-tuning Epoch: 33, Loss: 0.6211, Accuracy: 68.05%\n"
          ]
        },
        {
          "output_type": "stream",
          "name": "stderr",
          "text": [
            " 70%|███████   | 42/60 [00:14<00:04,  3.65it/s]"
          ]
        },
        {
          "output_type": "stream",
          "name": "stdout",
          "text": [
            "Fine-tuning Epoch: 33, Loss: 0.6452, Accuracy: 67.61%\n",
            "Fine-tuning Epoch: 33, Loss: 0.6581, Accuracy: 67.86%\n"
          ]
        },
        {
          "output_type": "stream",
          "name": "stderr",
          "text": [
            " 73%|███████▎  | 44/60 [00:14<00:04,  3.71it/s]"
          ]
        },
        {
          "output_type": "stream",
          "name": "stdout",
          "text": [
            "Fine-tuning Epoch: 33, Loss: 0.6786, Accuracy: 67.59%\n",
            "Fine-tuning Epoch: 33, Loss: 0.6974, Accuracy: 67.47%\n"
          ]
        },
        {
          "output_type": "stream",
          "name": "stderr",
          "text": [
            " 77%|███████▋  | 46/60 [00:15<00:03,  3.97it/s]"
          ]
        },
        {
          "output_type": "stream",
          "name": "stdout",
          "text": [
            "Fine-tuning Epoch: 33, Loss: 0.7199, Accuracy: 67.22%\n",
            "Fine-tuning Epoch: 33, Loss: 0.7369, Accuracy: 67.12%\n"
          ]
        },
        {
          "output_type": "stream",
          "name": "stderr",
          "text": [
            " 80%|████████  | 48/60 [00:15<00:03,  3.88it/s]"
          ]
        },
        {
          "output_type": "stream",
          "name": "stdout",
          "text": [
            "Fine-tuning Epoch: 33, Loss: 0.7584, Accuracy: 66.89%\n",
            "Fine-tuning Epoch: 33, Loss: 0.7714, Accuracy: 66.80%\n"
          ]
        },
        {
          "output_type": "stream",
          "name": "stderr",
          "text": [
            " 83%|████████▎ | 50/60 [00:16<00:02,  3.69it/s]"
          ]
        },
        {
          "output_type": "stream",
          "name": "stdout",
          "text": [
            "Fine-tuning Epoch: 33, Loss: 0.7918, Accuracy: 66.77%\n",
            "Fine-tuning Epoch: 33, Loss: 0.8106, Accuracy: 66.56%\n"
          ]
        },
        {
          "output_type": "stream",
          "name": "stderr",
          "text": [
            " 87%|████████▋ | 52/60 [00:17<00:02,  3.71it/s]"
          ]
        },
        {
          "output_type": "stream",
          "name": "stdout",
          "text": [
            "Fine-tuning Epoch: 33, Loss: 0.8324, Accuracy: 66.30%\n",
            "Fine-tuning Epoch: 33, Loss: 0.8472, Accuracy: 66.35%\n"
          ]
        },
        {
          "output_type": "stream",
          "name": "stderr",
          "text": [
            " 90%|█████████ | 54/60 [00:18<00:01,  3.24it/s]"
          ]
        },
        {
          "output_type": "stream",
          "name": "stdout",
          "text": [
            "Fine-tuning Epoch: 33, Loss: 0.8670, Accuracy: 66.39%\n",
            "Fine-tuning Epoch: 33, Loss: 0.8799, Accuracy: 66.67%\n"
          ]
        },
        {
          "output_type": "stream",
          "name": "stderr",
          "text": [
            " 93%|█████████▎| 56/60 [00:18<00:01,  2.74it/s]"
          ]
        },
        {
          "output_type": "stream",
          "name": "stdout",
          "text": [
            "Fine-tuning Epoch: 33, Loss: 0.8953, Accuracy: 66.76%\n",
            "Fine-tuning Epoch: 33, Loss: 0.9115, Accuracy: 66.69%\n"
          ]
        },
        {
          "output_type": "stream",
          "name": "stderr",
          "text": [
            " 97%|█████████▋| 58/60 [00:19<00:00,  2.76it/s]"
          ]
        },
        {
          "output_type": "stream",
          "name": "stdout",
          "text": [
            "Fine-tuning Epoch: 33, Loss: 0.9230, Accuracy: 66.89%\n",
            "Fine-tuning Epoch: 33, Loss: 0.9408, Accuracy: 66.81%\n"
          ]
        },
        {
          "output_type": "stream",
          "name": "stderr",
          "text": [
            "100%|██████████| 60/60 [00:20<00:00,  2.93it/s]\n"
          ]
        },
        {
          "output_type": "stream",
          "name": "stdout",
          "text": [
            "Fine-tuning Epoch: 33, Loss: 0.9582, Accuracy: 66.79%\n",
            "Fine-tuning Epoch: 33, Loss: 0.9764, Accuracy: 66.51%\n"
          ]
        },
        {
          "output_type": "stream",
          "name": "stderr",
          "text": [
            "  3%|▎         | 2/60 [00:01<00:32,  1.80it/s]"
          ]
        },
        {
          "output_type": "stream",
          "name": "stdout",
          "text": [
            "Fine-tuning Epoch: 34, Loss: 0.0177, Accuracy: 62.50%\n",
            "Fine-tuning Epoch: 34, Loss: 0.0266, Accuracy: 71.88%\n"
          ]
        },
        {
          "output_type": "stream",
          "name": "stderr",
          "text": [
            "\r  5%|▌         | 3/60 [00:01<00:32,  1.75it/s]"
          ]
        },
        {
          "output_type": "stream",
          "name": "stdout",
          "text": [
            "Fine-tuning Epoch: 34, Loss: 0.0381, Accuracy: 75.00%\n"
          ]
        },
        {
          "output_type": "stream",
          "name": "stderr",
          "text": [
            "\r  7%|▋         | 4/60 [00:02<00:25,  2.17it/s]"
          ]
        },
        {
          "output_type": "stream",
          "name": "stdout",
          "text": [
            "Fine-tuning Epoch: 34, Loss: 0.0475, Accuracy: 77.34%\n"
          ]
        },
        {
          "output_type": "stream",
          "name": "stderr",
          "text": [
            "\r  8%|▊         | 5/60 [00:02<00:24,  2.28it/s]"
          ]
        },
        {
          "output_type": "stream",
          "name": "stdout",
          "text": [
            "Fine-tuning Epoch: 34, Loss: 0.0620, Accuracy: 76.88%\n"
          ]
        },
        {
          "output_type": "stream",
          "name": "stderr",
          "text": [
            "\r 10%|█         | 6/60 [00:02<00:19,  2.73it/s]"
          ]
        },
        {
          "output_type": "stream",
          "name": "stdout",
          "text": [
            "Fine-tuning Epoch: 34, Loss: 0.0761, Accuracy: 75.52%\n"
          ]
        },
        {
          "output_type": "stream",
          "name": "stderr",
          "text": [
            " 13%|█▎        | 8/60 [00:03<00:15,  3.30it/s]"
          ]
        },
        {
          "output_type": "stream",
          "name": "stdout",
          "text": [
            "Fine-tuning Epoch: 34, Loss: 0.0884, Accuracy: 73.66%\n",
            "Fine-tuning Epoch: 34, Loss: 0.1057, Accuracy: 72.27%\n"
          ]
        },
        {
          "output_type": "stream",
          "name": "stderr",
          "text": [
            " 17%|█▋        | 10/60 [00:03<00:14,  3.45it/s]"
          ]
        },
        {
          "output_type": "stream",
          "name": "stdout",
          "text": [
            "Fine-tuning Epoch: 34, Loss: 0.1209, Accuracy: 71.18%\n",
            "Fine-tuning Epoch: 34, Loss: 0.1366, Accuracy: 70.62%\n"
          ]
        },
        {
          "output_type": "stream",
          "name": "stderr",
          "text": [
            " 20%|██        | 12/60 [00:04<00:13,  3.68it/s]"
          ]
        },
        {
          "output_type": "stream",
          "name": "stdout",
          "text": [
            "Fine-tuning Epoch: 34, Loss: 0.1495, Accuracy: 70.74%\n",
            "Fine-tuning Epoch: 34, Loss: 0.1641, Accuracy: 70.83%\n"
          ]
        },
        {
          "output_type": "stream",
          "name": "stderr",
          "text": [
            " 23%|██▎       | 14/60 [00:04<00:11,  3.91it/s]"
          ]
        },
        {
          "output_type": "stream",
          "name": "stdout",
          "text": [
            "Fine-tuning Epoch: 34, Loss: 0.1802, Accuracy: 70.43%\n",
            "Fine-tuning Epoch: 34, Loss: 0.1981, Accuracy: 69.42%\n"
          ]
        },
        {
          "output_type": "stream",
          "name": "stderr",
          "text": [
            " 27%|██▋       | 16/60 [00:05<00:11,  3.84it/s]"
          ]
        },
        {
          "output_type": "stream",
          "name": "stdout",
          "text": [
            "Fine-tuning Epoch: 34, Loss: 0.2123, Accuracy: 69.38%\n",
            "Fine-tuning Epoch: 34, Loss: 0.2253, Accuracy: 69.14%\n"
          ]
        },
        {
          "output_type": "stream",
          "name": "stderr",
          "text": [
            " 30%|███       | 18/60 [00:06<00:10,  3.84it/s]"
          ]
        },
        {
          "output_type": "stream",
          "name": "stdout",
          "text": [
            "Fine-tuning Epoch: 34, Loss: 0.2412, Accuracy: 69.30%\n",
            "Fine-tuning Epoch: 34, Loss: 0.2580, Accuracy: 68.75%\n"
          ]
        },
        {
          "output_type": "stream",
          "name": "stderr",
          "text": [
            " 33%|███▎      | 20/60 [00:06<00:10,  3.95it/s]"
          ]
        },
        {
          "output_type": "stream",
          "name": "stdout",
          "text": [
            "Fine-tuning Epoch: 34, Loss: 0.2792, Accuracy: 68.09%\n",
            "Fine-tuning Epoch: 34, Loss: 0.2938, Accuracy: 67.81%\n"
          ]
        },
        {
          "output_type": "stream",
          "name": "stderr",
          "text": [
            " 37%|███▋      | 22/60 [00:07<00:09,  3.83it/s]"
          ]
        },
        {
          "output_type": "stream",
          "name": "stdout",
          "text": [
            "Fine-tuning Epoch: 34, Loss: 0.3122, Accuracy: 67.86%\n",
            "Fine-tuning Epoch: 34, Loss: 0.3333, Accuracy: 67.05%\n"
          ]
        },
        {
          "output_type": "stream",
          "name": "stderr",
          "text": [
            " 40%|████      | 24/60 [00:07<00:08,  4.08it/s]"
          ]
        },
        {
          "output_type": "stream",
          "name": "stdout",
          "text": [
            "Fine-tuning Epoch: 34, Loss: 0.3477, Accuracy: 67.39%\n",
            "Fine-tuning Epoch: 34, Loss: 0.3615, Accuracy: 67.58%\n"
          ]
        },
        {
          "output_type": "stream",
          "name": "stderr",
          "text": [
            " 43%|████▎     | 26/60 [00:08<00:08,  3.82it/s]"
          ]
        },
        {
          "output_type": "stream",
          "name": "stdout",
          "text": [
            "Fine-tuning Epoch: 34, Loss: 0.3795, Accuracy: 67.50%\n",
            "Fine-tuning Epoch: 34, Loss: 0.3996, Accuracy: 67.31%\n"
          ]
        },
        {
          "output_type": "stream",
          "name": "stderr",
          "text": [
            " 47%|████▋     | 28/60 [00:09<00:08,  3.68it/s]"
          ]
        },
        {
          "output_type": "stream",
          "name": "stdout",
          "text": [
            "Fine-tuning Epoch: 34, Loss: 0.4214, Accuracy: 66.78%\n",
            "Fine-tuning Epoch: 34, Loss: 0.4309, Accuracy: 67.08%\n"
          ]
        },
        {
          "output_type": "stream",
          "name": "stderr",
          "text": [
            " 50%|█████     | 30/60 [00:09<00:07,  3.99it/s]"
          ]
        },
        {
          "output_type": "stream",
          "name": "stdout",
          "text": [
            "Fine-tuning Epoch: 34, Loss: 0.4462, Accuracy: 67.24%\n",
            "Fine-tuning Epoch: 34, Loss: 0.4622, Accuracy: 67.19%\n"
          ]
        },
        {
          "output_type": "stream",
          "name": "stderr",
          "text": [
            " 53%|█████▎    | 32/60 [00:10<00:07,  3.90it/s]"
          ]
        },
        {
          "output_type": "stream",
          "name": "stdout",
          "text": [
            "Fine-tuning Epoch: 34, Loss: 0.4797, Accuracy: 67.14%\n",
            "Fine-tuning Epoch: 34, Loss: 0.4956, Accuracy: 67.29%\n"
          ]
        },
        {
          "output_type": "stream",
          "name": "stderr",
          "text": [
            " 57%|█████▋    | 34/60 [00:10<00:06,  3.87it/s]"
          ]
        },
        {
          "output_type": "stream",
          "name": "stdout",
          "text": [
            "Fine-tuning Epoch: 34, Loss: 0.5111, Accuracy: 67.33%\n",
            "Fine-tuning Epoch: 34, Loss: 0.5252, Accuracy: 67.56%\n"
          ]
        },
        {
          "output_type": "stream",
          "name": "stderr",
          "text": [
            " 60%|██████    | 36/60 [00:11<00:06,  3.90it/s]"
          ]
        },
        {
          "output_type": "stream",
          "name": "stdout",
          "text": [
            "Fine-tuning Epoch: 34, Loss: 0.5435, Accuracy: 67.32%\n",
            "Fine-tuning Epoch: 34, Loss: 0.5673, Accuracy: 66.75%\n"
          ]
        },
        {
          "output_type": "stream",
          "name": "stderr",
          "text": [
            " 63%|██████▎   | 38/60 [00:11<00:05,  3.82it/s]"
          ]
        },
        {
          "output_type": "stream",
          "name": "stdout",
          "text": [
            "Fine-tuning Epoch: 34, Loss: 0.5805, Accuracy: 66.89%\n",
            "Fine-tuning Epoch: 34, Loss: 0.5987, Accuracy: 66.78%\n"
          ]
        },
        {
          "output_type": "stream",
          "name": "stderr",
          "text": [
            " 67%|██████▋   | 40/60 [00:12<00:05,  3.77it/s]"
          ]
        },
        {
          "output_type": "stream",
          "name": "stdout",
          "text": [
            "Fine-tuning Epoch: 34, Loss: 0.6110, Accuracy: 66.91%\n",
            "Fine-tuning Epoch: 34, Loss: 0.6269, Accuracy: 66.95%\n"
          ]
        },
        {
          "output_type": "stream",
          "name": "stderr",
          "text": [
            " 70%|███████   | 42/60 [00:13<00:06,  2.96it/s]"
          ]
        },
        {
          "output_type": "stream",
          "name": "stdout",
          "text": [
            "Fine-tuning Epoch: 34, Loss: 0.6421, Accuracy: 66.77%\n",
            "Fine-tuning Epoch: 34, Loss: 0.6570, Accuracy: 66.82%\n"
          ]
        },
        {
          "output_type": "stream",
          "name": "stderr",
          "text": [
            " 73%|███████▎  | 44/60 [00:14<00:05,  2.74it/s]"
          ]
        },
        {
          "output_type": "stream",
          "name": "stdout",
          "text": [
            "Fine-tuning Epoch: 34, Loss: 0.6817, Accuracy: 66.57%\n",
            "Fine-tuning Epoch: 34, Loss: 0.6948, Accuracy: 66.62%\n"
          ]
        },
        {
          "output_type": "stream",
          "name": "stderr",
          "text": [
            " 77%|███████▋  | 46/60 [00:15<00:05,  2.67it/s]"
          ]
        },
        {
          "output_type": "stream",
          "name": "stdout",
          "text": [
            "Fine-tuning Epoch: 34, Loss: 0.7080, Accuracy: 66.81%\n",
            "Fine-tuning Epoch: 34, Loss: 0.7196, Accuracy: 66.98%\n"
          ]
        },
        {
          "output_type": "stream",
          "name": "stderr",
          "text": [
            " 80%|████████  | 48/60 [00:16<00:04,  2.58it/s]"
          ]
        },
        {
          "output_type": "stream",
          "name": "stdout",
          "text": [
            "Fine-tuning Epoch: 34, Loss: 0.7368, Accuracy: 66.89%\n",
            "Fine-tuning Epoch: 34, Loss: 0.7573, Accuracy: 66.67%\n"
          ]
        },
        {
          "output_type": "stream",
          "name": "stderr",
          "text": [
            " 83%|████████▎ | 50/60 [00:17<00:04,  2.50it/s]"
          ]
        },
        {
          "output_type": "stream",
          "name": "stdout",
          "text": [
            "Fine-tuning Epoch: 34, Loss: 0.7743, Accuracy: 66.52%\n",
            "Fine-tuning Epoch: 34, Loss: 0.7942, Accuracy: 66.25%\n"
          ]
        },
        {
          "output_type": "stream",
          "name": "stderr",
          "text": [
            " 87%|████████▋ | 52/60 [00:17<00:03,  2.56it/s]"
          ]
        },
        {
          "output_type": "stream",
          "name": "stdout",
          "text": [
            "Fine-tuning Epoch: 34, Loss: 0.8108, Accuracy: 66.24%\n",
            "Fine-tuning Epoch: 34, Loss: 0.8275, Accuracy: 66.29%\n"
          ]
        },
        {
          "output_type": "stream",
          "name": "stderr",
          "text": [
            " 90%|█████████ | 54/60 [00:18<00:01,  3.07it/s]"
          ]
        },
        {
          "output_type": "stream",
          "name": "stdout",
          "text": [
            "Fine-tuning Epoch: 34, Loss: 0.8409, Accuracy: 66.39%\n",
            "Fine-tuning Epoch: 34, Loss: 0.8639, Accuracy: 66.09%\n"
          ]
        },
        {
          "output_type": "stream",
          "name": "stderr",
          "text": [
            " 93%|█████████▎| 56/60 [00:19<00:01,  3.44it/s]"
          ]
        },
        {
          "output_type": "stream",
          "name": "stdout",
          "text": [
            "Fine-tuning Epoch: 34, Loss: 0.8813, Accuracy: 65.85%\n",
            "Fine-tuning Epoch: 34, Loss: 0.8987, Accuracy: 65.90%\n"
          ]
        },
        {
          "output_type": "stream",
          "name": "stderr",
          "text": [
            " 97%|█████████▋| 58/60 [00:19<00:00,  3.63it/s]"
          ]
        },
        {
          "output_type": "stream",
          "name": "stdout",
          "text": [
            "Fine-tuning Epoch: 34, Loss: 0.9274, Accuracy: 65.57%\n",
            "Fine-tuning Epoch: 34, Loss: 0.9426, Accuracy: 65.52%\n"
          ]
        },
        {
          "output_type": "stream",
          "name": "stderr",
          "text": [
            "100%|██████████| 60/60 [00:20<00:00,  2.98it/s]\n"
          ]
        },
        {
          "output_type": "stream",
          "name": "stdout",
          "text": [
            "Fine-tuning Epoch: 34, Loss: 0.9668, Accuracy: 65.41%\n",
            "Fine-tuning Epoch: 34, Loss: 0.9883, Accuracy: 65.36%\n"
          ]
        },
        {
          "output_type": "stream",
          "name": "stderr",
          "text": [
            "  3%|▎         | 2/60 [00:00<00:22,  2.61it/s]"
          ]
        },
        {
          "output_type": "stream",
          "name": "stdout",
          "text": [
            "Fine-tuning Epoch: 35, Loss: 0.0133, Accuracy: 75.00%\n",
            "Fine-tuning Epoch: 35, Loss: 0.0351, Accuracy: 65.62%\n"
          ]
        },
        {
          "output_type": "stream",
          "name": "stderr",
          "text": [
            "  7%|▋         | 4/60 [00:01<00:15,  3.52it/s]"
          ]
        },
        {
          "output_type": "stream",
          "name": "stdout",
          "text": [
            "Fine-tuning Epoch: 35, Loss: 0.0462, Accuracy: 67.71%\n",
            "Fine-tuning Epoch: 35, Loss: 0.0651, Accuracy: 67.97%\n"
          ]
        },
        {
          "output_type": "stream",
          "name": "stderr",
          "text": [
            " 10%|█         | 6/60 [00:01<00:14,  3.69it/s]"
          ]
        },
        {
          "output_type": "stream",
          "name": "stdout",
          "text": [
            "Fine-tuning Epoch: 35, Loss: 0.0853, Accuracy: 67.50%\n",
            "Fine-tuning Epoch: 35, Loss: 0.0989, Accuracy: 68.75%\n"
          ]
        },
        {
          "output_type": "stream",
          "name": "stderr",
          "text": [
            " 13%|█▎        | 8/60 [00:02<00:13,  3.87it/s]"
          ]
        },
        {
          "output_type": "stream",
          "name": "stdout",
          "text": [
            "Fine-tuning Epoch: 35, Loss: 0.1139, Accuracy: 69.20%\n",
            "Fine-tuning Epoch: 35, Loss: 0.1244, Accuracy: 70.31%\n"
          ]
        },
        {
          "output_type": "stream",
          "name": "stderr",
          "text": [
            " 17%|█▋        | 10/60 [00:03<00:13,  3.61it/s]"
          ]
        },
        {
          "output_type": "stream",
          "name": "stdout",
          "text": [
            "Fine-tuning Epoch: 35, Loss: 0.1412, Accuracy: 68.75%\n",
            "Fine-tuning Epoch: 35, Loss: 0.1541, Accuracy: 69.38%\n"
          ]
        },
        {
          "output_type": "stream",
          "name": "stderr",
          "text": [
            " 20%|██        | 12/60 [00:03<00:13,  3.50it/s]"
          ]
        },
        {
          "output_type": "stream",
          "name": "stdout",
          "text": [
            "Fine-tuning Epoch: 35, Loss: 0.1717, Accuracy: 68.75%\n",
            "Fine-tuning Epoch: 35, Loss: 0.1859, Accuracy: 69.01%\n"
          ]
        },
        {
          "output_type": "stream",
          "name": "stderr",
          "text": [
            " 23%|██▎       | 14/60 [00:04<00:12,  3.70it/s]"
          ]
        },
        {
          "output_type": "stream",
          "name": "stdout",
          "text": [
            "Fine-tuning Epoch: 35, Loss: 0.2036, Accuracy: 68.03%\n",
            "Fine-tuning Epoch: 35, Loss: 0.2148, Accuracy: 68.53%\n"
          ]
        },
        {
          "output_type": "stream",
          "name": "stderr",
          "text": [
            " 27%|██▋       | 16/60 [00:04<00:11,  3.92it/s]"
          ]
        },
        {
          "output_type": "stream",
          "name": "stdout",
          "text": [
            "Fine-tuning Epoch: 35, Loss: 0.2324, Accuracy: 68.12%\n",
            "Fine-tuning Epoch: 35, Loss: 0.2460, Accuracy: 68.36%\n"
          ]
        },
        {
          "output_type": "stream",
          "name": "stderr",
          "text": [
            " 30%|███       | 18/60 [00:05<00:10,  3.88it/s]"
          ]
        },
        {
          "output_type": "stream",
          "name": "stdout",
          "text": [
            "Fine-tuning Epoch: 35, Loss: 0.2633, Accuracy: 68.01%\n",
            "Fine-tuning Epoch: 35, Loss: 0.2748, Accuracy: 68.40%\n"
          ]
        },
        {
          "output_type": "stream",
          "name": "stderr",
          "text": [
            " 33%|███▎      | 20/60 [00:06<00:10,  3.92it/s]"
          ]
        },
        {
          "output_type": "stream",
          "name": "stdout",
          "text": [
            "Fine-tuning Epoch: 35, Loss: 0.2912, Accuracy: 68.75%\n",
            "Fine-tuning Epoch: 35, Loss: 0.3101, Accuracy: 68.59%\n"
          ]
        },
        {
          "output_type": "stream",
          "name": "stderr",
          "text": [
            " 37%|███▋      | 22/60 [00:06<00:09,  3.87it/s]"
          ]
        },
        {
          "output_type": "stream",
          "name": "stdout",
          "text": [
            "Fine-tuning Epoch: 35, Loss: 0.3336, Accuracy: 67.86%\n",
            "Fine-tuning Epoch: 35, Loss: 0.3515, Accuracy: 67.90%\n"
          ]
        },
        {
          "output_type": "stream",
          "name": "stderr",
          "text": [
            " 40%|████      | 24/60 [00:07<00:09,  3.97it/s]"
          ]
        },
        {
          "output_type": "stream",
          "name": "stdout",
          "text": [
            "Fine-tuning Epoch: 35, Loss: 0.3669, Accuracy: 67.93%\n",
            "Fine-tuning Epoch: 35, Loss: 0.3814, Accuracy: 67.97%\n"
          ]
        },
        {
          "output_type": "stream",
          "name": "stderr",
          "text": [
            "\r 42%|████▏     | 25/60 [00:07<00:12,  2.90it/s]"
          ]
        },
        {
          "output_type": "stream",
          "name": "stdout",
          "text": [
            "Fine-tuning Epoch: 35, Loss: 0.3923, Accuracy: 68.75%\n"
          ]
        },
        {
          "output_type": "stream",
          "name": "stderr",
          "text": [
            "\r 43%|████▎     | 26/60 [00:07<00:10,  3.30it/s]"
          ]
        },
        {
          "output_type": "stream",
          "name": "stdout",
          "text": [
            "Fine-tuning Epoch: 35, Loss: 0.4090, Accuracy: 68.75%\n"
          ]
        },
        {
          "output_type": "stream",
          "name": "stderr",
          "text": [
            "\r 45%|████▌     | 27/60 [00:08<00:13,  2.45it/s]"
          ]
        },
        {
          "output_type": "stream",
          "name": "stdout",
          "text": [
            "Fine-tuning Epoch: 35, Loss: 0.4291, Accuracy: 68.29%\n"
          ]
        },
        {
          "output_type": "stream",
          "name": "stderr",
          "text": [
            "\r 47%|████▋     | 28/60 [00:08<00:11,  2.84it/s]"
          ]
        },
        {
          "output_type": "stream",
          "name": "stdout",
          "text": [
            "Fine-tuning Epoch: 35, Loss: 0.4413, Accuracy: 68.53%\n"
          ]
        },
        {
          "output_type": "stream",
          "name": "stderr",
          "text": [
            "\r 48%|████▊     | 29/60 [00:09<00:14,  2.19it/s]"
          ]
        },
        {
          "output_type": "stream",
          "name": "stdout",
          "text": [
            "Fine-tuning Epoch: 35, Loss: 0.4529, Accuracy: 68.86%\n"
          ]
        },
        {
          "output_type": "stream",
          "name": "stderr",
          "text": [
            "\r 50%|█████     | 30/60 [00:09<00:11,  2.55it/s]"
          ]
        },
        {
          "output_type": "stream",
          "name": "stdout",
          "text": [
            "Fine-tuning Epoch: 35, Loss: 0.4667, Accuracy: 68.65%\n"
          ]
        },
        {
          "output_type": "stream",
          "name": "stderr",
          "text": [
            "\r 52%|█████▏    | 31/60 [00:10<00:12,  2.25it/s]"
          ]
        },
        {
          "output_type": "stream",
          "name": "stdout",
          "text": [
            "Fine-tuning Epoch: 35, Loss: 0.4846, Accuracy: 68.55%\n"
          ]
        },
        {
          "output_type": "stream",
          "name": "stderr",
          "text": [
            "\r 53%|█████▎    | 32/60 [00:10<00:11,  2.49it/s]"
          ]
        },
        {
          "output_type": "stream",
          "name": "stdout",
          "text": [
            "Fine-tuning Epoch: 35, Loss: 0.5035, Accuracy: 68.16%\n"
          ]
        },
        {
          "output_type": "stream",
          "name": "stderr",
          "text": [
            "\r 55%|█████▌    | 33/60 [00:11<00:12,  2.19it/s]"
          ]
        },
        {
          "output_type": "stream",
          "name": "stdout",
          "text": [
            "Fine-tuning Epoch: 35, Loss: 0.5162, Accuracy: 68.37%\n"
          ]
        },
        {
          "output_type": "stream",
          "name": "stderr",
          "text": [
            "\r 57%|█████▋    | 34/60 [00:11<00:10,  2.39it/s]"
          ]
        },
        {
          "output_type": "stream",
          "name": "stdout",
          "text": [
            "Fine-tuning Epoch: 35, Loss: 0.5372, Accuracy: 67.92%\n"
          ]
        },
        {
          "output_type": "stream",
          "name": "stderr",
          "text": [
            "\r 58%|█████▊    | 35/60 [00:12<00:11,  2.10it/s]"
          ]
        },
        {
          "output_type": "stream",
          "name": "stdout",
          "text": [
            "Fine-tuning Epoch: 35, Loss: 0.5584, Accuracy: 67.50%\n"
          ]
        },
        {
          "output_type": "stream",
          "name": "stderr",
          "text": [
            "\r 60%|██████    | 36/60 [00:12<00:10,  2.32it/s]"
          ]
        },
        {
          "output_type": "stream",
          "name": "stdout",
          "text": [
            "Fine-tuning Epoch: 35, Loss: 0.5721, Accuracy: 67.80%\n"
          ]
        },
        {
          "output_type": "stream",
          "name": "stderr",
          "text": [
            " 63%|██████▎   | 38/60 [00:13<00:07,  2.76it/s]"
          ]
        },
        {
          "output_type": "stream",
          "name": "stdout",
          "text": [
            "Fine-tuning Epoch: 35, Loss: 0.5879, Accuracy: 67.91%\n",
            "Fine-tuning Epoch: 35, Loss: 0.6014, Accuracy: 68.01%\n"
          ]
        },
        {
          "output_type": "stream",
          "name": "stderr",
          "text": [
            " 67%|██████▋   | 40/60 [00:13<00:06,  3.23it/s]"
          ]
        },
        {
          "output_type": "stream",
          "name": "stdout",
          "text": [
            "Fine-tuning Epoch: 35, Loss: 0.6170, Accuracy: 67.87%\n",
            "Fine-tuning Epoch: 35, Loss: 0.6277, Accuracy: 68.20%\n"
          ]
        },
        {
          "output_type": "stream",
          "name": "stderr",
          "text": [
            " 70%|███████   | 42/60 [00:14<00:05,  3.56it/s]"
          ]
        },
        {
          "output_type": "stream",
          "name": "stdout",
          "text": [
            "Fine-tuning Epoch: 35, Loss: 0.6388, Accuracy: 68.60%\n",
            "Fine-tuning Epoch: 35, Loss: 0.6583, Accuracy: 68.53%\n"
          ]
        },
        {
          "output_type": "stream",
          "name": "stderr",
          "text": [
            " 73%|███████▎  | 44/60 [00:14<00:04,  3.72it/s]"
          ]
        },
        {
          "output_type": "stream",
          "name": "stdout",
          "text": [
            "Fine-tuning Epoch: 35, Loss: 0.6754, Accuracy: 68.31%\n",
            "Fine-tuning Epoch: 35, Loss: 0.6896, Accuracy: 68.39%\n"
          ]
        },
        {
          "output_type": "stream",
          "name": "stderr",
          "text": [
            " 77%|███████▋  | 46/60 [00:15<00:03,  3.60it/s]"
          ]
        },
        {
          "output_type": "stream",
          "name": "stdout",
          "text": [
            "Fine-tuning Epoch: 35, Loss: 0.6997, Accuracy: 68.54%\n",
            "Fine-tuning Epoch: 35, Loss: 0.7167, Accuracy: 68.41%\n"
          ]
        },
        {
          "output_type": "stream",
          "name": "stderr",
          "text": [
            " 80%|████████  | 48/60 [00:16<00:03,  3.80it/s]"
          ]
        },
        {
          "output_type": "stream",
          "name": "stdout",
          "text": [
            "Fine-tuning Epoch: 35, Loss: 0.7342, Accuracy: 68.48%\n",
            "Fine-tuning Epoch: 35, Loss: 0.7445, Accuracy: 68.68%\n"
          ]
        },
        {
          "output_type": "stream",
          "name": "stderr",
          "text": [
            " 83%|████████▎ | 50/60 [00:16<00:02,  3.89it/s]"
          ]
        },
        {
          "output_type": "stream",
          "name": "stdout",
          "text": [
            "Fine-tuning Epoch: 35, Loss: 0.7603, Accuracy: 68.81%\n",
            "Fine-tuning Epoch: 35, Loss: 0.7784, Accuracy: 68.56%\n"
          ]
        },
        {
          "output_type": "stream",
          "name": "stderr",
          "text": [
            " 87%|████████▋ | 52/60 [00:17<00:02,  3.88it/s]"
          ]
        },
        {
          "output_type": "stream",
          "name": "stdout",
          "text": [
            "Fine-tuning Epoch: 35, Loss: 0.7919, Accuracy: 68.57%\n",
            "Fine-tuning Epoch: 35, Loss: 0.8074, Accuracy: 68.63%\n"
          ]
        },
        {
          "output_type": "stream",
          "name": "stderr",
          "text": [
            " 90%|█████████ | 54/60 [00:17<00:01,  4.00it/s]"
          ]
        },
        {
          "output_type": "stream",
          "name": "stdout",
          "text": [
            "Fine-tuning Epoch: 35, Loss: 0.8270, Accuracy: 68.63%\n",
            "Fine-tuning Epoch: 35, Loss: 0.8497, Accuracy: 68.63%\n"
          ]
        },
        {
          "output_type": "stream",
          "name": "stderr",
          "text": [
            " 93%|█████████▎| 56/60 [00:18<00:01,  3.92it/s]"
          ]
        },
        {
          "output_type": "stream",
          "name": "stdout",
          "text": [
            "Fine-tuning Epoch: 35, Loss: 0.8684, Accuracy: 68.58%\n",
            "Fine-tuning Epoch: 35, Loss: 0.8847, Accuracy: 68.64%\n"
          ]
        },
        {
          "output_type": "stream",
          "name": "stderr",
          "text": [
            " 97%|█████████▋| 58/60 [00:18<00:00,  3.87it/s]"
          ]
        },
        {
          "output_type": "stream",
          "name": "stdout",
          "text": [
            "Fine-tuning Epoch: 35, Loss: 0.9051, Accuracy: 68.42%\n",
            "Fine-tuning Epoch: 35, Loss: 0.9197, Accuracy: 68.53%\n"
          ]
        },
        {
          "output_type": "stream",
          "name": "stderr",
          "text": [
            "100%|██████████| 60/60 [00:19<00:00,  3.08it/s]\n"
          ]
        },
        {
          "output_type": "stream",
          "name": "stdout",
          "text": [
            "Fine-tuning Epoch: 35, Loss: 0.9353, Accuracy: 68.59%\n",
            "Fine-tuning Epoch: 35, Loss: 0.9440, Accuracy: 68.75%\n"
          ]
        },
        {
          "output_type": "stream",
          "name": "stderr",
          "text": [
            "  3%|▎         | 2/60 [00:00<00:21,  2.75it/s]"
          ]
        },
        {
          "output_type": "stream",
          "name": "stdout",
          "text": [
            "Fine-tuning Epoch: 36, Loss: 0.0158, Accuracy: 65.62%\n",
            "Fine-tuning Epoch: 36, Loss: 0.0356, Accuracy: 57.81%\n"
          ]
        },
        {
          "output_type": "stream",
          "name": "stderr",
          "text": [
            "  7%|▋         | 4/60 [00:01<00:16,  3.46it/s]"
          ]
        },
        {
          "output_type": "stream",
          "name": "stdout",
          "text": [
            "Fine-tuning Epoch: 36, Loss: 0.0552, Accuracy: 58.33%\n",
            "Fine-tuning Epoch: 36, Loss: 0.0663, Accuracy: 62.50%\n"
          ]
        },
        {
          "output_type": "stream",
          "name": "stderr",
          "text": [
            " 10%|█         | 6/60 [00:02<00:15,  3.56it/s]"
          ]
        },
        {
          "output_type": "stream",
          "name": "stdout",
          "text": [
            "Fine-tuning Epoch: 36, Loss: 0.0812, Accuracy: 65.62%\n",
            "Fine-tuning Epoch: 36, Loss: 0.1020, Accuracy: 64.06%\n"
          ]
        },
        {
          "output_type": "stream",
          "name": "stderr",
          "text": [
            " 13%|█▎        | 8/60 [00:02<00:13,  3.77it/s]"
          ]
        },
        {
          "output_type": "stream",
          "name": "stdout",
          "text": [
            "Fine-tuning Epoch: 36, Loss: 0.1244, Accuracy: 62.50%\n",
            "Fine-tuning Epoch: 36, Loss: 0.1361, Accuracy: 64.06%\n"
          ]
        },
        {
          "output_type": "stream",
          "name": "stderr",
          "text": [
            " 17%|█▋        | 10/60 [00:03<00:13,  3.78it/s]"
          ]
        },
        {
          "output_type": "stream",
          "name": "stdout",
          "text": [
            "Fine-tuning Epoch: 36, Loss: 0.1501, Accuracy: 64.93%\n",
            "Fine-tuning Epoch: 36, Loss: 0.1607, Accuracy: 66.25%\n"
          ]
        },
        {
          "output_type": "stream",
          "name": "stderr",
          "text": [
            " 20%|██        | 12/60 [00:03<00:14,  3.29it/s]"
          ]
        },
        {
          "output_type": "stream",
          "name": "stdout",
          "text": [
            "Fine-tuning Epoch: 36, Loss: 0.1716, Accuracy: 67.90%\n",
            "Fine-tuning Epoch: 36, Loss: 0.1889, Accuracy: 67.19%\n"
          ]
        },
        {
          "output_type": "stream",
          "name": "stderr",
          "text": [
            " 23%|██▎       | 14/60 [00:04<00:15,  2.89it/s]"
          ]
        },
        {
          "output_type": "stream",
          "name": "stdout",
          "text": [
            "Fine-tuning Epoch: 36, Loss: 0.2065, Accuracy: 66.59%\n",
            "Fine-tuning Epoch: 36, Loss: 0.2250, Accuracy: 66.74%\n"
          ]
        },
        {
          "output_type": "stream",
          "name": "stderr",
          "text": [
            " 27%|██▋       | 16/60 [00:05<00:16,  2.66it/s]"
          ]
        },
        {
          "output_type": "stream",
          "name": "stdout",
          "text": [
            "Fine-tuning Epoch: 36, Loss: 0.2469, Accuracy: 66.25%\n",
            "Fine-tuning Epoch: 36, Loss: 0.2645, Accuracy: 65.82%\n"
          ]
        },
        {
          "output_type": "stream",
          "name": "stderr",
          "text": [
            " 30%|███       | 18/60 [00:06<00:15,  2.65it/s]"
          ]
        },
        {
          "output_type": "stream",
          "name": "stdout",
          "text": [
            "Fine-tuning Epoch: 36, Loss: 0.2772, Accuracy: 66.54%\n",
            "Fine-tuning Epoch: 36, Loss: 0.2907, Accuracy: 66.84%\n"
          ]
        },
        {
          "output_type": "stream",
          "name": "stderr",
          "text": [
            " 33%|███▎      | 20/60 [00:07<00:15,  2.51it/s]"
          ]
        },
        {
          "output_type": "stream",
          "name": "stdout",
          "text": [
            "Fine-tuning Epoch: 36, Loss: 0.3091, Accuracy: 67.27%\n",
            "Fine-tuning Epoch: 36, Loss: 0.3248, Accuracy: 67.66%\n"
          ]
        },
        {
          "output_type": "stream",
          "name": "stderr",
          "text": [
            " 37%|███▋      | 22/60 [00:08<00:15,  2.53it/s]"
          ]
        },
        {
          "output_type": "stream",
          "name": "stdout",
          "text": [
            "Fine-tuning Epoch: 36, Loss: 0.3449, Accuracy: 66.96%\n",
            "Fine-tuning Epoch: 36, Loss: 0.3582, Accuracy: 66.90%\n"
          ]
        },
        {
          "output_type": "stream",
          "name": "stderr",
          "text": [
            " 40%|████      | 24/60 [00:09<00:12,  2.93it/s]"
          ]
        },
        {
          "output_type": "stream",
          "name": "stdout",
          "text": [
            "Fine-tuning Epoch: 36, Loss: 0.3749, Accuracy: 66.98%\n",
            "Fine-tuning Epoch: 36, Loss: 0.3971, Accuracy: 66.54%\n"
          ]
        },
        {
          "output_type": "stream",
          "name": "stderr",
          "text": [
            " 43%|████▎     | 26/60 [00:09<00:10,  3.25it/s]"
          ]
        },
        {
          "output_type": "stream",
          "name": "stdout",
          "text": [
            "Fine-tuning Epoch: 36, Loss: 0.4134, Accuracy: 66.50%\n",
            "Fine-tuning Epoch: 36, Loss: 0.4329, Accuracy: 66.71%\n"
          ]
        },
        {
          "output_type": "stream",
          "name": "stderr",
          "text": [
            " 47%|████▋     | 28/60 [00:10<00:08,  3.58it/s]"
          ]
        },
        {
          "output_type": "stream",
          "name": "stdout",
          "text": [
            "Fine-tuning Epoch: 36, Loss: 0.4520, Accuracy: 66.67%\n",
            "Fine-tuning Epoch: 36, Loss: 0.4668, Accuracy: 66.85%\n"
          ]
        },
        {
          "output_type": "stream",
          "name": "stderr",
          "text": [
            " 50%|█████     | 30/60 [00:10<00:08,  3.66it/s]"
          ]
        },
        {
          "output_type": "stream",
          "name": "stdout",
          "text": [
            "Fine-tuning Epoch: 36, Loss: 0.4803, Accuracy: 67.03%\n",
            "Fine-tuning Epoch: 36, Loss: 0.4942, Accuracy: 67.29%\n"
          ]
        },
        {
          "output_type": "stream",
          "name": "stderr",
          "text": [
            " 53%|█████▎    | 32/60 [00:11<00:07,  3.80it/s]"
          ]
        },
        {
          "output_type": "stream",
          "name": "stdout",
          "text": [
            "Fine-tuning Epoch: 36, Loss: 0.5057, Accuracy: 67.54%\n",
            "Fine-tuning Epoch: 36, Loss: 0.5216, Accuracy: 67.58%\n"
          ]
        },
        {
          "output_type": "stream",
          "name": "stderr",
          "text": [
            " 57%|█████▋    | 34/60 [00:11<00:06,  3.98it/s]"
          ]
        },
        {
          "output_type": "stream",
          "name": "stdout",
          "text": [
            "Fine-tuning Epoch: 36, Loss: 0.5335, Accuracy: 67.90%\n",
            "Fine-tuning Epoch: 36, Loss: 0.5509, Accuracy: 67.65%\n"
          ]
        },
        {
          "output_type": "stream",
          "name": "stderr",
          "text": [
            " 60%|██████    | 36/60 [00:12<00:05,  4.10it/s]"
          ]
        },
        {
          "output_type": "stream",
          "name": "stdout",
          "text": [
            "Fine-tuning Epoch: 36, Loss: 0.5637, Accuracy: 67.68%\n",
            "Fine-tuning Epoch: 36, Loss: 0.5813, Accuracy: 67.80%\n"
          ]
        },
        {
          "output_type": "stream",
          "name": "stderr",
          "text": [
            " 63%|██████▎   | 38/60 [00:13<00:05,  4.07it/s]"
          ]
        },
        {
          "output_type": "stream",
          "name": "stdout",
          "text": [
            "Fine-tuning Epoch: 36, Loss: 0.5995, Accuracy: 67.65%\n",
            "Fine-tuning Epoch: 36, Loss: 0.6164, Accuracy: 67.60%\n"
          ]
        },
        {
          "output_type": "stream",
          "name": "stderr",
          "text": [
            " 67%|██████▋   | 40/60 [00:13<00:05,  3.80it/s]"
          ]
        },
        {
          "output_type": "stream",
          "name": "stdout",
          "text": [
            "Fine-tuning Epoch: 36, Loss: 0.6376, Accuracy: 67.15%\n",
            "Fine-tuning Epoch: 36, Loss: 0.6492, Accuracy: 67.42%\n"
          ]
        },
        {
          "output_type": "stream",
          "name": "stderr",
          "text": [
            " 70%|███████   | 42/60 [00:14<00:04,  3.81it/s]"
          ]
        },
        {
          "output_type": "stream",
          "name": "stdout",
          "text": [
            "Fine-tuning Epoch: 36, Loss: 0.6579, Accuracy: 67.76%\n",
            "Fine-tuning Epoch: 36, Loss: 0.6739, Accuracy: 67.86%\n"
          ]
        },
        {
          "output_type": "stream",
          "name": "stderr",
          "text": [
            " 73%|███████▎  | 44/60 [00:14<00:04,  3.80it/s]"
          ]
        },
        {
          "output_type": "stream",
          "name": "stdout",
          "text": [
            "Fine-tuning Epoch: 36, Loss: 0.6925, Accuracy: 67.88%\n",
            "Fine-tuning Epoch: 36, Loss: 0.7057, Accuracy: 68.04%\n"
          ]
        },
        {
          "output_type": "stream",
          "name": "stderr",
          "text": [
            " 77%|███████▋  | 46/60 [00:15<00:03,  4.00it/s]"
          ]
        },
        {
          "output_type": "stream",
          "name": "stdout",
          "text": [
            "Fine-tuning Epoch: 36, Loss: 0.7194, Accuracy: 67.99%\n",
            "Fine-tuning Epoch: 36, Loss: 0.7384, Accuracy: 67.73%\n"
          ]
        },
        {
          "output_type": "stream",
          "name": "stderr",
          "text": [
            " 80%|████████  | 48/60 [00:15<00:03,  3.96it/s]"
          ]
        },
        {
          "output_type": "stream",
          "name": "stdout",
          "text": [
            "Fine-tuning Epoch: 36, Loss: 0.7587, Accuracy: 67.49%\n",
            "Fine-tuning Epoch: 36, Loss: 0.7828, Accuracy: 67.25%\n"
          ]
        },
        {
          "output_type": "stream",
          "name": "stderr",
          "text": [
            " 83%|████████▎ | 50/60 [00:16<00:02,  3.99it/s]"
          ]
        },
        {
          "output_type": "stream",
          "name": "stdout",
          "text": [
            "Fine-tuning Epoch: 36, Loss: 0.7980, Accuracy: 67.22%\n",
            "Fine-tuning Epoch: 36, Loss: 0.8195, Accuracy: 66.69%\n"
          ]
        },
        {
          "output_type": "stream",
          "name": "stderr",
          "text": [
            " 87%|████████▋ | 52/60 [00:16<00:01,  4.12it/s]"
          ]
        },
        {
          "output_type": "stream",
          "name": "stdout",
          "text": [
            "Fine-tuning Epoch: 36, Loss: 0.8350, Accuracy: 66.67%\n",
            "Fine-tuning Epoch: 36, Loss: 0.8544, Accuracy: 66.53%\n"
          ]
        },
        {
          "output_type": "stream",
          "name": "stderr",
          "text": [
            " 90%|█████████ | 54/60 [00:17<00:01,  3.93it/s]"
          ]
        },
        {
          "output_type": "stream",
          "name": "stdout",
          "text": [
            "Fine-tuning Epoch: 36, Loss: 0.8676, Accuracy: 66.57%\n",
            "Fine-tuning Epoch: 36, Loss: 0.8880, Accuracy: 66.44%\n"
          ]
        },
        {
          "output_type": "stream",
          "name": "stderr",
          "text": [
            " 93%|█████████▎| 56/60 [00:18<00:01,  3.89it/s]"
          ]
        },
        {
          "output_type": "stream",
          "name": "stdout",
          "text": [
            "Fine-tuning Epoch: 36, Loss: 0.9013, Accuracy: 66.53%\n",
            "Fine-tuning Epoch: 36, Loss: 0.9137, Accuracy: 66.52%\n"
          ]
        },
        {
          "output_type": "stream",
          "name": "stderr",
          "text": [
            " 97%|█████████▋| 58/60 [00:18<00:00,  3.94it/s]"
          ]
        },
        {
          "output_type": "stream",
          "name": "stdout",
          "text": [
            "Fine-tuning Epoch: 36, Loss: 0.9256, Accuracy: 66.72%\n",
            "Fine-tuning Epoch: 36, Loss: 0.9416, Accuracy: 66.65%\n"
          ]
        },
        {
          "output_type": "stream",
          "name": "stderr",
          "text": [
            "100%|██████████| 60/60 [00:19<00:00,  3.09it/s]"
          ]
        },
        {
          "output_type": "stream",
          "name": "stdout",
          "text": [
            "Fine-tuning Epoch: 36, Loss: 0.9528, Accuracy: 66.79%\n",
            "Fine-tuning Epoch: 36, Loss: 0.9658, Accuracy: 66.88%\n"
          ]
        },
        {
          "output_type": "stream",
          "name": "stderr",
          "text": [
            "\n",
            "  3%|▎         | 2/60 [00:01<00:33,  1.71it/s]"
          ]
        },
        {
          "output_type": "stream",
          "name": "stdout",
          "text": [
            "Fine-tuning Epoch: 37, Loss: 0.0146, Accuracy: 81.25%\n",
            "Fine-tuning Epoch: 37, Loss: 0.0263, Accuracy: 78.12%\n"
          ]
        },
        {
          "output_type": "stream",
          "name": "stderr",
          "text": [
            "  7%|▋         | 4/60 [00:02<00:23,  2.37it/s]"
          ]
        },
        {
          "output_type": "stream",
          "name": "stdout",
          "text": [
            "Fine-tuning Epoch: 37, Loss: 0.0405, Accuracy: 75.00%\n",
            "Fine-tuning Epoch: 37, Loss: 0.0540, Accuracy: 74.22%\n"
          ]
        },
        {
          "output_type": "stream",
          "name": "stderr",
          "text": [
            " 10%|█         | 6/60 [00:03<00:22,  2.45it/s]"
          ]
        },
        {
          "output_type": "stream",
          "name": "stdout",
          "text": [
            "Fine-tuning Epoch: 37, Loss: 0.0743, Accuracy: 71.88%\n",
            "Fine-tuning Epoch: 37, Loss: 0.0865, Accuracy: 73.44%\n"
          ]
        },
        {
          "output_type": "stream",
          "name": "stderr",
          "text": [
            " 13%|█▎        | 8/60 [00:03<00:21,  2.42it/s]"
          ]
        },
        {
          "output_type": "stream",
          "name": "stdout",
          "text": [
            "Fine-tuning Epoch: 37, Loss: 0.1051, Accuracy: 74.11%\n",
            "Fine-tuning Epoch: 37, Loss: 0.1174, Accuracy: 73.83%\n"
          ]
        },
        {
          "output_type": "stream",
          "name": "stderr",
          "text": [
            " 17%|█▋        | 10/60 [00:04<00:19,  2.57it/s]"
          ]
        },
        {
          "output_type": "stream",
          "name": "stdout",
          "text": [
            "Fine-tuning Epoch: 37, Loss: 0.1319, Accuracy: 73.61%\n",
            "Fine-tuning Epoch: 37, Loss: 0.1448, Accuracy: 73.12%\n"
          ]
        },
        {
          "output_type": "stream",
          "name": "stderr",
          "text": [
            " 20%|██        | 12/60 [00:05<00:15,  3.02it/s]"
          ]
        },
        {
          "output_type": "stream",
          "name": "stdout",
          "text": [
            "Fine-tuning Epoch: 37, Loss: 0.1599, Accuracy: 72.73%\n",
            "Fine-tuning Epoch: 37, Loss: 0.1733, Accuracy: 72.92%\n"
          ]
        },
        {
          "output_type": "stream",
          "name": "stderr",
          "text": [
            " 23%|██▎       | 14/60 [00:06<00:13,  3.40it/s]"
          ]
        },
        {
          "output_type": "stream",
          "name": "stdout",
          "text": [
            "Fine-tuning Epoch: 37, Loss: 0.1852, Accuracy: 73.08%\n",
            "Fine-tuning Epoch: 37, Loss: 0.1991, Accuracy: 72.54%\n"
          ]
        },
        {
          "output_type": "stream",
          "name": "stderr",
          "text": [
            " 27%|██▋       | 16/60 [00:06<00:12,  3.60it/s]"
          ]
        },
        {
          "output_type": "stream",
          "name": "stdout",
          "text": [
            "Fine-tuning Epoch: 37, Loss: 0.2159, Accuracy: 72.71%\n",
            "Fine-tuning Epoch: 37, Loss: 0.2326, Accuracy: 71.88%\n"
          ]
        },
        {
          "output_type": "stream",
          "name": "stderr",
          "text": [
            " 30%|███       | 18/60 [00:07<00:11,  3.74it/s]"
          ]
        },
        {
          "output_type": "stream",
          "name": "stdout",
          "text": [
            "Fine-tuning Epoch: 37, Loss: 0.2548, Accuracy: 70.77%\n",
            "Fine-tuning Epoch: 37, Loss: 0.2711, Accuracy: 70.66%\n"
          ]
        },
        {
          "output_type": "stream",
          "name": "stderr",
          "text": [
            " 33%|███▎      | 20/60 [00:07<00:10,  3.84it/s]"
          ]
        },
        {
          "output_type": "stream",
          "name": "stdout",
          "text": [
            "Fine-tuning Epoch: 37, Loss: 0.2853, Accuracy: 70.89%\n",
            "Fine-tuning Epoch: 37, Loss: 0.2972, Accuracy: 71.41%\n"
          ]
        },
        {
          "output_type": "stream",
          "name": "stderr",
          "text": [
            " 37%|███▋      | 22/60 [00:08<00:10,  3.79it/s]"
          ]
        },
        {
          "output_type": "stream",
          "name": "stdout",
          "text": [
            "Fine-tuning Epoch: 37, Loss: 0.3080, Accuracy: 71.58%\n",
            "Fine-tuning Epoch: 37, Loss: 0.3252, Accuracy: 71.02%\n"
          ]
        },
        {
          "output_type": "stream",
          "name": "stderr",
          "text": [
            " 40%|████      | 24/60 [00:08<00:09,  3.86it/s]"
          ]
        },
        {
          "output_type": "stream",
          "name": "stdout",
          "text": [
            "Fine-tuning Epoch: 37, Loss: 0.3467, Accuracy: 70.65%\n",
            "Fine-tuning Epoch: 37, Loss: 0.3640, Accuracy: 70.05%\n"
          ]
        },
        {
          "output_type": "stream",
          "name": "stderr",
          "text": [
            " 43%|████▎     | 26/60 [00:09<00:08,  3.96it/s]"
          ]
        },
        {
          "output_type": "stream",
          "name": "stdout",
          "text": [
            "Fine-tuning Epoch: 37, Loss: 0.3765, Accuracy: 70.12%\n",
            "Fine-tuning Epoch: 37, Loss: 0.3929, Accuracy: 69.59%\n"
          ]
        },
        {
          "output_type": "stream",
          "name": "stderr",
          "text": [
            " 47%|████▋     | 28/60 [00:09<00:07,  4.09it/s]"
          ]
        },
        {
          "output_type": "stream",
          "name": "stdout",
          "text": [
            "Fine-tuning Epoch: 37, Loss: 0.4115, Accuracy: 69.10%\n",
            "Fine-tuning Epoch: 37, Loss: 0.4291, Accuracy: 68.97%\n"
          ]
        },
        {
          "output_type": "stream",
          "name": "stderr",
          "text": [
            " 50%|█████     | 30/60 [00:10<00:07,  3.89it/s]"
          ]
        },
        {
          "output_type": "stream",
          "name": "stdout",
          "text": [
            "Fine-tuning Epoch: 37, Loss: 0.4437, Accuracy: 68.97%\n",
            "Fine-tuning Epoch: 37, Loss: 0.4606, Accuracy: 68.85%\n"
          ]
        },
        {
          "output_type": "stream",
          "name": "stderr",
          "text": [
            " 53%|█████▎    | 32/60 [00:11<00:07,  3.81it/s]"
          ]
        },
        {
          "output_type": "stream",
          "name": "stdout",
          "text": [
            "Fine-tuning Epoch: 37, Loss: 0.4733, Accuracy: 68.85%\n",
            "Fine-tuning Epoch: 37, Loss: 0.4870, Accuracy: 69.14%\n"
          ]
        },
        {
          "output_type": "stream",
          "name": "stderr",
          "text": [
            " 57%|█████▋    | 34/60 [00:11<00:06,  3.77it/s]"
          ]
        },
        {
          "output_type": "stream",
          "name": "stdout",
          "text": [
            "Fine-tuning Epoch: 37, Loss: 0.4998, Accuracy: 69.32%\n",
            "Fine-tuning Epoch: 37, Loss: 0.5150, Accuracy: 69.21%\n"
          ]
        },
        {
          "output_type": "stream",
          "name": "stderr",
          "text": [
            " 60%|██████    | 36/60 [00:12<00:06,  3.90it/s]"
          ]
        },
        {
          "output_type": "stream",
          "name": "stdout",
          "text": [
            "Fine-tuning Epoch: 37, Loss: 0.5386, Accuracy: 68.48%\n",
            "Fine-tuning Epoch: 37, Loss: 0.5587, Accuracy: 68.23%\n"
          ]
        },
        {
          "output_type": "stream",
          "name": "stderr",
          "text": [
            " 63%|██████▎   | 38/60 [00:12<00:05,  3.89it/s]"
          ]
        },
        {
          "output_type": "stream",
          "name": "stdout",
          "text": [
            "Fine-tuning Epoch: 37, Loss: 0.5736, Accuracy: 68.33%\n",
            "Fine-tuning Epoch: 37, Loss: 0.5883, Accuracy: 68.50%\n"
          ]
        },
        {
          "output_type": "stream",
          "name": "stderr",
          "text": [
            " 67%|██████▋   | 40/60 [00:13<00:04,  4.13it/s]"
          ]
        },
        {
          "output_type": "stream",
          "name": "stdout",
          "text": [
            "Fine-tuning Epoch: 37, Loss: 0.6054, Accuracy: 68.51%\n",
            "Fine-tuning Epoch: 37, Loss: 0.6242, Accuracy: 68.28%\n"
          ]
        },
        {
          "output_type": "stream",
          "name": "stderr",
          "text": [
            " 70%|███████   | 42/60 [00:14<00:04,  3.84it/s]"
          ]
        },
        {
          "output_type": "stream",
          "name": "stdout",
          "text": [
            "Fine-tuning Epoch: 37, Loss: 0.6376, Accuracy: 68.45%\n",
            "Fine-tuning Epoch: 37, Loss: 0.6551, Accuracy: 68.45%\n"
          ]
        },
        {
          "output_type": "stream",
          "name": "stderr",
          "text": [
            " 73%|███████▎  | 44/60 [00:14<00:03,  4.03it/s]"
          ]
        },
        {
          "output_type": "stream",
          "name": "stdout",
          "text": [
            "Fine-tuning Epoch: 37, Loss: 0.6773, Accuracy: 68.17%\n",
            "Fine-tuning Epoch: 37, Loss: 0.6900, Accuracy: 68.32%\n"
          ]
        },
        {
          "output_type": "stream",
          "name": "stderr",
          "text": [
            " 77%|███████▋  | 46/60 [00:15<00:03,  3.50it/s]"
          ]
        },
        {
          "output_type": "stream",
          "name": "stdout",
          "text": [
            "Fine-tuning Epoch: 37, Loss: 0.7013, Accuracy: 68.47%\n",
            "Fine-tuning Epoch: 37, Loss: 0.7143, Accuracy: 68.61%\n"
          ]
        },
        {
          "output_type": "stream",
          "name": "stderr",
          "text": [
            " 80%|████████  | 48/60 [00:16<00:04,  2.92it/s]"
          ]
        },
        {
          "output_type": "stream",
          "name": "stdout",
          "text": [
            "Fine-tuning Epoch: 37, Loss: 0.7359, Accuracy: 68.22%\n",
            "Fine-tuning Epoch: 37, Loss: 0.7573, Accuracy: 68.03%\n"
          ]
        },
        {
          "output_type": "stream",
          "name": "stderr",
          "text": [
            " 83%|████████▎ | 50/60 [00:16<00:03,  2.86it/s]"
          ]
        },
        {
          "output_type": "stream",
          "name": "stdout",
          "text": [
            "Fine-tuning Epoch: 37, Loss: 0.7700, Accuracy: 68.18%\n",
            "Fine-tuning Epoch: 37, Loss: 0.7813, Accuracy: 68.38%\n"
          ]
        },
        {
          "output_type": "stream",
          "name": "stderr",
          "text": [
            " 87%|████████▋ | 52/60 [00:17<00:03,  2.55it/s]"
          ]
        },
        {
          "output_type": "stream",
          "name": "stdout",
          "text": [
            "Fine-tuning Epoch: 37, Loss: 0.8018, Accuracy: 68.20%\n",
            "Fine-tuning Epoch: 37, Loss: 0.8150, Accuracy: 68.39%\n"
          ]
        },
        {
          "output_type": "stream",
          "name": "stderr",
          "text": [
            " 90%|█████████ | 54/60 [00:18<00:02,  2.42it/s]"
          ]
        },
        {
          "output_type": "stream",
          "name": "stdout",
          "text": [
            "Fine-tuning Epoch: 37, Loss: 0.8379, Accuracy: 68.04%\n",
            "Fine-tuning Epoch: 37, Loss: 0.8512, Accuracy: 68.06%\n"
          ]
        },
        {
          "output_type": "stream",
          "name": "stderr",
          "text": [
            " 93%|█████████▎| 56/60 [00:19<00:01,  2.43it/s]"
          ]
        },
        {
          "output_type": "stream",
          "name": "stdout",
          "text": [
            "Fine-tuning Epoch: 37, Loss: 0.8642, Accuracy: 68.07%\n",
            "Fine-tuning Epoch: 37, Loss: 0.8853, Accuracy: 67.97%\n"
          ]
        },
        {
          "output_type": "stream",
          "name": "stderr",
          "text": [
            " 97%|█████████▋| 58/60 [00:20<00:00,  2.73it/s]"
          ]
        },
        {
          "output_type": "stream",
          "name": "stdout",
          "text": [
            "Fine-tuning Epoch: 37, Loss: 0.9000, Accuracy: 67.93%\n",
            "Fine-tuning Epoch: 37, Loss: 0.9210, Accuracy: 67.83%\n"
          ]
        },
        {
          "output_type": "stream",
          "name": "stderr",
          "text": [
            "100%|██████████| 60/60 [00:21<00:00,  2.85it/s]\n"
          ]
        },
        {
          "output_type": "stream",
          "name": "stdout",
          "text": [
            "Fine-tuning Epoch: 37, Loss: 0.9350, Accuracy: 68.01%\n",
            "Fine-tuning Epoch: 37, Loss: 0.9492, Accuracy: 68.12%\n"
          ]
        },
        {
          "output_type": "stream",
          "name": "stderr",
          "text": [
            "  3%|▎         | 2/60 [00:00<00:20,  2.77it/s]"
          ]
        },
        {
          "output_type": "stream",
          "name": "stdout",
          "text": [
            "Fine-tuning Epoch: 38, Loss: 0.0168, Accuracy: 68.75%\n",
            "Fine-tuning Epoch: 38, Loss: 0.0380, Accuracy: 59.38%\n"
          ]
        },
        {
          "output_type": "stream",
          "name": "stderr",
          "text": [
            "  7%|▋         | 4/60 [00:01<00:16,  3.47it/s]"
          ]
        },
        {
          "output_type": "stream",
          "name": "stdout",
          "text": [
            "Fine-tuning Epoch: 38, Loss: 0.0505, Accuracy: 62.50%\n",
            "Fine-tuning Epoch: 38, Loss: 0.0632, Accuracy: 67.19%\n"
          ]
        },
        {
          "output_type": "stream",
          "name": "stderr",
          "text": [
            " 10%|█         | 6/60 [00:01<00:14,  3.73it/s]"
          ]
        },
        {
          "output_type": "stream",
          "name": "stdout",
          "text": [
            "Fine-tuning Epoch: 38, Loss: 0.0848, Accuracy: 65.62%\n",
            "Fine-tuning Epoch: 38, Loss: 0.1028, Accuracy: 65.10%\n"
          ]
        },
        {
          "output_type": "stream",
          "name": "stderr",
          "text": [
            " 13%|█▎        | 8/60 [00:02<00:13,  3.93it/s]"
          ]
        },
        {
          "output_type": "stream",
          "name": "stdout",
          "text": [
            "Fine-tuning Epoch: 38, Loss: 0.1272, Accuracy: 63.39%\n",
            "Fine-tuning Epoch: 38, Loss: 0.1464, Accuracy: 63.67%\n"
          ]
        },
        {
          "output_type": "stream",
          "name": "stderr",
          "text": [
            " 17%|█▋        | 10/60 [00:03<00:12,  3.95it/s]"
          ]
        },
        {
          "output_type": "stream",
          "name": "stdout",
          "text": [
            "Fine-tuning Epoch: 38, Loss: 0.1727, Accuracy: 62.85%\n",
            "Fine-tuning Epoch: 38, Loss: 0.1880, Accuracy: 63.44%\n"
          ]
        },
        {
          "output_type": "stream",
          "name": "stderr",
          "text": [
            " 20%|██        | 12/60 [00:03<00:12,  3.83it/s]"
          ]
        },
        {
          "output_type": "stream",
          "name": "stdout",
          "text": [
            "Fine-tuning Epoch: 38, Loss: 0.2029, Accuracy: 64.49%\n",
            "Fine-tuning Epoch: 38, Loss: 0.2191, Accuracy: 64.58%\n"
          ]
        },
        {
          "output_type": "stream",
          "name": "stderr",
          "text": [
            " 23%|██▎       | 14/60 [00:04<00:11,  3.88it/s]"
          ]
        },
        {
          "output_type": "stream",
          "name": "stdout",
          "text": [
            "Fine-tuning Epoch: 38, Loss: 0.2382, Accuracy: 64.18%\n",
            "Fine-tuning Epoch: 38, Loss: 0.2556, Accuracy: 64.51%\n"
          ]
        },
        {
          "output_type": "stream",
          "name": "stderr",
          "text": [
            " 27%|██▋       | 16/60 [00:04<00:11,  3.96it/s]"
          ]
        },
        {
          "output_type": "stream",
          "name": "stdout",
          "text": [
            "Fine-tuning Epoch: 38, Loss: 0.2762, Accuracy: 63.96%\n",
            "Fine-tuning Epoch: 38, Loss: 0.2972, Accuracy: 63.67%\n"
          ]
        },
        {
          "output_type": "stream",
          "name": "stderr",
          "text": [
            " 30%|███       | 18/60 [00:05<00:10,  3.83it/s]"
          ]
        },
        {
          "output_type": "stream",
          "name": "stdout",
          "text": [
            "Fine-tuning Epoch: 38, Loss: 0.3134, Accuracy: 63.97%\n",
            "Fine-tuning Epoch: 38, Loss: 0.3347, Accuracy: 63.37%\n"
          ]
        },
        {
          "output_type": "stream",
          "name": "stderr",
          "text": [
            " 33%|███▎      | 20/60 [00:05<00:10,  3.85it/s]"
          ]
        },
        {
          "output_type": "stream",
          "name": "stdout",
          "text": [
            "Fine-tuning Epoch: 38, Loss: 0.3488, Accuracy: 63.98%\n",
            "Fine-tuning Epoch: 38, Loss: 0.3683, Accuracy: 63.59%\n"
          ]
        },
        {
          "output_type": "stream",
          "name": "stderr",
          "text": [
            "\r 35%|███▌      | 21/60 [00:06<00:11,  3.50it/s]"
          ]
        },
        {
          "output_type": "stream",
          "name": "stdout",
          "text": [
            "Fine-tuning Epoch: 38, Loss: 0.3828, Accuracy: 63.54%\n"
          ]
        },
        {
          "output_type": "stream",
          "name": "stderr",
          "text": [
            "\r 37%|███▋      | 22/60 [00:06<00:10,  3.59it/s]"
          ]
        },
        {
          "output_type": "stream",
          "name": "stdout",
          "text": [
            "Fine-tuning Epoch: 38, Loss: 0.4003, Accuracy: 63.78%\n"
          ]
        },
        {
          "output_type": "stream",
          "name": "stderr",
          "text": [
            "\r 38%|███▊      | 23/60 [00:06<00:10,  3.56it/s]"
          ]
        },
        {
          "output_type": "stream",
          "name": "stdout",
          "text": [
            "Fine-tuning Epoch: 38, Loss: 0.4168, Accuracy: 63.86%\n"
          ]
        },
        {
          "output_type": "stream",
          "name": "stderr",
          "text": [
            "\r 40%|████      | 24/60 [00:07<00:09,  3.65it/s]"
          ]
        },
        {
          "output_type": "stream",
          "name": "stdout",
          "text": [
            "Fine-tuning Epoch: 38, Loss: 0.4326, Accuracy: 64.06%\n"
          ]
        },
        {
          "output_type": "stream",
          "name": "stderr",
          "text": [
            "\r 42%|████▏     | 25/60 [00:07<00:09,  3.69it/s]"
          ]
        },
        {
          "output_type": "stream",
          "name": "stdout",
          "text": [
            "Fine-tuning Epoch: 38, Loss: 0.4435, Accuracy: 64.62%\n"
          ]
        },
        {
          "output_type": "stream",
          "name": "stderr",
          "text": [
            "\r 43%|████▎     | 26/60 [00:07<00:09,  3.61it/s]"
          ]
        },
        {
          "output_type": "stream",
          "name": "stdout",
          "text": [
            "Fine-tuning Epoch: 38, Loss: 0.4602, Accuracy: 64.54%\n"
          ]
        },
        {
          "output_type": "stream",
          "name": "stderr",
          "text": [
            "\r 45%|████▌     | 27/60 [00:07<00:09,  3.38it/s]"
          ]
        },
        {
          "output_type": "stream",
          "name": "stdout",
          "text": [
            "Fine-tuning Epoch: 38, Loss: 0.4753, Accuracy: 65.16%\n"
          ]
        },
        {
          "output_type": "stream",
          "name": "stderr",
          "text": [
            "\r 47%|████▋     | 28/60 [00:08<00:08,  3.67it/s]"
          ]
        },
        {
          "output_type": "stream",
          "name": "stdout",
          "text": [
            "Fine-tuning Epoch: 38, Loss: 0.4944, Accuracy: 65.07%\n"
          ]
        },
        {
          "output_type": "stream",
          "name": "stderr",
          "text": [
            " 50%|█████     | 30/60 [00:08<00:08,  3.69it/s]"
          ]
        },
        {
          "output_type": "stream",
          "name": "stdout",
          "text": [
            "Fine-tuning Epoch: 38, Loss: 0.5066, Accuracy: 65.62%\n",
            "Fine-tuning Epoch: 38, Loss: 0.5281, Accuracy: 65.73%\n"
          ]
        },
        {
          "output_type": "stream",
          "name": "stderr",
          "text": [
            " 53%|█████▎    | 32/60 [00:09<00:07,  3.89it/s]"
          ]
        },
        {
          "output_type": "stream",
          "name": "stdout",
          "text": [
            "Fine-tuning Epoch: 38, Loss: 0.5459, Accuracy: 65.83%\n",
            "Fine-tuning Epoch: 38, Loss: 0.5615, Accuracy: 65.92%\n"
          ]
        },
        {
          "output_type": "stream",
          "name": "stderr",
          "text": [
            "\r 55%|█████▌    | 33/60 [00:10<00:10,  2.52it/s]"
          ]
        },
        {
          "output_type": "stream",
          "name": "stdout",
          "text": [
            "Fine-tuning Epoch: 38, Loss: 0.5812, Accuracy: 65.72%\n"
          ]
        },
        {
          "output_type": "stream",
          "name": "stderr",
          "text": [
            "\r 57%|█████▋    | 34/60 [00:10<00:09,  2.86it/s]"
          ]
        },
        {
          "output_type": "stream",
          "name": "stdout",
          "text": [
            "Fine-tuning Epoch: 38, Loss: 0.5942, Accuracy: 65.72%\n"
          ]
        },
        {
          "output_type": "stream",
          "name": "stderr",
          "text": [
            " 60%|██████    | 36/60 [00:11<00:08,  2.81it/s]"
          ]
        },
        {
          "output_type": "stream",
          "name": "stdout",
          "text": [
            "Fine-tuning Epoch: 38, Loss: 0.6073, Accuracy: 65.80%\n",
            "Fine-tuning Epoch: 38, Loss: 0.6235, Accuracy: 65.80%\n"
          ]
        },
        {
          "output_type": "stream",
          "name": "stderr",
          "text": [
            " 63%|██████▎   | 38/60 [00:11<00:08,  2.70it/s]"
          ]
        },
        {
          "output_type": "stream",
          "name": "stdout",
          "text": [
            "Fine-tuning Epoch: 38, Loss: 0.6419, Accuracy: 65.79%\n",
            "Fine-tuning Epoch: 38, Loss: 0.6600, Accuracy: 65.79%\n"
          ]
        },
        {
          "output_type": "stream",
          "name": "stderr",
          "text": [
            " 67%|██████▋   | 40/60 [00:12<00:07,  2.60it/s]"
          ]
        },
        {
          "output_type": "stream",
          "name": "stdout",
          "text": [
            "Fine-tuning Epoch: 38, Loss: 0.6851, Accuracy: 65.22%\n",
            "Fine-tuning Epoch: 38, Loss: 0.7060, Accuracy: 65.00%\n"
          ]
        },
        {
          "output_type": "stream",
          "name": "stderr",
          "text": [
            " 70%|███████   | 42/60 [00:13<00:06,  2.67it/s]"
          ]
        },
        {
          "output_type": "stream",
          "name": "stdout",
          "text": [
            "Fine-tuning Epoch: 38, Loss: 0.7232, Accuracy: 64.94%\n",
            "Fine-tuning Epoch: 38, Loss: 0.7386, Accuracy: 65.10%\n"
          ]
        },
        {
          "output_type": "stream",
          "name": "stderr",
          "text": [
            " 73%|███████▎  | 44/60 [00:14<00:06,  2.63it/s]"
          ]
        },
        {
          "output_type": "stream",
          "name": "stdout",
          "text": [
            "Fine-tuning Epoch: 38, Loss: 0.7508, Accuracy: 65.19%\n",
            "Fine-tuning Epoch: 38, Loss: 0.7613, Accuracy: 65.62%\n"
          ]
        },
        {
          "output_type": "stream",
          "name": "stderr",
          "text": [
            " 77%|███████▋  | 46/60 [00:15<00:04,  3.04it/s]"
          ]
        },
        {
          "output_type": "stream",
          "name": "stdout",
          "text": [
            "Fine-tuning Epoch: 38, Loss: 0.7732, Accuracy: 65.76%\n",
            "Fine-tuning Epoch: 38, Loss: 0.7974, Accuracy: 65.35%\n"
          ]
        },
        {
          "output_type": "stream",
          "name": "stderr",
          "text": [
            " 80%|████████  | 48/60 [00:15<00:03,  3.53it/s]"
          ]
        },
        {
          "output_type": "stream",
          "name": "stdout",
          "text": [
            "Fine-tuning Epoch: 38, Loss: 0.8137, Accuracy: 65.36%\n",
            "Fine-tuning Epoch: 38, Loss: 0.8355, Accuracy: 65.23%\n"
          ]
        },
        {
          "output_type": "stream",
          "name": "stderr",
          "text": [
            " 83%|████████▎ | 50/60 [00:16<00:02,  3.77it/s]"
          ]
        },
        {
          "output_type": "stream",
          "name": "stdout",
          "text": [
            "Fine-tuning Epoch: 38, Loss: 0.8528, Accuracy: 65.31%\n",
            "Fine-tuning Epoch: 38, Loss: 0.8716, Accuracy: 65.06%\n"
          ]
        },
        {
          "output_type": "stream",
          "name": "stderr",
          "text": [
            " 87%|████████▋ | 52/60 [00:16<00:02,  3.88it/s]"
          ]
        },
        {
          "output_type": "stream",
          "name": "stdout",
          "text": [
            "Fine-tuning Epoch: 38, Loss: 0.9000, Accuracy: 64.58%\n",
            "Fine-tuning Epoch: 38, Loss: 0.9153, Accuracy: 64.66%\n"
          ]
        },
        {
          "output_type": "stream",
          "name": "stderr",
          "text": [
            " 90%|█████████ | 54/60 [00:17<00:01,  3.89it/s]"
          ]
        },
        {
          "output_type": "stream",
          "name": "stdout",
          "text": [
            "Fine-tuning Epoch: 38, Loss: 0.9292, Accuracy: 64.74%\n",
            "Fine-tuning Epoch: 38, Loss: 0.9460, Accuracy: 64.70%\n"
          ]
        },
        {
          "output_type": "stream",
          "name": "stderr",
          "text": [
            " 93%|█████████▎| 56/60 [00:17<00:01,  3.85it/s]"
          ]
        },
        {
          "output_type": "stream",
          "name": "stdout",
          "text": [
            "Fine-tuning Epoch: 38, Loss: 0.9549, Accuracy: 65.00%\n",
            "Fine-tuning Epoch: 38, Loss: 0.9746, Accuracy: 64.84%\n"
          ]
        },
        {
          "output_type": "stream",
          "name": "stderr",
          "text": [
            " 97%|█████████▋| 58/60 [00:18<00:00,  3.93it/s]"
          ]
        },
        {
          "output_type": "stream",
          "name": "stdout",
          "text": [
            "Fine-tuning Epoch: 38, Loss: 0.9867, Accuracy: 65.02%\n",
            "Fine-tuning Epoch: 38, Loss: 1.0042, Accuracy: 65.03%\n"
          ]
        },
        {
          "output_type": "stream",
          "name": "stderr",
          "text": [
            "100%|██████████| 60/60 [00:19<00:00,  3.14it/s]\n"
          ]
        },
        {
          "output_type": "stream",
          "name": "stdout",
          "text": [
            "Fine-tuning Epoch: 38, Loss: 1.0190, Accuracy: 65.15%\n",
            "Fine-tuning Epoch: 38, Loss: 1.0373, Accuracy: 65.26%\n"
          ]
        },
        {
          "output_type": "stream",
          "name": "stderr",
          "text": [
            "  3%|▎         | 2/60 [00:00<00:21,  2.65it/s]"
          ]
        },
        {
          "output_type": "stream",
          "name": "stdout",
          "text": [
            "Fine-tuning Epoch: 39, Loss: 0.0141, Accuracy: 68.75%\n",
            "Fine-tuning Epoch: 39, Loss: 0.0265, Accuracy: 73.44%\n"
          ]
        },
        {
          "output_type": "stream",
          "name": "stderr",
          "text": [
            "  7%|▋         | 4/60 [00:01<00:16,  3.49it/s]"
          ]
        },
        {
          "output_type": "stream",
          "name": "stdout",
          "text": [
            "Fine-tuning Epoch: 39, Loss: 0.0471, Accuracy: 68.75%\n",
            "Fine-tuning Epoch: 39, Loss: 0.0645, Accuracy: 66.41%\n"
          ]
        },
        {
          "output_type": "stream",
          "name": "stderr",
          "text": [
            " 10%|█         | 6/60 [00:01<00:14,  3.80it/s]"
          ]
        },
        {
          "output_type": "stream",
          "name": "stdout",
          "text": [
            "Fine-tuning Epoch: 39, Loss: 0.0782, Accuracy: 67.50%\n",
            "Fine-tuning Epoch: 39, Loss: 0.0923, Accuracy: 68.23%\n"
          ]
        },
        {
          "output_type": "stream",
          "name": "stderr",
          "text": [
            " 13%|█▎        | 8/60 [00:02<00:13,  3.90it/s]"
          ]
        },
        {
          "output_type": "stream",
          "name": "stdout",
          "text": [
            "Fine-tuning Epoch: 39, Loss: 0.1055, Accuracy: 69.20%\n",
            "Fine-tuning Epoch: 39, Loss: 0.1238, Accuracy: 68.36%\n"
          ]
        },
        {
          "output_type": "stream",
          "name": "stderr",
          "text": [
            " 17%|█▋        | 10/60 [00:03<00:13,  3.82it/s]"
          ]
        },
        {
          "output_type": "stream",
          "name": "stdout",
          "text": [
            "Fine-tuning Epoch: 39, Loss: 0.1362, Accuracy: 68.75%\n",
            "Fine-tuning Epoch: 39, Loss: 0.1572, Accuracy: 67.81%\n"
          ]
        },
        {
          "output_type": "stream",
          "name": "stderr",
          "text": [
            " 20%|██        | 12/60 [00:03<00:12,  3.89it/s]"
          ]
        },
        {
          "output_type": "stream",
          "name": "stdout",
          "text": [
            "Fine-tuning Epoch: 39, Loss: 0.1743, Accuracy: 68.47%\n",
            "Fine-tuning Epoch: 39, Loss: 0.1970, Accuracy: 67.45%\n"
          ]
        },
        {
          "output_type": "stream",
          "name": "stderr",
          "text": [
            " 23%|██▎       | 14/60 [00:04<00:11,  3.99it/s]"
          ]
        },
        {
          "output_type": "stream",
          "name": "stdout",
          "text": [
            "Fine-tuning Epoch: 39, Loss: 0.2091, Accuracy: 67.79%\n",
            "Fine-tuning Epoch: 39, Loss: 0.2224, Accuracy: 68.53%\n"
          ]
        },
        {
          "output_type": "stream",
          "name": "stderr",
          "text": [
            " 27%|██▋       | 16/60 [00:04<00:11,  3.99it/s]"
          ]
        },
        {
          "output_type": "stream",
          "name": "stdout",
          "text": [
            "Fine-tuning Epoch: 39, Loss: 0.2358, Accuracy: 68.75%\n",
            "Fine-tuning Epoch: 39, Loss: 0.2457, Accuracy: 69.34%\n"
          ]
        },
        {
          "output_type": "stream",
          "name": "stderr",
          "text": [
            " 30%|███       | 18/60 [00:05<00:11,  3.72it/s]"
          ]
        },
        {
          "output_type": "stream",
          "name": "stdout",
          "text": [
            "Fine-tuning Epoch: 39, Loss: 0.2580, Accuracy: 69.30%\n",
            "Fine-tuning Epoch: 39, Loss: 0.2760, Accuracy: 69.10%\n"
          ]
        },
        {
          "output_type": "stream",
          "name": "stderr",
          "text": [
            "\r 32%|███▏      | 19/60 [00:06<00:16,  2.53it/s]"
          ]
        },
        {
          "output_type": "stream",
          "name": "stdout",
          "text": [
            "Fine-tuning Epoch: 39, Loss: 0.2912, Accuracy: 69.08%\n"
          ]
        },
        {
          "output_type": "stream",
          "name": "stderr",
          "text": [
            "\r 33%|███▎      | 20/60 [00:06<00:13,  2.95it/s]"
          ]
        },
        {
          "output_type": "stream",
          "name": "stdout",
          "text": [
            "Fine-tuning Epoch: 39, Loss: 0.3033, Accuracy: 69.69%\n"
          ]
        },
        {
          "output_type": "stream",
          "name": "stderr",
          "text": [
            " 37%|███▋      | 22/60 [00:07<00:13,  2.78it/s]"
          ]
        },
        {
          "output_type": "stream",
          "name": "stdout",
          "text": [
            "Fine-tuning Epoch: 39, Loss: 0.3151, Accuracy: 69.94%\n",
            "Fine-tuning Epoch: 39, Loss: 0.3303, Accuracy: 70.03%\n"
          ]
        },
        {
          "output_type": "stream",
          "name": "stderr",
          "text": [
            " 40%|████      | 24/60 [00:08<00:13,  2.64it/s]"
          ]
        },
        {
          "output_type": "stream",
          "name": "stdout",
          "text": [
            "Fine-tuning Epoch: 39, Loss: 0.3450, Accuracy: 69.70%\n",
            "Fine-tuning Epoch: 39, Loss: 0.3663, Accuracy: 69.14%\n"
          ]
        },
        {
          "output_type": "stream",
          "name": "stderr",
          "text": [
            " 43%|████▎     | 26/60 [00:08<00:12,  2.72it/s]"
          ]
        },
        {
          "output_type": "stream",
          "name": "stdout",
          "text": [
            "Fine-tuning Epoch: 39, Loss: 0.3822, Accuracy: 69.12%\n",
            "Fine-tuning Epoch: 39, Loss: 0.3922, Accuracy: 69.71%\n"
          ]
        },
        {
          "output_type": "stream",
          "name": "stderr",
          "text": [
            " 47%|████▋     | 28/60 [00:09<00:12,  2.61it/s]"
          ]
        },
        {
          "output_type": "stream",
          "name": "stdout",
          "text": [
            "Fine-tuning Epoch: 39, Loss: 0.4155, Accuracy: 68.98%\n",
            "Fine-tuning Epoch: 39, Loss: 0.4343, Accuracy: 68.86%\n"
          ]
        },
        {
          "output_type": "stream",
          "name": "stderr",
          "text": [
            " 50%|█████     | 30/60 [00:10<00:11,  2.60it/s]"
          ]
        },
        {
          "output_type": "stream",
          "name": "stdout",
          "text": [
            "Fine-tuning Epoch: 39, Loss: 0.4491, Accuracy: 69.18%\n",
            "Fine-tuning Epoch: 39, Loss: 0.4641, Accuracy: 68.85%\n"
          ]
        },
        {
          "output_type": "stream",
          "name": "stderr",
          "text": [
            " 53%|█████▎    | 32/60 [00:11<00:09,  2.83it/s]"
          ]
        },
        {
          "output_type": "stream",
          "name": "stdout",
          "text": [
            "Fine-tuning Epoch: 39, Loss: 0.4788, Accuracy: 68.95%\n",
            "Fine-tuning Epoch: 39, Loss: 0.4976, Accuracy: 68.46%\n"
          ]
        },
        {
          "output_type": "stream",
          "name": "stderr",
          "text": [
            "\r 55%|█████▌    | 33/60 [00:11<00:09,  2.83it/s]"
          ]
        },
        {
          "output_type": "stream",
          "name": "stdout",
          "text": [
            "Fine-tuning Epoch: 39, Loss: 0.5118, Accuracy: 68.37%\n"
          ]
        },
        {
          "output_type": "stream",
          "name": "stderr",
          "text": [
            " 58%|█████▊    | 35/60 [00:12<00:07,  3.48it/s]"
          ]
        },
        {
          "output_type": "stream",
          "name": "stdout",
          "text": [
            "Fine-tuning Epoch: 39, Loss: 0.5265, Accuracy: 68.47%\n",
            "Fine-tuning Epoch: 39, Loss: 0.5389, Accuracy: 68.57%\n"
          ]
        },
        {
          "output_type": "stream",
          "name": "stderr",
          "text": [
            " 62%|██████▏   | 37/60 [00:12<00:06,  3.79it/s]"
          ]
        },
        {
          "output_type": "stream",
          "name": "stdout",
          "text": [
            "Fine-tuning Epoch: 39, Loss: 0.5539, Accuracy: 68.66%\n",
            "Fine-tuning Epoch: 39, Loss: 0.5762, Accuracy: 68.24%\n"
          ]
        },
        {
          "output_type": "stream",
          "name": "stderr",
          "text": [
            " 65%|██████▌   | 39/60 [00:13<00:05,  3.87it/s]"
          ]
        },
        {
          "output_type": "stream",
          "name": "stdout",
          "text": [
            "Fine-tuning Epoch: 39, Loss: 0.5880, Accuracy: 68.50%\n",
            "Fine-tuning Epoch: 39, Loss: 0.6086, Accuracy: 67.95%\n"
          ]
        },
        {
          "output_type": "stream",
          "name": "stderr",
          "text": [
            " 68%|██████▊   | 41/60 [00:13<00:04,  3.84it/s]"
          ]
        },
        {
          "output_type": "stream",
          "name": "stdout",
          "text": [
            "Fine-tuning Epoch: 39, Loss: 0.6267, Accuracy: 67.89%\n",
            "Fine-tuning Epoch: 39, Loss: 0.6452, Accuracy: 67.68%\n"
          ]
        },
        {
          "output_type": "stream",
          "name": "stderr",
          "text": [
            " 72%|███████▏  | 43/60 [00:14<00:04,  3.92it/s]"
          ]
        },
        {
          "output_type": "stream",
          "name": "stdout",
          "text": [
            "Fine-tuning Epoch: 39, Loss: 0.6591, Accuracy: 68.01%\n",
            "Fine-tuning Epoch: 39, Loss: 0.6741, Accuracy: 67.88%\n"
          ]
        },
        {
          "output_type": "stream",
          "name": "stderr",
          "text": [
            " 75%|███████▌  | 45/60 [00:14<00:03,  3.94it/s]"
          ]
        },
        {
          "output_type": "stream",
          "name": "stdout",
          "text": [
            "Fine-tuning Epoch: 39, Loss: 0.6886, Accuracy: 68.04%\n",
            "Fine-tuning Epoch: 39, Loss: 0.7033, Accuracy: 68.12%\n"
          ]
        },
        {
          "output_type": "stream",
          "name": "stderr",
          "text": [
            "\r 77%|███████▋  | 46/60 [00:15<00:03,  3.64it/s]"
          ]
        },
        {
          "output_type": "stream",
          "name": "stdout",
          "text": [
            "Fine-tuning Epoch: 39, Loss: 0.7152, Accuracy: 68.41%\n"
          ]
        },
        {
          "output_type": "stream",
          "name": "stderr",
          "text": [
            "\r 78%|███████▊  | 47/60 [00:15<00:03,  3.77it/s]"
          ]
        },
        {
          "output_type": "stream",
          "name": "stdout",
          "text": [
            "Fine-tuning Epoch: 39, Loss: 0.7353, Accuracy: 68.22%\n"
          ]
        },
        {
          "output_type": "stream",
          "name": "stderr",
          "text": [
            "\r 80%|████████  | 48/60 [00:15<00:03,  3.49it/s]"
          ]
        },
        {
          "output_type": "stream",
          "name": "stdout",
          "text": [
            "Fine-tuning Epoch: 39, Loss: 0.7481, Accuracy: 68.36%\n"
          ]
        },
        {
          "output_type": "stream",
          "name": "stderr",
          "text": [
            "\r 82%|████████▏ | 49/60 [00:16<00:03,  3.56it/s]"
          ]
        },
        {
          "output_type": "stream",
          "name": "stdout",
          "text": [
            "Fine-tuning Epoch: 39, Loss: 0.7676, Accuracy: 68.11%\n"
          ]
        },
        {
          "output_type": "stream",
          "name": "stderr",
          "text": [
            "\r 83%|████████▎ | 50/60 [00:16<00:02,  3.51it/s]"
          ]
        },
        {
          "output_type": "stream",
          "name": "stdout",
          "text": [
            "Fine-tuning Epoch: 39, Loss: 0.7796, Accuracy: 68.12%\n"
          ]
        },
        {
          "output_type": "stream",
          "name": "stderr",
          "text": [
            "\r 85%|████████▌ | 51/60 [00:16<00:02,  3.51it/s]"
          ]
        },
        {
          "output_type": "stream",
          "name": "stdout",
          "text": [
            "Fine-tuning Epoch: 39, Loss: 0.8036, Accuracy: 67.89%\n"
          ]
        },
        {
          "output_type": "stream",
          "name": "stderr",
          "text": [
            "\r 87%|████████▋ | 52/60 [00:16<00:02,  3.50it/s]"
          ]
        },
        {
          "output_type": "stream",
          "name": "stdout",
          "text": [
            "Fine-tuning Epoch: 39, Loss: 0.8218, Accuracy: 67.97%\n"
          ]
        },
        {
          "output_type": "stream",
          "name": "stderr",
          "text": [
            "\r 88%|████████▊ | 53/60 [00:17<00:01,  3.60it/s]"
          ]
        },
        {
          "output_type": "stream",
          "name": "stdout",
          "text": [
            "Fine-tuning Epoch: 39, Loss: 0.8414, Accuracy: 67.87%\n"
          ]
        },
        {
          "output_type": "stream",
          "name": "stderr",
          "text": [
            "\r 90%|█████████ | 54/60 [00:17<00:01,  3.63it/s]"
          ]
        },
        {
          "output_type": "stream",
          "name": "stdout",
          "text": [
            "Fine-tuning Epoch: 39, Loss: 0.8552, Accuracy: 67.65%\n"
          ]
        },
        {
          "output_type": "stream",
          "name": "stderr",
          "text": [
            "\r 92%|█████████▏| 55/60 [00:17<00:01,  3.70it/s]"
          ]
        },
        {
          "output_type": "stream",
          "name": "stdout",
          "text": [
            "Fine-tuning Epoch: 39, Loss: 0.8772, Accuracy: 67.61%\n"
          ]
        },
        {
          "output_type": "stream",
          "name": "stderr",
          "text": [
            "\r 93%|█████████▎| 56/60 [00:18<00:01,  3.41it/s]"
          ]
        },
        {
          "output_type": "stream",
          "name": "stdout",
          "text": [
            "Fine-tuning Epoch: 39, Loss: 0.8898, Accuracy: 67.75%\n"
          ]
        },
        {
          "output_type": "stream",
          "name": "stderr",
          "text": [
            "\r 95%|█████████▌| 57/60 [00:18<00:00,  3.57it/s]"
          ]
        },
        {
          "output_type": "stream",
          "name": "stdout",
          "text": [
            "Fine-tuning Epoch: 39, Loss: 0.9038, Accuracy: 67.87%\n"
          ]
        },
        {
          "output_type": "stream",
          "name": "stderr",
          "text": [
            "\r 97%|█████████▋| 58/60 [00:18<00:00,  3.57it/s]"
          ]
        },
        {
          "output_type": "stream",
          "name": "stdout",
          "text": [
            "Fine-tuning Epoch: 39, Loss: 0.9253, Accuracy: 67.73%\n"
          ]
        },
        {
          "output_type": "stream",
          "name": "stderr",
          "text": [
            "100%|██████████| 60/60 [00:19<00:00,  3.94it/s]"
          ]
        },
        {
          "output_type": "stream",
          "name": "stdout",
          "text": [
            "Fine-tuning Epoch: 39, Loss: 0.9378, Accuracy: 67.74%\n",
            "Fine-tuning Epoch: 39, Loss: 0.9523, Accuracy: 67.76%\n"
          ]
        },
        {
          "output_type": "stream",
          "name": "stderr",
          "text": [
            "100%|██████████| 60/60 [00:19<00:00,  3.13it/s]\n",
            "  3%|▎         | 2/60 [00:00<00:20,  2.88it/s]"
          ]
        },
        {
          "output_type": "stream",
          "name": "stdout",
          "text": [
            "Fine-tuning Epoch: 40, Loss: 0.0123, Accuracy: 71.88%\n",
            "Fine-tuning Epoch: 40, Loss: 0.0252, Accuracy: 70.31%\n"
          ]
        },
        {
          "output_type": "stream",
          "name": "stderr",
          "text": [
            "  7%|▋         | 4/60 [00:01<00:15,  3.64it/s]"
          ]
        },
        {
          "output_type": "stream",
          "name": "stdout",
          "text": [
            "Fine-tuning Epoch: 40, Loss: 0.0389, Accuracy: 71.88%\n",
            "Fine-tuning Epoch: 40, Loss: 0.0516, Accuracy: 71.88%\n"
          ]
        },
        {
          "output_type": "stream",
          "name": "stderr",
          "text": [
            " 10%|█         | 6/60 [00:01<00:14,  3.74it/s]"
          ]
        },
        {
          "output_type": "stream",
          "name": "stdout",
          "text": [
            "Fine-tuning Epoch: 40, Loss: 0.0670, Accuracy: 71.25%\n",
            "Fine-tuning Epoch: 40, Loss: 0.0818, Accuracy: 72.40%\n"
          ]
        },
        {
          "output_type": "stream",
          "name": "stderr",
          "text": [
            " 13%|█▎        | 8/60 [00:02<00:17,  3.03it/s]"
          ]
        },
        {
          "output_type": "stream",
          "name": "stdout",
          "text": [
            "Fine-tuning Epoch: 40, Loss: 0.0932, Accuracy: 73.21%\n",
            "Fine-tuning Epoch: 40, Loss: 0.1064, Accuracy: 73.83%\n"
          ]
        },
        {
          "output_type": "stream",
          "name": "stderr",
          "text": [
            " 17%|█▋        | 10/60 [00:03<00:18,  2.75it/s]"
          ]
        },
        {
          "output_type": "stream",
          "name": "stdout",
          "text": [
            "Fine-tuning Epoch: 40, Loss: 0.1233, Accuracy: 73.61%\n",
            "Fine-tuning Epoch: 40, Loss: 0.1459, Accuracy: 71.56%\n"
          ]
        },
        {
          "output_type": "stream",
          "name": "stderr",
          "text": [
            " 20%|██        | 12/60 [00:04<00:18,  2.61it/s]"
          ]
        },
        {
          "output_type": "stream",
          "name": "stdout",
          "text": [
            "Fine-tuning Epoch: 40, Loss: 0.1668, Accuracy: 70.17%\n",
            "Fine-tuning Epoch: 40, Loss: 0.1813, Accuracy: 70.05%\n"
          ]
        },
        {
          "output_type": "stream",
          "name": "stderr",
          "text": [
            " 23%|██▎       | 14/60 [00:05<00:18,  2.54it/s]"
          ]
        },
        {
          "output_type": "stream",
          "name": "stdout",
          "text": [
            "Fine-tuning Epoch: 40, Loss: 0.2080, Accuracy: 68.51%\n",
            "Fine-tuning Epoch: 40, Loss: 0.2259, Accuracy: 68.30%\n"
          ]
        },
        {
          "output_type": "stream",
          "name": "stderr",
          "text": [
            " 27%|██▋       | 16/60 [00:06<00:16,  2.64it/s]"
          ]
        },
        {
          "output_type": "stream",
          "name": "stdout",
          "text": [
            "Fine-tuning Epoch: 40, Loss: 0.2421, Accuracy: 68.12%\n",
            "Fine-tuning Epoch: 40, Loss: 0.2559, Accuracy: 68.36%\n"
          ]
        },
        {
          "output_type": "stream",
          "name": "stderr",
          "text": [
            "\r 28%|██▊       | 17/60 [00:06<00:20,  2.13it/s]"
          ]
        },
        {
          "output_type": "stream",
          "name": "stdout",
          "text": [
            "Fine-tuning Epoch: 40, Loss: 0.2750, Accuracy: 68.01%\n"
          ]
        },
        {
          "output_type": "stream",
          "name": "stderr",
          "text": [
            "\r 30%|███       | 18/60 [00:07<00:17,  2.46it/s]"
          ]
        },
        {
          "output_type": "stream",
          "name": "stdout",
          "text": [
            "Fine-tuning Epoch: 40, Loss: 0.2891, Accuracy: 68.40%\n"
          ]
        },
        {
          "output_type": "stream",
          "name": "stderr",
          "text": [
            " 33%|███▎      | 20/60 [00:07<00:14,  2.83it/s]"
          ]
        },
        {
          "output_type": "stream",
          "name": "stdout",
          "text": [
            "Fine-tuning Epoch: 40, Loss: 0.3073, Accuracy: 68.59%\n",
            "Fine-tuning Epoch: 40, Loss: 0.3263, Accuracy: 68.28%\n"
          ]
        },
        {
          "output_type": "stream",
          "name": "stderr",
          "text": [
            " 37%|███▋      | 22/60 [00:08<00:11,  3.33it/s]"
          ]
        },
        {
          "output_type": "stream",
          "name": "stdout",
          "text": [
            "Fine-tuning Epoch: 40, Loss: 0.3410, Accuracy: 68.75%\n",
            "Fine-tuning Epoch: 40, Loss: 0.3544, Accuracy: 68.47%\n"
          ]
        },
        {
          "output_type": "stream",
          "name": "stderr",
          "text": [
            " 40%|████      | 24/60 [00:09<00:09,  3.63it/s]"
          ]
        },
        {
          "output_type": "stream",
          "name": "stdout",
          "text": [
            "Fine-tuning Epoch: 40, Loss: 0.3664, Accuracy: 68.48%\n",
            "Fine-tuning Epoch: 40, Loss: 0.3789, Accuracy: 68.75%\n"
          ]
        },
        {
          "output_type": "stream",
          "name": "stderr",
          "text": [
            " 43%|████▎     | 26/60 [00:09<00:08,  3.79it/s]"
          ]
        },
        {
          "output_type": "stream",
          "name": "stdout",
          "text": [
            "Fine-tuning Epoch: 40, Loss: 0.3917, Accuracy: 69.12%\n",
            "Fine-tuning Epoch: 40, Loss: 0.4112, Accuracy: 69.11%\n"
          ]
        },
        {
          "output_type": "stream",
          "name": "stderr",
          "text": [
            " 47%|████▋     | 28/60 [00:10<00:08,  3.68it/s]"
          ]
        },
        {
          "output_type": "stream",
          "name": "stdout",
          "text": [
            "Fine-tuning Epoch: 40, Loss: 0.4283, Accuracy: 69.10%\n",
            "Fine-tuning Epoch: 40, Loss: 0.4485, Accuracy: 68.75%\n"
          ]
        },
        {
          "output_type": "stream",
          "name": "stderr",
          "text": [
            " 50%|█████     | 30/60 [00:10<00:07,  4.13it/s]"
          ]
        },
        {
          "output_type": "stream",
          "name": "stdout",
          "text": [
            "Fine-tuning Epoch: 40, Loss: 0.4622, Accuracy: 68.97%\n",
            "Fine-tuning Epoch: 40, Loss: 0.4807, Accuracy: 68.85%\n"
          ]
        },
        {
          "output_type": "stream",
          "name": "stderr",
          "text": [
            " 53%|█████▎    | 32/60 [00:11<00:07,  3.90it/s]"
          ]
        },
        {
          "output_type": "stream",
          "name": "stdout",
          "text": [
            "Fine-tuning Epoch: 40, Loss: 0.4939, Accuracy: 69.05%\n",
            "Fine-tuning Epoch: 40, Loss: 0.5074, Accuracy: 69.14%\n"
          ]
        },
        {
          "output_type": "stream",
          "name": "stderr",
          "text": [
            " 57%|█████▋    | 34/60 [00:11<00:06,  3.97it/s]"
          ]
        },
        {
          "output_type": "stream",
          "name": "stdout",
          "text": [
            "Fine-tuning Epoch: 40, Loss: 0.5257, Accuracy: 68.84%\n",
            "Fine-tuning Epoch: 40, Loss: 0.5454, Accuracy: 68.66%\n"
          ]
        },
        {
          "output_type": "stream",
          "name": "stderr",
          "text": [
            " 60%|██████    | 36/60 [00:12<00:05,  4.11it/s]"
          ]
        },
        {
          "output_type": "stream",
          "name": "stdout",
          "text": [
            "Fine-tuning Epoch: 40, Loss: 0.5561, Accuracy: 69.02%\n",
            "Fine-tuning Epoch: 40, Loss: 0.5722, Accuracy: 69.10%\n"
          ]
        },
        {
          "output_type": "stream",
          "name": "stderr",
          "text": [
            " 63%|██████▎   | 38/60 [00:12<00:05,  4.05it/s]"
          ]
        },
        {
          "output_type": "stream",
          "name": "stdout",
          "text": [
            "Fine-tuning Epoch: 40, Loss: 0.5854, Accuracy: 69.26%\n",
            "Fine-tuning Epoch: 40, Loss: 0.5985, Accuracy: 69.49%\n"
          ]
        },
        {
          "output_type": "stream",
          "name": "stderr",
          "text": [
            " 67%|██████▋   | 40/60 [00:13<00:05,  3.93it/s]"
          ]
        },
        {
          "output_type": "stream",
          "name": "stdout",
          "text": [
            "Fine-tuning Epoch: 40, Loss: 0.6162, Accuracy: 69.31%\n",
            "Fine-tuning Epoch: 40, Loss: 0.6258, Accuracy: 69.69%\n"
          ]
        },
        {
          "output_type": "stream",
          "name": "stderr",
          "text": [
            " 70%|███████   | 42/60 [00:14<00:04,  3.93it/s]"
          ]
        },
        {
          "output_type": "stream",
          "name": "stdout",
          "text": [
            "Fine-tuning Epoch: 40, Loss: 0.6426, Accuracy: 69.51%\n",
            "Fine-tuning Epoch: 40, Loss: 0.6527, Accuracy: 69.79%\n"
          ]
        },
        {
          "output_type": "stream",
          "name": "stderr",
          "text": [
            " 73%|███████▎  | 44/60 [00:14<00:04,  3.82it/s]"
          ]
        },
        {
          "output_type": "stream",
          "name": "stdout",
          "text": [
            "Fine-tuning Epoch: 40, Loss: 0.6642, Accuracy: 69.91%\n",
            "Fine-tuning Epoch: 40, Loss: 0.6742, Accuracy: 70.31%\n"
          ]
        },
        {
          "output_type": "stream",
          "name": "stderr",
          "text": [
            " 77%|███████▋  | 46/60 [00:15<00:03,  3.89it/s]"
          ]
        },
        {
          "output_type": "stream",
          "name": "stdout",
          "text": [
            "Fine-tuning Epoch: 40, Loss: 0.6849, Accuracy: 70.56%\n",
            "Fine-tuning Epoch: 40, Loss: 0.7051, Accuracy: 70.31%\n"
          ]
        },
        {
          "output_type": "stream",
          "name": "stderr",
          "text": [
            " 80%|████████  | 48/60 [00:15<00:03,  3.76it/s]"
          ]
        },
        {
          "output_type": "stream",
          "name": "stdout",
          "text": [
            "Fine-tuning Epoch: 40, Loss: 0.7196, Accuracy: 70.41%\n",
            "Fine-tuning Epoch: 40, Loss: 0.7362, Accuracy: 70.25%\n"
          ]
        },
        {
          "output_type": "stream",
          "name": "stderr",
          "text": [
            " 83%|████████▎ | 50/60 [00:16<00:02,  3.79it/s]"
          ]
        },
        {
          "output_type": "stream",
          "name": "stdout",
          "text": [
            "Fine-tuning Epoch: 40, Loss: 0.7506, Accuracy: 70.15%\n",
            "Fine-tuning Epoch: 40, Loss: 0.7681, Accuracy: 69.94%\n"
          ]
        },
        {
          "output_type": "stream",
          "name": "stderr",
          "text": [
            " 87%|████████▋ | 52/60 [00:16<00:02,  3.72it/s]"
          ]
        },
        {
          "output_type": "stream",
          "name": "stdout",
          "text": [
            "Fine-tuning Epoch: 40, Loss: 0.7811, Accuracy: 70.04%\n",
            "Fine-tuning Epoch: 40, Loss: 0.7983, Accuracy: 69.83%\n"
          ]
        },
        {
          "output_type": "stream",
          "name": "stderr",
          "text": [
            " 90%|█████████ | 54/60 [00:17<00:01,  3.67it/s]"
          ]
        },
        {
          "output_type": "stream",
          "name": "stdout",
          "text": [
            "Fine-tuning Epoch: 40, Loss: 0.8171, Accuracy: 69.69%\n",
            "Fine-tuning Epoch: 40, Loss: 0.8303, Accuracy: 69.73%\n"
          ]
        },
        {
          "output_type": "stream",
          "name": "stderr",
          "text": [
            " 93%|█████████▎| 56/60 [00:18<00:01,  2.89it/s]"
          ]
        },
        {
          "output_type": "stream",
          "name": "stdout",
          "text": [
            "Fine-tuning Epoch: 40, Loss: 0.8497, Accuracy: 69.66%\n",
            "Fine-tuning Epoch: 40, Loss: 0.8628, Accuracy: 69.81%\n"
          ]
        },
        {
          "output_type": "stream",
          "name": "stderr",
          "text": [
            " 97%|█████████▋| 58/60 [00:19<00:00,  2.81it/s]"
          ]
        },
        {
          "output_type": "stream",
          "name": "stdout",
          "text": [
            "Fine-tuning Epoch: 40, Loss: 0.8747, Accuracy: 69.85%\n",
            "Fine-tuning Epoch: 40, Loss: 0.8894, Accuracy: 69.88%\n"
          ]
        },
        {
          "output_type": "stream",
          "name": "stderr",
          "text": [
            "100%|██████████| 60/60 [00:20<00:00,  2.74it/s]"
          ]
        },
        {
          "output_type": "stream",
          "name": "stdout",
          "text": [
            "Fine-tuning Epoch: 40, Loss: 0.9040, Accuracy: 69.76%\n",
            "Fine-tuning Epoch: 40, Loss: 0.9207, Accuracy: 69.64%\n"
          ]
        },
        {
          "output_type": "stream",
          "name": "stderr",
          "text": [
            "100%|██████████| 60/60 [00:20<00:00,  2.96it/s]\n",
            "  3%|▎         | 2/60 [00:01<00:33,  1.75it/s]"
          ]
        },
        {
          "output_type": "stream",
          "name": "stdout",
          "text": [
            "Fine-tuning Epoch: 41, Loss: 0.0122, Accuracy: 84.38%\n",
            "Fine-tuning Epoch: 41, Loss: 0.0309, Accuracy: 68.75%\n"
          ]
        },
        {
          "output_type": "stream",
          "name": "stderr",
          "text": [
            "  7%|▋         | 4/60 [00:02<00:25,  2.17it/s]"
          ]
        },
        {
          "output_type": "stream",
          "name": "stdout",
          "text": [
            "Fine-tuning Epoch: 41, Loss: 0.0439, Accuracy: 69.79%\n",
            "Fine-tuning Epoch: 41, Loss: 0.0651, Accuracy: 67.19%\n"
          ]
        },
        {
          "output_type": "stream",
          "name": "stderr",
          "text": [
            " 10%|█         | 6/60 [00:03<00:20,  2.58it/s]"
          ]
        },
        {
          "output_type": "stream",
          "name": "stdout",
          "text": [
            "Fine-tuning Epoch: 41, Loss: 0.0802, Accuracy: 67.50%\n",
            "Fine-tuning Epoch: 41, Loss: 0.0936, Accuracy: 68.75%\n"
          ]
        },
        {
          "output_type": "stream",
          "name": "stderr",
          "text": [
            " 13%|█▎        | 8/60 [00:03<00:15,  3.38it/s]"
          ]
        },
        {
          "output_type": "stream",
          "name": "stdout",
          "text": [
            "Fine-tuning Epoch: 41, Loss: 0.1151, Accuracy: 68.30%\n",
            "Fine-tuning Epoch: 41, Loss: 0.1253, Accuracy: 69.14%\n"
          ]
        },
        {
          "output_type": "stream",
          "name": "stderr",
          "text": [
            " 17%|█▋        | 10/60 [00:04<00:13,  3.66it/s]"
          ]
        },
        {
          "output_type": "stream",
          "name": "stdout",
          "text": [
            "Fine-tuning Epoch: 41, Loss: 0.1357, Accuracy: 70.49%\n",
            "Fine-tuning Epoch: 41, Loss: 0.1501, Accuracy: 70.31%\n"
          ]
        },
        {
          "output_type": "stream",
          "name": "stderr",
          "text": [
            " 20%|██        | 12/60 [00:04<00:12,  3.72it/s]"
          ]
        },
        {
          "output_type": "stream",
          "name": "stdout",
          "text": [
            "Fine-tuning Epoch: 41, Loss: 0.1643, Accuracy: 70.17%\n",
            "Fine-tuning Epoch: 41, Loss: 0.1786, Accuracy: 70.57%\n"
          ]
        },
        {
          "output_type": "stream",
          "name": "stderr",
          "text": [
            " 23%|██▎       | 14/60 [00:05<00:11,  3.92it/s]"
          ]
        },
        {
          "output_type": "stream",
          "name": "stdout",
          "text": [
            "Fine-tuning Epoch: 41, Loss: 0.1938, Accuracy: 70.67%\n",
            "Fine-tuning Epoch: 41, Loss: 0.2087, Accuracy: 70.76%\n"
          ]
        },
        {
          "output_type": "stream",
          "name": "stderr",
          "text": [
            " 27%|██▋       | 16/60 [00:05<00:11,  3.93it/s]"
          ]
        },
        {
          "output_type": "stream",
          "name": "stdout",
          "text": [
            "Fine-tuning Epoch: 41, Loss: 0.2243, Accuracy: 70.62%\n",
            "Fine-tuning Epoch: 41, Loss: 0.2394, Accuracy: 70.90%\n"
          ]
        },
        {
          "output_type": "stream",
          "name": "stderr",
          "text": [
            " 30%|███       | 18/60 [00:06<00:11,  3.60it/s]"
          ]
        },
        {
          "output_type": "stream",
          "name": "stdout",
          "text": [
            "Fine-tuning Epoch: 41, Loss: 0.2477, Accuracy: 71.69%\n",
            "Fine-tuning Epoch: 41, Loss: 0.2629, Accuracy: 71.88%\n"
          ]
        },
        {
          "output_type": "stream",
          "name": "stderr",
          "text": [
            " 33%|███▎      | 20/60 [00:07<00:10,  3.67it/s]"
          ]
        },
        {
          "output_type": "stream",
          "name": "stdout",
          "text": [
            "Fine-tuning Epoch: 41, Loss: 0.2762, Accuracy: 71.71%\n",
            "Fine-tuning Epoch: 41, Loss: 0.2892, Accuracy: 72.03%\n"
          ]
        },
        {
          "output_type": "stream",
          "name": "stderr",
          "text": [
            " 37%|███▋      | 22/60 [00:07<00:09,  3.84it/s]"
          ]
        },
        {
          "output_type": "stream",
          "name": "stdout",
          "text": [
            "Fine-tuning Epoch: 41, Loss: 0.3104, Accuracy: 71.58%\n",
            "Fine-tuning Epoch: 41, Loss: 0.3329, Accuracy: 70.88%\n"
          ]
        },
        {
          "output_type": "stream",
          "name": "stderr",
          "text": [
            " 40%|████      | 24/60 [00:08<00:09,  3.83it/s]"
          ]
        },
        {
          "output_type": "stream",
          "name": "stdout",
          "text": [
            "Fine-tuning Epoch: 41, Loss: 0.3465, Accuracy: 71.06%\n",
            "Fine-tuning Epoch: 41, Loss: 0.3591, Accuracy: 71.48%\n"
          ]
        },
        {
          "output_type": "stream",
          "name": "stderr",
          "text": [
            " 43%|████▎     | 26/60 [00:08<00:08,  4.20it/s]"
          ]
        },
        {
          "output_type": "stream",
          "name": "stdout",
          "text": [
            "Fine-tuning Epoch: 41, Loss: 0.3779, Accuracy: 71.38%\n",
            "Fine-tuning Epoch: 41, Loss: 0.3886, Accuracy: 71.63%\n"
          ]
        },
        {
          "output_type": "stream",
          "name": "stderr",
          "text": [
            "\r 45%|████▌     | 27/60 [00:09<00:09,  3.48it/s]"
          ]
        },
        {
          "output_type": "stream",
          "name": "stdout",
          "text": [
            "Fine-tuning Epoch: 41, Loss: 0.4026, Accuracy: 71.41%\n"
          ]
        },
        {
          "output_type": "stream",
          "name": "stderr",
          "text": [
            "\r 47%|████▋     | 28/60 [00:09<00:08,  3.77it/s]"
          ]
        },
        {
          "output_type": "stream",
          "name": "stdout",
          "text": [
            "Fine-tuning Epoch: 41, Loss: 0.4172, Accuracy: 71.43%\n"
          ]
        },
        {
          "output_type": "stream",
          "name": "stderr",
          "text": [
            "\r 48%|████▊     | 29/60 [00:09<00:08,  3.64it/s]"
          ]
        },
        {
          "output_type": "stream",
          "name": "stdout",
          "text": [
            "Fine-tuning Epoch: 41, Loss: 0.4298, Accuracy: 71.77%\n"
          ]
        },
        {
          "output_type": "stream",
          "name": "stderr",
          "text": [
            "\r 50%|█████     | 30/60 [00:09<00:08,  3.58it/s]"
          ]
        },
        {
          "output_type": "stream",
          "name": "stdout",
          "text": [
            "Fine-tuning Epoch: 41, Loss: 0.4441, Accuracy: 71.46%\n"
          ]
        },
        {
          "output_type": "stream",
          "name": "stderr",
          "text": [
            "\r 52%|█████▏    | 31/60 [00:10<00:08,  3.48it/s]"
          ]
        },
        {
          "output_type": "stream",
          "name": "stdout",
          "text": [
            "Fine-tuning Epoch: 41, Loss: 0.4591, Accuracy: 71.47%\n"
          ]
        },
        {
          "output_type": "stream",
          "name": "stderr",
          "text": [
            "\r 53%|█████▎    | 32/60 [00:10<00:07,  3.68it/s]"
          ]
        },
        {
          "output_type": "stream",
          "name": "stdout",
          "text": [
            "Fine-tuning Epoch: 41, Loss: 0.4755, Accuracy: 71.58%\n"
          ]
        },
        {
          "output_type": "stream",
          "name": "stderr",
          "text": [
            "\r 55%|█████▌    | 33/60 [00:10<00:07,  3.53it/s]"
          ]
        },
        {
          "output_type": "stream",
          "name": "stdout",
          "text": [
            "Fine-tuning Epoch: 41, Loss: 0.4888, Accuracy: 71.69%\n"
          ]
        },
        {
          "output_type": "stream",
          "name": "stderr",
          "text": [
            "\r 57%|█████▋    | 34/60 [00:10<00:07,  3.62it/s]"
          ]
        },
        {
          "output_type": "stream",
          "name": "stdout",
          "text": [
            "Fine-tuning Epoch: 41, Loss: 0.5038, Accuracy: 71.60%\n"
          ]
        },
        {
          "output_type": "stream",
          "name": "stderr",
          "text": [
            "\r 58%|█████▊    | 35/60 [00:11<00:07,  3.43it/s]"
          ]
        },
        {
          "output_type": "stream",
          "name": "stdout",
          "text": [
            "Fine-tuning Epoch: 41, Loss: 0.5199, Accuracy: 71.61%\n"
          ]
        },
        {
          "output_type": "stream",
          "name": "stderr",
          "text": [
            "\r 60%|██████    | 36/60 [00:11<00:06,  3.65it/s]"
          ]
        },
        {
          "output_type": "stream",
          "name": "stdout",
          "text": [
            "Fine-tuning Epoch: 41, Loss: 0.5308, Accuracy: 71.96%\n"
          ]
        },
        {
          "output_type": "stream",
          "name": "stderr",
          "text": [
            " 63%|██████▎   | 38/60 [00:12<00:05,  3.82it/s]"
          ]
        },
        {
          "output_type": "stream",
          "name": "stdout",
          "text": [
            "Fine-tuning Epoch: 41, Loss: 0.5439, Accuracy: 72.04%\n",
            "Fine-tuning Epoch: 41, Loss: 0.5595, Accuracy: 71.79%\n"
          ]
        },
        {
          "output_type": "stream",
          "name": "stderr",
          "text": [
            " 67%|██████▋   | 40/60 [00:12<00:05,  3.97it/s]"
          ]
        },
        {
          "output_type": "stream",
          "name": "stdout",
          "text": [
            "Fine-tuning Epoch: 41, Loss: 0.5695, Accuracy: 72.12%\n",
            "Fine-tuning Epoch: 41, Loss: 0.5841, Accuracy: 71.95%\n"
          ]
        },
        {
          "output_type": "stream",
          "name": "stderr",
          "text": [
            "\r 68%|██████▊   | 41/60 [00:13<00:06,  2.96it/s]"
          ]
        },
        {
          "output_type": "stream",
          "name": "stdout",
          "text": [
            "Fine-tuning Epoch: 41, Loss: 0.5979, Accuracy: 71.95%\n"
          ]
        },
        {
          "output_type": "stream",
          "name": "stderr",
          "text": [
            "\r 70%|███████   | 42/60 [00:13<00:05,  3.30it/s]"
          ]
        },
        {
          "output_type": "stream",
          "name": "stdout",
          "text": [
            "Fine-tuning Epoch: 41, Loss: 0.6146, Accuracy: 71.65%\n"
          ]
        },
        {
          "output_type": "stream",
          "name": "stderr",
          "text": [
            " 73%|███████▎  | 44/60 [00:14<00:05,  2.92it/s]"
          ]
        },
        {
          "output_type": "stream",
          "name": "stdout",
          "text": [
            "Fine-tuning Epoch: 41, Loss: 0.6355, Accuracy: 71.22%\n",
            "Fine-tuning Epoch: 41, Loss: 0.6541, Accuracy: 71.24%\n"
          ]
        },
        {
          "output_type": "stream",
          "name": "stderr",
          "text": [
            " 77%|███████▋  | 46/60 [00:15<00:05,  2.59it/s]"
          ]
        },
        {
          "output_type": "stream",
          "name": "stdout",
          "text": [
            "Fine-tuning Epoch: 41, Loss: 0.6656, Accuracy: 71.11%\n",
            "Fine-tuning Epoch: 41, Loss: 0.6787, Accuracy: 71.20%\n"
          ]
        },
        {
          "output_type": "stream",
          "name": "stderr",
          "text": [
            "\r 78%|███████▊  | 47/60 [00:15<00:06,  2.09it/s]"
          ]
        },
        {
          "output_type": "stream",
          "name": "stdout",
          "text": [
            "Fine-tuning Epoch: 41, Loss: 0.6859, Accuracy: 71.41%\n"
          ]
        },
        {
          "output_type": "stream",
          "name": "stderr",
          "text": [
            "\r 80%|████████  | 48/60 [00:16<00:04,  2.51it/s]"
          ]
        },
        {
          "output_type": "stream",
          "name": "stdout",
          "text": [
            "Fine-tuning Epoch: 41, Loss: 0.6990, Accuracy: 71.29%\n"
          ]
        },
        {
          "output_type": "stream",
          "name": "stderr",
          "text": [
            "\r 82%|████████▏ | 49/60 [00:16<00:05,  2.03it/s]"
          ]
        },
        {
          "output_type": "stream",
          "name": "stdout",
          "text": [
            "Fine-tuning Epoch: 41, Loss: 0.7120, Accuracy: 71.24%\n"
          ]
        },
        {
          "output_type": "stream",
          "name": "stderr",
          "text": [
            "\r 83%|████████▎ | 50/60 [00:16<00:04,  2.45it/s]"
          ]
        },
        {
          "output_type": "stream",
          "name": "stdout",
          "text": [
            "Fine-tuning Epoch: 41, Loss: 0.7295, Accuracy: 71.06%\n"
          ]
        },
        {
          "output_type": "stream",
          "name": "stderr",
          "text": [
            "\r 85%|████████▌ | 51/60 [00:17<00:04,  2.10it/s]"
          ]
        },
        {
          "output_type": "stream",
          "name": "stdout",
          "text": [
            "Fine-tuning Epoch: 41, Loss: 0.7473, Accuracy: 70.89%\n"
          ]
        },
        {
          "output_type": "stream",
          "name": "stderr",
          "text": [
            "\r 87%|████████▋ | 52/60 [00:17<00:03,  2.44it/s]"
          ]
        },
        {
          "output_type": "stream",
          "name": "stdout",
          "text": [
            "Fine-tuning Epoch: 41, Loss: 0.7659, Accuracy: 70.61%\n"
          ]
        },
        {
          "output_type": "stream",
          "name": "stderr",
          "text": [
            " 90%|█████████ | 54/60 [00:18<00:02,  2.91it/s]"
          ]
        },
        {
          "output_type": "stream",
          "name": "stdout",
          "text": [
            "Fine-tuning Epoch: 41, Loss: 0.7796, Accuracy: 70.70%\n",
            "Fine-tuning Epoch: 41, Loss: 0.7905, Accuracy: 70.72%\n"
          ]
        },
        {
          "output_type": "stream",
          "name": "stderr",
          "text": [
            " 93%|█████████▎| 56/60 [00:18<00:01,  3.52it/s]"
          ]
        },
        {
          "output_type": "stream",
          "name": "stdout",
          "text": [
            "Fine-tuning Epoch: 41, Loss: 0.8003, Accuracy: 70.85%\n",
            "Fine-tuning Epoch: 41, Loss: 0.8135, Accuracy: 71.04%\n"
          ]
        },
        {
          "output_type": "stream",
          "name": "stderr",
          "text": [
            " 97%|█████████▋| 58/60 [00:19<00:00,  3.64it/s]"
          ]
        },
        {
          "output_type": "stream",
          "name": "stdout",
          "text": [
            "Fine-tuning Epoch: 41, Loss: 0.8346, Accuracy: 70.83%\n",
            "Fine-tuning Epoch: 41, Loss: 0.8432, Accuracy: 71.17%\n"
          ]
        },
        {
          "output_type": "stream",
          "name": "stderr",
          "text": [
            "100%|██████████| 60/60 [00:20<00:00,  2.98it/s]\n"
          ]
        },
        {
          "output_type": "stream",
          "name": "stdout",
          "text": [
            "Fine-tuning Epoch: 41, Loss: 0.8574, Accuracy: 71.24%\n",
            "Fine-tuning Epoch: 41, Loss: 0.8726, Accuracy: 71.15%\n"
          ]
        },
        {
          "output_type": "stream",
          "name": "stderr",
          "text": [
            "  3%|▎         | 2/60 [00:00<00:20,  2.87it/s]"
          ]
        },
        {
          "output_type": "stream",
          "name": "stdout",
          "text": [
            "Fine-tuning Epoch: 42, Loss: 0.0167, Accuracy: 65.62%\n",
            "Fine-tuning Epoch: 42, Loss: 0.0284, Accuracy: 71.88%\n"
          ]
        },
        {
          "output_type": "stream",
          "name": "stderr",
          "text": [
            "  7%|▋         | 4/60 [00:01<00:16,  3.34it/s]"
          ]
        },
        {
          "output_type": "stream",
          "name": "stdout",
          "text": [
            "Fine-tuning Epoch: 42, Loss: 0.0424, Accuracy: 69.79%\n",
            "Fine-tuning Epoch: 42, Loss: 0.0564, Accuracy: 69.53%\n"
          ]
        },
        {
          "output_type": "stream",
          "name": "stderr",
          "text": [
            " 10%|█         | 6/60 [00:02<00:15,  3.56it/s]"
          ]
        },
        {
          "output_type": "stream",
          "name": "stdout",
          "text": [
            "Fine-tuning Epoch: 42, Loss: 0.0729, Accuracy: 70.00%\n",
            "Fine-tuning Epoch: 42, Loss: 0.0816, Accuracy: 72.40%\n"
          ]
        },
        {
          "output_type": "stream",
          "name": "stderr",
          "text": [
            " 13%|█▎        | 8/60 [00:02<00:13,  3.96it/s]"
          ]
        },
        {
          "output_type": "stream",
          "name": "stdout",
          "text": [
            "Fine-tuning Epoch: 42, Loss: 0.0927, Accuracy: 71.88%\n",
            "Fine-tuning Epoch: 42, Loss: 0.1108, Accuracy: 70.70%\n"
          ]
        },
        {
          "output_type": "stream",
          "name": "stderr",
          "text": [
            " 17%|█▋        | 10/60 [00:03<00:12,  3.95it/s]"
          ]
        },
        {
          "output_type": "stream",
          "name": "stdout",
          "text": [
            "Fine-tuning Epoch: 42, Loss: 0.1285, Accuracy: 69.79%\n",
            "Fine-tuning Epoch: 42, Loss: 0.1457, Accuracy: 68.44%\n"
          ]
        },
        {
          "output_type": "stream",
          "name": "stderr",
          "text": [
            " 20%|██        | 12/60 [00:03<00:12,  3.94it/s]"
          ]
        },
        {
          "output_type": "stream",
          "name": "stdout",
          "text": [
            "Fine-tuning Epoch: 42, Loss: 0.1565, Accuracy: 69.60%\n",
            "Fine-tuning Epoch: 42, Loss: 0.1742, Accuracy: 69.53%\n"
          ]
        },
        {
          "output_type": "stream",
          "name": "stderr",
          "text": [
            " 23%|██▎       | 14/60 [00:04<00:11,  3.99it/s]"
          ]
        },
        {
          "output_type": "stream",
          "name": "stdout",
          "text": [
            "Fine-tuning Epoch: 42, Loss: 0.1830, Accuracy: 70.91%\n",
            "Fine-tuning Epoch: 42, Loss: 0.1975, Accuracy: 70.76%\n"
          ]
        },
        {
          "output_type": "stream",
          "name": "stderr",
          "text": [
            " 27%|██▋       | 16/60 [00:04<00:11,  3.86it/s]"
          ]
        },
        {
          "output_type": "stream",
          "name": "stdout",
          "text": [
            "Fine-tuning Epoch: 42, Loss: 0.2132, Accuracy: 70.21%\n",
            "Fine-tuning Epoch: 42, Loss: 0.2280, Accuracy: 70.12%\n"
          ]
        },
        {
          "output_type": "stream",
          "name": "stderr",
          "text": [
            " 30%|███       | 18/60 [00:05<00:10,  3.85it/s]"
          ]
        },
        {
          "output_type": "stream",
          "name": "stdout",
          "text": [
            "Fine-tuning Epoch: 42, Loss: 0.2444, Accuracy: 70.04%\n",
            "Fine-tuning Epoch: 42, Loss: 0.2570, Accuracy: 70.49%\n"
          ]
        },
        {
          "output_type": "stream",
          "name": "stderr",
          "text": [
            " 33%|███▎      | 20/60 [00:05<00:10,  3.91it/s]"
          ]
        },
        {
          "output_type": "stream",
          "name": "stdout",
          "text": [
            "Fine-tuning Epoch: 42, Loss: 0.2716, Accuracy: 70.56%\n",
            "Fine-tuning Epoch: 42, Loss: 0.2803, Accuracy: 71.09%\n"
          ]
        },
        {
          "output_type": "stream",
          "name": "stderr",
          "text": [
            " 37%|███▋      | 22/60 [00:06<00:09,  3.90it/s]"
          ]
        },
        {
          "output_type": "stream",
          "name": "stdout",
          "text": [
            "Fine-tuning Epoch: 42, Loss: 0.2957, Accuracy: 70.98%\n",
            "Fine-tuning Epoch: 42, Loss: 0.3085, Accuracy: 71.16%\n"
          ]
        },
        {
          "output_type": "stream",
          "name": "stderr",
          "text": [
            " 40%|████      | 24/60 [00:07<00:09,  3.99it/s]"
          ]
        },
        {
          "output_type": "stream",
          "name": "stdout",
          "text": [
            "Fine-tuning Epoch: 42, Loss: 0.3271, Accuracy: 70.65%\n",
            "Fine-tuning Epoch: 42, Loss: 0.3388, Accuracy: 70.70%\n"
          ]
        },
        {
          "output_type": "stream",
          "name": "stderr",
          "text": [
            " 43%|████▎     | 26/60 [00:07<00:08,  3.83it/s]"
          ]
        },
        {
          "output_type": "stream",
          "name": "stdout",
          "text": [
            "Fine-tuning Epoch: 42, Loss: 0.3520, Accuracy: 70.75%\n",
            "Fine-tuning Epoch: 42, Loss: 0.3711, Accuracy: 70.67%\n"
          ]
        },
        {
          "output_type": "stream",
          "name": "stderr",
          "text": [
            " 47%|████▋     | 28/60 [00:08<00:10,  3.16it/s]"
          ]
        },
        {
          "output_type": "stream",
          "name": "stdout",
          "text": [
            "Fine-tuning Epoch: 42, Loss: 0.3846, Accuracy: 70.49%\n",
            "Fine-tuning Epoch: 42, Loss: 0.3980, Accuracy: 70.31%\n"
          ]
        },
        {
          "output_type": "stream",
          "name": "stderr",
          "text": [
            " 50%|█████     | 30/60 [00:09<00:10,  2.77it/s]"
          ]
        },
        {
          "output_type": "stream",
          "name": "stdout",
          "text": [
            "Fine-tuning Epoch: 42, Loss: 0.4135, Accuracy: 70.26%\n",
            "Fine-tuning Epoch: 42, Loss: 0.4309, Accuracy: 70.00%\n"
          ]
        },
        {
          "output_type": "stream",
          "name": "stderr",
          "text": [
            "\r 52%|█████▏    | 31/60 [00:10<00:13,  2.11it/s]"
          ]
        },
        {
          "output_type": "stream",
          "name": "stdout",
          "text": [
            "Fine-tuning Epoch: 42, Loss: 0.4407, Accuracy: 70.36%\n"
          ]
        },
        {
          "output_type": "stream",
          "name": "stderr",
          "text": [
            "\r 53%|█████▎    | 32/60 [00:10<00:11,  2.44it/s]"
          ]
        },
        {
          "output_type": "stream",
          "name": "stdout",
          "text": [
            "Fine-tuning Epoch: 42, Loss: 0.4644, Accuracy: 69.82%\n"
          ]
        },
        {
          "output_type": "stream",
          "name": "stderr",
          "text": [
            "\r 55%|█████▌    | 33/60 [00:10<00:12,  2.21it/s]"
          ]
        },
        {
          "output_type": "stream",
          "name": "stdout",
          "text": [
            "Fine-tuning Epoch: 42, Loss: 0.4790, Accuracy: 69.89%\n"
          ]
        },
        {
          "output_type": "stream",
          "name": "stderr",
          "text": [
            "\r 57%|█████▋    | 34/60 [00:11<00:11,  2.17it/s]"
          ]
        },
        {
          "output_type": "stream",
          "name": "stdout",
          "text": [
            "Fine-tuning Epoch: 42, Loss: 0.4909, Accuracy: 69.85%\n"
          ]
        },
        {
          "output_type": "stream",
          "name": "stderr",
          "text": [
            "\r 58%|█████▊    | 35/60 [00:11<00:10,  2.38it/s]"
          ]
        },
        {
          "output_type": "stream",
          "name": "stdout",
          "text": [
            "Fine-tuning Epoch: 42, Loss: 0.5082, Accuracy: 69.91%\n"
          ]
        },
        {
          "output_type": "stream",
          "name": "stderr",
          "text": [
            "\r 60%|██████    | 36/60 [00:12<00:10,  2.36it/s]"
          ]
        },
        {
          "output_type": "stream",
          "name": "stdout",
          "text": [
            "Fine-tuning Epoch: 42, Loss: 0.5224, Accuracy: 69.88%\n"
          ]
        },
        {
          "output_type": "stream",
          "name": "stderr",
          "text": [
            " 63%|██████▎   | 38/60 [00:12<00:08,  2.65it/s]"
          ]
        },
        {
          "output_type": "stream",
          "name": "stdout",
          "text": [
            "Fine-tuning Epoch: 42, Loss: 0.5385, Accuracy: 69.93%\n",
            "Fine-tuning Epoch: 42, Loss: 0.5628, Accuracy: 69.49%\n"
          ]
        },
        {
          "output_type": "stream",
          "name": "stderr",
          "text": [
            " 67%|██████▋   | 40/60 [00:13<00:06,  2.96it/s]"
          ]
        },
        {
          "output_type": "stream",
          "name": "stdout",
          "text": [
            "Fine-tuning Epoch: 42, Loss: 0.5762, Accuracy: 69.71%\n",
            "Fine-tuning Epoch: 42, Loss: 0.5849, Accuracy: 70.00%\n"
          ]
        },
        {
          "output_type": "stream",
          "name": "stderr",
          "text": [
            " 70%|███████   | 42/60 [00:14<00:05,  3.33it/s]"
          ]
        },
        {
          "output_type": "stream",
          "name": "stdout",
          "text": [
            "Fine-tuning Epoch: 42, Loss: 0.6025, Accuracy: 69.74%\n",
            "Fine-tuning Epoch: 42, Loss: 0.6195, Accuracy: 69.57%\n"
          ]
        },
        {
          "output_type": "stream",
          "name": "stderr",
          "text": [
            " 73%|███████▎  | 44/60 [00:14<00:04,  3.70it/s]"
          ]
        },
        {
          "output_type": "stream",
          "name": "stdout",
          "text": [
            "Fine-tuning Epoch: 42, Loss: 0.6359, Accuracy: 69.48%\n",
            "Fine-tuning Epoch: 42, Loss: 0.6554, Accuracy: 69.18%\n"
          ]
        },
        {
          "output_type": "stream",
          "name": "stderr",
          "text": [
            " 77%|███████▋  | 46/60 [00:15<00:03,  3.89it/s]"
          ]
        },
        {
          "output_type": "stream",
          "name": "stdout",
          "text": [
            "Fine-tuning Epoch: 42, Loss: 0.6745, Accuracy: 69.03%\n",
            "Fine-tuning Epoch: 42, Loss: 0.6924, Accuracy: 68.82%\n"
          ]
        },
        {
          "output_type": "stream",
          "name": "stderr",
          "text": [
            " 80%|████████  | 48/60 [00:15<00:03,  3.89it/s]"
          ]
        },
        {
          "output_type": "stream",
          "name": "stdout",
          "text": [
            "Fine-tuning Epoch: 42, Loss: 0.7031, Accuracy: 68.88%\n",
            "Fine-tuning Epoch: 42, Loss: 0.7135, Accuracy: 69.14%\n"
          ]
        },
        {
          "output_type": "stream",
          "name": "stderr",
          "text": [
            " 83%|████████▎ | 50/60 [00:16<00:02,  3.98it/s]"
          ]
        },
        {
          "output_type": "stream",
          "name": "stdout",
          "text": [
            "Fine-tuning Epoch: 42, Loss: 0.7328, Accuracy: 69.01%\n",
            "Fine-tuning Epoch: 42, Loss: 0.7457, Accuracy: 69.00%\n"
          ]
        },
        {
          "output_type": "stream",
          "name": "stderr",
          "text": [
            " 87%|████████▋ | 52/60 [00:16<00:02,  3.83it/s]"
          ]
        },
        {
          "output_type": "stream",
          "name": "stdout",
          "text": [
            "Fine-tuning Epoch: 42, Loss: 0.7679, Accuracy: 68.75%\n",
            "Fine-tuning Epoch: 42, Loss: 0.7762, Accuracy: 69.17%\n"
          ]
        },
        {
          "output_type": "stream",
          "name": "stderr",
          "text": [
            " 90%|█████████ | 54/60 [00:17<00:01,  3.96it/s]"
          ]
        },
        {
          "output_type": "stream",
          "name": "stdout",
          "text": [
            "Fine-tuning Epoch: 42, Loss: 0.7890, Accuracy: 69.22%\n",
            "Fine-tuning Epoch: 42, Loss: 0.8035, Accuracy: 69.27%\n"
          ]
        },
        {
          "output_type": "stream",
          "name": "stderr",
          "text": [
            " 93%|█████████▎| 56/60 [00:17<00:01,  3.98it/s]"
          ]
        },
        {
          "output_type": "stream",
          "name": "stdout",
          "text": [
            "Fine-tuning Epoch: 42, Loss: 0.8167, Accuracy: 69.38%\n",
            "Fine-tuning Epoch: 42, Loss: 0.8392, Accuracy: 69.20%\n"
          ]
        },
        {
          "output_type": "stream",
          "name": "stderr",
          "text": [
            " 97%|█████████▋| 58/60 [00:18<00:00,  3.91it/s]"
          ]
        },
        {
          "output_type": "stream",
          "name": "stdout",
          "text": [
            "Fine-tuning Epoch: 42, Loss: 0.8589, Accuracy: 68.91%\n",
            "Fine-tuning Epoch: 42, Loss: 0.8766, Accuracy: 68.97%\n"
          ]
        },
        {
          "output_type": "stream",
          "name": "stderr",
          "text": [
            "100%|██████████| 60/60 [00:19<00:00,  3.13it/s]\n"
          ]
        },
        {
          "output_type": "stream",
          "name": "stdout",
          "text": [
            "Fine-tuning Epoch: 42, Loss: 0.8936, Accuracy: 68.91%\n",
            "Fine-tuning Epoch: 42, Loss: 0.9108, Accuracy: 68.80%\n"
          ]
        },
        {
          "output_type": "stream",
          "name": "stderr",
          "text": [
            "  3%|▎         | 2/60 [00:00<00:20,  2.81it/s]"
          ]
        },
        {
          "output_type": "stream",
          "name": "stdout",
          "text": [
            "Fine-tuning Epoch: 43, Loss: 0.0137, Accuracy: 75.00%\n",
            "Fine-tuning Epoch: 43, Loss: 0.0257, Accuracy: 73.44%\n"
          ]
        },
        {
          "output_type": "stream",
          "name": "stderr",
          "text": [
            "  7%|▋         | 4/60 [00:01<00:15,  3.54it/s]"
          ]
        },
        {
          "output_type": "stream",
          "name": "stdout",
          "text": [
            "Fine-tuning Epoch: 43, Loss: 0.0366, Accuracy: 75.00%\n",
            "Fine-tuning Epoch: 43, Loss: 0.0514, Accuracy: 75.00%\n"
          ]
        },
        {
          "output_type": "stream",
          "name": "stderr",
          "text": [
            " 10%|█         | 6/60 [00:01<00:14,  3.69it/s]"
          ]
        },
        {
          "output_type": "stream",
          "name": "stdout",
          "text": [
            "Fine-tuning Epoch: 43, Loss: 0.0639, Accuracy: 74.38%\n",
            "Fine-tuning Epoch: 43, Loss: 0.0825, Accuracy: 71.35%\n"
          ]
        },
        {
          "output_type": "stream",
          "name": "stderr",
          "text": [
            " 13%|█▎        | 8/60 [00:02<00:13,  3.80it/s]"
          ]
        },
        {
          "output_type": "stream",
          "name": "stdout",
          "text": [
            "Fine-tuning Epoch: 43, Loss: 0.0949, Accuracy: 71.43%\n",
            "Fine-tuning Epoch: 43, Loss: 0.1112, Accuracy: 71.48%\n"
          ]
        },
        {
          "output_type": "stream",
          "name": "stderr",
          "text": [
            " 17%|█▋        | 10/60 [00:03<00:14,  3.56it/s]"
          ]
        },
        {
          "output_type": "stream",
          "name": "stdout",
          "text": [
            "Fine-tuning Epoch: 43, Loss: 0.1251, Accuracy: 71.18%\n",
            "Fine-tuning Epoch: 43, Loss: 0.1440, Accuracy: 70.00%\n"
          ]
        },
        {
          "output_type": "stream",
          "name": "stderr",
          "text": [
            " 20%|██        | 12/60 [00:03<00:12,  3.81it/s]"
          ]
        },
        {
          "output_type": "stream",
          "name": "stdout",
          "text": [
            "Fine-tuning Epoch: 43, Loss: 0.1551, Accuracy: 70.74%\n",
            "Fine-tuning Epoch: 43, Loss: 0.1706, Accuracy: 70.83%\n"
          ]
        },
        {
          "output_type": "stream",
          "name": "stderr",
          "text": [
            " 23%|██▎       | 14/60 [00:04<00:14,  3.28it/s]"
          ]
        },
        {
          "output_type": "stream",
          "name": "stdout",
          "text": [
            "Fine-tuning Epoch: 43, Loss: 0.1851, Accuracy: 70.67%\n",
            "Fine-tuning Epoch: 43, Loss: 0.2030, Accuracy: 70.09%\n"
          ]
        },
        {
          "output_type": "stream",
          "name": "stderr",
          "text": [
            " 27%|██▋       | 16/60 [00:05<00:15,  2.93it/s]"
          ]
        },
        {
          "output_type": "stream",
          "name": "stdout",
          "text": [
            "Fine-tuning Epoch: 43, Loss: 0.2175, Accuracy: 69.17%\n",
            "Fine-tuning Epoch: 43, Loss: 0.2290, Accuracy: 69.73%\n"
          ]
        },
        {
          "output_type": "stream",
          "name": "stderr",
          "text": [
            " 30%|███       | 18/60 [00:06<00:15,  2.76it/s]"
          ]
        },
        {
          "output_type": "stream",
          "name": "stdout",
          "text": [
            "Fine-tuning Epoch: 43, Loss: 0.2449, Accuracy: 69.49%\n",
            "Fine-tuning Epoch: 43, Loss: 0.2560, Accuracy: 69.79%\n"
          ]
        },
        {
          "output_type": "stream",
          "name": "stderr",
          "text": [
            " 33%|███▎      | 20/60 [00:07<00:15,  2.59it/s]"
          ]
        },
        {
          "output_type": "stream",
          "name": "stdout",
          "text": [
            "Fine-tuning Epoch: 43, Loss: 0.2714, Accuracy: 69.90%\n",
            "Fine-tuning Epoch: 43, Loss: 0.2833, Accuracy: 69.84%\n"
          ]
        },
        {
          "output_type": "stream",
          "name": "stderr",
          "text": [
            " 37%|███▋      | 22/60 [00:07<00:14,  2.69it/s]"
          ]
        },
        {
          "output_type": "stream",
          "name": "stdout",
          "text": [
            "Fine-tuning Epoch: 43, Loss: 0.2950, Accuracy: 70.24%\n",
            "Fine-tuning Epoch: 43, Loss: 0.3057, Accuracy: 70.88%\n"
          ]
        },
        {
          "output_type": "stream",
          "name": "stderr",
          "text": [
            " 40%|████      | 24/60 [00:08<00:13,  2.62it/s]"
          ]
        },
        {
          "output_type": "stream",
          "name": "stdout",
          "text": [
            "Fine-tuning Epoch: 43, Loss: 0.3168, Accuracy: 71.33%\n",
            "Fine-tuning Epoch: 43, Loss: 0.3293, Accuracy: 71.74%\n"
          ]
        },
        {
          "output_type": "stream",
          "name": "stderr",
          "text": [
            " 43%|████▎     | 26/60 [00:09<00:11,  2.98it/s]"
          ]
        },
        {
          "output_type": "stream",
          "name": "stdout",
          "text": [
            "Fine-tuning Epoch: 43, Loss: 0.3426, Accuracy: 71.62%\n",
            "Fine-tuning Epoch: 43, Loss: 0.3546, Accuracy: 71.88%\n"
          ]
        },
        {
          "output_type": "stream",
          "name": "stderr",
          "text": [
            " 47%|████▋     | 28/60 [00:10<00:09,  3.40it/s]"
          ]
        },
        {
          "output_type": "stream",
          "name": "stdout",
          "text": [
            "Fine-tuning Epoch: 43, Loss: 0.3667, Accuracy: 72.11%\n",
            "Fine-tuning Epoch: 43, Loss: 0.3792, Accuracy: 72.10%\n"
          ]
        },
        {
          "output_type": "stream",
          "name": "stderr",
          "text": [
            " 50%|█████     | 30/60 [00:10<00:08,  3.59it/s]"
          ]
        },
        {
          "output_type": "stream",
          "name": "stdout",
          "text": [
            "Fine-tuning Epoch: 43, Loss: 0.3932, Accuracy: 71.98%\n",
            "Fine-tuning Epoch: 43, Loss: 0.4138, Accuracy: 71.77%\n"
          ]
        },
        {
          "output_type": "stream",
          "name": "stderr",
          "text": [
            " 53%|█████▎    | 32/60 [00:11<00:07,  3.78it/s]"
          ]
        },
        {
          "output_type": "stream",
          "name": "stdout",
          "text": [
            "Fine-tuning Epoch: 43, Loss: 0.4323, Accuracy: 71.37%\n",
            "Fine-tuning Epoch: 43, Loss: 0.4492, Accuracy: 71.39%\n"
          ]
        },
        {
          "output_type": "stream",
          "name": "stderr",
          "text": [
            " 57%|█████▋    | 34/60 [00:11<00:06,  3.98it/s]"
          ]
        },
        {
          "output_type": "stream",
          "name": "stdout",
          "text": [
            "Fine-tuning Epoch: 43, Loss: 0.4649, Accuracy: 71.31%\n",
            "Fine-tuning Epoch: 43, Loss: 0.4780, Accuracy: 71.51%\n"
          ]
        },
        {
          "output_type": "stream",
          "name": "stderr",
          "text": [
            " 60%|██████    | 36/60 [00:12<00:05,  4.05it/s]"
          ]
        },
        {
          "output_type": "stream",
          "name": "stdout",
          "text": [
            "Fine-tuning Epoch: 43, Loss: 0.4916, Accuracy: 71.07%\n",
            "Fine-tuning Epoch: 43, Loss: 0.5088, Accuracy: 71.01%\n"
          ]
        },
        {
          "output_type": "stream",
          "name": "stderr",
          "text": [
            " 63%|██████▎   | 38/60 [00:12<00:05,  4.09it/s]"
          ]
        },
        {
          "output_type": "stream",
          "name": "stdout",
          "text": [
            "Fine-tuning Epoch: 43, Loss: 0.5257, Accuracy: 70.86%\n",
            "Fine-tuning Epoch: 43, Loss: 0.5372, Accuracy: 71.05%\n"
          ]
        },
        {
          "output_type": "stream",
          "name": "stderr",
          "text": [
            " 67%|██████▋   | 40/60 [00:13<00:05,  4.00it/s]"
          ]
        },
        {
          "output_type": "stream",
          "name": "stdout",
          "text": [
            "Fine-tuning Epoch: 43, Loss: 0.5526, Accuracy: 70.91%\n",
            "Fine-tuning Epoch: 43, Loss: 0.5706, Accuracy: 70.62%\n"
          ]
        },
        {
          "output_type": "stream",
          "name": "stderr",
          "text": [
            " 70%|███████   | 42/60 [00:14<00:04,  3.86it/s]"
          ]
        },
        {
          "output_type": "stream",
          "name": "stdout",
          "text": [
            "Fine-tuning Epoch: 43, Loss: 0.5901, Accuracy: 70.43%\n",
            "Fine-tuning Epoch: 43, Loss: 0.6032, Accuracy: 70.46%\n"
          ]
        },
        {
          "output_type": "stream",
          "name": "stderr",
          "text": [
            " 73%|███████▎  | 44/60 [00:14<00:04,  3.88it/s]"
          ]
        },
        {
          "output_type": "stream",
          "name": "stdout",
          "text": [
            "Fine-tuning Epoch: 43, Loss: 0.6178, Accuracy: 70.57%\n",
            "Fine-tuning Epoch: 43, Loss: 0.6271, Accuracy: 70.74%\n"
          ]
        },
        {
          "output_type": "stream",
          "name": "stderr",
          "text": [
            " 77%|███████▋  | 46/60 [00:15<00:03,  4.01it/s]"
          ]
        },
        {
          "output_type": "stream",
          "name": "stdout",
          "text": [
            "Fine-tuning Epoch: 43, Loss: 0.6400, Accuracy: 70.83%\n",
            "Fine-tuning Epoch: 43, Loss: 0.6531, Accuracy: 70.86%\n"
          ]
        },
        {
          "output_type": "stream",
          "name": "stderr",
          "text": [
            " 80%|████████  | 48/60 [00:15<00:03,  3.94it/s]"
          ]
        },
        {
          "output_type": "stream",
          "name": "stdout",
          "text": [
            "Fine-tuning Epoch: 43, Loss: 0.6637, Accuracy: 71.01%\n",
            "Fine-tuning Epoch: 43, Loss: 0.6776, Accuracy: 70.96%\n"
          ]
        },
        {
          "output_type": "stream",
          "name": "stderr",
          "text": [
            " 83%|████████▎ | 50/60 [00:16<00:02,  3.94it/s]"
          ]
        },
        {
          "output_type": "stream",
          "name": "stdout",
          "text": [
            "Fine-tuning Epoch: 43, Loss: 0.6955, Accuracy: 70.73%\n",
            "Fine-tuning Epoch: 43, Loss: 0.7084, Accuracy: 70.56%\n"
          ]
        },
        {
          "output_type": "stream",
          "name": "stderr",
          "text": [
            " 87%|████████▋ | 52/60 [00:16<00:02,  3.92it/s]"
          ]
        },
        {
          "output_type": "stream",
          "name": "stdout",
          "text": [
            "Fine-tuning Epoch: 43, Loss: 0.7257, Accuracy: 70.65%\n",
            "Fine-tuning Epoch: 43, Loss: 0.7411, Accuracy: 70.49%\n"
          ]
        },
        {
          "output_type": "stream",
          "name": "stderr",
          "text": [
            " 90%|█████████ | 54/60 [00:17<00:01,  3.91it/s]"
          ]
        },
        {
          "output_type": "stream",
          "name": "stdout",
          "text": [
            "Fine-tuning Epoch: 43, Loss: 0.7575, Accuracy: 70.28%\n",
            "Fine-tuning Epoch: 43, Loss: 0.7743, Accuracy: 70.31%\n"
          ]
        },
        {
          "output_type": "stream",
          "name": "stderr",
          "text": [
            " 93%|█████████▎| 56/60 [00:17<00:01,  3.86it/s]"
          ]
        },
        {
          "output_type": "stream",
          "name": "stdout",
          "text": [
            "Fine-tuning Epoch: 43, Loss: 0.7858, Accuracy: 70.57%\n",
            "Fine-tuning Epoch: 43, Loss: 0.7981, Accuracy: 70.54%\n"
          ]
        },
        {
          "output_type": "stream",
          "name": "stderr",
          "text": [
            " 97%|█████████▋| 58/60 [00:18<00:00,  3.85it/s]"
          ]
        },
        {
          "output_type": "stream",
          "name": "stdout",
          "text": [
            "Fine-tuning Epoch: 43, Loss: 0.8116, Accuracy: 70.67%\n",
            "Fine-tuning Epoch: 43, Loss: 0.8310, Accuracy: 70.47%\n"
          ]
        },
        {
          "output_type": "stream",
          "name": "stderr",
          "text": [
            "100%|██████████| 60/60 [00:19<00:00,  3.13it/s]\n"
          ]
        },
        {
          "output_type": "stream",
          "name": "stdout",
          "text": [
            "Fine-tuning Epoch: 43, Loss: 0.8474, Accuracy: 70.39%\n",
            "Fine-tuning Epoch: 43, Loss: 0.8627, Accuracy: 70.36%\n"
          ]
        },
        {
          "output_type": "stream",
          "name": "stderr",
          "text": [
            "  3%|▎         | 2/60 [00:01<00:33,  1.75it/s]"
          ]
        },
        {
          "output_type": "stream",
          "name": "stdout",
          "text": [
            "Fine-tuning Epoch: 44, Loss: 0.0148, Accuracy: 71.88%\n",
            "Fine-tuning Epoch: 44, Loss: 0.0230, Accuracy: 76.56%\n"
          ]
        },
        {
          "output_type": "stream",
          "name": "stderr",
          "text": [
            "  7%|▋         | 4/60 [00:02<00:25,  2.19it/s]"
          ]
        },
        {
          "output_type": "stream",
          "name": "stdout",
          "text": [
            "Fine-tuning Epoch: 44, Loss: 0.0358, Accuracy: 77.08%\n",
            "Fine-tuning Epoch: 44, Loss: 0.0480, Accuracy: 74.22%\n"
          ]
        },
        {
          "output_type": "stream",
          "name": "stderr",
          "text": [
            " 10%|█         | 6/60 [00:03<00:22,  2.39it/s]"
          ]
        },
        {
          "output_type": "stream",
          "name": "stdout",
          "text": [
            "Fine-tuning Epoch: 44, Loss: 0.0628, Accuracy: 73.12%\n",
            "Fine-tuning Epoch: 44, Loss: 0.0796, Accuracy: 72.40%\n"
          ]
        },
        {
          "output_type": "stream",
          "name": "stderr",
          "text": [
            " 13%|█▎        | 8/60 [00:04<00:22,  2.28it/s]"
          ]
        },
        {
          "output_type": "stream",
          "name": "stdout",
          "text": [
            "Fine-tuning Epoch: 44, Loss: 0.0884, Accuracy: 74.55%\n",
            "Fine-tuning Epoch: 44, Loss: 0.1047, Accuracy: 73.83%\n"
          ]
        },
        {
          "output_type": "stream",
          "name": "stderr",
          "text": [
            " 17%|█▋        | 10/60 [00:05<00:20,  2.39it/s]"
          ]
        },
        {
          "output_type": "stream",
          "name": "stdout",
          "text": [
            "Fine-tuning Epoch: 44, Loss: 0.1174, Accuracy: 74.65%\n",
            "Fine-tuning Epoch: 44, Loss: 0.1396, Accuracy: 72.81%\n"
          ]
        },
        {
          "output_type": "stream",
          "name": "stderr",
          "text": [
            " 20%|██        | 12/60 [00:05<00:16,  2.91it/s]"
          ]
        },
        {
          "output_type": "stream",
          "name": "stdout",
          "text": [
            "Fine-tuning Epoch: 44, Loss: 0.1523, Accuracy: 73.30%\n",
            "Fine-tuning Epoch: 44, Loss: 0.1672, Accuracy: 72.92%\n"
          ]
        },
        {
          "output_type": "stream",
          "name": "stderr",
          "text": [
            " 23%|██▎       | 14/60 [00:06<00:14,  3.29it/s]"
          ]
        },
        {
          "output_type": "stream",
          "name": "stdout",
          "text": [
            "Fine-tuning Epoch: 44, Loss: 0.1814, Accuracy: 72.84%\n",
            "Fine-tuning Epoch: 44, Loss: 0.1966, Accuracy: 71.88%\n"
          ]
        },
        {
          "output_type": "stream",
          "name": "stderr",
          "text": [
            " 27%|██▋       | 16/60 [00:06<00:12,  3.64it/s]"
          ]
        },
        {
          "output_type": "stream",
          "name": "stdout",
          "text": [
            "Fine-tuning Epoch: 44, Loss: 0.2072, Accuracy: 72.08%\n",
            "Fine-tuning Epoch: 44, Loss: 0.2192, Accuracy: 72.46%\n"
          ]
        },
        {
          "output_type": "stream",
          "name": "stderr",
          "text": [
            " 30%|███       | 18/60 [00:07<00:11,  3.75it/s]"
          ]
        },
        {
          "output_type": "stream",
          "name": "stdout",
          "text": [
            "Fine-tuning Epoch: 44, Loss: 0.2339, Accuracy: 72.06%\n",
            "Fine-tuning Epoch: 44, Loss: 0.2468, Accuracy: 71.70%\n"
          ]
        },
        {
          "output_type": "stream",
          "name": "stderr",
          "text": [
            " 33%|███▎      | 20/60 [00:07<00:10,  3.90it/s]"
          ]
        },
        {
          "output_type": "stream",
          "name": "stdout",
          "text": [
            "Fine-tuning Epoch: 44, Loss: 0.2581, Accuracy: 71.88%\n",
            "Fine-tuning Epoch: 44, Loss: 0.2703, Accuracy: 72.34%\n"
          ]
        },
        {
          "output_type": "stream",
          "name": "stderr",
          "text": [
            " 37%|███▋      | 22/60 [00:08<00:09,  4.11it/s]"
          ]
        },
        {
          "output_type": "stream",
          "name": "stdout",
          "text": [
            "Fine-tuning Epoch: 44, Loss: 0.2840, Accuracy: 72.17%\n",
            "Fine-tuning Epoch: 44, Loss: 0.3031, Accuracy: 72.30%\n"
          ]
        },
        {
          "output_type": "stream",
          "name": "stderr",
          "text": [
            " 40%|████      | 24/60 [00:09<00:09,  3.95it/s]"
          ]
        },
        {
          "output_type": "stream",
          "name": "stdout",
          "text": [
            "Fine-tuning Epoch: 44, Loss: 0.3178, Accuracy: 72.28%\n",
            "Fine-tuning Epoch: 44, Loss: 0.3351, Accuracy: 72.27%\n"
          ]
        },
        {
          "output_type": "stream",
          "name": "stderr",
          "text": [
            " 43%|████▎     | 26/60 [00:09<00:08,  3.86it/s]"
          ]
        },
        {
          "output_type": "stream",
          "name": "stdout",
          "text": [
            "Fine-tuning Epoch: 44, Loss: 0.3475, Accuracy: 72.25%\n",
            "Fine-tuning Epoch: 44, Loss: 0.3571, Accuracy: 72.72%\n"
          ]
        },
        {
          "output_type": "stream",
          "name": "stderr",
          "text": [
            " 47%|████▋     | 28/60 [00:10<00:08,  3.93it/s]"
          ]
        },
        {
          "output_type": "stream",
          "name": "stdout",
          "text": [
            "Fine-tuning Epoch: 44, Loss: 0.3712, Accuracy: 72.92%\n",
            "Fine-tuning Epoch: 44, Loss: 0.3863, Accuracy: 72.66%\n"
          ]
        },
        {
          "output_type": "stream",
          "name": "stderr",
          "text": [
            " 50%|█████     | 30/60 [00:10<00:07,  3.98it/s]"
          ]
        },
        {
          "output_type": "stream",
          "name": "stdout",
          "text": [
            "Fine-tuning Epoch: 44, Loss: 0.4031, Accuracy: 72.74%\n",
            "Fine-tuning Epoch: 44, Loss: 0.4132, Accuracy: 73.02%\n"
          ]
        },
        {
          "output_type": "stream",
          "name": "stderr",
          "text": [
            " 53%|█████▎    | 32/60 [00:11<00:07,  3.99it/s]"
          ]
        },
        {
          "output_type": "stream",
          "name": "stdout",
          "text": [
            "Fine-tuning Epoch: 44, Loss: 0.4270, Accuracy: 73.08%\n",
            "Fine-tuning Epoch: 44, Loss: 0.4434, Accuracy: 73.14%\n"
          ]
        },
        {
          "output_type": "stream",
          "name": "stderr",
          "text": [
            " 57%|█████▋    | 34/60 [00:11<00:06,  3.91it/s]"
          ]
        },
        {
          "output_type": "stream",
          "name": "stdout",
          "text": [
            "Fine-tuning Epoch: 44, Loss: 0.4570, Accuracy: 73.20%\n",
            "Fine-tuning Epoch: 44, Loss: 0.4671, Accuracy: 73.35%\n"
          ]
        },
        {
          "output_type": "stream",
          "name": "stderr",
          "text": [
            " 60%|██████    | 36/60 [00:12<00:06,  3.99it/s]"
          ]
        },
        {
          "output_type": "stream",
          "name": "stdout",
          "text": [
            "Fine-tuning Epoch: 44, Loss: 0.4810, Accuracy: 73.21%\n",
            "Fine-tuning Epoch: 44, Loss: 0.4924, Accuracy: 73.09%\n"
          ]
        },
        {
          "output_type": "stream",
          "name": "stderr",
          "text": [
            " 63%|██████▎   | 38/60 [00:13<00:05,  3.80it/s]"
          ]
        },
        {
          "output_type": "stream",
          "name": "stdout",
          "text": [
            "Fine-tuning Epoch: 44, Loss: 0.5182, Accuracy: 72.80%\n",
            "Fine-tuning Epoch: 44, Loss: 0.5337, Accuracy: 72.78%\n"
          ]
        },
        {
          "output_type": "stream",
          "name": "stderr",
          "text": [
            " 67%|██████▋   | 40/60 [00:13<00:05,  3.86it/s]"
          ]
        },
        {
          "output_type": "stream",
          "name": "stdout",
          "text": [
            "Fine-tuning Epoch: 44, Loss: 0.5469, Accuracy: 72.76%\n",
            "Fine-tuning Epoch: 44, Loss: 0.5615, Accuracy: 72.58%\n"
          ]
        },
        {
          "output_type": "stream",
          "name": "stderr",
          "text": [
            " 70%|███████   | 42/60 [00:14<00:04,  3.81it/s]"
          ]
        },
        {
          "output_type": "stream",
          "name": "stdout",
          "text": [
            "Fine-tuning Epoch: 44, Loss: 0.5754, Accuracy: 72.64%\n",
            "Fine-tuning Epoch: 44, Loss: 0.5893, Accuracy: 72.62%\n"
          ]
        },
        {
          "output_type": "stream",
          "name": "stderr",
          "text": [
            " 73%|███████▎  | 44/60 [00:14<00:04,  3.87it/s]"
          ]
        },
        {
          "output_type": "stream",
          "name": "stdout",
          "text": [
            "Fine-tuning Epoch: 44, Loss: 0.6072, Accuracy: 72.38%\n",
            "Fine-tuning Epoch: 44, Loss: 0.6260, Accuracy: 72.16%\n"
          ]
        },
        {
          "output_type": "stream",
          "name": "stderr",
          "text": [
            " 77%|███████▋  | 46/60 [00:15<00:03,  4.01it/s]"
          ]
        },
        {
          "output_type": "stream",
          "name": "stdout",
          "text": [
            "Fine-tuning Epoch: 44, Loss: 0.6455, Accuracy: 72.01%\n",
            "Fine-tuning Epoch: 44, Loss: 0.6547, Accuracy: 72.15%\n"
          ]
        },
        {
          "output_type": "stream",
          "name": "stderr",
          "text": [
            " 80%|████████  | 48/60 [00:16<00:03,  3.31it/s]"
          ]
        },
        {
          "output_type": "stream",
          "name": "stdout",
          "text": [
            "Fine-tuning Epoch: 44, Loss: 0.6715, Accuracy: 72.01%\n",
            "Fine-tuning Epoch: 44, Loss: 0.6863, Accuracy: 71.88%\n"
          ]
        },
        {
          "output_type": "stream",
          "name": "stderr",
          "text": [
            "\r 82%|████████▏ | 49/60 [00:16<00:04,  2.58it/s]"
          ]
        },
        {
          "output_type": "stream",
          "name": "stdout",
          "text": [
            "Fine-tuning Epoch: 44, Loss: 0.6989, Accuracy: 71.94%\n"
          ]
        },
        {
          "output_type": "stream",
          "name": "stderr",
          "text": [
            "\r 83%|████████▎ | 50/60 [00:16<00:03,  3.00it/s]"
          ]
        },
        {
          "output_type": "stream",
          "name": "stdout",
          "text": [
            "Fine-tuning Epoch: 44, Loss: 0.7147, Accuracy: 72.00%\n"
          ]
        },
        {
          "output_type": "stream",
          "name": "stderr",
          "text": [
            " 87%|████████▋ | 52/60 [00:17<00:02,  2.68it/s]"
          ]
        },
        {
          "output_type": "stream",
          "name": "stdout",
          "text": [
            "Fine-tuning Epoch: 44, Loss: 0.7241, Accuracy: 72.30%\n",
            "Fine-tuning Epoch: 44, Loss: 0.7381, Accuracy: 72.24%\n"
          ]
        },
        {
          "output_type": "stream",
          "name": "stderr",
          "text": [
            " 90%|█████████ | 54/60 [00:18<00:02,  2.60it/s]"
          ]
        },
        {
          "output_type": "stream",
          "name": "stdout",
          "text": [
            "Fine-tuning Epoch: 44, Loss: 0.7508, Accuracy: 71.99%\n",
            "Fine-tuning Epoch: 44, Loss: 0.7616, Accuracy: 72.11%\n"
          ]
        },
        {
          "output_type": "stream",
          "name": "stderr",
          "text": [
            " 93%|█████████▎| 56/60 [00:19<00:01,  2.51it/s]"
          ]
        },
        {
          "output_type": "stream",
          "name": "stdout",
          "text": [
            "Fine-tuning Epoch: 44, Loss: 0.7762, Accuracy: 72.05%\n",
            "Fine-tuning Epoch: 44, Loss: 0.7927, Accuracy: 72.04%\n"
          ]
        },
        {
          "output_type": "stream",
          "name": "stderr",
          "text": [
            "\r 95%|█████████▌| 57/60 [00:20<00:01,  2.08it/s]"
          ]
        },
        {
          "output_type": "stream",
          "name": "stdout",
          "text": [
            "Fine-tuning Epoch: 44, Loss: 0.8132, Accuracy: 71.98%\n"
          ]
        },
        {
          "output_type": "stream",
          "name": "stderr",
          "text": [
            "\r 97%|█████████▋| 58/60 [00:20<00:00,  2.42it/s]"
          ]
        },
        {
          "output_type": "stream",
          "name": "stdout",
          "text": [
            "Fine-tuning Epoch: 44, Loss: 0.8325, Accuracy: 71.93%\n"
          ]
        },
        {
          "output_type": "stream",
          "name": "stderr",
          "text": [
            "100%|██████████| 60/60 [00:21<00:00,  2.83it/s]\n"
          ]
        },
        {
          "output_type": "stream",
          "name": "stdout",
          "text": [
            "Fine-tuning Epoch: 44, Loss: 0.8534, Accuracy: 71.77%\n",
            "Fine-tuning Epoch: 44, Loss: 0.8751, Accuracy: 71.61%\n"
          ]
        },
        {
          "output_type": "stream",
          "name": "stderr",
          "text": [
            "  3%|▎         | 2/60 [00:00<00:20,  2.77it/s]"
          ]
        },
        {
          "output_type": "stream",
          "name": "stdout",
          "text": [
            "Fine-tuning Epoch: 45, Loss: 0.0082, Accuracy: 81.25%\n",
            "Fine-tuning Epoch: 45, Loss: 0.0232, Accuracy: 76.56%\n"
          ]
        },
        {
          "output_type": "stream",
          "name": "stderr",
          "text": [
            "  7%|▋         | 4/60 [00:01<00:17,  3.28it/s]"
          ]
        },
        {
          "output_type": "stream",
          "name": "stdout",
          "text": [
            "Fine-tuning Epoch: 45, Loss: 0.0345, Accuracy: 77.08%\n",
            "Fine-tuning Epoch: 45, Loss: 0.0488, Accuracy: 75.00%\n"
          ]
        },
        {
          "output_type": "stream",
          "name": "stderr",
          "text": [
            " 10%|█         | 6/60 [00:02<00:15,  3.58it/s]"
          ]
        },
        {
          "output_type": "stream",
          "name": "stdout",
          "text": [
            "Fine-tuning Epoch: 45, Loss: 0.0651, Accuracy: 73.12%\n",
            "Fine-tuning Epoch: 45, Loss: 0.0802, Accuracy: 71.88%\n"
          ]
        },
        {
          "output_type": "stream",
          "name": "stderr",
          "text": [
            " 13%|█▎        | 8/60 [00:02<00:13,  3.97it/s]"
          ]
        },
        {
          "output_type": "stream",
          "name": "stdout",
          "text": [
            "Fine-tuning Epoch: 45, Loss: 0.0933, Accuracy: 72.32%\n",
            "Fine-tuning Epoch: 45, Loss: 0.1050, Accuracy: 73.05%\n"
          ]
        },
        {
          "output_type": "stream",
          "name": "stderr",
          "text": [
            " 17%|█▋        | 10/60 [00:03<00:13,  3.80it/s]"
          ]
        },
        {
          "output_type": "stream",
          "name": "stdout",
          "text": [
            "Fine-tuning Epoch: 45, Loss: 0.1264, Accuracy: 71.53%\n",
            "Fine-tuning Epoch: 45, Loss: 0.1376, Accuracy: 72.50%\n"
          ]
        },
        {
          "output_type": "stream",
          "name": "stderr",
          "text": [
            "\r 18%|█▊        | 11/60 [00:03<00:14,  3.39it/s]"
          ]
        },
        {
          "output_type": "stream",
          "name": "stdout",
          "text": [
            "Fine-tuning Epoch: 45, Loss: 0.1498, Accuracy: 72.44%\n"
          ]
        },
        {
          "output_type": "stream",
          "name": "stderr",
          "text": [
            "\r 20%|██        | 12/60 [00:03<00:12,  3.71it/s]"
          ]
        },
        {
          "output_type": "stream",
          "name": "stdout",
          "text": [
            "Fine-tuning Epoch: 45, Loss: 0.1660, Accuracy: 71.88%\n"
          ]
        },
        {
          "output_type": "stream",
          "name": "stderr",
          "text": [
            "\r 22%|██▏       | 13/60 [00:03<00:13,  3.58it/s]"
          ]
        },
        {
          "output_type": "stream",
          "name": "stdout",
          "text": [
            "Fine-tuning Epoch: 45, Loss: 0.1773, Accuracy: 72.12%\n"
          ]
        },
        {
          "output_type": "stream",
          "name": "stderr",
          "text": [
            "\r 23%|██▎       | 14/60 [00:04<00:12,  3.65it/s]"
          ]
        },
        {
          "output_type": "stream",
          "name": "stdout",
          "text": [
            "Fine-tuning Epoch: 45, Loss: 0.1933, Accuracy: 71.88%\n"
          ]
        },
        {
          "output_type": "stream",
          "name": "stderr",
          "text": [
            "\r 25%|██▌       | 15/60 [00:04<00:13,  3.42it/s]"
          ]
        },
        {
          "output_type": "stream",
          "name": "stdout",
          "text": [
            "Fine-tuning Epoch: 45, Loss: 0.2118, Accuracy: 71.04%\n"
          ]
        },
        {
          "output_type": "stream",
          "name": "stderr",
          "text": [
            "\r 27%|██▋       | 16/60 [00:04<00:12,  3.55it/s]"
          ]
        },
        {
          "output_type": "stream",
          "name": "stdout",
          "text": [
            "Fine-tuning Epoch: 45, Loss: 0.2265, Accuracy: 71.68%\n"
          ]
        },
        {
          "output_type": "stream",
          "name": "stderr",
          "text": [
            "\r 28%|██▊       | 17/60 [00:05<00:12,  3.42it/s]"
          ]
        },
        {
          "output_type": "stream",
          "name": "stdout",
          "text": [
            "Fine-tuning Epoch: 45, Loss: 0.2411, Accuracy: 71.32%\n"
          ]
        },
        {
          "output_type": "stream",
          "name": "stderr",
          "text": [
            "\r 30%|███       | 18/60 [00:05<00:11,  3.65it/s]"
          ]
        },
        {
          "output_type": "stream",
          "name": "stdout",
          "text": [
            "Fine-tuning Epoch: 45, Loss: 0.2604, Accuracy: 70.49%\n"
          ]
        },
        {
          "output_type": "stream",
          "name": "stderr",
          "text": [
            "\r 32%|███▏      | 19/60 [00:05<00:11,  3.45it/s]"
          ]
        },
        {
          "output_type": "stream",
          "name": "stdout",
          "text": [
            "Fine-tuning Epoch: 45, Loss: 0.2719, Accuracy: 71.22%\n"
          ]
        },
        {
          "output_type": "stream",
          "name": "stderr",
          "text": [
            "\r 33%|███▎      | 20/60 [00:05<00:11,  3.64it/s]"
          ]
        },
        {
          "output_type": "stream",
          "name": "stdout",
          "text": [
            "Fine-tuning Epoch: 45, Loss: 0.2910, Accuracy: 70.94%\n"
          ]
        },
        {
          "output_type": "stream",
          "name": "stderr",
          "text": [
            "\r 35%|███▌      | 21/60 [00:06<00:11,  3.45it/s]"
          ]
        },
        {
          "output_type": "stream",
          "name": "stdout",
          "text": [
            "Fine-tuning Epoch: 45, Loss: 0.3067, Accuracy: 70.98%\n"
          ]
        },
        {
          "output_type": "stream",
          "name": "stderr",
          "text": [
            "\r 37%|███▋      | 22/60 [00:06<00:11,  3.45it/s]"
          ]
        },
        {
          "output_type": "stream",
          "name": "stdout",
          "text": [
            "Fine-tuning Epoch: 45, Loss: 0.3205, Accuracy: 71.31%\n"
          ]
        },
        {
          "output_type": "stream",
          "name": "stderr",
          "text": [
            "\r 38%|███▊      | 23/60 [00:06<00:10,  3.40it/s]"
          ]
        },
        {
          "output_type": "stream",
          "name": "stdout",
          "text": [
            "Fine-tuning Epoch: 45, Loss: 0.3356, Accuracy: 71.20%\n"
          ]
        },
        {
          "output_type": "stream",
          "name": "stderr",
          "text": [
            "\r 40%|████      | 24/60 [00:07<00:10,  3.41it/s]"
          ]
        },
        {
          "output_type": "stream",
          "name": "stdout",
          "text": [
            "Fine-tuning Epoch: 45, Loss: 0.3506, Accuracy: 71.22%\n"
          ]
        },
        {
          "output_type": "stream",
          "name": "stderr",
          "text": [
            "\r 42%|████▏     | 25/60 [00:07<00:10,  3.37it/s]"
          ]
        },
        {
          "output_type": "stream",
          "name": "stdout",
          "text": [
            "Fine-tuning Epoch: 45, Loss: 0.3678, Accuracy: 70.62%\n"
          ]
        },
        {
          "output_type": "stream",
          "name": "stderr",
          "text": [
            "\r 43%|████▎     | 26/60 [00:07<00:09,  3.40it/s]"
          ]
        },
        {
          "output_type": "stream",
          "name": "stdout",
          "text": [
            "Fine-tuning Epoch: 45, Loss: 0.3856, Accuracy: 70.43%\n"
          ]
        },
        {
          "output_type": "stream",
          "name": "stderr",
          "text": [
            "\r 45%|████▌     | 27/60 [00:08<00:09,  3.51it/s]"
          ]
        },
        {
          "output_type": "stream",
          "name": "stdout",
          "text": [
            "Fine-tuning Epoch: 45, Loss: 0.4046, Accuracy: 69.91%\n"
          ]
        },
        {
          "output_type": "stream",
          "name": "stderr",
          "text": [
            "\r 47%|████▋     | 28/60 [00:08<00:09,  3.52it/s]"
          ]
        },
        {
          "output_type": "stream",
          "name": "stdout",
          "text": [
            "Fine-tuning Epoch: 45, Loss: 0.4172, Accuracy: 69.98%\n"
          ]
        },
        {
          "output_type": "stream",
          "name": "stderr",
          "text": [
            "\r 48%|████▊     | 29/60 [00:08<00:09,  3.42it/s]"
          ]
        },
        {
          "output_type": "stream",
          "name": "stdout",
          "text": [
            "Fine-tuning Epoch: 45, Loss: 0.4387, Accuracy: 69.40%\n"
          ]
        },
        {
          "output_type": "stream",
          "name": "stderr",
          "text": [
            "\r 50%|█████     | 30/60 [00:08<00:08,  3.55it/s]"
          ]
        },
        {
          "output_type": "stream",
          "name": "stdout",
          "text": [
            "Fine-tuning Epoch: 45, Loss: 0.4526, Accuracy: 69.58%\n"
          ]
        },
        {
          "output_type": "stream",
          "name": "stderr",
          "text": [
            "\r 52%|█████▏    | 31/60 [00:09<00:08,  3.47it/s]"
          ]
        },
        {
          "output_type": "stream",
          "name": "stdout",
          "text": [
            "Fine-tuning Epoch: 45, Loss: 0.4648, Accuracy: 69.96%\n"
          ]
        },
        {
          "output_type": "stream",
          "name": "stderr",
          "text": [
            "\r 53%|█████▎    | 32/60 [00:09<00:07,  3.51it/s]"
          ]
        },
        {
          "output_type": "stream",
          "name": "stdout",
          "text": [
            "Fine-tuning Epoch: 45, Loss: 0.4770, Accuracy: 70.12%\n"
          ]
        },
        {
          "output_type": "stream",
          "name": "stderr",
          "text": [
            "\r 55%|█████▌    | 33/60 [00:09<00:09,  2.78it/s]"
          ]
        },
        {
          "output_type": "stream",
          "name": "stdout",
          "text": [
            "Fine-tuning Epoch: 45, Loss: 0.4959, Accuracy: 70.08%\n"
          ]
        },
        {
          "output_type": "stream",
          "name": "stderr",
          "text": [
            "\r 57%|█████▋    | 34/60 [00:10<00:08,  2.91it/s]"
          ]
        },
        {
          "output_type": "stream",
          "name": "stdout",
          "text": [
            "Fine-tuning Epoch: 45, Loss: 0.5106, Accuracy: 70.04%\n"
          ]
        },
        {
          "output_type": "stream",
          "name": "stderr",
          "text": [
            "\r 58%|█████▊    | 35/60 [00:10<00:09,  2.58it/s]"
          ]
        },
        {
          "output_type": "stream",
          "name": "stdout",
          "text": [
            "Fine-tuning Epoch: 45, Loss: 0.5309, Accuracy: 70.09%\n"
          ]
        },
        {
          "output_type": "stream",
          "name": "stderr",
          "text": [
            "\r 60%|██████    | 36/60 [00:11<00:09,  2.47it/s]"
          ]
        },
        {
          "output_type": "stream",
          "name": "stdout",
          "text": [
            "Fine-tuning Epoch: 45, Loss: 0.5480, Accuracy: 69.88%\n"
          ]
        },
        {
          "output_type": "stream",
          "name": "stderr",
          "text": [
            "\r 62%|██████▏   | 37/60 [00:11<00:09,  2.37it/s]"
          ]
        },
        {
          "output_type": "stream",
          "name": "stdout",
          "text": [
            "Fine-tuning Epoch: 45, Loss: 0.5596, Accuracy: 70.02%\n"
          ]
        },
        {
          "output_type": "stream",
          "name": "stderr",
          "text": [
            "\r 63%|██████▎   | 38/60 [00:12<00:10,  2.17it/s]"
          ]
        },
        {
          "output_type": "stream",
          "name": "stdout",
          "text": [
            "Fine-tuning Epoch: 45, Loss: 0.5720, Accuracy: 70.23%\n"
          ]
        },
        {
          "output_type": "stream",
          "name": "stderr",
          "text": [
            "\r 65%|██████▌   | 39/60 [00:12<00:09,  2.22it/s]"
          ]
        },
        {
          "output_type": "stream",
          "name": "stdout",
          "text": [
            "Fine-tuning Epoch: 45, Loss: 0.5864, Accuracy: 70.19%\n"
          ]
        },
        {
          "output_type": "stream",
          "name": "stderr",
          "text": [
            "\r 67%|██████▋   | 40/60 [00:13<00:09,  2.19it/s]"
          ]
        },
        {
          "output_type": "stream",
          "name": "stdout",
          "text": [
            "Fine-tuning Epoch: 45, Loss: 0.5997, Accuracy: 70.39%\n"
          ]
        },
        {
          "output_type": "stream",
          "name": "stderr",
          "text": [
            "\r 68%|██████▊   | 41/60 [00:13<00:08,  2.37it/s]"
          ]
        },
        {
          "output_type": "stream",
          "name": "stdout",
          "text": [
            "Fine-tuning Epoch: 45, Loss: 0.6138, Accuracy: 70.50%\n"
          ]
        },
        {
          "output_type": "stream",
          "name": "stderr",
          "text": [
            "\r 70%|███████   | 42/60 [00:13<00:07,  2.35it/s]"
          ]
        },
        {
          "output_type": "stream",
          "name": "stdout",
          "text": [
            "Fine-tuning Epoch: 45, Loss: 0.6318, Accuracy: 70.54%\n"
          ]
        },
        {
          "output_type": "stream",
          "name": "stderr",
          "text": [
            "\r 72%|███████▏  | 43/60 [00:14<00:07,  2.19it/s]"
          ]
        },
        {
          "output_type": "stream",
          "name": "stdout",
          "text": [
            "Fine-tuning Epoch: 45, Loss: 0.6469, Accuracy: 70.49%\n"
          ]
        },
        {
          "output_type": "stream",
          "name": "stderr",
          "text": [
            "\r 73%|███████▎  | 44/60 [00:14<00:07,  2.13it/s]"
          ]
        },
        {
          "output_type": "stream",
          "name": "stdout",
          "text": [
            "Fine-tuning Epoch: 45, Loss: 0.6580, Accuracy: 70.81%\n"
          ]
        },
        {
          "output_type": "stream",
          "name": "stderr",
          "text": [
            "\r 75%|███████▌  | 45/60 [00:15<00:06,  2.20it/s]"
          ]
        },
        {
          "output_type": "stream",
          "name": "stdout",
          "text": [
            "Fine-tuning Epoch: 45, Loss: 0.6736, Accuracy: 70.69%\n"
          ]
        },
        {
          "output_type": "stream",
          "name": "stderr",
          "text": [
            "\r 77%|███████▋  | 46/60 [00:15<00:05,  2.51it/s]"
          ]
        },
        {
          "output_type": "stream",
          "name": "stdout",
          "text": [
            "Fine-tuning Epoch: 45, Loss: 0.6874, Accuracy: 70.65%\n"
          ]
        },
        {
          "output_type": "stream",
          "name": "stderr",
          "text": [
            "\r 78%|███████▊  | 47/60 [00:15<00:04,  2.71it/s]"
          ]
        },
        {
          "output_type": "stream",
          "name": "stdout",
          "text": [
            "Fine-tuning Epoch: 45, Loss: 0.7011, Accuracy: 70.61%\n"
          ]
        },
        {
          "output_type": "stream",
          "name": "stderr",
          "text": [
            "\r 80%|████████  | 48/60 [00:16<00:04,  2.78it/s]"
          ]
        },
        {
          "output_type": "stream",
          "name": "stdout",
          "text": [
            "Fine-tuning Epoch: 45, Loss: 0.7144, Accuracy: 70.57%\n"
          ]
        },
        {
          "output_type": "stream",
          "name": "stderr",
          "text": [
            "\r 82%|████████▏ | 49/60 [00:16<00:03,  3.20it/s]"
          ]
        },
        {
          "output_type": "stream",
          "name": "stdout",
          "text": [
            "Fine-tuning Epoch: 45, Loss: 0.7277, Accuracy: 70.73%\n"
          ]
        },
        {
          "output_type": "stream",
          "name": "stderr",
          "text": [
            " 85%|████████▌ | 51/60 [00:17<00:02,  3.56it/s]"
          ]
        },
        {
          "output_type": "stream",
          "name": "stdout",
          "text": [
            "Fine-tuning Epoch: 45, Loss: 0.7396, Accuracy: 70.88%\n",
            "Fine-tuning Epoch: 45, Loss: 0.7509, Accuracy: 70.96%\n"
          ]
        },
        {
          "output_type": "stream",
          "name": "stderr",
          "text": [
            " 88%|████████▊ | 53/60 [00:17<00:01,  3.69it/s]"
          ]
        },
        {
          "output_type": "stream",
          "name": "stdout",
          "text": [
            "Fine-tuning Epoch: 45, Loss: 0.7679, Accuracy: 70.85%\n",
            "Fine-tuning Epoch: 45, Loss: 0.7798, Accuracy: 70.93%\n"
          ]
        },
        {
          "output_type": "stream",
          "name": "stderr",
          "text": [
            " 92%|█████████▏| 55/60 [00:18<00:01,  3.99it/s]"
          ]
        },
        {
          "output_type": "stream",
          "name": "stdout",
          "text": [
            "Fine-tuning Epoch: 45, Loss: 0.7945, Accuracy: 70.89%\n",
            "Fine-tuning Epoch: 45, Loss: 0.8019, Accuracy: 71.19%\n"
          ]
        },
        {
          "output_type": "stream",
          "name": "stderr",
          "text": [
            " 95%|█████████▌| 57/60 [00:18<00:00,  3.79it/s]"
          ]
        },
        {
          "output_type": "stream",
          "name": "stdout",
          "text": [
            "Fine-tuning Epoch: 45, Loss: 0.8145, Accuracy: 71.21%\n",
            "Fine-tuning Epoch: 45, Loss: 0.8281, Accuracy: 71.33%\n"
          ]
        },
        {
          "output_type": "stream",
          "name": "stderr",
          "text": [
            " 98%|█████████▊| 59/60 [00:19<00:00,  3.93it/s]"
          ]
        },
        {
          "output_type": "stream",
          "name": "stdout",
          "text": [
            "Fine-tuning Epoch: 45, Loss: 0.8459, Accuracy: 71.17%\n",
            "Fine-tuning Epoch: 45, Loss: 0.8606, Accuracy: 71.08%\n"
          ]
        },
        {
          "output_type": "stream",
          "name": "stderr",
          "text": [
            "100%|██████████| 60/60 [00:19<00:00,  3.06it/s]\n"
          ]
        },
        {
          "output_type": "stream",
          "name": "stdout",
          "text": [
            "Fine-tuning Epoch: 45, Loss: 0.8690, Accuracy: 71.35%\n"
          ]
        },
        {
          "output_type": "stream",
          "name": "stderr",
          "text": [
            "  3%|▎         | 2/60 [00:00<00:20,  2.79it/s]"
          ]
        },
        {
          "output_type": "stream",
          "name": "stdout",
          "text": [
            "Fine-tuning Epoch: 46, Loss: 0.0175, Accuracy: 68.75%\n",
            "Fine-tuning Epoch: 46, Loss: 0.0305, Accuracy: 70.31%\n"
          ]
        },
        {
          "output_type": "stream",
          "name": "stderr",
          "text": [
            "  7%|▋         | 4/60 [00:01<00:15,  3.56it/s]"
          ]
        },
        {
          "output_type": "stream",
          "name": "stdout",
          "text": [
            "Fine-tuning Epoch: 46, Loss: 0.0420, Accuracy: 73.96%\n",
            "Fine-tuning Epoch: 46, Loss: 0.0602, Accuracy: 73.44%\n"
          ]
        },
        {
          "output_type": "stream",
          "name": "stderr",
          "text": [
            " 10%|█         | 6/60 [00:01<00:14,  3.67it/s]"
          ]
        },
        {
          "output_type": "stream",
          "name": "stdout",
          "text": [
            "Fine-tuning Epoch: 46, Loss: 0.0717, Accuracy: 74.38%\n",
            "Fine-tuning Epoch: 46, Loss: 0.0859, Accuracy: 74.48%\n"
          ]
        },
        {
          "output_type": "stream",
          "name": "stderr",
          "text": [
            " 13%|█▎        | 8/60 [00:02<00:13,  3.72it/s]"
          ]
        },
        {
          "output_type": "stream",
          "name": "stdout",
          "text": [
            "Fine-tuning Epoch: 46, Loss: 0.1033, Accuracy: 72.77%\n",
            "Fine-tuning Epoch: 46, Loss: 0.1141, Accuracy: 74.61%\n"
          ]
        },
        {
          "output_type": "stream",
          "name": "stderr",
          "text": [
            "\r 15%|█▌        | 9/60 [00:02<00:14,  3.50it/s]"
          ]
        },
        {
          "output_type": "stream",
          "name": "stdout",
          "text": [
            "Fine-tuning Epoch: 46, Loss: 0.1273, Accuracy: 74.65%\n"
          ]
        },
        {
          "output_type": "stream",
          "name": "stderr",
          "text": [
            "\r 17%|█▋        | 10/60 [00:03<00:14,  3.53it/s]"
          ]
        },
        {
          "output_type": "stream",
          "name": "stdout",
          "text": [
            "Fine-tuning Epoch: 46, Loss: 0.1398, Accuracy: 74.69%\n"
          ]
        },
        {
          "output_type": "stream",
          "name": "stderr",
          "text": [
            "\r 18%|█▊        | 11/60 [00:03<00:13,  3.66it/s]"
          ]
        },
        {
          "output_type": "stream",
          "name": "stdout",
          "text": [
            "Fine-tuning Epoch: 46, Loss: 0.1565, Accuracy: 74.15%\n"
          ]
        },
        {
          "output_type": "stream",
          "name": "stderr",
          "text": [
            "\r 20%|██        | 12/60 [00:03<00:14,  3.34it/s]"
          ]
        },
        {
          "output_type": "stream",
          "name": "stdout",
          "text": [
            "Fine-tuning Epoch: 46, Loss: 0.1725, Accuracy: 72.92%\n"
          ]
        },
        {
          "output_type": "stream",
          "name": "stderr",
          "text": [
            "\r 22%|██▏       | 13/60 [00:03<00:13,  3.45it/s]"
          ]
        },
        {
          "output_type": "stream",
          "name": "stdout",
          "text": [
            "Fine-tuning Epoch: 46, Loss: 0.1859, Accuracy: 73.08%\n"
          ]
        },
        {
          "output_type": "stream",
          "name": "stderr",
          "text": [
            "\r 23%|██▎       | 14/60 [00:04<00:13,  3.46it/s]"
          ]
        },
        {
          "output_type": "stream",
          "name": "stdout",
          "text": [
            "Fine-tuning Epoch: 46, Loss: 0.2023, Accuracy: 72.99%\n"
          ]
        },
        {
          "output_type": "stream",
          "name": "stderr",
          "text": [
            "\r 25%|██▌       | 15/60 [00:04<00:12,  3.50it/s]"
          ]
        },
        {
          "output_type": "stream",
          "name": "stdout",
          "text": [
            "Fine-tuning Epoch: 46, Loss: 0.2174, Accuracy: 73.12%\n"
          ]
        },
        {
          "output_type": "stream",
          "name": "stderr",
          "text": [
            "\r 27%|██▋       | 16/60 [00:04<00:12,  3.51it/s]"
          ]
        },
        {
          "output_type": "stream",
          "name": "stdout",
          "text": [
            "Fine-tuning Epoch: 46, Loss: 0.2299, Accuracy: 73.24%\n"
          ]
        },
        {
          "output_type": "stream",
          "name": "stderr",
          "text": [
            "\r 28%|██▊       | 17/60 [00:05<00:11,  3.60it/s]"
          ]
        },
        {
          "output_type": "stream",
          "name": "stdout",
          "text": [
            "Fine-tuning Epoch: 46, Loss: 0.2430, Accuracy: 73.16%\n"
          ]
        },
        {
          "output_type": "stream",
          "name": "stderr",
          "text": [
            "\r 30%|███       | 18/60 [00:05<00:12,  3.45it/s]"
          ]
        },
        {
          "output_type": "stream",
          "name": "stdout",
          "text": [
            "Fine-tuning Epoch: 46, Loss: 0.2604, Accuracy: 72.22%\n"
          ]
        },
        {
          "output_type": "stream",
          "name": "stderr",
          "text": [
            "\r 32%|███▏      | 19/60 [00:05<00:11,  3.48it/s]"
          ]
        },
        {
          "output_type": "stream",
          "name": "stdout",
          "text": [
            "Fine-tuning Epoch: 46, Loss: 0.2752, Accuracy: 72.53%\n"
          ]
        },
        {
          "output_type": "stream",
          "name": "stderr",
          "text": [
            "\r 33%|███▎      | 20/60 [00:06<00:12,  3.13it/s]"
          ]
        },
        {
          "output_type": "stream",
          "name": "stdout",
          "text": [
            "Fine-tuning Epoch: 46, Loss: 0.2848, Accuracy: 72.81%\n"
          ]
        },
        {
          "output_type": "stream",
          "name": "stderr",
          "text": [
            "\r 35%|███▌      | 21/60 [00:06<00:12,  3.07it/s]"
          ]
        },
        {
          "output_type": "stream",
          "name": "stdout",
          "text": [
            "Fine-tuning Epoch: 46, Loss: 0.2949, Accuracy: 73.36%\n"
          ]
        },
        {
          "output_type": "stream",
          "name": "stderr",
          "text": [
            " 38%|███▊      | 23/60 [00:07<00:12,  2.94it/s]"
          ]
        },
        {
          "output_type": "stream",
          "name": "stdout",
          "text": [
            "Fine-tuning Epoch: 46, Loss: 0.3109, Accuracy: 73.30%\n",
            "Fine-tuning Epoch: 46, Loss: 0.3236, Accuracy: 73.37%\n"
          ]
        },
        {
          "output_type": "stream",
          "name": "stderr",
          "text": [
            "\r 40%|████      | 24/60 [00:07<00:14,  2.45it/s]"
          ]
        },
        {
          "output_type": "stream",
          "name": "stdout",
          "text": [
            "Fine-tuning Epoch: 46, Loss: 0.3365, Accuracy: 73.57%\n"
          ]
        },
        {
          "output_type": "stream",
          "name": "stderr",
          "text": [
            "\r 42%|████▏     | 25/60 [00:08<00:15,  2.33it/s]"
          ]
        },
        {
          "output_type": "stream",
          "name": "stdout",
          "text": [
            "Fine-tuning Epoch: 46, Loss: 0.3482, Accuracy: 73.88%\n"
          ]
        },
        {
          "output_type": "stream",
          "name": "stderr",
          "text": [
            "\r 43%|████▎     | 26/60 [00:08<00:14,  2.38it/s]"
          ]
        },
        {
          "output_type": "stream",
          "name": "stdout",
          "text": [
            "Fine-tuning Epoch: 46, Loss: 0.3643, Accuracy: 73.80%\n"
          ]
        },
        {
          "output_type": "stream",
          "name": "stderr",
          "text": [
            "\r 45%|████▌     | 27/60 [00:09<00:14,  2.26it/s]"
          ]
        },
        {
          "output_type": "stream",
          "name": "stdout",
          "text": [
            "Fine-tuning Epoch: 46, Loss: 0.3811, Accuracy: 73.61%\n"
          ]
        },
        {
          "output_type": "stream",
          "name": "stderr",
          "text": [
            "\r 47%|████▋     | 28/60 [00:09<00:12,  2.48it/s]"
          ]
        },
        {
          "output_type": "stream",
          "name": "stdout",
          "text": [
            "Fine-tuning Epoch: 46, Loss: 0.3969, Accuracy: 73.66%\n"
          ]
        },
        {
          "output_type": "stream",
          "name": "stderr",
          "text": [
            "\r 48%|████▊     | 29/60 [00:09<00:13,  2.33it/s]"
          ]
        },
        {
          "output_type": "stream",
          "name": "stdout",
          "text": [
            "Fine-tuning Epoch: 46, Loss: 0.4162, Accuracy: 73.38%\n"
          ]
        },
        {
          "output_type": "stream",
          "name": "stderr",
          "text": [
            "\r 50%|█████     | 30/60 [00:10<00:13,  2.30it/s]"
          ]
        },
        {
          "output_type": "stream",
          "name": "stdout",
          "text": [
            "Fine-tuning Epoch: 46, Loss: 0.4292, Accuracy: 73.54%\n"
          ]
        },
        {
          "output_type": "stream",
          "name": "stderr",
          "text": [
            "\r 52%|█████▏    | 31/60 [00:10<00:12,  2.28it/s]"
          ]
        },
        {
          "output_type": "stream",
          "name": "stdout",
          "text": [
            "Fine-tuning Epoch: 46, Loss: 0.4547, Accuracy: 72.98%\n"
          ]
        },
        {
          "output_type": "stream",
          "name": "stderr",
          "text": [
            "\r 53%|█████▎    | 32/60 [00:11<00:11,  2.40it/s]"
          ]
        },
        {
          "output_type": "stream",
          "name": "stdout",
          "text": [
            "Fine-tuning Epoch: 46, Loss: 0.4731, Accuracy: 72.75%\n"
          ]
        },
        {
          "output_type": "stream",
          "name": "stderr",
          "text": [
            "\r 55%|█████▌    | 33/60 [00:11<00:11,  2.27it/s]"
          ]
        },
        {
          "output_type": "stream",
          "name": "stdout",
          "text": [
            "Fine-tuning Epoch: 46, Loss: 0.4827, Accuracy: 73.01%\n"
          ]
        },
        {
          "output_type": "stream",
          "name": "stderr",
          "text": [
            "\r 57%|█████▋    | 34/60 [00:11<00:09,  2.69it/s]"
          ]
        },
        {
          "output_type": "stream",
          "name": "stdout",
          "text": [
            "Fine-tuning Epoch: 46, Loss: 0.4994, Accuracy: 72.61%\n"
          ]
        },
        {
          "output_type": "stream",
          "name": "stderr",
          "text": [
            " 60%|██████    | 36/60 [00:12<00:07,  3.31it/s]"
          ]
        },
        {
          "output_type": "stream",
          "name": "stdout",
          "text": [
            "Fine-tuning Epoch: 46, Loss: 0.5186, Accuracy: 72.41%\n",
            "Fine-tuning Epoch: 46, Loss: 0.5342, Accuracy: 72.40%\n"
          ]
        },
        {
          "output_type": "stream",
          "name": "stderr",
          "text": [
            " 63%|██████▎   | 38/60 [00:13<00:06,  3.55it/s]"
          ]
        },
        {
          "output_type": "stream",
          "name": "stdout",
          "text": [
            "Fine-tuning Epoch: 46, Loss: 0.5492, Accuracy: 72.13%\n",
            "Fine-tuning Epoch: 46, Loss: 0.5578, Accuracy: 72.45%\n"
          ]
        },
        {
          "output_type": "stream",
          "name": "stderr",
          "text": [
            " 67%|██████▋   | 40/60 [00:13<00:05,  3.86it/s]"
          ]
        },
        {
          "output_type": "stream",
          "name": "stdout",
          "text": [
            "Fine-tuning Epoch: 46, Loss: 0.5742, Accuracy: 72.60%\n",
            "Fine-tuning Epoch: 46, Loss: 0.5890, Accuracy: 72.58%\n"
          ]
        },
        {
          "output_type": "stream",
          "name": "stderr",
          "text": [
            " 70%|███████   | 42/60 [00:14<00:04,  3.90it/s]"
          ]
        },
        {
          "output_type": "stream",
          "name": "stdout",
          "text": [
            "Fine-tuning Epoch: 46, Loss: 0.6130, Accuracy: 72.03%\n",
            "Fine-tuning Epoch: 46, Loss: 0.6322, Accuracy: 71.88%\n"
          ]
        },
        {
          "output_type": "stream",
          "name": "stderr",
          "text": [
            " 73%|███████▎  | 44/60 [00:14<00:03,  4.02it/s]"
          ]
        },
        {
          "output_type": "stream",
          "name": "stdout",
          "text": [
            "Fine-tuning Epoch: 46, Loss: 0.6467, Accuracy: 71.88%\n",
            "Fine-tuning Epoch: 46, Loss: 0.6662, Accuracy: 71.80%\n"
          ]
        },
        {
          "output_type": "stream",
          "name": "stderr",
          "text": [
            " 77%|███████▋  | 46/60 [00:15<00:03,  3.90it/s]"
          ]
        },
        {
          "output_type": "stream",
          "name": "stdout",
          "text": [
            "Fine-tuning Epoch: 46, Loss: 0.6783, Accuracy: 71.88%\n",
            "Fine-tuning Epoch: 46, Loss: 0.7001, Accuracy: 71.67%\n"
          ]
        },
        {
          "output_type": "stream",
          "name": "stderr",
          "text": [
            " 80%|████████  | 48/60 [00:15<00:03,  3.83it/s]"
          ]
        },
        {
          "output_type": "stream",
          "name": "stdout",
          "text": [
            "Fine-tuning Epoch: 46, Loss: 0.7110, Accuracy: 71.74%\n",
            "Fine-tuning Epoch: 46, Loss: 0.7250, Accuracy: 71.68%\n"
          ]
        },
        {
          "output_type": "stream",
          "name": "stderr",
          "text": [
            " 83%|████████▎ | 50/60 [00:16<00:02,  3.90it/s]"
          ]
        },
        {
          "output_type": "stream",
          "name": "stdout",
          "text": [
            "Fine-tuning Epoch: 46, Loss: 0.7416, Accuracy: 71.49%\n",
            "Fine-tuning Epoch: 46, Loss: 0.7567, Accuracy: 71.50%\n"
          ]
        },
        {
          "output_type": "stream",
          "name": "stderr",
          "text": [
            " 87%|████████▋ | 52/60 [00:16<00:02,  3.94it/s]"
          ]
        },
        {
          "output_type": "stream",
          "name": "stdout",
          "text": [
            "Fine-tuning Epoch: 46, Loss: 0.7718, Accuracy: 71.51%\n",
            "Fine-tuning Epoch: 46, Loss: 0.7888, Accuracy: 71.57%\n"
          ]
        },
        {
          "output_type": "stream",
          "name": "stderr",
          "text": [
            "\r 88%|████████▊ | 53/60 [00:17<00:01,  3.51it/s]"
          ]
        },
        {
          "output_type": "stream",
          "name": "stdout",
          "text": [
            "Fine-tuning Epoch: 46, Loss: 0.8006, Accuracy: 71.70%\n"
          ]
        },
        {
          "output_type": "stream",
          "name": "stderr",
          "text": [
            "\r 90%|█████████ | 54/60 [00:17<00:01,  3.66it/s]"
          ]
        },
        {
          "output_type": "stream",
          "name": "stdout",
          "text": [
            "Fine-tuning Epoch: 46, Loss: 0.8137, Accuracy: 71.64%\n"
          ]
        },
        {
          "output_type": "stream",
          "name": "stderr",
          "text": [
            " 93%|█████████▎| 56/60 [00:18<00:01,  3.77it/s]"
          ]
        },
        {
          "output_type": "stream",
          "name": "stdout",
          "text": [
            "Fine-tuning Epoch: 46, Loss: 0.8297, Accuracy: 71.53%\n",
            "Fine-tuning Epoch: 46, Loss: 0.8390, Accuracy: 71.82%\n"
          ]
        },
        {
          "output_type": "stream",
          "name": "stderr",
          "text": [
            "\r 95%|█████████▌| 57/60 [00:18<00:00,  3.47it/s]"
          ]
        },
        {
          "output_type": "stream",
          "name": "stdout",
          "text": [
            "Fine-tuning Epoch: 46, Loss: 0.8548, Accuracy: 71.71%\n"
          ]
        },
        {
          "output_type": "stream",
          "name": "stderr",
          "text": [
            "\r 97%|█████████▋| 58/60 [00:18<00:00,  3.63it/s]"
          ]
        },
        {
          "output_type": "stream",
          "name": "stdout",
          "text": [
            "Fine-tuning Epoch: 46, Loss: 0.8648, Accuracy: 71.82%\n"
          ]
        },
        {
          "output_type": "stream",
          "name": "stderr",
          "text": [
            "100%|██████████| 60/60 [00:19<00:00,  3.92it/s]"
          ]
        },
        {
          "output_type": "stream",
          "name": "stdout",
          "text": [
            "Fine-tuning Epoch: 46, Loss: 0.8834, Accuracy: 71.66%\n",
            "Fine-tuning Epoch: 46, Loss: 0.9019, Accuracy: 71.61%\n"
          ]
        },
        {
          "output_type": "stream",
          "name": "stderr",
          "text": [
            "100%|██████████| 60/60 [00:19<00:00,  3.12it/s]\n",
            "  3%|▎         | 2/60 [00:00<00:20,  2.78it/s]"
          ]
        },
        {
          "output_type": "stream",
          "name": "stdout",
          "text": [
            "Fine-tuning Epoch: 47, Loss: 0.0102, Accuracy: 78.12%\n",
            "Fine-tuning Epoch: 47, Loss: 0.0242, Accuracy: 75.00%\n"
          ]
        },
        {
          "output_type": "stream",
          "name": "stderr",
          "text": [
            "  7%|▋         | 4/60 [00:01<00:16,  3.45it/s]"
          ]
        },
        {
          "output_type": "stream",
          "name": "stdout",
          "text": [
            "Fine-tuning Epoch: 47, Loss: 0.0440, Accuracy: 72.92%\n",
            "Fine-tuning Epoch: 47, Loss: 0.0555, Accuracy: 74.22%\n"
          ]
        },
        {
          "output_type": "stream",
          "name": "stderr",
          "text": [
            " 10%|█         | 6/60 [00:02<00:15,  3.51it/s]"
          ]
        },
        {
          "output_type": "stream",
          "name": "stdout",
          "text": [
            "Fine-tuning Epoch: 47, Loss: 0.0726, Accuracy: 74.38%\n",
            "Fine-tuning Epoch: 47, Loss: 0.0836, Accuracy: 75.52%\n"
          ]
        },
        {
          "output_type": "stream",
          "name": "stderr",
          "text": [
            " 13%|█▎        | 8/60 [00:02<00:15,  3.40it/s]"
          ]
        },
        {
          "output_type": "stream",
          "name": "stdout",
          "text": [
            "Fine-tuning Epoch: 47, Loss: 0.0963, Accuracy: 76.34%\n",
            "Fine-tuning Epoch: 47, Loss: 0.1104, Accuracy: 75.78%\n"
          ]
        },
        {
          "output_type": "stream",
          "name": "stderr",
          "text": [
            " 17%|█▋        | 10/60 [00:03<00:16,  2.96it/s]"
          ]
        },
        {
          "output_type": "stream",
          "name": "stdout",
          "text": [
            "Fine-tuning Epoch: 47, Loss: 0.1245, Accuracy: 75.00%\n",
            "Fine-tuning Epoch: 47, Loss: 0.1377, Accuracy: 75.31%\n"
          ]
        },
        {
          "output_type": "stream",
          "name": "stderr",
          "text": [
            " 20%|██        | 12/60 [00:04<00:17,  2.71it/s]"
          ]
        },
        {
          "output_type": "stream",
          "name": "stdout",
          "text": [
            "Fine-tuning Epoch: 47, Loss: 0.1576, Accuracy: 73.58%\n",
            "Fine-tuning Epoch: 47, Loss: 0.1696, Accuracy: 74.22%\n"
          ]
        },
        {
          "output_type": "stream",
          "name": "stderr",
          "text": [
            " 23%|██▎       | 14/60 [00:05<00:17,  2.64it/s]"
          ]
        },
        {
          "output_type": "stream",
          "name": "stdout",
          "text": [
            "Fine-tuning Epoch: 47, Loss: 0.1803, Accuracy: 74.28%\n",
            "Fine-tuning Epoch: 47, Loss: 0.1939, Accuracy: 74.33%\n"
          ]
        },
        {
          "output_type": "stream",
          "name": "stderr",
          "text": [
            " 27%|██▋       | 16/60 [00:06<00:16,  2.59it/s]"
          ]
        },
        {
          "output_type": "stream",
          "name": "stdout",
          "text": [
            "Fine-tuning Epoch: 47, Loss: 0.2018, Accuracy: 75.00%\n",
            "Fine-tuning Epoch: 47, Loss: 0.2182, Accuracy: 73.83%\n"
          ]
        },
        {
          "output_type": "stream",
          "name": "stderr",
          "text": [
            " 30%|███       | 18/60 [00:07<00:16,  2.49it/s]"
          ]
        },
        {
          "output_type": "stream",
          "name": "stdout",
          "text": [
            "Fine-tuning Epoch: 47, Loss: 0.2265, Accuracy: 74.63%\n",
            "Fine-tuning Epoch: 47, Loss: 0.2368, Accuracy: 75.17%\n"
          ]
        },
        {
          "output_type": "stream",
          "name": "stderr",
          "text": [
            " 33%|███▎      | 20/60 [00:07<00:14,  2.72it/s]"
          ]
        },
        {
          "output_type": "stream",
          "name": "stdout",
          "text": [
            "Fine-tuning Epoch: 47, Loss: 0.2479, Accuracy: 74.67%\n",
            "Fine-tuning Epoch: 47, Loss: 0.2637, Accuracy: 74.38%\n"
          ]
        },
        {
          "output_type": "stream",
          "name": "stderr",
          "text": [
            " 37%|███▋      | 22/60 [00:08<00:12,  3.15it/s]"
          ]
        },
        {
          "output_type": "stream",
          "name": "stdout",
          "text": [
            "Fine-tuning Epoch: 47, Loss: 0.2795, Accuracy: 74.11%\n",
            "Fine-tuning Epoch: 47, Loss: 0.2935, Accuracy: 74.15%\n"
          ]
        },
        {
          "output_type": "stream",
          "name": "stderr",
          "text": [
            " 40%|████      | 24/60 [00:09<00:11,  3.10it/s]"
          ]
        },
        {
          "output_type": "stream",
          "name": "stdout",
          "text": [
            "Fine-tuning Epoch: 47, Loss: 0.3038, Accuracy: 74.59%\n",
            "Fine-tuning Epoch: 47, Loss: 0.3161, Accuracy: 74.35%\n"
          ]
        },
        {
          "output_type": "stream",
          "name": "stderr",
          "text": [
            " 43%|████▎     | 26/60 [00:09<00:09,  3.44it/s]"
          ]
        },
        {
          "output_type": "stream",
          "name": "stdout",
          "text": [
            "Fine-tuning Epoch: 47, Loss: 0.3315, Accuracy: 74.00%\n",
            "Fine-tuning Epoch: 47, Loss: 0.3441, Accuracy: 74.04%\n"
          ]
        },
        {
          "output_type": "stream",
          "name": "stderr",
          "text": [
            " 47%|████▋     | 28/60 [00:10<00:08,  3.75it/s]"
          ]
        },
        {
          "output_type": "stream",
          "name": "stdout",
          "text": [
            "Fine-tuning Epoch: 47, Loss: 0.3561, Accuracy: 74.19%\n",
            "Fine-tuning Epoch: 47, Loss: 0.3693, Accuracy: 73.55%\n"
          ]
        },
        {
          "output_type": "stream",
          "name": "stderr",
          "text": [
            " 50%|█████     | 30/60 [00:11<00:07,  3.79it/s]"
          ]
        },
        {
          "output_type": "stream",
          "name": "stdout",
          "text": [
            "Fine-tuning Epoch: 47, Loss: 0.3805, Accuracy: 73.71%\n",
            "Fine-tuning Epoch: 47, Loss: 0.3942, Accuracy: 73.54%\n"
          ]
        },
        {
          "output_type": "stream",
          "name": "stderr",
          "text": [
            " 53%|█████▎    | 32/60 [00:11<00:07,  3.81it/s]"
          ]
        },
        {
          "output_type": "stream",
          "name": "stdout",
          "text": [
            "Fine-tuning Epoch: 47, Loss: 0.4130, Accuracy: 72.98%\n",
            "Fine-tuning Epoch: 47, Loss: 0.4311, Accuracy: 72.56%\n"
          ]
        },
        {
          "output_type": "stream",
          "name": "stderr",
          "text": [
            " 57%|█████▋    | 34/60 [00:12<00:06,  3.84it/s]"
          ]
        },
        {
          "output_type": "stream",
          "name": "stdout",
          "text": [
            "Fine-tuning Epoch: 47, Loss: 0.4498, Accuracy: 72.16%\n",
            "Fine-tuning Epoch: 47, Loss: 0.4627, Accuracy: 72.43%\n"
          ]
        },
        {
          "output_type": "stream",
          "name": "stderr",
          "text": [
            " 60%|██████    | 36/60 [00:12<00:06,  3.68it/s]"
          ]
        },
        {
          "output_type": "stream",
          "name": "stdout",
          "text": [
            "Fine-tuning Epoch: 47, Loss: 0.4811, Accuracy: 72.23%\n",
            "Fine-tuning Epoch: 47, Loss: 0.5033, Accuracy: 71.88%\n"
          ]
        },
        {
          "output_type": "stream",
          "name": "stderr",
          "text": [
            " 63%|██████▎   | 38/60 [00:13<00:05,  3.84it/s]"
          ]
        },
        {
          "output_type": "stream",
          "name": "stdout",
          "text": [
            "Fine-tuning Epoch: 47, Loss: 0.5129, Accuracy: 72.13%\n",
            "Fine-tuning Epoch: 47, Loss: 0.5250, Accuracy: 72.12%\n"
          ]
        },
        {
          "output_type": "stream",
          "name": "stderr",
          "text": [
            " 67%|██████▋   | 40/60 [00:13<00:04,  4.12it/s]"
          ]
        },
        {
          "output_type": "stream",
          "name": "stdout",
          "text": [
            "Fine-tuning Epoch: 47, Loss: 0.5388, Accuracy: 72.12%\n",
            "Fine-tuning Epoch: 47, Loss: 0.5517, Accuracy: 72.11%\n"
          ]
        },
        {
          "output_type": "stream",
          "name": "stderr",
          "text": [
            " 70%|███████   | 42/60 [00:14<00:04,  4.05it/s]"
          ]
        },
        {
          "output_type": "stream",
          "name": "stdout",
          "text": [
            "Fine-tuning Epoch: 47, Loss: 0.5641, Accuracy: 72.18%\n",
            "Fine-tuning Epoch: 47, Loss: 0.5741, Accuracy: 72.25%\n"
          ]
        },
        {
          "output_type": "stream",
          "name": "stderr",
          "text": [
            " 73%|███████▎  | 44/60 [00:14<00:04,  3.95it/s]"
          ]
        },
        {
          "output_type": "stream",
          "name": "stdout",
          "text": [
            "Fine-tuning Epoch: 47, Loss: 0.5930, Accuracy: 71.58%\n",
            "Fine-tuning Epoch: 47, Loss: 0.6068, Accuracy: 71.66%\n"
          ]
        },
        {
          "output_type": "stream",
          "name": "stderr",
          "text": [
            " 77%|███████▋  | 46/60 [00:15<00:03,  3.76it/s]"
          ]
        },
        {
          "output_type": "stream",
          "name": "stdout",
          "text": [
            "Fine-tuning Epoch: 47, Loss: 0.6190, Accuracy: 71.88%\n",
            "Fine-tuning Epoch: 47, Loss: 0.6271, Accuracy: 72.01%\n"
          ]
        },
        {
          "output_type": "stream",
          "name": "stderr",
          "text": [
            " 80%|████████  | 48/60 [00:16<00:03,  3.95it/s]"
          ]
        },
        {
          "output_type": "stream",
          "name": "stdout",
          "text": [
            "Fine-tuning Epoch: 47, Loss: 0.6437, Accuracy: 71.94%\n",
            "Fine-tuning Epoch: 47, Loss: 0.6570, Accuracy: 71.88%\n"
          ]
        },
        {
          "output_type": "stream",
          "name": "stderr",
          "text": [
            " 83%|████████▎ | 50/60 [00:16<00:02,  4.03it/s]"
          ]
        },
        {
          "output_type": "stream",
          "name": "stdout",
          "text": [
            "Fine-tuning Epoch: 47, Loss: 0.6687, Accuracy: 71.94%\n",
            "Fine-tuning Epoch: 47, Loss: 0.6876, Accuracy: 71.75%\n"
          ]
        },
        {
          "output_type": "stream",
          "name": "stderr",
          "text": [
            " 87%|████████▋ | 52/60 [00:17<00:02,  3.96it/s]"
          ]
        },
        {
          "output_type": "stream",
          "name": "stdout",
          "text": [
            "Fine-tuning Epoch: 47, Loss: 0.6984, Accuracy: 71.94%\n",
            "Fine-tuning Epoch: 47, Loss: 0.7158, Accuracy: 71.69%\n"
          ]
        },
        {
          "output_type": "stream",
          "name": "stderr",
          "text": [
            " 90%|█████████ | 54/60 [00:17<00:01,  3.70it/s]"
          ]
        },
        {
          "output_type": "stream",
          "name": "stdout",
          "text": [
            "Fine-tuning Epoch: 47, Loss: 0.7270, Accuracy: 71.82%\n",
            "Fine-tuning Epoch: 47, Loss: 0.7403, Accuracy: 71.82%\n"
          ]
        },
        {
          "output_type": "stream",
          "name": "stderr",
          "text": [
            " 93%|█████████▎| 56/60 [00:18<00:01,  3.03it/s]"
          ]
        },
        {
          "output_type": "stream",
          "name": "stdout",
          "text": [
            "Fine-tuning Epoch: 47, Loss: 0.7501, Accuracy: 71.99%\n",
            "Fine-tuning Epoch: 47, Loss: 0.7591, Accuracy: 72.04%\n"
          ]
        },
        {
          "output_type": "stream",
          "name": "stderr",
          "text": [
            " 97%|█████████▋| 58/60 [00:19<00:00,  3.04it/s]"
          ]
        },
        {
          "output_type": "stream",
          "name": "stdout",
          "text": [
            "Fine-tuning Epoch: 47, Loss: 0.7766, Accuracy: 72.04%\n",
            "Fine-tuning Epoch: 47, Loss: 0.7929, Accuracy: 71.88%\n"
          ]
        },
        {
          "output_type": "stream",
          "name": "stderr",
          "text": [
            "100%|██████████| 60/60 [00:20<00:00,  2.93it/s]"
          ]
        },
        {
          "output_type": "stream",
          "name": "stdout",
          "text": [
            "Fine-tuning Epoch: 47, Loss: 0.8080, Accuracy: 71.77%\n",
            "Fine-tuning Epoch: 47, Loss: 0.8186, Accuracy: 71.88%\n"
          ]
        },
        {
          "output_type": "stream",
          "name": "stderr",
          "text": [
            "\n",
            "  3%|▎         | 2/60 [00:01<00:32,  1.79it/s]"
          ]
        },
        {
          "output_type": "stream",
          "name": "stdout",
          "text": [
            "Fine-tuning Epoch: 48, Loss: 0.0152, Accuracy: 62.50%\n",
            "Fine-tuning Epoch: 48, Loss: 0.0351, Accuracy: 60.94%\n"
          ]
        },
        {
          "output_type": "stream",
          "name": "stderr",
          "text": [
            "  7%|▋         | 4/60 [00:02<00:23,  2.34it/s]"
          ]
        },
        {
          "output_type": "stream",
          "name": "stdout",
          "text": [
            "Fine-tuning Epoch: 48, Loss: 0.0454, Accuracy: 67.71%\n",
            "Fine-tuning Epoch: 48, Loss: 0.0582, Accuracy: 69.53%\n"
          ]
        },
        {
          "output_type": "stream",
          "name": "stderr",
          "text": [
            " 10%|█         | 6/60 [00:02<00:21,  2.57it/s]"
          ]
        },
        {
          "output_type": "stream",
          "name": "stdout",
          "text": [
            "Fine-tuning Epoch: 48, Loss: 0.0711, Accuracy: 69.38%\n",
            "Fine-tuning Epoch: 48, Loss: 0.0841, Accuracy: 69.79%\n"
          ]
        },
        {
          "output_type": "stream",
          "name": "stderr",
          "text": [
            " 13%|█▎        | 8/60 [00:03<00:16,  3.15it/s]"
          ]
        },
        {
          "output_type": "stream",
          "name": "stdout",
          "text": [
            "Fine-tuning Epoch: 48, Loss: 0.0965, Accuracy: 69.64%\n",
            "Fine-tuning Epoch: 48, Loss: 0.1135, Accuracy: 69.53%\n"
          ]
        },
        {
          "output_type": "stream",
          "name": "stderr",
          "text": [
            " 17%|█▋        | 10/60 [00:04<00:14,  3.45it/s]"
          ]
        },
        {
          "output_type": "stream",
          "name": "stdout",
          "text": [
            "Fine-tuning Epoch: 48, Loss: 0.1235, Accuracy: 70.49%\n",
            "Fine-tuning Epoch: 48, Loss: 0.1370, Accuracy: 70.62%\n"
          ]
        },
        {
          "output_type": "stream",
          "name": "stderr",
          "text": [
            " 20%|██        | 12/60 [00:04<00:13,  3.67it/s]"
          ]
        },
        {
          "output_type": "stream",
          "name": "stdout",
          "text": [
            "Fine-tuning Epoch: 48, Loss: 0.1485, Accuracy: 71.02%\n",
            "Fine-tuning Epoch: 48, Loss: 0.1609, Accuracy: 71.61%\n"
          ]
        },
        {
          "output_type": "stream",
          "name": "stderr",
          "text": [
            " 23%|██▎       | 14/60 [00:05<00:12,  3.70it/s]"
          ]
        },
        {
          "output_type": "stream",
          "name": "stdout",
          "text": [
            "Fine-tuning Epoch: 48, Loss: 0.1773, Accuracy: 71.63%\n",
            "Fine-tuning Epoch: 48, Loss: 0.1897, Accuracy: 71.21%\n"
          ]
        },
        {
          "output_type": "stream",
          "name": "stderr",
          "text": [
            " 27%|██▋       | 16/60 [00:05<00:11,  3.94it/s]"
          ]
        },
        {
          "output_type": "stream",
          "name": "stdout",
          "text": [
            "Fine-tuning Epoch: 48, Loss: 0.2006, Accuracy: 71.46%\n",
            "Fine-tuning Epoch: 48, Loss: 0.2110, Accuracy: 71.88%\n"
          ]
        },
        {
          "output_type": "stream",
          "name": "stderr",
          "text": [
            " 30%|███       | 18/60 [00:06<00:11,  3.79it/s]"
          ]
        },
        {
          "output_type": "stream",
          "name": "stdout",
          "text": [
            "Fine-tuning Epoch: 48, Loss: 0.2207, Accuracy: 72.24%\n",
            "Fine-tuning Epoch: 48, Loss: 0.2372, Accuracy: 72.05%\n"
          ]
        },
        {
          "output_type": "stream",
          "name": "stderr",
          "text": [
            " 33%|███▎      | 20/60 [00:06<00:10,  3.86it/s]"
          ]
        },
        {
          "output_type": "stream",
          "name": "stdout",
          "text": [
            "Fine-tuning Epoch: 48, Loss: 0.2452, Accuracy: 72.70%\n",
            "Fine-tuning Epoch: 48, Loss: 0.2543, Accuracy: 73.28%\n"
          ]
        },
        {
          "output_type": "stream",
          "name": "stderr",
          "text": [
            " 37%|███▋      | 22/60 [00:07<00:09,  4.12it/s]"
          ]
        },
        {
          "output_type": "stream",
          "name": "stdout",
          "text": [
            "Fine-tuning Epoch: 48, Loss: 0.2705, Accuracy: 72.92%\n",
            "Fine-tuning Epoch: 48, Loss: 0.2787, Accuracy: 73.44%\n"
          ]
        },
        {
          "output_type": "stream",
          "name": "stderr",
          "text": [
            " 40%|████      | 24/60 [00:08<00:09,  3.99it/s]"
          ]
        },
        {
          "output_type": "stream",
          "name": "stdout",
          "text": [
            "Fine-tuning Epoch: 48, Loss: 0.2934, Accuracy: 73.51%\n",
            "Fine-tuning Epoch: 48, Loss: 0.3040, Accuracy: 73.44%\n"
          ]
        },
        {
          "output_type": "stream",
          "name": "stderr",
          "text": [
            " 43%|████▎     | 26/60 [00:08<00:08,  3.95it/s]"
          ]
        },
        {
          "output_type": "stream",
          "name": "stdout",
          "text": [
            "Fine-tuning Epoch: 48, Loss: 0.3210, Accuracy: 73.25%\n",
            "Fine-tuning Epoch: 48, Loss: 0.3321, Accuracy: 73.08%\n"
          ]
        },
        {
          "output_type": "stream",
          "name": "stderr",
          "text": [
            " 47%|████▋     | 28/60 [00:09<00:08,  3.75it/s]"
          ]
        },
        {
          "output_type": "stream",
          "name": "stdout",
          "text": [
            "Fine-tuning Epoch: 48, Loss: 0.3448, Accuracy: 73.38%\n",
            "Fine-tuning Epoch: 48, Loss: 0.3571, Accuracy: 73.66%\n"
          ]
        },
        {
          "output_type": "stream",
          "name": "stderr",
          "text": [
            "\r 48%|████▊     | 29/60 [00:09<00:09,  3.44it/s]"
          ]
        },
        {
          "output_type": "stream",
          "name": "stdout",
          "text": [
            "Fine-tuning Epoch: 48, Loss: 0.3749, Accuracy: 73.49%\n"
          ]
        },
        {
          "output_type": "stream",
          "name": "stderr",
          "text": [
            " 52%|█████▏    | 31/60 [00:10<00:07,  3.78it/s]"
          ]
        },
        {
          "output_type": "stream",
          "name": "stdout",
          "text": [
            "Fine-tuning Epoch: 48, Loss: 0.3852, Accuracy: 73.75%\n",
            "Fine-tuning Epoch: 48, Loss: 0.3973, Accuracy: 73.79%\n"
          ]
        },
        {
          "output_type": "stream",
          "name": "stderr",
          "text": [
            " 55%|█████▌    | 33/60 [00:10<00:07,  3.79it/s]"
          ]
        },
        {
          "output_type": "stream",
          "name": "stdout",
          "text": [
            "Fine-tuning Epoch: 48, Loss: 0.4133, Accuracy: 73.54%\n",
            "Fine-tuning Epoch: 48, Loss: 0.4236, Accuracy: 73.77%\n"
          ]
        },
        {
          "output_type": "stream",
          "name": "stderr",
          "text": [
            " 58%|█████▊    | 35/60 [00:11<00:06,  3.86it/s]"
          ]
        },
        {
          "output_type": "stream",
          "name": "stdout",
          "text": [
            "Fine-tuning Epoch: 48, Loss: 0.4357, Accuracy: 73.99%\n",
            "Fine-tuning Epoch: 48, Loss: 0.4512, Accuracy: 73.93%\n"
          ]
        },
        {
          "output_type": "stream",
          "name": "stderr",
          "text": [
            " 62%|██████▏   | 37/60 [00:11<00:06,  3.82it/s]"
          ]
        },
        {
          "output_type": "stream",
          "name": "stdout",
          "text": [
            "Fine-tuning Epoch: 48, Loss: 0.4626, Accuracy: 73.96%\n",
            "Fine-tuning Epoch: 48, Loss: 0.4791, Accuracy: 73.90%\n"
          ]
        },
        {
          "output_type": "stream",
          "name": "stderr",
          "text": [
            " 65%|██████▌   | 39/60 [00:12<00:05,  3.57it/s]"
          ]
        },
        {
          "output_type": "stream",
          "name": "stdout",
          "text": [
            "Fine-tuning Epoch: 48, Loss: 0.4965, Accuracy: 73.68%\n",
            "Fine-tuning Epoch: 48, Loss: 0.5087, Accuracy: 73.48%\n"
          ]
        },
        {
          "output_type": "stream",
          "name": "stderr",
          "text": [
            "\r 67%|██████▋   | 40/60 [00:12<00:06,  3.19it/s]"
          ]
        },
        {
          "output_type": "stream",
          "name": "stdout",
          "text": [
            "Fine-tuning Epoch: 48, Loss: 0.5235, Accuracy: 73.28%\n"
          ]
        },
        {
          "output_type": "stream",
          "name": "stderr",
          "text": [
            "\r 68%|██████▊   | 41/60 [00:13<00:05,  3.29it/s]"
          ]
        },
        {
          "output_type": "stream",
          "name": "stdout",
          "text": [
            "Fine-tuning Epoch: 48, Loss: 0.5416, Accuracy: 73.17%\n"
          ]
        },
        {
          "output_type": "stream",
          "name": "stderr",
          "text": [
            "\r 70%|███████   | 42/60 [00:13<00:07,  2.33it/s]"
          ]
        },
        {
          "output_type": "stream",
          "name": "stdout",
          "text": [
            "Fine-tuning Epoch: 48, Loss: 0.5528, Accuracy: 73.14%\n"
          ]
        },
        {
          "output_type": "stream",
          "name": "stderr",
          "text": [
            "\r 72%|███████▏  | 43/60 [00:13<00:06,  2.75it/s]"
          ]
        },
        {
          "output_type": "stream",
          "name": "stdout",
          "text": [
            "Fine-tuning Epoch: 48, Loss: 0.5666, Accuracy: 73.18%\n"
          ]
        },
        {
          "output_type": "stream",
          "name": "stderr",
          "text": [
            " 75%|███████▌  | 45/60 [00:14<00:05,  2.61it/s]"
          ]
        },
        {
          "output_type": "stream",
          "name": "stdout",
          "text": [
            "Fine-tuning Epoch: 48, Loss: 0.5855, Accuracy: 72.80%\n",
            "Fine-tuning Epoch: 48, Loss: 0.6099, Accuracy: 72.43%\n"
          ]
        },
        {
          "output_type": "stream",
          "name": "stderr",
          "text": [
            " 78%|███████▊  | 47/60 [00:15<00:04,  2.64it/s]"
          ]
        },
        {
          "output_type": "stream",
          "name": "stdout",
          "text": [
            "Fine-tuning Epoch: 48, Loss: 0.6219, Accuracy: 72.49%\n",
            "Fine-tuning Epoch: 48, Loss: 0.6476, Accuracy: 72.01%\n"
          ]
        },
        {
          "output_type": "stream",
          "name": "stderr",
          "text": [
            " 82%|████████▏ | 49/60 [00:16<00:04,  2.60it/s]"
          ]
        },
        {
          "output_type": "stream",
          "name": "stdout",
          "text": [
            "Fine-tuning Epoch: 48, Loss: 0.6632, Accuracy: 71.88%\n",
            "Fine-tuning Epoch: 48, Loss: 0.6771, Accuracy: 71.94%\n"
          ]
        },
        {
          "output_type": "stream",
          "name": "stderr",
          "text": [
            " 85%|████████▌ | 51/60 [00:17<00:03,  2.51it/s]"
          ]
        },
        {
          "output_type": "stream",
          "name": "stdout",
          "text": [
            "Fine-tuning Epoch: 48, Loss: 0.6880, Accuracy: 72.00%\n",
            "Fine-tuning Epoch: 48, Loss: 0.6982, Accuracy: 72.12%\n"
          ]
        },
        {
          "output_type": "stream",
          "name": "stderr",
          "text": [
            " 88%|████████▊ | 53/60 [00:18<00:02,  2.54it/s]"
          ]
        },
        {
          "output_type": "stream",
          "name": "stdout",
          "text": [
            "Fine-tuning Epoch: 48, Loss: 0.7082, Accuracy: 72.42%\n",
            "Fine-tuning Epoch: 48, Loss: 0.7246, Accuracy: 72.46%\n"
          ]
        },
        {
          "output_type": "stream",
          "name": "stderr",
          "text": [
            " 92%|█████████▏| 55/60 [00:19<00:01,  3.02it/s]"
          ]
        },
        {
          "output_type": "stream",
          "name": "stdout",
          "text": [
            "Fine-tuning Epoch: 48, Loss: 0.7364, Accuracy: 72.45%\n",
            "Fine-tuning Epoch: 48, Loss: 0.7552, Accuracy: 72.27%\n"
          ]
        },
        {
          "output_type": "stream",
          "name": "stderr",
          "text": [
            " 95%|█████████▌| 57/60 [00:19<00:00,  3.48it/s]"
          ]
        },
        {
          "output_type": "stream",
          "name": "stdout",
          "text": [
            "Fine-tuning Epoch: 48, Loss: 0.7674, Accuracy: 72.27%\n",
            "Fine-tuning Epoch: 48, Loss: 0.7810, Accuracy: 72.15%\n"
          ]
        },
        {
          "output_type": "stream",
          "name": "stderr",
          "text": [
            " 98%|█████████▊| 59/60 [00:20<00:00,  3.93it/s]"
          ]
        },
        {
          "output_type": "stream",
          "name": "stdout",
          "text": [
            "Fine-tuning Epoch: 48, Loss: 0.7947, Accuracy: 72.09%\n",
            "Fine-tuning Epoch: 48, Loss: 0.8052, Accuracy: 72.19%\n"
          ]
        },
        {
          "output_type": "stream",
          "name": "stderr",
          "text": [
            "100%|██████████| 60/60 [00:20<00:00,  2.93it/s]\n"
          ]
        },
        {
          "output_type": "stream",
          "name": "stdout",
          "text": [
            "Fine-tuning Epoch: 48, Loss: 0.8175, Accuracy: 72.19%\n"
          ]
        },
        {
          "output_type": "stream",
          "name": "stderr",
          "text": [
            "  3%|▎         | 2/60 [00:00<00:21,  2.67it/s]"
          ]
        },
        {
          "output_type": "stream",
          "name": "stdout",
          "text": [
            "Fine-tuning Epoch: 49, Loss: 0.0100, Accuracy: 87.50%\n",
            "Fine-tuning Epoch: 49, Loss: 0.0264, Accuracy: 75.00%\n"
          ]
        },
        {
          "output_type": "stream",
          "name": "stderr",
          "text": [
            "  7%|▋         | 4/60 [00:01<00:16,  3.39it/s]"
          ]
        },
        {
          "output_type": "stream",
          "name": "stdout",
          "text": [
            "Fine-tuning Epoch: 49, Loss: 0.0447, Accuracy: 69.79%\n",
            "Fine-tuning Epoch: 49, Loss: 0.0590, Accuracy: 70.31%\n"
          ]
        },
        {
          "output_type": "stream",
          "name": "stderr",
          "text": [
            " 10%|█         | 6/60 [00:02<00:15,  3.55it/s]"
          ]
        },
        {
          "output_type": "stream",
          "name": "stdout",
          "text": [
            "Fine-tuning Epoch: 49, Loss: 0.0720, Accuracy: 70.62%\n",
            "Fine-tuning Epoch: 49, Loss: 0.0819, Accuracy: 71.35%\n"
          ]
        },
        {
          "output_type": "stream",
          "name": "stderr",
          "text": [
            " 13%|█▎        | 8/60 [00:02<00:14,  3.68it/s]"
          ]
        },
        {
          "output_type": "stream",
          "name": "stdout",
          "text": [
            "Fine-tuning Epoch: 49, Loss: 0.0951, Accuracy: 70.09%\n",
            "Fine-tuning Epoch: 49, Loss: 0.1220, Accuracy: 66.80%\n"
          ]
        },
        {
          "output_type": "stream",
          "name": "stderr",
          "text": [
            " 17%|█▋        | 10/60 [00:03<00:13,  3.80it/s]"
          ]
        },
        {
          "output_type": "stream",
          "name": "stdout",
          "text": [
            "Fine-tuning Epoch: 49, Loss: 0.1362, Accuracy: 68.06%\n",
            "Fine-tuning Epoch: 49, Loss: 0.1486, Accuracy: 69.06%\n"
          ]
        },
        {
          "output_type": "stream",
          "name": "stderr",
          "text": [
            " 20%|██        | 12/60 [00:03<00:12,  3.88it/s]"
          ]
        },
        {
          "output_type": "stream",
          "name": "stdout",
          "text": [
            "Fine-tuning Epoch: 49, Loss: 0.1582, Accuracy: 70.45%\n",
            "Fine-tuning Epoch: 49, Loss: 0.1764, Accuracy: 69.27%\n"
          ]
        },
        {
          "output_type": "stream",
          "name": "stderr",
          "text": [
            " 23%|██▎       | 14/60 [00:04<00:12,  3.77it/s]"
          ]
        },
        {
          "output_type": "stream",
          "name": "stdout",
          "text": [
            "Fine-tuning Epoch: 49, Loss: 0.1925, Accuracy: 69.47%\n",
            "Fine-tuning Epoch: 49, Loss: 0.2047, Accuracy: 69.87%\n"
          ]
        },
        {
          "output_type": "stream",
          "name": "stderr",
          "text": [
            " 27%|██▋       | 16/60 [00:04<00:11,  3.86it/s]"
          ]
        },
        {
          "output_type": "stream",
          "name": "stdout",
          "text": [
            "Fine-tuning Epoch: 49, Loss: 0.2193, Accuracy: 70.00%\n",
            "Fine-tuning Epoch: 49, Loss: 0.2273, Accuracy: 71.09%\n"
          ]
        },
        {
          "output_type": "stream",
          "name": "stderr",
          "text": [
            " 30%|███       | 18/60 [00:05<00:10,  3.85it/s]"
          ]
        },
        {
          "output_type": "stream",
          "name": "stdout",
          "text": [
            "Fine-tuning Epoch: 49, Loss: 0.2372, Accuracy: 71.69%\n",
            "Fine-tuning Epoch: 49, Loss: 0.2487, Accuracy: 71.70%\n"
          ]
        },
        {
          "output_type": "stream",
          "name": "stderr",
          "text": [
            " 33%|███▎      | 20/60 [00:06<00:10,  3.95it/s]"
          ]
        },
        {
          "output_type": "stream",
          "name": "stdout",
          "text": [
            "Fine-tuning Epoch: 49, Loss: 0.2691, Accuracy: 71.22%\n",
            "Fine-tuning Epoch: 49, Loss: 0.2803, Accuracy: 71.72%\n"
          ]
        },
        {
          "output_type": "stream",
          "name": "stderr",
          "text": [
            " 37%|███▋      | 22/60 [00:06<00:09,  3.96it/s]"
          ]
        },
        {
          "output_type": "stream",
          "name": "stdout",
          "text": [
            "Fine-tuning Epoch: 49, Loss: 0.2976, Accuracy: 71.13%\n",
            "Fine-tuning Epoch: 49, Loss: 0.3092, Accuracy: 71.31%\n"
          ]
        },
        {
          "output_type": "stream",
          "name": "stderr",
          "text": [
            " 40%|████      | 24/60 [00:07<00:09,  3.87it/s]"
          ]
        },
        {
          "output_type": "stream",
          "name": "stdout",
          "text": [
            "Fine-tuning Epoch: 49, Loss: 0.3248, Accuracy: 71.06%\n",
            "Fine-tuning Epoch: 49, Loss: 0.3340, Accuracy: 71.22%\n"
          ]
        },
        {
          "output_type": "stream",
          "name": "stderr",
          "text": [
            " 43%|████▎     | 26/60 [00:07<00:09,  3.74it/s]"
          ]
        },
        {
          "output_type": "stream",
          "name": "stdout",
          "text": [
            "Fine-tuning Epoch: 49, Loss: 0.3501, Accuracy: 71.12%\n",
            "Fine-tuning Epoch: 49, Loss: 0.3648, Accuracy: 71.03%\n"
          ]
        },
        {
          "output_type": "stream",
          "name": "stderr",
          "text": [
            " 47%|████▋     | 28/60 [00:08<00:10,  3.06it/s]"
          ]
        },
        {
          "output_type": "stream",
          "name": "stdout",
          "text": [
            "Fine-tuning Epoch: 49, Loss: 0.3778, Accuracy: 70.83%\n",
            "Fine-tuning Epoch: 49, Loss: 0.3904, Accuracy: 71.09%\n"
          ]
        },
        {
          "output_type": "stream",
          "name": "stderr",
          "text": [
            " 50%|█████     | 30/60 [00:09<00:10,  2.84it/s]"
          ]
        },
        {
          "output_type": "stream",
          "name": "stdout",
          "text": [
            "Fine-tuning Epoch: 49, Loss: 0.3998, Accuracy: 71.66%\n",
            "Fine-tuning Epoch: 49, Loss: 0.4140, Accuracy: 71.67%\n"
          ]
        },
        {
          "output_type": "stream",
          "name": "stderr",
          "text": [
            " 53%|█████▎    | 32/60 [00:10<00:11,  2.49it/s]"
          ]
        },
        {
          "output_type": "stream",
          "name": "stdout",
          "text": [
            "Fine-tuning Epoch: 49, Loss: 0.4230, Accuracy: 71.88%\n",
            "Fine-tuning Epoch: 49, Loss: 0.4387, Accuracy: 71.48%\n"
          ]
        },
        {
          "output_type": "stream",
          "name": "stderr",
          "text": [
            " 57%|█████▋    | 34/60 [00:11<00:10,  2.60it/s]"
          ]
        },
        {
          "output_type": "stream",
          "name": "stdout",
          "text": [
            "Fine-tuning Epoch: 49, Loss: 0.4520, Accuracy: 71.40%\n",
            "Fine-tuning Epoch: 49, Loss: 0.4692, Accuracy: 71.32%\n"
          ]
        },
        {
          "output_type": "stream",
          "name": "stderr",
          "text": [
            " 60%|██████    | 36/60 [00:12<00:09,  2.53it/s]"
          ]
        },
        {
          "output_type": "stream",
          "name": "stdout",
          "text": [
            "Fine-tuning Epoch: 49, Loss: 0.4827, Accuracy: 71.25%\n",
            "Fine-tuning Epoch: 49, Loss: 0.4963, Accuracy: 71.18%\n"
          ]
        },
        {
          "output_type": "stream",
          "name": "stderr",
          "text": [
            " 63%|██████▎   | 38/60 [00:13<00:08,  2.62it/s]"
          ]
        },
        {
          "output_type": "stream",
          "name": "stdout",
          "text": [
            "Fine-tuning Epoch: 49, Loss: 0.5104, Accuracy: 71.45%\n",
            "Fine-tuning Epoch: 49, Loss: 0.5260, Accuracy: 71.30%\n"
          ]
        },
        {
          "output_type": "stream",
          "name": "stderr",
          "text": [
            " 67%|██████▋   | 40/60 [00:13<00:06,  3.07it/s]"
          ]
        },
        {
          "output_type": "stream",
          "name": "stdout",
          "text": [
            "Fine-tuning Epoch: 49, Loss: 0.5423, Accuracy: 71.23%\n",
            "Fine-tuning Epoch: 49, Loss: 0.5564, Accuracy: 71.33%\n"
          ]
        },
        {
          "output_type": "stream",
          "name": "stderr",
          "text": [
            " 70%|███████   | 42/60 [00:14<00:05,  3.48it/s]"
          ]
        },
        {
          "output_type": "stream",
          "name": "stdout",
          "text": [
            "Fine-tuning Epoch: 49, Loss: 0.5651, Accuracy: 71.80%\n",
            "Fine-tuning Epoch: 49, Loss: 0.5786, Accuracy: 71.88%\n"
          ]
        },
        {
          "output_type": "stream",
          "name": "stderr",
          "text": [
            " 73%|███████▎  | 44/60 [00:14<00:04,  3.55it/s]"
          ]
        },
        {
          "output_type": "stream",
          "name": "stdout",
          "text": [
            "Fine-tuning Epoch: 49, Loss: 0.5937, Accuracy: 71.73%\n",
            "Fine-tuning Epoch: 49, Loss: 0.6088, Accuracy: 71.59%\n"
          ]
        },
        {
          "output_type": "stream",
          "name": "stderr",
          "text": [
            " 77%|███████▋  | 46/60 [00:15<00:03,  3.72it/s]"
          ]
        },
        {
          "output_type": "stream",
          "name": "stdout",
          "text": [
            "Fine-tuning Epoch: 49, Loss: 0.6235, Accuracy: 71.53%\n",
            "Fine-tuning Epoch: 49, Loss: 0.6446, Accuracy: 71.26%\n"
          ]
        },
        {
          "output_type": "stream",
          "name": "stderr",
          "text": [
            " 80%|████████  | 48/60 [00:16<00:03,  3.81it/s]"
          ]
        },
        {
          "output_type": "stream",
          "name": "stdout",
          "text": [
            "Fine-tuning Epoch: 49, Loss: 0.6532, Accuracy: 71.54%\n",
            "Fine-tuning Epoch: 49, Loss: 0.6604, Accuracy: 71.74%\n"
          ]
        },
        {
          "output_type": "stream",
          "name": "stderr",
          "text": [
            " 83%|████████▎ | 50/60 [00:16<00:02,  3.89it/s]"
          ]
        },
        {
          "output_type": "stream",
          "name": "stdout",
          "text": [
            "Fine-tuning Epoch: 49, Loss: 0.6730, Accuracy: 71.81%\n",
            "Fine-tuning Epoch: 49, Loss: 0.6851, Accuracy: 71.88%\n"
          ]
        },
        {
          "output_type": "stream",
          "name": "stderr",
          "text": [
            " 87%|████████▋ | 52/60 [00:17<00:02,  3.80it/s]"
          ]
        },
        {
          "output_type": "stream",
          "name": "stdout",
          "text": [
            "Fine-tuning Epoch: 49, Loss: 0.6983, Accuracy: 71.94%\n",
            "Fine-tuning Epoch: 49, Loss: 0.7164, Accuracy: 72.00%\n"
          ]
        },
        {
          "output_type": "stream",
          "name": "stderr",
          "text": [
            " 90%|█████████ | 54/60 [00:17<00:01,  4.09it/s]"
          ]
        },
        {
          "output_type": "stream",
          "name": "stdout",
          "text": [
            "Fine-tuning Epoch: 49, Loss: 0.7269, Accuracy: 71.93%\n",
            "Fine-tuning Epoch: 49, Loss: 0.7365, Accuracy: 72.05%\n"
          ]
        },
        {
          "output_type": "stream",
          "name": "stderr",
          "text": [
            " 93%|█████████▎| 56/60 [00:18<00:01,  3.92it/s]"
          ]
        },
        {
          "output_type": "stream",
          "name": "stdout",
          "text": [
            "Fine-tuning Epoch: 49, Loss: 0.7513, Accuracy: 71.99%\n",
            "Fine-tuning Epoch: 49, Loss: 0.7656, Accuracy: 72.04%\n"
          ]
        },
        {
          "output_type": "stream",
          "name": "stderr",
          "text": [
            " 97%|█████████▋| 58/60 [00:18<00:00,  3.87it/s]"
          ]
        },
        {
          "output_type": "stream",
          "name": "stdout",
          "text": [
            "Fine-tuning Epoch: 49, Loss: 0.7784, Accuracy: 72.04%\n",
            "Fine-tuning Epoch: 49, Loss: 0.7886, Accuracy: 72.20%\n"
          ]
        },
        {
          "output_type": "stream",
          "name": "stderr",
          "text": [
            "100%|██████████| 60/60 [00:19<00:00,  3.09it/s]\n"
          ]
        },
        {
          "output_type": "stream",
          "name": "stdout",
          "text": [
            "Fine-tuning Epoch: 49, Loss: 0.8034, Accuracy: 72.25%\n",
            "Fine-tuning Epoch: 49, Loss: 0.8206, Accuracy: 72.08%\n"
          ]
        },
        {
          "output_type": "stream",
          "name": "stderr",
          "text": [
            "  3%|▎         | 2/60 [00:00<00:22,  2.59it/s]"
          ]
        },
        {
          "output_type": "stream",
          "name": "stdout",
          "text": [
            "Fine-tuning Epoch: 50, Loss: 0.0110, Accuracy: 81.25%\n",
            "Fine-tuning Epoch: 50, Loss: 0.0214, Accuracy: 81.25%\n"
          ]
        },
        {
          "output_type": "stream",
          "name": "stderr",
          "text": [
            "  7%|▋         | 4/60 [00:01<00:17,  3.26it/s]"
          ]
        },
        {
          "output_type": "stream",
          "name": "stdout",
          "text": [
            "Fine-tuning Epoch: 50, Loss: 0.0350, Accuracy: 78.12%\n",
            "Fine-tuning Epoch: 50, Loss: 0.0487, Accuracy: 77.34%\n"
          ]
        },
        {
          "output_type": "stream",
          "name": "stderr",
          "text": [
            " 10%|█         | 6/60 [00:02<00:14,  3.61it/s]"
          ]
        },
        {
          "output_type": "stream",
          "name": "stdout",
          "text": [
            "Fine-tuning Epoch: 50, Loss: 0.0591, Accuracy: 77.50%\n",
            "Fine-tuning Epoch: 50, Loss: 0.0792, Accuracy: 73.44%\n"
          ]
        },
        {
          "output_type": "stream",
          "name": "stderr",
          "text": [
            " 13%|█▎        | 8/60 [00:02<00:13,  3.76it/s]"
          ]
        },
        {
          "output_type": "stream",
          "name": "stdout",
          "text": [
            "Fine-tuning Epoch: 50, Loss: 0.1003, Accuracy: 70.09%\n",
            "Fine-tuning Epoch: 50, Loss: 0.1106, Accuracy: 70.70%\n"
          ]
        },
        {
          "output_type": "stream",
          "name": "stderr",
          "text": [
            " 17%|█▋        | 10/60 [00:03<00:12,  3.90it/s]"
          ]
        },
        {
          "output_type": "stream",
          "name": "stdout",
          "text": [
            "Fine-tuning Epoch: 50, Loss: 0.1262, Accuracy: 71.88%\n",
            "Fine-tuning Epoch: 50, Loss: 0.1398, Accuracy: 71.25%\n"
          ]
        },
        {
          "output_type": "stream",
          "name": "stderr",
          "text": [
            " 20%|██        | 12/60 [00:03<00:12,  3.77it/s]"
          ]
        },
        {
          "output_type": "stream",
          "name": "stdout",
          "text": [
            "Fine-tuning Epoch: 50, Loss: 0.1542, Accuracy: 71.31%\n",
            "Fine-tuning Epoch: 50, Loss: 0.1642, Accuracy: 71.88%\n"
          ]
        },
        {
          "output_type": "stream",
          "name": "stderr",
          "text": [
            " 23%|██▎       | 14/60 [00:04<00:15,  2.92it/s]"
          ]
        },
        {
          "output_type": "stream",
          "name": "stdout",
          "text": [
            "Fine-tuning Epoch: 50, Loss: 0.1766, Accuracy: 72.36%\n",
            "Fine-tuning Epoch: 50, Loss: 0.1923, Accuracy: 72.10%\n"
          ]
        },
        {
          "output_type": "stream",
          "name": "stderr",
          "text": [
            " 27%|██▋       | 16/60 [00:05<00:17,  2.52it/s]"
          ]
        },
        {
          "output_type": "stream",
          "name": "stdout",
          "text": [
            "Fine-tuning Epoch: 50, Loss: 0.2118, Accuracy: 71.67%\n",
            "Fine-tuning Epoch: 50, Loss: 0.2312, Accuracy: 70.90%\n"
          ]
        },
        {
          "output_type": "stream",
          "name": "stderr",
          "text": [
            " 30%|███       | 18/60 [00:06<00:16,  2.52it/s]"
          ]
        },
        {
          "output_type": "stream",
          "name": "stdout",
          "text": [
            "Fine-tuning Epoch: 50, Loss: 0.2440, Accuracy: 71.32%\n",
            "Fine-tuning Epoch: 50, Loss: 0.2574, Accuracy: 71.35%\n"
          ]
        },
        {
          "output_type": "stream",
          "name": "stderr",
          "text": [
            " 33%|███▎      | 20/60 [00:07<00:15,  2.64it/s]"
          ]
        },
        {
          "output_type": "stream",
          "name": "stdout",
          "text": [
            "Fine-tuning Epoch: 50, Loss: 0.2768, Accuracy: 71.55%\n",
            "Fine-tuning Epoch: 50, Loss: 0.2904, Accuracy: 71.56%\n"
          ]
        },
        {
          "output_type": "stream",
          "name": "stderr",
          "text": [
            " 37%|███▋      | 22/60 [00:08<00:14,  2.68it/s]"
          ]
        },
        {
          "output_type": "stream",
          "name": "stdout",
          "text": [
            "Fine-tuning Epoch: 50, Loss: 0.3023, Accuracy: 71.58%\n",
            "Fine-tuning Epoch: 50, Loss: 0.3243, Accuracy: 70.88%\n"
          ]
        },
        {
          "output_type": "stream",
          "name": "stderr",
          "text": [
            " 40%|████      | 24/60 [00:09<00:13,  2.70it/s]"
          ]
        },
        {
          "output_type": "stream",
          "name": "stdout",
          "text": [
            "Fine-tuning Epoch: 50, Loss: 0.3398, Accuracy: 71.06%\n",
            "Fine-tuning Epoch: 50, Loss: 0.3554, Accuracy: 71.22%\n"
          ]
        },
        {
          "output_type": "stream",
          "name": "stderr",
          "text": [
            " 43%|████▎     | 26/60 [00:09<00:11,  3.03it/s]"
          ]
        },
        {
          "output_type": "stream",
          "name": "stdout",
          "text": [
            "Fine-tuning Epoch: 50, Loss: 0.3741, Accuracy: 71.12%\n",
            "Fine-tuning Epoch: 50, Loss: 0.3858, Accuracy: 71.27%\n"
          ]
        },
        {
          "output_type": "stream",
          "name": "stderr",
          "text": [
            " 47%|████▋     | 28/60 [00:10<00:08,  3.57it/s]"
          ]
        },
        {
          "output_type": "stream",
          "name": "stdout",
          "text": [
            "Fine-tuning Epoch: 50, Loss: 0.3990, Accuracy: 71.18%\n",
            "Fine-tuning Epoch: 50, Loss: 0.4140, Accuracy: 71.32%\n"
          ]
        },
        {
          "output_type": "stream",
          "name": "stderr",
          "text": [
            " 50%|█████     | 30/60 [00:10<00:07,  3.78it/s]"
          ]
        },
        {
          "output_type": "stream",
          "name": "stdout",
          "text": [
            "Fine-tuning Epoch: 50, Loss: 0.4289, Accuracy: 71.44%\n",
            "Fine-tuning Epoch: 50, Loss: 0.4444, Accuracy: 71.35%\n"
          ]
        },
        {
          "output_type": "stream",
          "name": "stderr",
          "text": [
            " 53%|█████▎    | 32/60 [00:11<00:06,  4.13it/s]"
          ]
        },
        {
          "output_type": "stream",
          "name": "stdout",
          "text": [
            "Fine-tuning Epoch: 50, Loss: 0.4572, Accuracy: 71.37%\n",
            "Fine-tuning Epoch: 50, Loss: 0.4720, Accuracy: 71.19%\n"
          ]
        },
        {
          "output_type": "stream",
          "name": "stderr",
          "text": [
            " 57%|█████▋    | 34/60 [00:11<00:06,  3.89it/s]"
          ]
        },
        {
          "output_type": "stream",
          "name": "stdout",
          "text": [
            "Fine-tuning Epoch: 50, Loss: 0.4879, Accuracy: 71.02%\n",
            "Fine-tuning Epoch: 50, Loss: 0.4998, Accuracy: 71.23%\n"
          ]
        },
        {
          "output_type": "stream",
          "name": "stderr",
          "text": [
            " 60%|██████    | 36/60 [00:12<00:06,  3.86it/s]"
          ]
        },
        {
          "output_type": "stream",
          "name": "stdout",
          "text": [
            "Fine-tuning Epoch: 50, Loss: 0.5162, Accuracy: 71.25%\n",
            "Fine-tuning Epoch: 50, Loss: 0.5311, Accuracy: 71.09%\n"
          ]
        },
        {
          "output_type": "stream",
          "name": "stderr",
          "text": [
            " 63%|██████▎   | 38/60 [00:13<00:05,  3.90it/s]"
          ]
        },
        {
          "output_type": "stream",
          "name": "stdout",
          "text": [
            "Fine-tuning Epoch: 50, Loss: 0.5418, Accuracy: 71.28%\n",
            "Fine-tuning Epoch: 50, Loss: 0.5545, Accuracy: 71.38%\n"
          ]
        },
        {
          "output_type": "stream",
          "name": "stderr",
          "text": [
            " 67%|██████▋   | 40/60 [00:13<00:05,  3.81it/s]"
          ]
        },
        {
          "output_type": "stream",
          "name": "stdout",
          "text": [
            "Fine-tuning Epoch: 50, Loss: 0.5644, Accuracy: 71.71%\n",
            "Fine-tuning Epoch: 50, Loss: 0.5776, Accuracy: 71.80%\n"
          ]
        },
        {
          "output_type": "stream",
          "name": "stderr",
          "text": [
            " 70%|███████   | 42/60 [00:14<00:04,  3.96it/s]"
          ]
        },
        {
          "output_type": "stream",
          "name": "stdout",
          "text": [
            "Fine-tuning Epoch: 50, Loss: 0.5949, Accuracy: 71.49%\n",
            "Fine-tuning Epoch: 50, Loss: 0.6132, Accuracy: 71.13%\n"
          ]
        },
        {
          "output_type": "stream",
          "name": "stderr",
          "text": [
            " 73%|███████▎  | 44/60 [00:14<00:03,  4.01it/s]"
          ]
        },
        {
          "output_type": "stream",
          "name": "stdout",
          "text": [
            "Fine-tuning Epoch: 50, Loss: 0.6219, Accuracy: 71.44%\n",
            "Fine-tuning Epoch: 50, Loss: 0.6368, Accuracy: 71.38%\n"
          ]
        },
        {
          "output_type": "stream",
          "name": "stderr",
          "text": [
            " 77%|███████▋  | 46/60 [00:15<00:03,  3.94it/s]"
          ]
        },
        {
          "output_type": "stream",
          "name": "stdout",
          "text": [
            "Fine-tuning Epoch: 50, Loss: 0.6559, Accuracy: 71.18%\n",
            "Fine-tuning Epoch: 50, Loss: 0.6674, Accuracy: 71.26%\n"
          ]
        },
        {
          "output_type": "stream",
          "name": "stderr",
          "text": [
            " 80%|████████  | 48/60 [00:15<00:03,  3.92it/s]"
          ]
        },
        {
          "output_type": "stream",
          "name": "stdout",
          "text": [
            "Fine-tuning Epoch: 50, Loss: 0.6793, Accuracy: 71.34%\n",
            "Fine-tuning Epoch: 50, Loss: 0.6981, Accuracy: 71.22%\n"
          ]
        },
        {
          "output_type": "stream",
          "name": "stderr",
          "text": [
            " 83%|████████▎ | 50/60 [00:16<00:02,  3.96it/s]"
          ]
        },
        {
          "output_type": "stream",
          "name": "stdout",
          "text": [
            "Fine-tuning Epoch: 50, Loss: 0.7107, Accuracy: 71.11%\n",
            "Fine-tuning Epoch: 50, Loss: 0.7226, Accuracy: 71.12%\n"
          ]
        },
        {
          "output_type": "stream",
          "name": "stderr",
          "text": [
            " 87%|████████▋ | 52/60 [00:16<00:01,  4.05it/s]"
          ]
        },
        {
          "output_type": "stream",
          "name": "stdout",
          "text": [
            "Fine-tuning Epoch: 50, Loss: 0.7408, Accuracy: 70.96%\n",
            "Fine-tuning Epoch: 50, Loss: 0.7549, Accuracy: 71.09%\n"
          ]
        },
        {
          "output_type": "stream",
          "name": "stderr",
          "text": [
            " 90%|█████████ | 54/60 [00:17<00:01,  4.05it/s]"
          ]
        },
        {
          "output_type": "stream",
          "name": "stdout",
          "text": [
            "Fine-tuning Epoch: 50, Loss: 0.7636, Accuracy: 71.29%\n",
            "Fine-tuning Epoch: 50, Loss: 0.7795, Accuracy: 71.30%\n"
          ]
        },
        {
          "output_type": "stream",
          "name": "stderr",
          "text": [
            " 93%|█████████▎| 56/60 [00:18<00:00,  4.06it/s]"
          ]
        },
        {
          "output_type": "stream",
          "name": "stdout",
          "text": [
            "Fine-tuning Epoch: 50, Loss: 0.7913, Accuracy: 71.36%\n",
            "Fine-tuning Epoch: 50, Loss: 0.8008, Accuracy: 71.37%\n"
          ]
        },
        {
          "output_type": "stream",
          "name": "stderr",
          "text": [
            " 97%|█████████▋| 58/60 [00:18<00:00,  3.99it/s]"
          ]
        },
        {
          "output_type": "stream",
          "name": "stdout",
          "text": [
            "Fine-tuning Epoch: 50, Loss: 0.8106, Accuracy: 71.49%\n",
            "Fine-tuning Epoch: 50, Loss: 0.8266, Accuracy: 71.44%\n"
          ]
        },
        {
          "output_type": "stream",
          "name": "stderr",
          "text": [
            "100%|██████████| 60/60 [00:19<00:00,  3.12it/s]"
          ]
        },
        {
          "output_type": "stream",
          "name": "stdout",
          "text": [
            "Fine-tuning Epoch: 50, Loss: 0.8397, Accuracy: 71.56%\n",
            "Fine-tuning Epoch: 50, Loss: 0.8511, Accuracy: 71.67%\n"
          ]
        },
        {
          "output_type": "stream",
          "name": "stderr",
          "text": [
            "\n",
            "100%|██████████| 13/13 [00:03<00:00,  3.83it/s]"
          ]
        },
        {
          "output_type": "stream",
          "name": "stdout",
          "text": [
            "Test Accuracy: 71.75%\n"
          ]
        },
        {
          "output_type": "stream",
          "name": "stderr",
          "text": [
            "\n"
          ]
        }
      ]
    },
    {
      "cell_type": "markdown",
      "source": [
        "# ***OBSERVATION DECK***\n",
        "\n",
        "* Given Datatset : - 2400 Images\n",
        "* Classes : -  16\n",
        "\n",
        "## Base Code\n",
        "* Accuracy:-  45-50%\n",
        "\n",
        "## SSL\n",
        "* Accuracy:-  51%\n",
        "\n",
        "## DINO\n",
        "* Accuracy:-  71.25%  \n",
        "\n",
        "## MOCO\n",
        "* Accuracy:-  71%\n",
        "\n",
        "## MAE\n",
        "* Accuracy:-  73.75%\n",
        "\n",
        "## AUG Data\n",
        "* Accuracy:-  71.75%\n"
      ],
      "metadata": {
        "id": "qNz5N3Cq76_U"
      }
    }
  ],
  "metadata": {
    "colab": {
      "provenance": [],
      "gpuType": "T4",
      "toc_visible": true,
      "mount_file_id": "1x-90ToaIIKEWBri5gSzg8gR70VkD2SYj",
      "authorship_tag": "ABX9TyPwe/DrTZJy40Q7JmtbIQ0t",
      "include_colab_link": true
    },
    "kernelspec": {
      "display_name": "Python 3",
      "name": "python3"
    },
    "language_info": {
      "name": "python"
    },
    "accelerator": "GPU"
  },
  "nbformat": 4,
  "nbformat_minor": 0
}